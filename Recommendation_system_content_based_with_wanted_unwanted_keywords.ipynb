{
  "cells": [
    {
      "cell_type": "markdown",
      "metadata": {
        "id": "view-in-github",
        "colab_type": "text"
      },
      "source": [
        "<a href=\"https://colab.research.google.com/github/Siliconvalley4uYouthProjects/SpringBoard-Swatcloud/blob/main/Recommendation_system_content_based_with_wanted_unwanted_keywords.ipynb\" target=\"_parent\"><img src=\"https://colab.research.google.com/assets/colab-badge.svg\" alt=\"Open In Colab\"/></a>"
      ]
    },
    {
      "cell_type": "code",
      "execution_count": 2,
      "id": "8b95be44",
      "metadata": {
        "id": "8b95be44"
      },
      "outputs": [],
      "source": [
        "# Importing libraries\n",
        "\n",
        "import pandas as pd\n",
        "from sklearn.feature_extraction.text import CountVectorizer\n",
        "from sklearn.metrics.pairwise import cosine_similarity"
      ]
    },
    {
      "cell_type": "code",
      "execution_count": 3,
      "id": "a10a9d33",
      "metadata": {
        "id": "a10a9d33"
      },
      "outputs": [],
      "source": [
        "# Reading the file with the keyword field as string\n",
        "\n",
        "df = pd.read_csv('jobs_wanted_unwanted_keywords_string.csv')"
      ]
    },
    {
      "cell_type": "code",
      "execution_count": 4,
      "id": "b90547dc",
      "metadata": {
        "id": "b90547dc",
        "outputId": "55a7a9a5-dd4b-4fac-be78-8c9f30237045",
        "colab": {
          "base_uri": "https://localhost:8080/"
        }
      },
      "outputs": [
        {
          "output_type": "execute_result",
          "data": {
            "text/plain": [
              "Company                  0\n",
              "Title                    0\n",
              "Technical Keywords       0\n",
              "Nontechnical Keywords    0\n",
              "dtype: int64"
            ]
          },
          "metadata": {},
          "execution_count": 4
        }
      ],
      "source": [
        "# Checking for null values\n",
        "df.isna().sum()"
      ]
    },
    {
      "cell_type": "code",
      "execution_count": 5,
      "id": "87f39614",
      "metadata": {
        "id": "87f39614"
      },
      "outputs": [],
      "source": [
        "# get the index of id\n",
        "def index_from_id(df,id):\n",
        "\n",
        " return df[df.index==id].index.values[0]\n",
        "\n",
        "# id: the one you want to match, it can be student id or company id, if it is student, then retrieve all companys skillset, and create a dataframe,(match company for a given student)\n",
        "# and if it is company id, then retrieve all students skillset, and create a dataframe(match students for a given company)\n",
        "# df: dataframe needed to be make\n",
        "#cosine_similarity_matrix: converted from dataframe[keyword] column\n",
        "#number_of_recommendations: the number you want to match\n",
        "def recommendations( id, df,cosine_similarity_matrix,number_of_recommendations):\n",
        "\n",
        "  index = index_from_id(df,id)\n",
        "\n",
        "  similarity_scores = list(enumerate(cosine_similarity_matrix[index]))\n",
        "\n",
        "  similarity_scores_sorted = sorted(similarity_scores, key=lambda x: x[1], reverse=True)\n",
        "\n",
        "  recommendations_indices = [t[0] for t in similarity_scores_sorted[1:(number_of_recommendations+1)]]\n",
        "  # this could be df['ID'] \n",
        "  return df['Title'].iloc[recommendations_indices]"
      ]
    },
    {
      "cell_type": "code",
      "execution_count": 6,
      "id": "467e0620",
      "metadata": {
        "id": "467e0620"
      },
      "outputs": [],
      "source": [
        "vect = CountVectorizer(stop_words='english')\n",
        "# transform df['Technical Keywords'] into matrix\n",
        "vect_matrix = vect.fit_transform(df['Technical Keywords'])\n",
        "vect_matrix\n",
        "# get the cosine_similarity_matrix\n",
        "cosine_similarity_matrix_count_based = cosine_similarity(vect_matrix, vect_matrix)"
      ]
    },
    {
      "cell_type": "code",
      "source": [
        "#Testing the function\n",
        "recommendations(10,df,cosine_similarity_matrix_count_based,5)"
      ],
      "metadata": {
        "colab": {
          "base_uri": "https://localhost:8080/"
        },
        "id": "ZxhSt2dYyliO",
        "outputId": "c33723c3-f540-428b-9dc8-0a5616360098"
      },
      "id": "ZxhSt2dYyliO",
      "execution_count": 21,
      "outputs": [
        {
          "output_type": "execute_result",
          "data": {
            "text/plain": [
              "42           Sr Software Dev Engineer, Business Payments\n",
              "13                         Software Development Engineer\n",
              "31                  Software Development Engineer , CTPS\n",
              "249    Sr. Software Development Engineer - AWS DNS, A...\n",
              "2                          Software Development Engineer\n",
              "Name: Title, dtype: object"
            ]
          },
          "metadata": {},
          "execution_count": 21
        }
      ]
    },
    {
      "cell_type": "code",
      "execution_count": 8,
      "id": "068f08df",
      "metadata": {
        "id": "068f08df",
        "outputId": "9d586969-4207-410d-f259-2da055df4170",
        "colab": {
          "base_uri": "https://localhost:8080/"
        }
      },
      "outputs": [
        {
          "output_type": "execute_result",
          "data": {
            "text/plain": [
              "[(42, 0.9649012813540149),\n",
              " (13, 0.947514248563855),\n",
              " (31, 0.9468641529479991),\n",
              " (249, 0.9291641968594219),\n",
              " (2, 0.8934271123648286)]"
            ]
          },
          "metadata": {},
          "execution_count": 8
        }
      ],
      "source": [
        "# Manually checking if the function works as expected\n",
        "# Taking the keyword string in the 10th index value as the qualifications of an applicant.\n",
        "\n",
        "similarity_scores = list(enumerate(cosine_similarity_matrix_count_based[10]))\n",
        "\n",
        "# Sort similarity scores.\n",
        "# Using index [1:6] for top 5 similar because the one in the 0 index value \n",
        "# is the key word string itself we are trying to match.\n",
        "\n",
        "similarity_scores_sorted = sorted(similarity_scores, key=lambda x: x[1], reverse=True)\n",
        "similarity_scores_sorted[1:6]"
      ]
    },
    {
      "cell_type": "code",
      "execution_count": 9,
      "id": "849bc1f4",
      "metadata": {
        "id": "849bc1f4",
        "outputId": "74ef9060-dc30-4115-d533-2db2028d360d",
        "colab": {
          "base_uri": "https://localhost:8080/",
          "height": 206
        }
      },
      "outputs": [
        {
          "output_type": "execute_result",
          "data": {
            "text/plain": [
              "                                                 Title  \\\n",
              "42         Sr Software Dev Engineer, Business Payments   \n",
              "13                       Software Development Engineer   \n",
              "31                Software Development Engineer , CTPS   \n",
              "249  Sr. Software Development Engineer - AWS DNS, A...   \n",
              "2                        Software Development Engineer   \n",
              "\n",
              "                                    Technical Keywords  \n",
              "42   ['', 'language', 'development', 'ui', 'design'...  \n",
              "13   ['', 'language', 'development', 'ui', 'design'...  \n",
              "31   ['', 'language', 'development', 'ui', 'managem...  \n",
              "249  ['', 'language', 'development', 'ui', 'design'...  \n",
              "2    ['web', '', 'language', 'development', 'ui', '...  "
            ],
            "text/html": [
              "\n",
              "  <div id=\"df-6d2915c8-ca4e-4d43-b0e3-713d0baa917f\">\n",
              "    <div class=\"colab-df-container\">\n",
              "      <div>\n",
              "<style scoped>\n",
              "    .dataframe tbody tr th:only-of-type {\n",
              "        vertical-align: middle;\n",
              "    }\n",
              "\n",
              "    .dataframe tbody tr th {\n",
              "        vertical-align: top;\n",
              "    }\n",
              "\n",
              "    .dataframe thead th {\n",
              "        text-align: right;\n",
              "    }\n",
              "</style>\n",
              "<table border=\"1\" class=\"dataframe\">\n",
              "  <thead>\n",
              "    <tr style=\"text-align: right;\">\n",
              "      <th></th>\n",
              "      <th>Title</th>\n",
              "      <th>Technical Keywords</th>\n",
              "    </tr>\n",
              "  </thead>\n",
              "  <tbody>\n",
              "    <tr>\n",
              "      <th>42</th>\n",
              "      <td>Sr Software Dev Engineer, Business Payments</td>\n",
              "      <td>['', 'language', 'development', 'ui', 'design'...</td>\n",
              "    </tr>\n",
              "    <tr>\n",
              "      <th>13</th>\n",
              "      <td>Software Development Engineer</td>\n",
              "      <td>['', 'language', 'development', 'ui', 'design'...</td>\n",
              "    </tr>\n",
              "    <tr>\n",
              "      <th>31</th>\n",
              "      <td>Software Development Engineer , CTPS</td>\n",
              "      <td>['', 'language', 'development', 'ui', 'managem...</td>\n",
              "    </tr>\n",
              "    <tr>\n",
              "      <th>249</th>\n",
              "      <td>Sr. Software Development Engineer - AWS DNS, A...</td>\n",
              "      <td>['', 'language', 'development', 'ui', 'design'...</td>\n",
              "    </tr>\n",
              "    <tr>\n",
              "      <th>2</th>\n",
              "      <td>Software Development Engineer</td>\n",
              "      <td>['web', '', 'language', 'development', 'ui', '...</td>\n",
              "    </tr>\n",
              "  </tbody>\n",
              "</table>\n",
              "</div>\n",
              "      <button class=\"colab-df-convert\" onclick=\"convertToInteractive('df-6d2915c8-ca4e-4d43-b0e3-713d0baa917f')\"\n",
              "              title=\"Convert this dataframe to an interactive table.\"\n",
              "              style=\"display:none;\">\n",
              "        \n",
              "  <svg xmlns=\"http://www.w3.org/2000/svg\" height=\"24px\"viewBox=\"0 0 24 24\"\n",
              "       width=\"24px\">\n",
              "    <path d=\"M0 0h24v24H0V0z\" fill=\"none\"/>\n",
              "    <path d=\"M18.56 5.44l.94 2.06.94-2.06 2.06-.94-2.06-.94-.94-2.06-.94 2.06-2.06.94zm-11 1L8.5 8.5l.94-2.06 2.06-.94-2.06-.94L8.5 2.5l-.94 2.06-2.06.94zm10 10l.94 2.06.94-2.06 2.06-.94-2.06-.94-.94-2.06-.94 2.06-2.06.94z\"/><path d=\"M17.41 7.96l-1.37-1.37c-.4-.4-.92-.59-1.43-.59-.52 0-1.04.2-1.43.59L10.3 9.45l-7.72 7.72c-.78.78-.78 2.05 0 2.83L4 21.41c.39.39.9.59 1.41.59.51 0 1.02-.2 1.41-.59l7.78-7.78 2.81-2.81c.8-.78.8-2.07 0-2.86zM5.41 20L4 18.59l7.72-7.72 1.47 1.35L5.41 20z\"/>\n",
              "  </svg>\n",
              "      </button>\n",
              "      \n",
              "  <style>\n",
              "    .colab-df-container {\n",
              "      display:flex;\n",
              "      flex-wrap:wrap;\n",
              "      gap: 12px;\n",
              "    }\n",
              "\n",
              "    .colab-df-convert {\n",
              "      background-color: #E8F0FE;\n",
              "      border: none;\n",
              "      border-radius: 50%;\n",
              "      cursor: pointer;\n",
              "      display: none;\n",
              "      fill: #1967D2;\n",
              "      height: 32px;\n",
              "      padding: 0 0 0 0;\n",
              "      width: 32px;\n",
              "    }\n",
              "\n",
              "    .colab-df-convert:hover {\n",
              "      background-color: #E2EBFA;\n",
              "      box-shadow: 0px 1px 2px rgba(60, 64, 67, 0.3), 0px 1px 3px 1px rgba(60, 64, 67, 0.15);\n",
              "      fill: #174EA6;\n",
              "    }\n",
              "\n",
              "    [theme=dark] .colab-df-convert {\n",
              "      background-color: #3B4455;\n",
              "      fill: #D2E3FC;\n",
              "    }\n",
              "\n",
              "    [theme=dark] .colab-df-convert:hover {\n",
              "      background-color: #434B5C;\n",
              "      box-shadow: 0px 1px 3px 1px rgba(0, 0, 0, 0.15);\n",
              "      filter: drop-shadow(0px 1px 2px rgba(0, 0, 0, 0.3));\n",
              "      fill: #FFFFFF;\n",
              "    }\n",
              "  </style>\n",
              "\n",
              "      <script>\n",
              "        const buttonEl =\n",
              "          document.querySelector('#df-6d2915c8-ca4e-4d43-b0e3-713d0baa917f button.colab-df-convert');\n",
              "        buttonEl.style.display =\n",
              "          google.colab.kernel.accessAllowed ? 'block' : 'none';\n",
              "\n",
              "        async function convertToInteractive(key) {\n",
              "          const element = document.querySelector('#df-6d2915c8-ca4e-4d43-b0e3-713d0baa917f');\n",
              "          const dataTable =\n",
              "            await google.colab.kernel.invokeFunction('convertToInteractive',\n",
              "                                                     [key], {});\n",
              "          if (!dataTable) return;\n",
              "\n",
              "          const docLinkHtml = 'Like what you see? Visit the ' +\n",
              "            '<a target=\"_blank\" href=https://colab.research.google.com/notebooks/data_table.ipynb>data table notebook</a>'\n",
              "            + ' to learn more about interactive tables.';\n",
              "          element.innerHTML = '';\n",
              "          dataTable['output_type'] = 'display_data';\n",
              "          await google.colab.output.renderOutput(dataTable, element);\n",
              "          const docLink = document.createElement('div');\n",
              "          docLink.innerHTML = docLinkHtml;\n",
              "          element.appendChild(docLink);\n",
              "        }\n",
              "      </script>\n",
              "    </div>\n",
              "  </div>\n",
              "  "
            ]
          },
          "metadata": {},
          "execution_count": 9
        }
      ],
      "source": [
        "# The recommended jobs\n",
        "\n",
        "recommendations_indices = [t[0] for t in similarity_scores_sorted[1:6]]\n",
        "df[['Title', 'Technical Keywords']].iloc[recommendations_indices]"
      ]
    },
    {
      "cell_type": "markdown",
      "source": [
        "These recommendations match with the output that the recommendations function had above.\n"
      ],
      "metadata": {
        "id": "2wJk1r-vFLRJ"
      },
      "id": "2wJk1r-vFLRJ"
    },
    {
      "cell_type": "code",
      "execution_count": 10,
      "id": "7909d6db",
      "metadata": {
        "id": "7909d6db",
        "outputId": "ea3fb88c-8f8c-453c-f691-78a79cab0cd9",
        "colab": {
          "base_uri": "https://localhost:8080/"
        }
      },
      "outputs": [
        {
          "output_type": "stream",
          "name": "stdout",
          "text": [
            "Software Engineer\n",
            "['', 'language', 'development', 'ui', 'design', 'management', 'r', 'software', 'engineering', 'systems', 'computer', 'code', 'application', 'engineer', 'programming', 'architecture', 'communication', 'testing', 'agile', 'coding', 'scaling', 'software development', 'computer science']\n"
          ]
        }
      ],
      "source": [
        "# the job that was taken as an applicant's qualification\n",
        "\n",
        "print(df['Title'].iloc[10])\n",
        "print(df['Technical Keywords'].iloc[10])"
      ]
    },
    {
      "cell_type": "code",
      "execution_count": 11,
      "id": "fac56f47",
      "metadata": {
        "id": "fac56f47",
        "outputId": "b9236981-0ade-407d-a64c-77b89d81da64",
        "colab": {
          "base_uri": "https://localhost:8080/"
        }
      },
      "outputs": [
        {
          "output_type": "stream",
          "name": "stdout",
          "text": [
            "['', 'language', 'development', 'ui', 'design', 'management', 'r', 'software', 'engineering', 'systems', 'computer', 'code', 'engineer', 'programming', 'architecture', 'communication', 'testing', 'coding', 'scaling', 'software development', 'computer science']\n",
            "['', 'language', 'development', 'ui', 'design', 'management', 'r', 'software', 'engineering', 'systems', 'computer', 'code', 'product', 'engineer', 'programming', 'architecture', 'communication', 'testing', 'coding', 'scaling', 'software development', 'computer science']\n",
            "['', 'language', 'development', 'ui', 'management', 'r', 'software', 'engineering', 'systems', 'computer', 'code', 'application', 'engineer', 'programming', 'communication', 'testing', 'agile', 'coding', 'software development', 'computer science']\n",
            "['', 'language', 'development', 'ui', 'design', 'management', 'r', 'software', 'engineering', 'systems', 'computer', 'code', 'engineer', 'programming', 'bachelor', 'architecture', 'testing', 'coding', 'scaling', 'software development', 'computer science']\n",
            "['web', '', 'language', 'development', 'ui', 'design', 'management', 'r', 'software', 'engineering', 'systems', 'computer', 'engineer', 'programming', 'architecture', 'testing', 'coding', 'scaling', 'linux', 'software development', 'computer science']\n"
          ]
        }
      ],
      "source": [
        "# The keywords that were listed in the qualification requirements of the recommended jobs\n",
        "\n",
        "for i in recommendations_indices:\n",
        "    print(df['Technical Keywords'].iloc[i])"
      ]
    },
    {
      "cell_type": "markdown",
      "id": "462a2b2e",
      "metadata": {
        "id": "462a2b2e"
      },
      "source": [
        "### The below key words were in the text we are trying to match as well as the 5 recommended jobs. This model seem to pick relevant job descriptions.\n",
        "\n",
        "    ui design\n",
        "    management\n",
        "    software engineering\n",
        "    product engineer\n",
        "    architecture\n",
        "    security\n",
        "    r"
      ]
    },
    {
      "cell_type": "code",
      "execution_count": 15,
      "id": "d497d037",
      "metadata": {
        "id": "d497d037"
      },
      "outputs": [],
      "source": [
        "#Testing the algorithm without any indeed jobs\n",
        "df2 = pd.read_csv('jobs_wanted_unwanted_keywords_without_indeed_string.csv')\n",
        "vect2 = CountVectorizer(stop_words='english')\n",
        "# transform df['Technical Keywords'] into matrix\n",
        "vect_matrix2 = vect2.fit_transform(df2['Technical Keywords'])\n",
        "# get the cosine_similarity_matrix\n",
        "cosine_similarity_matrix_count_based2 = cosine_similarity(vect_matrix2, vect_matrix2)"
      ]
    },
    {
      "cell_type": "code",
      "source": [
        "recommendations(10,df,cosine_similarity_matrix_count_based2,5)"
      ],
      "metadata": {
        "colab": {
          "base_uri": "https://localhost:8080/"
        },
        "id": "sTqLNrh0NHLf",
        "outputId": "bc973006-740b-45a3-dc11-fa635744fdef"
      },
      "id": "sTqLNrh0NHLf",
      "execution_count": 20,
      "outputs": [
        {
          "output_type": "execute_result",
          "data": {
            "text/plain": [
              "42           Sr Software Dev Engineer, Business Payments\n",
              "13                         Software Development Engineer\n",
              "31                  Software Development Engineer , CTPS\n",
              "249    Sr. Software Development Engineer - AWS DNS, A...\n",
              "2                          Software Development Engineer\n",
              "Name: Title, dtype: object"
            ]
          },
          "metadata": {},
          "execution_count": 20
        }
      ]
    },
    {
      "cell_type": "markdown",
      "source": [
        "The same 5 jobs are recommended with or without the inclusion of jobs listed on indeed. This isn't surprising since all of the recommended jobs in our example were other Amazon jobs anyways."
      ],
      "metadata": {
        "id": "s4YK8151NMk9"
      },
      "id": "s4YK8151NMk9"
    }
  ],
  "metadata": {
    "kernelspec": {
      "display_name": "Python 3 (ipykernel)",
      "language": "python",
      "name": "python3"
    },
    "language_info": {
      "codemirror_mode": {
        "name": "ipython",
        "version": 3
      },
      "file_extension": ".py",
      "mimetype": "text/x-python",
      "name": "python",
      "nbconvert_exporter": "python",
      "pygments_lexer": "ipython3",
      "version": "3.9.7"
    },
    "colab": {
      "provenance": [],
      "include_colab_link": true
    }
  },
  "nbformat": 4,
  "nbformat_minor": 5
}
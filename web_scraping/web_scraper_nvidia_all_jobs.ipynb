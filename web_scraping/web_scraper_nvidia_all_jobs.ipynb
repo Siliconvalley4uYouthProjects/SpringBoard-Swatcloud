{
 "cells": [
  {
   "cell_type": "code",
   "execution_count": 44,
   "id": "3667fa7f",
   "metadata": {},
   "outputs": [],
   "source": [
    "from selenium import webdriver\n",
    "from bs4 import BeautifulSoup\n",
    "import time\n",
    "import re\n",
    "import pandas as pd"
   ]
  },
  {
   "cell_type": "code",
   "execution_count": 45,
   "id": "c4682543",
   "metadata": {},
   "outputs": [],
   "source": [
    "chrome_options = webdriver.ChromeOptions()\n",
    "chrome_options.add_argument('--headless')\n",
    "chrome_options.add_argument('--no-sandbox')\n",
    "chrome_options.add_argument('--disable-dev-shm-usage')"
   ]
  },
  {
   "cell_type": "code",
   "execution_count": 46,
   "id": "a1e8ae6d",
   "metadata": {},
   "outputs": [],
   "source": [
    "# specify the url strings for the company's job posting website\n",
    "url = 'https://nvidia.wd5.myworkdayjobs.com/NVIDIAExternalCareerSite'\n",
    "driver = webdriver.Chrome()\n",
    "driver.implicitly_wait(2)\n",
    "driver.get(url)"
   ]
  },
  {
   "cell_type": "code",
   "execution_count": 47,
   "id": "7c64fc76",
   "metadata": {},
   "outputs": [],
   "source": [
    "# get job titles and links for each page and click the next button to go to the next page until no more\n",
    "job_title=[]\n",
    "job_link=[]\n",
    "\n",
    "next_button = driver.find_element('xpath', '//*[@aria-label=\"next\"]')  \n",
    "while next_button:\n",
    "    soup = BeautifulSoup(driver.page_source, 'html.parser')\n",
    "    \n",
    "    job_title.extend([td.text for td in soup.findAll(\"a\", {\"data-automation-id\": \"jobTitle\"})])\n",
    "    job_link.extend(['https://nvidia.wd5.myworkdayjobs.com' + td['href'] for td in soup.findAll(\"a\", {\"data-automation-id\": \"jobTitle\"})])\n",
    "    try:\n",
    "        next_button.click()\n",
    "        time.sleep(1)\n",
    "    except: break"
   ]
  },
  {
   "cell_type": "code",
   "execution_count": 48,
   "id": "4f397bc2",
   "metadata": {},
   "outputs": [],
   "source": [
    "# create a dataframe that contains job titles and links for all job categories\n",
    "df_title_link = pd.DataFrame(zip(job_title, job_link), columns=['JOB_TITLE', 'JOB_LINK'])\n",
    "\n",
    "# drop the duplicates\n",
    "df_title_link = df_title_link.drop_duplicates()"
   ]
  },
  {
   "cell_type": "markdown",
   "id": "03336eff",
   "metadata": {},
   "source": [
    "## Extract job descriptions and qualifications for each job"
   ]
  },
  {
   "cell_type": "code",
   "execution_count": 49,
   "id": "b47f8be0",
   "metadata": {},
   "outputs": [],
   "source": [
    "# retrieve job qualifications and descriptions\n",
    "def job_description(title, link):\n",
    "    qualifications = []\n",
    "    description = []\n",
    "    jobtitle = []\n",
    "    joblink = []\n",
    "\n",
    "    driver=webdriver.Chrome('chromedriver',options=chrome_options)\n",
    "    for i in range(len(link)):\n",
    "        URL=link[i]\n",
    "        driver.get(URL)\n",
    "        time.sleep(1)\n",
    "        soup = BeautifulSoup(driver.page_source, 'html.parser')\n",
    "        \n",
    "        s = ''\n",
    "        d = ''\n",
    "\n",
    "        text_pattern_descrp = re.compile(\"ll be doing\", re.IGNORECASE)\n",
    "        text_pattern_qual_1 = re.compile(\"what we need to see\", re.IGNORECASE)        \n",
    "        text_pattern_qual_2 = re.compile(\"ways to stand out from the crowd\", re.IGNORECASE)  \n",
    "        \n",
    "        try:\n",
    "          tag = soup.find(\"b\", text=text_pattern_qual_1).findNext(\"ul\")\n",
    "          s = s + tag.text\n",
    "        except: pass\n",
    "        \n",
    "        try:\n",
    "          tag = soup.find('b', text=text_pattern_qual_2).findNext(\"ul\")\n",
    "          s = s + tag.text\n",
    "        except: pass\n",
    "\n",
    "        try:\n",
    "          tag = soup.find(\"b\", text=text_pattern_descrp).findNext(\"ul\")\n",
    "          d = tag.text\n",
    "        except: pass\n",
    "        \n",
    "        qualifications.append(s)\n",
    "        description.append(d)   \n",
    "        jobtitle.append(title[i])\n",
    "        joblink.append(link[i])\n",
    "        \n",
    "    driver.quit()            \n",
    " \n",
    "    return jobtitle, link, qualifications, description"
   ]
  },
  {
   "cell_type": "code",
   "execution_count": 50,
   "id": "a337813d",
   "metadata": {},
   "outputs": [
    {
     "name": "stdout",
     "output_type": "stream",
     "text": [
      "660 660\n"
     ]
    }
   ],
   "source": [
    "# retrieve the qualification for each job.\n",
    "title, link, qual, descrp = job_description(df_title_link['JOB_TITLE'].values, df_title_link['JOB_LINK'].values)\n",
    "print(len(qual), len(descrp))"
   ]
  },
  {
   "cell_type": "code",
   "execution_count": 51,
   "id": "98f0d0e5",
   "metadata": {},
   "outputs": [],
   "source": [
    "def remove_space(s):\n",
    "    s_new = s.replace('\\n', '')\n",
    "  while '  ' in s_new:\n",
    "    s_new = s_new.replace('  ', ' ')\n",
    "  return s_new\n",
    "\n",
    "\n",
    "# look for empty QUALIFICATION entries\n",
    "def get_empty(df, colname) :\n",
    "  empty_idx=[]\n",
    "  for i in range(len(df[colname])):\n",
    "    count = len(df[colname][i])\n",
    "    if count<=10 : empty_idx.append(i)\n",
    "    else: pass\n",
    "  return empty_idx"
   ]
  },
  {
   "cell_type": "code",
   "execution_count": 52,
   "id": "68b3da2b",
   "metadata": {},
   "outputs": [],
   "source": [
    "# do some cleaning\n",
    "qual_cleaned = [remove_space(q) for q in qual]\n",
    "descrp_cleaned = [remove_space(d) for d in descrp]\n",
    "\n",
    "#create a dataframe from qualifications and descriptions\n",
    "df = pd.DataFrame(zip(title, qual_cleaned, link, descrp_cleaned))\n",
    "df.columns = ['TITLE', 'QUALIFICATIONS', 'LINK', 'DESCRIPTION']\n",
    "df['COMPANY'] = 'Nvidia'\n",
    "df = df.iloc[:, [4, 0, 1, 2, 3]]"
   ]
  },
  {
   "cell_type": "code",
   "execution_count": 53,
   "id": "536adc52",
   "metadata": {},
   "outputs": [
    {
     "name": "stdout",
     "output_type": "stream",
     "text": [
      "There are 627 jobs from Nvidia.\n"
     ]
    }
   ],
   "source": [
    "# drop the empty Qualification entries\n",
    "empty_mini_q = get_empty(df, 'QUALIFICATIONS')\n",
    "df.drop(empty_mini_q, inplace=True)\n",
    "\n",
    "#remove the duplicated jobs\n",
    "df_nodup = df.drop_duplicates()\n",
    "print(\"There are {} jobs from Nvidia.\".format(df_nodup.shape[0]))\n",
    "\n",
    "# save the output file\n",
    "df_nodup.to_csv('nvidia_all_jobs_cleaned.csv')"
   ]
  }
 ],
 "metadata": {
  "kernelspec": {
   "display_name": "Python 3 (ipykernel)",
   "language": "python",
   "name": "python3"
  },
  "language_info": {
   "codemirror_mode": {
    "name": "ipython",
    "version": 3
   },
   "file_extension": ".py",
   "mimetype": "text/x-python",
   "name": "python",
   "nbconvert_exporter": "python",
   "pygments_lexer": "ipython3",
   "version": "3.10.4"
  }
 },
 "nbformat": 4,
 "nbformat_minor": 5
}

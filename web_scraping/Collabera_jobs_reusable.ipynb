{
 "cells": [
  {
   "cell_type": "code",
   "execution_count": 10,
   "id": "aa8ed824",
   "metadata": {},
   "outputs": [],
   "source": [
    "from selenium import webdriver\n",
    "import pandas as pd\n",
    "import numpy as np"
   ]
  },
  {
   "cell_type": "code",
   "execution_count": 3,
   "id": "1d66dda9",
   "metadata": {},
   "outputs": [],
   "source": [
    "x = 1\n",
    "i = 1\n",
    "job_title = []\n",
    "job_link = []\n",
    "\n",
    "driver = webdriver.Chrome()\n",
    "driver.implicitly_wait(20)\n",
    "\n",
    "while x != 0:\n",
    "\n",
    "    try:\n",
    "    \n",
    "        url = 'https://collabera.com/job-search/?sort_by=&industry=&keyword=&location=&Posteddays=0&q='+str(i)\n",
    "\n",
    "        driver.get(url)\n",
    "    \n",
    "        for j in range(1,11):\n",
    "            title = driver.find_element_by_xpath('/html/body/div[1]/section[3]/div/div/div[2]/div/div[2]/div['+str(j)+']/div/a/h5')\n",
    "            job_title.append(title.text)\n",
    "\n",
    "            link = driver.find_element_by_xpath('/html/body/div[1]/section[3]/div/div/div[2]/div/div[2]/div['+str(j)+']/div/a')\n",
    "            job_link.append(link.get_attribute('href'))    \n",
    "\n",
    "    except:\n",
    "        x -= 1\n",
    "    \n",
    "    i +=1\n",
    "\n",
    "driver.close()"
   ]
  },
  {
   "cell_type": "code",
   "execution_count": 4,
   "id": "707d78ed",
   "metadata": {},
   "outputs": [
    {
     "name": "stdout",
     "output_type": "stream",
     "text": [
      "1094 1094\n"
     ]
    }
   ],
   "source": [
    "print(len(job_link), len(job_title))"
   ]
  },
  {
   "cell_type": "code",
   "execution_count": 5,
   "id": "727ef009",
   "metadata": {},
   "outputs": [
    {
     "data": {
      "text/html": [
       "<div>\n",
       "<style scoped>\n",
       "    .dataframe tbody tr th:only-of-type {\n",
       "        vertical-align: middle;\n",
       "    }\n",
       "\n",
       "    .dataframe tbody tr th {\n",
       "        vertical-align: top;\n",
       "    }\n",
       "\n",
       "    .dataframe thead th {\n",
       "        text-align: right;\n",
       "    }\n",
       "</style>\n",
       "<table border=\"1\" class=\"dataframe\">\n",
       "  <thead>\n",
       "    <tr style=\"text-align: right;\">\n",
       "      <th></th>\n",
       "      <th>job_title</th>\n",
       "      <th>job_link</th>\n",
       "    </tr>\n",
       "  </thead>\n",
       "  <tbody>\n",
       "    <tr>\n",
       "      <th>0</th>\n",
       "      <td>Administrative Support</td>\n",
       "      <td>https://collabera.com/job-description/?post=32...</td>\n",
       "    </tr>\n",
       "    <tr>\n",
       "      <th>1</th>\n",
       "      <td>Customer Service Representative</td>\n",
       "      <td>https://collabera.com/job-description/?post=32...</td>\n",
       "    </tr>\n",
       "    <tr>\n",
       "      <th>2</th>\n",
       "      <td>Graphics Engineer</td>\n",
       "      <td>https://collabera.com/job-description/?post=32...</td>\n",
       "    </tr>\n",
       "    <tr>\n",
       "      <th>3</th>\n",
       "      <td>Security Engineer</td>\n",
       "      <td>https://collabera.com/job-description/?post=32...</td>\n",
       "    </tr>\n",
       "    <tr>\n",
       "      <th>4</th>\n",
       "      <td>Java Developer</td>\n",
       "      <td>https://collabera.com/job-description/?post=32...</td>\n",
       "    </tr>\n",
       "  </tbody>\n",
       "</table>\n",
       "</div>"
      ],
      "text/plain": [
       "                         job_title  \\\n",
       "0           Administrative Support   \n",
       "1  Customer Service Representative   \n",
       "2                Graphics Engineer   \n",
       "3                Security Engineer   \n",
       "4                   Java Developer   \n",
       "\n",
       "                                            job_link  \n",
       "0  https://collabera.com/job-description/?post=32...  \n",
       "1  https://collabera.com/job-description/?post=32...  \n",
       "2  https://collabera.com/job-description/?post=32...  \n",
       "3  https://collabera.com/job-description/?post=32...  \n",
       "4  https://collabera.com/job-description/?post=32...  "
      ]
     },
     "execution_count": 5,
     "metadata": {},
     "output_type": "execute_result"
    }
   ],
   "source": [
    "df = pd.DataFrame(zip(job_title, job_link))\n",
    "df.columns = ['job_title', 'job_link']\n",
    "df.head()"
   ]
  },
  {
   "cell_type": "code",
   "execution_count": 6,
   "id": "2cc804ae",
   "metadata": {
    "scrolled": true
   },
   "outputs": [
    {
     "data": {
      "text/html": [
       "<div>\n",
       "<style scoped>\n",
       "    .dataframe tbody tr th:only-of-type {\n",
       "        vertical-align: middle;\n",
       "    }\n",
       "\n",
       "    .dataframe tbody tr th {\n",
       "        vertical-align: top;\n",
       "    }\n",
       "\n",
       "    .dataframe thead th {\n",
       "        text-align: right;\n",
       "    }\n",
       "</style>\n",
       "<table border=\"1\" class=\"dataframe\">\n",
       "  <thead>\n",
       "    <tr style=\"text-align: right;\">\n",
       "      <th></th>\n",
       "      <th>job_title</th>\n",
       "      <th>job_link</th>\n",
       "      <th>job_desc</th>\n",
       "    </tr>\n",
       "  </thead>\n",
       "  <tbody>\n",
       "    <tr>\n",
       "      <th>0</th>\n",
       "      <td>Administrative Support</td>\n",
       "      <td>https://collabera.com/job-description/?post=32...</td>\n",
       "      <td>NaN</td>\n",
       "    </tr>\n",
       "    <tr>\n",
       "      <th>1</th>\n",
       "      <td>Customer Service Representative</td>\n",
       "      <td>https://collabera.com/job-description/?post=32...</td>\n",
       "      <td>NaN</td>\n",
       "    </tr>\n",
       "    <tr>\n",
       "      <th>2</th>\n",
       "      <td>Graphics Engineer</td>\n",
       "      <td>https://collabera.com/job-description/?post=32...</td>\n",
       "      <td>NaN</td>\n",
       "    </tr>\n",
       "    <tr>\n",
       "      <th>3</th>\n",
       "      <td>Security Engineer</td>\n",
       "      <td>https://collabera.com/job-description/?post=32...</td>\n",
       "      <td>NaN</td>\n",
       "    </tr>\n",
       "    <tr>\n",
       "      <th>4</th>\n",
       "      <td>Java Developer</td>\n",
       "      <td>https://collabera.com/job-description/?post=32...</td>\n",
       "      <td>NaN</td>\n",
       "    </tr>\n",
       "  </tbody>\n",
       "</table>\n",
       "</div>"
      ],
      "text/plain": [
       "                         job_title  \\\n",
       "0           Administrative Support   \n",
       "1  Customer Service Representative   \n",
       "2                Graphics Engineer   \n",
       "3                Security Engineer   \n",
       "4                   Java Developer   \n",
       "\n",
       "                                            job_link  job_desc  \n",
       "0  https://collabera.com/job-description/?post=32...       NaN  \n",
       "1  https://collabera.com/job-description/?post=32...       NaN  \n",
       "2  https://collabera.com/job-description/?post=32...       NaN  \n",
       "3  https://collabera.com/job-description/?post=32...       NaN  \n",
       "4  https://collabera.com/job-description/?post=32...       NaN  "
      ]
     },
     "execution_count": 6,
     "metadata": {},
     "output_type": "execute_result"
    }
   ],
   "source": [
    "df['job_desc'] = np.nan\n",
    "df.head()"
   ]
  },
  {
   "cell_type": "code",
   "execution_count": 8,
   "id": "7271b6b1",
   "metadata": {},
   "outputs": [
    {
     "name": "stderr",
     "output_type": "stream",
     "text": [
      "C:\\Users\\meske\\AppData\\Local\\Temp/ipykernel_11224/3967333228.py:9: SettingWithCopyWarning: \n",
      "A value is trying to be set on a copy of a slice from a DataFrame\n",
      "\n",
      "See the caveats in the documentation: https://pandas.pydata.org/pandas-docs/stable/user_guide/indexing.html#returning-a-view-versus-a-copy\n",
      "  df['job_desc'][i] = txt.text\n"
     ]
    }
   ],
   "source": [
    "# Inconsistant formatting/wording on the job description page.\n",
    "# I tested getting just the li tags. However, the amount of text is very similar.\n",
    "# But since some job description pages don't have li tags, those will be missed by the script.\n",
    "# Therefore, I decided to get the whole text on the job description page. Luckily, the text is not very long on the pgaes.\n",
    "\n",
    "driver = webdriver.Chrome()\n",
    "    \n",
    "for i in range(len(df['job_link'])):\n",
    "    \n",
    "    try:\n",
    "        url = (df['job_link'][i]) \n",
    "        driver.get(url)             \n",
    "        txt = driver.find_element_by_xpath('/html/body/div[1]/section[2]/div/div/div[1]/div[1]/div')\n",
    "        df['job_desc'][i] = txt.text\n",
    "              \n",
    "    except:\n",
    "        df['job_desc'][i] = np.nan\n",
    "        \n",
    "driver.close()"
   ]
  },
  {
   "cell_type": "code",
   "execution_count": 13,
   "id": "84f24289",
   "metadata": {},
   "outputs": [],
   "source": [
    "df.to_csv('collabera_jobs.csv')"
   ]
  },
  {
   "cell_type": "code",
   "execution_count": 14,
   "id": "fcb28b5d",
   "metadata": {},
   "outputs": [
    {
     "data": {
      "text/plain": [
       "job_title    0\n",
       "job_link     0\n",
       "job_desc     0\n",
       "dtype: int64"
      ]
     },
     "execution_count": 14,
     "metadata": {},
     "output_type": "execute_result"
    }
   ],
   "source": [
    "df.isna().sum()"
   ]
  },
  {
   "cell_type": "code",
   "execution_count": 15,
   "id": "182edd98",
   "metadata": {},
   "outputs": [
    {
     "data": {
      "text/plain": [
       "1094"
      ]
     },
     "execution_count": 15,
     "metadata": {},
     "output_type": "execute_result"
    }
   ],
   "source": [
    "df = df.dropna()\n",
    "len(df)"
   ]
  },
  {
   "cell_type": "code",
   "execution_count": 17,
   "id": "963c5503",
   "metadata": {
    "scrolled": true
   },
   "outputs": [
    {
     "data": {
      "text/html": [
       "<div>\n",
       "<style scoped>\n",
       "    .dataframe tbody tr th:only-of-type {\n",
       "        vertical-align: middle;\n",
       "    }\n",
       "\n",
       "    .dataframe tbody tr th {\n",
       "        vertical-align: top;\n",
       "    }\n",
       "\n",
       "    .dataframe thead th {\n",
       "        text-align: right;\n",
       "    }\n",
       "</style>\n",
       "<table border=\"1\" class=\"dataframe\">\n",
       "  <thead>\n",
       "    <tr style=\"text-align: right;\">\n",
       "      <th></th>\n",
       "      <th>job_title</th>\n",
       "      <th>job_link</th>\n",
       "      <th>job_desc</th>\n",
       "    </tr>\n",
       "  </thead>\n",
       "  <tbody>\n",
       "  </tbody>\n",
       "</table>\n",
       "</div>"
      ],
      "text/plain": [
       "Empty DataFrame\n",
       "Columns: [job_title, job_link, job_desc]\n",
       "Index: []"
      ]
     },
     "execution_count": 17,
     "metadata": {},
     "output_type": "execute_result"
    }
   ],
   "source": [
    "df[df['job_desc'] == '']"
   ]
  },
  {
   "cell_type": "code",
   "execution_count": 16,
   "id": "df3a24b9",
   "metadata": {
    "scrolled": true
   },
   "outputs": [
    {
     "data": {
      "text/html": [
       "<div>\n",
       "<style scoped>\n",
       "    .dataframe tbody tr th:only-of-type {\n",
       "        vertical-align: middle;\n",
       "    }\n",
       "\n",
       "    .dataframe tbody tr th {\n",
       "        vertical-align: top;\n",
       "    }\n",
       "\n",
       "    .dataframe thead th {\n",
       "        text-align: right;\n",
       "    }\n",
       "</style>\n",
       "<table border=\"1\" class=\"dataframe\">\n",
       "  <thead>\n",
       "    <tr style=\"text-align: right;\">\n",
       "      <th></th>\n",
       "      <th>job_title</th>\n",
       "      <th>job_link</th>\n",
       "      <th>job_desc</th>\n",
       "    </tr>\n",
       "  </thead>\n",
       "  <tbody>\n",
       "    <tr>\n",
       "      <th>468</th>\n",
       "      <td>Regional Sales Manager</td>\n",
       "      <td>https://collabera.com/job-description/?post=29...</td>\n",
       "      <td>Collabera is a leading global digital talent s...</td>\n",
       "    </tr>\n",
       "    <tr>\n",
       "      <th>1040</th>\n",
       "      <td>Data Modeler</td>\n",
       "      <td>https://collabera.com/job-description/?post=32...</td>\n",
       "      <td>Lead data modeler to join team of domain data...</td>\n",
       "    </tr>\n",
       "    <tr>\n",
       "      <th>1002</th>\n",
       "      <td>Training Coordinator</td>\n",
       "      <td>https://collabera.com/job-description/?post=32...</td>\n",
       "      <td>Responsibilities:\\nMaintains positive and coop...</td>\n",
       "    </tr>\n",
       "    <tr>\n",
       "      <th>401</th>\n",
       "      <td>Angular Developer</td>\n",
       "      <td>https://collabera.com/job-description/?post=32...</td>\n",
       "      <td>DayToDay Responsbilities:\\nFlexibility in adap...</td>\n",
       "    </tr>\n",
       "    <tr>\n",
       "      <th>1075</th>\n",
       "      <td>Principal Engineer</td>\n",
       "      <td>https://collabera.com/job-description/?post=32...</td>\n",
       "      <td>7+ years of Engineering experience\\nDistribute...</td>\n",
       "    </tr>\n",
       "  </tbody>\n",
       "</table>\n",
       "</div>"
      ],
      "text/plain": [
       "                   job_title  \\\n",
       "468   Regional Sales Manager   \n",
       "1040            Data Modeler   \n",
       "1002    Training Coordinator   \n",
       "401        Angular Developer   \n",
       "1075      Principal Engineer   \n",
       "\n",
       "                                               job_link  \\\n",
       "468   https://collabera.com/job-description/?post=29...   \n",
       "1040  https://collabera.com/job-description/?post=32...   \n",
       "1002  https://collabera.com/job-description/?post=32...   \n",
       "401   https://collabera.com/job-description/?post=32...   \n",
       "1075  https://collabera.com/job-description/?post=32...   \n",
       "\n",
       "                                               job_desc  \n",
       "468   Collabera is a leading global digital talent s...  \n",
       "1040   Lead data modeler to join team of domain data...  \n",
       "1002  Responsibilities:\\nMaintains positive and coop...  \n",
       "401   DayToDay Responsbilities:\\nFlexibility in adap...  \n",
       "1075  7+ years of Engineering experience\\nDistribute...  "
      ]
     },
     "execution_count": 16,
     "metadata": {},
     "output_type": "execute_result"
    }
   ],
   "source": [
    "df.sample(5)"
   ]
  },
  {
   "cell_type": "code",
   "execution_count": 18,
   "id": "4de6beb0",
   "metadata": {},
   "outputs": [
    {
     "data": {
      "text/html": [
       "<div>\n",
       "<style scoped>\n",
       "    .dataframe tbody tr th:only-of-type {\n",
       "        vertical-align: middle;\n",
       "    }\n",
       "\n",
       "    .dataframe tbody tr th {\n",
       "        vertical-align: top;\n",
       "    }\n",
       "\n",
       "    .dataframe thead th {\n",
       "        text-align: right;\n",
       "    }\n",
       "</style>\n",
       "<table border=\"1\" class=\"dataframe\">\n",
       "  <thead>\n",
       "    <tr style=\"text-align: right;\">\n",
       "      <th></th>\n",
       "      <th>job_title</th>\n",
       "      <th>job_link</th>\n",
       "      <th>job_desc</th>\n",
       "    </tr>\n",
       "  </thead>\n",
       "  <tbody>\n",
       "    <tr>\n",
       "      <th>0</th>\n",
       "      <td>Administrative Support</td>\n",
       "      <td>https://collabera.com/job-description/?post=32...</td>\n",
       "      <td>Note:\\nThe position is onsite (No Work from Ho...</td>\n",
       "    </tr>\n",
       "    <tr>\n",
       "      <th>1</th>\n",
       "      <td>Customer Service Representative</td>\n",
       "      <td>https://collabera.com/job-description/?post=32...</td>\n",
       "      <td>Urgent Hiring for Customer Service Representat...</td>\n",
       "    </tr>\n",
       "    <tr>\n",
       "      <th>2</th>\n",
       "      <td>Graphics Engineer</td>\n",
       "      <td>https://collabera.com/job-description/?post=32...</td>\n",
       "      <td>Responsibilities:\\nProduces a variety of marke...</td>\n",
       "    </tr>\n",
       "    <tr>\n",
       "      <th>3</th>\n",
       "      <td>Security Engineer</td>\n",
       "      <td>https://collabera.com/job-description/?post=32...</td>\n",
       "      <td>Responsibilities:\\n• Develop DLP policies, res...</td>\n",
       "    </tr>\n",
       "    <tr>\n",
       "      <th>4</th>\n",
       "      <td>Java Developer</td>\n",
       "      <td>https://collabera.com/job-description/?post=32...</td>\n",
       "      <td>Responsibilities:\\n·         Conduct tasks rel...</td>\n",
       "    </tr>\n",
       "  </tbody>\n",
       "</table>\n",
       "</div>"
      ],
      "text/plain": [
       "                         job_title  \\\n",
       "0           Administrative Support   \n",
       "1  Customer Service Representative   \n",
       "2                Graphics Engineer   \n",
       "3                Security Engineer   \n",
       "4                   Java Developer   \n",
       "\n",
       "                                            job_link  \\\n",
       "0  https://collabera.com/job-description/?post=32...   \n",
       "1  https://collabera.com/job-description/?post=32...   \n",
       "2  https://collabera.com/job-description/?post=32...   \n",
       "3  https://collabera.com/job-description/?post=32...   \n",
       "4  https://collabera.com/job-description/?post=32...   \n",
       "\n",
       "                                            job_desc  \n",
       "0  Note:\\nThe position is onsite (No Work from Ho...  \n",
       "1  Urgent Hiring for Customer Service Representat...  \n",
       "2  Responsibilities:\\nProduces a variety of marke...  \n",
       "3  Responsibilities:\\n• Develop DLP policies, res...  \n",
       "4  Responsibilities:\\n·         Conduct tasks rel...  "
      ]
     },
     "execution_count": 18,
     "metadata": {},
     "output_type": "execute_result"
    }
   ],
   "source": [
    "df = df.reset_index(drop=True)\n",
    "df.head()"
   ]
  },
  {
   "cell_type": "code",
   "execution_count": 7,
   "id": "26858e0d",
   "metadata": {},
   "outputs": [],
   "source": [
    "df.to_csv('collabera_jobs.csv')"
   ]
  },
  {
   "cell_type": "code",
   "execution_count": 8,
   "id": "07bab0a3",
   "metadata": {
    "scrolled": false
   },
   "outputs": [
    {
     "data": {
      "text/html": [
       "<div>\n",
       "<style scoped>\n",
       "    .dataframe tbody tr th:only-of-type {\n",
       "        vertical-align: middle;\n",
       "    }\n",
       "\n",
       "    .dataframe tbody tr th {\n",
       "        vertical-align: top;\n",
       "    }\n",
       "\n",
       "    .dataframe thead th {\n",
       "        text-align: right;\n",
       "    }\n",
       "</style>\n",
       "<table border=\"1\" class=\"dataframe\">\n",
       "  <thead>\n",
       "    <tr style=\"text-align: right;\">\n",
       "      <th></th>\n",
       "      <th>COMPANY</th>\n",
       "      <th>TITLE</th>\n",
       "      <th>QUALIFICATIONS</th>\n",
       "      <th>LINK</th>\n",
       "      <th>DESCRIPTION</th>\n",
       "    </tr>\n",
       "  </thead>\n",
       "  <tbody>\n",
       "    <tr>\n",
       "      <th>0</th>\n",
       "      <td>Collabera</td>\n",
       "      <td>Administrative Support</td>\n",
       "      <td>Note:\\nThe position is onsite (No Work from Ho...</td>\n",
       "      <td>https://collabera.com/job-description/?post=32...</td>\n",
       "      <td>Note:\\nThe position is onsite (No Work from Ho...</td>\n",
       "    </tr>\n",
       "    <tr>\n",
       "      <th>1</th>\n",
       "      <td>Collabera</td>\n",
       "      <td>Customer Service Representative</td>\n",
       "      <td>Urgent Hiring for Customer Service Representat...</td>\n",
       "      <td>https://collabera.com/job-description/?post=32...</td>\n",
       "      <td>Urgent Hiring for Customer Service Representat...</td>\n",
       "    </tr>\n",
       "    <tr>\n",
       "      <th>2</th>\n",
       "      <td>Collabera</td>\n",
       "      <td>Graphics Engineer</td>\n",
       "      <td>Responsibilities:\\nProduces a variety of marke...</td>\n",
       "      <td>https://collabera.com/job-description/?post=32...</td>\n",
       "      <td>Responsibilities:\\nProduces a variety of marke...</td>\n",
       "    </tr>\n",
       "    <tr>\n",
       "      <th>3</th>\n",
       "      <td>Collabera</td>\n",
       "      <td>Security Engineer</td>\n",
       "      <td>Responsibilities:\\n• Develop DLP policies, res...</td>\n",
       "      <td>https://collabera.com/job-description/?post=32...</td>\n",
       "      <td>Responsibilities:\\n• Develop DLP policies, res...</td>\n",
       "    </tr>\n",
       "    <tr>\n",
       "      <th>4</th>\n",
       "      <td>Collabera</td>\n",
       "      <td>Java Developer</td>\n",
       "      <td>Responsibilities:\\n·         Conduct tasks rel...</td>\n",
       "      <td>https://collabera.com/job-description/?post=32...</td>\n",
       "      <td>Responsibilities:\\n·         Conduct tasks rel...</td>\n",
       "    </tr>\n",
       "  </tbody>\n",
       "</table>\n",
       "</div>"
      ],
      "text/plain": [
       "     COMPANY                            TITLE  \\\n",
       "0  Collabera           Administrative Support   \n",
       "1  Collabera  Customer Service Representative   \n",
       "2  Collabera                Graphics Engineer   \n",
       "3  Collabera                Security Engineer   \n",
       "4  Collabera                   Java Developer   \n",
       "\n",
       "                                      QUALIFICATIONS  \\\n",
       "0  Note:\\nThe position is onsite (No Work from Ho...   \n",
       "1  Urgent Hiring for Customer Service Representat...   \n",
       "2  Responsibilities:\\nProduces a variety of marke...   \n",
       "3  Responsibilities:\\n• Develop DLP policies, res...   \n",
       "4  Responsibilities:\\n·         Conduct tasks rel...   \n",
       "\n",
       "                                                LINK  \\\n",
       "0  https://collabera.com/job-description/?post=32...   \n",
       "1  https://collabera.com/job-description/?post=32...   \n",
       "2  https://collabera.com/job-description/?post=32...   \n",
       "3  https://collabera.com/job-description/?post=32...   \n",
       "4  https://collabera.com/job-description/?post=32...   \n",
       "\n",
       "                                         DESCRIPTION  \n",
       "0  Note:\\nThe position is onsite (No Work from Ho...  \n",
       "1  Urgent Hiring for Customer Service Representat...  \n",
       "2  Responsibilities:\\nProduces a variety of marke...  \n",
       "3  Responsibilities:\\n• Develop DLP policies, res...  \n",
       "4  Responsibilities:\\n·         Conduct tasks rel...  "
      ]
     },
     "execution_count": 8,
     "metadata": {},
     "output_type": "execute_result"
    }
   ],
   "source": [
    "df = pd.read_csv('collabera_jobs.csv', index_col=0)\n",
    "df.columns = ['TITLE', 'LINK', 'QUALIFICATIONS']\n",
    "df['COMPANY'] = 'Collabera'\n",
    "df['DESCRIPTION'] = df['QUALIFICATIONS']\n",
    "df = df.reindex(columns=['COMPANY', 'TITLE', 'QUALIFICATIONS', 'LINK', 'DESCRIPTION'])\n",
    "df.head()"
   ]
  },
  {
   "cell_type": "code",
   "execution_count": 9,
   "id": "ed55daf2",
   "metadata": {},
   "outputs": [],
   "source": [
    "df.to_csv('collabera_jobs.csv')"
   ]
  }
 ],
 "metadata": {
  "kernelspec": {
   "display_name": "Python 3 (ipykernel)",
   "language": "python",
   "name": "python3"
  },
  "language_info": {
   "codemirror_mode": {
    "name": "ipython",
    "version": 3
   },
   "file_extension": ".py",
   "mimetype": "text/x-python",
   "name": "python",
   "nbconvert_exporter": "python",
   "pygments_lexer": "ipython3",
   "version": "3.9.7"
  }
 },
 "nbformat": 4,
 "nbformat_minor": 5
}

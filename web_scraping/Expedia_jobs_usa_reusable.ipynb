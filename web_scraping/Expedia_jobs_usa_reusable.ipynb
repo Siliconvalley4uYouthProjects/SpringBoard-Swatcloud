{
 "cells": [
  {
   "cell_type": "code",
   "execution_count": 2,
   "id": "aa8ed824",
   "metadata": {},
   "outputs": [],
   "source": [
    "from selenium import webdriver\n",
    "import pandas as pd\n",
    "import numpy as np"
   ]
  },
  {
   "cell_type": "markdown",
   "id": "6c6573b1",
   "metadata": {},
   "source": [
    "# Get job titles and job description page links"
   ]
  },
  {
   "cell_type": "code",
   "execution_count": 3,
   "id": "5283816d",
   "metadata": {},
   "outputs": [],
   "source": [
    "job_title = []\n",
    "job_link = []\n",
    "\n",
    "\n",
    "\n",
    "#this url redirects to the page 'https://sjobs.brassring.com/TGnewUI/Search/Home/Home?partnerid=25633&siteid=5439&Codes=BeMore#home'\n",
    "#url = 'https://sjobs.brassring.com/TGnewUI/Search/Home/Home?partnerid=25633&siteid=5439&Codes=BeMore#keyWordSearch=technology%20or%20software%20engineering%20or%20developer%20or%20azure%20or%20aws&locationSearch='\n",
    "\n",
    "url = 'https://careers.expediagroup.com/jobs/?&filter[country]=United+States'\n",
    "\n",
    "driver = webdriver.Chrome()\n",
    "\n",
    "driver.implicitly_wait(20)\n",
    "\n",
    "driver.get(url)\n",
    "\n",
    "#job_search = driver.find_element_by_xpath('//*[@id=\"initialSearchBox__25\"]')\n",
    "#job_search.send_keys('technology')\n",
    "\n",
    "#search_button = driver.find_element_by_xpath('//*[@id=\"searchControls_BUTTON_2\"]')\n",
    "#search_button.click()\n",
    "\n"
   ]
  },
  {
   "cell_type": "code",
   "execution_count": 4,
   "id": "7ac28baa",
   "metadata": {},
   "outputs": [
    {
     "name": "stdout",
     "output_type": "stream",
     "text": [
      "page 23\n"
     ]
    }
   ],
   "source": [
    "x = 1\n",
    "i = 1\n",
    "\n",
    "while x == 1:\n",
    "    try:\n",
    "    \n",
    "        next_button = driver.find_element_by_id('loadmore')\n",
    "        next_button.click()\n",
    "\n",
    "    except:\n",
    "        print('page',i)\n",
    "        x = 0 \n",
    "    i +=1"
   ]
  },
  {
   "cell_type": "code",
   "execution_count": 10,
   "id": "74f5cce2",
   "metadata": {},
   "outputs": [],
   "source": [
    "TITLE = []\n",
    "LINK = []"
   ]
  },
  {
   "cell_type": "code",
   "execution_count": 18,
   "id": "2094b897",
   "metadata": {},
   "outputs": [],
   "source": [
    "     \n",
    "i = 1\n",
    "\n",
    "while y != 0:\n",
    "#while i < 3:\n",
    "    \n",
    "    y = 2\n",
    "    \n",
    "    try:\n",
    "        j_title = driver.find_element_by_xpath('//*[@id=\"resultslist\"]/li['+str(i)+']/a/h3')\n",
    "        TITLE.append(j_title.text) \n",
    "    except:\n",
    "        TITLE.append('')\n",
    "        y-=1\n",
    "    \n",
    "    try:\n",
    "        j_link = driver.find_element_by_xpath('//*[@id=\"resultslist\"]/li['+str(i)+']/a')\n",
    "        LINK.append(j_link.get_attribute('href'))\n",
    "    except:\n",
    "        LINK.append('')\n",
    "        y-=1\n",
    "\n",
    "    i = i+1"
   ]
  },
  {
   "cell_type": "code",
   "execution_count": 19,
   "id": "15d8c7f8",
   "metadata": {
    "scrolled": true
   },
   "outputs": [
    {
     "name": "stdout",
     "output_type": "stream",
     "text": [
      "578 578\n"
     ]
    }
   ],
   "source": [
    "print(len(TITLE), len(LINK))"
   ]
  },
  {
   "cell_type": "code",
   "execution_count": 21,
   "id": "727ef009",
   "metadata": {},
   "outputs": [
    {
     "data": {
      "text/html": [
       "<div>\n",
       "<style scoped>\n",
       "    .dataframe tbody tr th:only-of-type {\n",
       "        vertical-align: middle;\n",
       "    }\n",
       "\n",
       "    .dataframe tbody tr th {\n",
       "        vertical-align: top;\n",
       "    }\n",
       "\n",
       "    .dataframe thead th {\n",
       "        text-align: right;\n",
       "    }\n",
       "</style>\n",
       "<table border=\"1\" class=\"dataframe\">\n",
       "  <thead>\n",
       "    <tr style=\"text-align: right;\">\n",
       "      <th></th>\n",
       "      <th>TITLE</th>\n",
       "      <th>LINK</th>\n",
       "    </tr>\n",
       "  </thead>\n",
       "  <tbody>\n",
       "    <tr>\n",
       "      <th>0</th>\n",
       "      <td>Machine Learning Scientist III</td>\n",
       "      <td>https://careers.expediagroup.com/jobs/job/?Mac...</td>\n",
       "    </tr>\n",
       "    <tr>\n",
       "      <th>1</th>\n",
       "      <td>Senior Security Compliance Manager (PCI)</td>\n",
       "      <td>https://careers.expediagroup.com/jobs/job/?Sen...</td>\n",
       "    </tr>\n",
       "    <tr>\n",
       "      <th>2</th>\n",
       "      <td>Machine Learning Scientist III</td>\n",
       "      <td>https://careers.expediagroup.com/jobs/job/?Mac...</td>\n",
       "    </tr>\n",
       "    <tr>\n",
       "      <th>3</th>\n",
       "      <td>Senior Security Compliance Manager (PCI)</td>\n",
       "      <td>https://careers.expediagroup.com/jobs/job/?Sen...</td>\n",
       "    </tr>\n",
       "    <tr>\n",
       "      <th>4</th>\n",
       "      <td>Senior Security Compliance Manager (PCI)</td>\n",
       "      <td>https://careers.expediagroup.com/jobs/job/?Sen...</td>\n",
       "    </tr>\n",
       "  </tbody>\n",
       "</table>\n",
       "</div>"
      ],
      "text/plain": [
       "                                      TITLE  \\\n",
       "0            Machine Learning Scientist III   \n",
       "1  Senior Security Compliance Manager (PCI)   \n",
       "2            Machine Learning Scientist III   \n",
       "3  Senior Security Compliance Manager (PCI)   \n",
       "4  Senior Security Compliance Manager (PCI)   \n",
       "\n",
       "                                                LINK  \n",
       "0  https://careers.expediagroup.com/jobs/job/?Mac...  \n",
       "1  https://careers.expediagroup.com/jobs/job/?Sen...  \n",
       "2  https://careers.expediagroup.com/jobs/job/?Mac...  \n",
       "3  https://careers.expediagroup.com/jobs/job/?Sen...  \n",
       "4  https://careers.expediagroup.com/jobs/job/?Sen...  "
      ]
     },
     "execution_count": 21,
     "metadata": {},
     "output_type": "execute_result"
    }
   ],
   "source": [
    "# convert to dataframe\n",
    "\n",
    "df = pd.DataFrame(zip(TITLE, LINK))\n",
    "df.columns = ['TITLE', 'LINK']\n",
    "df.head()"
   ]
  },
  {
   "cell_type": "code",
   "execution_count": 22,
   "id": "e9bb040b",
   "metadata": {},
   "outputs": [],
   "source": [
    "df.to_csv('Expedia_title_link.csv')"
   ]
  },
  {
   "cell_type": "code",
   "execution_count": null,
   "id": "52f53b27",
   "metadata": {},
   "outputs": [],
   "source": []
  },
  {
   "cell_type": "code",
   "execution_count": 38,
   "id": "df6bc0cf",
   "metadata": {},
   "outputs": [
    {
     "data": {
      "text/html": [
       "<div>\n",
       "<style scoped>\n",
       "    .dataframe tbody tr th:only-of-type {\n",
       "        vertical-align: middle;\n",
       "    }\n",
       "\n",
       "    .dataframe tbody tr th {\n",
       "        vertical-align: top;\n",
       "    }\n",
       "\n",
       "    .dataframe thead th {\n",
       "        text-align: right;\n",
       "    }\n",
       "</style>\n",
       "<table border=\"1\" class=\"dataframe\">\n",
       "  <thead>\n",
       "    <tr style=\"text-align: right;\">\n",
       "      <th></th>\n",
       "      <th>TITLE</th>\n",
       "      <th>LINK</th>\n",
       "    </tr>\n",
       "  </thead>\n",
       "  <tbody>\n",
       "    <tr>\n",
       "      <th>0</th>\n",
       "      <td>Machine Learning Scientist III</td>\n",
       "      <td>https://careers.expediagroup.com/jobs/job/?Mac...</td>\n",
       "    </tr>\n",
       "    <tr>\n",
       "      <th>1</th>\n",
       "      <td>Senior Security Compliance Manager (PCI)</td>\n",
       "      <td>https://careers.expediagroup.com/jobs/job/?Sen...</td>\n",
       "    </tr>\n",
       "    <tr>\n",
       "      <th>2</th>\n",
       "      <td>Machine Learning Scientist III</td>\n",
       "      <td>https://careers.expediagroup.com/jobs/job/?Mac...</td>\n",
       "    </tr>\n",
       "    <tr>\n",
       "      <th>3</th>\n",
       "      <td>Senior Security Compliance Manager (PCI)</td>\n",
       "      <td>https://careers.expediagroup.com/jobs/job/?Sen...</td>\n",
       "    </tr>\n",
       "    <tr>\n",
       "      <th>4</th>\n",
       "      <td>Senior Security Compliance Manager (PCI)</td>\n",
       "      <td>https://careers.expediagroup.com/jobs/job/?Sen...</td>\n",
       "    </tr>\n",
       "  </tbody>\n",
       "</table>\n",
       "</div>"
      ],
      "text/plain": [
       "                                      TITLE  \\\n",
       "0            Machine Learning Scientist III   \n",
       "1  Senior Security Compliance Manager (PCI)   \n",
       "2            Machine Learning Scientist III   \n",
       "3  Senior Security Compliance Manager (PCI)   \n",
       "4  Senior Security Compliance Manager (PCI)   \n",
       "\n",
       "                                                LINK  \n",
       "0  https://careers.expediagroup.com/jobs/job/?Mac...  \n",
       "1  https://careers.expediagroup.com/jobs/job/?Sen...  \n",
       "2  https://careers.expediagroup.com/jobs/job/?Mac...  \n",
       "3  https://careers.expediagroup.com/jobs/job/?Sen...  \n",
       "4  https://careers.expediagroup.com/jobs/job/?Sen...  "
      ]
     },
     "execution_count": 38,
     "metadata": {},
     "output_type": "execute_result"
    }
   ],
   "source": [
    "df = pd.read_csv('Expedia_title_link.csv', index_col=0)\n",
    "df.head()"
   ]
  },
  {
   "cell_type": "code",
   "execution_count": 44,
   "id": "2cc804ae",
   "metadata": {},
   "outputs": [
    {
     "name": "stdout",
     "output_type": "stream",
     "text": [
      "578\n"
     ]
    },
    {
     "data": {
      "text/html": [
       "<div>\n",
       "<style scoped>\n",
       "    .dataframe tbody tr th:only-of-type {\n",
       "        vertical-align: middle;\n",
       "    }\n",
       "\n",
       "    .dataframe tbody tr th {\n",
       "        vertical-align: top;\n",
       "    }\n",
       "\n",
       "    .dataframe thead th {\n",
       "        text-align: right;\n",
       "    }\n",
       "</style>\n",
       "<table border=\"1\" class=\"dataframe\">\n",
       "  <thead>\n",
       "    <tr style=\"text-align: right;\">\n",
       "      <th></th>\n",
       "      <th>TITLE</th>\n",
       "      <th>LINK</th>\n",
       "      <th>QUALIFICATIONS</th>\n",
       "      <th>DESCRIPTION</th>\n",
       "    </tr>\n",
       "  </thead>\n",
       "  <tbody>\n",
       "    <tr>\n",
       "      <th>0</th>\n",
       "      <td>Machine Learning Scientist III</td>\n",
       "      <td>https://careers.expediagroup.com/jobs/job/?Mac...</td>\n",
       "      <td>NaN</td>\n",
       "      <td>NaN</td>\n",
       "    </tr>\n",
       "    <tr>\n",
       "      <th>1</th>\n",
       "      <td>Senior Security Compliance Manager (PCI)</td>\n",
       "      <td>https://careers.expediagroup.com/jobs/job/?Sen...</td>\n",
       "      <td>NaN</td>\n",
       "      <td>NaN</td>\n",
       "    </tr>\n",
       "    <tr>\n",
       "      <th>2</th>\n",
       "      <td>Machine Learning Scientist III</td>\n",
       "      <td>https://careers.expediagroup.com/jobs/job/?Mac...</td>\n",
       "      <td>NaN</td>\n",
       "      <td>NaN</td>\n",
       "    </tr>\n",
       "    <tr>\n",
       "      <th>3</th>\n",
       "      <td>Senior Security Compliance Manager (PCI)</td>\n",
       "      <td>https://careers.expediagroup.com/jobs/job/?Sen...</td>\n",
       "      <td>NaN</td>\n",
       "      <td>NaN</td>\n",
       "    </tr>\n",
       "    <tr>\n",
       "      <th>4</th>\n",
       "      <td>Senior Security Compliance Manager (PCI)</td>\n",
       "      <td>https://careers.expediagroup.com/jobs/job/?Sen...</td>\n",
       "      <td>NaN</td>\n",
       "      <td>NaN</td>\n",
       "    </tr>\n",
       "  </tbody>\n",
       "</table>\n",
       "</div>"
      ],
      "text/plain": [
       "                                      TITLE  \\\n",
       "0            Machine Learning Scientist III   \n",
       "1  Senior Security Compliance Manager (PCI)   \n",
       "2            Machine Learning Scientist III   \n",
       "3  Senior Security Compliance Manager (PCI)   \n",
       "4  Senior Security Compliance Manager (PCI)   \n",
       "\n",
       "                                                LINK  QUALIFICATIONS  \\\n",
       "0  https://careers.expediagroup.com/jobs/job/?Mac...             NaN   \n",
       "1  https://careers.expediagroup.com/jobs/job/?Sen...             NaN   \n",
       "2  https://careers.expediagroup.com/jobs/job/?Mac...             NaN   \n",
       "3  https://careers.expediagroup.com/jobs/job/?Sen...             NaN   \n",
       "4  https://careers.expediagroup.com/jobs/job/?Sen...             NaN   \n",
       "\n",
       "   DESCRIPTION  \n",
       "0          NaN  \n",
       "1          NaN  \n",
       "2          NaN  \n",
       "3          NaN  \n",
       "4          NaN  "
      ]
     },
     "execution_count": 44,
     "metadata": {},
     "output_type": "execute_result"
    }
   ],
   "source": [
    "df['QUALIFICATIONS'] = np.nan\n",
    "df['DESCRIPTION'] = np.nan\n",
    "df.drop_duplicates(subset=['TITLE', 'LINK'])\n",
    "df.head()\n",
    "print(len(df))\n",
    "df.head()"
   ]
  },
  {
   "cell_type": "code",
   "execution_count": 79,
   "id": "54d7d8fb",
   "metadata": {
    "scrolled": true
   },
   "outputs": [
    {
     "data": {
      "text/plain": [
       "TITLE             1\n",
       "LINK              1\n",
       "QUALIFICATIONS    0\n",
       "DESCRIPTION       0\n",
       "dtype: int64"
      ]
     },
     "execution_count": 79,
     "metadata": {},
     "output_type": "execute_result"
    }
   ],
   "source": [
    "df.isna().sum()"
   ]
  },
  {
   "cell_type": "code",
   "execution_count": 81,
   "id": "afdd84bf",
   "metadata": {},
   "outputs": [
    {
     "data": {
      "text/plain": [
       "577"
      ]
     },
     "execution_count": 81,
     "metadata": {},
     "output_type": "execute_result"
    }
   ],
   "source": [
    "df = df.dropna()\n",
    "len(df)"
   ]
  },
  {
   "cell_type": "markdown",
   "id": "79d8a1ba",
   "metadata": {},
   "source": [
    "# Get job description data"
   ]
  },
  {
   "cell_type": "code",
   "execution_count": 82,
   "id": "5707f2a9",
   "metadata": {},
   "outputs": [],
   "source": [
    "driver = webdriver.Chrome()\n",
    "        \n",
    "for i in range(len(df['LINK'])):\n",
    "\n",
    "    url = (df['LINK'][i])\n",
    "        \n",
    "    driver.get(url)\n",
    "\n",
    "    try:\n",
    "        qual = driver.find_element_by_xpath('/html/body/main/div[2]/div/div/div[1]/section[3]/div/div/div/div[1]/ul[2]')\n",
    "        df['QUALIFICATIONS'][i] = qual.text\n",
    "    except:\n",
    "        pass\n",
    "    \n",
    "    try:\n",
    "        desc = driver.find_element_by_xpath('/html/body/main/div[2]/div/div/div[1]/section[3]/div/div/div/div[1]/ul[1]')\n",
    "        df['DESCRIPTION'][i] = desc.text\n",
    "    except:\n",
    "        pass\n",
    "\n",
    "driver.close()\n",
    "\n"
   ]
  },
  {
   "cell_type": "code",
   "execution_count": 86,
   "id": "04ddb1f9",
   "metadata": {},
   "outputs": [
    {
     "data": {
      "text/html": [
       "<div>\n",
       "<style scoped>\n",
       "    .dataframe tbody tr th:only-of-type {\n",
       "        vertical-align: middle;\n",
       "    }\n",
       "\n",
       "    .dataframe tbody tr th {\n",
       "        vertical-align: top;\n",
       "    }\n",
       "\n",
       "    .dataframe thead th {\n",
       "        text-align: right;\n",
       "    }\n",
       "</style>\n",
       "<table border=\"1\" class=\"dataframe\">\n",
       "  <thead>\n",
       "    <tr style=\"text-align: right;\">\n",
       "      <th></th>\n",
       "      <th>TITLE</th>\n",
       "      <th>LINK</th>\n",
       "      <th>QUALIFICATIONS</th>\n",
       "      <th>DESCRIPTION</th>\n",
       "    </tr>\n",
       "  </thead>\n",
       "  <tbody>\n",
       "    <tr>\n",
       "      <th>548</th>\n",
       "      <td>Integrated Producer</td>\n",
       "      <td>https://careers.expediagroup.com/jobs/job/?Int...</td>\n",
       "      <td>An exceptional project manager, extremely orga...</td>\n",
       "      <td>Develop and lead the production of creative co...</td>\n",
       "    </tr>\n",
       "    <tr>\n",
       "      <th>408</th>\n",
       "      <td>User Experience Designer II</td>\n",
       "      <td>https://careers.expediagroup.com/jobs/job/?Use...</td>\n",
       "      <td>Bachelor's degree in related field; or equival...</td>\n",
       "      <td>Demonstrate understanding of visual and intera...</td>\n",
       "    </tr>\n",
       "    <tr>\n",
       "      <th>152</th>\n",
       "      <td>Sr. Manager, Marketing Analytics</td>\n",
       "      <td>https://careers.expediagroup.com/jobs/job/?Sr....</td>\n",
       "      <td>Ph.D. or Master in Computer Science or a relat...</td>\n",
       "      <td>Support global roll-out of neural network algo...</td>\n",
       "    </tr>\n",
       "    <tr>\n",
       "      <th>113</th>\n",
       "      <td>Account Manager, Lodging Strategic Partners</td>\n",
       "      <td>https://careers.expediagroup.com/jobs/job/?Acc...</td>\n",
       "      <td>Bachelor’s or Master's degree with strong anal...</td>\n",
       "      <td>Work with Key Lodging Partners and identify hi...</td>\n",
       "    </tr>\n",
       "    <tr>\n",
       "      <th>444</th>\n",
       "      <td>Director, Career Experiences - Digital Solutions</td>\n",
       "      <td>https://careers.expediagroup.com/jobs/job/?Dir...</td>\n",
       "      <td>Bachelor's or Master’s degree in a related fie...</td>\n",
       "      <td>Help architect and execute a comprehensive pla...</td>\n",
       "    </tr>\n",
       "  </tbody>\n",
       "</table>\n",
       "</div>"
      ],
      "text/plain": [
       "                                                TITLE  \\\n",
       "548                               Integrated Producer   \n",
       "408                       User Experience Designer II   \n",
       "152                  Sr. Manager, Marketing Analytics   \n",
       "113       Account Manager, Lodging Strategic Partners   \n",
       "444  Director, Career Experiences - Digital Solutions   \n",
       "\n",
       "                                                  LINK  \\\n",
       "548  https://careers.expediagroup.com/jobs/job/?Int...   \n",
       "408  https://careers.expediagroup.com/jobs/job/?Use...   \n",
       "152  https://careers.expediagroup.com/jobs/job/?Sr....   \n",
       "113  https://careers.expediagroup.com/jobs/job/?Acc...   \n",
       "444  https://careers.expediagroup.com/jobs/job/?Dir...   \n",
       "\n",
       "                                        QUALIFICATIONS  \\\n",
       "548  An exceptional project manager, extremely orga...   \n",
       "408  Bachelor's degree in related field; or equival...   \n",
       "152  Ph.D. or Master in Computer Science or a relat...   \n",
       "113  Bachelor’s or Master's degree with strong anal...   \n",
       "444  Bachelor's or Master’s degree in a related fie...   \n",
       "\n",
       "                                           DESCRIPTION  \n",
       "548  Develop and lead the production of creative co...  \n",
       "408  Demonstrate understanding of visual and intera...  \n",
       "152  Support global roll-out of neural network algo...  \n",
       "113  Work with Key Lodging Partners and identify hi...  \n",
       "444  Help architect and execute a comprehensive pla...  "
      ]
     },
     "execution_count": 86,
     "metadata": {},
     "output_type": "execute_result"
    }
   ],
   "source": [
    "df.sample(5)"
   ]
  },
  {
   "cell_type": "code",
   "execution_count": 87,
   "id": "84abafdf",
   "metadata": {},
   "outputs": [],
   "source": [
    "df.to_csv('expedia_jobs_usa.csv')"
   ]
  },
  {
   "cell_type": "markdown",
   "id": "f2d092d0",
   "metadata": {},
   "source": [
    "# Basic Cleaning"
   ]
  },
  {
   "cell_type": "code",
   "execution_count": 88,
   "id": "14755669",
   "metadata": {},
   "outputs": [
    {
     "data": {
      "text/plain": [
       "577"
      ]
     },
     "execution_count": 88,
     "metadata": {},
     "output_type": "execute_result"
    }
   ],
   "source": [
    "df = df.dropna()\n",
    "len(df)"
   ]
  },
  {
   "cell_type": "code",
   "execution_count": 90,
   "id": "4f23027e",
   "metadata": {},
   "outputs": [
    {
     "data": {
      "text/plain": [
       "93"
      ]
     },
     "execution_count": 90,
     "metadata": {},
     "output_type": "execute_result"
    }
   ],
   "source": [
    "df['QUALIFICATIONS'] = df['QUALIFICATIONS'].str.lower()\n",
    "df['DESCRIPTION'] = df['DESCRIPTION'].str.lower()\n",
    "df = df.drop_duplicates(subset=['TITLE', 'QUALIFICATIONS', 'DESCRIPTION'])\n",
    "df = df.reset_index(drop=True)\n",
    "df = df.reindex(columns=['COMPANY', 'TITLE', 'QUALIFICATIONS', 'LINK', 'DESCRIPTION'])\n",
    "len(df)"
   ]
  },
  {
   "cell_type": "code",
   "execution_count": 94,
   "id": "fc8eff56",
   "metadata": {},
   "outputs": [
    {
     "data": {
      "text/html": [
       "<div>\n",
       "<style scoped>\n",
       "    .dataframe tbody tr th:only-of-type {\n",
       "        vertical-align: middle;\n",
       "    }\n",
       "\n",
       "    .dataframe tbody tr th {\n",
       "        vertical-align: top;\n",
       "    }\n",
       "\n",
       "    .dataframe thead th {\n",
       "        text-align: right;\n",
       "    }\n",
       "</style>\n",
       "<table border=\"1\" class=\"dataframe\">\n",
       "  <thead>\n",
       "    <tr style=\"text-align: right;\">\n",
       "      <th></th>\n",
       "      <th>COMPANY</th>\n",
       "      <th>TITLE</th>\n",
       "      <th>QUALIFICATIONS</th>\n",
       "      <th>LINK</th>\n",
       "      <th>DESCRIPTION</th>\n",
       "    </tr>\n",
       "  </thead>\n",
       "  <tbody>\n",
       "    <tr>\n",
       "      <th>0</th>\n",
       "      <td>Expedia</td>\n",
       "      <td>Machine Learning Scientist III</td>\n",
       "      <td>ph.d. or master in computer science or a relat...</td>\n",
       "      <td>https://careers.expediagroup.com/jobs/job/?Mac...</td>\n",
       "      <td>support global roll-out of neural network algo...</td>\n",
       "    </tr>\n",
       "    <tr>\n",
       "      <th>1</th>\n",
       "      <td>Expedia</td>\n",
       "      <td>Senior Security Compliance Manager (PCI)</td>\n",
       "      <td>bachelor's or master's degree in cyber securit...</td>\n",
       "      <td>https://careers.expediagroup.com/jobs/job/?Sen...</td>\n",
       "      <td>identify and document in-scope systems and app...</td>\n",
       "    </tr>\n",
       "    <tr>\n",
       "      <th>2</th>\n",
       "      <td>Expedia</td>\n",
       "      <td>Mobile Engineer III - iOS</td>\n",
       "      <td>bachelor's or master’s degree in a technical f...</td>\n",
       "      <td>https://careers.expediagroup.com/jobs/job/?Mob...</td>\n",
       "      <td>build and evolve the next gen expedia group (e...</td>\n",
       "    </tr>\n",
       "    <tr>\n",
       "      <th>3</th>\n",
       "      <td>Expedia</td>\n",
       "      <td>Director, Global Procurement - Marketing</td>\n",
       "      <td>bachelors or masters degree in business/financ...</td>\n",
       "      <td>https://careers.expediagroup.com/jobs/job/?%E2...</td>\n",
       "      <td>possess deep knowledge of the marketing catego...</td>\n",
       "    </tr>\n",
       "    <tr>\n",
       "      <th>4</th>\n",
       "      <td>Expedia</td>\n",
       "      <td>Senior Security Operations Manager</td>\n",
       "      <td>ph.d. or master in computer science or a relat...</td>\n",
       "      <td>https://careers.expediagroup.com/jobs/job/?Sen...</td>\n",
       "      <td>support global roll-out of neural network algo...</td>\n",
       "    </tr>\n",
       "  </tbody>\n",
       "</table>\n",
       "</div>"
      ],
      "text/plain": [
       "   COMPANY                                     TITLE  \\\n",
       "0  Expedia            Machine Learning Scientist III   \n",
       "1  Expedia  Senior Security Compliance Manager (PCI)   \n",
       "2  Expedia                 Mobile Engineer III - iOS   \n",
       "3  Expedia  Director, Global Procurement - Marketing   \n",
       "4  Expedia        Senior Security Operations Manager   \n",
       "\n",
       "                                      QUALIFICATIONS  \\\n",
       "0  ph.d. or master in computer science or a relat...   \n",
       "1  bachelor's or master's degree in cyber securit...   \n",
       "2  bachelor's or master’s degree in a technical f...   \n",
       "3  bachelors or masters degree in business/financ...   \n",
       "4  ph.d. or master in computer science or a relat...   \n",
       "\n",
       "                                                LINK  \\\n",
       "0  https://careers.expediagroup.com/jobs/job/?Mac...   \n",
       "1  https://careers.expediagroup.com/jobs/job/?Sen...   \n",
       "2  https://careers.expediagroup.com/jobs/job/?Mob...   \n",
       "3  https://careers.expediagroup.com/jobs/job/?%E2...   \n",
       "4  https://careers.expediagroup.com/jobs/job/?Sen...   \n",
       "\n",
       "                                         DESCRIPTION  \n",
       "0  support global roll-out of neural network algo...  \n",
       "1  identify and document in-scope systems and app...  \n",
       "2  build and evolve the next gen expedia group (e...  \n",
       "3  possess deep knowledge of the marketing catego...  \n",
       "4  support global roll-out of neural network algo...  "
      ]
     },
     "execution_count": 94,
     "metadata": {},
     "output_type": "execute_result"
    }
   ],
   "source": [
    "df['COMPANY'] = 'Expedia'\n",
    "df.head(5)"
   ]
  },
  {
   "cell_type": "code",
   "execution_count": 95,
   "id": "2ac8c8bd",
   "metadata": {},
   "outputs": [],
   "source": [
    "df.to_csv('expedia_jobs_usa.csv')"
   ]
  },
  {
   "cell_type": "code",
   "execution_count": null,
   "id": "450be04d",
   "metadata": {},
   "outputs": [],
   "source": []
  }
 ],
 "metadata": {
  "kernelspec": {
   "display_name": "Python 3 (ipykernel)",
   "language": "python",
   "name": "python3"
  },
  "language_info": {
   "codemirror_mode": {
    "name": "ipython",
    "version": 3
   },
   "file_extension": ".py",
   "mimetype": "text/x-python",
   "name": "python",
   "nbconvert_exporter": "python",
   "pygments_lexer": "ipython3",
   "version": "3.9.7"
  }
 },
 "nbformat": 4,
 "nbformat_minor": 5
}

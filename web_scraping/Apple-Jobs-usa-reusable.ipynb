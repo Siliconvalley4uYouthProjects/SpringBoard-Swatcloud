{
 "cells": [
  {
   "cell_type": "code",
   "execution_count": 1,
   "id": "16ed00ac-9552-4059-82eb-32b92b8f4f63",
   "metadata": {},
   "outputs": [],
   "source": [
    "from selenium import webdriver\n",
    "import pandas as pd\n",
    "import numpy as np\n",
    "import time\n",
    "from selenium.webdriver.common.keys import Keys\n",
    "from selenium.webdriver.common.by import By\n",
    "from selenium.common.exceptions import NoSuchElementException\n",
    "\n",
    "x = 1\n",
    "i = 1\n",
    "job_title = []\n",
    "job_link = []\n",
    "\n",
    "driver = webdriver.Chrome()\n",
    "driver.implicitly_wait(20)\n",
    "\n",
    "url = 'https://www.apple.com/careers/us/'\n",
    "\n",
    "driver.get(url)\n",
    "driver.maximize_window()\n",
    "\n",
    "searchButton = driver.find_element(By.XPATH, \"//a[text()='Search']\")\n",
    "searchButton.click()\n",
    "\n",
    "searchTextBox = driver.find_element(By.XPATH, \"//input[@placeholder='Search by role or keyword']\")\n",
    "searchTextBox.send_keys(\"Software Engineer\")\n",
    "time.sleep(3)\n",
    "\n",
    "searchTextBox.send_keys(Keys.RETURN)\n",
    "time.sleep(3)\n",
    "\n",
    "try:\n",
    "    \n",
    "    for x in range(5):\n",
    "    \n",
    "        y = 0\n",
    "        while y != 20:\n",
    "            title = driver.find_element(By.XPATH, \"(//tbody//a[contains(@id,'jotTitle')])[\" + str(y + 1) + \"]\").text\n",
    "            job_title.append(title)\n",
    "\n",
    "            link = driver.find_element(By.XPATH, \"(//td[@class='table-col-1']//a[@class][@href])[\" + str(y + 1) + \"]\")\n",
    "            job_link.append(link.get_attribute('href'))\n",
    "            y = y + 1\n",
    "        \n",
    "        driver.find_element(By.XPATH, \"//span[@class='next']\").click()\n",
    "        x=x+1\n",
    "    \n",
    "except NoSuchElementException:...\n",
    "    \n",
    "driver.close()    "
   ]
  },
  {
   "cell_type": "code",
   "execution_count": 2,
   "id": "951c7094-d239-406f-af8d-16bbf60d140b",
   "metadata": {},
   "outputs": [
    {
     "name": "stdout",
     "output_type": "stream",
     "text": [
      "100 100\n"
     ]
    }
   ],
   "source": [
    "print(len(job_link), len(job_title))"
   ]
  },
  {
   "cell_type": "code",
   "execution_count": 3,
   "id": "1f1be91a-0a74-4935-8acf-e2c03be4dc91",
   "metadata": {},
   "outputs": [
    {
     "data": {
      "text/html": [
       "<div>\n",
       "<style scoped>\n",
       "    .dataframe tbody tr th:only-of-type {\n",
       "        vertical-align: middle;\n",
       "    }\n",
       "\n",
       "    .dataframe tbody tr th {\n",
       "        vertical-align: top;\n",
       "    }\n",
       "\n",
       "    .dataframe thead th {\n",
       "        text-align: right;\n",
       "    }\n",
       "</style>\n",
       "<table border=\"1\" class=\"dataframe\">\n",
       "  <thead>\n",
       "    <tr style=\"text-align: right;\">\n",
       "      <th></th>\n",
       "      <th>Title</th>\n",
       "      <th>Link</th>\n",
       "    </tr>\n",
       "  </thead>\n",
       "  <tbody>\n",
       "    <tr>\n",
       "      <th>0</th>\n",
       "      <td>Software Engineer</td>\n",
       "      <td>https://jobs.apple.com/en-us/details/200462197...</td>\n",
       "    </tr>\n",
       "    <tr>\n",
       "      <th>1</th>\n",
       "      <td>Software Engineer</td>\n",
       "      <td>https://jobs.apple.com/en-us/details/200452787...</td>\n",
       "    </tr>\n",
       "    <tr>\n",
       "      <th>2</th>\n",
       "      <td>Software Engineer</td>\n",
       "      <td>https://jobs.apple.com/en-us/details/200341466...</td>\n",
       "    </tr>\n",
       "    <tr>\n",
       "      <th>3</th>\n",
       "      <td>Embedded Software Engineer</td>\n",
       "      <td>https://jobs.apple.com/en-us/details/200419720...</td>\n",
       "    </tr>\n",
       "    <tr>\n",
       "      <th>4</th>\n",
       "      <td>RF Software Engineer</td>\n",
       "      <td>https://jobs.apple.com/en-us/details/200449703...</td>\n",
       "    </tr>\n",
       "  </tbody>\n",
       "</table>\n",
       "</div>"
      ],
      "text/plain": [
       "                        Title  \\\n",
       "0           Software Engineer   \n",
       "1           Software Engineer   \n",
       "2           Software Engineer   \n",
       "3  Embedded Software Engineer   \n",
       "4        RF Software Engineer   \n",
       "\n",
       "                                                Link  \n",
       "0  https://jobs.apple.com/en-us/details/200462197...  \n",
       "1  https://jobs.apple.com/en-us/details/200452787...  \n",
       "2  https://jobs.apple.com/en-us/details/200341466...  \n",
       "3  https://jobs.apple.com/en-us/details/200419720...  \n",
       "4  https://jobs.apple.com/en-us/details/200449703...  "
      ]
     },
     "execution_count": 3,
     "metadata": {},
     "output_type": "execute_result"
    }
   ],
   "source": [
    "df = pd.DataFrame(zip(job_title, job_link))\n",
    "df.columns = ['Title', 'Link']\n",
    "df.head()"
   ]
  },
  {
   "cell_type": "code",
   "execution_count": 4,
   "id": "7ec9cb3b-38c5-41b6-86cb-9d399b64da87",
   "metadata": {},
   "outputs": [
    {
     "data": {
      "text/html": [
       "<div>\n",
       "<style scoped>\n",
       "    .dataframe tbody tr th:only-of-type {\n",
       "        vertical-align: middle;\n",
       "    }\n",
       "\n",
       "    .dataframe tbody tr th {\n",
       "        vertical-align: top;\n",
       "    }\n",
       "\n",
       "    .dataframe thead th {\n",
       "        text-align: right;\n",
       "    }\n",
       "</style>\n",
       "<table border=\"1\" class=\"dataframe\">\n",
       "  <thead>\n",
       "    <tr style=\"text-align: right;\">\n",
       "      <th></th>\n",
       "      <th>Title</th>\n",
       "      <th>Link</th>\n",
       "      <th>Qualifcations</th>\n",
       "    </tr>\n",
       "  </thead>\n",
       "  <tbody>\n",
       "    <tr>\n",
       "      <th>0</th>\n",
       "      <td>Software Engineer</td>\n",
       "      <td>https://jobs.apple.com/en-us/details/200462197...</td>\n",
       "      <td>NaN</td>\n",
       "    </tr>\n",
       "    <tr>\n",
       "      <th>1</th>\n",
       "      <td>Software Engineer</td>\n",
       "      <td>https://jobs.apple.com/en-us/details/200452787...</td>\n",
       "      <td>NaN</td>\n",
       "    </tr>\n",
       "    <tr>\n",
       "      <th>2</th>\n",
       "      <td>Software Engineer</td>\n",
       "      <td>https://jobs.apple.com/en-us/details/200341466...</td>\n",
       "      <td>NaN</td>\n",
       "    </tr>\n",
       "    <tr>\n",
       "      <th>3</th>\n",
       "      <td>Embedded Software Engineer</td>\n",
       "      <td>https://jobs.apple.com/en-us/details/200419720...</td>\n",
       "      <td>NaN</td>\n",
       "    </tr>\n",
       "    <tr>\n",
       "      <th>4</th>\n",
       "      <td>RF Software Engineer</td>\n",
       "      <td>https://jobs.apple.com/en-us/details/200449703...</td>\n",
       "      <td>NaN</td>\n",
       "    </tr>\n",
       "  </tbody>\n",
       "</table>\n",
       "</div>"
      ],
      "text/plain": [
       "                        Title  \\\n",
       "0           Software Engineer   \n",
       "1           Software Engineer   \n",
       "2           Software Engineer   \n",
       "3  Embedded Software Engineer   \n",
       "4        RF Software Engineer   \n",
       "\n",
       "                                                Link  Qualifcations  \n",
       "0  https://jobs.apple.com/en-us/details/200462197...            NaN  \n",
       "1  https://jobs.apple.com/en-us/details/200452787...            NaN  \n",
       "2  https://jobs.apple.com/en-us/details/200341466...            NaN  \n",
       "3  https://jobs.apple.com/en-us/details/200419720...            NaN  \n",
       "4  https://jobs.apple.com/en-us/details/200449703...            NaN  "
      ]
     },
     "execution_count": 4,
     "metadata": {},
     "output_type": "execute_result"
    }
   ],
   "source": [
    "df['Qualifcations'] = np.nan\n",
    "df.head()"
   ]
  },
  {
   "cell_type": "code",
   "execution_count": 5,
   "id": "7334a328-5b1a-4e98-8f23-ac35c417dffd",
   "metadata": {},
   "outputs": [
    {
     "name": "stderr",
     "output_type": "stream",
     "text": [
      "C:\\Users\\hyuan\\AppData\\Local\\Temp\\ipykernel_12312\\3322259016.py:13: SettingWithCopyWarning: \n",
      "A value is trying to be set on a copy of a slice from a DataFrame\n",
      "\n",
      "See the caveats in the documentation: https://pandas.pydata.org/pandas-docs/stable/user_guide/indexing.html#returning-a-view-versus-a-copy\n",
      "  df['Qualifcations'][i] = ''\n"
     ]
    }
   ],
   "source": [
    "driver = webdriver.Chrome()\n",
    "driver.implicitly_wait(20)\n",
    "\n",
    "for i in range(len(df['Link'])):\n",
    "\n",
    "        url = (df['Link'][i])       \n",
    "        driver.get(url)\n",
    "        driver.maximize_window()\n",
    "        time.sleep(3)\n",
    "        \n",
    "        qualificationList = driver.find_element(By.XPATH, \"(//ul[@class='jd__list'])[1]\")\n",
    "        qualificationsearch = qualificationList.find_elements(By.TAG_NAME, \"li\")\n",
    "        df['Qualifcations'][i] = ''\n",
    "\n",
    "        for y in qualificationsearch:\n",
    "            df['Qualifcations'][i] = df['Qualifcations'][i]+' '+y.text  \n",
    "        \n",
    "        \n",
    "driver.close()\n",
    "\n"
   ]
  },
  {
   "cell_type": "code",
   "execution_count": 6,
   "id": "d687dc15-6693-42c5-846c-451f6f72b095",
   "metadata": {},
   "outputs": [
    {
     "data": {
      "text/html": [
       "<div>\n",
       "<style scoped>\n",
       "    .dataframe tbody tr th:only-of-type {\n",
       "        vertical-align: middle;\n",
       "    }\n",
       "\n",
       "    .dataframe tbody tr th {\n",
       "        vertical-align: top;\n",
       "    }\n",
       "\n",
       "    .dataframe thead th {\n",
       "        text-align: right;\n",
       "    }\n",
       "</style>\n",
       "<table border=\"1\" class=\"dataframe\">\n",
       "  <thead>\n",
       "    <tr style=\"text-align: right;\">\n",
       "      <th></th>\n",
       "      <th>Title</th>\n",
       "      <th>Link</th>\n",
       "      <th>Qualifcations</th>\n",
       "    </tr>\n",
       "  </thead>\n",
       "  <tbody>\n",
       "    <tr>\n",
       "      <th>0</th>\n",
       "      <td>Software Engineer</td>\n",
       "      <td>https://jobs.apple.com/en-us/details/200462197...</td>\n",
       "      <td>BS and 3+ years of relevant industry experien...</td>\n",
       "    </tr>\n",
       "    <tr>\n",
       "      <th>1</th>\n",
       "      <td>Software Engineer</td>\n",
       "      <td>https://jobs.apple.com/en-us/details/200452787...</td>\n",
       "      <td>Proficient in C/C++, assembly a plus Backgrou...</td>\n",
       "    </tr>\n",
       "    <tr>\n",
       "      <th>2</th>\n",
       "      <td>Software Engineer</td>\n",
       "      <td>https://jobs.apple.com/en-us/details/200341466...</td>\n",
       "      <td>Shown ability to design and implement modern ...</td>\n",
       "    </tr>\n",
       "    <tr>\n",
       "      <th>3</th>\n",
       "      <td>Embedded Software Engineer</td>\n",
       "      <td>https://jobs.apple.com/en-us/details/200419720...</td>\n",
       "      <td>A genuine passion for embedded software devel...</td>\n",
       "    </tr>\n",
       "    <tr>\n",
       "      <th>4</th>\n",
       "      <td>RF Software Engineer</td>\n",
       "      <td>https://jobs.apple.com/en-us/details/200449703...</td>\n",
       "      <td>Minimum BS with 3 + years of relevant industr...</td>\n",
       "    </tr>\n",
       "  </tbody>\n",
       "</table>\n",
       "</div>"
      ],
      "text/plain": [
       "                        Title  \\\n",
       "0           Software Engineer   \n",
       "1           Software Engineer   \n",
       "2           Software Engineer   \n",
       "3  Embedded Software Engineer   \n",
       "4        RF Software Engineer   \n",
       "\n",
       "                                                Link  \\\n",
       "0  https://jobs.apple.com/en-us/details/200462197...   \n",
       "1  https://jobs.apple.com/en-us/details/200452787...   \n",
       "2  https://jobs.apple.com/en-us/details/200341466...   \n",
       "3  https://jobs.apple.com/en-us/details/200419720...   \n",
       "4  https://jobs.apple.com/en-us/details/200449703...   \n",
       "\n",
       "                                       Qualifcations  \n",
       "0   BS and 3+ years of relevant industry experien...  \n",
       "1   Proficient in C/C++, assembly a plus Backgrou...  \n",
       "2   Shown ability to design and implement modern ...  \n",
       "3   A genuine passion for embedded software devel...  \n",
       "4   Minimum BS with 3 + years of relevant industr...  "
      ]
     },
     "execution_count": 6,
     "metadata": {},
     "output_type": "execute_result"
    }
   ],
   "source": [
    "df.head()"
   ]
  },
  {
   "cell_type": "code",
   "execution_count": 7,
   "id": "7518e771-38af-4799-b32c-12679dd1711d",
   "metadata": {},
   "outputs": [
    {
     "data": {
      "text/plain": [
       "' BS and 3+ years of relevant industry experience in a collaborative, cross-functional environment. Experience with all aspects of software development from requirements gathering, design, deployment, and maintenance. The ideal candidate would be capable of contributing to projects related to: application development (e.g. data acquisition, system control, automation, and UI), system software and firmware, device drivers, and general compute infrastructure. Strong Software Engineering skills in software design, development across object oriented or concurrent programming languages (C or C++, Python, Java, Rust, Swift, or equivalent), and debugging. This would include the programming language itself as well as its toolchains (IDEs and dependency management) and overall ecosystem (frameworks and best practices) across a variety of operating systems. Proficient with software support tools including Unix Command Line / Shell scripting and version control software. Understanding of data storage including trade-offs between relational, no-SQL, and high volume scientific data storage systems. Demonstrated ability to digest and use new technology quickly and strategically. Consistent track record successfully making progress amidst ambiguity. Strong communication skills and experience working on cross-functional projects.'"
      ]
     },
     "execution_count": 7,
     "metadata": {},
     "output_type": "execute_result"
    }
   ],
   "source": [
    "df['Qualifcations'][0]"
   ]
  },
  {
   "cell_type": "code",
   "execution_count": 8,
   "id": "d7c7e0e8-f7fc-42c5-85ef-fbdf756bda6d",
   "metadata": {},
   "outputs": [
    {
     "data": {
      "text/plain": [
       "Title            0\n",
       "Link             0\n",
       "Qualifcations    0\n",
       "dtype: int64"
      ]
     },
     "execution_count": 8,
     "metadata": {},
     "output_type": "execute_result"
    }
   ],
   "source": [
    "df.isna().sum()"
   ]
  },
  {
   "cell_type": "code",
   "execution_count": 9,
   "id": "555dae61-034f-4b9c-b333-e5888ffda437",
   "metadata": {},
   "outputs": [
    {
     "data": {
      "text/plain": [
       "100"
      ]
     },
     "execution_count": 9,
     "metadata": {},
     "output_type": "execute_result"
    }
   ],
   "source": [
    "df = df.dropna()\n",
    "len(df)"
   ]
  },
  {
   "cell_type": "code",
   "execution_count": 10,
   "id": "e0e1216d-1c10-435f-8521-05566c164f6b",
   "metadata": {},
   "outputs": [
    {
     "data": {
      "text/html": [
       "<div>\n",
       "<style scoped>\n",
       "    .dataframe tbody tr th:only-of-type {\n",
       "        vertical-align: middle;\n",
       "    }\n",
       "\n",
       "    .dataframe tbody tr th {\n",
       "        vertical-align: top;\n",
       "    }\n",
       "\n",
       "    .dataframe thead th {\n",
       "        text-align: right;\n",
       "    }\n",
       "</style>\n",
       "<table border=\"1\" class=\"dataframe\">\n",
       "  <thead>\n",
       "    <tr style=\"text-align: right;\">\n",
       "      <th></th>\n",
       "      <th>Title</th>\n",
       "      <th>Link</th>\n",
       "      <th>Qualifcations</th>\n",
       "    </tr>\n",
       "  </thead>\n",
       "  <tbody>\n",
       "    <tr>\n",
       "      <th>72</th>\n",
       "      <td>iOS Software Engineer</td>\n",
       "      <td>https://jobs.apple.com/en-us/details/200359707...</td>\n",
       "      <td>Software development experience Development e...</td>\n",
       "    </tr>\n",
       "    <tr>\n",
       "      <th>18</th>\n",
       "      <td>Motion Software Engineer</td>\n",
       "      <td>https://jobs.apple.com/en-us/details/200455081...</td>\n",
       "      <td>Strong C++ coding skills (3+ years) Solid und...</td>\n",
       "    </tr>\n",
       "    <tr>\n",
       "      <th>73</th>\n",
       "      <td>Software Engineer (Java)</td>\n",
       "      <td>https://jobs.apple.com/en-us/details/200449827...</td>\n",
       "      <td>Expertise in Java and Java Enterprise technol...</td>\n",
       "    </tr>\n",
       "    <tr>\n",
       "      <th>61</th>\n",
       "      <td>Software QA Automation Engineer</td>\n",
       "      <td>https://jobs.apple.com/en-us/details/200351791...</td>\n",
       "      <td>5+ years of experience working as a Software ...</td>\n",
       "    </tr>\n",
       "    <tr>\n",
       "      <th>51</th>\n",
       "      <td>HID - Software Engineer</td>\n",
       "      <td>https://jobs.apple.com/en-us/details/200361029...</td>\n",
       "      <td>2+ years experience developing embedded softw...</td>\n",
       "    </tr>\n",
       "  </tbody>\n",
       "</table>\n",
       "</div>"
      ],
      "text/plain": [
       "                              Title  \\\n",
       "72            iOS Software Engineer   \n",
       "18         Motion Software Engineer   \n",
       "73         Software Engineer (Java)   \n",
       "61  Software QA Automation Engineer   \n",
       "51          HID - Software Engineer   \n",
       "\n",
       "                                                 Link  \\\n",
       "72  https://jobs.apple.com/en-us/details/200359707...   \n",
       "18  https://jobs.apple.com/en-us/details/200455081...   \n",
       "73  https://jobs.apple.com/en-us/details/200449827...   \n",
       "61  https://jobs.apple.com/en-us/details/200351791...   \n",
       "51  https://jobs.apple.com/en-us/details/200361029...   \n",
       "\n",
       "                                        Qualifcations  \n",
       "72   Software development experience Development e...  \n",
       "18   Strong C++ coding skills (3+ years) Solid und...  \n",
       "73   Expertise in Java and Java Enterprise technol...  \n",
       "61   5+ years of experience working as a Software ...  \n",
       "51   2+ years experience developing embedded softw...  "
      ]
     },
     "execution_count": 10,
     "metadata": {},
     "output_type": "execute_result"
    }
   ],
   "source": [
    "df.sample(5)"
   ]
  },
  {
   "cell_type": "code",
   "execution_count": 11,
   "id": "9ef4f723-e269-4783-a78d-bb5cecdd02c8",
   "metadata": {},
   "outputs": [
    {
     "data": {
      "text/plain": [
       "Int64Index([], dtype='int64')"
      ]
     },
     "execution_count": 11,
     "metadata": {},
     "output_type": "execute_result"
    }
   ],
   "source": [
    "to_drop = df[df['Qualifcations'] == ''].index\n",
    "to_drop"
   ]
  },
  {
   "cell_type": "code",
   "execution_count": 12,
   "id": "ac14490f-6e71-4974-92f6-1d5e2e8d4675",
   "metadata": {},
   "outputs": [
    {
     "data": {
      "text/plain": [
       "100"
      ]
     },
     "execution_count": 12,
     "metadata": {},
     "output_type": "execute_result"
    }
   ],
   "source": [
    "df = df.drop(to_drop)\n",
    "len(df)"
   ]
  },
  {
   "cell_type": "code",
   "execution_count": 13,
   "id": "fb5b00e2-4975-4d3e-b679-7593604b7ce5",
   "metadata": {},
   "outputs": [
    {
     "data": {
      "text/html": [
       "<div>\n",
       "<style scoped>\n",
       "    .dataframe tbody tr th:only-of-type {\n",
       "        vertical-align: middle;\n",
       "    }\n",
       "\n",
       "    .dataframe tbody tr th {\n",
       "        vertical-align: top;\n",
       "    }\n",
       "\n",
       "    .dataframe thead th {\n",
       "        text-align: right;\n",
       "    }\n",
       "</style>\n",
       "<table border=\"1\" class=\"dataframe\">\n",
       "  <thead>\n",
       "    <tr style=\"text-align: right;\">\n",
       "      <th></th>\n",
       "      <th>Title</th>\n",
       "      <th>Link</th>\n",
       "      <th>Qualifcations</th>\n",
       "    </tr>\n",
       "  </thead>\n",
       "  <tbody>\n",
       "    <tr>\n",
       "      <th>0</th>\n",
       "      <td>Software Engineer</td>\n",
       "      <td>https://jobs.apple.com/en-us/details/200462197...</td>\n",
       "      <td>BS and 3+ years of relevant industry experien...</td>\n",
       "    </tr>\n",
       "    <tr>\n",
       "      <th>1</th>\n",
       "      <td>Software Engineer</td>\n",
       "      <td>https://jobs.apple.com/en-us/details/200452787...</td>\n",
       "      <td>Proficient in C/C++, assembly a plus Backgrou...</td>\n",
       "    </tr>\n",
       "    <tr>\n",
       "      <th>2</th>\n",
       "      <td>Software Engineer</td>\n",
       "      <td>https://jobs.apple.com/en-us/details/200341466...</td>\n",
       "      <td>Shown ability to design and implement modern ...</td>\n",
       "    </tr>\n",
       "    <tr>\n",
       "      <th>3</th>\n",
       "      <td>Embedded Software Engineer</td>\n",
       "      <td>https://jobs.apple.com/en-us/details/200419720...</td>\n",
       "      <td>A genuine passion for embedded software devel...</td>\n",
       "    </tr>\n",
       "    <tr>\n",
       "      <th>4</th>\n",
       "      <td>RF Software Engineer</td>\n",
       "      <td>https://jobs.apple.com/en-us/details/200449703...</td>\n",
       "      <td>Minimum BS with 3 + years of relevant industr...</td>\n",
       "    </tr>\n",
       "  </tbody>\n",
       "</table>\n",
       "</div>"
      ],
      "text/plain": [
       "                        Title  \\\n",
       "0           Software Engineer   \n",
       "1           Software Engineer   \n",
       "2           Software Engineer   \n",
       "3  Embedded Software Engineer   \n",
       "4        RF Software Engineer   \n",
       "\n",
       "                                                Link  \\\n",
       "0  https://jobs.apple.com/en-us/details/200462197...   \n",
       "1  https://jobs.apple.com/en-us/details/200452787...   \n",
       "2  https://jobs.apple.com/en-us/details/200341466...   \n",
       "3  https://jobs.apple.com/en-us/details/200419720...   \n",
       "4  https://jobs.apple.com/en-us/details/200449703...   \n",
       "\n",
       "                                       Qualifcations  \n",
       "0   BS and 3+ years of relevant industry experien...  \n",
       "1   Proficient in C/C++, assembly a plus Backgrou...  \n",
       "2   Shown ability to design and implement modern ...  \n",
       "3   A genuine passion for embedded software devel...  \n",
       "4   Minimum BS with 3 + years of relevant industr...  "
      ]
     },
     "execution_count": 13,
     "metadata": {},
     "output_type": "execute_result"
    }
   ],
   "source": [
    "df = df.reset_index(drop=True)\n",
    "df.head()"
   ]
  },
  {
   "cell_type": "code",
   "execution_count": 14,
   "id": "7830d852-c05c-44fd-8c0b-9ee6b4885906",
   "metadata": {},
   "outputs": [
    {
     "data": {
      "text/html": [
       "<div>\n",
       "<style scoped>\n",
       "    .dataframe tbody tr th:only-of-type {\n",
       "        vertical-align: middle;\n",
       "    }\n",
       "\n",
       "    .dataframe tbody tr th {\n",
       "        vertical-align: top;\n",
       "    }\n",
       "\n",
       "    .dataframe thead th {\n",
       "        text-align: right;\n",
       "    }\n",
       "</style>\n",
       "<table border=\"1\" class=\"dataframe\">\n",
       "  <thead>\n",
       "    <tr style=\"text-align: right;\">\n",
       "      <th></th>\n",
       "      <th>Company</th>\n",
       "      <th>Title</th>\n",
       "      <th>Link</th>\n",
       "      <th>Qualifcations</th>\n",
       "    </tr>\n",
       "  </thead>\n",
       "  <tbody>\n",
       "    <tr>\n",
       "      <th>0</th>\n",
       "      <td>Apple</td>\n",
       "      <td>Software Engineer</td>\n",
       "      <td>https://jobs.apple.com/en-us/details/200462197...</td>\n",
       "      <td>BS and 3+ years of relevant industry experien...</td>\n",
       "    </tr>\n",
       "    <tr>\n",
       "      <th>1</th>\n",
       "      <td>Apple</td>\n",
       "      <td>Software Engineer</td>\n",
       "      <td>https://jobs.apple.com/en-us/details/200452787...</td>\n",
       "      <td>Proficient in C/C++, assembly a plus Backgrou...</td>\n",
       "    </tr>\n",
       "    <tr>\n",
       "      <th>2</th>\n",
       "      <td>Apple</td>\n",
       "      <td>Software Engineer</td>\n",
       "      <td>https://jobs.apple.com/en-us/details/200341466...</td>\n",
       "      <td>Shown ability to design and implement modern ...</td>\n",
       "    </tr>\n",
       "    <tr>\n",
       "      <th>3</th>\n",
       "      <td>Apple</td>\n",
       "      <td>Embedded Software Engineer</td>\n",
       "      <td>https://jobs.apple.com/en-us/details/200419720...</td>\n",
       "      <td>A genuine passion for embedded software devel...</td>\n",
       "    </tr>\n",
       "    <tr>\n",
       "      <th>4</th>\n",
       "      <td>Apple</td>\n",
       "      <td>RF Software Engineer</td>\n",
       "      <td>https://jobs.apple.com/en-us/details/200449703...</td>\n",
       "      <td>Minimum BS with 3 + years of relevant industr...</td>\n",
       "    </tr>\n",
       "  </tbody>\n",
       "</table>\n",
       "</div>"
      ],
      "text/plain": [
       "  Company                       Title  \\\n",
       "0   Apple           Software Engineer   \n",
       "1   Apple           Software Engineer   \n",
       "2   Apple           Software Engineer   \n",
       "3   Apple  Embedded Software Engineer   \n",
       "4   Apple        RF Software Engineer   \n",
       "\n",
       "                                                Link  \\\n",
       "0  https://jobs.apple.com/en-us/details/200462197...   \n",
       "1  https://jobs.apple.com/en-us/details/200452787...   \n",
       "2  https://jobs.apple.com/en-us/details/200341466...   \n",
       "3  https://jobs.apple.com/en-us/details/200419720...   \n",
       "4  https://jobs.apple.com/en-us/details/200449703...   \n",
       "\n",
       "                                       Qualifcations  \n",
       "0   BS and 3+ years of relevant industry experien...  \n",
       "1   Proficient in C/C++, assembly a plus Backgrou...  \n",
       "2   Shown ability to design and implement modern ...  \n",
       "3   A genuine passion for embedded software devel...  \n",
       "4   Minimum BS with 3 + years of relevant industr...  "
      ]
     },
     "execution_count": 14,
     "metadata": {},
     "output_type": "execute_result"
    }
   ],
   "source": [
    "df['Company'] = 'Apple'\n",
    "df = df[['Company', 'Title', 'Link', 'Qualifcations']]\n",
    "df.head()"
   ]
  },
  {
   "cell_type": "code",
   "execution_count": 16,
   "id": "9aa583a2-fe62-40d2-bd9d-525685cc038a",
   "metadata": {},
   "outputs": [],
   "source": [
    "df.to_csv('apple_jobs.csv')"
   ]
  },
  {
   "cell_type": "code",
   "execution_count": 17,
   "id": "d3552c47",
   "metadata": {},
   "outputs": [
    {
     "data": {
      "text/plain": [
       "(100, 4)"
      ]
     },
     "execution_count": 17,
     "metadata": {},
     "output_type": "execute_result"
    }
   ],
   "source": [
    "df.shape"
   ]
  },
  {
   "cell_type": "code",
   "execution_count": null,
   "id": "5012c0b8",
   "metadata": {},
   "outputs": [],
   "source": []
  }
 ],
 "metadata": {
  "kernelspec": {
   "display_name": "Python 3 (ipykernel)",
   "language": "python",
   "name": "python3"
  },
  "language_info": {
   "codemirror_mode": {
    "name": "ipython",
    "version": 3
   },
   "file_extension": ".py",
   "mimetype": "text/x-python",
   "name": "python",
   "nbconvert_exporter": "python",
   "pygments_lexer": "ipython3",
   "version": "3.10.4"
  }
 },
 "nbformat": 4,
 "nbformat_minor": 5
}

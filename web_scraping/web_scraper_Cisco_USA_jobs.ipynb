{
 "cells": [
  {
   "cell_type": "code",
   "execution_count": 2,
   "id": "aa8ed824",
   "metadata": {},
   "outputs": [],
   "source": [
    "from selenium import webdriver\n",
    "import pandas as pd\n",
    "import numpy as np\n",
    "from selenium.webdriver.common.by import By"
   ]
  },
  {
   "cell_type": "code",
   "execution_count": 2,
   "id": "4a75df8a",
   "metadata": {},
   "outputs": [
    {
     "name": "stdout",
     "output_type": "stream",
     "text": [
      "last page scraped:  13\n"
     ]
    }
   ],
   "source": [
    "job_title = []\n",
    "job_link = []\n",
    "\n",
    "x = 1\n",
    "i = 0\n",
    "\n",
    "driver = webdriver.Chrome()\n",
    "driver.implicitly_wait(10)\n",
    "    \n",
    "while x > 0:\n",
    "\n",
    "    try:\n",
    "        url = 'https://jobs.cisco.com/jobs/SearchJobs/?21178=%5B169482%5D&21178_format=6020&listFilterMode=1&projectOffset='+str(i*25)    \n",
    "        driver.get(url)\n",
    "\n",
    "        #table = driver.find_element(By.XPATH, '//*[@id=\"content\"]/div/div[2]/table')\n",
    "\n",
    "        for j in range(1,25):\n",
    "            job_title.append(driver.find_element(By.XPATH, '//*[@id=\"content\"]/div/div[2]/table/tbody/tr['+str(j)+']/td[1]/a').text       \n",
    "            job_link.append(driver.find_element(By.XPATH, '//*[@id=\"content\"]/div/div[2]/table/tbody/tr['+str(j)+']/td[1]/a').get_attribute('href'))\n",
    "                                                         \n",
    "        i += 1\n",
    "    except:\n",
    "        print('last page scraped: ', i)\n",
    "        x -= 1 \n",
    "        \n",
    "driver.close()\n",
    "\n"
   ]
  },
  {
   "cell_type": "code",
   "execution_count": 6,
   "id": "dbe83db6",
   "metadata": {},
   "outputs": [
    {
     "name": "stdout",
     "output_type": "stream",
     "text": [
      "323 323\n"
     ]
    }
   ],
   "source": [
    "print(len(job_title), len(job_link))"
   ]
  },
  {
   "cell_type": "code",
   "execution_count": 7,
   "id": "727ef009",
   "metadata": {},
   "outputs": [
    {
     "data": {
      "text/html": [
       "<div>\n",
       "<style scoped>\n",
       "    .dataframe tbody tr th:only-of-type {\n",
       "        vertical-align: middle;\n",
       "    }\n",
       "\n",
       "    .dataframe tbody tr th {\n",
       "        vertical-align: top;\n",
       "    }\n",
       "\n",
       "    .dataframe thead th {\n",
       "        text-align: right;\n",
       "    }\n",
       "</style>\n",
       "<table border=\"1\" class=\"dataframe\">\n",
       "  <thead>\n",
       "    <tr style=\"text-align: right;\">\n",
       "      <th></th>\n",
       "      <th>TITLE</th>\n",
       "      <th>LINK</th>\n",
       "    </tr>\n",
       "  </thead>\n",
       "  <tbody>\n",
       "    <tr>\n",
       "      <th>0</th>\n",
       "      <td>Network Security - Technical Leader/Customer L...</td>\n",
       "      <td>https://jobs.cisco.com/jobs/ProjectDetail/Netw...</td>\n",
       "    </tr>\n",
       "    <tr>\n",
       "      <th>1</th>\n",
       "      <td>Customer Experience Product Manager</td>\n",
       "      <td>https://jobs.cisco.com/jobs/ProjectDetail/Cust...</td>\n",
       "    </tr>\n",
       "    <tr>\n",
       "      <th>2</th>\n",
       "      <td>Software Engineer - Management Software</td>\n",
       "      <td>https://jobs.cisco.com/jobs/ProjectDetail/Soft...</td>\n",
       "    </tr>\n",
       "    <tr>\n",
       "      <th>3</th>\n",
       "      <td>Senior Information Security Engineer</td>\n",
       "      <td>https://jobs.cisco.com/jobs/ProjectDetail/Seni...</td>\n",
       "    </tr>\n",
       "    <tr>\n",
       "      <th>4</th>\n",
       "      <td>Customer Experience Product Manager</td>\n",
       "      <td>https://jobs.cisco.com/jobs/ProjectDetail/Cust...</td>\n",
       "    </tr>\n",
       "  </tbody>\n",
       "</table>\n",
       "</div>"
      ],
      "text/plain": [
       "                                               TITLE  \\\n",
       "0  Network Security - Technical Leader/Customer L...   \n",
       "1                Customer Experience Product Manager   \n",
       "2            Software Engineer - Management Software   \n",
       "3               Senior Information Security Engineer   \n",
       "4                Customer Experience Product Manager   \n",
       "\n",
       "                                                LINK  \n",
       "0  https://jobs.cisco.com/jobs/ProjectDetail/Netw...  \n",
       "1  https://jobs.cisco.com/jobs/ProjectDetail/Cust...  \n",
       "2  https://jobs.cisco.com/jobs/ProjectDetail/Soft...  \n",
       "3  https://jobs.cisco.com/jobs/ProjectDetail/Seni...  \n",
       "4  https://jobs.cisco.com/jobs/ProjectDetail/Cust...  "
      ]
     },
     "execution_count": 7,
     "metadata": {},
     "output_type": "execute_result"
    }
   ],
   "source": [
    "df = pd.DataFrame(zip(job_title, job_link))\n",
    "df.columns = ['TITLE', 'LINK']\n",
    "df.head()"
   ]
  },
  {
   "cell_type": "code",
   "execution_count": 8,
   "id": "2cc804ae",
   "metadata": {},
   "outputs": [
    {
     "data": {
      "text/html": [
       "<div>\n",
       "<style scoped>\n",
       "    .dataframe tbody tr th:only-of-type {\n",
       "        vertical-align: middle;\n",
       "    }\n",
       "\n",
       "    .dataframe tbody tr th {\n",
       "        vertical-align: top;\n",
       "    }\n",
       "\n",
       "    .dataframe thead th {\n",
       "        text-align: right;\n",
       "    }\n",
       "</style>\n",
       "<table border=\"1\" class=\"dataframe\">\n",
       "  <thead>\n",
       "    <tr style=\"text-align: right;\">\n",
       "      <th></th>\n",
       "      <th>TITLE</th>\n",
       "      <th>LINK</th>\n",
       "      <th>QUALIFICATIONS</th>\n",
       "    </tr>\n",
       "  </thead>\n",
       "  <tbody>\n",
       "    <tr>\n",
       "      <th>0</th>\n",
       "      <td>Network Security - Technical Leader/Customer L...</td>\n",
       "      <td>https://jobs.cisco.com/jobs/ProjectDetail/Netw...</td>\n",
       "      <td>NaN</td>\n",
       "    </tr>\n",
       "    <tr>\n",
       "      <th>1</th>\n",
       "      <td>Customer Experience Product Manager</td>\n",
       "      <td>https://jobs.cisco.com/jobs/ProjectDetail/Cust...</td>\n",
       "      <td>NaN</td>\n",
       "    </tr>\n",
       "    <tr>\n",
       "      <th>2</th>\n",
       "      <td>Software Engineer - Management Software</td>\n",
       "      <td>https://jobs.cisco.com/jobs/ProjectDetail/Soft...</td>\n",
       "      <td>NaN</td>\n",
       "    </tr>\n",
       "    <tr>\n",
       "      <th>3</th>\n",
       "      <td>Senior Information Security Engineer</td>\n",
       "      <td>https://jobs.cisco.com/jobs/ProjectDetail/Seni...</td>\n",
       "      <td>NaN</td>\n",
       "    </tr>\n",
       "    <tr>\n",
       "      <th>4</th>\n",
       "      <td>Customer Experience Product Manager</td>\n",
       "      <td>https://jobs.cisco.com/jobs/ProjectDetail/Cust...</td>\n",
       "      <td>NaN</td>\n",
       "    </tr>\n",
       "  </tbody>\n",
       "</table>\n",
       "</div>"
      ],
      "text/plain": [
       "                                               TITLE  \\\n",
       "0  Network Security - Technical Leader/Customer L...   \n",
       "1                Customer Experience Product Manager   \n",
       "2            Software Engineer - Management Software   \n",
       "3               Senior Information Security Engineer   \n",
       "4                Customer Experience Product Manager   \n",
       "\n",
       "                                                LINK  QUALIFICATIONS  \n",
       "0  https://jobs.cisco.com/jobs/ProjectDetail/Netw...             NaN  \n",
       "1  https://jobs.cisco.com/jobs/ProjectDetail/Cust...             NaN  \n",
       "2  https://jobs.cisco.com/jobs/ProjectDetail/Soft...             NaN  \n",
       "3  https://jobs.cisco.com/jobs/ProjectDetail/Seni...             NaN  \n",
       "4  https://jobs.cisco.com/jobs/ProjectDetail/Cust...             NaN  "
      ]
     },
     "execution_count": 8,
     "metadata": {},
     "output_type": "execute_result"
    }
   ],
   "source": [
    "df['QUALIFICATIONS'] = np.nan\n",
    "df.head()"
   ]
  },
  {
   "cell_type": "code",
   "execution_count": 20,
   "id": "3e7aaacc",
   "metadata": {},
   "outputs": [],
   "source": [
    "driver = webdriver.Chrome()\n",
    "\n",
    "for i in range(len(df['LINK'])):\n",
    "    try:\n",
    "\n",
    "        url = (df['LINK'][i])       \n",
    "        driver.get(url)\n",
    "\n",
    "        txt = driver.find_element(By.XPATH, '//*[@id=\"content\"]/div/div[2]/div/div[2]/div[3]/div/div[1]')\n",
    "        qual = txt.find_elements(By.TAG_NAME, 'li')\n",
    "        df['QUALIFICATIONS'][i] = ''\n",
    "\n",
    "        for q in qual:\n",
    "            df['QUALIFICATIONS'][i] = df['QUALIFICATIONS'][i]+' '+q.text  \n",
    "        \n",
    "    except:\n",
    "        df['QUALIFICATIONS'][i] = np.nan \n",
    "        \n",
    "driver.close()\n",
    "\n"
   ]
  },
  {
   "cell_type": "code",
   "execution_count": 21,
   "id": "036f4f25",
   "metadata": {
    "scrolled": true
   },
   "outputs": [
    {
     "data": {
      "text/html": [
       "<div>\n",
       "<style scoped>\n",
       "    .dataframe tbody tr th:only-of-type {\n",
       "        vertical-align: middle;\n",
       "    }\n",
       "\n",
       "    .dataframe tbody tr th {\n",
       "        vertical-align: top;\n",
       "    }\n",
       "\n",
       "    .dataframe thead th {\n",
       "        text-align: right;\n",
       "    }\n",
       "</style>\n",
       "<table border=\"1\" class=\"dataframe\">\n",
       "  <thead>\n",
       "    <tr style=\"text-align: right;\">\n",
       "      <th></th>\n",
       "      <th>TITLE</th>\n",
       "      <th>LINK</th>\n",
       "      <th>QUALIFICATIONS</th>\n",
       "    </tr>\n",
       "  </thead>\n",
       "  <tbody>\n",
       "    <tr>\n",
       "      <th>0</th>\n",
       "      <td>Network Security - Technical Leader/Customer L...</td>\n",
       "      <td>https://jobs.cisco.com/jobs/ProjectDetail/Netw...</td>\n",
       "      <td>Work with Product Management/Technical Market...</td>\n",
       "    </tr>\n",
       "    <tr>\n",
       "      <th>1</th>\n",
       "      <td>Customer Experience Product Manager</td>\n",
       "      <td>https://jobs.cisco.com/jobs/ProjectDetail/Cust...</td>\n",
       "      <td>Define product vision, strategy and feature r...</td>\n",
       "    </tr>\n",
       "    <tr>\n",
       "      <th>2</th>\n",
       "      <td>Software Engineer - Management Software</td>\n",
       "      <td>https://jobs.cisco.com/jobs/ProjectDetail/Soft...</td>\n",
       "      <td>System Management expertise (Server/Network/S...</td>\n",
       "    </tr>\n",
       "    <tr>\n",
       "      <th>3</th>\n",
       "      <td>Senior Information Security Engineer</td>\n",
       "      <td>https://jobs.cisco.com/jobs/ProjectDetail/Seni...</td>\n",
       "      <td>Assist and influence management in the develo...</td>\n",
       "    </tr>\n",
       "    <tr>\n",
       "      <th>4</th>\n",
       "      <td>Customer Experience Product Manager</td>\n",
       "      <td>https://jobs.cisco.com/jobs/ProjectDetail/Cust...</td>\n",
       "      <td>Define product vision, strategy and feature r...</td>\n",
       "    </tr>\n",
       "  </tbody>\n",
       "</table>\n",
       "</div>"
      ],
      "text/plain": [
       "                                               TITLE  \\\n",
       "0  Network Security - Technical Leader/Customer L...   \n",
       "1                Customer Experience Product Manager   \n",
       "2            Software Engineer - Management Software   \n",
       "3               Senior Information Security Engineer   \n",
       "4                Customer Experience Product Manager   \n",
       "\n",
       "                                                LINK  \\\n",
       "0  https://jobs.cisco.com/jobs/ProjectDetail/Netw...   \n",
       "1  https://jobs.cisco.com/jobs/ProjectDetail/Cust...   \n",
       "2  https://jobs.cisco.com/jobs/ProjectDetail/Soft...   \n",
       "3  https://jobs.cisco.com/jobs/ProjectDetail/Seni...   \n",
       "4  https://jobs.cisco.com/jobs/ProjectDetail/Cust...   \n",
       "\n",
       "                                      QUALIFICATIONS  \n",
       "0   Work with Product Management/Technical Market...  \n",
       "1   Define product vision, strategy and feature r...  \n",
       "2   System Management expertise (Server/Network/S...  \n",
       "3   Assist and influence management in the develo...  \n",
       "4   Define product vision, strategy and feature r...  "
      ]
     },
     "execution_count": 21,
     "metadata": {},
     "output_type": "execute_result"
    }
   ],
   "source": [
    "df.head()"
   ]
  },
  {
   "cell_type": "code",
   "execution_count": 22,
   "id": "be804afa",
   "metadata": {},
   "outputs": [
    {
     "data": {
      "text/plain": [
       "' Work with Product Management/Technical Marketing/Sales on Customer use cases & topology and convey the solution-level engineering requirements. Identify gaps and pain points in usability, serviceability, and performance and then refine features related to these gaps/pain points to be addressed over multiple releases. Partner with Product Management to steer the Network security product roadmap. Align with and influence various stakeholders across the globe to evolve engineering best practices and ensure high-quality product releases. Represent Cisco to customers and the rest of the industry in the development and deployment of network security solutions. Ability to learn quickly and stay current with the latest business and technology innovations in the Network Security domain. 10+ years of Industry experience. Masters Degree 10+ years using containerized applications/micro services, Docker, Kubernetes, and various cloud platforms Well-versed with industry trends and the technology landscape Capable of building, influencing, and fostering a high-performance culture. Possess strong communication and interpersonal skills and the ability to work effectively with cross-functional teams across the globe. Understand modern agile practices.'"
      ]
     },
     "execution_count": 22,
     "metadata": {},
     "output_type": "execute_result"
    }
   ],
   "source": [
    "df['QUALIFICATIONS'][0]"
   ]
  },
  {
   "cell_type": "code",
   "execution_count": 23,
   "id": "fcb28b5d",
   "metadata": {},
   "outputs": [
    {
     "data": {
      "text/plain": [
       "TITLE             0\n",
       "LINK              0\n",
       "QUALIFICATIONS    0\n",
       "dtype: int64"
      ]
     },
     "execution_count": 23,
     "metadata": {},
     "output_type": "execute_result"
    }
   ],
   "source": [
    "df.isna().sum()"
   ]
  },
  {
   "cell_type": "code",
   "execution_count": 24,
   "id": "182edd98",
   "metadata": {},
   "outputs": [
    {
     "data": {
      "text/plain": [
       "323"
      ]
     },
     "execution_count": 24,
     "metadata": {},
     "output_type": "execute_result"
    }
   ],
   "source": [
    "df = df.dropna()\n",
    "len(df)"
   ]
  },
  {
   "cell_type": "code",
   "execution_count": 25,
   "id": "df3a24b9",
   "metadata": {},
   "outputs": [
    {
     "data": {
      "text/html": [
       "<div>\n",
       "<style scoped>\n",
       "    .dataframe tbody tr th:only-of-type {\n",
       "        vertical-align: middle;\n",
       "    }\n",
       "\n",
       "    .dataframe tbody tr th {\n",
       "        vertical-align: top;\n",
       "    }\n",
       "\n",
       "    .dataframe thead th {\n",
       "        text-align: right;\n",
       "    }\n",
       "</style>\n",
       "<table border=\"1\" class=\"dataframe\">\n",
       "  <thead>\n",
       "    <tr style=\"text-align: right;\">\n",
       "      <th></th>\n",
       "      <th>TITLE</th>\n",
       "      <th>LINK</th>\n",
       "      <th>QUALIFICATIONS</th>\n",
       "    </tr>\n",
       "  </thead>\n",
       "  <tbody>\n",
       "    <tr>\n",
       "      <th>101</th>\n",
       "      <td>Federal Operations Manager</td>\n",
       "      <td>https://jobs.cisco.com/jobs/ProjectDetail/Fede...</td>\n",
       "      <td>Drive and understand user value Manage the da...</td>\n",
       "    </tr>\n",
       "    <tr>\n",
       "      <th>144</th>\n",
       "      <td>1379957 Customer Delivery Consulting Engineer</td>\n",
       "      <td>https://jobs.cisco.com/jobs/ProjectDetail/1379...</td>\n",
       "      <td>Resolution leader, problem solving - troubles...</td>\n",
       "    </tr>\n",
       "    <tr>\n",
       "      <th>136</th>\n",
       "      <td>Software Engineer</td>\n",
       "      <td>https://jobs.cisco.com/jobs/ProjectDetail/Soft...</td>\n",
       "      <td>MS (preferred) or BS in Computer Science or e...</td>\n",
       "    </tr>\n",
       "    <tr>\n",
       "      <th>202</th>\n",
       "      <td>System Architect - Core Production Network, Go...</td>\n",
       "      <td>https://jobs.cisco.com/jobs/ProjectDetail/Syst...</td>\n",
       "      <td>The latest on relevant solutions, products an...</td>\n",
       "    </tr>\n",
       "    <tr>\n",
       "      <th>137</th>\n",
       "      <td>M&amp;A Stock Plan Manager</td>\n",
       "      <td>https://jobs.cisco.com/jobs/ProjectDetail/M-A-...</td>\n",
       "      <td>Review due diligence analysis of target compa...</td>\n",
       "    </tr>\n",
       "  </tbody>\n",
       "</table>\n",
       "</div>"
      ],
      "text/plain": [
       "                                                 TITLE  \\\n",
       "101                         Federal Operations Manager   \n",
       "144      1379957 Customer Delivery Consulting Engineer   \n",
       "136                                  Software Engineer   \n",
       "202  System Architect - Core Production Network, Go...   \n",
       "137                             M&A Stock Plan Manager   \n",
       "\n",
       "                                                  LINK  \\\n",
       "101  https://jobs.cisco.com/jobs/ProjectDetail/Fede...   \n",
       "144  https://jobs.cisco.com/jobs/ProjectDetail/1379...   \n",
       "136  https://jobs.cisco.com/jobs/ProjectDetail/Soft...   \n",
       "202  https://jobs.cisco.com/jobs/ProjectDetail/Syst...   \n",
       "137  https://jobs.cisco.com/jobs/ProjectDetail/M-A-...   \n",
       "\n",
       "                                        QUALIFICATIONS  \n",
       "101   Drive and understand user value Manage the da...  \n",
       "144   Resolution leader, problem solving - troubles...  \n",
       "136   MS (preferred) or BS in Computer Science or e...  \n",
       "202   The latest on relevant solutions, products an...  \n",
       "137   Review due diligence analysis of target compa...  "
      ]
     },
     "execution_count": 25,
     "metadata": {},
     "output_type": "execute_result"
    }
   ],
   "source": [
    "df.sample(5)"
   ]
  },
  {
   "cell_type": "code",
   "execution_count": null,
   "id": "204d9275",
   "metadata": {},
   "outputs": [],
   "source": []
  },
  {
   "cell_type": "code",
   "execution_count": 27,
   "id": "9d601651",
   "metadata": {
    "scrolled": true
   },
   "outputs": [
    {
     "data": {
      "text/plain": [
       "Int64Index([ 13,  16,  27,  38,  41,  55,  60,  97, 103, 119, 123, 126, 139,\n",
       "            140, 141, 166, 177, 188, 192, 196, 199, 221, 239, 241, 247, 265,\n",
       "            266, 267, 268, 277, 281, 287, 288, 289, 292, 293, 302, 309],\n",
       "           dtype='int64')"
      ]
     },
     "execution_count": 27,
     "metadata": {},
     "output_type": "execute_result"
    }
   ],
   "source": [
    "to_drop = df[df['QUALIFICATIONS'] == ''].index\n",
    "to_drop"
   ]
  },
  {
   "cell_type": "code",
   "execution_count": 28,
   "id": "91fc334b",
   "metadata": {},
   "outputs": [
    {
     "data": {
      "text/plain": [
       "285"
      ]
     },
     "execution_count": 28,
     "metadata": {},
     "output_type": "execute_result"
    }
   ],
   "source": [
    "df = df.drop(to_drop)\n",
    "len(df)"
   ]
  },
  {
   "cell_type": "code",
   "execution_count": 29,
   "id": "4de6beb0",
   "metadata": {},
   "outputs": [
    {
     "data": {
      "text/html": [
       "<div>\n",
       "<style scoped>\n",
       "    .dataframe tbody tr th:only-of-type {\n",
       "        vertical-align: middle;\n",
       "    }\n",
       "\n",
       "    .dataframe tbody tr th {\n",
       "        vertical-align: top;\n",
       "    }\n",
       "\n",
       "    .dataframe thead th {\n",
       "        text-align: right;\n",
       "    }\n",
       "</style>\n",
       "<table border=\"1\" class=\"dataframe\">\n",
       "  <thead>\n",
       "    <tr style=\"text-align: right;\">\n",
       "      <th></th>\n",
       "      <th>TITLE</th>\n",
       "      <th>LINK</th>\n",
       "      <th>QUALIFICATIONS</th>\n",
       "    </tr>\n",
       "  </thead>\n",
       "  <tbody>\n",
       "    <tr>\n",
       "      <th>0</th>\n",
       "      <td>Network Security - Technical Leader/Customer L...</td>\n",
       "      <td>https://jobs.cisco.com/jobs/ProjectDetail/Netw...</td>\n",
       "      <td>Work with Product Management/Technical Market...</td>\n",
       "    </tr>\n",
       "    <tr>\n",
       "      <th>1</th>\n",
       "      <td>Customer Experience Product Manager</td>\n",
       "      <td>https://jobs.cisco.com/jobs/ProjectDetail/Cust...</td>\n",
       "      <td>Define product vision, strategy and feature r...</td>\n",
       "    </tr>\n",
       "    <tr>\n",
       "      <th>2</th>\n",
       "      <td>Software Engineer - Management Software</td>\n",
       "      <td>https://jobs.cisco.com/jobs/ProjectDetail/Soft...</td>\n",
       "      <td>System Management expertise (Server/Network/S...</td>\n",
       "    </tr>\n",
       "    <tr>\n",
       "      <th>3</th>\n",
       "      <td>Senior Information Security Engineer</td>\n",
       "      <td>https://jobs.cisco.com/jobs/ProjectDetail/Seni...</td>\n",
       "      <td>Assist and influence management in the develo...</td>\n",
       "    </tr>\n",
       "    <tr>\n",
       "      <th>4</th>\n",
       "      <td>Customer Experience Product Manager</td>\n",
       "      <td>https://jobs.cisco.com/jobs/ProjectDetail/Cust...</td>\n",
       "      <td>Define product vision, strategy and feature r...</td>\n",
       "    </tr>\n",
       "  </tbody>\n",
       "</table>\n",
       "</div>"
      ],
      "text/plain": [
       "                                               TITLE  \\\n",
       "0  Network Security - Technical Leader/Customer L...   \n",
       "1                Customer Experience Product Manager   \n",
       "2            Software Engineer - Management Software   \n",
       "3               Senior Information Security Engineer   \n",
       "4                Customer Experience Product Manager   \n",
       "\n",
       "                                                LINK  \\\n",
       "0  https://jobs.cisco.com/jobs/ProjectDetail/Netw...   \n",
       "1  https://jobs.cisco.com/jobs/ProjectDetail/Cust...   \n",
       "2  https://jobs.cisco.com/jobs/ProjectDetail/Soft...   \n",
       "3  https://jobs.cisco.com/jobs/ProjectDetail/Seni...   \n",
       "4  https://jobs.cisco.com/jobs/ProjectDetail/Cust...   \n",
       "\n",
       "                                      QUALIFICATIONS  \n",
       "0   Work with Product Management/Technical Market...  \n",
       "1   Define product vision, strategy and feature r...  \n",
       "2   System Management expertise (Server/Network/S...  \n",
       "3   Assist and influence management in the develo...  \n",
       "4   Define product vision, strategy and feature r...  "
      ]
     },
     "execution_count": 29,
     "metadata": {},
     "output_type": "execute_result"
    }
   ],
   "source": [
    "df = df.reset_index(drop=True)\n",
    "df.head()"
   ]
  },
  {
   "cell_type": "code",
   "execution_count": 30,
   "id": "26858e0d",
   "metadata": {},
   "outputs": [],
   "source": [
    "df.to_csv('cisco_jobs_usa.csv')"
   ]
  },
  {
   "cell_type": "code",
   "execution_count": 8,
   "id": "e2174104",
   "metadata": {},
   "outputs": [
    {
     "data": {
      "text/html": [
       "<div>\n",
       "<style scoped>\n",
       "    .dataframe tbody tr th:only-of-type {\n",
       "        vertical-align: middle;\n",
       "    }\n",
       "\n",
       "    .dataframe tbody tr th {\n",
       "        vertical-align: top;\n",
       "    }\n",
       "\n",
       "    .dataframe thead th {\n",
       "        text-align: right;\n",
       "    }\n",
       "</style>\n",
       "<table border=\"1\" class=\"dataframe\">\n",
       "  <thead>\n",
       "    <tr style=\"text-align: right;\">\n",
       "      <th></th>\n",
       "      <th>COMPANY</th>\n",
       "      <th>TITLE</th>\n",
       "      <th>QUALIFICATIONS</th>\n",
       "      <th>LINK</th>\n",
       "      <th>DESCRIPTION</th>\n",
       "    </tr>\n",
       "  </thead>\n",
       "  <tbody>\n",
       "    <tr>\n",
       "      <th>0</th>\n",
       "      <td>Cisco</td>\n",
       "      <td>Network Security - Technical Leader/Customer L...</td>\n",
       "      <td>Work with Product Management/Technical Market...</td>\n",
       "      <td>https://jobs.cisco.com/jobs/ProjectDetail/Netw...</td>\n",
       "      <td>Work with Product Management/Technical Market...</td>\n",
       "    </tr>\n",
       "    <tr>\n",
       "      <th>1</th>\n",
       "      <td>Cisco</td>\n",
       "      <td>Customer Experience Product Manager</td>\n",
       "      <td>Define product vision, strategy and feature r...</td>\n",
       "      <td>https://jobs.cisco.com/jobs/ProjectDetail/Cust...</td>\n",
       "      <td>Define product vision, strategy and feature r...</td>\n",
       "    </tr>\n",
       "    <tr>\n",
       "      <th>2</th>\n",
       "      <td>Cisco</td>\n",
       "      <td>Software Engineer - Management Software</td>\n",
       "      <td>System Management expertise (Server/Network/S...</td>\n",
       "      <td>https://jobs.cisco.com/jobs/ProjectDetail/Soft...</td>\n",
       "      <td>System Management expertise (Server/Network/S...</td>\n",
       "    </tr>\n",
       "    <tr>\n",
       "      <th>3</th>\n",
       "      <td>Cisco</td>\n",
       "      <td>Senior Information Security Engineer</td>\n",
       "      <td>Assist and influence management in the develo...</td>\n",
       "      <td>https://jobs.cisco.com/jobs/ProjectDetail/Seni...</td>\n",
       "      <td>Assist and influence management in the develo...</td>\n",
       "    </tr>\n",
       "    <tr>\n",
       "      <th>4</th>\n",
       "      <td>Cisco</td>\n",
       "      <td>Customer Experience Product Manager</td>\n",
       "      <td>Define product vision, strategy and feature r...</td>\n",
       "      <td>https://jobs.cisco.com/jobs/ProjectDetail/Cust...</td>\n",
       "      <td>Define product vision, strategy and feature r...</td>\n",
       "    </tr>\n",
       "  </tbody>\n",
       "</table>\n",
       "</div>"
      ],
      "text/plain": [
       "  COMPANY                                              TITLE  \\\n",
       "0   Cisco  Network Security - Technical Leader/Customer L...   \n",
       "1   Cisco                Customer Experience Product Manager   \n",
       "2   Cisco            Software Engineer - Management Software   \n",
       "3   Cisco               Senior Information Security Engineer   \n",
       "4   Cisco                Customer Experience Product Manager   \n",
       "\n",
       "                                      QUALIFICATIONS  \\\n",
       "0   Work with Product Management/Technical Market...   \n",
       "1   Define product vision, strategy and feature r...   \n",
       "2   System Management expertise (Server/Network/S...   \n",
       "3   Assist and influence management in the develo...   \n",
       "4   Define product vision, strategy and feature r...   \n",
       "\n",
       "                                                LINK  \\\n",
       "0  https://jobs.cisco.com/jobs/ProjectDetail/Netw...   \n",
       "1  https://jobs.cisco.com/jobs/ProjectDetail/Cust...   \n",
       "2  https://jobs.cisco.com/jobs/ProjectDetail/Soft...   \n",
       "3  https://jobs.cisco.com/jobs/ProjectDetail/Seni...   \n",
       "4  https://jobs.cisco.com/jobs/ProjectDetail/Cust...   \n",
       "\n",
       "                                         DESCRIPTION  \n",
       "0   Work with Product Management/Technical Market...  \n",
       "1   Define product vision, strategy and feature r...  \n",
       "2   System Management expertise (Server/Network/S...  \n",
       "3   Assist and influence management in the develo...  \n",
       "4   Define product vision, strategy and feature r...  "
      ]
     },
     "execution_count": 8,
     "metadata": {},
     "output_type": "execute_result"
    }
   ],
   "source": [
    "df['COMPANY'] = 'Cisco'\n",
    "df['DESCRIPTION'] = df['QUALIFICATIONS']\n",
    "df = df[['COMPANY', 'TITLE', 'QUALIFICATIONS', 'LINK', 'DESCRIPTION']]\n",
    "df.head()"
   ]
  },
  {
   "cell_type": "code",
   "execution_count": 7,
   "id": "7f5ef444",
   "metadata": {},
   "outputs": [],
   "source": [
    "df.to_csv('cisco_jobs_usa.csv')"
   ]
  },
  {
   "cell_type": "code",
   "execution_count": null,
   "id": "efa22f77",
   "metadata": {},
   "outputs": [],
   "source": []
  }
 ],
 "metadata": {
  "kernelspec": {
   "display_name": "Python 3 (ipykernel)",
   "language": "python",
   "name": "python3"
  },
  "language_info": {
   "codemirror_mode": {
    "name": "ipython",
    "version": 3
   },
   "file_extension": ".py",
   "mimetype": "text/x-python",
   "name": "python",
   "nbconvert_exporter": "python",
   "pygments_lexer": "ipython3",
   "version": "3.9.7"
  }
 },
 "nbformat": 4,
 "nbformat_minor": 5
}

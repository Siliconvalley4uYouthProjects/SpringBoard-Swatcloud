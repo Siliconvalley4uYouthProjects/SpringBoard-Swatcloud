{
 "cells": [
  {
   "cell_type": "code",
   "execution_count": 14,
   "id": "3667fa7f",
   "metadata": {},
   "outputs": [],
   "source": [
    "from selenium import webdriver\n",
    "from bs4 import BeautifulSoup\n",
    "import time\n",
    "import pandas as pd\n",
    "import re"
   ]
  },
  {
   "cell_type": "code",
   "execution_count": 2,
   "id": "c4682543",
   "metadata": {},
   "outputs": [],
   "source": [
    "chrome_options = webdriver.ChromeOptions()\n",
    "chrome_options.add_argument('--headless')\n",
    "chrome_options.add_argument('--no-sandbox')\n",
    "chrome_options.add_argument('--disable-dev-shm-usage')"
   ]
  },
  {
   "cell_type": "code",
   "execution_count": 3,
   "id": "8b8a526c",
   "metadata": {},
   "outputs": [],
   "source": [
    "# go to the first page of job post\n",
    "url = 'https://apply.deloitte.com/careers/SearchJobs?sort=relevancy'\n",
    "driver = webdriver.Chrome()\n",
    "\n",
    "driver.implicitly_wait(2)\n",
    "driver.get(url)"
   ]
  },
  {
   "cell_type": "code",
   "execution_count": 4,
   "id": "8fe112b1",
   "metadata": {},
   "outputs": [],
   "source": [
    "# load all jobs to the current page by clicking the load more button\n",
    "next_button = driver.find_element('xpath', '//*[@class=\"button button--default button--loadmore\"]')\n",
    "while next_button:\n",
    "    driver.execute_script(\"arguments[0].click();\", next_button)\n",
    "    time.sleep(2)\n",
    "    try:\n",
    "        next_button = driver.find_element('xpath', '//*[@class=\"button button--default button--loadmore\"]')\n",
    "    except:\n",
    "        break"
   ]
  },
  {
   "cell_type": "code",
   "execution_count": 5,
   "id": "77ce6790",
   "metadata": {},
   "outputs": [],
   "source": [
    "# scrape all job titles and links\n",
    "job_title=[]\n",
    "job_link=[]\n",
    "\n",
    "soup = BeautifulSoup(driver.page_source, 'html.parser')\n",
    "job_title.extend([td.text for td in soup.find_all(\"a\", {\"class\": \"link\"})])\n",
    "job_link.extend([td['href'] for td in soup.find_all(\"a\", {\"class\": \"link\"})])  "
   ]
  },
  {
   "cell_type": "code",
   "execution_count": 6,
   "id": "39e03c13",
   "metadata": {},
   "outputs": [],
   "source": [
    "def remove_space(s):\n",
    "  s_new = s.replace('\\n', ' ').replace('\\xa0', ' ')\n",
    "  while '  ' in s_new:\n",
    "    s_new = s_new.replace('  ', ' ')\n",
    "  return s_new"
   ]
  },
  {
   "cell_type": "code",
   "execution_count": 7,
   "id": "4f397bc2",
   "metadata": {},
   "outputs": [],
   "source": [
    "# remove unwanted chars\n",
    "job_title_cleaned = [remove_space(s) for s in job_title]\n",
    "job_link_cleaned = [remove_space(s) for s in job_link]\n",
    "\n",
    "# create a dataframe that contains job titles and links for all job categories\n",
    "df_title_link = pd.DataFrame(zip(job_title_cleaned, job_link_cleaned), columns=['JOB_TITLE', 'JOB_LINK'])\n",
    "\n",
    "# drop the duplicates\n",
    "df_title_link = df_title_link.drop_duplicates()"
   ]
  },
  {
   "cell_type": "code",
   "execution_count": 8,
   "id": "b76ad745",
   "metadata": {},
   "outputs": [
    {
     "data": {
      "text/plain": [
       "2360"
      ]
     },
     "execution_count": 8,
     "metadata": {},
     "output_type": "execute_result"
    }
   ],
   "source": [
    "len(job_title)"
   ]
  },
  {
   "cell_type": "markdown",
   "id": "03336eff",
   "metadata": {},
   "source": [
    "## Extract job descriptions and qualifications for each job"
   ]
  },
  {
   "cell_type": "code",
   "execution_count": 31,
   "id": "29682085",
   "metadata": {},
   "outputs": [],
   "source": [
    "# retrieve job qualifications and descriptions\n",
    "def job_description(title, link):\n",
    "    qualifications = []\n",
    "    description = []\n",
    "    jobtitle = []\n",
    "    joblink = []\n",
    "\n",
    "    qual_pattern = re.compile(\"qualifications|required:\", re.IGNORECASE)\n",
    "    descrp_pattern = re.compile(\"work you’ll do|job duties\", re.IGNORECASE)\n",
    "\n",
    "    driver=webdriver.Chrome('chromedriver',options=chrome_options)\n",
    "    for i in range(len(link)):\n",
    "        URL=link[i]\n",
    "        driver.get(URL)\n",
    "        time.sleep(1)\n",
    "        soup = BeautifulSoup(driver.page_source, 'html.parser')\n",
    "        \n",
    "        s = ''\n",
    "        d = ''\n",
    "        \n",
    "        # get descriptions\n",
    "        try:\n",
    "          tag = soup.find(\"strong\", text=descrp_pattern).findNext(\"ul\")\n",
    "          d = tag.text\n",
    "        except: pass\n",
    "    \n",
    "        # get qualifications\n",
    "        try:\n",
    "          tag = soup.find(re.compile(\"(strong|span)\"), text=qual_pattern).findNext(\"ul\")\n",
    "          s = tag.text\n",
    "          if tag.findNext(\"ul\"):\n",
    "            s = s + \" \" + tag.findNext('ul').text\n",
    "        except: pass\n",
    "                      \n",
    "        qualifications.append(s)\n",
    "        description.append(d)   \n",
    "        jobtitle.append(title[i])\n",
    "        joblink.append(link[i])\n",
    "        \n",
    "    driver.quit()            \n",
    " \n",
    "    return jobtitle, link, qualifications, description"
   ]
  },
  {
   "cell_type": "code",
   "execution_count": 40,
   "id": "a337813d",
   "metadata": {},
   "outputs": [],
   "source": [
    "# retrieve the qualification for each job.\n",
    "title, link, qual, descrp = job_description(df_title_link['JOB_TITLE'].values, df_title_link['JOB_LINK'].values)"
   ]
  },
  {
   "cell_type": "code",
   "execution_count": 41,
   "id": "b680bb86",
   "metadata": {},
   "outputs": [],
   "source": [
    "qual_cleaned = [remove_space(q) for q in qual]\n",
    "descrp_cleaned = [remove_space(d) for d in descrp]"
   ]
  },
  {
   "cell_type": "code",
   "execution_count": 42,
   "id": "68b3da2b",
   "metadata": {},
   "outputs": [],
   "source": [
    "#create a dataframe from basic qualification and preferred qualification\n",
    "df = pd.DataFrame(zip(title, qual_cleaned, link, descrp_cleaned))\n",
    "df.columns = ['TITLE', 'QUALIFICATIONS', 'LINK', 'DESCRIPTION']\n",
    "df['COMPANY'] = 'Deloitte'\n",
    "df = df.iloc[:, [4, 0, 1, 2, 3]]"
   ]
  },
  {
   "cell_type": "code",
   "execution_count": 43,
   "id": "c0afe5c2",
   "metadata": {},
   "outputs": [],
   "source": [
    "# look for empty QUALIFICATION entries\n",
    "def get_empty(df, colname) :\n",
    "  empty_idx=[]\n",
    "  for i in range(len(df[colname])):\n",
    "    count = len(df[colname][i])\n",
    "    if count<=10 : empty_idx.append(i)\n",
    "    else: pass\n",
    "  return empty_idx\n",
    "\n",
    "empty_mini_q = get_empty(df, 'QUALIFICATIONS')\n",
    "\n",
    "# drop the empty Qualification entries\n",
    "df.drop(empty_mini_q, inplace=True)"
   ]
  },
  {
   "cell_type": "code",
   "execution_count": 44,
   "id": "536adc52",
   "metadata": {},
   "outputs": [
    {
     "name": "stdout",
     "output_type": "stream",
     "text": [
      "There are 1904 jobs from Deloitte.\n"
     ]
    }
   ],
   "source": [
    "#remove the duplicated jobs\n",
    "df_nodup = df.drop_duplicates()\n",
    "print(\"There are {} jobs from Deloitte.\".format(df_nodup.shape[0]))\n",
    "\n",
    "df_nodup.to_csv('deloitte_all_jobs_cleaned.csv')"
   ]
  }
 ],
 "metadata": {
  "kernelspec": {
   "display_name": "Python 3 (ipykernel)",
   "language": "python",
   "name": "python3"
  },
  "language_info": {
   "codemirror_mode": {
    "name": "ipython",
    "version": 3
   },
   "file_extension": ".py",
   "mimetype": "text/x-python",
   "name": "python",
   "nbconvert_exporter": "python",
   "pygments_lexer": "ipython3",
   "version": "3.10.4"
  }
 },
 "nbformat": 4,
 "nbformat_minor": 5
}

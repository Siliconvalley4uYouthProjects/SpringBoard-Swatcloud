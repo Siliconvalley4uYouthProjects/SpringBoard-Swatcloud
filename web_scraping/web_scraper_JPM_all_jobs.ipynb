{
 "cells": [
  {
   "cell_type": "code",
   "execution_count": 1,
   "id": "3667fa7f",
   "metadata": {},
   "outputs": [],
   "source": [
    "from selenium import webdriver\n",
    "from bs4 import BeautifulSoup\n",
    "import time\n",
    "import pandas as pd"
   ]
  },
  {
   "cell_type": "code",
   "execution_count": 2,
   "id": "c4682543",
   "metadata": {},
   "outputs": [],
   "source": [
    "chrome_options = webdriver.ChromeOptions()\n",
    "chrome_options.add_argument('--headless')\n",
    "chrome_options.add_argument('--no-sandbox')\n",
    "chrome_options.add_argument('--disable-dev-shm-usage')"
   ]
  },
  {
   "cell_type": "code",
   "execution_count": 3,
   "id": "8b8a526c",
   "metadata": {},
   "outputs": [],
   "source": [
    "url = 'https://jpmc.fa.oraclecloud.com/hcmUI/CandidateExperience/en/sites/CX_1001/requisitions?location=United+States&locationId=300000000289738&locationLevel=country'\n",
    "driver = webdriver.Chrome()\n",
    "\n",
    "driver.implicitly_wait(2)\n",
    "\n",
    "driver.get(url)"
   ]
  },
  {
   "cell_type": "code",
   "execution_count": 4,
   "id": "8fe112b1",
   "metadata": {},
   "outputs": [
    {
     "ename": "NoSuchElementException",
     "evalue": "Message: no such element: Unable to locate element: {\"method\":\"xpath\",\"selector\":\"//*[@class=\"search-results-load-more-btn\"]\"}\n  (Session info: chrome=109.0.5414.120)\nStacktrace:\nBacktrace:\n\t(No symbol) [0x00866643]\n\t(No symbol) [0x007FBE21]\n\t(No symbol) [0x006FDA9D]\n\t(No symbol) [0x00731342]\n\t(No symbol) [0x0073147B]\n\t(No symbol) [0x00768DC2]\n\t(No symbol) [0x0074FDC4]\n\t(No symbol) [0x00766B09]\n\t(No symbol) [0x0074FB76]\n\t(No symbol) [0x007249C1]\n\t(No symbol) [0x00725E5D]\n\tGetHandleVerifier [0x00ADA142+2497106]\n\tGetHandleVerifier [0x00B085D3+2686691]\n\tGetHandleVerifier [0x00B0BB9C+2700460]\n\tGetHandleVerifier [0x00913B10+635936]\n\t(No symbol) [0x00804A1F]\n\t(No symbol) [0x0080A418]\n\t(No symbol) [0x0080A505]\n\t(No symbol) [0x0081508B]\n\tBaseThreadInitThunk [0x75DD6BD9+25]\n\tRtlGetFullPathName_UEx [0x77A98FD2+1218]\n\tRtlGetFullPathName_UEx [0x77A98F9D+1165]\n",
     "output_type": "error",
     "traceback": [
      "\u001b[1;31m---------------------------------------------------------------------------\u001b[0m",
      "\u001b[1;31mNoSuchElementException\u001b[0m                    Traceback (most recent call last)",
      "Input \u001b[1;32mIn [4]\u001b[0m, in \u001b[0;36m<cell line: 1>\u001b[1;34m()\u001b[0m\n\u001b[1;32m----> 1\u001b[0m next_button \u001b[38;5;241m=\u001b[39m \u001b[43mdriver\u001b[49m\u001b[38;5;241;43m.\u001b[39;49m\u001b[43mfind_element\u001b[49m\u001b[43m(\u001b[49m\u001b[38;5;124;43m'\u001b[39;49m\u001b[38;5;124;43mxpath\u001b[39;49m\u001b[38;5;124;43m'\u001b[39;49m\u001b[43m,\u001b[49m\u001b[43m \u001b[49m\u001b[38;5;124;43m'\u001b[39;49m\u001b[38;5;124;43m//*[@class=\u001b[39;49m\u001b[38;5;124;43m\"\u001b[39;49m\u001b[38;5;124;43msearch-results-load-more-btn\u001b[39;49m\u001b[38;5;124;43m\"\u001b[39;49m\u001b[38;5;124;43m]\u001b[39;49m\u001b[38;5;124;43m'\u001b[39;49m\u001b[43m)\u001b[49m\n\u001b[0;32m      2\u001b[0m \u001b[38;5;28;01mwhile\u001b[39;00m next_button:\n\u001b[0;32m      3\u001b[0m     driver\u001b[38;5;241m.\u001b[39mexecute_script(\u001b[38;5;124m\"\u001b[39m\u001b[38;5;124marguments[0].click();\u001b[39m\u001b[38;5;124m\"\u001b[39m, next_button)\n",
      "File \u001b[1;32m~\\anaconda3\\envs\\myenv_2\\lib\\site-packages\\selenium\\webdriver\\remote\\webdriver.py:861\u001b[0m, in \u001b[0;36mWebDriver.find_element\u001b[1;34m(self, by, value)\u001b[0m\n\u001b[0;32m    858\u001b[0m     by \u001b[38;5;241m=\u001b[39m By\u001b[38;5;241m.\u001b[39mCSS_SELECTOR\n\u001b[0;32m    859\u001b[0m     value \u001b[38;5;241m=\u001b[39m \u001b[38;5;124m'\u001b[39m\u001b[38;5;124m[name=\u001b[39m\u001b[38;5;124m\"\u001b[39m\u001b[38;5;132;01m%s\u001b[39;00m\u001b[38;5;124m\"\u001b[39m\u001b[38;5;124m]\u001b[39m\u001b[38;5;124m'\u001b[39m \u001b[38;5;241m%\u001b[39m value\n\u001b[1;32m--> 861\u001b[0m \u001b[38;5;28;01mreturn\u001b[39;00m \u001b[38;5;28;43mself\u001b[39;49m\u001b[38;5;241;43m.\u001b[39;49m\u001b[43mexecute\u001b[49m\u001b[43m(\u001b[49m\u001b[43mCommand\u001b[49m\u001b[38;5;241;43m.\u001b[39;49m\u001b[43mFIND_ELEMENT\u001b[49m\u001b[43m,\u001b[49m\u001b[43m \u001b[49m\u001b[43m{\u001b[49m\u001b[38;5;124;43m\"\u001b[39;49m\u001b[38;5;124;43musing\u001b[39;49m\u001b[38;5;124;43m\"\u001b[39;49m\u001b[43m:\u001b[49m\u001b[43m \u001b[49m\u001b[43mby\u001b[49m\u001b[43m,\u001b[49m\u001b[43m \u001b[49m\u001b[38;5;124;43m\"\u001b[39;49m\u001b[38;5;124;43mvalue\u001b[39;49m\u001b[38;5;124;43m\"\u001b[39;49m\u001b[43m:\u001b[49m\u001b[43m \u001b[49m\u001b[43mvalue\u001b[49m\u001b[43m}\u001b[49m\u001b[43m)\u001b[49m[\u001b[38;5;124m\"\u001b[39m\u001b[38;5;124mvalue\u001b[39m\u001b[38;5;124m\"\u001b[39m]\n",
      "File \u001b[1;32m~\\anaconda3\\envs\\myenv_2\\lib\\site-packages\\selenium\\webdriver\\remote\\webdriver.py:444\u001b[0m, in \u001b[0;36mWebDriver.execute\u001b[1;34m(self, driver_command, params)\u001b[0m\n\u001b[0;32m    442\u001b[0m response \u001b[38;5;241m=\u001b[39m \u001b[38;5;28mself\u001b[39m\u001b[38;5;241m.\u001b[39mcommand_executor\u001b[38;5;241m.\u001b[39mexecute(driver_command, params)\n\u001b[0;32m    443\u001b[0m \u001b[38;5;28;01mif\u001b[39;00m response:\n\u001b[1;32m--> 444\u001b[0m     \u001b[38;5;28;43mself\u001b[39;49m\u001b[38;5;241;43m.\u001b[39;49m\u001b[43merror_handler\u001b[49m\u001b[38;5;241;43m.\u001b[39;49m\u001b[43mcheck_response\u001b[49m\u001b[43m(\u001b[49m\u001b[43mresponse\u001b[49m\u001b[43m)\u001b[49m\n\u001b[0;32m    445\u001b[0m     response[\u001b[38;5;124m\"\u001b[39m\u001b[38;5;124mvalue\u001b[39m\u001b[38;5;124m\"\u001b[39m] \u001b[38;5;241m=\u001b[39m \u001b[38;5;28mself\u001b[39m\u001b[38;5;241m.\u001b[39m_unwrap_value(response\u001b[38;5;241m.\u001b[39mget(\u001b[38;5;124m\"\u001b[39m\u001b[38;5;124mvalue\u001b[39m\u001b[38;5;124m\"\u001b[39m, \u001b[38;5;28;01mNone\u001b[39;00m))\n\u001b[0;32m    446\u001b[0m     \u001b[38;5;28;01mreturn\u001b[39;00m response\n",
      "File \u001b[1;32m~\\anaconda3\\envs\\myenv_2\\lib\\site-packages\\selenium\\webdriver\\remote\\errorhandler.py:249\u001b[0m, in \u001b[0;36mErrorHandler.check_response\u001b[1;34m(self, response)\u001b[0m\n\u001b[0;32m    247\u001b[0m         alert_text \u001b[38;5;241m=\u001b[39m value[\u001b[38;5;124m\"\u001b[39m\u001b[38;5;124malert\u001b[39m\u001b[38;5;124m\"\u001b[39m]\u001b[38;5;241m.\u001b[39mget(\u001b[38;5;124m\"\u001b[39m\u001b[38;5;124mtext\u001b[39m\u001b[38;5;124m\"\u001b[39m)\n\u001b[0;32m    248\u001b[0m     \u001b[38;5;28;01mraise\u001b[39;00m exception_class(message, screen, stacktrace, alert_text)  \u001b[38;5;66;03m# type: ignore[call-arg]  # mypy is not smart enough here\u001b[39;00m\n\u001b[1;32m--> 249\u001b[0m \u001b[38;5;28;01mraise\u001b[39;00m exception_class(message, screen, stacktrace)\n",
      "\u001b[1;31mNoSuchElementException\u001b[0m: Message: no such element: Unable to locate element: {\"method\":\"xpath\",\"selector\":\"//*[@class=\"search-results-load-more-btn\"]\"}\n  (Session info: chrome=109.0.5414.120)\nStacktrace:\nBacktrace:\n\t(No symbol) [0x00866643]\n\t(No symbol) [0x007FBE21]\n\t(No symbol) [0x006FDA9D]\n\t(No symbol) [0x00731342]\n\t(No symbol) [0x0073147B]\n\t(No symbol) [0x00768DC2]\n\t(No symbol) [0x0074FDC4]\n\t(No symbol) [0x00766B09]\n\t(No symbol) [0x0074FB76]\n\t(No symbol) [0x007249C1]\n\t(No symbol) [0x00725E5D]\n\tGetHandleVerifier [0x00ADA142+2497106]\n\tGetHandleVerifier [0x00B085D3+2686691]\n\tGetHandleVerifier [0x00B0BB9C+2700460]\n\tGetHandleVerifier [0x00913B10+635936]\n\t(No symbol) [0x00804A1F]\n\t(No symbol) [0x0080A418]\n\t(No symbol) [0x0080A505]\n\t(No symbol) [0x0081508B]\n\tBaseThreadInitThunk [0x75DD6BD9+25]\n\tRtlGetFullPathName_UEx [0x77A98FD2+1218]\n\tRtlGetFullPathName_UEx [0x77A98F9D+1165]\n"
     ]
    }
   ],
   "source": [
    "next_button = driver.find_element('xpath', '//*[@class=\"search-results-load-more-btn\"]')\n",
    "while next_button:\n",
    "    driver.execute_script(\"arguments[0].click();\", next_button)\n",
    "    time.sleep(2)\n",
    "    try:\n",
    "        next_button = driver.find_element('xpath', '//*[@class=\"search-results-load-more-btn\"]')\n",
    "    except:\n",
    "        break\n",
    "    "
   ]
  },
  {
   "cell_type": "code",
   "execution_count": null,
   "id": "77ce6790",
   "metadata": {},
   "outputs": [],
   "source": [
    "job_title=[]\n",
    "job_link=[]\n",
    "\n",
    "soup = BeautifulSoup(driver.page_source, 'html.parser')\n",
    "job_title.extend([td.text for td in soup.find_all(\"h3\", {\"class\": \"job-title\"})])\n",
    "job_link.extend([td['href'] for td in soup.find_all(\"a\", {\"class\": \"joblist-tile\"})])  "
   ]
  },
  {
   "cell_type": "code",
   "execution_count": null,
   "id": "4f397bc2",
   "metadata": {},
   "outputs": [],
   "source": [
    "# create a dataframe that contains job titles and links for all job categories\n",
    "df_title_link = pd.DataFrame(zip(job_title, job_link), columns=['JOB_TITLE', 'JOB_LINK'])\n",
    "\n",
    "# drop the duplicates\n",
    "df_title_link = df_title_link.drop_duplicates()"
   ]
  },
  {
   "cell_type": "code",
   "execution_count": null,
   "id": "cd5cf454",
   "metadata": {},
   "outputs": [],
   "source": [
    "# save the titles and links to csv\n",
    "#df_title_link.to_csv('C:\\Online_Courses\\GitHub\\Swatcloud\\data\\web_scraping\\data\\jpm_jobs_titles_links_all.csv')"
   ]
  },
  {
   "cell_type": "markdown",
   "id": "03336eff",
   "metadata": {},
   "source": [
    "## Extract job descriptions and qualifications for each job"
   ]
  },
  {
   "cell_type": "code",
   "execution_count": null,
   "id": "a17d172e",
   "metadata": {
    "scrolled": true
   },
   "outputs": [],
   "source": [
    "# load in the job titles and links from the csv file\n",
    "#df_title_link = pd.read_csv('C:\\Online_Courses\\GitHub\\Swatcloud\\data\\web_scraping\\data\\jpm_jobs_titles_links_all.csv', index_col=0)\n",
    "#df_title_link.head()"
   ]
  },
  {
   "cell_type": "code",
   "execution_count": null,
   "id": "a201c047",
   "metadata": {},
   "outputs": [],
   "source": [
    "# retrieve job qualifications and descriptions\n",
    "def job_description(title, link):\n",
    "    qualifications = []\n",
    "    description = []\n",
    "    jobtitle = []\n",
    "    joblink = []\n",
    "    \n",
    "    driver=webdriver.Chrome('chromedriver',options=chrome_options)\n",
    "    for i in range(len(link)):\n",
    "        URL=link[i]\n",
    "        driver.get(URL)\n",
    "        time.sleep(2)\n",
    "        soup = BeautifulSoup(driver.page_source, 'html.parser')\n",
    "\n",
    "        d = ''\n",
    "              \n",
    "        # get the job responsibilities\n",
    "        try:\n",
    "            tag = soup.find(\"div\", {'class': \"job-description\"})\n",
    "            tags = tag.find_all('ul')\n",
    "            if len(tags) > 0:\n",
    "                for t in tags:\n",
    "                    d = d + \" \" + t.text\n",
    "            #else:\n",
    "                #d = tag.text\n",
    "        except: pass\n",
    "        \n",
    "        description.append(d)   \n",
    "        jobtitle.append(title[i])\n",
    "        joblink.append(link[i])\n",
    "        \n",
    "    driver.quit()            \n",
    " \n",
    "    return jobtitle, link, description, description"
   ]
  },
  {
   "cell_type": "code",
   "execution_count": null,
   "id": "a337813d",
   "metadata": {},
   "outputs": [],
   "source": [
    "# retrieve the qualification for each job.\n",
    "title, link, qual, descrp = job_description(df_title_link['JOB_TITLE'].values, df_title_link['JOB_LINK'].values)"
   ]
  },
  {
   "cell_type": "code",
   "execution_count": null,
   "id": "20e54ae5",
   "metadata": {},
   "outputs": [],
   "source": [
    "def remove_space(s):\n",
    "  s_new = s.replace('\\n', ' ').replace('\\xa0', ' ')\n",
    "  while '  ' in s_new:\n",
    "    s_new = s_new.replace('  ', ' ')\n",
    "  return s_new"
   ]
  },
  {
   "cell_type": "code",
   "execution_count": null,
   "id": "b680bb86",
   "metadata": {},
   "outputs": [],
   "source": [
    "qual_cleaned = [remove_space(q) for q in qual]\n",
    "descrp_cleaned = [remove_space(d) for d in descrp]"
   ]
  },
  {
   "cell_type": "code",
   "execution_count": null,
   "id": "68b3da2b",
   "metadata": {},
   "outputs": [],
   "source": [
    "#create a dataframe from basic qualification and preferred qualification\n",
    "df = pd.DataFrame(zip(title, qual_cleaned, link, descrp_cleaned))\n",
    "df.columns = ['TITLE', 'QUALIFICATIONS', 'LINK', 'DESCRIPTION']\n",
    "df['COMPANY'] = 'JPM'\n",
    "df = df.iloc[:, [4, 0, 1, 2, 3]]"
   ]
  },
  {
   "cell_type": "code",
   "execution_count": null,
   "id": "c0afe5c2",
   "metadata": {},
   "outputs": [],
   "source": [
    "# look for empty QUALIFICATION entries\n",
    "def get_empty(df, colname) :\n",
    "  empty_idx=[]\n",
    "  for i in range(len(df[colname])):\n",
    "    count = len(df[colname][i])\n",
    "    if count<=10 : empty_idx.append(i)\n",
    "    else: pass\n",
    "  return empty_idx\n",
    "\n",
    "empty_mini_q = get_empty(df, 'QUALIFICATIONS')\n",
    "print(len(empty_mini_q))\n",
    "\n",
    "# drop the empty Qualification entries\n",
    "df.drop(empty_mini_q, inplace=True)"
   ]
  },
  {
   "cell_type": "code",
   "execution_count": null,
   "id": "536adc52",
   "metadata": {},
   "outputs": [],
   "source": [
    "#remove the duplicated jobs\n",
    "df_nodup = df.drop_duplicates()\n",
    "print(\"There are {} jobs from JP Morgan.\".format(df_nodup.shape[0]))\n",
    "\n",
    "df_nodup.to_csv('jpm_all_jobs_cleaned_short.csv')"
   ]
  },
  {
   "cell_type": "code",
   "execution_count": null,
   "id": "2f689514",
   "metadata": {},
   "outputs": [],
   "source": []
  },
  {
   "cell_type": "code",
   "execution_count": null,
   "id": "41aac964",
   "metadata": {},
   "outputs": [],
   "source": []
  }
 ],
 "metadata": {
  "kernelspec": {
   "display_name": "Python 3 (ipykernel)",
   "language": "python",
   "name": "python3"
  },
  "language_info": {
   "codemirror_mode": {
    "name": "ipython",
    "version": 3
   },
   "file_extension": ".py",
   "mimetype": "text/x-python",
   "name": "python",
   "nbconvert_exporter": "python",
   "pygments_lexer": "ipython3",
   "version": "3.10.4"
  }
 },
 "nbformat": 4,
 "nbformat_minor": 5
}

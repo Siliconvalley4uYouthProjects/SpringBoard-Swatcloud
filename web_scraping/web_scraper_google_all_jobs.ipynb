{
 "cells": [
  {
   "cell_type": "code",
   "execution_count": 1,
   "id": "3667fa7f",
   "metadata": {},
   "outputs": [],
   "source": [
    "from selenium import webdriver\n",
    "import requests\n",
    "from bs4 import BeautifulSoup\n",
    "from selenium import webdriver\n",
    "import time"
   ]
  },
  {
   "cell_type": "code",
   "execution_count": 2,
   "id": "925ed802",
   "metadata": {},
   "outputs": [],
   "source": [
    "import pandas as pd"
   ]
  },
  {
   "cell_type": "code",
   "execution_count": 5,
   "id": "ab4a5782",
   "metadata": {},
   "outputs": [],
   "source": [
    "#chromedriver_path = \"C:\\Program Files (x86)\\chromedriver.exe\""
   ]
  },
  {
   "cell_type": "code",
   "execution_count": 34,
   "id": "c4682543",
   "metadata": {},
   "outputs": [],
   "source": [
    "chrome_options = webdriver.ChromeOptions()\n",
    "chrome_options.add_argument('--headless')\n",
    "chrome_options.add_argument('--no-sandbox')\n",
    "chrome_options.add_argument('--disable-dev-shm-usage')"
   ]
  },
  {
   "cell_type": "code",
   "execution_count": 6,
   "id": "a1e8ae6d",
   "metadata": {},
   "outputs": [],
   "source": [
    "# specify the url strings for the company's job posting website\n",
    "url1 = 'https://careers.google.com/jobs/results/?page='\n",
    "url2 = ''"
   ]
  },
  {
   "cell_type": "code",
   "execution_count": 33,
   "id": "6ce77595",
   "metadata": {},
   "outputs": [],
   "source": [
    "def google_get_jobs(url1, url2):\n",
    "    \"\"\"\n",
    "    retrieve job titles and job links from each page\n",
    "    \"\"\"\n",
    "    job_title=[]\n",
    "    job_link=[]\n",
    "    page_num = 0\n",
    "\n",
    "    driver=webdriver.Chrome(options = chrome_options)\n",
    "    URL = url1 + str(page_num) + url2\n",
    "    driver.get(URL)\n",
    "    time.sleep(1)\n",
    "    soup = BeautifulSoup(driver.page_source, 'html.parser')\n",
    "    \n",
    "    # will exit while loop when soup.find_all returns None\n",
    "    while soup.find_all(\"h2\", {\"class\": \"gc-card__title gc-heading gc-heading--beta\"}) :\n",
    "        job_title.extend([td.text for td in soup.findAll(\"h2\", {\"class\": \"gc-card__title gc-heading gc-heading--beta\"})])\n",
    "        job_link.extend(['https://careers.google.com' + td['href'] for td in soup.findAll(\"a\", {\"class\": \"gc-card\"})])\n",
    "        driver.quit()\n",
    "\n",
    "        page_num += 1\n",
    "        driver=webdriver.Chrome(options = chrome_options)\n",
    "        URL = url1 + str(page_num) + url2\n",
    "        driver.get(URL)\n",
    "        time.sleep(2)\n",
    "        soup = BeautifulSoup(driver.page_source, 'html.parser')\n",
    "    \n",
    "    driver.quit() \n",
    "    return job_title,job_link"
   ]
  },
  {
   "cell_type": "code",
   "execution_count": 13,
   "id": "5a162e66",
   "metadata": {},
   "outputs": [],
   "source": [
    "job_title, job_link = google_get_jobs(url1, url2)"
   ]
  },
  {
   "cell_type": "code",
   "execution_count": 16,
   "id": "39e03c13",
   "metadata": {},
   "outputs": [],
   "source": [
    "def remove_space(s):\n",
    "  s_new = s.replace('\\n', '')\n",
    "  while '  ' in s_new:\n",
    "    s_new = s_new.replace('  ', ' ')\n",
    "  return s_new"
   ]
  },
  {
   "cell_type": "code",
   "execution_count": 17,
   "id": "c4038c42",
   "metadata": {},
   "outputs": [],
   "source": [
    "job_title = [remove_space(job) for job in job_title]"
   ]
  },
  {
   "cell_type": "code",
   "execution_count": 19,
   "id": "4f397bc2",
   "metadata": {},
   "outputs": [],
   "source": [
    "# create a dataframe that contains job titles and links for all job categories\n",
    "df_title_link = pd.DataFrame(zip(job_title, job_link), columns=['JOB_TITLE', 'JOB_LINK'])"
   ]
  },
  {
   "cell_type": "code",
   "execution_count": 20,
   "id": "7925f305",
   "metadata": {},
   "outputs": [
    {
     "data": {
      "text/html": [
       "<div>\n",
       "<style scoped>\n",
       "    .dataframe tbody tr th:only-of-type {\n",
       "        vertical-align: middle;\n",
       "    }\n",
       "\n",
       "    .dataframe tbody tr th {\n",
       "        vertical-align: top;\n",
       "    }\n",
       "\n",
       "    .dataframe thead th {\n",
       "        text-align: right;\n",
       "    }\n",
       "</style>\n",
       "<table border=\"1\" class=\"dataframe\">\n",
       "  <thead>\n",
       "    <tr style=\"text-align: right;\">\n",
       "      <th></th>\n",
       "      <th>JOB_TITLE</th>\n",
       "      <th>JOB_LINK</th>\n",
       "    </tr>\n",
       "  </thead>\n",
       "  <tbody>\n",
       "    <tr>\n",
       "      <th>0</th>\n",
       "      <td>Software Engineer, Infrastructure, Looker Pro...</td>\n",
       "      <td>https://careers.google.com/jobs/results/920102...</td>\n",
       "    </tr>\n",
       "    <tr>\n",
       "      <th>1</th>\n",
       "      <td>Regional Legal Counsel</td>\n",
       "      <td>https://careers.google.com/jobs/results/825474...</td>\n",
       "    </tr>\n",
       "    <tr>\n",
       "      <th>2</th>\n",
       "      <td>Scaled Customer Engineer, Google Cloud (Polis...</td>\n",
       "      <td>https://careers.google.com/jobs/results/107563...</td>\n",
       "    </tr>\n",
       "    <tr>\n",
       "      <th>3</th>\n",
       "      <td>Technical Program Manager Intern, Summer 2023</td>\n",
       "      <td>https://careers.google.com/jobs/results/755884...</td>\n",
       "    </tr>\n",
       "    <tr>\n",
       "      <th>4</th>\n",
       "      <td>Senior Android Software Engineer, Fitbit Devi...</td>\n",
       "      <td>https://careers.google.com/jobs/results/136197...</td>\n",
       "    </tr>\n",
       "  </tbody>\n",
       "</table>\n",
       "</div>"
      ],
      "text/plain": [
       "                                           JOB_TITLE  \\\n",
       "0   Software Engineer, Infrastructure, Looker Pro...   \n",
       "1                            Regional Legal Counsel    \n",
       "2   Scaled Customer Engineer, Google Cloud (Polis...   \n",
       "3     Technical Program Manager Intern, Summer 2023    \n",
       "4   Senior Android Software Engineer, Fitbit Devi...   \n",
       "\n",
       "                                            JOB_LINK  \n",
       "0  https://careers.google.com/jobs/results/920102...  \n",
       "1  https://careers.google.com/jobs/results/825474...  \n",
       "2  https://careers.google.com/jobs/results/107563...  \n",
       "3  https://careers.google.com/jobs/results/755884...  \n",
       "4  https://careers.google.com/jobs/results/136197...  "
      ]
     },
     "execution_count": 20,
     "metadata": {},
     "output_type": "execute_result"
    }
   ],
   "source": [
    "df_title_link.head()"
   ]
  },
  {
   "cell_type": "code",
   "execution_count": null,
   "id": "1bd1c1d2",
   "metadata": {},
   "outputs": [],
   "source": [
    "# drop the duplicates\n",
    "df_title_link = df_title_link.drop_duplicates()"
   ]
  },
  {
   "cell_type": "code",
   "execution_count": 21,
   "id": "cd5cf454",
   "metadata": {},
   "outputs": [],
   "source": [
    "# save the titles and links to csv\n",
    "df_title_link.to_csv('C:\\Online_Courses\\GitHub\\Swatcloud\\data\\web_scraping\\data\\google_jobs_titles_links_all.csv')"
   ]
  },
  {
   "cell_type": "markdown",
   "id": "03336eff",
   "metadata": {},
   "source": [
    "## Extract job descriptions and qualifications for each job"
   ]
  },
  {
   "cell_type": "code",
   "execution_count": 35,
   "id": "a17d172e",
   "metadata": {},
   "outputs": [
    {
     "data": {
      "text/html": [
       "<div>\n",
       "<style scoped>\n",
       "    .dataframe tbody tr th:only-of-type {\n",
       "        vertical-align: middle;\n",
       "    }\n",
       "\n",
       "    .dataframe tbody tr th {\n",
       "        vertical-align: top;\n",
       "    }\n",
       "\n",
       "    .dataframe thead th {\n",
       "        text-align: right;\n",
       "    }\n",
       "</style>\n",
       "<table border=\"1\" class=\"dataframe\">\n",
       "  <thead>\n",
       "    <tr style=\"text-align: right;\">\n",
       "      <th></th>\n",
       "      <th>JOB_TITLE</th>\n",
       "      <th>JOB_LINK</th>\n",
       "    </tr>\n",
       "  </thead>\n",
       "  <tbody>\n",
       "    <tr>\n",
       "      <th>0</th>\n",
       "      <td>Software Engineer, Infrastructure, Looker Pro...</td>\n",
       "      <td>https://careers.google.com/jobs/results/920102...</td>\n",
       "    </tr>\n",
       "    <tr>\n",
       "      <th>1</th>\n",
       "      <td>Regional Legal Counsel</td>\n",
       "      <td>https://careers.google.com/jobs/results/825474...</td>\n",
       "    </tr>\n",
       "    <tr>\n",
       "      <th>2</th>\n",
       "      <td>Scaled Customer Engineer, Google Cloud (Polis...</td>\n",
       "      <td>https://careers.google.com/jobs/results/107563...</td>\n",
       "    </tr>\n",
       "    <tr>\n",
       "      <th>3</th>\n",
       "      <td>Technical Program Manager Intern, Summer 2023</td>\n",
       "      <td>https://careers.google.com/jobs/results/755884...</td>\n",
       "    </tr>\n",
       "    <tr>\n",
       "      <th>4</th>\n",
       "      <td>Senior Android Software Engineer, Fitbit Devi...</td>\n",
       "      <td>https://careers.google.com/jobs/results/136197...</td>\n",
       "    </tr>\n",
       "  </tbody>\n",
       "</table>\n",
       "</div>"
      ],
      "text/plain": [
       "                                           JOB_TITLE  \\\n",
       "0   Software Engineer, Infrastructure, Looker Pro...   \n",
       "1                            Regional Legal Counsel    \n",
       "2   Scaled Customer Engineer, Google Cloud (Polis...   \n",
       "3     Technical Program Manager Intern, Summer 2023    \n",
       "4   Senior Android Software Engineer, Fitbit Devi...   \n",
       "\n",
       "                                            JOB_LINK  \n",
       "0  https://careers.google.com/jobs/results/920102...  \n",
       "1  https://careers.google.com/jobs/results/825474...  \n",
       "2  https://careers.google.com/jobs/results/107563...  \n",
       "3  https://careers.google.com/jobs/results/755884...  \n",
       "4  https://careers.google.com/jobs/results/136197...  "
      ]
     },
     "execution_count": 35,
     "metadata": {},
     "output_type": "execute_result"
    }
   ],
   "source": [
    "# load in the job titles and links from the csv file\n",
    "df_title_link = pd.read_csv('C:\\Online_Courses\\GitHub\\Swatcloud\\data\\web_scraping\\data\\google_jobs_titles_links_all.csv', index_col=0)\n",
    "df_title_link.head()"
   ]
  },
  {
   "cell_type": "code",
   "execution_count": 58,
   "id": "b47f8be0",
   "metadata": {},
   "outputs": [],
   "source": [
    "# retrieve job qualifications and descriptions\n",
    "def job_description(title, link):\n",
    "    qualifications = []\n",
    "    description = []\n",
    "    jobtitle = []\n",
    "    joblink = []\n",
    "\n",
    "    driver=webdriver.Chrome('chromedriver',options=chrome_options)\n",
    "    for i in range(len(link)):\n",
    "        URL=link[i]\n",
    "        driver.get(URL)\n",
    "        time.sleep(2)\n",
    "        soup = BeautifulSoup(driver.page_source, 'html.parser')\n",
    "        \n",
    "        s = ''\n",
    "        d = ''\n",
    "\n",
    "        try:\n",
    "          tag = soup.find(\"h3\", text='Minimum qualifications:').parent.find(\"ul\")\n",
    "          if tag:\n",
    "            s = s + tag.text\n",
    "        except:\n",
    "          print(i, 'no mini qual')\n",
    "        \n",
    "        try:\n",
    "          tag = soup.find('h3', text='Preferred qualifications:').parent.find(\"ul\").findNextSibling('ul')\n",
    "          if tag:\n",
    "            s = s + tag.text\n",
    "        except:\n",
    "          print(i, 'no pref qual')\n",
    "\n",
    "        try:\n",
    "          tag = soup.find(\"div\", {'id': 'accordion-responsibilities'})\n",
    "          if tag:\n",
    "            d = tag.text\n",
    "        except:\n",
    "          print(i, 'no description')\n",
    "        \n",
    "        qualifications.append(s)\n",
    "        description.append(d)   \n",
    "        jobtitle.append(title[i])\n",
    "        joblink.append(link[i])\n",
    "        \n",
    "    driver.quit()            \n",
    " \n",
    "    return jobtitle, link, qualifications, description"
   ]
  },
  {
   "cell_type": "code",
   "execution_count": 59,
   "id": "a337813d",
   "metadata": {},
   "outputs": [
    {
     "name": "stdout",
     "output_type": "stream",
     "text": [
      "10 no mini qual\n",
      "10 no pref qual\n",
      "30 no mini qual\n",
      "30 no pref qual\n",
      "255 no mini qual\n",
      "255 no pref qual\n",
      "365 no mini qual\n",
      "365 no pref qual\n",
      "594 no mini qual\n",
      "594 no pref qual\n",
      "1029 no mini qual\n",
      "1029 no pref qual\n",
      "1030 no mini qual\n",
      "1030 no pref qual\n",
      "1031 no mini qual\n",
      "1031 no pref qual\n",
      "1033 no mini qual\n",
      "1033 no pref qual\n",
      "1034 no mini qual\n",
      "1034 no pref qual\n",
      "1035 no mini qual\n",
      "1035 no pref qual\n"
     ]
    }
   ],
   "source": [
    "# retrieve the qualification for each job.\n",
    "title, link, qual, descrp = job_description(df_title_link['JOB_TITLE'].values, df_title_link['JOB_LINK'].values)"
   ]
  },
  {
   "cell_type": "code",
   "execution_count": 63,
   "id": "b680bb86",
   "metadata": {},
   "outputs": [],
   "source": [
    "qual_cleaned = [remove_space(q) for q in qual]\n",
    "descrp_cleaned = [remove_space(d) for d in descrp]"
   ]
  },
  {
   "cell_type": "code",
   "execution_count": 64,
   "id": "68b3da2b",
   "metadata": {},
   "outputs": [
    {
     "data": {
      "text/html": [
       "<div>\n",
       "<style scoped>\n",
       "    .dataframe tbody tr th:only-of-type {\n",
       "        vertical-align: middle;\n",
       "    }\n",
       "\n",
       "    .dataframe tbody tr th {\n",
       "        vertical-align: top;\n",
       "    }\n",
       "\n",
       "    .dataframe thead th {\n",
       "        text-align: right;\n",
       "    }\n",
       "</style>\n",
       "<table border=\"1\" class=\"dataframe\">\n",
       "  <thead>\n",
       "    <tr style=\"text-align: right;\">\n",
       "      <th></th>\n",
       "      <th>COMPANY</th>\n",
       "      <th>TITLE</th>\n",
       "      <th>QUALIFICATIONS</th>\n",
       "      <th>LINK</th>\n",
       "      <th>DESCRIPTION</th>\n",
       "    </tr>\n",
       "  </thead>\n",
       "  <tbody>\n",
       "    <tr>\n",
       "      <th>0</th>\n",
       "      <td>Google</td>\n",
       "      <td>Software Engineer, Infrastructure, Looker Pro...</td>\n",
       "      <td>Experience in Site Reliability Engineering (SR...</td>\n",
       "      <td>https://careers.google.com/jobs/results/920102...</td>\n",
       "      <td>Design or develop features related to orchestr...</td>\n",
       "    </tr>\n",
       "    <tr>\n",
       "      <th>1</th>\n",
       "      <td>Google</td>\n",
       "      <td>Regional Legal Counsel</td>\n",
       "      <td>Bachelor's degree of Law, comparable law degre...</td>\n",
       "      <td>https://careers.google.com/jobs/results/825474...</td>\n",
       "      <td>Work as part of the India Legal team advising ...</td>\n",
       "    </tr>\n",
       "    <tr>\n",
       "      <th>2</th>\n",
       "      <td>Google</td>\n",
       "      <td>Scaled Customer Engineer, Google Cloud (Polis...</td>\n",
       "      <td>Bachelor's degree in Computer Science or equiv...</td>\n",
       "      <td>https://careers.google.com/jobs/results/107563...</td>\n",
       "      <td>Work closely with small and medium-sized busin...</td>\n",
       "    </tr>\n",
       "    <tr>\n",
       "      <th>3</th>\n",
       "      <td>Google</td>\n",
       "      <td>Technical Program Manager Intern, Summer 2023</td>\n",
       "      <td>Currently pursuing a Bachelor’s, Master’s, or ...</td>\n",
       "      <td>https://careers.google.com/jobs/results/755884...</td>\n",
       "      <td>Perform specific responsibilities which vary b...</td>\n",
       "    </tr>\n",
       "    <tr>\n",
       "      <th>4</th>\n",
       "      <td>Google</td>\n",
       "      <td>Senior Android Software Engineer, Fitbit Devi...</td>\n",
       "      <td>Bachelor's degree in Computer Science, a relat...</td>\n",
       "      <td>https://careers.google.com/jobs/results/136197...</td>\n",
       "      <td>Design, develop, document, test, deploy, maint...</td>\n",
       "    </tr>\n",
       "  </tbody>\n",
       "</table>\n",
       "</div>"
      ],
      "text/plain": [
       "  COMPANY                                              TITLE  \\\n",
       "0  Google   Software Engineer, Infrastructure, Looker Pro...   \n",
       "1  Google                            Regional Legal Counsel    \n",
       "2  Google   Scaled Customer Engineer, Google Cloud (Polis...   \n",
       "3  Google     Technical Program Manager Intern, Summer 2023    \n",
       "4  Google   Senior Android Software Engineer, Fitbit Devi...   \n",
       "\n",
       "                                      QUALIFICATIONS  \\\n",
       "0  Experience in Site Reliability Engineering (SR...   \n",
       "1  Bachelor's degree of Law, comparable law degre...   \n",
       "2  Bachelor's degree in Computer Science or equiv...   \n",
       "3  Currently pursuing a Bachelor’s, Master’s, or ...   \n",
       "4  Bachelor's degree in Computer Science, a relat...   \n",
       "\n",
       "                                                LINK  \\\n",
       "0  https://careers.google.com/jobs/results/920102...   \n",
       "1  https://careers.google.com/jobs/results/825474...   \n",
       "2  https://careers.google.com/jobs/results/107563...   \n",
       "3  https://careers.google.com/jobs/results/755884...   \n",
       "4  https://careers.google.com/jobs/results/136197...   \n",
       "\n",
       "                                         DESCRIPTION  \n",
       "0  Design or develop features related to orchestr...  \n",
       "1  Work as part of the India Legal team advising ...  \n",
       "2  Work closely with small and medium-sized busin...  \n",
       "3  Perform specific responsibilities which vary b...  \n",
       "4  Design, develop, document, test, deploy, maint...  "
      ]
     },
     "execution_count": 64,
     "metadata": {},
     "output_type": "execute_result"
    }
   ],
   "source": [
    "#create a dataframe from basic qualification and preferred qualification\n",
    "df = pd.DataFrame(zip(title, qual_cleaned, link, descrp_cleaned))\n",
    "df.columns = ['TITLE', 'QUALIFICATIONS', 'LINK', 'DESCRIPTION']\n",
    "df['COMPANY'] = 'Google'\n",
    "df = df.iloc[:, [4, 0, 1, 2, 3]]\n",
    "df.head()"
   ]
  },
  {
   "cell_type": "code",
   "execution_count": 65,
   "id": "c0afe5c2",
   "metadata": {},
   "outputs": [
    {
     "data": {
      "text/plain": [
       "(1025, 5)"
      ]
     },
     "execution_count": 65,
     "metadata": {},
     "output_type": "execute_result"
    }
   ],
   "source": [
    "# look for empty QUALIFICATION entries\n",
    "def get_empty(df, colname) :\n",
    "  empty_idx=[]\n",
    "  for i in range(len(df[colname])):\n",
    "    count = len(df[colname][i])\n",
    "    if count<=10 : empty_idx.append(i)\n",
    "    else: pass\n",
    "  return empty_idx\n",
    "\n",
    "empty_mini_q = get_empty(df, 'QUALIFICATIONS')\n",
    "print(len(empty_mini_q))\n",
    "\n",
    "# drop the empty Qualification entries\n",
    "df.drop(empty_mini_q, inplace=True)\n",
    "df.shape"
   ]
  },
  {
   "cell_type": "code",
   "execution_count": 68,
   "id": "536adc52",
   "metadata": {},
   "outputs": [
    {
     "data": {
      "text/plain": [
       "(1025, 5)"
      ]
     },
     "execution_count": 68,
     "metadata": {},
     "output_type": "execute_result"
    }
   ],
   "source": [
    "#remove the duplicated jobs\n",
    "df_nodup = df.drop_duplicates()\n",
    "df_nodup.shape"
   ]
  },
  {
   "cell_type": "code",
   "execution_count": 69,
   "id": "2f689514",
   "metadata": {},
   "outputs": [],
   "source": [
    "df_nodup.to_csv('C:\\Online_Courses\\GitHub\\Swatcloud\\data\\web_scraping\\data\\google_all_jobs_cleaned.csv')"
   ]
  },
  {
   "cell_type": "code",
   "execution_count": null,
   "id": "41aac964",
   "metadata": {},
   "outputs": [],
   "source": []
  }
 ],
 "metadata": {
  "kernelspec": {
   "display_name": "Python 3 (ipykernel)",
   "language": "python",
   "name": "python3"
  },
  "language_info": {
   "codemirror_mode": {
    "name": "ipython",
    "version": 3
   },
   "file_extension": ".py",
   "mimetype": "text/x-python",
   "name": "python",
   "nbconvert_exporter": "python",
   "pygments_lexer": "ipython3",
   "version": "3.10.4"
  }
 },
 "nbformat": 4,
 "nbformat_minor": 5
}

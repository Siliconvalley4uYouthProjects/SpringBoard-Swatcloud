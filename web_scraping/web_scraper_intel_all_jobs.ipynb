{
 "cells": [
  {
   "cell_type": "code",
   "execution_count": 1,
   "id": "3667fa7f",
   "metadata": {},
   "outputs": [],
   "source": [
    "from bs4 import BeautifulSoup\n",
    "from selenium import webdriver\n",
    "import time\n",
    "import pandas as pd"
   ]
  },
  {
   "cell_type": "code",
   "execution_count": 2,
   "id": "c4682543",
   "metadata": {},
   "outputs": [],
   "source": [
    "chrome_options = webdriver.ChromeOptions()\n",
    "chrome_options.add_argument('--headless')\n",
    "chrome_options.add_argument('--no-sandbox')\n",
    "chrome_options.add_argument('--disable-dev-shm-usage')"
   ]
  },
  {
   "cell_type": "code",
   "execution_count": 3,
   "id": "a1e8ae6d",
   "metadata": {},
   "outputs": [],
   "source": [
    "url='https://jobs.intel.com/en/search-jobs'\n",
    "driver = webdriver.Chrome()\n",
    "driver.implicitly_wait(2)\n",
    "driver.get(url)"
   ]
  },
  {
   "cell_type": "code",
   "execution_count": 4,
   "id": "896ce042",
   "metadata": {},
   "outputs": [],
   "source": [
    "# handle the pop up cookies message\n",
    "try:\n",
    "    next_button = driver.find_element('xpath', '//*[@id=\"igdpr-button\"]')\n",
    "    next_button.click()\n",
    "except: pass"
   ]
  },
  {
   "cell_type": "code",
   "execution_count": 5,
   "id": "c1a570cf",
   "metadata": {},
   "outputs": [],
   "source": [
    "# get job titles and links for jobs on each page\n",
    "# click button to go to the next page\n",
    "\n",
    "job_title=[]\n",
    "job_link=[]\n",
    "\n",
    "while True:\n",
    "    time.sleep(2)\n",
    "    soup = BeautifulSoup(driver.page_source, 'html.parser')\n",
    "    tags = soup.find_all('a', {'class': 'job-title-link'})\n",
    "    job_link.extend(['https://jobs.intel.com' + t['href'] for t in tags])\n",
    "    job_title.extend([t.find('h2').text for t in tags])\n",
    "    \n",
    "    try:\n",
    "        next_button = driver.find_element('xpath', '//*[@class=\"next\"]')\n",
    "        driver.execute_script(\"arguments[0].click();\", next_button)\n",
    "    except: break"
   ]
  },
  {
   "cell_type": "code",
   "execution_count": 6,
   "id": "e9d935bb",
   "metadata": {},
   "outputs": [
    {
     "data": {
      "text/plain": [
       "424"
      ]
     },
     "execution_count": 6,
     "metadata": {},
     "output_type": "execute_result"
    }
   ],
   "source": [
    "len(job_link)"
   ]
  },
  {
   "cell_type": "code",
   "execution_count": 7,
   "id": "39e03c13",
   "metadata": {},
   "outputs": [],
   "source": [
    "def replace_char(s):\n",
    "  s_new = s.replace('\\n', ' ').replace('\\xa0', ' ')\n",
    "  while '  ' in s_new:\n",
    "    s_new = s_new.replace('  ', ' ')\n",
    "  return s_new"
   ]
  },
  {
   "cell_type": "code",
   "execution_count": 8,
   "id": "c4038c42",
   "metadata": {},
   "outputs": [],
   "source": [
    "job_title = [replace_char(job) for job in job_title]"
   ]
  },
  {
   "cell_type": "code",
   "execution_count": 9,
   "id": "4f397bc2",
   "metadata": {},
   "outputs": [
    {
     "name": "stdout",
     "output_type": "stream",
     "text": [
      "409\n"
     ]
    }
   ],
   "source": [
    "# create a dataframe that contains job titles and links for all job categories\n",
    "df_title_link = pd.DataFrame(zip(job_title, job_link), columns=['JOB_TITLE', 'JOB_LINK'])\n",
    "\n",
    "# drop the duplicates\n",
    "df_title_link = df_title_link.drop_duplicates()\n",
    "print(len(df_title_link))"
   ]
  },
  {
   "cell_type": "code",
   "execution_count": 11,
   "id": "cd5cf454",
   "metadata": {},
   "outputs": [],
   "source": [
    "# save the titles and links to csv\n",
    "#df_title_link.to_csv('intel_jobs_titles_links_all.csv')"
   ]
  },
  {
   "cell_type": "markdown",
   "id": "03336eff",
   "metadata": {},
   "source": [
    "## Extract job descriptions and qualifications for each job"
   ]
  },
  {
   "cell_type": "code",
   "execution_count": 12,
   "id": "a17d172e",
   "metadata": {
    "scrolled": false
   },
   "outputs": [],
   "source": [
    "# load in the job titles and links from the csv file\n",
    "#df_title_link = pd.read_csv('intel_jobs_titles_links_all.csv', index_col=0)\n",
    "#df_title_link.head()"
   ]
  },
  {
   "cell_type": "code",
   "execution_count": 13,
   "id": "b47f8be0",
   "metadata": {},
   "outputs": [],
   "source": [
    "# retrieve job qualifications and descriptions\n",
    "def job_description(title, link):\n",
    "    qualifications = []\n",
    "    description = []\n",
    "    jobtitle = []\n",
    "    joblink = []\n",
    "    \n",
    "    driver=webdriver.Chrome('chromedriver',options=chrome_options)\n",
    "    for i in range(len(link)):\n",
    "        URL=link[i]\n",
    "        driver.get(URL)\n",
    "        time.sleep(1)\n",
    "        soup = BeautifulSoup(driver.page_source, 'html.parser')\n",
    "        \n",
    "        s = ''\n",
    "        d = ''\n",
    "\n",
    "        # get job qualifications\n",
    "        # retrieve the text between \"Qualifications\" and the next section with tag \"h2\"\n",
    "        try:\n",
    "            tag = soup.find('h2', text='Qualifications').findNextSibling()\n",
    "            ul=0\n",
    "            space_count = 0\n",
    "            while (tag.name!='h2') & (ul<2):\n",
    "                if tag.name == 'ul':\n",
    "                    ul += 1\n",
    "                s = s + \" \" + tag.text\n",
    "                space_count += 1\n",
    "                try: tag = tag.findNextSibling() \n",
    "                except: pass\n",
    "            \n",
    "            # if there are no 'ul' or other text blocks found, then look for text under tag 'br'\n",
    "            if len(s)<=space_count : \n",
    "                try:\n",
    "                    tag = soup.find('h2', text='Qualifications').findNextSibling('br')\n",
    "                    s = s + \" \" + tag.next_element\n",
    "                except: pass\n",
    "                    \n",
    "        except: pass\n",
    "\n",
    "        # get job descriptions\n",
    "        # retrieve the text between \"Job Description\" and the next section with tag \"h2\"\n",
    "        try:\n",
    "            tag = soup.find('h2', text='Job Description').findNextSibling()\n",
    "            ul=0\n",
    "            space_count = 0\n",
    "            while (tag.name!='h2'):\n",
    "                d = d + \" \" + tag.text\n",
    "                space_count += 1\n",
    "                try: tag = tag.findNextSibling() \n",
    "                except: pass\n",
    "            \n",
    "            # if there are no 'ul' or other text blocks found, then look for text under tag 'br'\n",
    "            if len(s)<=space_count : \n",
    "                try:\n",
    "                    tag = soup.find('h2', text='Job Description').findNextSibling('br')\n",
    "                    d = d + \" \" + tag.next_element\n",
    "                except: pass\n",
    "        except: pass\n",
    "        \n",
    "        qualifications.append(s)\n",
    "        description.append(d)   \n",
    "        jobtitle.append(title[i])\n",
    "        joblink.append(link[i])\n",
    "\n",
    "    driver.quit()            \n",
    " \n",
    "    return jobtitle, link, qualifications, description"
   ]
  },
  {
   "cell_type": "code",
   "execution_count": 14,
   "id": "a337813d",
   "metadata": {},
   "outputs": [],
   "source": [
    "# retrieve the qualification for each job.\n",
    "title, link, qual, descrp = job_description(df_title_link['JOB_TITLE'].values, \\\n",
    "                                            df_title_link['JOB_LINK'].values)"
   ]
  },
  {
   "cell_type": "code",
   "execution_count": 16,
   "id": "b680bb86",
   "metadata": {},
   "outputs": [],
   "source": [
    "qual_cleaned = [replace_char(q) for q in qual]\n",
    "descrp_cleaned = [replace_char(d) for d in descrp]"
   ]
  },
  {
   "cell_type": "code",
   "execution_count": 17,
   "id": "68b3da2b",
   "metadata": {},
   "outputs": [],
   "source": [
    "#create a dataframe from basic qualification and preferred qualification\n",
    "df = pd.DataFrame(zip(title, qual_cleaned, link, descrp_cleaned))\n",
    "df.columns = ['TITLE', 'QUALIFICATIONS', 'LINK', 'DESCRIPTION']\n",
    "df['COMPANY'] = 'Intel'\n",
    "df = df.iloc[:, [4, 0, 1, 2, 3]]"
   ]
  },
  {
   "cell_type": "code",
   "execution_count": 18,
   "id": "c0afe5c2",
   "metadata": {},
   "outputs": [
    {
     "name": "stdout",
     "output_type": "stream",
     "text": [
      "0\n"
     ]
    }
   ],
   "source": [
    "# look for empty QUALIFICATION entries\n",
    "def get_empty(df, colname) :\n",
    "  empty_idx=[]\n",
    "  for i in range(len(df[colname])):\n",
    "    count = len(df[colname][i])\n",
    "    if count<=10 : empty_idx.append(i)\n",
    "    else: pass\n",
    "  return empty_idx\n",
    "\n",
    "empty_mini_q = get_empty(df, 'QUALIFICATIONS')\n",
    "print(len(empty_mini_q))\n",
    "\n",
    "# drop the empty Qualification entries\n",
    "df.drop(empty_mini_q, inplace=True)"
   ]
  },
  {
   "cell_type": "code",
   "execution_count": 20,
   "id": "2f689514",
   "metadata": {},
   "outputs": [
    {
     "name": "stdout",
     "output_type": "stream",
     "text": [
      "There are 409 jobs from Intel.\n"
     ]
    }
   ],
   "source": [
    "#remove the duplicated jobs\n",
    "df_nodup = df.drop_duplicates()\n",
    "print(\"There are {} jobs from Intel.\".format(df_nodup.shape[0]))\n",
    "\n",
    "df_nodup.to_csv('intel_all_jobs_cleaned.csv')"
   ]
  },
  {
   "cell_type": "code",
   "execution_count": null,
   "id": "41aac964",
   "metadata": {},
   "outputs": [],
   "source": []
  }
 ],
 "metadata": {
  "kernelspec": {
   "display_name": "Python 3 (ipykernel)",
   "language": "python",
   "name": "python3"
  },
  "language_info": {
   "codemirror_mode": {
    "name": "ipython",
    "version": 3
   },
   "file_extension": ".py",
   "mimetype": "text/x-python",
   "name": "python",
   "nbconvert_exporter": "python",
   "pygments_lexer": "ipython3",
   "version": "3.10.4"
  }
 },
 "nbformat": 4,
 "nbformat_minor": 5
}

{
 "cells": [
  {
   "cell_type": "markdown",
   "id": "9ccc5e40",
   "metadata": {},
   "source": [
    "# Extracting Job URLs and Job Titles"
   ]
  },
  {
   "cell_type": "code",
   "execution_count": 26,
   "id": "1c04618c",
   "metadata": {},
   "outputs": [],
   "source": [
    "#importing the necessary packages for web scraping\n",
    "from selenium import webdriver\n",
    "from bs4 import BeautifulSoup\n",
    "import time\n",
    "import re\n",
    "import pandas as pd"
   ]
  },
  {
   "cell_type": "code",
   "execution_count": 27,
   "id": "60944aa0",
   "metadata": {},
   "outputs": [],
   "source": [
    "#importing the Chrome browser extensions\n",
    "chrome_options = webdriver.ChromeOptions()\n",
    "chrome_options.add_argument('--headless')\n",
    "chrome_options.add_argument('--no-sandbox')\n",
    "chrome_options.add_argument('--disable-dev-shm-usage')"
   ]
  },
  {
   "cell_type": "code",
   "execution_count": 28,
   "id": "df60319a",
   "metadata": {},
   "outputs": [],
   "source": [
    "# specify the url strings for the company's job posting website\n",
    "url = 'https://vizient.wd1.myworkdayjobs.com/Vizient_Careers'\n",
    "driver = webdriver.Chrome()\n",
    "driver.get(url)\n",
    "time.sleep(1)"
   ]
  },
  {
   "cell_type": "code",
   "execution_count": 29,
   "id": "0bedeeb1",
   "metadata": {},
   "outputs": [],
   "source": [
    "# get job titles and links for each page and click the next button to go to the next page until no more\n",
    "job_title=[]\n",
    "job_link=[]\n",
    "\n",
    "next_button = driver.find_element('xpath', '//*[@aria-label=\"next\"]') \n",
    "\n",
    "while next_button:\n",
    "    soup = BeautifulSoup(driver.page_source, 'html.parser')\n",
    "    \n",
    "    job_title.extend([td.text for td in soup.findAll(\"a\", {\"data-automation-id\": \"jobTitle\"})])\n",
    "    job_link.extend(['https://vizient.wd1.myworkdayjobs.com' + td['href'] for td in soup.findAll(\"a\", {\"data-automation-id\": \"jobTitle\"})])\n",
    "    try:\n",
    "        next_button.click()\n",
    "        time.sleep(1)\n",
    "    except: break\n",
    "    "
   ]
  },
  {
   "cell_type": "code",
   "execution_count": 30,
   "id": "ca2e3c0a",
   "metadata": {},
   "outputs": [],
   "source": [
    "# create a dataframe that contains job titles and links for all job categories\n",
    "df_title_link = pd.DataFrame(zip(job_title, job_link), columns=['JOB_TITLE', 'JOB_LINK'])\n",
    "\n",
    "# drop the duplicates\n",
    "df_title_link = df_title_link.drop_duplicates()"
   ]
  },
  {
   "cell_type": "code",
   "execution_count": 31,
   "id": "b7fa103f",
   "metadata": {},
   "outputs": [
    {
     "data": {
      "text/html": [
       "<div>\n",
       "<style scoped>\n",
       "    .dataframe tbody tr th:only-of-type {\n",
       "        vertical-align: middle;\n",
       "    }\n",
       "\n",
       "    .dataframe tbody tr th {\n",
       "        vertical-align: top;\n",
       "    }\n",
       "\n",
       "    .dataframe thead th {\n",
       "        text-align: right;\n",
       "    }\n",
       "</style>\n",
       "<table border=\"1\" class=\"dataframe\">\n",
       "  <thead>\n",
       "    <tr style=\"text-align: right;\">\n",
       "      <th></th>\n",
       "      <th>JOB_TITLE</th>\n",
       "      <th>JOB_LINK</th>\n",
       "    </tr>\n",
       "  </thead>\n",
       "  <tbody>\n",
       "    <tr>\n",
       "      <th>0</th>\n",
       "      <td>Analyst - Pharmacy Analytics</td>\n",
       "      <td>https://vizient.wd1.myworkdayjobs.com/en-US/Vi...</td>\n",
       "    </tr>\n",
       "    <tr>\n",
       "      <th>1</th>\n",
       "      <td>Lead Analyst - Dedicated support Oklahoma/Arka...</td>\n",
       "      <td>https://vizient.wd1.myworkdayjobs.com/en-US/Vi...</td>\n",
       "    </tr>\n",
       "    <tr>\n",
       "      <th>2</th>\n",
       "      <td>Price Management Analyst</td>\n",
       "      <td>https://vizient.wd1.myworkdayjobs.com/en-US/Vi...</td>\n",
       "    </tr>\n",
       "    <tr>\n",
       "      <th>3</th>\n",
       "      <td>Networks Manager</td>\n",
       "      <td>https://vizient.wd1.myworkdayjobs.com/en-US/Vi...</td>\n",
       "    </tr>\n",
       "    <tr>\n",
       "      <th>4</th>\n",
       "      <td>Senior Software Quality Engineer</td>\n",
       "      <td>https://vizient.wd1.myworkdayjobs.com/en-US/Vi...</td>\n",
       "    </tr>\n",
       "  </tbody>\n",
       "</table>\n",
       "</div>"
      ],
      "text/plain": [
       "                                           JOB_TITLE  \\\n",
       "0                       Analyst - Pharmacy Analytics   \n",
       "1  Lead Analyst - Dedicated support Oklahoma/Arka...   \n",
       "2                           Price Management Analyst   \n",
       "3                                   Networks Manager   \n",
       "4                   Senior Software Quality Engineer   \n",
       "\n",
       "                                            JOB_LINK  \n",
       "0  https://vizient.wd1.myworkdayjobs.com/en-US/Vi...  \n",
       "1  https://vizient.wd1.myworkdayjobs.com/en-US/Vi...  \n",
       "2  https://vizient.wd1.myworkdayjobs.com/en-US/Vi...  \n",
       "3  https://vizient.wd1.myworkdayjobs.com/en-US/Vi...  \n",
       "4  https://vizient.wd1.myworkdayjobs.com/en-US/Vi...  "
      ]
     },
     "execution_count": 31,
     "metadata": {},
     "output_type": "execute_result"
    }
   ],
   "source": [
    "df_title_link.head()"
   ]
  },
  {
   "cell_type": "code",
   "execution_count": 32,
   "id": "9d704ce2",
   "metadata": {},
   "outputs": [
    {
     "data": {
      "text/plain": [
       "(100, 2)"
      ]
     },
     "execution_count": 32,
     "metadata": {},
     "output_type": "execute_result"
    }
   ],
   "source": [
    "df_title_link.shape"
   ]
  },
  {
   "cell_type": "markdown",
   "id": "3b504792",
   "metadata": {},
   "source": [
    "# Extract job description and qualifications"
   ]
  },
  {
   "cell_type": "code",
   "execution_count": 33,
   "id": "24aebe8b",
   "metadata": {},
   "outputs": [],
   "source": [
    "# retrieve job qualifications and descriptions\n",
    "def job_description(title, link):\n",
    "    qualifications = []\n",
    "    description = []\n",
    "    jobtitle = []\n",
    "    joblink = []\n",
    "\n",
    "    driver=webdriver.Chrome('chromedriver',options=chrome_options)\n",
    "    for i in range(len(link)):\n",
    "        URL=link[i]\n",
    "        driver.get(URL)\n",
    "        time.sleep(1)\n",
    "        soup = BeautifulSoup(driver.page_source, 'html.parser')\n",
    "        \n",
    "        s = ''\n",
    "        d = ''\n",
    "\n",
    "        text_pattern_descrp_1 = re.compile(\"Responsibilities:\", re.IGNORECASE)\n",
    "        \n",
    "        \n",
    "        text_pattern_qual_1 = re.compile(\"Qualifications:\", re.IGNORECASE)        \n",
    "        \n",
    "        \n",
    "        #trys all of the qualification metrics\n",
    "        try:\n",
    "            tag = soup.find(\"b\", text=text_pattern_qual_1).findNext(\"ul\")\n",
    "            s = s + tag.text\n",
    "        except: pass\n",
    "        \n",
    "               \n",
    "        #trys all of the description metrics\n",
    "        try:\n",
    "            tag = soup.find(\"b\", text=text_pattern_descrp_1).findNext(\"ul\")\n",
    "            d = tag.text\n",
    "        except: pass\n",
    "        \n",
    "        qualifications.append(s)\n",
    "        description.append(d)   \n",
    "        jobtitle.append(title[i])\n",
    "        joblink.append(link[i])\n",
    "        \n",
    "    driver.quit()            \n",
    " \n",
    "    return jobtitle, link, qualifications, description"
   ]
  },
  {
   "cell_type": "code",
   "execution_count": 34,
   "id": "70768530",
   "metadata": {},
   "outputs": [
    {
     "name": "stdout",
     "output_type": "stream",
     "text": [
      "100 100\n"
     ]
    }
   ],
   "source": [
    "title, link, qual, descrp = job_description(df_title_link['JOB_TITLE'].values, df_title_link['JOB_LINK'].values)\n",
    "print(len(qual), len(descrp))"
   ]
  },
  {
   "cell_type": "code",
   "execution_count": 35,
   "id": "8bfb0597",
   "metadata": {},
   "outputs": [],
   "source": [
    "#create a dataframe from qualifications and descriptions\n",
    "df = pd.DataFrame(zip(title, qual, link, descrp))\n",
    "df.columns = ['TITLE', 'QUALIFICATIONS', 'LINK', 'DESCRIPTION']\n",
    "df['COMPANY'] = 'Vizient'\n",
    "df = df.iloc[:, [4, 0, 1, 2, 3]]"
   ]
  },
  {
   "cell_type": "code",
   "execution_count": 36,
   "id": "b82f618a",
   "metadata": {},
   "outputs": [
    {
     "data": {
      "text/html": [
       "<div>\n",
       "<style scoped>\n",
       "    .dataframe tbody tr th:only-of-type {\n",
       "        vertical-align: middle;\n",
       "    }\n",
       "\n",
       "    .dataframe tbody tr th {\n",
       "        vertical-align: top;\n",
       "    }\n",
       "\n",
       "    .dataframe thead th {\n",
       "        text-align: right;\n",
       "    }\n",
       "</style>\n",
       "<table border=\"1\" class=\"dataframe\">\n",
       "  <thead>\n",
       "    <tr style=\"text-align: right;\">\n",
       "      <th></th>\n",
       "      <th>COMPANY</th>\n",
       "      <th>TITLE</th>\n",
       "      <th>QUALIFICATIONS</th>\n",
       "      <th>LINK</th>\n",
       "      <th>DESCRIPTION</th>\n",
       "    </tr>\n",
       "  </thead>\n",
       "  <tbody>\n",
       "    <tr>\n",
       "      <th>0</th>\n",
       "      <td>Vizient</td>\n",
       "      <td>Analyst - Pharmacy Analytics</td>\n",
       "      <td>Relevant degree preferred; graduate degree des...</td>\n",
       "      <td>https://vizient.wd1.myworkdayjobs.com/en-US/Vi...</td>\n",
       "      <td>Provide operational support for pharmacy portf...</td>\n",
       "    </tr>\n",
       "    <tr>\n",
       "      <th>1</th>\n",
       "      <td>Vizient</td>\n",
       "      <td>Lead Analyst - Dedicated support Oklahoma/Arka...</td>\n",
       "      <td></td>\n",
       "      <td>https://vizient.wd1.myworkdayjobs.com/en-US/Vi...</td>\n",
       "      <td>Serve as lead for analytics requests, includin...</td>\n",
       "    </tr>\n",
       "    <tr>\n",
       "      <th>2</th>\n",
       "      <td>Vizient</td>\n",
       "      <td>Price Management Analyst</td>\n",
       "      <td>Relevant degree preferred. 2 or more years’ re...</td>\n",
       "      <td>https://vizient.wd1.myworkdayjobs.com/en-US/Vi...</td>\n",
       "      <td>Interact with members, contracted vendors and ...</td>\n",
       "    </tr>\n",
       "    <tr>\n",
       "      <th>3</th>\n",
       "      <td>Vizient</td>\n",
       "      <td>Networks Manager</td>\n",
       "      <td>Relevant degree preferred.2 or more years of r...</td>\n",
       "      <td>https://vizient.wd1.myworkdayjobs.com/en-US/Vi...</td>\n",
       "      <td>Maintain knowledge of network and Vizient offe...</td>\n",
       "    </tr>\n",
       "    <tr>\n",
       "      <th>4</th>\n",
       "      <td>Vizient</td>\n",
       "      <td>Senior Software Quality Engineer</td>\n",
       "      <td>Relevant degree preferred. Degree in Computer ...</td>\n",
       "      <td>https://vizient.wd1.myworkdayjobs.com/en-US/Vi...</td>\n",
       "      <td>Evaluate and implement software test automatio...</td>\n",
       "    </tr>\n",
       "  </tbody>\n",
       "</table>\n",
       "</div>"
      ],
      "text/plain": [
       "   COMPANY                                              TITLE  \\\n",
       "0  Vizient                       Analyst - Pharmacy Analytics   \n",
       "1  Vizient  Lead Analyst - Dedicated support Oklahoma/Arka...   \n",
       "2  Vizient                           Price Management Analyst   \n",
       "3  Vizient                                   Networks Manager   \n",
       "4  Vizient                   Senior Software Quality Engineer   \n",
       "\n",
       "                                      QUALIFICATIONS  \\\n",
       "0  Relevant degree preferred; graduate degree des...   \n",
       "1                                                      \n",
       "2  Relevant degree preferred. 2 or more years’ re...   \n",
       "3  Relevant degree preferred.2 or more years of r...   \n",
       "4  Relevant degree preferred. Degree in Computer ...   \n",
       "\n",
       "                                                LINK  \\\n",
       "0  https://vizient.wd1.myworkdayjobs.com/en-US/Vi...   \n",
       "1  https://vizient.wd1.myworkdayjobs.com/en-US/Vi...   \n",
       "2  https://vizient.wd1.myworkdayjobs.com/en-US/Vi...   \n",
       "3  https://vizient.wd1.myworkdayjobs.com/en-US/Vi...   \n",
       "4  https://vizient.wd1.myworkdayjobs.com/en-US/Vi...   \n",
       "\n",
       "                                         DESCRIPTION  \n",
       "0  Provide operational support for pharmacy portf...  \n",
       "1  Serve as lead for analytics requests, includin...  \n",
       "2  Interact with members, contracted vendors and ...  \n",
       "3  Maintain knowledge of network and Vizient offe...  \n",
       "4  Evaluate and implement software test automatio...  "
      ]
     },
     "execution_count": 36,
     "metadata": {},
     "output_type": "execute_result"
    }
   ],
   "source": [
    "df.head()"
   ]
  },
  {
   "cell_type": "code",
   "execution_count": 37,
   "id": "5faf0652",
   "metadata": {},
   "outputs": [
    {
     "name": "stdout",
     "output_type": "stream",
     "text": [
      "There are 100 jobs from Nvidia.\n"
     ]
    }
   ],
   "source": [
    "#remove the duplicated jobs\n",
    "df_nodup = df.drop_duplicates()\n",
    "print(\"There are {} jobs from vizient.\".format(df_nodup.shape[0]))\n",
    "\n",
    "# save the output file\n",
    "df_nodup.to_csv('vizient_cleaned_jobs_usa.csv')"
   ]
  }
 ],
 "metadata": {
  "kernelspec": {
   "display_name": "Python 3 (ipykernel)",
   "language": "python",
   "name": "python3"
  },
  "language_info": {
   "codemirror_mode": {
    "name": "ipython",
    "version": 3
   },
   "file_extension": ".py",
   "mimetype": "text/x-python",
   "name": "python",
   "nbconvert_exporter": "python",
   "pygments_lexer": "ipython3",
   "version": "3.10.4"
  }
 },
 "nbformat": 4,
 "nbformat_minor": 5
}

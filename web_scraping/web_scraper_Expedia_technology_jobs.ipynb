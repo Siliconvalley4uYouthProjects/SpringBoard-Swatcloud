{
 "cells": [
  {
   "cell_type": "code",
   "execution_count": 14,
   "id": "aa8ed824",
   "metadata": {},
   "outputs": [],
   "source": [
    "from selenium import webdriver\n",
    "import pandas as pd\n",
    "import numpy as np\n",
    "from selenium.webdriver.common.by import By"
   ]
  },
  {
   "cell_type": "markdown",
   "id": "6c6573b1",
   "metadata": {},
   "source": [
    "# Get job titles and job description page links"
   ]
  },
  {
   "cell_type": "code",
   "execution_count": 15,
   "id": "5283816d",
   "metadata": {},
   "outputs": [],
   "source": [
    "job_title = []\n",
    "job_link = []\n",
    "\n",
    "\n",
    "\n",
    "#this url redirects to the page 'https://sjobs.brassring.com/TGnewUI/Search/Home/Home?partnerid=25633&siteid=5439&Codes=BeMore#home'\n",
    "#url = 'https://sjobs.brassring.com/TGnewUI/Search/Home/Home?partnerid=25633&siteid=5439&Codes=BeMore#keyWordSearch=technology%20or%20software%20engineering%20or%20developer%20or%20azure%20or%20aws&locationSearch='\n",
    "\n",
    "url = 'https://careers.expediagroup.com/jobs/?&filter[country]=United+States'\n",
    "\n",
    "driver = webdriver.Chrome()\n",
    "\n",
    "driver.implicitly_wait(20)\n",
    "\n",
    "driver.get(url)\n",
    "\n",
    "\n"
   ]
  },
  {
   "cell_type": "code",
   "execution_count": 16,
   "id": "7ac28baa",
   "metadata": {},
   "outputs": [
    {
     "name": "stdout",
     "output_type": "stream",
     "text": [
      "page 11\n"
     ]
    }
   ],
   "source": [
    "x = 1\n",
    "i = 1\n",
    "\n",
    "while x == 1:\n",
    "    try:\n",
    "    \n",
    "        next_button = driver.find_element(By.ID,'loadmore')\n",
    "        next_button.click()\n",
    "\n",
    "    except:\n",
    "        print('page',i)\n",
    "        x = 0 \n",
    "    i +=1"
   ]
  },
  {
   "cell_type": "code",
   "execution_count": 17,
   "id": "74f5cce2",
   "metadata": {},
   "outputs": [],
   "source": [
    "TITLE = []\n",
    "LINK = []"
   ]
  },
  {
   "cell_type": "code",
   "execution_count": 18,
   "id": "2094b897",
   "metadata": {},
   "outputs": [],
   "source": [
    "y = 1     \n",
    "i = 1\n",
    "\n",
    "while y != 0:\n",
    "#while i < 3:\n",
    "    \n",
    "    y = 2\n",
    "    \n",
    "    try:\n",
    "        j_title = driver.find_element(By.XPATH,'//*[@id=\"resultslist\"]/li['+str(i)+']/a/h3')\n",
    "        TITLE.append(j_title.text) \n",
    "    except:\n",
    "        TITLE.append('')\n",
    "        y-=1\n",
    "    \n",
    "    try:\n",
    "        j_link = driver.find_element(By.XPATH,'//*[@id=\"resultslist\"]/li['+str(i)+']/a')\n",
    "        LINK.append(j_link.get_attribute('href'))\n",
    "    except:\n",
    "        LINK.append('')\n",
    "        y-=1\n",
    "\n",
    "    i = i+1"
   ]
  },
  {
   "cell_type": "code",
   "execution_count": 19,
   "id": "15d8c7f8",
   "metadata": {
    "scrolled": true
   },
   "outputs": [
    {
     "name": "stdout",
     "output_type": "stream",
     "text": [
      "267 267\n"
     ]
    }
   ],
   "source": [
    "print(len(TITLE), len(LINK))"
   ]
  },
  {
   "cell_type": "code",
   "execution_count": 20,
   "id": "727ef009",
   "metadata": {},
   "outputs": [
    {
     "data": {
      "text/html": [
       "<div>\n",
       "<style scoped>\n",
       "    .dataframe tbody tr th:only-of-type {\n",
       "        vertical-align: middle;\n",
       "    }\n",
       "\n",
       "    .dataframe tbody tr th {\n",
       "        vertical-align: top;\n",
       "    }\n",
       "\n",
       "    .dataframe thead th {\n",
       "        text-align: right;\n",
       "    }\n",
       "</style>\n",
       "<table border=\"1\" class=\"dataframe\">\n",
       "  <thead>\n",
       "    <tr style=\"text-align: right;\">\n",
       "      <th></th>\n",
       "      <th>TITLE</th>\n",
       "      <th>LINK</th>\n",
       "    </tr>\n",
       "  </thead>\n",
       "  <tbody>\n",
       "    <tr>\n",
       "      <th>0</th>\n",
       "      <td>Software Development Engineer II</td>\n",
       "      <td>https://careers.expediagroup.com/jobs/job/?Sof...</td>\n",
       "    </tr>\n",
       "    <tr>\n",
       "      <th>1</th>\n",
       "      <td>Security Compliance Analyst III</td>\n",
       "      <td>https://careers.expediagroup.com/jobs/job/?Sec...</td>\n",
       "    </tr>\n",
       "    <tr>\n",
       "      <th>2</th>\n",
       "      <td>Security Compliance Analyst III</td>\n",
       "      <td>https://careers.expediagroup.com/jobs/job/?Sec...</td>\n",
       "    </tr>\n",
       "    <tr>\n",
       "      <th>3</th>\n",
       "      <td>Principal Technical Architect - CCOE</td>\n",
       "      <td>https://careers.expediagroup.com/jobs/job/?Pri...</td>\n",
       "    </tr>\n",
       "    <tr>\n",
       "      <th>4</th>\n",
       "      <td>Legal Counsel</td>\n",
       "      <td>https://careers.expediagroup.com/jobs/job/?Leg...</td>\n",
       "    </tr>\n",
       "  </tbody>\n",
       "</table>\n",
       "</div>"
      ],
      "text/plain": [
       "                                  TITLE  \\\n",
       "0      Software Development Engineer II   \n",
       "1       Security Compliance Analyst III   \n",
       "2       Security Compliance Analyst III   \n",
       "3  Principal Technical Architect - CCOE   \n",
       "4                         Legal Counsel   \n",
       "\n",
       "                                                LINK  \n",
       "0  https://careers.expediagroup.com/jobs/job/?Sof...  \n",
       "1  https://careers.expediagroup.com/jobs/job/?Sec...  \n",
       "2  https://careers.expediagroup.com/jobs/job/?Sec...  \n",
       "3  https://careers.expediagroup.com/jobs/job/?Pri...  \n",
       "4  https://careers.expediagroup.com/jobs/job/?Leg...  "
      ]
     },
     "execution_count": 20,
     "metadata": {},
     "output_type": "execute_result"
    }
   ],
   "source": [
    "# convert to dataframe\n",
    "\n",
    "df = pd.DataFrame(zip(TITLE, LINK))\n",
    "df.columns = ['TITLE', 'LINK']\n",
    "df.head()"
   ]
  },
  {
   "cell_type": "code",
   "execution_count": 21,
   "id": "e9bb040b",
   "metadata": {},
   "outputs": [],
   "source": [
    "df.to_csv('Expedia_title_link.csv')"
   ]
  },
  {
   "cell_type": "code",
   "execution_count": null,
   "id": "52f53b27",
   "metadata": {},
   "outputs": [],
   "source": []
  },
  {
   "cell_type": "code",
   "execution_count": 22,
   "id": "df6bc0cf",
   "metadata": {},
   "outputs": [
    {
     "data": {
      "text/html": [
       "<div>\n",
       "<style scoped>\n",
       "    .dataframe tbody tr th:only-of-type {\n",
       "        vertical-align: middle;\n",
       "    }\n",
       "\n",
       "    .dataframe tbody tr th {\n",
       "        vertical-align: top;\n",
       "    }\n",
       "\n",
       "    .dataframe thead th {\n",
       "        text-align: right;\n",
       "    }\n",
       "</style>\n",
       "<table border=\"1\" class=\"dataframe\">\n",
       "  <thead>\n",
       "    <tr style=\"text-align: right;\">\n",
       "      <th></th>\n",
       "      <th>TITLE</th>\n",
       "      <th>LINK</th>\n",
       "    </tr>\n",
       "  </thead>\n",
       "  <tbody>\n",
       "    <tr>\n",
       "      <th>0</th>\n",
       "      <td>Software Development Engineer II</td>\n",
       "      <td>https://careers.expediagroup.com/jobs/job/?Sof...</td>\n",
       "    </tr>\n",
       "    <tr>\n",
       "      <th>1</th>\n",
       "      <td>Security Compliance Analyst III</td>\n",
       "      <td>https://careers.expediagroup.com/jobs/job/?Sec...</td>\n",
       "    </tr>\n",
       "    <tr>\n",
       "      <th>2</th>\n",
       "      <td>Security Compliance Analyst III</td>\n",
       "      <td>https://careers.expediagroup.com/jobs/job/?Sec...</td>\n",
       "    </tr>\n",
       "    <tr>\n",
       "      <th>3</th>\n",
       "      <td>Principal Technical Architect - CCOE</td>\n",
       "      <td>https://careers.expediagroup.com/jobs/job/?Pri...</td>\n",
       "    </tr>\n",
       "    <tr>\n",
       "      <th>4</th>\n",
       "      <td>Legal Counsel</td>\n",
       "      <td>https://careers.expediagroup.com/jobs/job/?Leg...</td>\n",
       "    </tr>\n",
       "  </tbody>\n",
       "</table>\n",
       "</div>"
      ],
      "text/plain": [
       "                                  TITLE  \\\n",
       "0      Software Development Engineer II   \n",
       "1       Security Compliance Analyst III   \n",
       "2       Security Compliance Analyst III   \n",
       "3  Principal Technical Architect - CCOE   \n",
       "4                         Legal Counsel   \n",
       "\n",
       "                                                LINK  \n",
       "0  https://careers.expediagroup.com/jobs/job/?Sof...  \n",
       "1  https://careers.expediagroup.com/jobs/job/?Sec...  \n",
       "2  https://careers.expediagroup.com/jobs/job/?Sec...  \n",
       "3  https://careers.expediagroup.com/jobs/job/?Pri...  \n",
       "4  https://careers.expediagroup.com/jobs/job/?Leg...  "
      ]
     },
     "execution_count": 22,
     "metadata": {},
     "output_type": "execute_result"
    }
   ],
   "source": [
    "df = pd.read_csv('Expedia_title_link.csv', index_col=0)\n",
    "df.head()"
   ]
  },
  {
   "cell_type": "code",
   "execution_count": 34,
   "id": "beb2affa",
   "metadata": {},
   "outputs": [
    {
     "data": {
      "text/plain": [
       "TITLE    0\n",
       "LINK     0\n",
       "dtype: int64"
      ]
     },
     "execution_count": 34,
     "metadata": {},
     "output_type": "execute_result"
    }
   ],
   "source": [
    "df = df.dropna()\n",
    "df.isna().sum()"
   ]
  },
  {
   "cell_type": "code",
   "execution_count": 35,
   "id": "2cc804ae",
   "metadata": {
    "scrolled": true
   },
   "outputs": [
    {
     "name": "stdout",
     "output_type": "stream",
     "text": [
      "266\n"
     ]
    },
    {
     "data": {
      "text/html": [
       "<div>\n",
       "<style scoped>\n",
       "    .dataframe tbody tr th:only-of-type {\n",
       "        vertical-align: middle;\n",
       "    }\n",
       "\n",
       "    .dataframe tbody tr th {\n",
       "        vertical-align: top;\n",
       "    }\n",
       "\n",
       "    .dataframe thead th {\n",
       "        text-align: right;\n",
       "    }\n",
       "</style>\n",
       "<table border=\"1\" class=\"dataframe\">\n",
       "  <thead>\n",
       "    <tr style=\"text-align: right;\">\n",
       "      <th></th>\n",
       "      <th>TITLE</th>\n",
       "      <th>LINK</th>\n",
       "      <th>QUALIFICATIONS</th>\n",
       "      <th>DESCRIPTION</th>\n",
       "    </tr>\n",
       "  </thead>\n",
       "  <tbody>\n",
       "    <tr>\n",
       "      <th>0</th>\n",
       "      <td>Software Development Engineer II</td>\n",
       "      <td>https://careers.expediagroup.com/jobs/job/?Sof...</td>\n",
       "      <td>NaN</td>\n",
       "      <td>NaN</td>\n",
       "    </tr>\n",
       "    <tr>\n",
       "      <th>1</th>\n",
       "      <td>Security Compliance Analyst III</td>\n",
       "      <td>https://careers.expediagroup.com/jobs/job/?Sec...</td>\n",
       "      <td>NaN</td>\n",
       "      <td>NaN</td>\n",
       "    </tr>\n",
       "    <tr>\n",
       "      <th>2</th>\n",
       "      <td>Security Compliance Analyst III</td>\n",
       "      <td>https://careers.expediagroup.com/jobs/job/?Sec...</td>\n",
       "      <td>NaN</td>\n",
       "      <td>NaN</td>\n",
       "    </tr>\n",
       "    <tr>\n",
       "      <th>3</th>\n",
       "      <td>Principal Technical Architect - CCOE</td>\n",
       "      <td>https://careers.expediagroup.com/jobs/job/?Pri...</td>\n",
       "      <td>NaN</td>\n",
       "      <td>NaN</td>\n",
       "    </tr>\n",
       "    <tr>\n",
       "      <th>4</th>\n",
       "      <td>Legal Counsel</td>\n",
       "      <td>https://careers.expediagroup.com/jobs/job/?Leg...</td>\n",
       "      <td>NaN</td>\n",
       "      <td>NaN</td>\n",
       "    </tr>\n",
       "  </tbody>\n",
       "</table>\n",
       "</div>"
      ],
      "text/plain": [
       "                                  TITLE  \\\n",
       "0      Software Development Engineer II   \n",
       "1       Security Compliance Analyst III   \n",
       "2       Security Compliance Analyst III   \n",
       "3  Principal Technical Architect - CCOE   \n",
       "4                         Legal Counsel   \n",
       "\n",
       "                                                LINK  QUALIFICATIONS  \\\n",
       "0  https://careers.expediagroup.com/jobs/job/?Sof...             NaN   \n",
       "1  https://careers.expediagroup.com/jobs/job/?Sec...             NaN   \n",
       "2  https://careers.expediagroup.com/jobs/job/?Sec...             NaN   \n",
       "3  https://careers.expediagroup.com/jobs/job/?Pri...             NaN   \n",
       "4  https://careers.expediagroup.com/jobs/job/?Leg...             NaN   \n",
       "\n",
       "   DESCRIPTION  \n",
       "0          NaN  \n",
       "1          NaN  \n",
       "2          NaN  \n",
       "3          NaN  \n",
       "4          NaN  "
      ]
     },
     "execution_count": 35,
     "metadata": {},
     "output_type": "execute_result"
    }
   ],
   "source": [
    "df['QUALIFICATIONS'] = np.nan\n",
    "df['DESCRIPTION'] = np.nan\n",
    "df.drop_duplicates(subset=['TITLE', 'LINK'])\n",
    "df.head()\n",
    "print(len(df))\n",
    "df.head()"
   ]
  },
  {
   "cell_type": "markdown",
   "id": "79d8a1ba",
   "metadata": {},
   "source": [
    "# Get job description data"
   ]
  },
  {
   "cell_type": "code",
   "execution_count": 36,
   "id": "5707f2a9",
   "metadata": {},
   "outputs": [
    {
     "name": "stderr",
     "output_type": "stream",
     "text": [
      "C:\\Users\\meske\\AppData\\Local\\Temp/ipykernel_15012/1236830753.py:11: SettingWithCopyWarning: \n",
      "A value is trying to be set on a copy of a slice from a DataFrame\n",
      "\n",
      "See the caveats in the documentation: https://pandas.pydata.org/pandas-docs/stable/user_guide/indexing.html#returning-a-view-versus-a-copy\n",
      "  df['QUALIFICATIONS'][i] = qual.text\n",
      "C:\\Users\\meske\\AppData\\Local\\Temp/ipykernel_15012/1236830753.py:17: SettingWithCopyWarning: \n",
      "A value is trying to be set on a copy of a slice from a DataFrame\n",
      "\n",
      "See the caveats in the documentation: https://pandas.pydata.org/pandas-docs/stable/user_guide/indexing.html#returning-a-view-versus-a-copy\n",
      "  df['DESCRIPTION'][i] = desc.text\n"
     ]
    }
   ],
   "source": [
    "driver = webdriver.Chrome()\n",
    "        \n",
    "for i in range(len(df['LINK'])):\n",
    "\n",
    "    url = (df['LINK'][i])\n",
    "        \n",
    "    driver.get(url)\n",
    "\n",
    "    try:\n",
    "        qual = driver.find_element(By.XPATH,'/html/body/main/div[2]/div/div/div[1]/section[3]/div/div/div/div[1]/ul[2]')\n",
    "        df['QUALIFICATIONS'][i] = qual.text\n",
    "    except:\n",
    "        pass\n",
    "    \n",
    "    try:\n",
    "        desc = driver.find_element(By.XPATH,'/html/body/main/div[2]/div/div/div[1]/section[3]/div/div/div/div[1]/ul[1]')\n",
    "        df['DESCRIPTION'][i] = desc.text\n",
    "    except:\n",
    "        pass\n",
    "\n",
    "driver.close()\n",
    "\n"
   ]
  },
  {
   "cell_type": "code",
   "execution_count": 37,
   "id": "04ddb1f9",
   "metadata": {},
   "outputs": [
    {
     "data": {
      "text/html": [
       "<div>\n",
       "<style scoped>\n",
       "    .dataframe tbody tr th:only-of-type {\n",
       "        vertical-align: middle;\n",
       "    }\n",
       "\n",
       "    .dataframe tbody tr th {\n",
       "        vertical-align: top;\n",
       "    }\n",
       "\n",
       "    .dataframe thead th {\n",
       "        text-align: right;\n",
       "    }\n",
       "</style>\n",
       "<table border=\"1\" class=\"dataframe\">\n",
       "  <thead>\n",
       "    <tr style=\"text-align: right;\">\n",
       "      <th></th>\n",
       "      <th>TITLE</th>\n",
       "      <th>LINK</th>\n",
       "      <th>QUALIFICATIONS</th>\n",
       "      <th>DESCRIPTION</th>\n",
       "    </tr>\n",
       "  </thead>\n",
       "  <tbody>\n",
       "    <tr>\n",
       "      <th>219</th>\n",
       "      <td>Senior Data Engineer, Media Solutions</td>\n",
       "      <td>https://careers.expediagroup.com/jobs/job/?Sen...</td>\n",
       "      <td>Bachelors or Master’s or equivalent technical ...</td>\n",
       "      <td>Lead, design and develop scalable distributed ...</td>\n",
       "    </tr>\n",
       "    <tr>\n",
       "      <th>251</th>\n",
       "      <td>Transfer Pricing / International Tax Senior An...</td>\n",
       "      <td>https://careers.expediagroup.com/jobs/job/?Tra...</td>\n",
       "      <td>2+ years of progressive transfer pricing and /...</td>\n",
       "      <td>Help advise on transfer pricing and internatio...</td>\n",
       "    </tr>\n",
       "    <tr>\n",
       "      <th>97</th>\n",
       "      <td>Sr. Manager, Talent Strategy and Products Lead</td>\n",
       "      <td>https://careers.expediagroup.com/jobs/job/?Sr....</td>\n",
       "      <td>Bachelor's or Master's degree in related field...</td>\n",
       "      <td>Collaborate with GTM team to build relevant, h...</td>\n",
       "    </tr>\n",
       "    <tr>\n",
       "      <th>244</th>\n",
       "      <td>Machine Learning Engineer III</td>\n",
       "      <td>https://careers.expediagroup.com/jobs/job/?Mac...</td>\n",
       "      <td>3-5 years or experience in Machine Learning En...</td>\n",
       "      <td>Work in a cross-functional team of Machine Lea...</td>\n",
       "    </tr>\n",
       "    <tr>\n",
       "      <th>25</th>\n",
       "      <td>Market Manager - Dallas</td>\n",
       "      <td>https://careers.expediagroup.com/jobs/job/?Mar...</td>\n",
       "      <td>2+ years of experience in account management, ...</td>\n",
       "      <td>Develop and sustain strong partnerships in a s...</td>\n",
       "    </tr>\n",
       "  </tbody>\n",
       "</table>\n",
       "</div>"
      ],
      "text/plain": [
       "                                                 TITLE  \\\n",
       "219              Senior Data Engineer, Media Solutions   \n",
       "251  Transfer Pricing / International Tax Senior An...   \n",
       "97      Sr. Manager, Talent Strategy and Products Lead   \n",
       "244                      Machine Learning Engineer III   \n",
       "25                             Market Manager - Dallas   \n",
       "\n",
       "                                                  LINK  \\\n",
       "219  https://careers.expediagroup.com/jobs/job/?Sen...   \n",
       "251  https://careers.expediagroup.com/jobs/job/?Tra...   \n",
       "97   https://careers.expediagroup.com/jobs/job/?Sr....   \n",
       "244  https://careers.expediagroup.com/jobs/job/?Mac...   \n",
       "25   https://careers.expediagroup.com/jobs/job/?Mar...   \n",
       "\n",
       "                                        QUALIFICATIONS  \\\n",
       "219  Bachelors or Master’s or equivalent technical ...   \n",
       "251  2+ years of progressive transfer pricing and /...   \n",
       "97   Bachelor's or Master's degree in related field...   \n",
       "244  3-5 years or experience in Machine Learning En...   \n",
       "25   2+ years of experience in account management, ...   \n",
       "\n",
       "                                           DESCRIPTION  \n",
       "219  Lead, design and develop scalable distributed ...  \n",
       "251  Help advise on transfer pricing and internatio...  \n",
       "97   Collaborate with GTM team to build relevant, h...  \n",
       "244  Work in a cross-functional team of Machine Lea...  \n",
       "25   Develop and sustain strong partnerships in a s...  "
      ]
     },
     "execution_count": 37,
     "metadata": {},
     "output_type": "execute_result"
    }
   ],
   "source": [
    "df.sample(5)"
   ]
  },
  {
   "cell_type": "code",
   "execution_count": 38,
   "id": "84abafdf",
   "metadata": {},
   "outputs": [],
   "source": [
    "df.to_csv('expedia_jobs_usa.csv')"
   ]
  },
  {
   "cell_type": "markdown",
   "id": "f2d092d0",
   "metadata": {},
   "source": [
    "# Basic Cleaning"
   ]
  },
  {
   "cell_type": "code",
   "execution_count": 39,
   "id": "14755669",
   "metadata": {},
   "outputs": [
    {
     "data": {
      "text/plain": [
       "235"
      ]
     },
     "execution_count": 39,
     "metadata": {},
     "output_type": "execute_result"
    }
   ],
   "source": [
    "df = df.dropna()\n",
    "len(df)"
   ]
  },
  {
   "cell_type": "code",
   "execution_count": 40,
   "id": "4f23027e",
   "metadata": {},
   "outputs": [
    {
     "data": {
      "text/plain": [
       "104"
      ]
     },
     "execution_count": 40,
     "metadata": {},
     "output_type": "execute_result"
    }
   ],
   "source": [
    "df['QUALIFICATIONS'] = df['QUALIFICATIONS'].str.lower()\n",
    "df['DESCRIPTION'] = df['DESCRIPTION'].str.lower()\n",
    "df = df.drop_duplicates(subset=['TITLE', 'QUALIFICATIONS', 'DESCRIPTION'])\n",
    "df = df.reset_index(drop=True)\n",
    "df = df.reindex(columns=['COMPANY', 'TITLE', 'QUALIFICATIONS', 'LINK', 'DESCRIPTION'])\n",
    "len(df)"
   ]
  },
  {
   "cell_type": "code",
   "execution_count": 41,
   "id": "fc8eff56",
   "metadata": {},
   "outputs": [
    {
     "data": {
      "text/html": [
       "<div>\n",
       "<style scoped>\n",
       "    .dataframe tbody tr th:only-of-type {\n",
       "        vertical-align: middle;\n",
       "    }\n",
       "\n",
       "    .dataframe tbody tr th {\n",
       "        vertical-align: top;\n",
       "    }\n",
       "\n",
       "    .dataframe thead th {\n",
       "        text-align: right;\n",
       "    }\n",
       "</style>\n",
       "<table border=\"1\" class=\"dataframe\">\n",
       "  <thead>\n",
       "    <tr style=\"text-align: right;\">\n",
       "      <th></th>\n",
       "      <th>COMPANY</th>\n",
       "      <th>TITLE</th>\n",
       "      <th>QUALIFICATIONS</th>\n",
       "      <th>LINK</th>\n",
       "      <th>DESCRIPTION</th>\n",
       "    </tr>\n",
       "  </thead>\n",
       "  <tbody>\n",
       "    <tr>\n",
       "      <th>0</th>\n",
       "      <td>Expedia</td>\n",
       "      <td>Software Development Engineer II</td>\n",
       "      <td>bachelor's or master’s degree in a technical f...</td>\n",
       "      <td>https://careers.expediagroup.com/jobs/job/?Sof...</td>\n",
       "      <td>collaborate with team members to co-develop an...</td>\n",
       "    </tr>\n",
       "    <tr>\n",
       "      <th>1</th>\n",
       "      <td>Expedia</td>\n",
       "      <td>Security Compliance Analyst III</td>\n",
       "      <td>4+ years of experience in information security...</td>\n",
       "      <td>https://careers.expediagroup.com/jobs/job/?Sec...</td>\n",
       "      <td>write, edit, maintain, and support security po...</td>\n",
       "    </tr>\n",
       "    <tr>\n",
       "      <th>2</th>\n",
       "      <td>Expedia</td>\n",
       "      <td>Principal Technical Architect - CCOE</td>\n",
       "      <td>bachelor's or master's degree in a related fie...</td>\n",
       "      <td>https://careers.expediagroup.com/jobs/job/?Pri...</td>\n",
       "      <td>track developments and changes in core enterpr...</td>\n",
       "    </tr>\n",
       "    <tr>\n",
       "      <th>3</th>\n",
       "      <td>Expedia</td>\n",
       "      <td>Legal Counsel</td>\n",
       "      <td>you are a self-starter who is keen to dive int...</td>\n",
       "      <td>https://careers.expediagroup.com/jobs/job/?Leg...</td>\n",
       "      <td>reviewing, drafting and negotiating agreements...</td>\n",
       "    </tr>\n",
       "    <tr>\n",
       "      <th>4</th>\n",
       "      <td>Expedia</td>\n",
       "      <td>Senior Executive Assistant</td>\n",
       "      <td>10+ years executive support experience, includ...</td>\n",
       "      <td>https://careers.expediagroup.com/jobs/job/?Sen...</td>\n",
       "      <td>provide comprehensive support services to svp ...</td>\n",
       "    </tr>\n",
       "  </tbody>\n",
       "</table>\n",
       "</div>"
      ],
      "text/plain": [
       "   COMPANY                                 TITLE  \\\n",
       "0  Expedia      Software Development Engineer II   \n",
       "1  Expedia       Security Compliance Analyst III   \n",
       "2  Expedia  Principal Technical Architect - CCOE   \n",
       "3  Expedia                         Legal Counsel   \n",
       "4  Expedia            Senior Executive Assistant   \n",
       "\n",
       "                                      QUALIFICATIONS  \\\n",
       "0  bachelor's or master’s degree in a technical f...   \n",
       "1  4+ years of experience in information security...   \n",
       "2  bachelor's or master's degree in a related fie...   \n",
       "3  you are a self-starter who is keen to dive int...   \n",
       "4  10+ years executive support experience, includ...   \n",
       "\n",
       "                                                LINK  \\\n",
       "0  https://careers.expediagroup.com/jobs/job/?Sof...   \n",
       "1  https://careers.expediagroup.com/jobs/job/?Sec...   \n",
       "2  https://careers.expediagroup.com/jobs/job/?Pri...   \n",
       "3  https://careers.expediagroup.com/jobs/job/?Leg...   \n",
       "4  https://careers.expediagroup.com/jobs/job/?Sen...   \n",
       "\n",
       "                                         DESCRIPTION  \n",
       "0  collaborate with team members to co-develop an...  \n",
       "1  write, edit, maintain, and support security po...  \n",
       "2  track developments and changes in core enterpr...  \n",
       "3  reviewing, drafting and negotiating agreements...  \n",
       "4  provide comprehensive support services to svp ...  "
      ]
     },
     "execution_count": 41,
     "metadata": {},
     "output_type": "execute_result"
    }
   ],
   "source": [
    "df['COMPANY'] = 'Expedia'\n",
    "df.head(5)"
   ]
  },
  {
   "cell_type": "code",
   "execution_count": 42,
   "id": "2ac8c8bd",
   "metadata": {},
   "outputs": [],
   "source": [
    "df.to_csv('expedia_jobs_usa.csv')"
   ]
  },
  {
   "cell_type": "code",
   "execution_count": null,
   "id": "450be04d",
   "metadata": {},
   "outputs": [],
   "source": []
  }
 ],
 "metadata": {
  "kernelspec": {
   "display_name": "Python 3 (ipykernel)",
   "language": "python",
   "name": "python3"
  },
  "language_info": {
   "codemirror_mode": {
    "name": "ipython",
    "version": 3
   },
   "file_extension": ".py",
   "mimetype": "text/x-python",
   "name": "python",
   "nbconvert_exporter": "python",
   "pygments_lexer": "ipython3",
   "version": "3.9.7"
  }
 },
 "nbformat": 4,
 "nbformat_minor": 5
}

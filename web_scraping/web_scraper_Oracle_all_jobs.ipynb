{
 "cells": [
  {
   "cell_type": "code",
   "execution_count": 167,
   "id": "3667fa7f",
   "metadata": {},
   "outputs": [],
   "source": [
    "from selenium import webdriver\n",
    "from bs4 import BeautifulSoup\n",
    "import time"
   ]
  },
  {
   "cell_type": "code",
   "execution_count": 168,
   "id": "925ed802",
   "metadata": {},
   "outputs": [],
   "source": [
    "import pandas as pd\n",
    "import numpy as np"
   ]
  },
  {
   "cell_type": "code",
   "execution_count": 169,
   "id": "c4682543",
   "metadata": {},
   "outputs": [],
   "source": [
    "chrome_options = webdriver.ChromeOptions()\n",
    "chrome_options.add_argument('--headless')\n",
    "chrome_options.add_argument('--no-sandbox')\n",
    "chrome_options.add_argument('--disable-dev-shm-usage')"
   ]
  },
  {
   "cell_type": "code",
   "execution_count": 170,
   "id": "8b8a526c",
   "metadata": {},
   "outputs": [],
   "source": [
    "# we will scrape jobs from IBM in US and Canada\n",
    "url = 'https://eeho.fa.us2.oraclecloud.com/hcmUI/CandidateExperience/en/sites/CX_1/requisitions?location=United+States&locationId=300000000149325&locationLevel=country&mode=location'\n",
    "driver = webdriver.Chrome()\n",
    "driver.implicitly_wait(2)\n",
    "driver.get(url)"
   ]
  },
  {
   "cell_type": "markdown",
   "id": "e533aab4",
   "metadata": {},
   "source": [
    "found = False\n",
    "while found == False:\n",
    "    try:\n",
    "        next_button = driver.find_element('xpath', '//*[@class=\"search-results-load-more-btn\"]')  \n",
    "        found = True\n",
    "    except:\n",
    "        driver.execute_script(\"window.scrollTo(0, document.body.scrollHeight);\")\n",
    "        time.sleep(1)\n",
    "\n",
    "\n",
    "\n",
    "#driver.execute_script(\"window.scrollTo(0, 0);\")\n"
   ]
  },
  {
   "cell_type": "code",
   "execution_count": 171,
   "id": "38900ae0",
   "metadata": {},
   "outputs": [],
   "source": [
    "driver.execute_script(\"window.scrollTo(0, document.body.scrollHeight);\")\n",
    "time.sleep(1)\n",
    "driver.execute_script(\"window.scrollTo(0, document.body.scrollHeight);\")\n",
    "time.sleep(1)\n",
    "driver.execute_script(\"window.scrollTo(0, document.body.scrollHeight);\")\n",
    "time.sleep(1)\n",
    "driver.execute_script(\"window.scrollTo(0, document.body.scrollHeight);\")\n",
    "time.sleep(1)\n",
    "driver.execute_script(\"window.scrollTo(0, document.body.scrollHeight);\")\n",
    "time.sleep(1)\n",
    "\n",
    "driver.execute_script(\"window.scrollTo(0, 0);\")\n",
    "time.sleep(1)\n",
    "           \n",
    "driver.execute_script(\"window.scrollTo(0, document.body.scrollHeight);\")\n",
    "time.sleep(1)\n",
    "driver.execute_script(\"window.scrollTo(0, document.body.scrollHeight);\")\n",
    "time.sleep(1)"
   ]
  },
  {
   "cell_type": "code",
   "execution_count": 172,
   "id": "953f5192",
   "metadata": {},
   "outputs": [],
   "source": [
    "next_button = driver.find_element('xpath', '//*[@class=\"search-results-load-more-btn\"]')  \n",
    "while next_button:\n",
    "    next_button.click()\n",
    "    time.sleep(5)\n",
    "    try:\n",
    "        next_button = driver.find_element('xpath', '//*[@class=\"search-results-load-more-btn\"]') \n",
    "    except:\n",
    "        break"
   ]
  },
  {
   "cell_type": "code",
   "execution_count": 173,
   "id": "f813d2ea",
   "metadata": {},
   "outputs": [],
   "source": [
    "# we first get the total number of jobs and number of jobs per page\n",
    "soup = BeautifulSoup(driver.page_source, 'html.parser')\n",
    "job_title=[]\n",
    "job_link=[]\n",
    "\n",
    "job_title.extend(t.text for t in soup.find_all(\"h3\", {\"class\": \"job-title\"}))\n",
    "job_link.extend(t['href'] for t in soup.find_all(\"a\", {\"class\": \"joblist-tile\"}))"
   ]
  },
  {
   "cell_type": "code",
   "execution_count": 174,
   "id": "69c773d4",
   "metadata": {},
   "outputs": [
    {
     "data": {
      "text/plain": [
       "(1676, 1676)"
      ]
     },
     "execution_count": 174,
     "metadata": {},
     "output_type": "execute_result"
    }
   ],
   "source": [
    "len(job_title), len(job_link)"
   ]
  },
  {
   "cell_type": "code",
   "execution_count": 175,
   "id": "4f397bc2",
   "metadata": {},
   "outputs": [],
   "source": [
    "# create a dataframe that contains job titles and links for all job categories\n",
    "df_title_link = pd.DataFrame(zip(job_title, job_link), columns=['JOB_TITLE', 'JOB_LINK'])"
   ]
  },
  {
   "cell_type": "code",
   "execution_count": 176,
   "id": "7925f305",
   "metadata": {},
   "outputs": [
    {
     "data": {
      "text/html": [
       "<div>\n",
       "<style scoped>\n",
       "    .dataframe tbody tr th:only-of-type {\n",
       "        vertical-align: middle;\n",
       "    }\n",
       "\n",
       "    .dataframe tbody tr th {\n",
       "        vertical-align: top;\n",
       "    }\n",
       "\n",
       "    .dataframe thead th {\n",
       "        text-align: right;\n",
       "    }\n",
       "</style>\n",
       "<table border=\"1\" class=\"dataframe\">\n",
       "  <thead>\n",
       "    <tr style=\"text-align: right;\">\n",
       "      <th></th>\n",
       "      <th>JOB_TITLE</th>\n",
       "      <th>JOB_LINK</th>\n",
       "    </tr>\n",
       "  </thead>\n",
       "  <tbody>\n",
       "    <tr>\n",
       "      <th>0</th>\n",
       "      <td>Senior Developer - Ab Initio</td>\n",
       "      <td>https://eeho.fa.us2.oraclecloud.com/hcmUI/Cand...</td>\n",
       "    </tr>\n",
       "    <tr>\n",
       "      <th>1</th>\n",
       "      <td>Senior Software Developer</td>\n",
       "      <td>https://eeho.fa.us2.oraclecloud.com/hcmUI/Cand...</td>\n",
       "    </tr>\n",
       "    <tr>\n",
       "      <th>2</th>\n",
       "      <td>Oracle Hospitality | Software Developer - Java...</td>\n",
       "      <td>https://eeho.fa.us2.oraclecloud.com/hcmUI/Cand...</td>\n",
       "    </tr>\n",
       "    <tr>\n",
       "      <th>3</th>\n",
       "      <td>International Tax Manager - 1 Year Contract Po...</td>\n",
       "      <td>https://eeho.fa.us2.oraclecloud.com/hcmUI/Cand...</td>\n",
       "    </tr>\n",
       "    <tr>\n",
       "      <th>4</th>\n",
       "      <td>Principal Software Developer</td>\n",
       "      <td>https://eeho.fa.us2.oraclecloud.com/hcmUI/Cand...</td>\n",
       "    </tr>\n",
       "  </tbody>\n",
       "</table>\n",
       "</div>"
      ],
      "text/plain": [
       "                                           JOB_TITLE  \\\n",
       "0                       Senior Developer - Ab Initio   \n",
       "1                          Senior Software Developer   \n",
       "2  Oracle Hospitality | Software Developer - Java...   \n",
       "3  International Tax Manager - 1 Year Contract Po...   \n",
       "4                       Principal Software Developer   \n",
       "\n",
       "                                            JOB_LINK  \n",
       "0  https://eeho.fa.us2.oraclecloud.com/hcmUI/Cand...  \n",
       "1  https://eeho.fa.us2.oraclecloud.com/hcmUI/Cand...  \n",
       "2  https://eeho.fa.us2.oraclecloud.com/hcmUI/Cand...  \n",
       "3  https://eeho.fa.us2.oraclecloud.com/hcmUI/Cand...  \n",
       "4  https://eeho.fa.us2.oraclecloud.com/hcmUI/Cand...  "
      ]
     },
     "execution_count": 176,
     "metadata": {},
     "output_type": "execute_result"
    }
   ],
   "source": [
    "df_title_link.head()"
   ]
  },
  {
   "cell_type": "code",
   "execution_count": 177,
   "id": "1bd1c1d2",
   "metadata": {},
   "outputs": [],
   "source": [
    "# drop the duplicates\n",
    "df_title_link = df_title_link.drop_duplicates()"
   ]
  },
  {
   "cell_type": "code",
   "execution_count": 178,
   "id": "fdf00f3e",
   "metadata": {},
   "outputs": [
    {
     "data": {
      "text/plain": [
       "(1676, 2)"
      ]
     },
     "execution_count": 178,
     "metadata": {},
     "output_type": "execute_result"
    }
   ],
   "source": [
    "df_title_link.shape"
   ]
  },
  {
   "cell_type": "code",
   "execution_count": 179,
   "id": "cd5cf454",
   "metadata": {},
   "outputs": [],
   "source": [
    "# save the titles and links to csv\n",
    "df_title_link.to_csv('./oracle_jobs_titles_links_all.csv')"
   ]
  },
  {
   "cell_type": "markdown",
   "id": "03336eff",
   "metadata": {},
   "source": [
    "## Extract job descriptions and qualifications for each job"
   ]
  },
  {
   "cell_type": "code",
   "execution_count": 180,
   "id": "a17d172e",
   "metadata": {
    "scrolled": true
   },
   "outputs": [
    {
     "data": {
      "text/html": [
       "<div>\n",
       "<style scoped>\n",
       "    .dataframe tbody tr th:only-of-type {\n",
       "        vertical-align: middle;\n",
       "    }\n",
       "\n",
       "    .dataframe tbody tr th {\n",
       "        vertical-align: top;\n",
       "    }\n",
       "\n",
       "    .dataframe thead th {\n",
       "        text-align: right;\n",
       "    }\n",
       "</style>\n",
       "<table border=\"1\" class=\"dataframe\">\n",
       "  <thead>\n",
       "    <tr style=\"text-align: right;\">\n",
       "      <th></th>\n",
       "      <th>JOB_TITLE</th>\n",
       "      <th>JOB_LINK</th>\n",
       "    </tr>\n",
       "  </thead>\n",
       "  <tbody>\n",
       "    <tr>\n",
       "      <th>0</th>\n",
       "      <td>Senior Developer - Ab Initio</td>\n",
       "      <td>https://eeho.fa.us2.oraclecloud.com/hcmUI/Cand...</td>\n",
       "    </tr>\n",
       "    <tr>\n",
       "      <th>1</th>\n",
       "      <td>Senior Software Developer</td>\n",
       "      <td>https://eeho.fa.us2.oraclecloud.com/hcmUI/Cand...</td>\n",
       "    </tr>\n",
       "    <tr>\n",
       "      <th>2</th>\n",
       "      <td>Oracle Hospitality | Software Developer - Java...</td>\n",
       "      <td>https://eeho.fa.us2.oraclecloud.com/hcmUI/Cand...</td>\n",
       "    </tr>\n",
       "    <tr>\n",
       "      <th>3</th>\n",
       "      <td>International Tax Manager - 1 Year Contract Po...</td>\n",
       "      <td>https://eeho.fa.us2.oraclecloud.com/hcmUI/Cand...</td>\n",
       "    </tr>\n",
       "    <tr>\n",
       "      <th>4</th>\n",
       "      <td>Principal Software Developer</td>\n",
       "      <td>https://eeho.fa.us2.oraclecloud.com/hcmUI/Cand...</td>\n",
       "    </tr>\n",
       "  </tbody>\n",
       "</table>\n",
       "</div>"
      ],
      "text/plain": [
       "                                           JOB_TITLE  \\\n",
       "0                       Senior Developer - Ab Initio   \n",
       "1                          Senior Software Developer   \n",
       "2  Oracle Hospitality | Software Developer - Java...   \n",
       "3  International Tax Manager - 1 Year Contract Po...   \n",
       "4                       Principal Software Developer   \n",
       "\n",
       "                                            JOB_LINK  \n",
       "0  https://eeho.fa.us2.oraclecloud.com/hcmUI/Cand...  \n",
       "1  https://eeho.fa.us2.oraclecloud.com/hcmUI/Cand...  \n",
       "2  https://eeho.fa.us2.oraclecloud.com/hcmUI/Cand...  \n",
       "3  https://eeho.fa.us2.oraclecloud.com/hcmUI/Cand...  \n",
       "4  https://eeho.fa.us2.oraclecloud.com/hcmUI/Cand...  "
      ]
     },
     "execution_count": 180,
     "metadata": {},
     "output_type": "execute_result"
    }
   ],
   "source": [
    "# load in the job titles and links from the csv file\n",
    "df_title_link = pd.read_csv('./oracle_jobs_titles_links_all.csv', index_col=0)\n",
    "df_title_link.head()"
   ]
  },
  {
   "cell_type": "code",
   "execution_count": 182,
   "id": "a201c047",
   "metadata": {},
   "outputs": [],
   "source": [
    "# retrieve job qualifications and descriptions\n",
    "def job_description(title, link):\n",
    "    qualifications = []\n",
    "    description = []\n",
    "    jobtitle = []\n",
    "    joblink = []\n",
    "    \n",
    "    driver=webdriver.Chrome('chromedriver',options=chrome_options)\n",
    "    for i in range(len(link)):\n",
    "        URL=link[i]\n",
    "        driver.get(URL)\n",
    "        time.sleep(2)\n",
    "        soup = BeautifulSoup(driver.page_source, 'html.parser')\n",
    "\n",
    "        s = ''\n",
    "        d = ''\n",
    "        r = ''\n",
    "        \n",
    "        # job qualifications are inside of the responsibilities section\n",
    "        try:\n",
    "            tag1 = soup.find(\"div\", {'data-bind': \"html: job().responsibilities\"})\n",
    "            \n",
    "            # for responsibilities we retrieve the entire text under tag1\n",
    "            r = tag1.text\n",
    "            \n",
    "            # for qualifications we retrieve the text under 'ul' only\n",
    "            for t in tag1.find_all('ul'): \n",
    "                s = s + ' ' + t.text\n",
    "        except: pass\n",
    "        \n",
    "        try:\n",
    "            # for descriptions we retrieve the entire text under tag2, however, a lot of \n",
    "            # job descriptions are under qualifications section. So we will combined them \n",
    "            tag2 = soup.find(\"div\", {'data-bind': \"html: job().description\"})\n",
    "            d = tag2.text + \" \" + r\n",
    "        except: pass      \n",
    "        \n",
    "        qualifications.append(s)\n",
    "        description.append(d)   \n",
    "        jobtitle.append(title[i])\n",
    "        joblink.append(link[i])\n",
    "        \n",
    "    driver.quit()            \n",
    " \n",
    "    return jobtitle, link, qualifications, description"
   ]
  },
  {
   "cell_type": "code",
   "execution_count": 187,
   "id": "a337813d",
   "metadata": {},
   "outputs": [],
   "source": [
    "# retrieve the qualification for each job.\n",
    "title, link, qual, descrp = job_description(df_title_link['JOB_TITLE'].values, df_title_link['JOB_LINK'].values)"
   ]
  },
  {
   "cell_type": "code",
   "execution_count": 188,
   "id": "4659b023",
   "metadata": {},
   "outputs": [
    {
     "data": {
      "text/plain": [
       "['',\n",
       " \"Do you want to get a foot in the door and perhaps even get the chance to interview early for one of the best technology jobs in the world? \\xa0If so, you may be an ideal candidate for our internship program.Gain invaluable experience in what it is like to work at a leading global hardware and software systems innovator - Oracle. \\xa0Your colleagues are industry experts and knowledgeable veterans. \\xa0Your contributions will enhance real Oracle products and services. \\xa0By the end of your internship you will be connected to a powerful network of professionals, managers, and executives.Completed first year of undergraduate degree in computer science, computer engineering, electrical engineering, or related area of study. \\xa0Strong academic achievement. \\xa0Strong interest in technical area of study. The Program:\\nOur future success depends on hiring great people like you: elite, early in career talent who are looking to power next-generation services and solutions and are committed to crafting a better future. We are hiring bachelor’s and master’s degree students with a diverse set of skills and experiences to work in and across multiple teams and programs within the Applications Development organization. Our program is intended to enhance your overall learning experience, help build your network, and accelerate your opportunity to make an impact. Create the future with us!\\nThe Team: \\nIf you think of Oracle as the world’s largest database company, the one used by most every significant enterprise, you’d be right. But did you also know that Oracle is now the world’s largest provider of Cloud Applications to those same customers? These are next generation enterprise-class applications, built from the ground up for the Cloud.\\nApplications to inspire the workforce, nail the financials, optimize the supply chain, and create awesome customer experiences, and support a more sustainable world. Applications that incorporate the latest technology including AI and Machine Learning, IOT, Blockchain, as well as truly innovative approaches to user experience. Applications that really do make a difference. All are developed, delivered and operated by Oracle. We are committed to continuous innovation, and to do that we need phenomenal individuals with a wide variety of skills and talents.\\nCheck out some of the cool things we are doing:\\n\\nFinancials and ERP: Using Machine Learning to identify the best opportunities for discounts on payments, for intelligent document recognition, and for early prediction of issues. We also use ML to power Digital Assistants to guide users, identify and advise any exceptions, and accelerate routine processes.\\nSupply Chain: Connecting all aspects of supply chain by a flawless digital thread both within the enterprise and across the extended supply chain network, and using technology such as Internet of Things, Artificial Intelligence, Machine Learning, and Blockchain to power Industry 4.0 and the connected, circular enterprise.\\nCustomer Experience: Using Natural Language Processing and Artificial Intelligence/Machine Learning tools, and approaches such as gamification, activity streams and conversational User Interfaces to transform how businesses engage with their customers and to guide the interactions and recommendations of their salesforce and support staff.\\nPublic Sector: Building Oracle’s next generation solutions for state and local government, using the latest tools such as JET, GIS, Chatbots, and Big Data, across use cases including planning, citizen interaction, inspections, incident management, and open government.\\nData Science: Supporting both the core infrastructure and developing specific analytics use-cases, this cross-discipline group makes this technology a detailed, highly-scalable, natural part of the applications for use cases including advertising, security, and marketing.\\nUser Experience: Reinventing the entire user experience model so that enterprise applications, not consumer ones, become the standard by which UX perfection is measured.\\nRelease Engineering Management: The unprecedented scope of Oracle’s Cloud Applications and its installed base requires an unprecedented set of sophisticated tools and innovative development processes to ensure the highest possible predictability and quality. This is the team that makes that happen.\\nOracle Applications IT: This team, part of Applications Development, runs the internal deployment of the business applications that support Oracle Corporation, and they are well on their way to moving all of these to the Oracle Cloud. They are the team that walks the walk.\\n\\nThe Company:\\nOracle is the world’s leading provider of business software. With a presence in over 175 countries, we are one of the biggest technology companies on the planet. We're using innovative emerging technologies to tackle real-world problems today. From advancing energy efficiency to reimagining online commerce, the work we do is not only redefining the world of business—it's helping advance governments, power nonprofits, and giving billions of people the tools they need to outpace change and create a better world. For more information about Oracle (NYSE:ORCL), visit us at oracle.com.\\nWhat You’ll Do:\\nWe are seeking best-in-class interns with the expertise and passion for solving challenging unique problems. You will use your knowledge and creativity to help design and build innovative new systems from the ground up. You will be writing code, completing programming projects, and performing testing and debugging of Oracle software. You will have the opportunity to work on cutting-edge technologies to tackle real-world problems in a collaborative, agile environment.\\nWhat You’ll Bring (Objective Minimum Qualifications):\\nTo be considered for a Software Engineer Intern position in the Applications Development organization, you must possess the Objective Minimum Qualifications (OMQs) below. Please ensure that your application clearly indicates that you meet these OMQs, either on your resume and/or by uploading additional documents such as a transcript.\\n\\nWill be enrolled in a Bachelor’s or Master’s degree program in Computer Science or an equivalent science/engineering field during the 2023-2024 school year.\\nHave completed at least two semesters toward your undergraduate degree, or higher, by summer 2023.\\nHave no more than 12 months of professional full-time work experience in the technology field (excluding internships, research and/or teaching assistant roles, and military experience).\\nAre experienced (i.e., able to complete coding projects with limited assistance) in Java AND\\nAre experienced (i.e., able to complete coding projects with limited assistance) in at least one of these additional programming languages: \\n\\nPython, JavaScript, CSS, HTML, SQL, Scala\\n \\nHave completed coursework, projects, internships, and or research in two or more of the following:\\n\\nAlgorithms\\nArtificial Intelligence\\nBig Data\\nData Structures\\nDatabases\\nMachine Learning\\nObject-Oriented Programming\\nSoftware Programming\\nWeb Development\\nMicro-Services Architecture\\nContainer Architectures (e.g., Docker, Kubernetes)\\nUser Interface Design\\n \\nAttend a university in the US.\\nAble to obtain work authorization in the US in 2023.\\n\\nWhat We’ll Give You:\\nHigh-impact projects: You’ll get the opportunity to directly influence our cutting-edge products. Got a question or idea? Voice it. Your curiosity could help advance our next-generation cloud applications and help us find new ways to apply emerging technologies like AI, machine learning, and blockchain.\\nMentors that care: Work with industry-leading professionals and award-winning engineers. On top of your project supervisor, you’ll be assigned a peer mentor—a recent hire who can help you navigate the internship experience. You’ll also be paired with intern buddies to ensure 360 degree support and engagement.\\nWorld-class training: Grow from once-in-a-lifetime learning opportunities and exposure to the latest technologies. You’ll benefit from comprehensive on-boarding and job-specific training that will help you get the most out of your time with us. Leadership training will help you build your eye for business.\\nA fun-filled summer: Enjoy a close-knit, community experience alongside your class of fellow summer interns. Our interns work across the length and breadth of our business but come together for fun weekly events like tech talks, networking, volunteering, and fun social happenings.\\nLife at Oracle: \\nAn Oracle career can span industries, roles, countries and cultures, giving you the opportunity to tackle new roles and challenges, while blending work and life. Oracle has thrived through 40+ years of change by innovating and operating with integrity while delivering for the top companies in almost every industry. To nurture the talent that makes this happen, we work hard to build a vibrant and inspiring workplace that celebrates diverse, hardworking teams where everyone can contribute. We take care of each other, and value giving back to the community. \",\n",
       " \"Do you want to get a foot in the door and perhaps even get the chance to interview early for one of the best technology jobs in the world? \\xa0If so, you may be an ideal candidate for our internship program.Gain invaluable experience in what it is like to work at a leading global hardware and software systems innovator - Oracle. \\xa0Your colleagues are industry experts and knowledgeable veterans. \\xa0Your contributions will enhance real Oracle products and services. \\xa0By the end of your internship you will be connected to a powerful network of professionals, managers, and executives.Completed first year of undergraduate degree in computer science, computer engineering, electrical engineering, or related area of study. \\xa0Strong academic achievement. \\xa0Strong interest in technical area of study. The Program:\\nOur future success depends on hiring world-class, early in career talent who are looking to power next-generation services and solutions. We are hiring bachelor’s and master’s degree students with a diverse set of skills and experiences to work in and across multiple teams within Oracle Analytics Cloud. Our program is intended to enhance your overall learning experience, help build your network, and accelerate your opportunity to make an impact. Create the future with us! The Team: \\nOracle Analytics Cloud (OAC) is a market leading business analytics and business intelligence platform that delivers a full range of analytic and reporting capabilities. Our Business Intelligence platform of products provides enterprise-class level performance, security, scalability and manageability apart from the very sophisticated and innovative features in core analytics. The BI platform is world-class federated database. It enables business applications to query data from multiple heterogeneous systems and perform advanced business analytics. \\nOAC’s application allows users to visualize, analyze, and explore data, as well as create consumable data products like interactive dashboards and reports. OAC enables companies to quickly and accurately gain a holistic view of their performance, as well as optimize their decision-making process. We have successfully differentiated ourselves from the competition by providing unparalleled breadth and depth in our features.  The Company:\\nOracle is the world’s leading provider of business software. With a presence in over 175 countries, we are one of the biggest technology companies on the planet. We're using innovative emerging technologies to tackle real-world problems today. From advancing energy efficiency to reimagining online commerce, the work we do is not only redefining the world of business—it's helping advance governments, power nonprofits, and giving billions of people the tools they need to outpace change. For more information about Oracle (NYSE:ORCL), visit us at oracle.com.  What You’ll Do:\\nYou will apply your knowledge of software development to work on tasks associated with developing, debugging or designing enterprise class software application. Working in a highly successful product development team within an agile, iterative process, you will support, debug, and provide solutions, engage in programs and initiatives to analyze the root cause of issues, and recommend and evolve suitable solution approaches to address the challenges in time-sensitive fashion.\\nThis internship is for you if you love solving enterprise grade cloud services problems. You must be firm believer of solving sophisticated problems by writing code. We have product code in all possible layers of complex multi-tier distributed environment. What You’ll Bring (Objective Minimum Qualifications):\\nTo be considered for a Software Engineer Intern position in the Analytics Cloud organization, you must possess the Objective Minimum Qualifications (OMQs) below. Please ensure that your application clearly indicates that you meet these OMQs, either on your resume and/or by uploading additional documents such as a transcript. \\n\\nWill be enrolled in a Bachelor’s or Master’s degree program in Computer Science or an equivalent science/engineering field during the 2023-2024 school year.\\nHave completed at least your sophomore year toward your undergraduate degree, or higher, by summer 2023.\\nHave no more than 12 months of professional full-time work experience in the technology field (excluding internships, research and/or teaching assistant roles, and military experience).\\nAre proficient (i.e., able to complete coding projects with no assistance) in at least one of the following programming languages:\\n\\nJava, JavaScript, C++, Python, SQL\\n \\nHave completed coursework, projects, internships, and or research in two or more of the following technical areas:\\n\\nAlgorithms\\nDatabases\\nData Structures\\nComputer Systems\\nComputer Operations\\nMachine Learning\\nUser Interface Design\\n \\nAttend a university in the US.\\nAble to obtain work authorization in the US in 2023.\\n What We’ll Give You:\\nHigh-impact projects: You’ll get the opportunity to directly influence our cutting-edge products. Got a question or idea? Voice it. Your curiosity could help advance our next-generation cloud applications and help us find new ways to apply emerging technologies like AI, machine learning, and blockchain.\\nMentors that care: Work with industry-leading professionals and award-winning engineers. On top of your project supervisor, you’ll be assigned a peer mentor—a recent hire who can help you navigate the internship experience. You’ll also be paired with intern buddies to ensure 360 degree support and engagement.\\nWorld-class training: Grow from once-in-a-lifetime learning opportunities and exposure to the latest technologies. You’ll benefit from comprehensive on-boarding and job-specific training that will help you get the most out of your time with us. Leadership training will help you build your eye for business.\\nA fun-filled summer: Enjoy a close-knit, community experience alongside your class of fellow summer interns. Our interns work across the length and breadth of our business but come together for fun weekly events like tech talks, networking, volunteering, and fun social happenings. Life at Oracle: \\nAn Oracle career can span industries, roles, countries and cultures, giving you the opportunity to tackle new roles and challenges, while blending work and life. Oracle has thrived through 40+ years of change by innovating and operating with integrity while delivering for the top companies in almost every industry. To nurture the talent that makes this happen, we work hard to build a vibrant and inspiring workplace that celebrates diverse, hardworking teams where everyone can contribute. We take care of each other, and value giving back to the community. We have flexible work arrangements and offer benefits including generous paid parental leave and comprehensive premium medical insurance.\\n\\xa0\\n\\xa0   Do you want to get a foot in the door and perhaps even get the chance to interview early for one of the best technology jobs in the world? \\xa0If so, you may be an ideal candidate for our internship program.  Gain invaluable experience in what it is like to work at a leading global hardware and software systems innovator - Oracle. \\xa0Your colleagues are industry experts and knowledgeable veterans. \\xa0Your contributions will enhance real Oracle products and services. \\xa0By the end of your internship you will be connected to a powerful network of professionals, managers, and executives.  Completed third year of undergraduate degree in computer science, computer engineering, electrical engineering, or related area of study. \\xa0Strong academic achievement. \\xa0Strong interest in technical area of study.  If you are a Colorado resident, Please Contact us\\xa0\\xa0or Email us at oracle-salary-inquiries_us@oracle.com to receive compensation and benefits information for this role. Please include this Job ID in the subject line of the email.\",\n",
       " '',\n",
       " \"Do you want to get a foot in the door and perhaps even get the chance to interview early for one of the best technology jobs in the world? \\xa0If so, you may be an ideal candidate for our internship program.Gain invaluable experience in what it is like to work at a leading global hardware and software systems innovator - Oracle. \\xa0Your colleagues are industry experts and knowledgeable veterans. \\xa0Your contributions will enhance real Oracle products and services. \\xa0By the end of your internship you will be connected to a powerful network of professionals, managers, and executives.Completed second year of undergraduate degree in computer science, computer engineering, electrical engineering, or related area of study. \\xa0Strong academic achievement. \\xa0Strong interest in technical area of study. \\n\\n   Do you want to get a foot in the door and perhaps even get the chance to interview early for one of the best technology jobs in the world? \\xa0If so, you may be an ideal candidate for our internship program. \\n \\n\\n Responsibilities \\n  The Program:\\nOur future success depends on hiring best-in-class, early in career talent who are looking to power next-generation services and solutions. We are hiring bachelor’s, master’s, and doctorate students with a diverse set of skills and experiences to work in and across multiple teams within the Corporate Architecture organization. Our program is intended to enhance your overall learning experience, help build your network, and accelerate your chance to create an impact. Create the future with us! The Team: \\nThe Corporate Architecture organization develops core technologies used to build the autonomous, secure, and intelligent Oracle Cloud. These technologies enable companies of all sizes to innovate faster, improve customer engagement, and defend and protect every aspect of the enterprise to redefine how businesses compete in a digital world. \\nCorporate Architecture works with emerging technologies, including artificial intelligence, machine learning, augmented reality, blockchain, IoT, chatbots, and human interface technology. We are also developing other innovative technology, such as core to edge security services, modern cloud native applications, open source database, identity management, open source development tools, secure remote access tools, virtualization, and sophisticated operating systems. In addition, we build mission critical, ultra-high performance, integrated compute and storage systems with embedded software and management services. Our organization continually looks out three to five years and beyond to define next-generation cloud technologies. \\nSince security is key to the success of the Oracle Cloud, private clouds, and hybrid clouds, our organization maintains a targeted focus on Global Product Security, Global Information Security, and Global Physical Security. We also provide ongoing consulting and worldwide support to all Oracle development groups for Global Trade Compliance and Global Technical Standards to insure Oracle is up to date on global country mandates and industry standards.  The Company:\\nOracle is the world’s leading provider of business software. With a presence in over 175 countries, we are one of the biggest technology companies in the world. We're using innovative emerging technologies to tackle real-world problems today. From advancing energy efficiency to reimagining online commerce, the work we do is not only redefining the world of business—it's helping advance governments, power nonprofits, and giving billions of people the tools they need to outpace change. For more information about Oracle (NYSE:ORCL), visit us at oracle.com.  What You’ll Do:\\nWe are seeking elite students with the expertise and passion for solving challenging unique problems. You will use your knowledge and creativity to design and build innovative new systems from the ground up. You will be writing code, completing programming projects, and performing testing and debugging of Oracle software. You will have the opportunity to work on cutting-edge technologies to tackle real-world problems in a collaborative, agile environment. What You’ll Bring (Objective Minimum Qualifications):\\nTo be considered for a Software Engineer Intern position in the Corporate Architecture organization, you must possess the Objective Minimum Qualifications (OMQs) below. Please ensure that your application clearly indicates that you meet these OMQs, either on your resume and/or by uploading additional documents such as a transcript. \\n\\nWill be enrolled in a Bachelor’s, Master’s, or PhD degree program in Computer Science, Computer Engineering, or an equivalent science/engineering field during the 2023-2024 school year.\\nHave completed at least your sophomore year toward your undergraduate degree, or higher, by summer 2023.\\nHave no more than 12 months of professional full-time work experience in the technology field (excluding internships, research and/or teaching assistant roles, and military experience).\\xa0\\nAre proficient (i.e., able to complete coding projects with no assistance) in at least one of the following programming languages:\\n\\nC, C++, Java, Python, SQL\\n \\nHave completed coursework, projects, internships, and or research in two or more of the following:\\n\\nArtificial Intelligence / Machine Learning / Natural Language Processing\\nBig Data / Data Structures / Algorithms\\nComputer Systems / Embedded Systems / X86 Architecture / Operating Systems\\nDistributed Programming\\nMultithreaded/Multi-Core Programming\\nNetworking\\nObject Oriented Design\\nSoftware Architecture\\nCompilers\\n \\nAttend a university in the US.\\nAble to obtain work authorization in the US in 2023.\\n What We'll Give You:\\xa0\\nHigh-impact projects: You’ll get the opportunity to directly influence our cutting-edge products. Got a question or idea? Voice it. Your curiosity could help advance our next-generation cloud applications and help us find new ways to apply emerging technologies like AI, machine learning, and blockchain.\\nMentors that care: Work with industry-leading professionals and award-winning engineers. On top of your project supervisor, you’ll be assigned a peer mentor—a recent hire who can help you navigate the internship experience. You’ll also be paired with intern buddies to ensure 360 degree support and engagement.\\nWorld-class training:\\xa0Grow from once-in-a-lifetime learning opportunities and exposure to the latest technologies. You’ll benefit from comprehensive on-boarding and job-specific training that will help you get the most out of your time with us. Leadership training will help you build your eye for business.\\nA fun-filled summer:\\xa0Enjoy a close-knit, community experience alongside your class of fellow summer interns. Our interns work across the length and breadth of our business but come together for fun weekly events like tech talks, networking, volunteering, and fun social happenings. Life at Oracle: \\nAn Oracle career can span industries, roles, countries and cultures, giving you the opportunity to tackle new roles and challenges, while blending work and life. Oracle has thrived through 40+ years of change by innovating and operating with integrity while delivering for the top companies in almost every industry. To nurture the talent that makes this happen, we work hard to build a vibrant and inspiring workplace that celebrates diverse, hardworking teams where everyone can contribute. We take care of each other, and value giving back to the community. We have flexible work arrangements and offer benefits including generous paid parental leave and comprehensive premium medical insurance.\\n If you are a Colorado resident, Please Contact us\\xa0\\xa0or Email us at oracle-salary-inquiries_us@oracle.com to receive compensation and benefits information for this role. Please include this Job ID in the subject line of the email. \\n \\n\"]"
      ]
     },
     "execution_count": 188,
     "metadata": {},
     "output_type": "execute_result"
    }
   ],
   "source": [
    "descrp[100:105]"
   ]
  },
  {
   "cell_type": "code",
   "execution_count": 189,
   "id": "20e54ae5",
   "metadata": {},
   "outputs": [],
   "source": [
    "def remove_char(s):\n",
    "  s_new = s.replace('\\n', ' ').replace('\\xa0', ' ')\n",
    "  while '  ' in s_new:\n",
    "    s_new = s_new.replace('  ', ' ')\n",
    "  return s_new"
   ]
  },
  {
   "cell_type": "code",
   "execution_count": 190,
   "id": "b680bb86",
   "metadata": {},
   "outputs": [],
   "source": [
    "qual_cleaned = [remove_char(q) for q in qual]\n",
    "descrp_cleaned = [remove_char(d) for d in descrp]"
   ]
  },
  {
   "cell_type": "code",
   "execution_count": 200,
   "id": "68b3da2b",
   "metadata": {},
   "outputs": [
    {
     "data": {
      "text/html": [
       "<div>\n",
       "<style scoped>\n",
       "    .dataframe tbody tr th:only-of-type {\n",
       "        vertical-align: middle;\n",
       "    }\n",
       "\n",
       "    .dataframe tbody tr th {\n",
       "        vertical-align: top;\n",
       "    }\n",
       "\n",
       "    .dataframe thead th {\n",
       "        text-align: right;\n",
       "    }\n",
       "</style>\n",
       "<table border=\"1\" class=\"dataframe\">\n",
       "  <thead>\n",
       "    <tr style=\"text-align: right;\">\n",
       "      <th></th>\n",
       "      <th>COMPANY</th>\n",
       "      <th>TITLE</th>\n",
       "      <th>QUALIFICATIONS</th>\n",
       "      <th>LINK</th>\n",
       "      <th>DESCRIPTION</th>\n",
       "    </tr>\n",
       "  </thead>\n",
       "  <tbody>\n",
       "    <tr>\n",
       "      <th>0</th>\n",
       "      <td>Oracle</td>\n",
       "      <td>Senior Developer - Ab Initio</td>\n",
       "      <td></td>\n",
       "      <td>https://eeho.fa.us2.oraclecloud.com/hcmUI/Cand...</td>\n",
       "      <td>Intermediate consulting position operating in...</td>\n",
       "    </tr>\n",
       "    <tr>\n",
       "      <th>1</th>\n",
       "      <td>Oracle</td>\n",
       "      <td>Senior Software Developer</td>\n",
       "      <td>Bachelor’s degree in Computer Science or equi...</td>\n",
       "      <td>https://eeho.fa.us2.oraclecloud.com/hcmUI/Cand...</td>\n",
       "      <td>Design, develop, troubleshoot and debug softw...</td>\n",
       "    </tr>\n",
       "    <tr>\n",
       "      <th>2</th>\n",
       "      <td>Oracle</td>\n",
       "      <td>Oracle Hospitality | Software Developer - Java...</td>\n",
       "      <td>Perform software development tasks: designing...</td>\n",
       "      <td>https://eeho.fa.us2.oraclecloud.com/hcmUI/Cand...</td>\n",
       "      <td>Design, develop, troubleshoot and debug softw...</td>\n",
       "    </tr>\n",
       "    <tr>\n",
       "      <th>3</th>\n",
       "      <td>Oracle</td>\n",
       "      <td>International Tax Manager - 1 Year Contract Po...</td>\n",
       "      <td></td>\n",
       "      <td>https://eeho.fa.us2.oraclecloud.com/hcmUI/Cand...</td>\n",
       "      <td></td>\n",
       "    </tr>\n",
       "    <tr>\n",
       "      <th>4</th>\n",
       "      <td>Oracle</td>\n",
       "      <td>Principal Software Developer</td>\n",
       "      <td>Bachelor’s degree in Computer Science or equi...</td>\n",
       "      <td>https://eeho.fa.us2.oraclecloud.com/hcmUI/Cand...</td>\n",
       "      <td>Design, develop, troubleshoot and debug softw...</td>\n",
       "    </tr>\n",
       "  </tbody>\n",
       "</table>\n",
       "</div>"
      ],
      "text/plain": [
       "  COMPANY                                              TITLE  \\\n",
       "0  Oracle                       Senior Developer - Ab Initio   \n",
       "1  Oracle                          Senior Software Developer   \n",
       "2  Oracle  Oracle Hospitality | Software Developer - Java...   \n",
       "3  Oracle  International Tax Manager - 1 Year Contract Po...   \n",
       "4  Oracle                       Principal Software Developer   \n",
       "\n",
       "                                      QUALIFICATIONS  \\\n",
       "0                                                      \n",
       "1   Bachelor’s degree in Computer Science or equi...   \n",
       "2   Perform software development tasks: designing...   \n",
       "3                                                      \n",
       "4   Bachelor’s degree in Computer Science or equi...   \n",
       "\n",
       "                                                LINK  \\\n",
       "0  https://eeho.fa.us2.oraclecloud.com/hcmUI/Cand...   \n",
       "1  https://eeho.fa.us2.oraclecloud.com/hcmUI/Cand...   \n",
       "2  https://eeho.fa.us2.oraclecloud.com/hcmUI/Cand...   \n",
       "3  https://eeho.fa.us2.oraclecloud.com/hcmUI/Cand...   \n",
       "4  https://eeho.fa.us2.oraclecloud.com/hcmUI/Cand...   \n",
       "\n",
       "                                         DESCRIPTION  \n",
       "0   Intermediate consulting position operating in...  \n",
       "1   Design, develop, troubleshoot and debug softw...  \n",
       "2   Design, develop, troubleshoot and debug softw...  \n",
       "3                                                     \n",
       "4   Design, develop, troubleshoot and debug softw...  "
      ]
     },
     "execution_count": 200,
     "metadata": {},
     "output_type": "execute_result"
    }
   ],
   "source": [
    "#create a dataframe from basic qualification and preferred qualification\n",
    "df = pd.DataFrame(zip(title, qual_cleaned, link, descrp_cleaned))\n",
    "df.columns = ['TITLE', 'QUALIFICATIONS', 'LINK', 'DESCRIPTION']\n",
    "df['COMPANY'] = 'Oracle'\n",
    "df = df.iloc[:, [4, 0, 1, 2, 3]]\n",
    "df.head()"
   ]
  },
  {
   "cell_type": "code",
   "execution_count": 201,
   "id": "3c27b7bf",
   "metadata": {},
   "outputs": [],
   "source": [
    "# if 'QUALIFICATIONS' column is empty, replace it with DESCRIPTION column\n",
    "for i in range(df.shape[0]):\n",
    "    if len(df['QUALIFICATIONS'][i]) < 2 : \n",
    "        df['QUALIFICATIONS'][i] = df['DESCRIPTION'][i]"
   ]
  },
  {
   "cell_type": "code",
   "execution_count": 202,
   "id": "c0afe5c2",
   "metadata": {},
   "outputs": [
    {
     "name": "stdout",
     "output_type": "stream",
     "text": [
      "170\n"
     ]
    },
    {
     "data": {
      "text/plain": [
       "(1506, 5)"
      ]
     },
     "execution_count": 202,
     "metadata": {},
     "output_type": "execute_result"
    }
   ],
   "source": [
    "# look for empty QUALIFICATION entries\n",
    "def get_empty(df, colname) :\n",
    "  empty_idx=[]\n",
    "  for i in range(len(df[colname])):\n",
    "    count = len(df[colname][i])\n",
    "    if count<=10 : empty_idx.append(i)\n",
    "    else: pass\n",
    "  return empty_idx\n",
    "\n",
    "empty_mini_q = get_empty(df, 'QUALIFICATIONS')\n",
    "print(len(empty_mini_q))\n",
    "\n",
    "# drop the empty Qualification entries\n",
    "df.drop(empty_mini_q, inplace=True)\n",
    "df.shape"
   ]
  },
  {
   "cell_type": "code",
   "execution_count": 204,
   "id": "536adc52",
   "metadata": {},
   "outputs": [
    {
     "data": {
      "text/plain": [
       "(1506, 5)"
      ]
     },
     "execution_count": 204,
     "metadata": {},
     "output_type": "execute_result"
    }
   ],
   "source": [
    "#remove the duplicated jobs\n",
    "df_nodup = df.drop_duplicates()\n",
    "df_nodup.shape"
   ]
  },
  {
   "cell_type": "code",
   "execution_count": 205,
   "id": "2f689514",
   "metadata": {},
   "outputs": [],
   "source": [
    "df_nodup.to_csv('oracle_all_jobs_cleaned.csv')"
   ]
  },
  {
   "cell_type": "code",
   "execution_count": null,
   "id": "41aac964",
   "metadata": {},
   "outputs": [],
   "source": []
  }
 ],
 "metadata": {
  "kernelspec": {
   "display_name": "Python 3 (ipykernel)",
   "language": "python",
   "name": "python3"
  },
  "language_info": {
   "codemirror_mode": {
    "name": "ipython",
    "version": 3
   },
   "file_extension": ".py",
   "mimetype": "text/x-python",
   "name": "python",
   "nbconvert_exporter": "python",
   "pygments_lexer": "ipython3",
   "version": "3.10.4"
  }
 },
 "nbformat": 4,
 "nbformat_minor": 5
}

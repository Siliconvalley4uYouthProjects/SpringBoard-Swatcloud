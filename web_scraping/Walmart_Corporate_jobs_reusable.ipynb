{
 "cells": [
  {
   "cell_type": "code",
   "execution_count": 2,
   "id": "b0767050",
   "metadata": {},
   "outputs": [],
   "source": [
    "from selenium import webdriver\n",
    "import pandas as pd\n",
    "import numpy as np"
   ]
  },
  {
   "cell_type": "code",
   "execution_count": 5,
   "id": "fd8703d1",
   "metadata": {
    "scrolled": false
   },
   "outputs": [
    {
     "name": "stdout",
     "output_type": "stream",
     "text": [
      "page 1\n",
      "page 2\n",
      "page 3\n",
      "page 4\n",
      "page 5\n",
      "page 6\n",
      "page 7\n",
      "page 8\n",
      "page 9\n",
      "page 10\n",
      "page 11\n",
      "page 12\n",
      "page 13\n",
      "page 14\n",
      "page 15\n",
      "page 16\n",
      "page 17\n",
      "page 18\n",
      "page 19\n",
      "page 20\n",
      "page 21\n",
      "page 22\n",
      "page 23\n",
      "page 24\n",
      "page 25\n",
      "page 26\n",
      "page 27\n",
      "page 28\n",
      "page 29\n",
      "page 30\n",
      "page 31\n",
      "page 32\n",
      "page 33\n",
      "page 34\n",
      "page 35\n",
      "page 36\n",
      "page 37\n",
      "page 38\n",
      "page 39\n",
      "page 40\n",
      "page 41\n",
      "page 42\n",
      "page 43\n",
      "page 44\n",
      "page 45\n",
      "page 46\n",
      "page 47\n",
      "page 48\n",
      "page 49\n",
      "page 50\n",
      "page 51\n",
      "page 52\n",
      "page 53\n",
      "page 54\n",
      "page 55\n",
      "page 56\n",
      "page 57\n",
      "page 58\n",
      "page 59\n",
      "page 60\n",
      "page 61\n",
      "page 62\n",
      "page 63\n",
      "page 64\n",
      "page 65\n",
      "page 66\n",
      "page 67\n",
      "page 68\n",
      "page 69\n",
      "page 70\n",
      "page 71\n",
      "page 72\n",
      "page 73\n",
      "page 74\n",
      "page 75\n",
      "page 76\n",
      "page 77\n",
      "page 78\n",
      "page 79\n",
      "page 80\n",
      "page 81\n",
      "page 82\n",
      "page 83\n",
      "page 84\n",
      "page 85\n",
      "page 86\n",
      "page 87\n",
      "page 88\n",
      "page 89\n",
      "page 90\n",
      "page 91\n",
      "page 92\n",
      "page 93\n",
      "page 94\n",
      "page 95\n",
      "page 96\n",
      "page 97\n",
      "page 98\n",
      "page 99\n",
      "page 100\n",
      "page 101\n",
      "page 102\n",
      "page 103\n",
      "page 104\n",
      "page 105\n",
      "page 106\n",
      "page 107\n",
      "page 108\n",
      "page 109\n",
      "page 110\n",
      "page 111\n",
      "page 112\n",
      "page 113\n",
      "page 114\n",
      "page 115\n",
      "page 116\n",
      "page 117\n",
      "page 118\n",
      "page 119\n",
      "2971 2971\n"
     ]
    }
   ],
   "source": [
    "# I noticed that sometimes, the search defaults to my local area and wouldn't turn in results. If that is the case,\n",
    "# trying clearning your cash from the Chrome browser, adjust the settings not to detect location. If there is a pop up\n",
    "# asking permission to detect location, click block and try again.\n",
    "\n",
    "driver = webdriver.Chrome()\n",
    "driver.implicitly_wait(20)\n",
    "\n",
    "url = 'https://careers.walmart.com/'\n",
    "driver.get(url)\n",
    "\n",
    "job_search = driver.find_element_by_xpath('//*[@id=\"search\"]')\n",
    "job_search.send_keys('technology')\n",
    "\n",
    "search_button = driver.find_element_by_xpath('//*[@id=\"location\"]')\n",
    "\n",
    "\n",
    "search_button.click()\n",
    "\n",
    "job_num = []\n",
    "job_title = []\n",
    "job_link = []\n",
    "\n",
    "y = 1\n",
    "i = 1\n",
    "\n",
    "while y != 0:  \n",
    "#while i < 3:  \n",
    "    \n",
    "    try:\n",
    "        \n",
    "        url = 'https://careers.walmart.com/results?q=&page='+str(i)+'&sort=rank&jobCategory=00000159-7597-d2b4-abdd-f5b79c9d0000,00000159-759e-d286-a3f9-7fbe44710000,00000159-759f-d286-a3f9-7fbf0f6d0000,00000159-759f-d2b4-abdd-f5bfa22d0000,00000159-75a1-d286-a3f9-7fa114fa0000,00000159-75a2-d286-a3f9-7fa2bac60000,00000159-75a3-d286-a3f9-7fa3cf810000,00000159-75a3-d2b4-abdd-f5a734fa0000,00000159-75a5-d2b4-abdd-f5a758f40000,00000159-75a6-d2b4-abdd-f5a7fdd80000,00000159-75a8-d2b4-abdd-f5af3e670000,00000159-7627-d286-a3f9-7ea7d10c0000,0000015e-f1eb-d841-a15f-f7eb14100000,0000017b-11e6-d257-afff-33f6155f0000&jobSubCategory=0000015a-a52c-d06d-af5f-f5bfce780000,0000015a-a52e-d06d-af5f-f5bf8ae90000&expand=department,00000159-7574-d286-a3f9-7ff45f640000,00000159-75a3-d286-a3f9-7fa3cf810000,00000159-75a5-d2b4-abdd-f5a758f40000,00000159-75a7-d286-a3f9-7fa7a04f0000,00000159-75a8-d286-a3f9-7fa8f5c00000,00000159-75a9-d286-a3f9-7fa9c9e30000,00000161-8bda-d3dd-a1fd-bbda62130000,brand,type,rate&type=jobs'\n",
    "        driver.get(url) \n",
    "    \n",
    "        for j in range(1,26): \n",
    "\n",
    "            job = driver.find_element_by_xpath('//*[@id=\"search-results\"]/li['+str(j)+']/div[1]/h4/a')\n",
    "            #print(job)\n",
    "\n",
    "            try:\n",
    "                job_title.append(job.text)\n",
    "            except:\n",
    "                job_title.append('')\n",
    "\n",
    "            try:\n",
    "                job_link.append(job.get_attribute('href'))\n",
    "            except:\n",
    "                job_link.append('')     \n",
    "        \n",
    "    except:\n",
    "        y -= 1\n",
    "    \n",
    "    #print('page', i)\n",
    "    \n",
    "    i += 1\n",
    "    \n",
    "driver.close()    \n",
    "print(len(job_title), len(job_link)) \n"
   ]
  },
  {
   "cell_type": "code",
   "execution_count": 6,
   "id": "c354b23b",
   "metadata": {
    "scrolled": false
   },
   "outputs": [
    {
     "name": "stdout",
     "output_type": "stream",
     "text": [
      "['Lead Counsel II: Global Antitrust Compliance Counsel', 'Lead Counsel I, Financial Regulatory Compliance', 'Senior Counsel, Energy', 'Lead Counsel, US Legal Operations', 'Lead Counsel II - Appellate and Complex Litigation', 'Counsel III - Legal Merchandising', 'Senior Counsel Advertising and Media', 'Senior Counsel, Marketing & Advertising', 'Senior Paralegal III, Tech & Data Regulatory']\n"
     ]
    }
   ],
   "source": [
    "print(job_title[1:10])"
   ]
  },
  {
   "cell_type": "code",
   "execution_count": 7,
   "id": "bdf928b7",
   "metadata": {},
   "outputs": [
    {
     "name": "stdout",
     "output_type": "stream",
     "text": [
      "['https://careers.walmart.com/us/jobs/WD1345767-lead-counsel-ii-global-antitrust-compliance-counsel', 'https://careers.walmart.com/us/jobs/WD1180540-lead-counsel-i-financial-regulatory-compliance', 'https://careers.walmart.com/us/jobs/WD1295608-senior-counsel-energy', 'https://careers.walmart.com/us/jobs/WD1300356-lead-counsel-us-legal-operations']\n"
     ]
    }
   ],
   "source": [
    "print(job_link[1:5])"
   ]
  },
  {
   "cell_type": "code",
   "execution_count": 8,
   "id": "a4757d60",
   "metadata": {},
   "outputs": [],
   "source": [
    "df = pd.DataFrame(zip(job_title, job_link))\n",
    "df['job_desc'] = np.nan\n"
   ]
  },
  {
   "cell_type": "code",
   "execution_count": 9,
   "id": "6700b8b8",
   "metadata": {},
   "outputs": [
    {
     "data": {
      "text/html": [
       "<div>\n",
       "<style scoped>\n",
       "    .dataframe tbody tr th:only-of-type {\n",
       "        vertical-align: middle;\n",
       "    }\n",
       "\n",
       "    .dataframe tbody tr th {\n",
       "        vertical-align: top;\n",
       "    }\n",
       "\n",
       "    .dataframe thead th {\n",
       "        text-align: right;\n",
       "    }\n",
       "</style>\n",
       "<table border=\"1\" class=\"dataframe\">\n",
       "  <thead>\n",
       "    <tr style=\"text-align: right;\">\n",
       "      <th></th>\n",
       "      <th>job_title</th>\n",
       "      <th>job_link</th>\n",
       "      <th>job_desc</th>\n",
       "    </tr>\n",
       "  </thead>\n",
       "  <tbody>\n",
       "    <tr>\n",
       "      <th>0</th>\n",
       "      <td>Lead Counsel, eComm-Finance Regulatory Compliance</td>\n",
       "      <td>https://careers.walmart.com/us/jobs/WD1180531-...</td>\n",
       "      <td>NaN</td>\n",
       "    </tr>\n",
       "    <tr>\n",
       "      <th>1</th>\n",
       "      <td>Lead Counsel II: Global Antitrust Compliance C...</td>\n",
       "      <td>https://careers.walmart.com/us/jobs/WD1345767-...</td>\n",
       "      <td>NaN</td>\n",
       "    </tr>\n",
       "    <tr>\n",
       "      <th>2</th>\n",
       "      <td>Lead Counsel I, Financial Regulatory Compliance</td>\n",
       "      <td>https://careers.walmart.com/us/jobs/WD1180540-...</td>\n",
       "      <td>NaN</td>\n",
       "    </tr>\n",
       "    <tr>\n",
       "      <th>3</th>\n",
       "      <td>Senior Counsel, Energy</td>\n",
       "      <td>https://careers.walmart.com/us/jobs/WD1295608-...</td>\n",
       "      <td>NaN</td>\n",
       "    </tr>\n",
       "    <tr>\n",
       "      <th>4</th>\n",
       "      <td>Lead Counsel, US Legal Operations</td>\n",
       "      <td>https://careers.walmart.com/us/jobs/WD1300356-...</td>\n",
       "      <td>NaN</td>\n",
       "    </tr>\n",
       "  </tbody>\n",
       "</table>\n",
       "</div>"
      ],
      "text/plain": [
       "                                           job_title  \\\n",
       "0  Lead Counsel, eComm-Finance Regulatory Compliance   \n",
       "1  Lead Counsel II: Global Antitrust Compliance C...   \n",
       "2    Lead Counsel I, Financial Regulatory Compliance   \n",
       "3                             Senior Counsel, Energy   \n",
       "4                  Lead Counsel, US Legal Operations   \n",
       "\n",
       "                                            job_link  job_desc  \n",
       "0  https://careers.walmart.com/us/jobs/WD1180531-...       NaN  \n",
       "1  https://careers.walmart.com/us/jobs/WD1345767-...       NaN  \n",
       "2  https://careers.walmart.com/us/jobs/WD1180540-...       NaN  \n",
       "3  https://careers.walmart.com/us/jobs/WD1295608-...       NaN  \n",
       "4  https://careers.walmart.com/us/jobs/WD1300356-...       NaN  "
      ]
     },
     "execution_count": 9,
     "metadata": {},
     "output_type": "execute_result"
    }
   ],
   "source": [
    "df.columns = ['job_title', 'job_link', 'job_desc']\n",
    "df.head()"
   ]
  },
  {
   "cell_type": "code",
   "execution_count": 12,
   "id": "f851acd4",
   "metadata": {},
   "outputs": [
    {
     "data": {
      "text/plain": [
       "712"
      ]
     },
     "execution_count": 12,
     "metadata": {},
     "output_type": "execute_result"
    }
   ],
   "source": [
    "df = df.drop_duplicates(subset=['job_title'])\n",
    "len(df)"
   ]
  },
  {
   "cell_type": "code",
   "execution_count": 13,
   "id": "60aa6e1f",
   "metadata": {},
   "outputs": [],
   "source": [
    "df.to_csv('walmart_jobs_title_n_link_updated012723.csv')"
   ]
  },
  {
   "cell_type": "code",
   "execution_count": 14,
   "id": "633dc119",
   "metadata": {},
   "outputs": [
    {
     "name": "stderr",
     "output_type": "stream",
     "text": [
      "C:\\Users\\meske\\AppData\\Local\\Temp/ipykernel_35984/1941298281.py:14: SettingWithCopyWarning: \n",
      "A value is trying to be set on a copy of a slice from a DataFrame\n",
      "\n",
      "See the caveats in the documentation: https://pandas.pydata.org/pandas-docs/stable/user_guide/indexing.html#returning-a-view-versus-a-copy\n",
      "  df['job_desc'][i] = desc.text\n"
     ]
    }
   ],
   "source": [
    "driver = webdriver.Chrome()\n",
    "\n",
    "for i in range(len(df['job_link'])):\n",
    "\n",
    "    try:\n",
    "        \n",
    "        url = (df['job_link'][i])\n",
    "\n",
    "        driver.get(url)\n",
    "\n",
    "        desc = driver.find_element_by_xpath('/html/body/main/section[3]/div/div[2]')\n",
    "        #('grid--no-gutter.col-6')\n",
    "\n",
    "        df['job_desc'][i] = desc.text   \n",
    "        #driver.close()  \n",
    "    except:\n",
    "        df['job_desc'][i] = np.nan\n",
    "\n",
    "driver.close()\n",
    "        \n",
    "#df.to_csv('')"
   ]
  },
  {
   "cell_type": "code",
   "execution_count": 20,
   "id": "e5b0e96b",
   "metadata": {
    "scrolled": false
   },
   "outputs": [
    {
     "data": {
      "text/plain": [
       "job_title      0\n",
       "job_link       0\n",
       "job_desc     257\n",
       "dtype: int64"
      ]
     },
     "execution_count": 20,
     "metadata": {},
     "output_type": "execute_result"
    }
   ],
   "source": [
    "df.isna().sum()"
   ]
  },
  {
   "cell_type": "code",
   "execution_count": 21,
   "id": "352d0299",
   "metadata": {},
   "outputs": [
    {
     "data": {
      "text/plain": [
       "455"
      ]
     },
     "execution_count": 21,
     "metadata": {},
     "output_type": "execute_result"
    }
   ],
   "source": [
    "df = df.drop_duplicates(subset=['job_title', 'job_link', 'job_desc'])\n",
    "df['job_desc'] = df['job_desc'].str.lower()\n",
    "df = df.dropna()\n",
    "df['Company'] = 'Walmart'\n",
    "df['Category'] = 'Technology'\n",
    "df = df.reset_index(drop = True)\n",
    "len(df)"
   ]
  },
  {
   "cell_type": "code",
   "execution_count": 31,
   "id": "bcae903a",
   "metadata": {},
   "outputs": [
    {
     "name": "stdout",
     "output_type": "stream",
     "text": [
      "...\n",
      "outlined below are the required minimum qualifications for this position. if none are listed, there are no minimum qualifications.\n",
      "law degree from an accredited law school and 7 years’ experience in law.\n",
      "license to practice law in at least one state.\n",
      "4 years’ experience leading cross-functional teams.\n",
      "preferred qualifications...\n",
      "outlined below are the optional preferred qualifications for this position. if none are listed, there are no preferred qualifications.\n",
      "primary location...\n",
      "701 8th street, nw, suite 200, washington, dc 20001-3917, united states of america\n"
     ]
    }
   ],
   "source": [
    "# removing unnecessary text\n",
    "\n",
    "desc = df['job_desc'][1]\n",
    "\n",
    "mid = desc.index('minimum qualifications')+22\n",
    "\n",
    "desc = desc[mid:]\n",
    "\n",
    "print(desc)\n",
    "\n",
    "#df['job_desc'][i] = desc"
   ]
  },
  {
   "cell_type": "code",
   "execution_count": 32,
   "id": "2a94159c",
   "metadata": {},
   "outputs": [],
   "source": [
    "for i in range(len(df['job_desc'])):\n",
    "\n",
    "    try:\n",
    "\n",
    "        desc = df['job_desc'][i]\n",
    "\n",
    "        mid = desc.index('minimum qualifications')+22\n",
    "\n",
    "        desc = desc[mid:]\n",
    "\n",
    "        df['job_desc'][i] = desc\n",
    "\n",
    "    except:\n",
    "        pass\n"
   ]
  },
  {
   "cell_type": "code",
   "execution_count": 33,
   "id": "d175a7c2",
   "metadata": {
    "scrolled": true
   },
   "outputs": [
    {
     "data": {
      "text/plain": [
       "'...\\noutlined below are the required minimum qualifications for this position. if none are listed, there are no minimum qualifications.\\nlaw degree from an accredited law school and 7 years’ experience in law.\\nlicense to practice law in at least one state.\\n4 years’ experience leading cross-functional teams.\\npreferred qualifications...\\noutlined below are the optional preferred qualifications for this position. if none are listed, there are no preferred qualifications.\\nprimary location...\\n701 8th street, nw, suite 200, washington, dc 20001-3917, united states of america'"
      ]
     },
     "execution_count": 33,
     "metadata": {},
     "output_type": "execute_result"
    }
   ],
   "source": [
    "df['job_desc'][1]"
   ]
  },
  {
   "cell_type": "code",
   "execution_count": 35,
   "id": "24470f8a",
   "metadata": {},
   "outputs": [],
   "source": [
    "# removing unnecessary text\n",
    "\n",
    "remove1 = 'outlined below are the required minimum qualifications for this position. if none are listed, there are no minimum qualifications'\n",
    "remove2 = 'outlined below are the optional preferred qualifications for this position. if none are listed, there are no preferred qualifications'"
   ]
  },
  {
   "cell_type": "code",
   "execution_count": 36,
   "id": "2d104df0",
   "metadata": {},
   "outputs": [],
   "source": [
    "for i in range(len(df['job_desc'])):\n",
    "\n",
    "    try:\n",
    "\n",
    "        df['job_desc'][i] = df['job_desc'][i].replace(remove1, '')\n",
    "        \n",
    "    except:\n",
    "        pass"
   ]
  },
  {
   "cell_type": "code",
   "execution_count": 37,
   "id": "4a78f35c",
   "metadata": {},
   "outputs": [
    {
     "data": {
      "text/plain": [
       "'...\\n.\\nlaw degree from an accredited law school and 7 years’ experience in law.\\nlicense to practice law in at least one state.\\n4 years’ experience leading cross-functional teams.\\npreferred qualifications...\\noutlined below are the optional preferred qualifications for this position. if none are listed, there are no preferred qualifications.\\nprimary location...\\n701 8th street, nw, suite 200, washington, dc 20001-3917, united states of america'"
      ]
     },
     "execution_count": 37,
     "metadata": {},
     "output_type": "execute_result"
    }
   ],
   "source": [
    "df['job_desc'][1]"
   ]
  },
  {
   "cell_type": "code",
   "execution_count": 38,
   "id": "eadfa898",
   "metadata": {},
   "outputs": [],
   "source": [
    "for i in range(len(df['job_desc'])):\n",
    "\n",
    "    try:\n",
    "\n",
    "        df['job_desc'][i] = df['job_desc'][i].replace(remove2, '')\n",
    "        \n",
    "    except:\n",
    "        pass"
   ]
  },
  {
   "cell_type": "code",
   "execution_count": 39,
   "id": "47aa21f3",
   "metadata": {
    "scrolled": true
   },
   "outputs": [
    {
     "data": {
      "text/plain": [
       "'...\\n.\\nlaw degree from an accredited law school and 7 years’ experience in law.\\nlicense to practice law in at least one state.\\n4 years’ experience leading cross-functional teams.\\npreferred qualifications...\\n.\\nprimary location...\\n701 8th street, nw, suite 200, washington, dc 20001-3917, united states of america'"
      ]
     },
     "execution_count": 39,
     "metadata": {},
     "output_type": "execute_result"
    }
   ],
   "source": [
    "df['job_desc'][1]"
   ]
  },
  {
   "cell_type": "code",
   "execution_count": 40,
   "id": "d84c8090",
   "metadata": {},
   "outputs": [
    {
     "data": {
      "text/html": [
       "<div>\n",
       "<style scoped>\n",
       "    .dataframe tbody tr th:only-of-type {\n",
       "        vertical-align: middle;\n",
       "    }\n",
       "\n",
       "    .dataframe tbody tr th {\n",
       "        vertical-align: top;\n",
       "    }\n",
       "\n",
       "    .dataframe thead th {\n",
       "        text-align: right;\n",
       "    }\n",
       "</style>\n",
       "<table border=\"1\" class=\"dataframe\">\n",
       "  <thead>\n",
       "    <tr style=\"text-align: right;\">\n",
       "      <th></th>\n",
       "      <th>job_title</th>\n",
       "      <th>job_link</th>\n",
       "      <th>job_desc</th>\n",
       "      <th>Company</th>\n",
       "      <th>Category</th>\n",
       "    </tr>\n",
       "  </thead>\n",
       "  <tbody>\n",
       "    <tr>\n",
       "      <th>0</th>\n",
       "      <td>Lead Counsel, eComm-Finance Regulatory Compliance</td>\n",
       "      <td>https://careers.walmart.com/us/jobs/WD1180531-...</td>\n",
       "      <td>...\\n.\\nlaw degree from an accredited law scho...</td>\n",
       "      <td>Walmart</td>\n",
       "      <td>Technology</td>\n",
       "    </tr>\n",
       "    <tr>\n",
       "      <th>1</th>\n",
       "      <td>Lead Counsel II: Global Antitrust Compliance C...</td>\n",
       "      <td>https://careers.walmart.com/us/jobs/WD1345767-...</td>\n",
       "      <td>...\\n.\\nlaw degree from an accredited law scho...</td>\n",
       "      <td>Walmart</td>\n",
       "      <td>Technology</td>\n",
       "    </tr>\n",
       "    <tr>\n",
       "      <th>2</th>\n",
       "      <td>Lead Counsel I, Financial Regulatory Compliance</td>\n",
       "      <td>https://careers.walmart.com/us/jobs/WD1180540-...</td>\n",
       "      <td>...\\n.\\nminimum qualifications\\nlaw degree fro...</td>\n",
       "      <td>Walmart</td>\n",
       "      <td>Technology</td>\n",
       "    </tr>\n",
       "    <tr>\n",
       "      <th>3</th>\n",
       "      <td>Senior Counsel, Energy</td>\n",
       "      <td>https://careers.walmart.com/us/jobs/WD1295608-...</td>\n",
       "      <td>...\\n.\\nlaw degree from an accredited law scho...</td>\n",
       "      <td>Walmart</td>\n",
       "      <td>Technology</td>\n",
       "    </tr>\n",
       "    <tr>\n",
       "      <th>4</th>\n",
       "      <td>Lead Counsel, US Legal Operations</td>\n",
       "      <td>https://careers.walmart.com/us/jobs/WD1300356-...</td>\n",
       "      <td>...\\n.\\nlaw degree from an accredited law scho...</td>\n",
       "      <td>Walmart</td>\n",
       "      <td>Technology</td>\n",
       "    </tr>\n",
       "  </tbody>\n",
       "</table>\n",
       "</div>"
      ],
      "text/plain": [
       "                                           job_title  \\\n",
       "0  Lead Counsel, eComm-Finance Regulatory Compliance   \n",
       "1  Lead Counsel II: Global Antitrust Compliance C...   \n",
       "2    Lead Counsel I, Financial Regulatory Compliance   \n",
       "3                             Senior Counsel, Energy   \n",
       "4                  Lead Counsel, US Legal Operations   \n",
       "\n",
       "                                            job_link  \\\n",
       "0  https://careers.walmart.com/us/jobs/WD1180531-...   \n",
       "1  https://careers.walmart.com/us/jobs/WD1345767-...   \n",
       "2  https://careers.walmart.com/us/jobs/WD1180540-...   \n",
       "3  https://careers.walmart.com/us/jobs/WD1295608-...   \n",
       "4  https://careers.walmart.com/us/jobs/WD1300356-...   \n",
       "\n",
       "                                            job_desc  Company    Category  \n",
       "0  ...\\n.\\nlaw degree from an accredited law scho...  Walmart  Technology  \n",
       "1  ...\\n.\\nlaw degree from an accredited law scho...  Walmart  Technology  \n",
       "2  ...\\n.\\nminimum qualifications\\nlaw degree fro...  Walmart  Technology  \n",
       "3  ...\\n.\\nlaw degree from an accredited law scho...  Walmart  Technology  \n",
       "4  ...\\n.\\nlaw degree from an accredited law scho...  Walmart  Technology  "
      ]
     },
     "execution_count": 40,
     "metadata": {},
     "output_type": "execute_result"
    }
   ],
   "source": [
    "df.head()"
   ]
  },
  {
   "cell_type": "code",
   "execution_count": 41,
   "id": "4544857e",
   "metadata": {},
   "outputs": [],
   "source": [
    "df.to_csv('walmart_corporate_jobs.csv')"
   ]
  },
  {
   "cell_type": "code",
   "execution_count": 7,
   "id": "ae69692e",
   "metadata": {},
   "outputs": [
    {
     "data": {
      "text/html": [
       "<div>\n",
       "<style scoped>\n",
       "    .dataframe tbody tr th:only-of-type {\n",
       "        vertical-align: middle;\n",
       "    }\n",
       "\n",
       "    .dataframe tbody tr th {\n",
       "        vertical-align: top;\n",
       "    }\n",
       "\n",
       "    .dataframe thead th {\n",
       "        text-align: right;\n",
       "    }\n",
       "</style>\n",
       "<table border=\"1\" class=\"dataframe\">\n",
       "  <thead>\n",
       "    <tr style=\"text-align: right;\">\n",
       "      <th></th>\n",
       "      <th>job_title</th>\n",
       "      <th>job_link</th>\n",
       "      <th>job_desc</th>\n",
       "      <th>Company</th>\n",
       "      <th>Category</th>\n",
       "    </tr>\n",
       "  </thead>\n",
       "  <tbody>\n",
       "    <tr>\n",
       "      <th>0</th>\n",
       "      <td>Lead Counsel, eComm-Finance Regulatory Compliance</td>\n",
       "      <td>https://careers.walmart.com/us/jobs/WD1180531-...</td>\n",
       "      <td>...\\n.\\nlaw degree from an accredited law scho...</td>\n",
       "      <td>Walmart</td>\n",
       "      <td>Technology</td>\n",
       "    </tr>\n",
       "    <tr>\n",
       "      <th>1</th>\n",
       "      <td>Lead Counsel II: Global Antitrust Compliance C...</td>\n",
       "      <td>https://careers.walmart.com/us/jobs/WD1345767-...</td>\n",
       "      <td>...\\n.\\nlaw degree from an accredited law scho...</td>\n",
       "      <td>Walmart</td>\n",
       "      <td>Technology</td>\n",
       "    </tr>\n",
       "    <tr>\n",
       "      <th>2</th>\n",
       "      <td>Lead Counsel I, Financial Regulatory Compliance</td>\n",
       "      <td>https://careers.walmart.com/us/jobs/WD1180540-...</td>\n",
       "      <td>...\\n.\\nminimum qualifications\\nlaw degree fro...</td>\n",
       "      <td>Walmart</td>\n",
       "      <td>Technology</td>\n",
       "    </tr>\n",
       "    <tr>\n",
       "      <th>3</th>\n",
       "      <td>Senior Counsel, Energy</td>\n",
       "      <td>https://careers.walmart.com/us/jobs/WD1295608-...</td>\n",
       "      <td>...\\n.\\nlaw degree from an accredited law scho...</td>\n",
       "      <td>Walmart</td>\n",
       "      <td>Technology</td>\n",
       "    </tr>\n",
       "    <tr>\n",
       "      <th>4</th>\n",
       "      <td>Lead Counsel, US Legal Operations</td>\n",
       "      <td>https://careers.walmart.com/us/jobs/WD1300356-...</td>\n",
       "      <td>...\\n.\\nlaw degree from an accredited law scho...</td>\n",
       "      <td>Walmart</td>\n",
       "      <td>Technology</td>\n",
       "    </tr>\n",
       "  </tbody>\n",
       "</table>\n",
       "</div>"
      ],
      "text/plain": [
       "                                           job_title  \\\n",
       "0  Lead Counsel, eComm-Finance Regulatory Compliance   \n",
       "1  Lead Counsel II: Global Antitrust Compliance C...   \n",
       "2    Lead Counsel I, Financial Regulatory Compliance   \n",
       "3                             Senior Counsel, Energy   \n",
       "4                  Lead Counsel, US Legal Operations   \n",
       "\n",
       "                                            job_link  \\\n",
       "0  https://careers.walmart.com/us/jobs/WD1180531-...   \n",
       "1  https://careers.walmart.com/us/jobs/WD1345767-...   \n",
       "2  https://careers.walmart.com/us/jobs/WD1180540-...   \n",
       "3  https://careers.walmart.com/us/jobs/WD1295608-...   \n",
       "4  https://careers.walmart.com/us/jobs/WD1300356-...   \n",
       "\n",
       "                                            job_desc  Company    Category  \n",
       "0  ...\\n.\\nlaw degree from an accredited law scho...  Walmart  Technology  \n",
       "1  ...\\n.\\nlaw degree from an accredited law scho...  Walmart  Technology  \n",
       "2  ...\\n.\\nminimum qualifications\\nlaw degree fro...  Walmart  Technology  \n",
       "3  ...\\n.\\nlaw degree from an accredited law scho...  Walmart  Technology  \n",
       "4  ...\\n.\\nlaw degree from an accredited law scho...  Walmart  Technology  "
      ]
     },
     "execution_count": 7,
     "metadata": {},
     "output_type": "execute_result"
    }
   ],
   "source": [
    "df = pd.read_csv('walmart_corporate_jobs.csv', index_col=0)\n",
    "df.head()\n"
   ]
  },
  {
   "cell_type": "code",
   "execution_count": 8,
   "id": "6434f76e",
   "metadata": {},
   "outputs": [
    {
     "data": {
      "text/plain": [
       "Index(['job_title', 'job_link', 'job_desc', 'Company', 'Category'], dtype='object')"
      ]
     },
     "execution_count": 8,
     "metadata": {},
     "output_type": "execute_result"
    }
   ],
   "source": [
    "df.columns"
   ]
  },
  {
   "cell_type": "code",
   "execution_count": 10,
   "id": "64cba262",
   "metadata": {},
   "outputs": [
    {
     "data": {
      "text/html": [
       "<div>\n",
       "<style scoped>\n",
       "    .dataframe tbody tr th:only-of-type {\n",
       "        vertical-align: middle;\n",
       "    }\n",
       "\n",
       "    .dataframe tbody tr th {\n",
       "        vertical-align: top;\n",
       "    }\n",
       "\n",
       "    .dataframe thead th {\n",
       "        text-align: right;\n",
       "    }\n",
       "</style>\n",
       "<table border=\"1\" class=\"dataframe\">\n",
       "  <thead>\n",
       "    <tr style=\"text-align: right;\">\n",
       "      <th></th>\n",
       "      <th>COMPANY</th>\n",
       "      <th>TITLE</th>\n",
       "      <th>QUALIFICATIONS</th>\n",
       "      <th>LINK</th>\n",
       "      <th>DESCRIPTION</th>\n",
       "    </tr>\n",
       "  </thead>\n",
       "  <tbody>\n",
       "    <tr>\n",
       "      <th>0</th>\n",
       "      <td>https://careers.walmart.com/us/jobs/WD1180531-...</td>\n",
       "      <td>Walmart</td>\n",
       "      <td>...\\n.\\nlaw degree from an accredited law scho...</td>\n",
       "      <td>Lead Counsel, eComm-Finance Regulatory Compliance</td>\n",
       "      <td>...\\n.\\nlaw degree from an accredited law scho...</td>\n",
       "    </tr>\n",
       "    <tr>\n",
       "      <th>1</th>\n",
       "      <td>https://careers.walmart.com/us/jobs/WD1345767-...</td>\n",
       "      <td>Walmart</td>\n",
       "      <td>...\\n.\\nlaw degree from an accredited law scho...</td>\n",
       "      <td>Lead Counsel II: Global Antitrust Compliance C...</td>\n",
       "      <td>...\\n.\\nlaw degree from an accredited law scho...</td>\n",
       "    </tr>\n",
       "    <tr>\n",
       "      <th>2</th>\n",
       "      <td>https://careers.walmart.com/us/jobs/WD1180540-...</td>\n",
       "      <td>Walmart</td>\n",
       "      <td>...\\n.\\nminimum qualifications\\nlaw degree fro...</td>\n",
       "      <td>Lead Counsel I, Financial Regulatory Compliance</td>\n",
       "      <td>...\\n.\\nminimum qualifications\\nlaw degree fro...</td>\n",
       "    </tr>\n",
       "    <tr>\n",
       "      <th>3</th>\n",
       "      <td>https://careers.walmart.com/us/jobs/WD1295608-...</td>\n",
       "      <td>Walmart</td>\n",
       "      <td>...\\n.\\nlaw degree from an accredited law scho...</td>\n",
       "      <td>Senior Counsel, Energy</td>\n",
       "      <td>...\\n.\\nlaw degree from an accredited law scho...</td>\n",
       "    </tr>\n",
       "    <tr>\n",
       "      <th>4</th>\n",
       "      <td>https://careers.walmart.com/us/jobs/WD1300356-...</td>\n",
       "      <td>Walmart</td>\n",
       "      <td>...\\n.\\nlaw degree from an accredited law scho...</td>\n",
       "      <td>Lead Counsel, US Legal Operations</td>\n",
       "      <td>...\\n.\\nlaw degree from an accredited law scho...</td>\n",
       "    </tr>\n",
       "  </tbody>\n",
       "</table>\n",
       "</div>"
      ],
      "text/plain": [
       "                                             COMPANY    TITLE  \\\n",
       "0  https://careers.walmart.com/us/jobs/WD1180531-...  Walmart   \n",
       "1  https://careers.walmart.com/us/jobs/WD1345767-...  Walmart   \n",
       "2  https://careers.walmart.com/us/jobs/WD1180540-...  Walmart   \n",
       "3  https://careers.walmart.com/us/jobs/WD1295608-...  Walmart   \n",
       "4  https://careers.walmart.com/us/jobs/WD1300356-...  Walmart   \n",
       "\n",
       "                                      QUALIFICATIONS  \\\n",
       "0  ...\\n.\\nlaw degree from an accredited law scho...   \n",
       "1  ...\\n.\\nlaw degree from an accredited law scho...   \n",
       "2  ...\\n.\\nminimum qualifications\\nlaw degree fro...   \n",
       "3  ...\\n.\\nlaw degree from an accredited law scho...   \n",
       "4  ...\\n.\\nlaw degree from an accredited law scho...   \n",
       "\n",
       "                                                LINK  \\\n",
       "0  Lead Counsel, eComm-Finance Regulatory Compliance   \n",
       "1  Lead Counsel II: Global Antitrust Compliance C...   \n",
       "2    Lead Counsel I, Financial Regulatory Compliance   \n",
       "3                             Senior Counsel, Energy   \n",
       "4                  Lead Counsel, US Legal Operations   \n",
       "\n",
       "                                         DESCRIPTION  \n",
       "0  ...\\n.\\nlaw degree from an accredited law scho...  \n",
       "1  ...\\n.\\nlaw degree from an accredited law scho...  \n",
       "2  ...\\n.\\nminimum qualifications\\nlaw degree fro...  \n",
       "3  ...\\n.\\nlaw degree from an accredited law scho...  \n",
       "4  ...\\n.\\nlaw degree from an accredited law scho...  "
      ]
     },
     "execution_count": 10,
     "metadata": {},
     "output_type": "execute_result"
    }
   ],
   "source": [
    "df.columns = ['TITLE', 'LINK', 'QUALIFICATIONS', 'COMPANY', 'CATEGORY']\n",
    "df = df.reindex(columns=['COMPANY', 'TITLE', 'QUALIFICATIONS', 'LINK', 'DESCRIPTION'])\n",
    "df['DESCRIPTION'] = df['QUALIFICATIONS']\n",
    "df.head()"
   ]
  },
  {
   "cell_type": "code",
   "execution_count": 11,
   "id": "3cc44f0c",
   "metadata": {},
   "outputs": [],
   "source": [
    "df.to_csv('walmart_corporate_jobs.csv')"
   ]
  },
  {
   "cell_type": "code",
   "execution_count": null,
   "id": "34eb138f",
   "metadata": {},
   "outputs": [],
   "source": []
  }
 ],
 "metadata": {
  "kernelspec": {
   "display_name": "Python 3 (ipykernel)",
   "language": "python",
   "name": "python3"
  },
  "language_info": {
   "codemirror_mode": {
    "name": "ipython",
    "version": 3
   },
   "file_extension": ".py",
   "mimetype": "text/x-python",
   "name": "python",
   "nbconvert_exporter": "python",
   "pygments_lexer": "ipython3",
   "version": "3.9.7"
  }
 },
 "nbformat": 4,
 "nbformat_minor": 5
}

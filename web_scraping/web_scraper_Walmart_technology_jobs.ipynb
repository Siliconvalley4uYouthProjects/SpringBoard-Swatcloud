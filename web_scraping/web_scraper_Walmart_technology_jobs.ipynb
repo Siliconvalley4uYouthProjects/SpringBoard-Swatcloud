{
 "cells": [
  {
   "cell_type": "code",
   "execution_count": 95,
   "id": "b0767050",
   "metadata": {},
   "outputs": [],
   "source": [
    "from selenium import webdriver\n",
    "import pandas as pd\n",
    "import numpy as np\n",
    "from selenium.webdriver.common.by import By"
   ]
  },
  {
   "cell_type": "code",
   "execution_count": 96,
   "id": "237ba336",
   "metadata": {},
   "outputs": [],
   "source": [
    "# The jobs page automatically defaults to your location. Therefore, it turns up 0 results.\n",
    "# The below code will help with making the jobs page not default to a specific locaion.\n",
    "\n",
    "driver = webdriver.Chrome()\n",
    "driver.implicitly_wait(10)\n",
    "\n",
    "url = 'https://careers.walmart.com/'\n",
    "driver.get(url)\n",
    "\n",
    "job_search = driver.find_element(By.XPATH, '//*[@id=\"search\"]')\n",
    "job_search.send_keys('technology')\n",
    "\n",
    "search_button = driver.find_element(By.XPATH, '//*[@id=\"location\"]')\n",
    "\n",
    "\n",
    "search_button.click()"
   ]
  },
  {
   "cell_type": "code",
   "execution_count": 97,
   "id": "b6d54aa1",
   "metadata": {},
   "outputs": [
    {
     "name": "stdout",
     "output_type": "stream",
     "text": [
      "355 355\n"
     ]
    }
   ],
   "source": [
    "#job_num = []\n",
    "TITLE = []\n",
    "LINK = []\n",
    "\n",
    "y = 1\n",
    "i = 1\n",
    "\n",
    "while y != 0:  \n",
    "#while i < 3:  \n",
    "    \n",
    "    try:\n",
    "        \n",
    "        url = 'https://careers.walmart.com/results?q=&page='+str(i)+'&sort=rank&jobCategory=00000161-7bad-da32-a37b-fbef5e390000,00000161-7bf4-da32-a37b-fbf7c59e0000,00000161-7bff-da32-a37b-fbffc8c10000,00000161-8bd0-d3dd-a1fd-bbd0febc0000,00000161-8be6-da32-a37b-cbe70c150000&jobSubCategory=0000015a-a577-de75-a9ff-bdff284e0000&expand=department,0000015e-b97d-d143-af5e-bd7da8ca0000,00000161-8be6-da32-a37b-cbe70c150000,brand,type,rate&type=jobs'\n",
    "        \n",
    "        driver.get(url) \n",
    "    \n",
    "        for j in range(1,26): \n",
    "\n",
    "            job = driver.find_element(By.XPATH, '//*[@id=\"search-results\"]/li['+str(j)+']/div[1]/h4/a')\n",
    "            #print(job)\n",
    "\n",
    "            try:\n",
    "                TITLE.append(job.text)\n",
    "            except:\n",
    "                TITLE.append('')\n",
    "\n",
    "            try:\n",
    "                LINK.append(job.get_attribute('href'))\n",
    "            except:\n",
    "                LINK.append('')     \n",
    "        \n",
    "    except:\n",
    "        y -= 1\n",
    "    \n",
    "    #print('page', i)\n",
    "    \n",
    "    i += 1\n",
    "    \n",
    "driver.close()    \n",
    "print(len(TITLE), len(LINK)) \n"
   ]
  },
  {
   "cell_type": "code",
   "execution_count": 98,
   "id": "c354b23b",
   "metadata": {
    "scrolled": false
   },
   "outputs": [
    {
     "name": "stdout",
     "output_type": "stream",
     "text": [
      "['Senior Manager II, Technical Program Management', '(USA) Senior Director II, Technical Program Management', 'Staff Technical Program Manager- Information Security Business', 'Staff Technical Program Manager', 'Director, Technology Operations - Post Transaction Fulfilment Experience Remediation & Mitigation - Business Strategy', 'Director, Technology Operations - Post Transaction Fulfilment Clarity & Control Experience - Business Strategy', '(USA) Senior Fuel Operations Manager - WM NBD', '(USA) Senior Manager II, Technology Operations, SOC', '(USA) Senior Manager II, Technology Operations']\n"
     ]
    }
   ],
   "source": [
    "print(TITLE[1:10])"
   ]
  },
  {
   "cell_type": "code",
   "execution_count": 99,
   "id": "bdf928b7",
   "metadata": {},
   "outputs": [
    {
     "name": "stdout",
     "output_type": "stream",
     "text": [
      "['https://careers.walmart.com/us/jobs/WD1412797-senior-manager-ii-technical-program-management', 'https://careers.walmart.com/us/jobs/WD1416415-usa-senior-director-ii-technical-program-management', 'https://careers.walmart.com/us/jobs/WD1391299-staff-technical-program-manager-information-security-business', 'https://careers.walmart.com/us/jobs/WD1397133-staff-technical-program-manager']\n"
     ]
    }
   ],
   "source": [
    "print(LINK[1:5])"
   ]
  },
  {
   "cell_type": "code",
   "execution_count": 100,
   "id": "a4757d60",
   "metadata": {},
   "outputs": [],
   "source": [
    "df = pd.DataFrame(zip(TITLE, LINK))\n",
    "df['QUALIFICATIONS'] = np.nan\n"
   ]
  },
  {
   "cell_type": "code",
   "execution_count": 101,
   "id": "6700b8b8",
   "metadata": {},
   "outputs": [
    {
     "data": {
      "text/html": [
       "<div>\n",
       "<style scoped>\n",
       "    .dataframe tbody tr th:only-of-type {\n",
       "        vertical-align: middle;\n",
       "    }\n",
       "\n",
       "    .dataframe tbody tr th {\n",
       "        vertical-align: top;\n",
       "    }\n",
       "\n",
       "    .dataframe thead th {\n",
       "        text-align: right;\n",
       "    }\n",
       "</style>\n",
       "<table border=\"1\" class=\"dataframe\">\n",
       "  <thead>\n",
       "    <tr style=\"text-align: right;\">\n",
       "      <th></th>\n",
       "      <th>TITLE</th>\n",
       "      <th>LINK</th>\n",
       "      <th>QUALIFICATIONS</th>\n",
       "    </tr>\n",
       "  </thead>\n",
       "  <tbody>\n",
       "    <tr>\n",
       "      <th>0</th>\n",
       "      <td>(USA) Staff Technical Program Manager - Tech</td>\n",
       "      <td>https://careers.walmart.com/us/jobs/WD1379878-...</td>\n",
       "      <td>NaN</td>\n",
       "    </tr>\n",
       "    <tr>\n",
       "      <th>1</th>\n",
       "      <td>Senior Manager II, Technical Program Management</td>\n",
       "      <td>https://careers.walmart.com/us/jobs/WD1412797-...</td>\n",
       "      <td>NaN</td>\n",
       "    </tr>\n",
       "    <tr>\n",
       "      <th>2</th>\n",
       "      <td>(USA) Senior Director II, Technical Program Ma...</td>\n",
       "      <td>https://careers.walmart.com/us/jobs/WD1416415-...</td>\n",
       "      <td>NaN</td>\n",
       "    </tr>\n",
       "    <tr>\n",
       "      <th>3</th>\n",
       "      <td>Staff Technical Program Manager- Information S...</td>\n",
       "      <td>https://careers.walmart.com/us/jobs/WD1391299-...</td>\n",
       "      <td>NaN</td>\n",
       "    </tr>\n",
       "    <tr>\n",
       "      <th>4</th>\n",
       "      <td>Staff Technical Program Manager</td>\n",
       "      <td>https://careers.walmart.com/us/jobs/WD1397133-...</td>\n",
       "      <td>NaN</td>\n",
       "    </tr>\n",
       "  </tbody>\n",
       "</table>\n",
       "</div>"
      ],
      "text/plain": [
       "                                               TITLE  \\\n",
       "0       (USA) Staff Technical Program Manager - Tech   \n",
       "1    Senior Manager II, Technical Program Management   \n",
       "2  (USA) Senior Director II, Technical Program Ma...   \n",
       "3  Staff Technical Program Manager- Information S...   \n",
       "4                    Staff Technical Program Manager   \n",
       "\n",
       "                                                LINK  QUALIFICATIONS  \n",
       "0  https://careers.walmart.com/us/jobs/WD1379878-...             NaN  \n",
       "1  https://careers.walmart.com/us/jobs/WD1412797-...             NaN  \n",
       "2  https://careers.walmart.com/us/jobs/WD1416415-...             NaN  \n",
       "3  https://careers.walmart.com/us/jobs/WD1391299-...             NaN  \n",
       "4  https://careers.walmart.com/us/jobs/WD1397133-...             NaN  "
      ]
     },
     "execution_count": 101,
     "metadata": {},
     "output_type": "execute_result"
    }
   ],
   "source": [
    "df.columns = ['TITLE', 'LINK', 'QUALIFICATIONS']\n",
    "df.head()"
   ]
  },
  {
   "cell_type": "code",
   "execution_count": 102,
   "id": "f851acd4",
   "metadata": {},
   "outputs": [
    {
     "data": {
      "text/plain": [
       "218"
      ]
     },
     "execution_count": 102,
     "metadata": {},
     "output_type": "execute_result"
    }
   ],
   "source": [
    "df = df.drop_duplicates(subset=['TITLE'])\n",
    "len(df)"
   ]
  },
  {
   "cell_type": "code",
   "execution_count": 103,
   "id": "60aa6e1f",
   "metadata": {},
   "outputs": [],
   "source": [
    "df.to_csv('walmart_jobs_title_n_link_updated012723.csv')"
   ]
  },
  {
   "cell_type": "code",
   "execution_count": 104,
   "id": "633dc119",
   "metadata": {},
   "outputs": [
    {
     "name": "stderr",
     "output_type": "stream",
     "text": [
      "C:\\Users\\meske\\AppData\\Local\\Temp/ipykernel_24032/3919239858.py:14: SettingWithCopyWarning: \n",
      "A value is trying to be set on a copy of a slice from a DataFrame\n",
      "\n",
      "See the caveats in the documentation: https://pandas.pydata.org/pandas-docs/stable/user_guide/indexing.html#returning-a-view-versus-a-copy\n",
      "  df['QUALIFICATIONS'][i] = desc.text\n"
     ]
    }
   ],
   "source": [
    "driver = webdriver.Chrome()\n",
    "\n",
    "for i in range(len(df['LINK'])):\n",
    "\n",
    "    try:\n",
    "        \n",
    "        url = (df['LINK'][i])\n",
    "\n",
    "        driver.get(url)\n",
    "\n",
    "        desc = driver.find_element(By.XPATH, '/html/body/main/section[3]/div/div[2]')\n",
    "        \n",
    "\n",
    "        df['QUALIFICATIONS'][i] = desc.text   \n",
    "         \n",
    "    except:\n",
    "        df['QUALIFICATIONS'][i] = np.nan\n",
    "\n",
    "driver.close()\n",
    "        \n"
   ]
  },
  {
   "cell_type": "code",
   "execution_count": 105,
   "id": "e5b0e96b",
   "metadata": {
    "scrolled": false
   },
   "outputs": [
    {
     "data": {
      "text/plain": [
       "TITLE              0\n",
       "LINK               0\n",
       "QUALIFICATIONS    78\n",
       "dtype: int64"
      ]
     },
     "execution_count": 105,
     "metadata": {},
     "output_type": "execute_result"
    }
   ],
   "source": [
    "df.isna().sum()"
   ]
  },
  {
   "cell_type": "code",
   "execution_count": 106,
   "id": "352d0299",
   "metadata": {},
   "outputs": [
    {
     "data": {
      "text/plain": [
       "140"
      ]
     },
     "execution_count": 106,
     "metadata": {},
     "output_type": "execute_result"
    }
   ],
   "source": [
    "df = df.drop_duplicates(subset=['TITLE', 'LINK', 'QUALIFICATIONS'])\n",
    "df['QUALIFICATIONS'] = df['QUALIFICATIONS'].str.lower()\n",
    "df = df.dropna()\n",
    "df['COMPANY'] = 'Walmart'\n",
    "df = df.reset_index(drop = True)\n",
    "len(df)"
   ]
  },
  {
   "cell_type": "code",
   "execution_count": 107,
   "id": "2a94159c",
   "metadata": {},
   "outputs": [],
   "source": [
    "for i in range(len(df['QUALIFICATIONS'])):\n",
    "\n",
    "    try:\n",
    "\n",
    "        desc = df['QUALIFICATIONS'][i]\n",
    "        mid = desc.index('minimum qualifications')+22\n",
    "        desc = desc[mid:]\n",
    "        df['QUALIFICATIONS'][i] = desc\n",
    "\n",
    "    except:\n",
    "        pass\n"
   ]
  },
  {
   "cell_type": "code",
   "execution_count": 108,
   "id": "d224090f",
   "metadata": {},
   "outputs": [],
   "source": [
    "# removing unnecessary text\n",
    "\n",
    "remove1 = '...\\noutlined below are the required minimum qualifications for this position. if none are listed, there are no minimum qualifications.'\n",
    "remove2 = '...\\noutlined below are the optional preferred qualifications for this position. if none are listed, there are no preferred qualifications.'"
   ]
  },
  {
   "cell_type": "code",
   "execution_count": 109,
   "id": "b18c261d",
   "metadata": {},
   "outputs": [],
   "source": [
    "for i in range(len(df['QUALIFICATIONS'])):\n",
    "\n",
    "    try:\n",
    "\n",
    "        df['QUALIFICATIONS'][i] = df['QUALIFICATIONS'][i].replace(remove1, '')\n",
    "        df['QUALIFICATIONS'][i] = df['QUALIFICATIONS'][i].replace(remove2, '')\n",
    "        df['QUALIFICATIONS'][i] = df['QUALIFICATIONS'][i].replace('\\n', '')\n",
    "        df['QUALIFICATIONS'][i] = df['QUALIFICATIONS'][i].replace('• ', '')\n",
    "        \n",
    "    except:\n",
    "        pass"
   ]
  },
  {
   "cell_type": "code",
   "execution_count": 110,
   "id": "f9f8e061",
   "metadata": {},
   "outputs": [],
   "source": [
    "for i in range(len(df['QUALIFICATIONS'])):\n",
    "\n",
    "    try:\n",
    "\n",
    "        desc = df['QUALIFICATIONS'][i]\n",
    "        mid = desc.index('primary location')\n",
    "        desc = desc[:mid]\n",
    "        df['QUALIFICATIONS'][i] = desc      \n",
    "        df['QUALIFICATIONS'][i] = df['QUALIFICATIONS'][i].strip()\n",
    "\n",
    "    except:\n",
    "        pass\n"
   ]
  },
  {
   "cell_type": "code",
   "execution_count": 111,
   "id": "64cba262",
   "metadata": {},
   "outputs": [
    {
     "data": {
      "text/html": [
       "<div>\n",
       "<style scoped>\n",
       "    .dataframe tbody tr th:only-of-type {\n",
       "        vertical-align: middle;\n",
       "    }\n",
       "\n",
       "    .dataframe tbody tr th {\n",
       "        vertical-align: top;\n",
       "    }\n",
       "\n",
       "    .dataframe thead th {\n",
       "        text-align: right;\n",
       "    }\n",
       "</style>\n",
       "<table border=\"1\" class=\"dataframe\">\n",
       "  <thead>\n",
       "    <tr style=\"text-align: right;\">\n",
       "      <th></th>\n",
       "      <th>COMPANY</th>\n",
       "      <th>TITLE</th>\n",
       "      <th>QUALIFICATIONS</th>\n",
       "      <th>LINK</th>\n",
       "      <th>DESCRIPTION</th>\n",
       "    </tr>\n",
       "  </thead>\n",
       "  <tbody>\n",
       "    <tr>\n",
       "      <th>0</th>\n",
       "      <td>Walmart</td>\n",
       "      <td>(USA) Staff Technical Program Manager - Tech</td>\n",
       "      <td>minimum qualifications: bachelor of science an...</td>\n",
       "      <td>https://careers.walmart.com/us/jobs/WD1379878-...</td>\n",
       "      <td>minimum qualifications: bachelor of science an...</td>\n",
       "    </tr>\n",
       "    <tr>\n",
       "      <th>1</th>\n",
       "      <td>Walmart</td>\n",
       "      <td>Senior Manager II, Technical Program Management</td>\n",
       "      <td>option 1: bachelor’s degree in computer scienc...</td>\n",
       "      <td>https://careers.walmart.com/us/jobs/WD1412797-...</td>\n",
       "      <td>option 1: bachelor’s degree in computer scienc...</td>\n",
       "    </tr>\n",
       "    <tr>\n",
       "      <th>2</th>\n",
       "      <td>Walmart</td>\n",
       "      <td>(USA) Senior Director II, Technical Program Ma...</td>\n",
       "      <td>option 1: bachelor’s degree in computer scienc...</td>\n",
       "      <td>https://careers.walmart.com/us/jobs/WD1416415-...</td>\n",
       "      <td>option 1: bachelor’s degree in computer scienc...</td>\n",
       "    </tr>\n",
       "    <tr>\n",
       "      <th>3</th>\n",
       "      <td>Walmart</td>\n",
       "      <td>Staff Technical Program Manager- Information S...</td>\n",
       "      <td>option 1: bachelor’s degree in computer scienc...</td>\n",
       "      <td>https://careers.walmart.com/us/jobs/WD1391299-...</td>\n",
       "      <td>option 1: bachelor’s degree in computer scienc...</td>\n",
       "    </tr>\n",
       "    <tr>\n",
       "      <th>4</th>\n",
       "      <td>Walmart</td>\n",
       "      <td>Staff Technical Program Manager</td>\n",
       "      <td>option 1: bachelor’s degree in computer scienc...</td>\n",
       "      <td>https://careers.walmart.com/us/jobs/WD1397133-...</td>\n",
       "      <td>option 1: bachelor’s degree in computer scienc...</td>\n",
       "    </tr>\n",
       "  </tbody>\n",
       "</table>\n",
       "</div>"
      ],
      "text/plain": [
       "   COMPANY                                              TITLE  \\\n",
       "0  Walmart       (USA) Staff Technical Program Manager - Tech   \n",
       "1  Walmart    Senior Manager II, Technical Program Management   \n",
       "2  Walmart  (USA) Senior Director II, Technical Program Ma...   \n",
       "3  Walmart  Staff Technical Program Manager- Information S...   \n",
       "4  Walmart                    Staff Technical Program Manager   \n",
       "\n",
       "                                      QUALIFICATIONS  \\\n",
       "0  minimum qualifications: bachelor of science an...   \n",
       "1  option 1: bachelor’s degree in computer scienc...   \n",
       "2  option 1: bachelor’s degree in computer scienc...   \n",
       "3  option 1: bachelor’s degree in computer scienc...   \n",
       "4  option 1: bachelor’s degree in computer scienc...   \n",
       "\n",
       "                                                LINK  \\\n",
       "0  https://careers.walmart.com/us/jobs/WD1379878-...   \n",
       "1  https://careers.walmart.com/us/jobs/WD1412797-...   \n",
       "2  https://careers.walmart.com/us/jobs/WD1416415-...   \n",
       "3  https://careers.walmart.com/us/jobs/WD1391299-...   \n",
       "4  https://careers.walmart.com/us/jobs/WD1397133-...   \n",
       "\n",
       "                                         DESCRIPTION  \n",
       "0  minimum qualifications: bachelor of science an...  \n",
       "1  option 1: bachelor’s degree in computer scienc...  \n",
       "2  option 1: bachelor’s degree in computer scienc...  \n",
       "3  option 1: bachelor’s degree in computer scienc...  \n",
       "4  option 1: bachelor’s degree in computer scienc...  "
      ]
     },
     "execution_count": 111,
     "metadata": {},
     "output_type": "execute_result"
    }
   ],
   "source": [
    "df['DESCRIPTION'] = df['QUALIFICATIONS']\n",
    "df = df[['COMPANY', 'TITLE', 'QUALIFICATIONS', 'LINK', 'DESCRIPTION']]\n",
    "df.head()"
   ]
  },
  {
   "cell_type": "code",
   "execution_count": 94,
   "id": "3cc44f0c",
   "metadata": {},
   "outputs": [],
   "source": [
    "df.to_csv('walmart_technology_jobs.csv')"
   ]
  },
  {
   "cell_type": "code",
   "execution_count": null,
   "id": "09ec4fe7",
   "metadata": {},
   "outputs": [],
   "source": []
  }
 ],
 "metadata": {
  "kernelspec": {
   "display_name": "Python 3 (ipykernel)",
   "language": "python",
   "name": "python3"
  },
  "language_info": {
   "codemirror_mode": {
    "name": "ipython",
    "version": 3
   },
   "file_extension": ".py",
   "mimetype": "text/x-python",
   "name": "python",
   "nbconvert_exporter": "python",
   "pygments_lexer": "ipython3",
   "version": "3.9.7"
  }
 },
 "nbformat": 4,
 "nbformat_minor": 5
}

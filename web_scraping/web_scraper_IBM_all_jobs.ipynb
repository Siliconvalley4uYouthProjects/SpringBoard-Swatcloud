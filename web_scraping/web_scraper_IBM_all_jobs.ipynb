{
 "cells": [
  {
   "cell_type": "code",
   "execution_count": 1,
   "id": "3667fa7f",
   "metadata": {},
   "outputs": [],
   "source": [
    "from selenium import webdriver\n",
    "from bs4 import BeautifulSoup\n",
    "import time\n",
    "import pandas as pd"
   ]
  },
  {
   "cell_type": "code",
   "execution_count": 2,
   "id": "c4682543",
   "metadata": {},
   "outputs": [],
   "source": [
    "chrome_options = webdriver.ChromeOptions()\n",
    "chrome_options.add_argument('--headless')\n",
    "chrome_options.add_argument('--no-sandbox')\n",
    "chrome_options.add_argument('--disable-dev-shm-usage')"
   ]
  },
  {
   "cell_type": "code",
   "execution_count": 3,
   "id": "8b8a526c",
   "metadata": {},
   "outputs": [],
   "source": [
    "# we will scrape jobs from IBM in US and Canada\n",
    "url = 'https://www.ibm.com/careers/us-en/search/?filters=primary_country:CA,primary_country:US'\n",
    "driver = webdriver.Chrome()\n",
    "driver.implicitly_wait(2)\n",
    "driver.get(url)"
   ]
  },
  {
   "cell_type": "code",
   "execution_count": 4,
   "id": "f813d2ea",
   "metadata": {},
   "outputs": [
    {
     "data": {
      "text/plain": [
       "45"
      ]
     },
     "execution_count": 4,
     "metadata": {},
     "output_type": "execute_result"
    }
   ],
   "source": [
    "# we first get the total number of jobs and number of jobs per page\n",
    "soup = BeautifulSoup(driver.page_source, 'html.parser')\n",
    "result = soup.find(\"div\", {\"class\": \"UpperList_quantityJobs__eDIK8\"}).text\n",
    "jobs_per_page = int(result.split()[1])\n",
    "total_jobs = int(result.split()[3])\n",
    "\n",
    "# now calculate the total number of pages\n",
    "total_pages = total_jobs//jobs_per_page + 1\n",
    "total_pages"
   ]
  },
  {
   "cell_type": "code",
   "execution_count": 5,
   "id": "8fe112b1",
   "metadata": {},
   "outputs": [],
   "source": [
    "job_title=[]\n",
    "job_link=[]\n",
    "\n",
    "# get the jobs on the first page\n",
    "soup = BeautifulSoup(driver.page_source, 'html.parser')\n",
    "tags = soup.find_all(\"a\", {\"class\": \"cds--link bx--card__footer undefined\"})\n",
    "for t in tags:\n",
    "    job_link.append(t['href'])   \n",
    "    job_title.append(t.parent.find(\"h3\", {\"class\": \"bx--card__heading\"}).text)  "
   ]
  },
  {
   "cell_type": "code",
   "execution_count": 6,
   "id": "ba4ea3f7",
   "metadata": {},
   "outputs": [],
   "source": [
    "time.sleep(2)\n",
    "# handle the cookies message window\n",
    "try:\n",
    "    next_button = driver.find_element('xpath', '//*[@id=\"truste-consent-button\"]')  \n",
    "    next_button.click()\n",
    "except:\n",
    "    pass"
   ]
  },
  {
   "cell_type": "code",
   "execution_count": 7,
   "id": "07e31f09",
   "metadata": {},
   "outputs": [],
   "source": [
    "# now loop through all the pages by clicking 'next' button on each page\n",
    "current_page = 1\n",
    "\n",
    "while current_page < total_pages:\n",
    "    next_button = driver.find_element('xpath', '//*[@aria-labelledby=\"tooltip-6\"]') \n",
    "    driver.execute_script(\"arguments[0].click();\", next_button)\n",
    "    time.sleep(1)\n",
    "\n",
    "    soup = BeautifulSoup(driver.page_source, 'html.parser')\n",
    "    tags = soup.find_all(\"a\", {\"class\": \"cds--link bx--card__footer undefined\"})\n",
    "    for t in tags:\n",
    "        job_link.append(t['href'])   \n",
    "        job_title.append(t.parent.find(\"h3\", {\"class\": \"bx--card__heading\"}).text)  \n",
    "    \n",
    "    current_page += 1"
   ]
  },
  {
   "cell_type": "code",
   "execution_count": 8,
   "id": "69c773d4",
   "metadata": {},
   "outputs": [
    {
     "data": {
      "text/plain": [
       "(666, 666)"
      ]
     },
     "execution_count": 8,
     "metadata": {},
     "output_type": "execute_result"
    }
   ],
   "source": [
    "len(job_title), len(job_link)"
   ]
  },
  {
   "cell_type": "code",
   "execution_count": 9,
   "id": "4f397bc2",
   "metadata": {},
   "outputs": [],
   "source": [
    "# create a dataframe that contains job titles and links for all job categories\n",
    "df_title_link = pd.DataFrame(zip(job_title, job_link), columns=['JOB_TITLE', 'JOB_LINK'])\n",
    "\n",
    "# drop the duplicates\n",
    "df_title_link = df_title_link.drop_duplicates()"
   ]
  },
  {
   "cell_type": "markdown",
   "id": "03336eff",
   "metadata": {},
   "source": [
    "## Extract job descriptions and qualifications for each job"
   ]
  },
  {
   "cell_type": "code",
   "execution_count": 10,
   "id": "a201c047",
   "metadata": {},
   "outputs": [],
   "source": [
    "# retrieve job qualifications and descriptions\n",
    "def job_description(title, link):\n",
    "    qualifications = []\n",
    "    description = []\n",
    "    jobtitle = []\n",
    "    joblink = []\n",
    "    \n",
    "    driver=webdriver.Chrome('chromedriver',options=chrome_options)\n",
    "    for i in range(len(link)):\n",
    "        URL=link[i]\n",
    "        driver.get(URL)\n",
    "        time.sleep(1)\n",
    "        soup = BeautifulSoup(driver.page_source, 'html.parser')\n",
    "\n",
    "        s = ''\n",
    "        d = ''\n",
    "              \n",
    "        # get the job qualifications\n",
    "        try:\n",
    "            tag1 = soup.find(\"span\", text=\"Required Technical and Professional Expertise\")\n",
    "            tag = tag1.findNext(['ul', 'ol'])\n",
    "            s = tag.text\n",
    "        except: pass\n",
    "        \n",
    "        try:\n",
    "            tag2 = soup.find(\"span\", text=\"Preferred Technical and Professional Expertise\")\n",
    "            tag = tag1.findNext(['ul', 'ol'])\n",
    "            s = s + \". \" + tag.text\n",
    "        except: pass\n",
    "\n",
    "        # get the job responsibilities\n",
    "        try:\n",
    "            tag1 = soup.find(\"span\", text=\"Your Role and Responsibilities\")\n",
    "            tag = tag1.findNext(['ul', 'ol'])\n",
    "            d = tag.text\n",
    "        except: pass        \n",
    "        \n",
    "        qualifications.append(s)\n",
    "        description.append(d)   \n",
    "        jobtitle.append(title[i])\n",
    "        joblink.append(link[i])\n",
    "        \n",
    "    driver.quit()            \n",
    " \n",
    "    return jobtitle, link, qualifications, description"
   ]
  },
  {
   "cell_type": "code",
   "execution_count": 11,
   "id": "a337813d",
   "metadata": {},
   "outputs": [],
   "source": [
    "# retrieve the qualification for each job.\n",
    "title, link, qual, descrp = job_description(df_title_link['JOB_TITLE'].values, df_title_link['JOB_LINK'].values)"
   ]
  },
  {
   "cell_type": "code",
   "execution_count": 12,
   "id": "20e54ae5",
   "metadata": {},
   "outputs": [],
   "source": [
    "def remove_char(s):\n",
    "  s_new = s.replace('\\n', ' ').replace('\\xa0', ' ')\n",
    "  while '  ' in s_new:\n",
    "    s_new = s_new.replace('  ', ' ')\n",
    "  return s_new"
   ]
  },
  {
   "cell_type": "code",
   "execution_count": 13,
   "id": "b680bb86",
   "metadata": {},
   "outputs": [],
   "source": [
    "qual_cleaned = [remove_char(q) for q in qual]\n",
    "descrp_cleaned = [remove_char(d) for d in descrp]"
   ]
  },
  {
   "cell_type": "code",
   "execution_count": 14,
   "id": "68b3da2b",
   "metadata": {},
   "outputs": [],
   "source": [
    "#create a dataframe from basic qualification and preferred qualification\n",
    "df = pd.DataFrame(zip(title, qual_cleaned, link, descrp_cleaned))\n",
    "df.columns = ['TITLE', 'QUALIFICATIONS', 'LINK', 'DESCRIPTION']\n",
    "df['COMPANY'] = 'IBM'\n",
    "df = df.iloc[:, [4, 0, 1, 2, 3]]"
   ]
  },
  {
   "cell_type": "code",
   "execution_count": 15,
   "id": "c0afe5c2",
   "metadata": {},
   "outputs": [],
   "source": [
    "# look for empty QUALIFICATION entries\n",
    "def get_empty(df, colname) :\n",
    "  empty_idx=[]\n",
    "  for i in range(len(df[colname])):\n",
    "    count = len(df[colname][i])\n",
    "    if count<=10 : empty_idx.append(i)\n",
    "    else: pass\n",
    "  return empty_idx\n",
    "\n",
    "empty_mini_q = get_empty(df, 'QUALIFICATIONS')\n",
    "\n",
    "# drop the empty Qualification entries\n",
    "df.drop(empty_mini_q, inplace=True)"
   ]
  },
  {
   "cell_type": "code",
   "execution_count": 17,
   "id": "536adc52",
   "metadata": {},
   "outputs": [
    {
     "name": "stdout",
     "output_type": "stream",
     "text": [
      "There are 624 jobs from IBM.\n"
     ]
    }
   ],
   "source": [
    "#remove the duplicated jobs\n",
    "df_nodup = df.drop_duplicates()\n",
    "print(\"There are {} jobs from IBM.\".format(df_nodup.shape[0]))\n",
    "\n",
    "df_nodup.to_csv('ibm_all_jobs_cleaned.csv')"
   ]
  },
  {
   "cell_type": "code",
   "execution_count": null,
   "id": "05bd01e3",
   "metadata": {},
   "outputs": [],
   "source": []
  }
 ],
 "metadata": {
  "kernelspec": {
   "display_name": "Python 3 (ipykernel)",
   "language": "python",
   "name": "python3"
  },
  "language_info": {
   "codemirror_mode": {
    "name": "ipython",
    "version": 3
   },
   "file_extension": ".py",
   "mimetype": "text/x-python",
   "name": "python",
   "nbconvert_exporter": "python",
   "pygments_lexer": "ipython3",
   "version": "3.10.4"
  }
 },
 "nbformat": 4,
 "nbformat_minor": 5
}

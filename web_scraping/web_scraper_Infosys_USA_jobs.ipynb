{
 "cells": [
  {
   "cell_type": "markdown",
   "id": "92aca0a3",
   "metadata": {},
   "source": [
    "# Notes\n",
    "\n",
    "Reason for using Selenium\n",
    "\n",
    "The job search results page keeps adding more results at the bottom, but the URL stays the same. Therefore, it is not possible to loop through the pages. It is necessary to click on the next button until all the results are loaded and then scrape.\n",
    "\n",
    "The url for a job search results page (for example for technology), when used later, redirects to the job search home page\n",
    "without the search results. Therefore, it is necessary to type in the search term do a fresh search before scraping.\n",
    "\n",
    "To do for this notebook\n",
    "\n",
    "- see if just the qualifications part can be scraped.\n",
    "\n",
    "Running the script \n",
    "    \n",
    "- It takes about 10-15 minutes to run the part that scrapes the job titles and job description page links.\n",
    "- It may take 3-4 hours to run the part that scrapes the job description text. It may take longer \n",
    "  if the script gets interruped for some reason. It is necessary for a person to check if the script run successfully \n",
    "  and rerun as needed.\n",
    "- It looks like the script tends to get interrupted if the computer goes to sleep mode. \n",
    "  So it helps to keep the computer active for the script to complete running without interruption."
   ]
  },
  {
   "cell_type": "code",
   "execution_count": 1,
   "id": "aa8ed824",
   "metadata": {},
   "outputs": [],
   "source": [
    "from selenium import webdriver\n",
    "import pandas as pd\n",
    "import numpy as np\n",
    "from selenium.webdriver.common.by import By"
   ]
  },
  {
   "cell_type": "markdown",
   "id": "6c6573b1",
   "metadata": {},
   "source": [
    "# Get job titles and job description page links"
   ]
  },
  {
   "cell_type": "code",
   "execution_count": 2,
   "id": "5283816d",
   "metadata": {},
   "outputs": [],
   "source": [
    "#this url redirects to the page 'https://sjobs.brassring.com/TGnewUI/Search/Home/Home?partnerid=25633&siteid=5439&Codes=BeMore#home'\n",
    "#url = 'https://sjobs.brassring.com/TGnewUI/Search/Home/Home?partnerid=25633&siteid=5439&Codes=BeMore#keyWordSearch=technology%20or%20software%20engineering%20or%20developer%20or%20azure%20or%20aws&locationSearch='\n",
    "\n",
    "url = 'https://sjobs.brassring.com/TGnewUI/Search/Home/Home?partnerid=25633&siteid=5439&Codes=BeMore#home'\n",
    "\n",
    "driver = webdriver.Chrome()\n",
    "\n",
    "driver.implicitly_wait(20)\n",
    "\n",
    "driver.get(url)\n",
    "    \n",
    "location = driver.find_element(By.XPATH,'//*[@id=\"initialSearchBox__26\"]')\n",
    "location.send_keys('usa')\n",
    "\n",
    "search_button = driver.find_element(By.XPATH,'//*[@id=\"searchControls_BUTTON_2\"]')\n",
    "search_button.click()"
   ]
  },
  {
   "cell_type": "code",
   "execution_count": 3,
   "id": "43b4ac4b",
   "metadata": {},
   "outputs": [],
   "source": [
    "x = 1\n",
    "\n",
    "while x == 1:\n",
    "    try:\n",
    "    \n",
    "        next_button = driver.find_element(By.XPATH,'//*[@id=\"showMoreJobs\"]')\n",
    "        next_button.click()\n",
    "\n",
    "    except:\n",
    "        x = 0    "
   ]
  },
  {
   "cell_type": "code",
   "execution_count": 4,
   "id": "551512f0",
   "metadata": {},
   "outputs": [],
   "source": [
    "job_title = []\n",
    "job_link = []"
   ]
  },
  {
   "cell_type": "code",
   "execution_count": 5,
   "id": "bce45339",
   "metadata": {},
   "outputs": [
    {
     "name": "stdout",
     "output_type": "stream",
     "text": [
      "509 509\n"
     ]
    }
   ],
   "source": [
    "\n",
    "y = 2\n",
    "i = 1\n",
    "\n",
    "while y != 0:  \n",
    "    \n",
    "    y = 2\n",
    "    \n",
    "    try:  \n",
    "        job = driver.find_element(By.XPATH,'//*[@id=\"mainJobListContainer\"]/div/div/ul/li['+str(i)+']/div[2]/div[1]')        \n",
    "        job_title.append(job.text)\n",
    "        \n",
    "    except:\n",
    "        job_title.append('')\n",
    "        y -= 1\n",
    "\n",
    "        \n",
    "    try:\n",
    "        link = driver.find_element(By.XPATH,'//*[@id=\"Job_'+str(i)+'\"]')        \n",
    "        job_link.append(link.get_attribute('href'))\n",
    "        \n",
    "    except:\n",
    "        job_link.append('')\n",
    "        y -= 1        \n",
    "\n",
    "    i = i+1\n",
    "    \n",
    "    \n",
    "print(len(job_title), len(job_link)) \n",
    "    \n"
   ]
  },
  {
   "cell_type": "code",
   "execution_count": 6,
   "id": "727ef009",
   "metadata": {
    "scrolled": true
   },
   "outputs": [
    {
     "data": {
      "text/html": [
       "<div>\n",
       "<style scoped>\n",
       "    .dataframe tbody tr th:only-of-type {\n",
       "        vertical-align: middle;\n",
       "    }\n",
       "\n",
       "    .dataframe tbody tr th {\n",
       "        vertical-align: top;\n",
       "    }\n",
       "\n",
       "    .dataframe thead th {\n",
       "        text-align: right;\n",
       "    }\n",
       "</style>\n",
       "<table border=\"1\" class=\"dataframe\">\n",
       "  <thead>\n",
       "    <tr style=\"text-align: right;\">\n",
       "      <th></th>\n",
       "      <th>TITLE</th>\n",
       "      <th>LINK</th>\n",
       "    </tr>\n",
       "  </thead>\n",
       "  <tbody>\n",
       "    <tr>\n",
       "      <th>0</th>\n",
       "      <td>Pega Engineer</td>\n",
       "      <td>https://sjobs.brassring.com/TGnewUI/Search/hom...</td>\n",
       "    </tr>\n",
       "    <tr>\n",
       "      <th>1</th>\n",
       "      <td>Senior Java Developer Spring, Spring Boot</td>\n",
       "      <td>https://sjobs.brassring.com/TGnewUI/Search/hom...</td>\n",
       "    </tr>\n",
       "    <tr>\n",
       "      <th>2</th>\n",
       "      <td>Senior .NET Developer</td>\n",
       "      <td>https://sjobs.brassring.com/TGnewUI/Search/hom...</td>\n",
       "    </tr>\n",
       "    <tr>\n",
       "      <th>3</th>\n",
       "      <td>Automation Test Engineer</td>\n",
       "      <td>https://sjobs.brassring.com/TGnewUI/Search/hom...</td>\n",
       "    </tr>\n",
       "    <tr>\n",
       "      <th>4</th>\n",
       "      <td>Principal Enterprise SAP BPC Consultant</td>\n",
       "      <td>https://sjobs.brassring.com/TGnewUI/Search/hom...</td>\n",
       "    </tr>\n",
       "  </tbody>\n",
       "</table>\n",
       "</div>"
      ],
      "text/plain": [
       "                                       TITLE  \\\n",
       "0                              Pega Engineer   \n",
       "1  Senior Java Developer Spring, Spring Boot   \n",
       "2                      Senior .NET Developer   \n",
       "3                   Automation Test Engineer   \n",
       "4    Principal Enterprise SAP BPC Consultant   \n",
       "\n",
       "                                                LINK  \n",
       "0  https://sjobs.brassring.com/TGnewUI/Search/hom...  \n",
       "1  https://sjobs.brassring.com/TGnewUI/Search/hom...  \n",
       "2  https://sjobs.brassring.com/TGnewUI/Search/hom...  \n",
       "3  https://sjobs.brassring.com/TGnewUI/Search/hom...  \n",
       "4  https://sjobs.brassring.com/TGnewUI/Search/hom...  "
      ]
     },
     "execution_count": 6,
     "metadata": {},
     "output_type": "execute_result"
    }
   ],
   "source": [
    "# convert to dataframe\n",
    "\n",
    "df = pd.DataFrame(zip(job_title, job_link))\n",
    "df.columns = ['TITLE', 'LINK']\n",
    "df.head()"
   ]
  },
  {
   "cell_type": "code",
   "execution_count": 7,
   "id": "582b9165",
   "metadata": {},
   "outputs": [
    {
     "data": {
      "text/html": [
       "<div>\n",
       "<style scoped>\n",
       "    .dataframe tbody tr th:only-of-type {\n",
       "        vertical-align: middle;\n",
       "    }\n",
       "\n",
       "    .dataframe tbody tr th {\n",
       "        vertical-align: top;\n",
       "    }\n",
       "\n",
       "    .dataframe thead th {\n",
       "        text-align: right;\n",
       "    }\n",
       "</style>\n",
       "<table border=\"1\" class=\"dataframe\">\n",
       "  <thead>\n",
       "    <tr style=\"text-align: right;\">\n",
       "      <th></th>\n",
       "      <th>TITLE</th>\n",
       "      <th>LINK</th>\n",
       "      <th>QUALIFICATIONS</th>\n",
       "    </tr>\n",
       "  </thead>\n",
       "  <tbody>\n",
       "    <tr>\n",
       "      <th>0</th>\n",
       "      <td>Pega Engineer</td>\n",
       "      <td>https://sjobs.brassring.com/TGnewUI/Search/hom...</td>\n",
       "      <td>NaN</td>\n",
       "    </tr>\n",
       "    <tr>\n",
       "      <th>1</th>\n",
       "      <td>Senior Java Developer Spring, Spring Boot</td>\n",
       "      <td>https://sjobs.brassring.com/TGnewUI/Search/hom...</td>\n",
       "      <td>NaN</td>\n",
       "    </tr>\n",
       "    <tr>\n",
       "      <th>2</th>\n",
       "      <td>Senior .NET Developer</td>\n",
       "      <td>https://sjobs.brassring.com/TGnewUI/Search/hom...</td>\n",
       "      <td>NaN</td>\n",
       "    </tr>\n",
       "    <tr>\n",
       "      <th>3</th>\n",
       "      <td>Automation Test Engineer</td>\n",
       "      <td>https://sjobs.brassring.com/TGnewUI/Search/hom...</td>\n",
       "      <td>NaN</td>\n",
       "    </tr>\n",
       "    <tr>\n",
       "      <th>4</th>\n",
       "      <td>Principal Enterprise SAP BPC Consultant</td>\n",
       "      <td>https://sjobs.brassring.com/TGnewUI/Search/hom...</td>\n",
       "      <td>NaN</td>\n",
       "    </tr>\n",
       "  </tbody>\n",
       "</table>\n",
       "</div>"
      ],
      "text/plain": [
       "                                       TITLE  \\\n",
       "0                              Pega Engineer   \n",
       "1  Senior Java Developer Spring, Spring Boot   \n",
       "2                      Senior .NET Developer   \n",
       "3                   Automation Test Engineer   \n",
       "4    Principal Enterprise SAP BPC Consultant   \n",
       "\n",
       "                                                LINK  QUALIFICATIONS  \n",
       "0  https://sjobs.brassring.com/TGnewUI/Search/hom...             NaN  \n",
       "1  https://sjobs.brassring.com/TGnewUI/Search/hom...             NaN  \n",
       "2  https://sjobs.brassring.com/TGnewUI/Search/hom...             NaN  \n",
       "3  https://sjobs.brassring.com/TGnewUI/Search/hom...             NaN  \n",
       "4  https://sjobs.brassring.com/TGnewUI/Search/hom...             NaN  "
      ]
     },
     "execution_count": 7,
     "metadata": {},
     "output_type": "execute_result"
    }
   ],
   "source": [
    "df['QUALIFICATIONS'] = np.nan\n",
    "df.head()"
   ]
  },
  {
   "cell_type": "code",
   "execution_count": 8,
   "id": "e9bb040b",
   "metadata": {},
   "outputs": [],
   "source": [
    "df.to_csv('infosys_jobs_usa_title_link.csv')"
   ]
  },
  {
   "cell_type": "markdown",
   "id": "79d8a1ba",
   "metadata": {},
   "source": [
    "# Get job description data"
   ]
  },
  {
   "cell_type": "code",
   "execution_count": null,
   "id": "5707f2a9",
   "metadata": {},
   "outputs": [],
   "source": [
    "# job description text - wording and how the text and the headings are organized differs among job postings\n",
    "# the most commonality I could find is most of the job descriptions and qualifications are under li tags, \n",
    "# but not always. Therefore, I am grabbing all li tags from the job description pages."
   ]
  },
  {
   "cell_type": "code",
   "execution_count": null,
   "id": "c24d99cc",
   "metadata": {},
   "outputs": [],
   "source": [
    "# get job description data in batches. It takes too long to get all at once."
   ]
  },
  {
   "cell_type": "code",
   "execution_count": 10,
   "id": "1f35748b",
   "metadata": {},
   "outputs": [
    {
     "name": "stderr",
     "output_type": "stream",
     "text": [
      "C:\\Users\\meske\\AppData\\Local\\Temp/ipykernel_27904/479805297.py:17: SettingWithCopyWarning: \n",
      "A value is trying to be set on a copy of a slice from a DataFrame\n",
      "\n",
      "See the caveats in the documentation: https://pandas.pydata.org/pandas-docs/stable/user_guide/indexing.html#returning-a-view-versus-a-copy\n",
      "  df['QUALIFICATIONS'][i] = job_text\n"
     ]
    }
   ],
   "source": [
    "driver = webdriver.Chrome()   \n",
    "    \n",
    "for i in range(len(df['LINK'])):\n",
    "    \n",
    "    try:\n",
    "        job_text = ''\n",
    "        url = (df['LINK'][i])\n",
    "\n",
    "        driver.get(url)\n",
    "\n",
    "        desc = driver.find_element(By.XPATH,'//*[@id=\"content\"]/div[1]/div[7]/div[4]/div[2]/div/div[3]/div[4]/p[2]')\n",
    "        texts = desc.find_elements(By.TAG_NAME, 'li')\n",
    "\n",
    "        for Text in texts: \n",
    "            job_text = job_text+Text.text+' '\n",
    "\n",
    "        df['QUALIFICATIONS'][i] = job_text\n",
    "\n",
    "    except:\n",
    "        df['QUALIFICATIONS'][i] = ''\n",
    "\n",
    "driver.close()"
   ]
  },
  {
   "cell_type": "code",
   "execution_count": 11,
   "id": "ef32f221",
   "metadata": {
    "scrolled": true
   },
   "outputs": [
    {
     "data": {
      "text/plain": [
       "'Experience in client facing role managing highly complex programs Experience in life insurance domain Should have managed multi-million dollar programs with 100+ team members and multiple sub-projects Delivering with near-shore and off-shore teams Prior experience in managing Policy Administration System (PAS) conversion PMP Certification Your responsibilities would include '"
      ]
     },
     "execution_count": 11,
     "metadata": {},
     "output_type": "execute_result"
    }
   ],
   "source": [
    "df['QUALIFICATIONS'][500]"
   ]
  },
  {
   "cell_type": "code",
   "execution_count": 12,
   "id": "89c750ce",
   "metadata": {},
   "outputs": [
    {
     "data": {
      "text/plain": [
       "155"
      ]
     },
     "execution_count": 12,
     "metadata": {},
     "output_type": "execute_result"
    }
   ],
   "source": [
    "len(df[df['QUALIFICATIONS'] == ''])\n"
   ]
  },
  {
   "cell_type": "markdown",
   "id": "de28a3da",
   "metadata": {},
   "source": [
    "# Basic Cleaning"
   ]
  },
  {
   "cell_type": "code",
   "execution_count": 13,
   "id": "3d42852d",
   "metadata": {},
   "outputs": [
    {
     "data": {
      "text/plain": [
       "354"
      ]
     },
     "execution_count": 13,
     "metadata": {},
     "output_type": "execute_result"
    }
   ],
   "source": [
    "to_drop = df[df['QUALIFICATIONS'] == ''].index\n",
    "df = df.drop(to_drop)\n",
    "df = df.dropna()\n",
    "len(df)\n"
   ]
  },
  {
   "cell_type": "code",
   "execution_count": 18,
   "id": "8f09b19a",
   "metadata": {},
   "outputs": [
    {
     "data": {
      "text/plain": [
       "354"
      ]
     },
     "execution_count": 18,
     "metadata": {},
     "output_type": "execute_result"
    }
   ],
   "source": [
    "df['QUALIFICATIONS'] = df['QUALIFICATIONS'].str.lower()\n",
    "df = df.drop_duplicates(subset=['TITLE', 'QUALIFICATIONS'])\n",
    "df = df.reset_index(drop=True)\n",
    "len(df)"
   ]
  },
  {
   "cell_type": "code",
   "execution_count": 20,
   "id": "cbd24408",
   "metadata": {},
   "outputs": [
    {
     "data": {
      "text/html": [
       "<div>\n",
       "<style scoped>\n",
       "    .dataframe tbody tr th:only-of-type {\n",
       "        vertical-align: middle;\n",
       "    }\n",
       "\n",
       "    .dataframe tbody tr th {\n",
       "        vertical-align: top;\n",
       "    }\n",
       "\n",
       "    .dataframe thead th {\n",
       "        text-align: right;\n",
       "    }\n",
       "</style>\n",
       "<table border=\"1\" class=\"dataframe\">\n",
       "  <thead>\n",
       "    <tr style=\"text-align: right;\">\n",
       "      <th></th>\n",
       "      <th>TITLE</th>\n",
       "      <th>LINK</th>\n",
       "      <th>QUALIFICATIONS</th>\n",
       "      <th>COMPANY</th>\n",
       "      <th>DESCRIPTION</th>\n",
       "    </tr>\n",
       "  </thead>\n",
       "  <tbody>\n",
       "    <tr>\n",
       "      <th>0</th>\n",
       "      <td>Senior .NET Developer</td>\n",
       "      <td>https://sjobs.brassring.com/TGnewUI/Search/hom...</td>\n",
       "      <td>0 - 1 year experience in java full stack devel...</td>\n",
       "      <td>Infosys</td>\n",
       "      <td>0 - 1 year experience in java full stack devel...</td>\n",
       "    </tr>\n",
       "    <tr>\n",
       "      <th>1</th>\n",
       "      <td>Automation Test Engineer</td>\n",
       "      <td>https://sjobs.brassring.com/TGnewUI/Search/hom...</td>\n",
       "      <td>bachelor’s degree or foreign equivalent requir...</td>\n",
       "      <td>Infosys</td>\n",
       "      <td>bachelor’s degree or foreign equivalent requir...</td>\n",
       "    </tr>\n",
       "    <tr>\n",
       "      <th>2</th>\n",
       "      <td>Principal Enterprise SAP BPC Consultant</td>\n",
       "      <td>https://sjobs.brassring.com/TGnewUI/Search/hom...</td>\n",
       "      <td>bachelor’s degree or foreign university equiva...</td>\n",
       "      <td>Infosys</td>\n",
       "      <td>bachelor’s degree or foreign university equiva...</td>\n",
       "    </tr>\n",
       "    <tr>\n",
       "      <th>3</th>\n",
       "      <td>Senior Analyst - Analytics</td>\n",
       "      <td>https://sjobs.brassring.com/TGnewUI/Search/hom...</td>\n",
       "      <td>analyze complex market information, understand...</td>\n",
       "      <td>Infosys</td>\n",
       "      <td>analyze complex market information, understand...</td>\n",
       "    </tr>\n",
       "    <tr>\n",
       "      <th>4</th>\n",
       "      <td>Senior Operations Manager - Sourcing &amp; Procure...</td>\n",
       "      <td>https://sjobs.brassring.com/TGnewUI/Search/hom...</td>\n",
       "      <td>bachelor’s degree or foreign equivalent requir...</td>\n",
       "      <td>Infosys</td>\n",
       "      <td>bachelor’s degree or foreign equivalent requir...</td>\n",
       "    </tr>\n",
       "  </tbody>\n",
       "</table>\n",
       "</div>"
      ],
      "text/plain": [
       "                                               TITLE  \\\n",
       "0                              Senior .NET Developer   \n",
       "1                           Automation Test Engineer   \n",
       "2            Principal Enterprise SAP BPC Consultant   \n",
       "3                         Senior Analyst - Analytics   \n",
       "4  Senior Operations Manager - Sourcing & Procure...   \n",
       "\n",
       "                                                LINK  \\\n",
       "0  https://sjobs.brassring.com/TGnewUI/Search/hom...   \n",
       "1  https://sjobs.brassring.com/TGnewUI/Search/hom...   \n",
       "2  https://sjobs.brassring.com/TGnewUI/Search/hom...   \n",
       "3  https://sjobs.brassring.com/TGnewUI/Search/hom...   \n",
       "4  https://sjobs.brassring.com/TGnewUI/Search/hom...   \n",
       "\n",
       "                                      QUALIFICATIONS  COMPANY  \\\n",
       "0  0 - 1 year experience in java full stack devel...  Infosys   \n",
       "1  bachelor’s degree or foreign equivalent requir...  Infosys   \n",
       "2  bachelor’s degree or foreign university equiva...  Infosys   \n",
       "3  analyze complex market information, understand...  Infosys   \n",
       "4  bachelor’s degree or foreign equivalent requir...  Infosys   \n",
       "\n",
       "                                         DESCRIPTION  \n",
       "0  0 - 1 year experience in java full stack devel...  \n",
       "1  bachelor’s degree or foreign equivalent requir...  \n",
       "2  bachelor’s degree or foreign university equiva...  \n",
       "3  analyze complex market information, understand...  \n",
       "4  bachelor’s degree or foreign equivalent requir...  "
      ]
     },
     "execution_count": 20,
     "metadata": {},
     "output_type": "execute_result"
    }
   ],
   "source": [
    "df['COMPANY'] = 'Infosys'\n",
    "df['DESCRIPTION'] = df['QUALIFICATIONS']\n",
    "df.head()"
   ]
  },
  {
   "cell_type": "code",
   "execution_count": 22,
   "id": "63b31b42",
   "metadata": {},
   "outputs": [
    {
     "data": {
      "text/html": [
       "<div>\n",
       "<style scoped>\n",
       "    .dataframe tbody tr th:only-of-type {\n",
       "        vertical-align: middle;\n",
       "    }\n",
       "\n",
       "    .dataframe tbody tr th {\n",
       "        vertical-align: top;\n",
       "    }\n",
       "\n",
       "    .dataframe thead th {\n",
       "        text-align: right;\n",
       "    }\n",
       "</style>\n",
       "<table border=\"1\" class=\"dataframe\">\n",
       "  <thead>\n",
       "    <tr style=\"text-align: right;\">\n",
       "      <th></th>\n",
       "      <th>COMPANY</th>\n",
       "      <th>TITLE</th>\n",
       "      <th>QUALIFICATIONS</th>\n",
       "      <th>LINK</th>\n",
       "      <th>DESCRIPTION</th>\n",
       "    </tr>\n",
       "  </thead>\n",
       "  <tbody>\n",
       "    <tr>\n",
       "      <th>0</th>\n",
       "      <td>Infosys</td>\n",
       "      <td>Senior .NET Developer</td>\n",
       "      <td>0 - 1 year experience in java full stack devel...</td>\n",
       "      <td>https://sjobs.brassring.com/TGnewUI/Search/hom...</td>\n",
       "      <td>0 - 1 year experience in java full stack devel...</td>\n",
       "    </tr>\n",
       "    <tr>\n",
       "      <th>1</th>\n",
       "      <td>Infosys</td>\n",
       "      <td>Automation Test Engineer</td>\n",
       "      <td>bachelor’s degree or foreign equivalent requir...</td>\n",
       "      <td>https://sjobs.brassring.com/TGnewUI/Search/hom...</td>\n",
       "      <td>bachelor’s degree or foreign equivalent requir...</td>\n",
       "    </tr>\n",
       "    <tr>\n",
       "      <th>2</th>\n",
       "      <td>Infosys</td>\n",
       "      <td>Principal Enterprise SAP BPC Consultant</td>\n",
       "      <td>bachelor’s degree or foreign university equiva...</td>\n",
       "      <td>https://sjobs.brassring.com/TGnewUI/Search/hom...</td>\n",
       "      <td>bachelor’s degree or foreign university equiva...</td>\n",
       "    </tr>\n",
       "    <tr>\n",
       "      <th>3</th>\n",
       "      <td>Infosys</td>\n",
       "      <td>Senior Analyst - Analytics</td>\n",
       "      <td>analyze complex market information, understand...</td>\n",
       "      <td>https://sjobs.brassring.com/TGnewUI/Search/hom...</td>\n",
       "      <td>analyze complex market information, understand...</td>\n",
       "    </tr>\n",
       "    <tr>\n",
       "      <th>4</th>\n",
       "      <td>Infosys</td>\n",
       "      <td>Senior Operations Manager - Sourcing &amp; Procure...</td>\n",
       "      <td>bachelor’s degree or foreign equivalent requir...</td>\n",
       "      <td>https://sjobs.brassring.com/TGnewUI/Search/hom...</td>\n",
       "      <td>bachelor’s degree or foreign equivalent requir...</td>\n",
       "    </tr>\n",
       "  </tbody>\n",
       "</table>\n",
       "</div>"
      ],
      "text/plain": [
       "   COMPANY                                              TITLE  \\\n",
       "0  Infosys                              Senior .NET Developer   \n",
       "1  Infosys                           Automation Test Engineer   \n",
       "2  Infosys            Principal Enterprise SAP BPC Consultant   \n",
       "3  Infosys                         Senior Analyst - Analytics   \n",
       "4  Infosys  Senior Operations Manager - Sourcing & Procure...   \n",
       "\n",
       "                                      QUALIFICATIONS  \\\n",
       "0  0 - 1 year experience in java full stack devel...   \n",
       "1  bachelor’s degree or foreign equivalent requir...   \n",
       "2  bachelor’s degree or foreign university equiva...   \n",
       "3  analyze complex market information, understand...   \n",
       "4  bachelor’s degree or foreign equivalent requir...   \n",
       "\n",
       "                                                LINK  \\\n",
       "0  https://sjobs.brassring.com/TGnewUI/Search/hom...   \n",
       "1  https://sjobs.brassring.com/TGnewUI/Search/hom...   \n",
       "2  https://sjobs.brassring.com/TGnewUI/Search/hom...   \n",
       "3  https://sjobs.brassring.com/TGnewUI/Search/hom...   \n",
       "4  https://sjobs.brassring.com/TGnewUI/Search/hom...   \n",
       "\n",
       "                                         DESCRIPTION  \n",
       "0  0 - 1 year experience in java full stack devel...  \n",
       "1  bachelor’s degree or foreign equivalent requir...  \n",
       "2  bachelor’s degree or foreign university equiva...  \n",
       "3  analyze complex market information, understand...  \n",
       "4  bachelor’s degree or foreign equivalent requir...  "
      ]
     },
     "execution_count": 22,
     "metadata": {},
     "output_type": "execute_result"
    }
   ],
   "source": [
    "df = pd.read_csv('infosys_usa_ jobs.csv')\n",
    "df = df.reindex(columns=['COMPANY', 'TITLE', 'QUALIFICATIONS', 'LINK', 'DESCRIPTION'])\n",
    "df.head()"
   ]
  },
  {
   "cell_type": "code",
   "execution_count": 24,
   "id": "f1e62086",
   "metadata": {},
   "outputs": [],
   "source": [
    "df.to_csv('infosys_usa_ jobs.csv')"
   ]
  },
  {
   "cell_type": "code",
   "execution_count": null,
   "id": "002962d1",
   "metadata": {},
   "outputs": [],
   "source": []
  }
 ],
 "metadata": {
  "kernelspec": {
   "display_name": "Python 3 (ipykernel)",
   "language": "python",
   "name": "python3"
  },
  "language_info": {
   "codemirror_mode": {
    "name": "ipython",
    "version": 3
   },
   "file_extension": ".py",
   "mimetype": "text/x-python",
   "name": "python",
   "nbconvert_exporter": "python",
   "pygments_lexer": "ipython3",
   "version": "3.9.7"
  }
 },
 "nbformat": 4,
 "nbformat_minor": 5
}

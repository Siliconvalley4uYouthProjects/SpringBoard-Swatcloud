{
 "cells": [
  {
   "cell_type": "markdown",
   "id": "92aca0a3",
   "metadata": {},
   "source": [
    "# Notes\n",
    "\n",
    "Reason for using Selenium\n",
    "\n",
    "The job search results page keeps adding more results at the bottom, but the URL stays the same. Therefore, it is not possible to loop through the pages. It is necessary to click on the next button until all the results are loaded and then scrape.\n",
    "\n",
    "The url for a job search results page (for example for technology), when used later, redirects to the job search home page\n",
    "without the search results. Therefore, it is necessary to type in the search term do a fresh search before scraping.\n",
    "\n",
    "To do for this notebook\n",
    "\n",
    "- see if just the qualifications part can be scraped.\n",
    "\n",
    "Running the script \n",
    "    \n",
    "- It takes about 10-15 minutes to run the part that scrapes the job titles and job description page links.\n",
    "- It may take 3-4 hours to run the part that scrapes the job description text. It may take longer \n",
    "  if the script gets interruped for some reason. It is necessary for a person to check if the script run successfully \n",
    "  and rerun as needed.\n",
    "- It looks like the script tends to get interrupted if the computer goes to sleep mode. \n",
    "  So it helps to keep the computer active for the script to complete running without interruption."
   ]
  },
  {
   "cell_type": "code",
   "execution_count": 6,
   "id": "aa8ed824",
   "metadata": {},
   "outputs": [],
   "source": [
    "from selenium import webdriver\n",
    "import pandas as pd\n",
    "import numpy as np\n",
    "from selenium.webdriver.common.by import By"
   ]
  },
  {
   "cell_type": "markdown",
   "id": "6c6573b1",
   "metadata": {},
   "source": [
    "# Get job titles and job description page links"
   ]
  },
  {
   "cell_type": "code",
   "execution_count": 7,
   "id": "5283816d",
   "metadata": {},
   "outputs": [],
   "source": [
    "# job_title = []\n",
    "# job_link = []\n",
    "\n",
    "#this url redirects to the page 'https://sjobs.brassring.com/TGnewUI/Search/Home/Home?partnerid=25633&siteid=5439&Codes=BeMore#home'\n",
    "#url = 'https://sjobs.brassring.com/TGnewUI/Search/Home/Home?partnerid=25633&siteid=5439&Codes=BeMore#keyWordSearch=technology%20or%20software%20engineering%20or%20developer%20or%20azure%20or%20aws&locationSearch='\n",
    "\n",
    "url = 'https://sjobs.brassring.com/TGnewUI/Search/Home/Home?partnerid=25633&siteid=5439&Codes=BeMore#home'\n",
    "\n",
    "driver = webdriver.Chrome()\n",
    "\n",
    "driver.implicitly_wait(20)\n",
    "\n",
    "driver.get(url)\n",
    "    \n",
    "location = driver.find_element(By.XPATH,'//*[@id=\"initialSearchBox__26\"]')\n",
    "location.send_keys('usa')\n",
    "\n",
    "search_button = driver.find_element(By.XPATH,'//*[@id=\"searchControls_BUTTON_2\"]')\n",
    "search_button.click()\n",
    "\n"
   ]
  },
  {
   "cell_type": "code",
   "execution_count": 8,
   "id": "43b4ac4b",
   "metadata": {},
   "outputs": [],
   "source": [
    "x = 1\n",
    "\n",
    "while x == 1:\n",
    "    try:\n",
    "    \n",
    "        next_button = driver.find_element(By.XPATH,'//*[@id=\"showMoreJobs\"]')\n",
    "        next_button.click()\n",
    "\n",
    "    except:\n",
    "        x = 0    "
   ]
  },
  {
   "cell_type": "code",
   "execution_count": 9,
   "id": "551512f0",
   "metadata": {},
   "outputs": [],
   "source": [
    "job_title = []\n",
    "job_link = []"
   ]
  },
  {
   "cell_type": "code",
   "execution_count": 10,
   "id": "bce45339",
   "metadata": {},
   "outputs": [
    {
     "name": "stdout",
     "output_type": "stream",
     "text": [
      "516 516\n"
     ]
    }
   ],
   "source": [
    "\n",
    "y = 2\n",
    "i = 1\n",
    "\n",
    "while y != 0:  \n",
    "    \n",
    "    y = 2\n",
    "    \n",
    "    try:  \n",
    "        job = driver.find_element(By.XPATH,'//*[@id=\"mainJobListContainer\"]/div/div/ul/li['+str(i)+']/div[2]/div[1]')        \n",
    "        job_title.append(job.text)\n",
    "        \n",
    "    except:\n",
    "        job_title.append('')\n",
    "        y -= 1\n",
    "\n",
    "        \n",
    "    try:\n",
    "        link = driver.find_element(By.XPATH,'//*[@id=\"Job_'+str(i)+'\"]')        \n",
    "        job_link.append(link.get_attribute('href'))\n",
    "        \n",
    "    except:\n",
    "        job_link.append('')\n",
    "        y -= 1        \n",
    "\n",
    "    i = i+1\n",
    "    \n",
    "    \n",
    "print(len(job_title), len(job_link)) \n",
    "    \n"
   ]
  },
  {
   "cell_type": "code",
   "execution_count": 11,
   "id": "727ef009",
   "metadata": {
    "scrolled": true
   },
   "outputs": [
    {
     "data": {
      "text/html": [
       "<div>\n",
       "<style scoped>\n",
       "    .dataframe tbody tr th:only-of-type {\n",
       "        vertical-align: middle;\n",
       "    }\n",
       "\n",
       "    .dataframe tbody tr th {\n",
       "        vertical-align: top;\n",
       "    }\n",
       "\n",
       "    .dataframe thead th {\n",
       "        text-align: right;\n",
       "    }\n",
       "</style>\n",
       "<table border=\"1\" class=\"dataframe\">\n",
       "  <thead>\n",
       "    <tr style=\"text-align: right;\">\n",
       "      <th></th>\n",
       "      <th>TITLE</th>\n",
       "      <th>LINK</th>\n",
       "    </tr>\n",
       "  </thead>\n",
       "  <tbody>\n",
       "    <tr>\n",
       "      <th>0</th>\n",
       "      <td>Spark Developer</td>\n",
       "      <td>https://sjobs.brassring.com/TGnewUI/Search/hom...</td>\n",
       "    </tr>\n",
       "    <tr>\n",
       "      <th>1</th>\n",
       "      <td>Team Lead - Service Desk</td>\n",
       "      <td>https://sjobs.brassring.com/TGnewUI/Search/hom...</td>\n",
       "    </tr>\n",
       "    <tr>\n",
       "      <th>2</th>\n",
       "      <td>Network Administrator-Vulnerability</td>\n",
       "      <td>https://sjobs.brassring.com/TGnewUI/Search/hom...</td>\n",
       "    </tr>\n",
       "    <tr>\n",
       "      <th>3</th>\n",
       "      <td>Java Production Support Analyst</td>\n",
       "      <td>https://sjobs.brassring.com/TGnewUI/Search/hom...</td>\n",
       "    </tr>\n",
       "    <tr>\n",
       "      <th>4</th>\n",
       "      <td>Service Desk Technician</td>\n",
       "      <td>https://sjobs.brassring.com/TGnewUI/Search/hom...</td>\n",
       "    </tr>\n",
       "  </tbody>\n",
       "</table>\n",
       "</div>"
      ],
      "text/plain": [
       "                                 TITLE  \\\n",
       "0                      Spark Developer   \n",
       "1             Team Lead - Service Desk   \n",
       "2  Network Administrator-Vulnerability   \n",
       "3      Java Production Support Analyst   \n",
       "4              Service Desk Technician   \n",
       "\n",
       "                                                LINK  \n",
       "0  https://sjobs.brassring.com/TGnewUI/Search/hom...  \n",
       "1  https://sjobs.brassring.com/TGnewUI/Search/hom...  \n",
       "2  https://sjobs.brassring.com/TGnewUI/Search/hom...  \n",
       "3  https://sjobs.brassring.com/TGnewUI/Search/hom...  \n",
       "4  https://sjobs.brassring.com/TGnewUI/Search/hom...  "
      ]
     },
     "execution_count": 11,
     "metadata": {},
     "output_type": "execute_result"
    }
   ],
   "source": [
    "# convert to dataframe\n",
    "\n",
    "df = pd.DataFrame(zip(job_title, job_link))\n",
    "df.columns = ['TITLE', 'LINK']\n",
    "df.head()"
   ]
  },
  {
   "cell_type": "code",
   "execution_count": 12,
   "id": "582b9165",
   "metadata": {},
   "outputs": [
    {
     "data": {
      "text/html": [
       "<div>\n",
       "<style scoped>\n",
       "    .dataframe tbody tr th:only-of-type {\n",
       "        vertical-align: middle;\n",
       "    }\n",
       "\n",
       "    .dataframe tbody tr th {\n",
       "        vertical-align: top;\n",
       "    }\n",
       "\n",
       "    .dataframe thead th {\n",
       "        text-align: right;\n",
       "    }\n",
       "</style>\n",
       "<table border=\"1\" class=\"dataframe\">\n",
       "  <thead>\n",
       "    <tr style=\"text-align: right;\">\n",
       "      <th></th>\n",
       "      <th>TITLE</th>\n",
       "      <th>LINK</th>\n",
       "      <th>QUALIFICATIONS</th>\n",
       "    </tr>\n",
       "  </thead>\n",
       "  <tbody>\n",
       "    <tr>\n",
       "      <th>0</th>\n",
       "      <td>Spark Developer</td>\n",
       "      <td>https://sjobs.brassring.com/TGnewUI/Search/hom...</td>\n",
       "      <td>NaN</td>\n",
       "    </tr>\n",
       "    <tr>\n",
       "      <th>1</th>\n",
       "      <td>Team Lead - Service Desk</td>\n",
       "      <td>https://sjobs.brassring.com/TGnewUI/Search/hom...</td>\n",
       "      <td>NaN</td>\n",
       "    </tr>\n",
       "    <tr>\n",
       "      <th>2</th>\n",
       "      <td>Network Administrator-Vulnerability</td>\n",
       "      <td>https://sjobs.brassring.com/TGnewUI/Search/hom...</td>\n",
       "      <td>NaN</td>\n",
       "    </tr>\n",
       "    <tr>\n",
       "      <th>3</th>\n",
       "      <td>Java Production Support Analyst</td>\n",
       "      <td>https://sjobs.brassring.com/TGnewUI/Search/hom...</td>\n",
       "      <td>NaN</td>\n",
       "    </tr>\n",
       "    <tr>\n",
       "      <th>4</th>\n",
       "      <td>Service Desk Technician</td>\n",
       "      <td>https://sjobs.brassring.com/TGnewUI/Search/hom...</td>\n",
       "      <td>NaN</td>\n",
       "    </tr>\n",
       "  </tbody>\n",
       "</table>\n",
       "</div>"
      ],
      "text/plain": [
       "                                 TITLE  \\\n",
       "0                      Spark Developer   \n",
       "1             Team Lead - Service Desk   \n",
       "2  Network Administrator-Vulnerability   \n",
       "3      Java Production Support Analyst   \n",
       "4              Service Desk Technician   \n",
       "\n",
       "                                                LINK  QUALIFICATIONS  \n",
       "0  https://sjobs.brassring.com/TGnewUI/Search/hom...             NaN  \n",
       "1  https://sjobs.brassring.com/TGnewUI/Search/hom...             NaN  \n",
       "2  https://sjobs.brassring.com/TGnewUI/Search/hom...             NaN  \n",
       "3  https://sjobs.brassring.com/TGnewUI/Search/hom...             NaN  \n",
       "4  https://sjobs.brassring.com/TGnewUI/Search/hom...             NaN  "
      ]
     },
     "execution_count": 12,
     "metadata": {},
     "output_type": "execute_result"
    }
   ],
   "source": [
    "df['QUALIFICATIONS'] = np.nan\n",
    "df.head()"
   ]
  },
  {
   "cell_type": "code",
   "execution_count": 13,
   "id": "e9bb040b",
   "metadata": {},
   "outputs": [],
   "source": [
    "df.to_csv('infosys_jobs_usa_title_link.csv')"
   ]
  },
  {
   "cell_type": "code",
   "execution_count": null,
   "id": "52f53b27",
   "metadata": {},
   "outputs": [],
   "source": []
  },
  {
   "cell_type": "code",
   "execution_count": 14,
   "id": "df6bc0cf",
   "metadata": {},
   "outputs": [
    {
     "data": {
      "text/html": [
       "<div>\n",
       "<style scoped>\n",
       "    .dataframe tbody tr th:only-of-type {\n",
       "        vertical-align: middle;\n",
       "    }\n",
       "\n",
       "    .dataframe tbody tr th {\n",
       "        vertical-align: top;\n",
       "    }\n",
       "\n",
       "    .dataframe thead th {\n",
       "        text-align: right;\n",
       "    }\n",
       "</style>\n",
       "<table border=\"1\" class=\"dataframe\">\n",
       "  <thead>\n",
       "    <tr style=\"text-align: right;\">\n",
       "      <th></th>\n",
       "      <th>TITLE</th>\n",
       "      <th>LINK</th>\n",
       "      <th>QUALIFICATIONS</th>\n",
       "    </tr>\n",
       "  </thead>\n",
       "  <tbody>\n",
       "    <tr>\n",
       "      <th>0</th>\n",
       "      <td>Spark Developer</td>\n",
       "      <td>https://sjobs.brassring.com/TGnewUI/Search/hom...</td>\n",
       "      <td>NaN</td>\n",
       "    </tr>\n",
       "    <tr>\n",
       "      <th>1</th>\n",
       "      <td>Team Lead - Service Desk</td>\n",
       "      <td>https://sjobs.brassring.com/TGnewUI/Search/hom...</td>\n",
       "      <td>NaN</td>\n",
       "    </tr>\n",
       "    <tr>\n",
       "      <th>2</th>\n",
       "      <td>Network Administrator-Vulnerability</td>\n",
       "      <td>https://sjobs.brassring.com/TGnewUI/Search/hom...</td>\n",
       "      <td>NaN</td>\n",
       "    </tr>\n",
       "    <tr>\n",
       "      <th>3</th>\n",
       "      <td>Java Production Support Analyst</td>\n",
       "      <td>https://sjobs.brassring.com/TGnewUI/Search/hom...</td>\n",
       "      <td>NaN</td>\n",
       "    </tr>\n",
       "    <tr>\n",
       "      <th>4</th>\n",
       "      <td>Service Desk Technician</td>\n",
       "      <td>https://sjobs.brassring.com/TGnewUI/Search/hom...</td>\n",
       "      <td>NaN</td>\n",
       "    </tr>\n",
       "  </tbody>\n",
       "</table>\n",
       "</div>"
      ],
      "text/plain": [
       "                                 TITLE  \\\n",
       "0                      Spark Developer   \n",
       "1             Team Lead - Service Desk   \n",
       "2  Network Administrator-Vulnerability   \n",
       "3      Java Production Support Analyst   \n",
       "4              Service Desk Technician   \n",
       "\n",
       "                                                LINK  QUALIFICATIONS  \n",
       "0  https://sjobs.brassring.com/TGnewUI/Search/hom...             NaN  \n",
       "1  https://sjobs.brassring.com/TGnewUI/Search/hom...             NaN  \n",
       "2  https://sjobs.brassring.com/TGnewUI/Search/hom...             NaN  \n",
       "3  https://sjobs.brassring.com/TGnewUI/Search/hom...             NaN  \n",
       "4  https://sjobs.brassring.com/TGnewUI/Search/hom...             NaN  "
      ]
     },
     "execution_count": 14,
     "metadata": {},
     "output_type": "execute_result"
    }
   ],
   "source": [
    "df = pd.read_csv('infosys_jobs_usa_title_link.csv')\n",
    "df = df.drop(columns=['Unnamed: 0'], axis=1)\n",
    "df.head()"
   ]
  },
  {
   "cell_type": "code",
   "execution_count": null,
   "id": "2cc804ae",
   "metadata": {},
   "outputs": [],
   "source": []
  },
  {
   "cell_type": "markdown",
   "id": "79d8a1ba",
   "metadata": {},
   "source": [
    "# Get job description data"
   ]
  },
  {
   "cell_type": "code",
   "execution_count": null,
   "id": "5707f2a9",
   "metadata": {},
   "outputs": [],
   "source": [
    "# job description text - wording and how the text and the headings are organized differs among job postings\n",
    "# the most commonality I could find is most of the job descriptions and qualifications are under li tags, \n",
    "# but not always. Therefore, I am grabbing all li tags from the job description pages."
   ]
  },
  {
   "cell_type": "code",
   "execution_count": null,
   "id": "c24d99cc",
   "metadata": {},
   "outputs": [],
   "source": [
    "# get job description data in batches. It takes too long to get all at once."
   ]
  },
  {
   "cell_type": "code",
   "execution_count": 15,
   "id": "1f35748b",
   "metadata": {},
   "outputs": [
    {
     "name": "stderr",
     "output_type": "stream",
     "text": [
      "C:\\Users\\meske\\anaconda3\\lib\\site-packages\\selenium\\webdriver\\remote\\webelement.py:365: UserWarning: find_elements_by_* commands are deprecated. Please use find_elements() instead\n",
      "  warnings.warn(\"find_elements_by_* commands are deprecated. Please use find_elements() instead\")\n",
      "C:\\Users\\meske\\AppData\\Local\\Temp/ipykernel_11552/1100658683.py:17: SettingWithCopyWarning: \n",
      "A value is trying to be set on a copy of a slice from a DataFrame\n",
      "\n",
      "See the caveats in the documentation: https://pandas.pydata.org/pandas-docs/stable/user_guide/indexing.html#returning-a-view-versus-a-copy\n",
      "  df['QUALIFICATIONS'][i] = job_text\n"
     ]
    }
   ],
   "source": [
    "driver = webdriver.Chrome()   \n",
    "    \n",
    "for i in range(len(df['LINK'])):\n",
    "    \n",
    "    try:\n",
    "        job_text = ''\n",
    "        url = (df['LINK'][i])\n",
    "\n",
    "        driver.get(url)\n",
    "\n",
    "        desc = driver.find_element(By.XPATH,'//*[@id=\"content\"]/div[1]/div[7]/div[4]/div[2]/div/div[3]/div[4]/p[2]')\n",
    "        texts = desc.find_elements_by_tag_name('li')\n",
    "\n",
    "        for Text in texts: \n",
    "            job_text = job_text+Text.text+' '\n",
    "\n",
    "        df['QUALIFICATIONS'][i] = job_text\n",
    "\n",
    "    except:\n",
    "        df['QUALIFICATIONS'][i] = ''\n",
    "\n",
    "driver.close()"
   ]
  },
  {
   "cell_type": "code",
   "execution_count": 16,
   "id": "ef32f221",
   "metadata": {
    "scrolled": true
   },
   "outputs": [
    {
     "data": {
      "text/plain": [
       "'Client relationship management and business development: lead client relationships, build a portfolio up to $10-30M, lead the opportunity management cycle: Prospect-Evaluate-Propose-Close Client delivery assurance: collaborate with all delivery partners involved to ensure fulfillment of all commitments to the client. Collaborate with the Delivery Manager to address all people or infrastructure related issues that may be affecting the delivery of the project vis-à-vis the specific client. Balance different projects running for the client that may involve different delivery managers or horizontal unit resources. Take go-to-market solutions to accounts and drive revenue from go-to-market solutions being sponsored by the business unit. Work closely with the Solutions Leader to build customized solutions pitches for the target account and driving the revenues and delivery of these solutions. Account planning and governance: build the account plan including relationships required, opportunities to be pursued, price decisions, etc. Craft account plan with details of the relationships required, the opportunities that have to be chased, and forecasting the potential revenue yield from such opportunities, as well as potential threats and weaknesses that need to be addressed. Make pricing decisions within the scope of the Master Services Agreement. Support pre-sales proposals for new business development outside of account scope. Provide vital input for building future alliances with relevant product vendors. Bachelor’s degree or foreign equivalent required from an accredited institution. Will also consider three years of progressive experience in the specialty in lieu of every year of education and 7+ years of experience, with strong sales/relationship management/account management experience Significant business development and project management experience Experience in the relevant industry/vertical Track record of interacting and building relationships with CXO level client contacts Hands-on experience with proposal creation and leading proposal presentations Strong leadership, social, communication and presentation skills Wide variety of IT and business consulting engagement experience U.S. citizenship or permanent residency required; we are not able to sponsor this position at this time Knowledge of industry specific go-to-market solutions Good understanding of industry specific business issues and drivers Global Delivery Model experience Experience managing large multi-location consulting engagement teams Track record as an Account Manager in a rapidly growing client relationship '"
      ]
     },
     "execution_count": 16,
     "metadata": {},
     "output_type": "execute_result"
    }
   ],
   "source": [
    "df['QUALIFICATIONS'][500]"
   ]
  },
  {
   "cell_type": "code",
   "execution_count": 17,
   "id": "89c750ce",
   "metadata": {},
   "outputs": [
    {
     "data": {
      "text/plain": [
       "143"
      ]
     },
     "execution_count": 17,
     "metadata": {},
     "output_type": "execute_result"
    }
   ],
   "source": [
    "len(df[df['QUALIFICATIONS'] == ''])\n"
   ]
  },
  {
   "cell_type": "markdown",
   "id": "de28a3da",
   "metadata": {},
   "source": [
    "# Basic Cleaning"
   ]
  },
  {
   "cell_type": "code",
   "execution_count": 18,
   "id": "3d42852d",
   "metadata": {},
   "outputs": [
    {
     "data": {
      "text/plain": [
       "373"
      ]
     },
     "execution_count": 18,
     "metadata": {},
     "output_type": "execute_result"
    }
   ],
   "source": [
    "to_drop = df[df['QUALIFICATIONS'] == ''].index\n",
    "df = df.drop(to_drop)\n",
    "df = df.dropna()\n",
    "len(df)\n"
   ]
  },
  {
   "cell_type": "code",
   "execution_count": 19,
   "id": "8f09b19a",
   "metadata": {},
   "outputs": [],
   "source": [
    "df['QUALIFICATIONS'] = df['QUALIFICATIONS'].str.lower()"
   ]
  },
  {
   "cell_type": "code",
   "execution_count": 20,
   "id": "4f23027e",
   "metadata": {},
   "outputs": [
    {
     "data": {
      "text/plain": [
       "373"
      ]
     },
     "execution_count": 20,
     "metadata": {},
     "output_type": "execute_result"
    }
   ],
   "source": [
    "df = df.drop_duplicates(subset=['TITLE', 'QUALIFICATIONS'])\n",
    "len(df)"
   ]
  },
  {
   "cell_type": "code",
   "execution_count": 21,
   "id": "2ac8c8bd",
   "metadata": {},
   "outputs": [],
   "source": [
    "df = df.reset_index(drop=True)"
   ]
  },
  {
   "cell_type": "code",
   "execution_count": 22,
   "id": "8449a511",
   "metadata": {},
   "outputs": [
    {
     "data": {
      "text/html": [
       "<div>\n",
       "<style scoped>\n",
       "    .dataframe tbody tr th:only-of-type {\n",
       "        vertical-align: middle;\n",
       "    }\n",
       "\n",
       "    .dataframe tbody tr th {\n",
       "        vertical-align: top;\n",
       "    }\n",
       "\n",
       "    .dataframe thead th {\n",
       "        text-align: right;\n",
       "    }\n",
       "</style>\n",
       "<table border=\"1\" class=\"dataframe\">\n",
       "  <thead>\n",
       "    <tr style=\"text-align: right;\">\n",
       "      <th></th>\n",
       "      <th>TITLE</th>\n",
       "      <th>LINK</th>\n",
       "      <th>QUALIFICATIONS</th>\n",
       "    </tr>\n",
       "  </thead>\n",
       "  <tbody>\n",
       "    <tr>\n",
       "      <th>0</th>\n",
       "      <td>Spark Developer</td>\n",
       "      <td>https://sjobs.brassring.com/TGnewUI/Search/hom...</td>\n",
       "      <td>knowledge of customer care operations experien...</td>\n",
       "    </tr>\n",
       "    <tr>\n",
       "      <th>1</th>\n",
       "      <td>Java Production Support Analyst</td>\n",
       "      <td>https://sjobs.brassring.com/TGnewUI/Search/hom...</td>\n",
       "      <td>active listening and questioning, an eye for d...</td>\n",
       "    </tr>\n",
       "    <tr>\n",
       "      <th>2</th>\n",
       "      <td>Technology Lead- React JS</td>\n",
       "      <td>https://sjobs.brassring.com/TGnewUI/Search/hom...</td>\n",
       "      <td>bachelor's degree or foreign equivalent requir...</td>\n",
       "    </tr>\n",
       "    <tr>\n",
       "      <th>3</th>\n",
       "      <td>Privacy Analyst</td>\n",
       "      <td>https://sjobs.brassring.com/TGnewUI/Search/hom...</td>\n",
       "      <td>candidate can be located anywhere in usa. this...</td>\n",
       "    </tr>\n",
       "    <tr>\n",
       "      <th>4</th>\n",
       "      <td>Network Administrator</td>\n",
       "      <td>https://sjobs.brassring.com/TGnewUI/Search/hom...</td>\n",
       "      <td>bachelor’s degree or foreign equivalent requi...</td>\n",
       "    </tr>\n",
       "  </tbody>\n",
       "</table>\n",
       "</div>"
      ],
      "text/plain": [
       "                             TITLE  \\\n",
       "0                  Spark Developer   \n",
       "1  Java Production Support Analyst   \n",
       "2        Technology Lead- React JS   \n",
       "3                  Privacy Analyst   \n",
       "4            Network Administrator   \n",
       "\n",
       "                                                LINK  \\\n",
       "0  https://sjobs.brassring.com/TGnewUI/Search/hom...   \n",
       "1  https://sjobs.brassring.com/TGnewUI/Search/hom...   \n",
       "2  https://sjobs.brassring.com/TGnewUI/Search/hom...   \n",
       "3  https://sjobs.brassring.com/TGnewUI/Search/hom...   \n",
       "4  https://sjobs.brassring.com/TGnewUI/Search/hom...   \n",
       "\n",
       "                                      QUALIFICATIONS  \n",
       "0  knowledge of customer care operations experien...  \n",
       "1  active listening and questioning, an eye for d...  \n",
       "2  bachelor's degree or foreign equivalent requir...  \n",
       "3  candidate can be located anywhere in usa. this...  \n",
       "4   bachelor’s degree or foreign equivalent requi...  "
      ]
     },
     "execution_count": 22,
     "metadata": {},
     "output_type": "execute_result"
    }
   ],
   "source": [
    "df.head()"
   ]
  },
  {
   "cell_type": "code",
   "execution_count": 23,
   "id": "cbd24408",
   "metadata": {},
   "outputs": [
    {
     "data": {
      "text/html": [
       "<div>\n",
       "<style scoped>\n",
       "    .dataframe tbody tr th:only-of-type {\n",
       "        vertical-align: middle;\n",
       "    }\n",
       "\n",
       "    .dataframe tbody tr th {\n",
       "        vertical-align: top;\n",
       "    }\n",
       "\n",
       "    .dataframe thead th {\n",
       "        text-align: right;\n",
       "    }\n",
       "</style>\n",
       "<table border=\"1\" class=\"dataframe\">\n",
       "  <thead>\n",
       "    <tr style=\"text-align: right;\">\n",
       "      <th></th>\n",
       "      <th>TITLE</th>\n",
       "      <th>LINK</th>\n",
       "      <th>QUALIFICATIONS</th>\n",
       "      <th>COMPANY</th>\n",
       "      <th>DESCRIPTION</th>\n",
       "    </tr>\n",
       "  </thead>\n",
       "  <tbody>\n",
       "    <tr>\n",
       "      <th>0</th>\n",
       "      <td>Spark Developer</td>\n",
       "      <td>https://sjobs.brassring.com/TGnewUI/Search/hom...</td>\n",
       "      <td>knowledge of customer care operations experien...</td>\n",
       "      <td>Infosys</td>\n",
       "      <td>knowledge of customer care operations experien...</td>\n",
       "    </tr>\n",
       "    <tr>\n",
       "      <th>1</th>\n",
       "      <td>Java Production Support Analyst</td>\n",
       "      <td>https://sjobs.brassring.com/TGnewUI/Search/hom...</td>\n",
       "      <td>active listening and questioning, an eye for d...</td>\n",
       "      <td>Infosys</td>\n",
       "      <td>active listening and questioning, an eye for d...</td>\n",
       "    </tr>\n",
       "    <tr>\n",
       "      <th>2</th>\n",
       "      <td>Technology Lead- React JS</td>\n",
       "      <td>https://sjobs.brassring.com/TGnewUI/Search/hom...</td>\n",
       "      <td>bachelor's degree or foreign equivalent requir...</td>\n",
       "      <td>Infosys</td>\n",
       "      <td>bachelor's degree or foreign equivalent requir...</td>\n",
       "    </tr>\n",
       "    <tr>\n",
       "      <th>3</th>\n",
       "      <td>Privacy Analyst</td>\n",
       "      <td>https://sjobs.brassring.com/TGnewUI/Search/hom...</td>\n",
       "      <td>candidate can be located anywhere in usa. this...</td>\n",
       "      <td>Infosys</td>\n",
       "      <td>candidate can be located anywhere in usa. this...</td>\n",
       "    </tr>\n",
       "    <tr>\n",
       "      <th>4</th>\n",
       "      <td>Network Administrator</td>\n",
       "      <td>https://sjobs.brassring.com/TGnewUI/Search/hom...</td>\n",
       "      <td>bachelor’s degree or foreign equivalent requi...</td>\n",
       "      <td>Infosys</td>\n",
       "      <td>bachelor’s degree or foreign equivalent requi...</td>\n",
       "    </tr>\n",
       "  </tbody>\n",
       "</table>\n",
       "</div>"
      ],
      "text/plain": [
       "                             TITLE  \\\n",
       "0                  Spark Developer   \n",
       "1  Java Production Support Analyst   \n",
       "2        Technology Lead- React JS   \n",
       "3                  Privacy Analyst   \n",
       "4            Network Administrator   \n",
       "\n",
       "                                                LINK  \\\n",
       "0  https://sjobs.brassring.com/TGnewUI/Search/hom...   \n",
       "1  https://sjobs.brassring.com/TGnewUI/Search/hom...   \n",
       "2  https://sjobs.brassring.com/TGnewUI/Search/hom...   \n",
       "3  https://sjobs.brassring.com/TGnewUI/Search/hom...   \n",
       "4  https://sjobs.brassring.com/TGnewUI/Search/hom...   \n",
       "\n",
       "                                      QUALIFICATIONS  COMPANY  \\\n",
       "0  knowledge of customer care operations experien...  Infosys   \n",
       "1  active listening and questioning, an eye for d...  Infosys   \n",
       "2  bachelor's degree or foreign equivalent requir...  Infosys   \n",
       "3  candidate can be located anywhere in usa. this...  Infosys   \n",
       "4   bachelor’s degree or foreign equivalent requi...  Infosys   \n",
       "\n",
       "                                         DESCRIPTION  \n",
       "0  knowledge of customer care operations experien...  \n",
       "1  active listening and questioning, an eye for d...  \n",
       "2  bachelor's degree or foreign equivalent requir...  \n",
       "3  candidate can be located anywhere in usa. this...  \n",
       "4   bachelor’s degree or foreign equivalent requi...  "
      ]
     },
     "execution_count": 23,
     "metadata": {},
     "output_type": "execute_result"
    }
   ],
   "source": [
    "df['COMPANY'] = 'Infosys'\n",
    "df['DESCRIPTION'] = df['QUALIFICATIONS']\n",
    "df.head()"
   ]
  },
  {
   "cell_type": "code",
   "execution_count": 24,
   "id": "e7a881cf",
   "metadata": {},
   "outputs": [],
   "source": [
    "df.to_csv('infosys_usa_ jobs.csv')"
   ]
  },
  {
   "cell_type": "code",
   "execution_count": 25,
   "id": "63b31b42",
   "metadata": {},
   "outputs": [
    {
     "data": {
      "text/html": [
       "<div>\n",
       "<style scoped>\n",
       "    .dataframe tbody tr th:only-of-type {\n",
       "        vertical-align: middle;\n",
       "    }\n",
       "\n",
       "    .dataframe tbody tr th {\n",
       "        vertical-align: top;\n",
       "    }\n",
       "\n",
       "    .dataframe thead th {\n",
       "        text-align: right;\n",
       "    }\n",
       "</style>\n",
       "<table border=\"1\" class=\"dataframe\">\n",
       "  <thead>\n",
       "    <tr style=\"text-align: right;\">\n",
       "      <th></th>\n",
       "      <th>COMPANY</th>\n",
       "      <th>TITLE</th>\n",
       "      <th>QUALIFICATIONS</th>\n",
       "      <th>LINK</th>\n",
       "      <th>DESCRIPTION</th>\n",
       "    </tr>\n",
       "  </thead>\n",
       "  <tbody>\n",
       "    <tr>\n",
       "      <th>0</th>\n",
       "      <td>Infosys</td>\n",
       "      <td>Spark Developer</td>\n",
       "      <td>knowledge of customer care operations experien...</td>\n",
       "      <td>https://sjobs.brassring.com/TGnewUI/Search/hom...</td>\n",
       "      <td>knowledge of customer care operations experien...</td>\n",
       "    </tr>\n",
       "    <tr>\n",
       "      <th>1</th>\n",
       "      <td>Infosys</td>\n",
       "      <td>Java Production Support Analyst</td>\n",
       "      <td>active listening and questioning, an eye for d...</td>\n",
       "      <td>https://sjobs.brassring.com/TGnewUI/Search/hom...</td>\n",
       "      <td>active listening and questioning, an eye for d...</td>\n",
       "    </tr>\n",
       "    <tr>\n",
       "      <th>2</th>\n",
       "      <td>Infosys</td>\n",
       "      <td>Technology Lead- React JS</td>\n",
       "      <td>bachelor's degree or foreign equivalent requir...</td>\n",
       "      <td>https://sjobs.brassring.com/TGnewUI/Search/hom...</td>\n",
       "      <td>bachelor's degree or foreign equivalent requir...</td>\n",
       "    </tr>\n",
       "    <tr>\n",
       "      <th>3</th>\n",
       "      <td>Infosys</td>\n",
       "      <td>Privacy Analyst</td>\n",
       "      <td>candidate can be located anywhere in usa. this...</td>\n",
       "      <td>https://sjobs.brassring.com/TGnewUI/Search/hom...</td>\n",
       "      <td>candidate can be located anywhere in usa. this...</td>\n",
       "    </tr>\n",
       "    <tr>\n",
       "      <th>4</th>\n",
       "      <td>Infosys</td>\n",
       "      <td>Network Administrator</td>\n",
       "      <td>bachelor’s degree or foreign equivalent requi...</td>\n",
       "      <td>https://sjobs.brassring.com/TGnewUI/Search/hom...</td>\n",
       "      <td>bachelor’s degree or foreign equivalent requi...</td>\n",
       "    </tr>\n",
       "  </tbody>\n",
       "</table>\n",
       "</div>"
      ],
      "text/plain": [
       "   COMPANY                            TITLE  \\\n",
       "0  Infosys                  Spark Developer   \n",
       "1  Infosys  Java Production Support Analyst   \n",
       "2  Infosys        Technology Lead- React JS   \n",
       "3  Infosys                  Privacy Analyst   \n",
       "4  Infosys            Network Administrator   \n",
       "\n",
       "                                      QUALIFICATIONS  \\\n",
       "0  knowledge of customer care operations experien...   \n",
       "1  active listening and questioning, an eye for d...   \n",
       "2  bachelor's degree or foreign equivalent requir...   \n",
       "3  candidate can be located anywhere in usa. this...   \n",
       "4   bachelor’s degree or foreign equivalent requi...   \n",
       "\n",
       "                                                LINK  \\\n",
       "0  https://sjobs.brassring.com/TGnewUI/Search/hom...   \n",
       "1  https://sjobs.brassring.com/TGnewUI/Search/hom...   \n",
       "2  https://sjobs.brassring.com/TGnewUI/Search/hom...   \n",
       "3  https://sjobs.brassring.com/TGnewUI/Search/hom...   \n",
       "4  https://sjobs.brassring.com/TGnewUI/Search/hom...   \n",
       "\n",
       "                                         DESCRIPTION  \n",
       "0  knowledge of customer care operations experien...  \n",
       "1  active listening and questioning, an eye for d...  \n",
       "2  bachelor's degree or foreign equivalent requir...  \n",
       "3  candidate can be located anywhere in usa. this...  \n",
       "4   bachelor’s degree or foreign equivalent requi...  "
      ]
     },
     "execution_count": 25,
     "metadata": {},
     "output_type": "execute_result"
    }
   ],
   "source": [
    "df = pd.read_csv('infosys_usa_ jobs.csv')\n",
    "df = df.reindex(columns=['COMPANY', 'TITLE', 'QUALIFICATIONS', 'LINK', 'DESCRIPTION'])\n",
    "df.head()"
   ]
  },
  {
   "cell_type": "code",
   "execution_count": 26,
   "id": "f1e62086",
   "metadata": {},
   "outputs": [],
   "source": [
    "df.to_csv('infosys_usa_ jobs.csv')"
   ]
  },
  {
   "cell_type": "code",
   "execution_count": null,
   "id": "002962d1",
   "metadata": {},
   "outputs": [],
   "source": []
  }
 ],
 "metadata": {
  "kernelspec": {
   "display_name": "Python 3 (ipykernel)",
   "language": "python",
   "name": "python3"
  },
  "language_info": {
   "codemirror_mode": {
    "name": "ipython",
    "version": 3
   },
   "file_extension": ".py",
   "mimetype": "text/x-python",
   "name": "python",
   "nbconvert_exporter": "python",
   "pygments_lexer": "ipython3",
   "version": "3.9.7"
  }
 },
 "nbformat": 4,
 "nbformat_minor": 5
}

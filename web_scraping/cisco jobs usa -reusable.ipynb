{
 "cells": [
  {
   "cell_type": "code",
   "execution_count": 2,
   "id": "aa8ed824",
   "metadata": {},
   "outputs": [],
   "source": [
    "from selenium import webdriver\n",
    "import pandas as pd\n",
    "import numpy as np"
   ]
  },
  {
   "cell_type": "code",
   "execution_count": 2,
   "id": "26de228f",
   "metadata": {},
   "outputs": [
    {
     "name": "stdout",
     "output_type": "stream",
     "text": [
      "last page scraped:  18\n"
     ]
    }
   ],
   "source": [
    "job_title = []\n",
    "job_link = []\n",
    "\n",
    "x = 1\n",
    "i = 0\n",
    "\n",
    "while x > 0:\n",
    "\n",
    "    try:\n",
    "        url = 'https://jobs.cisco.com/jobs/SearchJobs/?21178=%5B169482%5D&21178_format=6020&listFilterMode=1&projectOffset='+str(i*25)\n",
    "    \n",
    "        driver = webdriver.Chrome()\n",
    "        driver.implicitly_wait(20)\n",
    "        driver.get(url)\n",
    "\n",
    "        table = driver.find_element_by_xpath('//*[@id=\"content\"]/div/div[2]/table')\n",
    "\n",
    "        for j in range(1,25):\n",
    "            job_title.append(table.find_element_by_xpath('//*[@id=\"content\"]/div/div[2]/table/tbody/tr['+str(j)+']/td[1]/a').text)\n",
    "            job_link.append(table.find_element_by_xpath('//*[@id=\"content\"]/div/div[2]/table/tbody/tr['+str(j)+']/td[1]/a').get_attribute('href'))\n",
    "        driver.close()\n",
    "        i += 1\n",
    "    except:\n",
    "        print('last page scraped: ', i)\n",
    "        x -= 1\n",
    "# Go to the below url to check how many total pages there are and compare with the last page scraped value.\n",
    "# https://jobs.cisco.com/jobs/SearchJobs/?21178=%5B169482%5D&21178_format=6020&listFilterMode=1&projectOffset=0"
   ]
  },
  {
   "cell_type": "code",
   "execution_count": 3,
   "id": "dbe83db6",
   "metadata": {},
   "outputs": [
    {
     "name": "stdout",
     "output_type": "stream",
     "text": [
      "446 446\n"
     ]
    }
   ],
   "source": [
    "print(len(job_title), len(job_link))"
   ]
  },
  {
   "cell_type": "code",
   "execution_count": 4,
   "id": "727ef009",
   "metadata": {},
   "outputs": [
    {
     "data": {
      "text/html": [
       "<div>\n",
       "<style scoped>\n",
       "    .dataframe tbody tr th:only-of-type {\n",
       "        vertical-align: middle;\n",
       "    }\n",
       "\n",
       "    .dataframe tbody tr th {\n",
       "        vertical-align: top;\n",
       "    }\n",
       "\n",
       "    .dataframe thead th {\n",
       "        text-align: right;\n",
       "    }\n",
       "</style>\n",
       "<table border=\"1\" class=\"dataframe\">\n",
       "  <thead>\n",
       "    <tr style=\"text-align: right;\">\n",
       "      <th></th>\n",
       "      <th>job_title</th>\n",
       "      <th>job_link</th>\n",
       "    </tr>\n",
       "  </thead>\n",
       "  <tbody>\n",
       "    <tr>\n",
       "      <th>0</th>\n",
       "      <td>Senior Technical Program Manager</td>\n",
       "      <td>https://jobs.cisco.com/jobs/ProjectDetail/Seni...</td>\n",
       "    </tr>\n",
       "    <tr>\n",
       "      <th>1</th>\n",
       "      <td>Technical Program Manager, Supply Chain</td>\n",
       "      <td>https://jobs.cisco.com/jobs/ProjectDetail/Tech...</td>\n",
       "    </tr>\n",
       "    <tr>\n",
       "      <th>2</th>\n",
       "      <td>Technical Product Owner</td>\n",
       "      <td>https://jobs.cisco.com/jobs/ProjectDetail/Tech...</td>\n",
       "    </tr>\n",
       "    <tr>\n",
       "      <th>3</th>\n",
       "      <td>Software Acceleration Sales Business Developme...</td>\n",
       "      <td>https://jobs.cisco.com/jobs/ProjectDetail/Soft...</td>\n",
       "    </tr>\n",
       "    <tr>\n",
       "      <th>4</th>\n",
       "      <td>Technical Consulting Engineer (1394769)</td>\n",
       "      <td>https://jobs.cisco.com/jobs/ProjectDetail/Tech...</td>\n",
       "    </tr>\n",
       "  </tbody>\n",
       "</table>\n",
       "</div>"
      ],
      "text/plain": [
       "                                           job_title  \\\n",
       "0                   Senior Technical Program Manager   \n",
       "1            Technical Program Manager, Supply Chain   \n",
       "2                            Technical Product Owner   \n",
       "3  Software Acceleration Sales Business Developme...   \n",
       "4            Technical Consulting Engineer (1394769)   \n",
       "\n",
       "                                            job_link  \n",
       "0  https://jobs.cisco.com/jobs/ProjectDetail/Seni...  \n",
       "1  https://jobs.cisco.com/jobs/ProjectDetail/Tech...  \n",
       "2  https://jobs.cisco.com/jobs/ProjectDetail/Tech...  \n",
       "3  https://jobs.cisco.com/jobs/ProjectDetail/Soft...  \n",
       "4  https://jobs.cisco.com/jobs/ProjectDetail/Tech...  "
      ]
     },
     "execution_count": 4,
     "metadata": {},
     "output_type": "execute_result"
    }
   ],
   "source": [
    "df = pd.DataFrame(zip(job_title, job_link))\n",
    "df.columns = ['job_title', 'job_link']\n",
    "df.head()"
   ]
  },
  {
   "cell_type": "code",
   "execution_count": 5,
   "id": "2cc804ae",
   "metadata": {},
   "outputs": [
    {
     "data": {
      "text/html": [
       "<div>\n",
       "<style scoped>\n",
       "    .dataframe tbody tr th:only-of-type {\n",
       "        vertical-align: middle;\n",
       "    }\n",
       "\n",
       "    .dataframe tbody tr th {\n",
       "        vertical-align: top;\n",
       "    }\n",
       "\n",
       "    .dataframe thead th {\n",
       "        text-align: right;\n",
       "    }\n",
       "</style>\n",
       "<table border=\"1\" class=\"dataframe\">\n",
       "  <thead>\n",
       "    <tr style=\"text-align: right;\">\n",
       "      <th></th>\n",
       "      <th>job_title</th>\n",
       "      <th>job_link</th>\n",
       "      <th>job_desc</th>\n",
       "    </tr>\n",
       "  </thead>\n",
       "  <tbody>\n",
       "    <tr>\n",
       "      <th>0</th>\n",
       "      <td>Senior Technical Program Manager</td>\n",
       "      <td>https://jobs.cisco.com/jobs/ProjectDetail/Seni...</td>\n",
       "      <td>NaN</td>\n",
       "    </tr>\n",
       "    <tr>\n",
       "      <th>1</th>\n",
       "      <td>Technical Program Manager, Supply Chain</td>\n",
       "      <td>https://jobs.cisco.com/jobs/ProjectDetail/Tech...</td>\n",
       "      <td>NaN</td>\n",
       "    </tr>\n",
       "    <tr>\n",
       "      <th>2</th>\n",
       "      <td>Technical Product Owner</td>\n",
       "      <td>https://jobs.cisco.com/jobs/ProjectDetail/Tech...</td>\n",
       "      <td>NaN</td>\n",
       "    </tr>\n",
       "    <tr>\n",
       "      <th>3</th>\n",
       "      <td>Software Acceleration Sales Business Developme...</td>\n",
       "      <td>https://jobs.cisco.com/jobs/ProjectDetail/Soft...</td>\n",
       "      <td>NaN</td>\n",
       "    </tr>\n",
       "    <tr>\n",
       "      <th>4</th>\n",
       "      <td>Technical Consulting Engineer (1394769)</td>\n",
       "      <td>https://jobs.cisco.com/jobs/ProjectDetail/Tech...</td>\n",
       "      <td>NaN</td>\n",
       "    </tr>\n",
       "  </tbody>\n",
       "</table>\n",
       "</div>"
      ],
      "text/plain": [
       "                                           job_title  \\\n",
       "0                   Senior Technical Program Manager   \n",
       "1            Technical Program Manager, Supply Chain   \n",
       "2                            Technical Product Owner   \n",
       "3  Software Acceleration Sales Business Developme...   \n",
       "4            Technical Consulting Engineer (1394769)   \n",
       "\n",
       "                                            job_link  job_desc  \n",
       "0  https://jobs.cisco.com/jobs/ProjectDetail/Seni...       NaN  \n",
       "1  https://jobs.cisco.com/jobs/ProjectDetail/Tech...       NaN  \n",
       "2  https://jobs.cisco.com/jobs/ProjectDetail/Tech...       NaN  \n",
       "3  https://jobs.cisco.com/jobs/ProjectDetail/Soft...       NaN  \n",
       "4  https://jobs.cisco.com/jobs/ProjectDetail/Tech...       NaN  "
      ]
     },
     "execution_count": 5,
     "metadata": {},
     "output_type": "execute_result"
    }
   ],
   "source": [
    "df['job_desc'] = np.nan\n",
    "df.head()"
   ]
  },
  {
   "cell_type": "markdown",
   "id": "a9ad577b",
   "metadata": {},
   "source": [
    "May work to remove these paragraphs\n",
    "to avoid = ['Who we are', 'Cisco’s ONEx organization is', 'Message to applicants', \n",
    "            'When available, the salary range posted', 'At Cisco Meraki' ]"
   ]
  },
  {
   "cell_type": "code",
   "execution_count": 44,
   "id": "7271b6b1",
   "metadata": {},
   "outputs": [],
   "source": [
    "for i in range(len(df['job_link'])):\n",
    "    try:\n",
    "\n",
    "        url = (df['job_link'][i])\n",
    "        driver = webdriver.Chrome()\n",
    "        driver.get(url)\n",
    "\n",
    "        txt = driver.find_element_by_xpath('//*[@id=\"content\"]/div/div[2]/div/div[2]/div[3]/div/div[1]')\n",
    "        desc = txt.find_elements_by_tag_name('li')\n",
    "        df['job_desc'][i] = ''\n",
    "\n",
    "        for d in desc:\n",
    "            df['job_desc'][i] = df['job_desc'][i]+' '+d.text\n",
    "\n",
    "        driver.close()\n",
    "        \n",
    "    except:\n",
    "        df['job_desc'][i] = np.nan"
   ]
  },
  {
   "cell_type": "code",
   "execution_count": 49,
   "id": "66b644a0",
   "metadata": {},
   "outputs": [
    {
     "data": {
      "text/plain": [
       "' You will work with Product Owners in the support of business processes & capabilities. Conduct deep analysis of various attributes within the Quote to Cash processes. Define, analyze and translate business requirements and Use Cases to provide functional requirements to IT Team, partnering with Product Managers, Business team members and SMEs. Identify operational improvement opportunities through analysis of business drivers and practices. Evaluate solutions in light of operational impacts and influence solutions that improve the quality of operational delivery and customer experience Align with business architecture business rules, policies, key business decisions, cross-program dependencies, and high-level solution designs. Support work intake process and end to end impact analysis for CRs. Drives capability co-design sessions, requirements assessment & evaluate IT solution on quality, and negotiate options Aligns with business architecture business rules, policies, critical business decisions, cross-program dependencies, and high-level solution designs Evaluate solutions in the light of operational impacts and influence to enhance the quality of capability delivery and partner experience. Improve end to end Commerce Experience The ability to act as liaison conveying strategy, business requirements, and information needs of the business to IT teams and cross functional partners. Identify, document, and communicate process changes to business collaborators Experience in Agile methodologies, working in sprints Understanding of Sales Processes, experience collaborating with Sales teams and leadership Bachelor’s degree in business or related field or an MBA. Minimum 10+ years of relevant Business Analyst/ Product Owner experience Outstanding analytical and conceptual thinking skills. Ability to influence partners and work closely with them to resolve acceptable solutions. Excellent documentation skills. Excellent analytical and conceptual thinking skills. Experience crafting detailed reports and giving presentations. Proficiency in Microsoft applications, including Word, Excel, and Outlook. A track record of following through on commitments. Excellent planning, interpersonal, and leadership skills. A history of leading and supporting successful projects. Familiarity with Cisco technologies is a huge plus Experience working in JIRA is a huge plus'"
      ]
     },
     "execution_count": 49,
     "metadata": {},
     "output_type": "execute_result"
    }
   ],
   "source": [
    "df['job_desc'][2]"
   ]
  },
  {
   "cell_type": "code",
   "execution_count": 11,
   "id": "fcb28b5d",
   "metadata": {},
   "outputs": [
    {
     "data": {
      "text/plain": [
       "job_title    0\n",
       "job_link     0\n",
       "job_desc     3\n",
       "dtype: int64"
      ]
     },
     "execution_count": 11,
     "metadata": {},
     "output_type": "execute_result"
    }
   ],
   "source": [
    "df.isna().sum()"
   ]
  },
  {
   "cell_type": "code",
   "execution_count": 12,
   "id": "182edd98",
   "metadata": {},
   "outputs": [
    {
     "data": {
      "text/plain": [
       "443"
      ]
     },
     "execution_count": 12,
     "metadata": {},
     "output_type": "execute_result"
    }
   ],
   "source": [
    "df = df.dropna()\n",
    "len(df)"
   ]
  },
  {
   "cell_type": "code",
   "execution_count": 13,
   "id": "df3a24b9",
   "metadata": {},
   "outputs": [
    {
     "data": {
      "text/html": [
       "<div>\n",
       "<style scoped>\n",
       "    .dataframe tbody tr th:only-of-type {\n",
       "        vertical-align: middle;\n",
       "    }\n",
       "\n",
       "    .dataframe tbody tr th {\n",
       "        vertical-align: top;\n",
       "    }\n",
       "\n",
       "    .dataframe thead th {\n",
       "        text-align: right;\n",
       "    }\n",
       "</style>\n",
       "<table border=\"1\" class=\"dataframe\">\n",
       "  <thead>\n",
       "    <tr style=\"text-align: right;\">\n",
       "      <th></th>\n",
       "      <th>job_title</th>\n",
       "      <th>job_link</th>\n",
       "      <th>job_desc</th>\n",
       "    </tr>\n",
       "  </thead>\n",
       "  <tbody>\n",
       "    <tr>\n",
       "      <th>137</th>\n",
       "      <td>Engineering Project Specialist - ThousandEyes</td>\n",
       "      <td>https://jobs.cisco.com/jobs/ProjectDetail/Engi...</td>\n",
       "      <td>Work on special projects with Engineering lea...</td>\n",
       "    </tr>\n",
       "    <tr>\n",
       "      <th>251</th>\n",
       "      <td>Federal Civilian Account Manager</td>\n",
       "      <td>https://jobs.cisco.com/jobs/ProjectDetail/Fede...</td>\n",
       "      <td></td>\n",
       "    </tr>\n",
       "    <tr>\n",
       "      <th>397</th>\n",
       "      <td>Designated Services Manager - NGFW, ISE (1385916)</td>\n",
       "      <td>https://jobs.cisco.com/jobs/ProjectDetail/Desi...</td>\n",
       "      <td>Identity Services Engines &amp; Access Management...</td>\n",
       "    </tr>\n",
       "    <tr>\n",
       "      <th>293</th>\n",
       "      <td>Software Engineer- Fullstack Developer 1390720</td>\n",
       "      <td>https://jobs.cisco.com/jobs/ProjectDetail/Soft...</td>\n",
       "      <td>Create an outstanding secure device experienc...</td>\n",
       "    </tr>\n",
       "    <tr>\n",
       "      <th>88</th>\n",
       "      <td>Technical Consulting Engineer- 1391968</td>\n",
       "      <td>https://jobs.cisco.com/jobs/ProjectDetail/Tech...</td>\n",
       "      <td>You have 4-6 years of relevant experience. Yo...</td>\n",
       "    </tr>\n",
       "  </tbody>\n",
       "</table>\n",
       "</div>"
      ],
      "text/plain": [
       "                                             job_title  \\\n",
       "137      Engineering Project Specialist - ThousandEyes   \n",
       "251                   Federal Civilian Account Manager   \n",
       "397  Designated Services Manager - NGFW, ISE (1385916)   \n",
       "293     Software Engineer- Fullstack Developer 1390720   \n",
       "88              Technical Consulting Engineer- 1391968   \n",
       "\n",
       "                                              job_link  \\\n",
       "137  https://jobs.cisco.com/jobs/ProjectDetail/Engi...   \n",
       "251  https://jobs.cisco.com/jobs/ProjectDetail/Fede...   \n",
       "397  https://jobs.cisco.com/jobs/ProjectDetail/Desi...   \n",
       "293  https://jobs.cisco.com/jobs/ProjectDetail/Soft...   \n",
       "88   https://jobs.cisco.com/jobs/ProjectDetail/Tech...   \n",
       "\n",
       "                                              job_desc  \n",
       "137   Work on special projects with Engineering lea...  \n",
       "251                                                     \n",
       "397   Identity Services Engines & Access Management...  \n",
       "293   Create an outstanding secure device experienc...  \n",
       "88    You have 4-6 years of relevant experience. Yo...  "
      ]
     },
     "execution_count": 13,
     "metadata": {},
     "output_type": "execute_result"
    }
   ],
   "source": [
    "df.sample(5)"
   ]
  },
  {
   "cell_type": "code",
   "execution_count": 21,
   "id": "9d601651",
   "metadata": {
    "scrolled": true
   },
   "outputs": [],
   "source": [
    "to_drop = df[df['job_desc'] == ''].index"
   ]
  },
  {
   "cell_type": "code",
   "execution_count": 22,
   "id": "91fc334b",
   "metadata": {},
   "outputs": [
    {
     "data": {
      "text/plain": [
       "379"
      ]
     },
     "execution_count": 22,
     "metadata": {},
     "output_type": "execute_result"
    }
   ],
   "source": [
    "df = df.drop(to_drop)\n",
    "len(df)"
   ]
  },
  {
   "cell_type": "code",
   "execution_count": 58,
   "id": "4de6beb0",
   "metadata": {},
   "outputs": [
    {
     "data": {
      "text/html": [
       "<div>\n",
       "<style scoped>\n",
       "    .dataframe tbody tr th:only-of-type {\n",
       "        vertical-align: middle;\n",
       "    }\n",
       "\n",
       "    .dataframe tbody tr th {\n",
       "        vertical-align: top;\n",
       "    }\n",
       "\n",
       "    .dataframe thead th {\n",
       "        text-align: right;\n",
       "    }\n",
       "</style>\n",
       "<table border=\"1\" class=\"dataframe\">\n",
       "  <thead>\n",
       "    <tr style=\"text-align: right;\">\n",
       "      <th></th>\n",
       "      <th>job_title</th>\n",
       "      <th>job_link</th>\n",
       "      <th>job_desc</th>\n",
       "    </tr>\n",
       "  </thead>\n",
       "  <tbody>\n",
       "    <tr>\n",
       "      <th>0</th>\n",
       "      <td>Senior Technical Program Manager</td>\n",
       "      <td>https://jobs.cisco.com/jobs/ProjectDetail/Seni...</td>\n",
       "      <td>Drive end-to-end engineering delivery and own...</td>\n",
       "    </tr>\n",
       "    <tr>\n",
       "      <th>1</th>\n",
       "      <td>Technical Program Manager, Supply Chain</td>\n",
       "      <td>https://jobs.cisco.com/jobs/ProjectDetail/Tech...</td>\n",
       "      <td>Work with a cross-functional team across Supp...</td>\n",
       "    </tr>\n",
       "    <tr>\n",
       "      <th>2</th>\n",
       "      <td>Technical Product Owner</td>\n",
       "      <td>https://jobs.cisco.com/jobs/ProjectDetail/Tech...</td>\n",
       "      <td>You will work with Product Owners in the supp...</td>\n",
       "    </tr>\n",
       "    <tr>\n",
       "      <th>3</th>\n",
       "      <td>Technical Consulting Engineer (1394769)</td>\n",
       "      <td>https://jobs.cisco.com/jobs/ProjectDetail/Tech...</td>\n",
       "      <td>Provides second/third level technical support...</td>\n",
       "    </tr>\n",
       "    <tr>\n",
       "      <th>4</th>\n",
       "      <td>Technical Consulting Engineer</td>\n",
       "      <td>https://jobs.cisco.com/jobs/ProjectDetail/Tech...</td>\n",
       "      <td>Bachelor's degree in a technical field or 5 y...</td>\n",
       "    </tr>\n",
       "  </tbody>\n",
       "</table>\n",
       "</div>"
      ],
      "text/plain": [
       "                                 job_title  \\\n",
       "0         Senior Technical Program Manager   \n",
       "1  Technical Program Manager, Supply Chain   \n",
       "2                  Technical Product Owner   \n",
       "3  Technical Consulting Engineer (1394769)   \n",
       "4            Technical Consulting Engineer   \n",
       "\n",
       "                                            job_link  \\\n",
       "0  https://jobs.cisco.com/jobs/ProjectDetail/Seni...   \n",
       "1  https://jobs.cisco.com/jobs/ProjectDetail/Tech...   \n",
       "2  https://jobs.cisco.com/jobs/ProjectDetail/Tech...   \n",
       "3  https://jobs.cisco.com/jobs/ProjectDetail/Tech...   \n",
       "4  https://jobs.cisco.com/jobs/ProjectDetail/Tech...   \n",
       "\n",
       "                                            job_desc  \n",
       "0   Drive end-to-end engineering delivery and own...  \n",
       "1   Work with a cross-functional team across Supp...  \n",
       "2   You will work with Product Owners in the supp...  \n",
       "3   Provides second/third level technical support...  \n",
       "4   Bachelor's degree in a technical field or 5 y...  "
      ]
     },
     "execution_count": 58,
     "metadata": {},
     "output_type": "execute_result"
    }
   ],
   "source": [
    "df = df.reset_index(drop=True)\n",
    "df.head()"
   ]
  },
  {
   "cell_type": "code",
   "execution_count": 59,
   "id": "26858e0d",
   "metadata": {},
   "outputs": [],
   "source": [
    "df.to_csv('cisco_jobs_usa.csv')"
   ]
  },
  {
   "cell_type": "code",
   "execution_count": 60,
   "id": "69ca6094",
   "metadata": {
    "scrolled": true
   },
   "outputs": [
    {
     "data": {
      "text/html": [
       "<div>\n",
       "<style scoped>\n",
       "    .dataframe tbody tr th:only-of-type {\n",
       "        vertical-align: middle;\n",
       "    }\n",
       "\n",
       "    .dataframe tbody tr th {\n",
       "        vertical-align: top;\n",
       "    }\n",
       "\n",
       "    .dataframe thead th {\n",
       "        text-align: right;\n",
       "    }\n",
       "</style>\n",
       "<table border=\"1\" class=\"dataframe\">\n",
       "  <thead>\n",
       "    <tr style=\"text-align: right;\">\n",
       "      <th></th>\n",
       "      <th>job_title</th>\n",
       "      <th>job_link</th>\n",
       "      <th>job_desc</th>\n",
       "    </tr>\n",
       "  </thead>\n",
       "  <tbody>\n",
       "    <tr>\n",
       "      <th>281</th>\n",
       "      <td>Security Research Engineer</td>\n",
       "      <td>https://jobs.cisco.com/jobs/ProjectDetail/Secu...</td>\n",
       "      <td>Research security threats, attacker technique...</td>\n",
       "    </tr>\n",
       "    <tr>\n",
       "      <th>254</th>\n",
       "      <td>System Architect - Production Network, Google/WEB</td>\n",
       "      <td>https://jobs.cisco.com/jobs/ProjectDetail/Syst...</td>\n",
       "      <td>The latest on relevant solutions, products an...</td>\n",
       "    </tr>\n",
       "    <tr>\n",
       "      <th>160</th>\n",
       "      <td>Associate Hardware Engineer - Acacia</td>\n",
       "      <td>https://jobs.cisco.com/jobs/ProjectDetail/Asso...</td>\n",
       "      <td>Experienced in reading and interpreting BOMs,...</td>\n",
       "    </tr>\n",
       "    <tr>\n",
       "      <th>134</th>\n",
       "      <td>Technical Leader Software - Multicast Routing ...</td>\n",
       "      <td>https://jobs.cisco.com/jobs/ProjectDetail/Tech...</td>\n",
       "      <td>Proficient in C programming. Experience with ...</td>\n",
       "    </tr>\n",
       "    <tr>\n",
       "      <th>117</th>\n",
       "      <td>Sr. Software Engineer - Endpoint Health-Duo Se...</td>\n",
       "      <td>https://jobs.cisco.com/jobs/ProjectDetail/Sr-S...</td>\n",
       "      <td>7+ years of development experience, especiall...</td>\n",
       "    </tr>\n",
       "  </tbody>\n",
       "</table>\n",
       "</div>"
      ],
      "text/plain": [
       "                                             job_title  \\\n",
       "281                         Security Research Engineer   \n",
       "254  System Architect - Production Network, Google/WEB   \n",
       "160               Associate Hardware Engineer - Acacia   \n",
       "134  Technical Leader Software - Multicast Routing ...   \n",
       "117  Sr. Software Engineer - Endpoint Health-Duo Se...   \n",
       "\n",
       "                                              job_link  \\\n",
       "281  https://jobs.cisco.com/jobs/ProjectDetail/Secu...   \n",
       "254  https://jobs.cisco.com/jobs/ProjectDetail/Syst...   \n",
       "160  https://jobs.cisco.com/jobs/ProjectDetail/Asso...   \n",
       "134  https://jobs.cisco.com/jobs/ProjectDetail/Tech...   \n",
       "117  https://jobs.cisco.com/jobs/ProjectDetail/Sr-S...   \n",
       "\n",
       "                                              job_desc  \n",
       "281   Research security threats, attacker technique...  \n",
       "254   The latest on relevant solutions, products an...  \n",
       "160   Experienced in reading and interpreting BOMs,...  \n",
       "134   Proficient in C programming. Experience with ...  \n",
       "117   7+ years of development experience, especiall...  "
      ]
     },
     "execution_count": 60,
     "metadata": {},
     "output_type": "execute_result"
    }
   ],
   "source": [
    "df.sample(5)"
   ]
  },
  {
   "cell_type": "code",
   "execution_count": 10,
   "id": "07bab0a3",
   "metadata": {
    "scrolled": true
   },
   "outputs": [
    {
     "data": {
      "text/html": [
       "<div>\n",
       "<style scoped>\n",
       "    .dataframe tbody tr th:only-of-type {\n",
       "        vertical-align: middle;\n",
       "    }\n",
       "\n",
       "    .dataframe tbody tr th {\n",
       "        vertical-align: top;\n",
       "    }\n",
       "\n",
       "    .dataframe thead th {\n",
       "        text-align: right;\n",
       "    }\n",
       "</style>\n",
       "<table border=\"1\" class=\"dataframe\">\n",
       "  <thead>\n",
       "    <tr style=\"text-align: right;\">\n",
       "      <th></th>\n",
       "      <th>Unnamed: 0</th>\n",
       "      <th>job_title</th>\n",
       "      <th>job_link</th>\n",
       "      <th>job_desc</th>\n",
       "    </tr>\n",
       "  </thead>\n",
       "  <tbody>\n",
       "    <tr>\n",
       "      <th>0</th>\n",
       "      <td>0</td>\n",
       "      <td>Senior Technical Program Manager</td>\n",
       "      <td>https://jobs.cisco.com/jobs/ProjectDetail/Seni...</td>\n",
       "      <td>Drive end-to-end engineering delivery and own...</td>\n",
       "    </tr>\n",
       "    <tr>\n",
       "      <th>1</th>\n",
       "      <td>1</td>\n",
       "      <td>Technical Program Manager, Supply Chain</td>\n",
       "      <td>https://jobs.cisco.com/jobs/ProjectDetail/Tech...</td>\n",
       "      <td>Work with a cross-functional team across Supp...</td>\n",
       "    </tr>\n",
       "    <tr>\n",
       "      <th>2</th>\n",
       "      <td>2</td>\n",
       "      <td>Technical Product Owner</td>\n",
       "      <td>https://jobs.cisco.com/jobs/ProjectDetail/Tech...</td>\n",
       "      <td>You will work with Product Owners in the supp...</td>\n",
       "    </tr>\n",
       "    <tr>\n",
       "      <th>3</th>\n",
       "      <td>3</td>\n",
       "      <td>Technical Consulting Engineer (1394769)</td>\n",
       "      <td>https://jobs.cisco.com/jobs/ProjectDetail/Tech...</td>\n",
       "      <td>Provides second/third level technical support...</td>\n",
       "    </tr>\n",
       "    <tr>\n",
       "      <th>4</th>\n",
       "      <td>4</td>\n",
       "      <td>Technical Consulting Engineer</td>\n",
       "      <td>https://jobs.cisco.com/jobs/ProjectDetail/Tech...</td>\n",
       "      <td>Bachelor's degree in a technical field or 5 y...</td>\n",
       "    </tr>\n",
       "  </tbody>\n",
       "</table>\n",
       "</div>"
      ],
      "text/plain": [
       "   Unnamed: 0                                job_title  \\\n",
       "0           0         Senior Technical Program Manager   \n",
       "1           1  Technical Program Manager, Supply Chain   \n",
       "2           2                  Technical Product Owner   \n",
       "3           3  Technical Consulting Engineer (1394769)   \n",
       "4           4            Technical Consulting Engineer   \n",
       "\n",
       "                                            job_link  \\\n",
       "0  https://jobs.cisco.com/jobs/ProjectDetail/Seni...   \n",
       "1  https://jobs.cisco.com/jobs/ProjectDetail/Tech...   \n",
       "2  https://jobs.cisco.com/jobs/ProjectDetail/Tech...   \n",
       "3  https://jobs.cisco.com/jobs/ProjectDetail/Tech...   \n",
       "4  https://jobs.cisco.com/jobs/ProjectDetail/Tech...   \n",
       "\n",
       "                                            job_desc  \n",
       "0   Drive end-to-end engineering delivery and own...  \n",
       "1   Work with a cross-functional team across Supp...  \n",
       "2   You will work with Product Owners in the supp...  \n",
       "3   Provides second/third level technical support...  \n",
       "4   Bachelor's degree in a technical field or 5 y...  "
      ]
     },
     "execution_count": 10,
     "metadata": {},
     "output_type": "execute_result"
    }
   ],
   "source": [
    "df = pd.read_csv('cisco_jobs_usa.csv')\n",
    "df.head()"
   ]
  },
  {
   "cell_type": "code",
   "execution_count": 11,
   "id": "16be5017",
   "metadata": {},
   "outputs": [],
   "source": [
    "df.columns = ['COMPANY', 'TITLE', 'LINK', 'QUALIFICATIONS']"
   ]
  },
  {
   "cell_type": "code",
   "execution_count": 13,
   "id": "fe55989e",
   "metadata": {},
   "outputs": [
    {
     "data": {
      "text/html": [
       "<div>\n",
       "<style scoped>\n",
       "    .dataframe tbody tr th:only-of-type {\n",
       "        vertical-align: middle;\n",
       "    }\n",
       "\n",
       "    .dataframe tbody tr th {\n",
       "        vertical-align: top;\n",
       "    }\n",
       "\n",
       "    .dataframe thead th {\n",
       "        text-align: right;\n",
       "    }\n",
       "</style>\n",
       "<table border=\"1\" class=\"dataframe\">\n",
       "  <thead>\n",
       "    <tr style=\"text-align: right;\">\n",
       "      <th></th>\n",
       "      <th>COMPANY</th>\n",
       "      <th>TITLE</th>\n",
       "      <th>LINK</th>\n",
       "      <th>QUALIFICATIONS</th>\n",
       "      <th>DESCRIPTION</th>\n",
       "    </tr>\n",
       "  </thead>\n",
       "  <tbody>\n",
       "    <tr>\n",
       "      <th>0</th>\n",
       "      <td>CISCO</td>\n",
       "      <td>Senior Technical Program Manager</td>\n",
       "      <td>https://jobs.cisco.com/jobs/ProjectDetail/Seni...</td>\n",
       "      <td>Drive end-to-end engineering delivery and own...</td>\n",
       "      <td>Drive end-to-end engineering delivery and own...</td>\n",
       "    </tr>\n",
       "    <tr>\n",
       "      <th>1</th>\n",
       "      <td>CISCO</td>\n",
       "      <td>Technical Program Manager, Supply Chain</td>\n",
       "      <td>https://jobs.cisco.com/jobs/ProjectDetail/Tech...</td>\n",
       "      <td>Work with a cross-functional team across Supp...</td>\n",
       "      <td>Work with a cross-functional team across Supp...</td>\n",
       "    </tr>\n",
       "    <tr>\n",
       "      <th>2</th>\n",
       "      <td>CISCO</td>\n",
       "      <td>Technical Product Owner</td>\n",
       "      <td>https://jobs.cisco.com/jobs/ProjectDetail/Tech...</td>\n",
       "      <td>You will work with Product Owners in the supp...</td>\n",
       "      <td>You will work with Product Owners in the supp...</td>\n",
       "    </tr>\n",
       "    <tr>\n",
       "      <th>3</th>\n",
       "      <td>CISCO</td>\n",
       "      <td>Technical Consulting Engineer (1394769)</td>\n",
       "      <td>https://jobs.cisco.com/jobs/ProjectDetail/Tech...</td>\n",
       "      <td>Provides second/third level technical support...</td>\n",
       "      <td>Provides second/third level technical support...</td>\n",
       "    </tr>\n",
       "    <tr>\n",
       "      <th>4</th>\n",
       "      <td>CISCO</td>\n",
       "      <td>Technical Consulting Engineer</td>\n",
       "      <td>https://jobs.cisco.com/jobs/ProjectDetail/Tech...</td>\n",
       "      <td>Bachelor's degree in a technical field or 5 y...</td>\n",
       "      <td>Bachelor's degree in a technical field or 5 y...</td>\n",
       "    </tr>\n",
       "  </tbody>\n",
       "</table>\n",
       "</div>"
      ],
      "text/plain": [
       "  COMPANY                                    TITLE  \\\n",
       "0   CISCO         Senior Technical Program Manager   \n",
       "1   CISCO  Technical Program Manager, Supply Chain   \n",
       "2   CISCO                  Technical Product Owner   \n",
       "3   CISCO  Technical Consulting Engineer (1394769)   \n",
       "4   CISCO            Technical Consulting Engineer   \n",
       "\n",
       "                                                LINK  \\\n",
       "0  https://jobs.cisco.com/jobs/ProjectDetail/Seni...   \n",
       "1  https://jobs.cisco.com/jobs/ProjectDetail/Tech...   \n",
       "2  https://jobs.cisco.com/jobs/ProjectDetail/Tech...   \n",
       "3  https://jobs.cisco.com/jobs/ProjectDetail/Tech...   \n",
       "4  https://jobs.cisco.com/jobs/ProjectDetail/Tech...   \n",
       "\n",
       "                                      QUALIFICATIONS  \\\n",
       "0   Drive end-to-end engineering delivery and own...   \n",
       "1   Work with a cross-functional team across Supp...   \n",
       "2   You will work with Product Owners in the supp...   \n",
       "3   Provides second/third level technical support...   \n",
       "4   Bachelor's degree in a technical field or 5 y...   \n",
       "\n",
       "                                         DESCRIPTION  \n",
       "0   Drive end-to-end engineering delivery and own...  \n",
       "1   Work with a cross-functional team across Supp...  \n",
       "2   You will work with Product Owners in the supp...  \n",
       "3   Provides second/third level technical support...  \n",
       "4   Bachelor's degree in a technical field or 5 y...  "
      ]
     },
     "execution_count": 13,
     "metadata": {},
     "output_type": "execute_result"
    }
   ],
   "source": [
    "df['COMPANY'] = 'CISCO'\n",
    "df['DESCRIPTION'] = df['QUALIFICATIONS']\n",
    "df.head()"
   ]
  },
  {
   "cell_type": "code",
   "execution_count": 15,
   "id": "e64b1c05",
   "metadata": {},
   "outputs": [],
   "source": [
    "df.to_csv('cisco_jobs_usa.csv')"
   ]
  },
  {
   "cell_type": "code",
   "execution_count": null,
   "id": "15118319",
   "metadata": {},
   "outputs": [],
   "source": []
  }
 ],
 "metadata": {
  "kernelspec": {
   "display_name": "Python 3 (ipykernel)",
   "language": "python",
   "name": "python3"
  },
  "language_info": {
   "codemirror_mode": {
    "name": "ipython",
    "version": 3
   },
   "file_extension": ".py",
   "mimetype": "text/x-python",
   "name": "python",
   "nbconvert_exporter": "python",
   "pygments_lexer": "ipython3",
   "version": "3.9.7"
  }
 },
 "nbformat": 4,
 "nbformat_minor": 5
}

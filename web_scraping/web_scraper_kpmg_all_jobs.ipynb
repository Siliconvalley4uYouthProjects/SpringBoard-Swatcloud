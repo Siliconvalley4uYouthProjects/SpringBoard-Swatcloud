{
 "cells": [
  {
   "cell_type": "code",
   "execution_count": 1,
   "id": "3667fa7f",
   "metadata": {},
   "outputs": [],
   "source": [
    "from selenium import webdriver\n",
    "import requests\n",
    "from bs4 import BeautifulSoup\n",
    "from selenium import webdriver\n",
    "import time"
   ]
  },
  {
   "cell_type": "code",
   "execution_count": 2,
   "id": "925ed802",
   "metadata": {},
   "outputs": [],
   "source": [
    "import pandas as pd"
   ]
  },
  {
   "cell_type": "code",
   "execution_count": 3,
   "id": "ab4a5782",
   "metadata": {},
   "outputs": [],
   "source": [
    "#chromedriver_path = \"C:\\Program Files (x86)\\chromedriver.exe\""
   ]
  },
  {
   "cell_type": "code",
   "execution_count": 4,
   "id": "c4682543",
   "metadata": {},
   "outputs": [],
   "source": [
    "chrome_options = webdriver.ChromeOptions()\n",
    "chrome_options.add_argument('--headless')\n",
    "chrome_options.add_argument('--no-sandbox')\n",
    "chrome_options.add_argument('--disable-dev-shm-usage')"
   ]
  },
  {
   "cell_type": "code",
   "execution_count": 5,
   "id": "a1e8ae6d",
   "metadata": {},
   "outputs": [],
   "source": [
    "# technology jobs\n",
    "url1 = 'https://www.kpmguscareers.com/job-search/?career-level-parents=Experienced%7C&career-level=&keyword=technology&location=&radius=50&spage='\n",
    "url2 = ''"
   ]
  },
  {
   "cell_type": "code",
   "execution_count": 7,
   "id": "6ce77595",
   "metadata": {},
   "outputs": [],
   "source": [
    "def kpmg_get_jobs(url1, url2):\n",
    "    \"\"\"\n",
    "    retrieve job title and job link from every page in the URL\n",
    "    \"\"\"\n",
    "    job_title=[]\n",
    "    job_link=[]\n",
    "    page_num = 0\n",
    "\n",
    "    driver=webdriver.Chrome(options = chrome_options)\n",
    "    URL = url1 + str(page_num) + url2\n",
    "    driver.get(URL)\n",
    "    time.sleep(1)\n",
    "    soup = BeautifulSoup(driver.page_source, 'html.parser')\n",
    "    \n",
    "    while soup.find_all('div', {'class': 'h5 text-dark-grey'}) :\n",
    "        job_title.extend([td.text for td in soup.find_all('div', {'class': 'h5 text-dark-grey'})])\n",
    "        job_link.extend(['https://www.kpmguscareers.com' + td['href'] for td in soup.findAll(\"a\", {\"class\": \"box-shadow d-block\"})])\n",
    "        driver.quit()\n",
    "\n",
    "        page_num += 1\n",
    "        driver=webdriver.Chrome(options = chrome_options)\n",
    "        URL = url1 + str(page_num) + url2\n",
    "        driver.get(URL)\n",
    "        time.sleep(1)\n",
    "        soup = BeautifulSoup(driver.page_source, 'html.parser')\n",
    "    \n",
    "    driver.quit() \n",
    "    return job_title,job_link"
   ]
  },
  {
   "cell_type": "code",
   "execution_count": 8,
   "id": "5a162e66",
   "metadata": {},
   "outputs": [],
   "source": [
    "job_title, job_link = kpmg_get_jobs(url1, url2)"
   ]
  },
  {
   "cell_type": "code",
   "execution_count": 33,
   "id": "39e03c13",
   "metadata": {},
   "outputs": [],
   "source": [
    "def remove_space(s):\n",
    "  s_new = s.replace('\\n', '').replace('\\xa0', '')\n",
    "  while '  ' in s_new:\n",
    "    s_new = s_new.replace('  ', ' ')\n",
    "  return s_new"
   ]
  },
  {
   "cell_type": "code",
   "execution_count": 17,
   "id": "c4038c42",
   "metadata": {},
   "outputs": [],
   "source": [
    "#job_title = [remove_space(job) for job in job_title]"
   ]
  },
  {
   "cell_type": "code",
   "execution_count": 40,
   "id": "4f397bc2",
   "metadata": {},
   "outputs": [],
   "source": [
    "# create a dataframe that contains job titles and links for all job categories\n",
    "df_title_link = pd.DataFrame(zip(job_title, job_link), columns=['JOB_TITLE', 'JOB_LINK'])"
   ]
  },
  {
   "cell_type": "code",
   "execution_count": 42,
   "id": "1bd1c1d2",
   "metadata": {},
   "outputs": [
    {
     "name": "stdout",
     "output_type": "stream",
     "text": [
      "929\n"
     ]
    }
   ],
   "source": [
    "# drop the duplicates\n",
    "df_title_link = df_title_link.drop_duplicates()"
   ]
  },
  {
   "cell_type": "markdown",
   "id": "03336eff",
   "metadata": {},
   "source": [
    "## Extract job descriptions and qualifications for each job"
   ]
  },
  {
   "cell_type": "code",
   "execution_count": 22,
   "id": "b47f8be0",
   "metadata": {},
   "outputs": [],
   "source": [
    "# retrieve job qualifications and descriptions\n",
    "def job_description(title, link):\n",
    "    qualifications = []\n",
    "    description = []\n",
    "    jobtitle = []\n",
    "    joblink = []\n",
    "\n",
    "    driver=webdriver.Chrome('chromedriver',options=chrome_options)\n",
    "    for i in range(len(link)):\n",
    "        URL=link[i]\n",
    "        driver.get(URL)\n",
    "        time.sleep(2)\n",
    "        soup = BeautifulSoup(driver.page_source, 'html.parser')\n",
    "        \n",
    "        s = ''\n",
    "        d = ''\n",
    "\n",
    "        try:\n",
    "          tag = soup.find(\"h3\", text='Qualifications:').findNextSibling(\"ul\").find_all('li')\n",
    "          if tag:\n",
    "            for t in tag:\n",
    "                s = s + '. ' + t.text\n",
    "        except: pass\n",
    "\n",
    "        try:\n",
    "          tag = soup.find(\"h3\", text='Responsibilities:').findNextSibling(\"ul\").find_all('li')\n",
    "          if tag:\n",
    "            for t in tag:\n",
    "                d = d + '. ' + t.text\n",
    "        except: pass\n",
    "        \n",
    "        qualifications.append(s)\n",
    "        description.append(d)   \n",
    "        jobtitle.append(title[i])\n",
    "        joblink.append(link[i])\n",
    "        \n",
    "    driver.quit()            \n",
    " \n",
    "    return jobtitle, link, qualifications, description"
   ]
  },
  {
   "cell_type": "code",
   "execution_count": 30,
   "id": "a337813d",
   "metadata": {},
   "outputs": [
    {
     "name": "stdout",
     "output_type": "stream",
     "text": [
      "49 no description\n",
      "91 no qual\n",
      "91 no description\n",
      "186 no qual\n",
      "186 no description\n",
      "207 no qual\n",
      "228 no qual\n",
      "228 no description\n",
      "235 no description\n",
      "403 no qual\n",
      "403 no description\n",
      "418 no qual\n",
      "418 no description\n",
      "483 no qual\n",
      "483 no description\n",
      "507 no description\n",
      "530 no qual\n",
      "530 no description\n",
      "547 no qual\n",
      "547 no description\n",
      "852 no qual\n",
      "852 no description\n",
      "888 no qual\n",
      "895 no qual\n",
      "904 no qual\n",
      "904 no description\n"
     ]
    }
   ],
   "source": [
    "# retrieve the qualification for each job.\n",
    "title, link, qual, descrp = job_description(df_title_link['JOB_TITLE'].values, df_title_link['JOB_LINK'].values)"
   ]
  },
  {
   "cell_type": "code",
   "execution_count": 47,
   "id": "b680bb86",
   "metadata": {},
   "outputs": [],
   "source": [
    "qual_cleaned = [remove_space(q) for q in qual]\n",
    "descrp_cleaned = [remove_space(d) for d in descrp]"
   ]
  },
  {
   "cell_type": "code",
   "execution_count": 49,
   "id": "68b3da2b",
   "metadata": {},
   "outputs": [
    {
     "data": {
      "text/html": [
       "<div>\n",
       "<style scoped>\n",
       "    .dataframe tbody tr th:only-of-type {\n",
       "        vertical-align: middle;\n",
       "    }\n",
       "\n",
       "    .dataframe tbody tr th {\n",
       "        vertical-align: top;\n",
       "    }\n",
       "\n",
       "    .dataframe thead th {\n",
       "        text-align: right;\n",
       "    }\n",
       "</style>\n",
       "<table border=\"1\" class=\"dataframe\">\n",
       "  <thead>\n",
       "    <tr style=\"text-align: right;\">\n",
       "      <th></th>\n",
       "      <th>COMPANY</th>\n",
       "      <th>TITLE</th>\n",
       "      <th>QUALIFICATIONS</th>\n",
       "      <th>LINK</th>\n",
       "      <th>DESCRIPTION</th>\n",
       "    </tr>\n",
       "  </thead>\n",
       "  <tbody>\n",
       "    <tr>\n",
       "      <th>0</th>\n",
       "      <td>KPMG</td>\n",
       "      <td>Cyber Security Manager - Remote</td>\n",
       "      <td>. Minimum five years of recent experience mana...</td>\n",
       "      <td>https://www.kpmguscareers.com/jobdetail/?jobId...</td>\n",
       "      <td>. Oversee the application vulnerability respon...</td>\n",
       "    </tr>\n",
       "    <tr>\n",
       "      <th>1</th>\n",
       "      <td>KPMG</td>\n",
       "      <td>Temporary Help Desk Representative</td>\n",
       "      <td>. Minimum one year of recent experience in Ser...</td>\n",
       "      <td>https://www.kpmguscareers.com/jobdetail/?jobId...</td>\n",
       "      <td>. Provide level one phone/chat support; meet/e...</td>\n",
       "    </tr>\n",
       "    <tr>\n",
       "      <th>2</th>\n",
       "      <td>KPMG</td>\n",
       "      <td>Manager, Microsoft 360 Program Operations Netw...</td>\n",
       "      <td>. Minimum three years of recent experience in ...</td>\n",
       "      <td>https://www.kpmguscareers.com/jobdetail/?jobId...</td>\n",
       "      <td>. Manage Digital Investment Hub: Project Manag...</td>\n",
       "    </tr>\n",
       "    <tr>\n",
       "      <th>3</th>\n",
       "      <td>KPMG</td>\n",
       "      <td>Associate or Senior Associate, Global Trade Te...</td>\n",
       "      <td>. Minimum two years of recent experience for a...</td>\n",
       "      <td>https://www.kpmguscareers.com/jobdetail/?jobId...</td>\n",
       "      <td>. Support implementation of Global Trade Techn...</td>\n",
       "    </tr>\n",
       "    <tr>\n",
       "      <th>4</th>\n",
       "      <td>KPMG</td>\n",
       "      <td>Audit Manager</td>\n",
       "      <td>. Minimum of five years of current and/or rece...</td>\n",
       "      <td>https://www.kpmguscareers.com/jobdetail/?jobId...</td>\n",
       "      <td>. Manage and supervise the execution of extern...</td>\n",
       "    </tr>\n",
       "  </tbody>\n",
       "</table>\n",
       "</div>"
      ],
      "text/plain": [
       "  COMPANY                                              TITLE  \\\n",
       "0    KPMG                    Cyber Security Manager - Remote   \n",
       "1    KPMG                 Temporary Help Desk Representative   \n",
       "2    KPMG  Manager, Microsoft 360 Program Operations Netw...   \n",
       "3    KPMG  Associate or Senior Associate, Global Trade Te...   \n",
       "4    KPMG                                      Audit Manager   \n",
       "\n",
       "                                      QUALIFICATIONS  \\\n",
       "0  . Minimum five years of recent experience mana...   \n",
       "1  . Minimum one year of recent experience in Ser...   \n",
       "2  . Minimum three years of recent experience in ...   \n",
       "3  . Minimum two years of recent experience for a...   \n",
       "4  . Minimum of five years of current and/or rece...   \n",
       "\n",
       "                                                LINK  \\\n",
       "0  https://www.kpmguscareers.com/jobdetail/?jobId...   \n",
       "1  https://www.kpmguscareers.com/jobdetail/?jobId...   \n",
       "2  https://www.kpmguscareers.com/jobdetail/?jobId...   \n",
       "3  https://www.kpmguscareers.com/jobdetail/?jobId...   \n",
       "4  https://www.kpmguscareers.com/jobdetail/?jobId...   \n",
       "\n",
       "                                         DESCRIPTION  \n",
       "0  . Oversee the application vulnerability respon...  \n",
       "1  . Provide level one phone/chat support; meet/e...  \n",
       "2  . Manage Digital Investment Hub: Project Manag...  \n",
       "3  . Support implementation of Global Trade Techn...  \n",
       "4  . Manage and supervise the execution of extern...  "
      ]
     },
     "execution_count": 49,
     "metadata": {},
     "output_type": "execute_result"
    }
   ],
   "source": [
    "#create a dataframe from basic qualification and preferred qualification\n",
    "df = pd.DataFrame(zip(title, qual_cleaned, link, descrp_cleaned))\n",
    "df.columns = ['TITLE', 'QUALIFICATIONS', 'LINK', 'DESCRIPTION']\n",
    "df['COMPANY'] = 'KPMG'\n",
    "df = df.iloc[:, [4, 0, 1, 2, 3]]"
   ]
  },
  {
   "cell_type": "code",
   "execution_count": 51,
   "id": "c0afe5c2",
   "metadata": {},
   "outputs": [
    {
     "name": "stdout",
     "output_type": "stream",
     "text": [
      "13\n"
     ]
    },
    {
     "data": {
      "text/plain": [
       "(916, 5)"
      ]
     },
     "execution_count": 51,
     "metadata": {},
     "output_type": "execute_result"
    }
   ],
   "source": [
    "# look for empty QUALIFICATION entries\n",
    "def get_empty(df, colname) :\n",
    "  empty_idx=[]\n",
    "  for i in range(len(df[colname])):\n",
    "    count = len(df[colname][i])\n",
    "    if count<=10 : empty_idx.append(i)\n",
    "    else: pass\n",
    "  return empty_idx\n",
    "\n",
    "empty_mini_q = get_empty(df, 'QUALIFICATIONS')\n",
    "print(len(empty_mini_q))\n",
    "\n",
    "# drop the empty Qualification entries\n",
    "df.drop(empty_mini_q, inplace=True)"
   ]
  },
  {
   "cell_type": "code",
   "execution_count": 54,
   "id": "2f689514",
   "metadata": {},
   "outputs": [],
   "source": [
    "#remove the duplicated jobs\n",
    "df_nodup = df.drop_duplicates()\n",
    "print(\"There are {} jobs from KPMG.\".format(df_nodup.shape[0]))\n",
    "\n",
    "df_nodup.to_csv('kpmg_technology_jobs_cleaned.csv')"
   ]
  },
  {
   "cell_type": "code",
   "execution_count": null,
   "id": "41aac964",
   "metadata": {},
   "outputs": [],
   "source": []
  }
 ],
 "metadata": {
  "kernelspec": {
   "display_name": "Python 3 (ipykernel)",
   "language": "python",
   "name": "python3"
  },
  "language_info": {
   "codemirror_mode": {
    "name": "ipython",
    "version": 3
   },
   "file_extension": ".py",
   "mimetype": "text/x-python",
   "name": "python",
   "nbconvert_exporter": "python",
   "pygments_lexer": "ipython3",
   "version": "3.10.4"
  }
 },
 "nbformat": 4,
 "nbformat_minor": 5
}

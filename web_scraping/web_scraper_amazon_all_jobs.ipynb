{
 "cells": [
  {
   "cell_type": "code",
   "execution_count": 1,
   "metadata": {
    "colab": {
     "base_uri": "https://localhost:8080/"
    },
    "executionInfo": {
     "elapsed": 18411,
     "status": "ok",
     "timestamp": 1674010771087,
     "user": {
      "displayName": "Honglin Yuan",
      "userId": "04648091830488477838"
     },
     "user_tz": 360
    },
    "id": "nKMAXL49tUzn",
    "outputId": "fa95c9a2-a4e4-4795-b635-39507952d1de"
   },
   "outputs": [
    {
     "name": "stdout",
     "output_type": "stream",
     "text": [
      "Looking in indexes: https://pypi.org/simple, https://us-python.pkg.dev/colab-wheels/public/simple/\n",
      "Collecting selenium\n",
      "  Downloading selenium-4.7.2-py3-none-any.whl (6.3 MB)\n",
      "\u001b[2K     \u001b[90m━━━━━━━━━━━━━━━━━━━━━━━━━━━━━━━━━━━━━━━━\u001b[0m \u001b[32m6.3/6.3 MB\u001b[0m \u001b[31m33.7 MB/s\u001b[0m eta \u001b[36m0:00:00\u001b[0m\n",
      "\u001b[?25hCollecting urllib3[socks]~=1.26\n",
      "  Downloading urllib3-1.26.14-py2.py3-none-any.whl (140 kB)\n",
      "\u001b[2K     \u001b[90m━━━━━━━━━━━━━━━━━━━━━━━━━━━━━━━━━━━━━━━\u001b[0m \u001b[32m140.6/140.6 KB\u001b[0m \u001b[31m3.4 MB/s\u001b[0m eta \u001b[36m0:00:00\u001b[0m\n",
      "\u001b[?25hRequirement already satisfied: certifi>=2021.10.8 in /usr/local/lib/python3.8/dist-packages (from selenium) (2022.12.7)\n",
      "Collecting trio-websocket~=0.9\n",
      "  Downloading trio_websocket-0.9.2-py3-none-any.whl (16 kB)\n",
      "Collecting trio~=0.17\n",
      "  Downloading trio-0.22.0-py3-none-any.whl (384 kB)\n",
      "\u001b[2K     \u001b[90m━━━━━━━━━━━━━━━━━━━━━━━━━━━━━━━━━━━━━━\u001b[0m \u001b[32m384.9/384.9 KB\u001b[0m \u001b[31m10.6 MB/s\u001b[0m eta \u001b[36m0:00:00\u001b[0m\n",
      "\u001b[?25hCollecting outcome\n",
      "  Downloading outcome-1.2.0-py2.py3-none-any.whl (9.7 kB)\n",
      "Collecting exceptiongroup>=1.0.0rc9\n",
      "  Downloading exceptiongroup-1.1.0-py3-none-any.whl (14 kB)\n",
      "Collecting async-generator>=1.9\n",
      "  Downloading async_generator-1.10-py3-none-any.whl (18 kB)\n",
      "Requirement already satisfied: idna in /usr/local/lib/python3.8/dist-packages (from trio~=0.17->selenium) (2.10)\n",
      "Requirement already satisfied: attrs>=19.2.0 in /usr/local/lib/python3.8/dist-packages (from trio~=0.17->selenium) (22.2.0)\n",
      "Collecting sniffio\n",
      "  Downloading sniffio-1.3.0-py3-none-any.whl (10 kB)\n",
      "Requirement already satisfied: sortedcontainers in /usr/local/lib/python3.8/dist-packages (from trio~=0.17->selenium) (2.4.0)\n",
      "Collecting wsproto>=0.14\n",
      "  Downloading wsproto-1.2.0-py3-none-any.whl (24 kB)\n",
      "Requirement already satisfied: PySocks!=1.5.7,<2.0,>=1.5.6 in /usr/local/lib/python3.8/dist-packages (from urllib3[socks]~=1.26->selenium) (1.7.1)\n",
      "Collecting h11<1,>=0.9.0\n",
      "  Downloading h11-0.14.0-py3-none-any.whl (58 kB)\n",
      "\u001b[2K     \u001b[90m━━━━━━━━━━━━━━━━━━━━━━━━━━━━━━━━━━━━━━━━\u001b[0m \u001b[32m58.3/58.3 KB\u001b[0m \u001b[31m3.5 MB/s\u001b[0m eta \u001b[36m0:00:00\u001b[0m\n",
      "\u001b[?25hInstalling collected packages: urllib3, sniffio, outcome, h11, exceptiongroup, async-generator, wsproto, trio, trio-websocket, selenium\n",
      "  Attempting uninstall: urllib3\n",
      "    Found existing installation: urllib3 1.24.3\n",
      "    Uninstalling urllib3-1.24.3:\n",
      "      Successfully uninstalled urllib3-1.24.3\n",
      "Successfully installed async-generator-1.10 exceptiongroup-1.1.0 h11-0.14.0 outcome-1.2.0 selenium-4.7.2 sniffio-1.3.0 trio-0.22.0 trio-websocket-0.9.2 urllib3-1.26.14 wsproto-1.2.0\n"
     ]
    }
   ],
   "source": [
    "!pip install selenium"
   ]
  },
  {
   "cell_type": "code",
   "execution_count": null,
   "metadata": {
    "id": "jMWtu3duz7tu"
   },
   "outputs": [],
   "source": [
    "!apt-get update # to update ubuntu to correctly run apt install"
   ]
  },
  {
   "cell_type": "code",
   "execution_count": null,
   "metadata": {
    "id": "ZnveLGQ40AQu"
   },
   "outputs": [],
   "source": [
    "!cp /usr/lib/chromium-browser/chromedriver /usr/bin\n"
   ]
  },
  {
   "cell_type": "code",
   "execution_count": null,
   "metadata": {
    "id": "mhsGh7Q20HZH"
   },
   "outputs": [],
   "source": [
    "import sys\n",
    "sys.path.insert(0,'/usr/lib/chromium-browser/chromedriver')"
   ]
  },
  {
   "cell_type": "code",
   "execution_count": null,
   "metadata": {
    "id": "eSTuXLZQz27l"
   },
   "outputs": [],
   "source": []
  },
  {
   "cell_type": "code",
   "execution_count": null,
   "metadata": {
    "id": "6Ncw7KTDEoTc"
   },
   "outputs": [],
   "source": [
    "import requests\n",
    "from bs4 import BeautifulSoup\n",
    "from selenium import webdriver\n",
    "from collections import OrderedDict\n",
    "from __future__ import unicode_literals\n",
    "import re\n",
    "import time"
   ]
  },
  {
   "cell_type": "code",
   "execution_count": null,
   "metadata": {
    "id": "nJdda6UHRC68"
   },
   "outputs": [],
   "source": [
    "import pandas as pd"
   ]
  },
  {
   "cell_type": "code",
   "execution_count": null,
   "metadata": {
    "colab": {
     "base_uri": "https://localhost:8080/"
    },
    "executionInfo": {
     "elapsed": 19398,
     "status": "ok",
     "timestamp": 1673970285981,
     "user": {
      "displayName": "Honglin Yuan",
      "userId": "04648091830488477838"
     },
     "user_tz": 360
    },
    "id": "lrm9RYdlZOKT",
    "outputId": "a1d9885e-022f-4db7-e7c0-53315f45add1"
   },
   "outputs": [
    {
     "name": "stdout",
     "output_type": "stream",
     "text": [
      "Mounted at /content/drive\n"
     ]
    }
   ],
   "source": [
    "from google.colab import drive\n",
    "drive.mount('/content/drive')"
   ]
  },
  {
   "cell_type": "code",
   "execution_count": null,
   "metadata": {
    "id": "7bRgA6zVgCMa"
   },
   "outputs": [],
   "source": [
    "chrome_options = webdriver.ChromeOptions()\n",
    "chrome_options.add_argument('--headless')\n",
    "chrome_options.add_argument('--no-sandbox')\n",
    "chrome_options.add_argument('--disable-dev-shm-usage')\n"
   ]
  },
  {
   "cell_type": "markdown",
   "metadata": {
    "id": "g1EE7YnSSD-D"
   },
   "source": [
    "## Extract the job title and links"
   ]
  },
  {
   "cell_type": "code",
   "execution_count": null,
   "metadata": {
    "id": "yI701s6eWmXV"
   },
   "outputs": [],
   "source": [
    "# specify the strings for URL\n",
    "# url1 is the first part\n",
    "# url2 has different keywords\n",
    "\n",
    "url1 = 'https://www.amazon.jobs/en/search?offset='\n",
    "url2 = '&result_limit=10&sort=relevant&country%5B%5D=USA&country%5B%5D=IND&country%5B%5D=GBR&country%5B%5D=CAN&country%5B%5D=CRI&country%5B%5D=AUS&distanceType=Mi&radius=24km&latitude=&longitude=&loc_group_id=&loc_query=&base_query=&city=&country=&region=&county=&query_options=&'"
   ]
  },
  {
   "cell_type": "code",
   "execution_count": null,
   "metadata": {
    "id": "YM4dWq0qGIRg"
   },
   "outputs": [],
   "source": [
    "def amazon_get_jobs(url1, url2):\n",
    "    \"\"\"\n",
    "    retrieve job titles and links for each page\n",
    "    \"\"\"\n",
    "    job_title=[]\n",
    "    job_link=[]\n",
    "    page_num = 0\n",
    "\n",
    "    driver=webdriver.Chrome('chromedriver',options=chrome_options)\n",
    "    URL = url1 + str(page_num*10) + url2\n",
    "    driver.get(URL)\n",
    "    time.sleep(2)\n",
    "    soup = BeautifulSoup(driver.page_source, 'html.parser')\n",
    "    \n",
    "    while soup.find_all(\"h3\", {\"class\": \"job-title\"}):                 \n",
    "        job_title.extend([td.text for td in soup.findAll(\"h3\", {\"class\": \"job-title\"})])\n",
    "        job_link.extend(['https://www.amazon.jobs'+td.find('a').get('href') for td in soup.findAll(\"div\", {\"class\": \"job-tile\"})])\n",
    "        driver.quit()\n",
    "\n",
    "        page_num += 1        \n",
    "        driver=webdriver.Chrome('chromedriver',options=chrome_options)\n",
    "        URL = url1 + str(page_num*10) + url2\n",
    "        driver.get(URL)\n",
    "        time.sleep(2)\n",
    "        soup = BeautifulSoup(driver.page_source, 'html.parser')\n",
    "\n",
    "    driver.quit()   \n",
    "    return job_title,job_link"
   ]
  },
  {
   "cell_type": "code",
   "execution_count": null,
   "metadata": {
    "id": "uf2AXUi_Ss3J"
   },
   "outputs": [],
   "source": [
    "# get job titles and links for different categories of jobs\n",
    "job_title, job_link = amazon_get_jobs(url1, url2)"
   ]
  },
  {
   "cell_type": "code",
   "execution_count": null,
   "metadata": {
    "colab": {
     "base_uri": "https://localhost:8080/"
    },
    "executionInfo": {
     "elapsed": 152,
     "status": "ok",
     "timestamp": 1673975376210,
     "user": {
      "displayName": "Honglin Yuan",
      "userId": "04648091830488477838"
     },
     "user_tz": 360
    },
    "id": "_Mxj6XmYmLzG",
    "outputId": "a4095e0c-c998-450e-a4c5-3a52730dfdad"
   },
   "outputs": [
    {
     "name": "stdout",
     "output_type": "stream",
     "text": [
      "2030\n"
     ]
    }
   ],
   "source": [
    "print(len(job_title))"
   ]
  },
  {
   "cell_type": "code",
   "execution_count": null,
   "metadata": {
    "colab": {
     "base_uri": "https://localhost:8080/"
    },
    "executionInfo": {
     "elapsed": 125,
     "status": "ok",
     "timestamp": 1673975379002,
     "user": {
      "displayName": "Honglin Yuan",
      "userId": "04648091830488477838"
     },
     "user_tz": 360
    },
    "id": "boyCz2SZzrKO",
    "outputId": "138e80c6-a078-4c86-a4bb-9dbf459a3af8"
   },
   "outputs": [
    {
     "data": {
      "text/plain": [
       "['https://www.amazon.jobs/en/jobs/2293554/sap-data-governance-sap-mdg-architect',\n",
       " 'https://www.amazon.jobs/en/jobs/2318733/senior-finance-analyst-eu-amzl',\n",
       " 'https://www.amazon.jobs/en/jobs/2318992/business-analytics-leader-aws-sales-insights-analytics-and-data-science-siads',\n",
       " 'https://www.amazon.jobs/en/jobs/2318993/partner-sales-business-analyst-amer-partner-sales-operations',\n",
       " 'https://www.amazon.jobs/en/jobs/2318113/accounts-receivable-sr-financial-analyst-nam-aws-nam']"
      ]
     },
     "execution_count": 21,
     "metadata": {},
     "output_type": "execute_result"
    }
   ],
   "source": [
    "job_link[0:5]"
   ]
  },
  {
   "cell_type": "code",
   "execution_count": null,
   "metadata": {
    "colab": {
     "base_uri": "https://localhost:8080/"
    },
    "executionInfo": {
     "elapsed": 159,
     "status": "ok",
     "timestamp": 1673975387178,
     "user": {
      "displayName": "Honglin Yuan",
      "userId": "04648091830488477838"
     },
     "user_tz": 360
    },
    "id": "OOd6YBBKiuG6",
    "outputId": "d918c311-c714-4e03-881e-fae13f6a23d0"
   },
   "outputs": [
    {
     "name": "stdout",
     "output_type": "stream",
     "text": [
      "2030\n",
      "2030\n"
     ]
    }
   ],
   "source": [
    "# create a dataframe that contains job titles and links for all job categories\n",
    "df_title_link = pd.DataFrame(zip(job_title, job_link), columns=['JOB_TITLE', 'JOB_LINK'])\n",
    "\n",
    "print(len(df_title_link))\n",
    "\n",
    "# drop the duplicates\n",
    "df_title_link = df_title_link.drop_duplicates()\n",
    "print(len(df_title_link))"
   ]
  },
  {
   "cell_type": "code",
   "execution_count": null,
   "metadata": {
    "id": "kg1G2PdqjGzN"
   },
   "outputs": [],
   "source": [
    "# save the titles and links to csv\n",
    "df_title_link.to_csv('./drive/MyDrive/Swatcloud/web_scraper/amazon_jobs_titles_links_all.csv')"
   ]
  },
  {
   "cell_type": "markdown",
   "metadata": {
    "id": "DDn63gMIb-0t"
   },
   "source": [
    "## Extract job qualifications and save them to a dataframe"
   ]
  },
  {
   "cell_type": "code",
   "execution_count": null,
   "metadata": {
    "colab": {
     "base_uri": "https://localhost:8080/",
     "height": 206
    },
    "executionInfo": {
     "elapsed": 114,
     "status": "ok",
     "timestamp": 1673975392677,
     "user": {
      "displayName": "Honglin Yuan",
      "userId": "04648091830488477838"
     },
     "user_tz": 360
    },
    "id": "DHvpYAVcaGa_",
    "outputId": "a0b240f4-e0c9-4bfe-a7ed-0b8dd54fe994"
   },
   "outputs": [
    {
     "data": {
      "text/html": [
       "\n",
       "  <div id=\"df-5746055c-c881-4ffd-aa6d-abc7cd636adf\">\n",
       "    <div class=\"colab-df-container\">\n",
       "      <div>\n",
       "<style scoped>\n",
       "    .dataframe tbody tr th:only-of-type {\n",
       "        vertical-align: middle;\n",
       "    }\n",
       "\n",
       "    .dataframe tbody tr th {\n",
       "        vertical-align: top;\n",
       "    }\n",
       "\n",
       "    .dataframe thead th {\n",
       "        text-align: right;\n",
       "    }\n",
       "</style>\n",
       "<table border=\"1\" class=\"dataframe\">\n",
       "  <thead>\n",
       "    <tr style=\"text-align: right;\">\n",
       "      <th></th>\n",
       "      <th>JOB_TITLE</th>\n",
       "      <th>JOB_LINK</th>\n",
       "    </tr>\n",
       "  </thead>\n",
       "  <tbody>\n",
       "    <tr>\n",
       "      <th>0</th>\n",
       "      <td>SAP Data Governance (SAP MDG) Architect</td>\n",
       "      <td>https://www.amazon.jobs/en/jobs/2293554/sap-da...</td>\n",
       "    </tr>\n",
       "    <tr>\n",
       "      <th>1</th>\n",
       "      <td>Senior Finance Analyst EU AMZL</td>\n",
       "      <td>https://www.amazon.jobs/en/jobs/2318733/senior...</td>\n",
       "    </tr>\n",
       "    <tr>\n",
       "      <th>2</th>\n",
       "      <td>Business Analytics Leader, AWS, Sales Insights...</td>\n",
       "      <td>https://www.amazon.jobs/en/jobs/2318992/busine...</td>\n",
       "    </tr>\n",
       "    <tr>\n",
       "      <th>3</th>\n",
       "      <td>Partner Sales Business Analyst, AMER Partner S...</td>\n",
       "      <td>https://www.amazon.jobs/en/jobs/2318993/partne...</td>\n",
       "    </tr>\n",
       "    <tr>\n",
       "      <th>4</th>\n",
       "      <td>Accounts Receivable Sr. Financial Analyst - NA...</td>\n",
       "      <td>https://www.amazon.jobs/en/jobs/2318113/accoun...</td>\n",
       "    </tr>\n",
       "  </tbody>\n",
       "</table>\n",
       "</div>\n",
       "      <button class=\"colab-df-convert\" onclick=\"convertToInteractive('df-5746055c-c881-4ffd-aa6d-abc7cd636adf')\"\n",
       "              title=\"Convert this dataframe to an interactive table.\"\n",
       "              style=\"display:none;\">\n",
       "        \n",
       "  <svg xmlns=\"http://www.w3.org/2000/svg\" height=\"24px\"viewBox=\"0 0 24 24\"\n",
       "       width=\"24px\">\n",
       "    <path d=\"M0 0h24v24H0V0z\" fill=\"none\"/>\n",
       "    <path d=\"M18.56 5.44l.94 2.06.94-2.06 2.06-.94-2.06-.94-.94-2.06-.94 2.06-2.06.94zm-11 1L8.5 8.5l.94-2.06 2.06-.94-2.06-.94L8.5 2.5l-.94 2.06-2.06.94zm10 10l.94 2.06.94-2.06 2.06-.94-2.06-.94-.94-2.06-.94 2.06-2.06.94z\"/><path d=\"M17.41 7.96l-1.37-1.37c-.4-.4-.92-.59-1.43-.59-.52 0-1.04.2-1.43.59L10.3 9.45l-7.72 7.72c-.78.78-.78 2.05 0 2.83L4 21.41c.39.39.9.59 1.41.59.51 0 1.02-.2 1.41-.59l7.78-7.78 2.81-2.81c.8-.78.8-2.07 0-2.86zM5.41 20L4 18.59l7.72-7.72 1.47 1.35L5.41 20z\"/>\n",
       "  </svg>\n",
       "      </button>\n",
       "      \n",
       "  <style>\n",
       "    .colab-df-container {\n",
       "      display:flex;\n",
       "      flex-wrap:wrap;\n",
       "      gap: 12px;\n",
       "    }\n",
       "\n",
       "    .colab-df-convert {\n",
       "      background-color: #E8F0FE;\n",
       "      border: none;\n",
       "      border-radius: 50%;\n",
       "      cursor: pointer;\n",
       "      display: none;\n",
       "      fill: #1967D2;\n",
       "      height: 32px;\n",
       "      padding: 0 0 0 0;\n",
       "      width: 32px;\n",
       "    }\n",
       "\n",
       "    .colab-df-convert:hover {\n",
       "      background-color: #E2EBFA;\n",
       "      box-shadow: 0px 1px 2px rgba(60, 64, 67, 0.3), 0px 1px 3px 1px rgba(60, 64, 67, 0.15);\n",
       "      fill: #174EA6;\n",
       "    }\n",
       "\n",
       "    [theme=dark] .colab-df-convert {\n",
       "      background-color: #3B4455;\n",
       "      fill: #D2E3FC;\n",
       "    }\n",
       "\n",
       "    [theme=dark] .colab-df-convert:hover {\n",
       "      background-color: #434B5C;\n",
       "      box-shadow: 0px 1px 3px 1px rgba(0, 0, 0, 0.15);\n",
       "      filter: drop-shadow(0px 1px 2px rgba(0, 0, 0, 0.3));\n",
       "      fill: #FFFFFF;\n",
       "    }\n",
       "  </style>\n",
       "\n",
       "      <script>\n",
       "        const buttonEl =\n",
       "          document.querySelector('#df-5746055c-c881-4ffd-aa6d-abc7cd636adf button.colab-df-convert');\n",
       "        buttonEl.style.display =\n",
       "          google.colab.kernel.accessAllowed ? 'block' : 'none';\n",
       "\n",
       "        async function convertToInteractive(key) {\n",
       "          const element = document.querySelector('#df-5746055c-c881-4ffd-aa6d-abc7cd636adf');\n",
       "          const dataTable =\n",
       "            await google.colab.kernel.invokeFunction('convertToInteractive',\n",
       "                                                     [key], {});\n",
       "          if (!dataTable) return;\n",
       "\n",
       "          const docLinkHtml = 'Like what you see? Visit the ' +\n",
       "            '<a target=\"_blank\" href=https://colab.research.google.com/notebooks/data_table.ipynb>data table notebook</a>'\n",
       "            + ' to learn more about interactive tables.';\n",
       "          element.innerHTML = '';\n",
       "          dataTable['output_type'] = 'display_data';\n",
       "          await google.colab.output.renderOutput(dataTable, element);\n",
       "          const docLink = document.createElement('div');\n",
       "          docLink.innerHTML = docLinkHtml;\n",
       "          element.appendChild(docLink);\n",
       "        }\n",
       "      </script>\n",
       "    </div>\n",
       "  </div>\n",
       "  "
      ],
      "text/plain": [
       "                                           JOB_TITLE  \\\n",
       "0            SAP Data Governance (SAP MDG) Architect   \n",
       "1                     Senior Finance Analyst EU AMZL   \n",
       "2  Business Analytics Leader, AWS, Sales Insights...   \n",
       "3  Partner Sales Business Analyst, AMER Partner S...   \n",
       "4  Accounts Receivable Sr. Financial Analyst - NA...   \n",
       "\n",
       "                                            JOB_LINK  \n",
       "0  https://www.amazon.jobs/en/jobs/2293554/sap-da...  \n",
       "1  https://www.amazon.jobs/en/jobs/2318733/senior...  \n",
       "2  https://www.amazon.jobs/en/jobs/2318992/busine...  \n",
       "3  https://www.amazon.jobs/en/jobs/2318993/partne...  \n",
       "4  https://www.amazon.jobs/en/jobs/2318113/accoun...  "
      ]
     },
     "execution_count": 24,
     "metadata": {},
     "output_type": "execute_result"
    }
   ],
   "source": [
    "# load in the job titles and links from the csv file\n",
    "df_title_link = pd.read_csv('./drive/MyDrive/Swatcloud/web_scraper/amazon_jobs_titles_links_all.csv', index_col=0)\n",
    "df_title_link.head()"
   ]
  },
  {
   "cell_type": "code",
   "execution_count": null,
   "metadata": {
    "id": "fJeJGDHwmwEC"
   },
   "outputs": [],
   "source": [
    "# retrieve job qualifications and descriptions\n",
    "def job_description(title, link):\n",
    "    qualifications = []\n",
    "    description = []\n",
    "    jobtitle = []\n",
    "    joblink = []\n",
    "\n",
    "    driver=webdriver.Chrome('chromedriver',options=chrome_options)\n",
    "    for i in range(len(link)):\n",
    "        time.sleep(2)\n",
    "        URL=link[i]\n",
    "        driver.get(URL)\n",
    "        soup = BeautifulSoup(driver.page_source, 'html.parser')\n",
    "\n",
    "        s = ''\n",
    "        d = ''\n",
    "        try:\n",
    "          tag = soup.find(\"h2\", text='BASIC QUALIFICATIONS').parent\n",
    "          if tag.find('li'):\n",
    "            for t in tag.find_all('li'):\n",
    "              s = s + ' ' + t.text\n",
    "          else:\n",
    "            s = s + ' ' + tag.text\n",
    "        except:\n",
    "          print(i, 'no mini qual')\n",
    "\n",
    "        try:\n",
    "          tag = soup.find(\"h2\", text='PREFERRED QUALIFICATIONS').parent\n",
    "          if tag.find('li'):\n",
    "            for t in tag.find_all('li'):\n",
    "              s = s + ' ' + t.text\n",
    "          else:\n",
    "            s = s + ' ' + tag.text\n",
    "        except:\n",
    "          print(i, 'no pref qual')\n",
    "\n",
    "        try:\n",
    "          tag = soup.find(\"h2\", text='DESCRIPTION').parent\n",
    "          if tag:\n",
    "            d = tag.text\n",
    "        except:\n",
    "          print(i, 'no description')\n",
    "        \n",
    "        qualifications.append(s)\n",
    "        description.append(d)   \n",
    "        jobtitle.append(title[i])\n",
    "        joblink.append(link[i])\n",
    "\n",
    " \n",
    "    driver.quit()            \n",
    " \n",
    "    return jobtitle, link, qualifications, description"
   ]
  },
  {
   "cell_type": "code",
   "execution_count": null,
   "metadata": {
    "colab": {
     "base_uri": "https://localhost:8080/"
    },
    "executionInfo": {
     "elapsed": 6045782,
     "status": "ok",
     "timestamp": 1673985984466,
     "user": {
      "displayName": "Honglin Yuan",
      "userId": "04648091830488477838"
     },
     "user_tz": 360
    },
    "id": "Bi9__uoEmwRw",
    "outputId": "8e92522c-716d-42e1-a735-eda896e95e08"
   },
   "outputs": [
    {
     "name": "stdout",
     "output_type": "stream",
     "text": [
      "77 no mini qual\n",
      "77 no pref qual\n",
      "77 no description\n",
      "116 no pref qual\n",
      "117 no pref qual\n",
      "118 no pref qual\n",
      "130 no pref qual\n",
      "168 no pref qual\n",
      "169 no pref qual\n",
      "170 no pref qual\n",
      "171 no pref qual\n",
      "244 no pref qual\n",
      "284 no pref qual\n",
      "297 no mini qual\n",
      "297 no pref qual\n",
      "297 no description\n",
      "298 no mini qual\n",
      "298 no pref qual\n",
      "298 no description\n",
      "302 no mini qual\n",
      "302 no pref qual\n",
      "302 no description\n",
      "311 no mini qual\n",
      "311 no pref qual\n",
      "311 no description\n",
      "372 no mini qual\n",
      "372 no pref qual\n",
      "372 no description\n",
      "394 no pref qual\n",
      "404 no mini qual\n",
      "404 no pref qual\n",
      "404 no description\n",
      "407 no pref qual\n",
      "463 no mini qual\n",
      "463 no pref qual\n",
      "463 no description\n",
      "494 no pref qual\n",
      "512 no mini qual\n",
      "512 no pref qual\n",
      "512 no description\n",
      "516 no mini qual\n",
      "516 no pref qual\n",
      "516 no description\n",
      "557 no pref qual\n",
      "623 no pref qual\n",
      "633 no pref qual\n",
      "634 no mini qual\n",
      "634 no pref qual\n",
      "634 no description\n",
      "687 no pref qual\n",
      "689 no mini qual\n",
      "689 no pref qual\n",
      "689 no description\n",
      "732 no mini qual\n",
      "732 no pref qual\n",
      "732 no description\n",
      "778 no pref qual\n",
      "843 no mini qual\n",
      "843 no pref qual\n",
      "843 no description\n",
      "896 no pref qual\n",
      "897 no pref qual\n",
      "900 no pref qual\n",
      "901 no pref qual\n",
      "946 no pref qual\n",
      "947 no mini qual\n",
      "947 no pref qual\n",
      "947 no description\n",
      "948 no mini qual\n",
      "948 no pref qual\n",
      "948 no description\n",
      "959 no pref qual\n",
      "960 no pref qual\n",
      "980 no pref qual\n",
      "981 no pref qual\n",
      "985 no pref qual\n",
      "986 no pref qual\n",
      "989 no pref qual\n",
      "1001 no pref qual\n",
      "1005 no pref qual\n",
      "1006 no pref qual\n",
      "1007 no pref qual\n",
      "1008 no pref qual\n",
      "1009 no pref qual\n",
      "1010 no pref qual\n",
      "1020 no pref qual\n",
      "1029 no pref qual\n",
      "1035 no pref qual\n",
      "1090 no pref qual\n",
      "1132 no mini qual\n",
      "1132 no pref qual\n",
      "1132 no description\n",
      "1170 no pref qual\n",
      "1171 no pref qual\n",
      "1193 no pref qual\n",
      "1210 no pref qual\n",
      "1213 no pref qual\n",
      "1214 no pref qual\n",
      "1217 no pref qual\n",
      "1219 no pref qual\n",
      "1220 no pref qual\n",
      "1224 no pref qual\n",
      "1225 no pref qual\n",
      "1231 no pref qual\n",
      "1232 no pref qual\n",
      "1236 no pref qual\n",
      "1241 no pref qual\n",
      "1244 no pref qual\n",
      "1248 no mini qual\n",
      "1248 no pref qual\n",
      "1248 no description\n",
      "1257 no pref qual\n",
      "1273 no pref qual\n",
      "1288 no pref qual\n",
      "1289 no pref qual\n",
      "1290 no pref qual\n",
      "1304 no pref qual\n",
      "1305 no pref qual\n",
      "1306 no pref qual\n",
      "1307 no pref qual\n",
      "1322 no mini qual\n",
      "1322 no pref qual\n",
      "1322 no description\n",
      "1352 no pref qual\n",
      "1354 no pref qual\n",
      "1371 no pref qual\n",
      "1394 no mini qual\n",
      "1394 no pref qual\n",
      "1394 no description\n",
      "1395 no pref qual\n",
      "1417 no pref qual\n",
      "1418 no pref qual\n",
      "1419 no pref qual\n",
      "1420 no pref qual\n",
      "1421 no pref qual\n",
      "1423 no pref qual\n",
      "1429 no pref qual\n",
      "1456 no pref qual\n",
      "1460 no pref qual\n",
      "1461 no pref qual\n",
      "1463 no pref qual\n",
      "1464 no pref qual\n",
      "1602 no pref qual\n",
      "1650 no mini qual\n",
      "1650 no pref qual\n",
      "1650 no description\n",
      "1653 no mini qual\n",
      "1653 no pref qual\n",
      "1653 no description\n",
      "1656 no mini qual\n",
      "1656 no pref qual\n",
      "1656 no description\n",
      "1693 no mini qual\n",
      "1693 no pref qual\n",
      "1693 no description\n",
      "1702 no mini qual\n",
      "1702 no pref qual\n",
      "1702 no description\n",
      "1719 no mini qual\n",
      "1719 no pref qual\n",
      "1719 no description\n",
      "1753 no mini qual\n",
      "1753 no pref qual\n",
      "1753 no description\n",
      "1769 no mini qual\n",
      "1769 no pref qual\n",
      "1769 no description\n",
      "1771 no mini qual\n",
      "1771 no pref qual\n",
      "1771 no description\n",
      "1809 no mini qual\n",
      "1809 no pref qual\n",
      "1809 no description\n",
      "1827 no mini qual\n",
      "1827 no pref qual\n",
      "1827 no description\n",
      "1860 no mini qual\n",
      "1860 no pref qual\n",
      "1860 no description\n",
      "1907 no mini qual\n",
      "1907 no pref qual\n",
      "1907 no description\n",
      "1926 no mini qual\n",
      "1926 no pref qual\n",
      "1926 no description\n",
      "1978 no mini qual\n",
      "1978 no pref qual\n",
      "1978 no description\n",
      "1983 no mini qual\n",
      "1983 no pref qual\n",
      "1983 no description\n",
      "1992 no mini qual\n",
      "1992 no pref qual\n",
      "1992 no description\n",
      "2002 no mini qual\n",
      "2002 no pref qual\n",
      "2002 no description\n",
      "2003 no mini qual\n",
      "2003 no pref qual\n",
      "2003 no description\n",
      "2005 no mini qual\n",
      "2005 no pref qual\n",
      "2005 no description\n",
      "2006 no mini qual\n",
      "2006 no pref qual\n",
      "2006 no description\n",
      "2007 no mini qual\n",
      "2007 no pref qual\n",
      "2007 no description\n",
      "2014 no mini qual\n",
      "2014 no pref qual\n",
      "2014 no description\n",
      "2020 no mini qual\n",
      "2020 no pref qual\n",
      "2020 no description\n",
      "2021 no mini qual\n",
      "2021 no pref qual\n",
      "2021 no description\n",
      "2022 no mini qual\n",
      "2022 no pref qual\n",
      "2022 no description\n"
     ]
    }
   ],
   "source": [
    "# retrieve the qualification for each job.\n",
    "title, link, qual, descrp = job_description(df_title_link['JOB_TITLE'].values, df_title_link['JOB_LINK'].values)"
   ]
  },
  {
   "cell_type": "code",
   "execution_count": null,
   "metadata": {
    "id": "OP9UVxFHAikI"
   },
   "outputs": [],
   "source": [
    "def remove_strings(s):\n",
    "  s_new = s.replace('BASIC QUALIFICATIONS', ' ').replace('PREFERRED QUALIFICATIONS', ' ').replace('DESCRIPTION', ' ')\n",
    "  while '  ' in s_new:\n",
    "    s_new = s_new.replace('  ', ' ')\n",
    "  return s_new"
   ]
  },
  {
   "cell_type": "code",
   "execution_count": null,
   "metadata": {
    "id": "Ck2gAPPLBTGV"
   },
   "outputs": [],
   "source": [
    "qual_cleaned = [remove_strings(q) for q in qual]\n",
    "descrp_cleaned = [remove_strings(q) for q in descrp]"
   ]
  },
  {
   "cell_type": "code",
   "execution_count": null,
   "metadata": {
    "colab": {
     "base_uri": "https://localhost:8080/",
     "height": 337
    },
    "executionInfo": {
     "elapsed": 139,
     "status": "ok",
     "timestamp": 1673986220569,
     "user": {
      "displayName": "Honglin Yuan",
      "userId": "04648091830488477838"
     },
     "user_tz": 360
    },
    "id": "_O_9Df5RGfY4",
    "outputId": "31d4c219-0155-4e30-efb3-a8e02e3db673"
   },
   "outputs": [
    {
     "data": {
      "text/html": [
       "\n",
       "  <div id=\"df-2c5ef3d8-2455-4ef0-82b5-eaa53240091a\">\n",
       "    <div class=\"colab-df-container\">\n",
       "      <div>\n",
       "<style scoped>\n",
       "    .dataframe tbody tr th:only-of-type {\n",
       "        vertical-align: middle;\n",
       "    }\n",
       "\n",
       "    .dataframe tbody tr th {\n",
       "        vertical-align: top;\n",
       "    }\n",
       "\n",
       "    .dataframe thead th {\n",
       "        text-align: right;\n",
       "    }\n",
       "</style>\n",
       "<table border=\"1\" class=\"dataframe\">\n",
       "  <thead>\n",
       "    <tr style=\"text-align: right;\">\n",
       "      <th></th>\n",
       "      <th>COMPANY</th>\n",
       "      <th>TITLE</th>\n",
       "      <th>QUALIFICATIONS</th>\n",
       "      <th>LINK</th>\n",
       "      <th>DESCRIPTION</th>\n",
       "    </tr>\n",
       "  </thead>\n",
       "  <tbody>\n",
       "    <tr>\n",
       "      <th>0</th>\n",
       "      <td>Amazon</td>\n",
       "      <td>SAP Data Governance (SAP MDG) Architect</td>\n",
       "      <td>• +5 years hands-on end to end implementation...</td>\n",
       "      <td>https://www.amazon.jobs/en/jobs/2293554/sap-da...</td>\n",
       "      <td>Have you ever wanted to be part of a team who...</td>\n",
       "    </tr>\n",
       "    <tr>\n",
       "      <th>1</th>\n",
       "      <td>Amazon</td>\n",
       "      <td>Senior Finance Analyst EU AMZL</td>\n",
       "      <td>· Experience in finance and and Degree in Fin...</td>\n",
       "      <td>https://www.amazon.jobs/en/jobs/2318733/senior...</td>\n",
       "      <td>Have you ever ordered a product on Amazon and...</td>\n",
       "    </tr>\n",
       "    <tr>\n",
       "      <th>2</th>\n",
       "      <td>Amazon</td>\n",
       "      <td>Business Analytics Leader, AWS, Sales Insights...</td>\n",
       "      <td>Bachelor’s degree or higher in an analytical ...</td>\n",
       "      <td>https://www.amazon.jobs/en/jobs/2318992/busine...</td>\n",
       "      <td>The AWS Worldwide Commercial Sales Operations...</td>\n",
       "    </tr>\n",
       "    <tr>\n",
       "      <th>3</th>\n",
       "      <td>Amazon</td>\n",
       "      <td>Partner Sales Business Analyst, AMER Partner S...</td>\n",
       "      <td>Bachelor's degree or equivalent experience 2+...</td>\n",
       "      <td>https://www.amazon.jobs/en/jobs/2318993/partne...</td>\n",
       "      <td>For more than 11 years, Amazon Web Services (...</td>\n",
       "    </tr>\n",
       "    <tr>\n",
       "      <th>4</th>\n",
       "      <td>Amazon</td>\n",
       "      <td>Accounts Receivable Sr. Financial Analyst - NA...</td>\n",
       "      <td>5+ years of post-qualification experience in ...</td>\n",
       "      <td>https://www.amazon.jobs/en/jobs/2318113/accoun...</td>\n",
       "      <td>Amazon's Finance Operations department seeks ...</td>\n",
       "    </tr>\n",
       "  </tbody>\n",
       "</table>\n",
       "</div>\n",
       "      <button class=\"colab-df-convert\" onclick=\"convertToInteractive('df-2c5ef3d8-2455-4ef0-82b5-eaa53240091a')\"\n",
       "              title=\"Convert this dataframe to an interactive table.\"\n",
       "              style=\"display:none;\">\n",
       "        \n",
       "  <svg xmlns=\"http://www.w3.org/2000/svg\" height=\"24px\"viewBox=\"0 0 24 24\"\n",
       "       width=\"24px\">\n",
       "    <path d=\"M0 0h24v24H0V0z\" fill=\"none\"/>\n",
       "    <path d=\"M18.56 5.44l.94 2.06.94-2.06 2.06-.94-2.06-.94-.94-2.06-.94 2.06-2.06.94zm-11 1L8.5 8.5l.94-2.06 2.06-.94-2.06-.94L8.5 2.5l-.94 2.06-2.06.94zm10 10l.94 2.06.94-2.06 2.06-.94-2.06-.94-.94-2.06-.94 2.06-2.06.94z\"/><path d=\"M17.41 7.96l-1.37-1.37c-.4-.4-.92-.59-1.43-.59-.52 0-1.04.2-1.43.59L10.3 9.45l-7.72 7.72c-.78.78-.78 2.05 0 2.83L4 21.41c.39.39.9.59 1.41.59.51 0 1.02-.2 1.41-.59l7.78-7.78 2.81-2.81c.8-.78.8-2.07 0-2.86zM5.41 20L4 18.59l7.72-7.72 1.47 1.35L5.41 20z\"/>\n",
       "  </svg>\n",
       "      </button>\n",
       "      \n",
       "  <style>\n",
       "    .colab-df-container {\n",
       "      display:flex;\n",
       "      flex-wrap:wrap;\n",
       "      gap: 12px;\n",
       "    }\n",
       "\n",
       "    .colab-df-convert {\n",
       "      background-color: #E8F0FE;\n",
       "      border: none;\n",
       "      border-radius: 50%;\n",
       "      cursor: pointer;\n",
       "      display: none;\n",
       "      fill: #1967D2;\n",
       "      height: 32px;\n",
       "      padding: 0 0 0 0;\n",
       "      width: 32px;\n",
       "    }\n",
       "\n",
       "    .colab-df-convert:hover {\n",
       "      background-color: #E2EBFA;\n",
       "      box-shadow: 0px 1px 2px rgba(60, 64, 67, 0.3), 0px 1px 3px 1px rgba(60, 64, 67, 0.15);\n",
       "      fill: #174EA6;\n",
       "    }\n",
       "\n",
       "    [theme=dark] .colab-df-convert {\n",
       "      background-color: #3B4455;\n",
       "      fill: #D2E3FC;\n",
       "    }\n",
       "\n",
       "    [theme=dark] .colab-df-convert:hover {\n",
       "      background-color: #434B5C;\n",
       "      box-shadow: 0px 1px 3px 1px rgba(0, 0, 0, 0.15);\n",
       "      filter: drop-shadow(0px 1px 2px rgba(0, 0, 0, 0.3));\n",
       "      fill: #FFFFFF;\n",
       "    }\n",
       "  </style>\n",
       "\n",
       "      <script>\n",
       "        const buttonEl =\n",
       "          document.querySelector('#df-2c5ef3d8-2455-4ef0-82b5-eaa53240091a button.colab-df-convert');\n",
       "        buttonEl.style.display =\n",
       "          google.colab.kernel.accessAllowed ? 'block' : 'none';\n",
       "\n",
       "        async function convertToInteractive(key) {\n",
       "          const element = document.querySelector('#df-2c5ef3d8-2455-4ef0-82b5-eaa53240091a');\n",
       "          const dataTable =\n",
       "            await google.colab.kernel.invokeFunction('convertToInteractive',\n",
       "                                                     [key], {});\n",
       "          if (!dataTable) return;\n",
       "\n",
       "          const docLinkHtml = 'Like what you see? Visit the ' +\n",
       "            '<a target=\"_blank\" href=https://colab.research.google.com/notebooks/data_table.ipynb>data table notebook</a>'\n",
       "            + ' to learn more about interactive tables.';\n",
       "          element.innerHTML = '';\n",
       "          dataTable['output_type'] = 'display_data';\n",
       "          await google.colab.output.renderOutput(dataTable, element);\n",
       "          const docLink = document.createElement('div');\n",
       "          docLink.innerHTML = docLinkHtml;\n",
       "          element.appendChild(docLink);\n",
       "        }\n",
       "      </script>\n",
       "    </div>\n",
       "  </div>\n",
       "  "
      ],
      "text/plain": [
       "  COMPANY                                              TITLE  \\\n",
       "0  Amazon            SAP Data Governance (SAP MDG) Architect   \n",
       "1  Amazon                     Senior Finance Analyst EU AMZL   \n",
       "2  Amazon  Business Analytics Leader, AWS, Sales Insights...   \n",
       "3  Amazon  Partner Sales Business Analyst, AMER Partner S...   \n",
       "4  Amazon  Accounts Receivable Sr. Financial Analyst - NA...   \n",
       "\n",
       "                                      QUALIFICATIONS  \\\n",
       "0   • +5 years hands-on end to end implementation...   \n",
       "1   · Experience in finance and and Degree in Fin...   \n",
       "2   Bachelor’s degree or higher in an analytical ...   \n",
       "3   Bachelor's degree or equivalent experience 2+...   \n",
       "4   5+ years of post-qualification experience in ...   \n",
       "\n",
       "                                                LINK  \\\n",
       "0  https://www.amazon.jobs/en/jobs/2293554/sap-da...   \n",
       "1  https://www.amazon.jobs/en/jobs/2318733/senior...   \n",
       "2  https://www.amazon.jobs/en/jobs/2318992/busine...   \n",
       "3  https://www.amazon.jobs/en/jobs/2318993/partne...   \n",
       "4  https://www.amazon.jobs/en/jobs/2318113/accoun...   \n",
       "\n",
       "                                         DESCRIPTION  \n",
       "0   Have you ever wanted to be part of a team who...  \n",
       "1   Have you ever ordered a product on Amazon and...  \n",
       "2   The AWS Worldwide Commercial Sales Operations...  \n",
       "3   For more than 11 years, Amazon Web Services (...  \n",
       "4   Amazon's Finance Operations department seeks ...  "
      ]
     },
     "execution_count": 55,
     "metadata": {},
     "output_type": "execute_result"
    }
   ],
   "source": [
    "#create a dataframe from basic qualification and preferred qualification\n",
    "df = pd.DataFrame(zip(title, qual_cleaned, link, descrp_cleaned))\n",
    "df.columns = ['TITLE', 'QUALIFICATIONS', 'LINK', 'DESCRIPTION']\n",
    "df['COMPANY'] = 'Amazon'\n",
    "df = df.iloc[:, [4, 0, 1, 2, 3]]\n",
    "df.head()"
   ]
  },
  {
   "cell_type": "code",
   "execution_count": null,
   "metadata": {
    "colab": {
     "base_uri": "https://localhost:8080/"
    },
    "executionInfo": {
     "elapsed": 127,
     "status": "ok",
     "timestamp": 1673986224418,
     "user": {
      "displayName": "Honglin Yuan",
      "userId": "04648091830488477838"
     },
     "user_tz": 360
    },
    "id": "KGbwgsGcXulF",
    "outputId": "663c21f8-a27f-44a2-900d-6894834f04c4"
   },
   "outputs": [
    {
     "data": {
      "text/plain": [
       "47"
      ]
     },
     "execution_count": 56,
     "metadata": {},
     "output_type": "execute_result"
    }
   ],
   "source": [
    "# look for empty QUALIFICATION entries\n",
    "def get_empty(df, colname) :\n",
    "  empty_idx=[]\n",
    "  for i in range(len(df[colname])):\n",
    "    count = len(df[colname][i])\n",
    "    if count<=15 : empty_idx.append(i)\n",
    "    else: pass\n",
    "  return empty_idx\n",
    "\n",
    "empty_mini_q = get_empty(df, 'QUALIFICATIONS')\n",
    "len(empty_mini_q)"
   ]
  },
  {
   "cell_type": "code",
   "execution_count": null,
   "metadata": {
    "colab": {
     "base_uri": "https://localhost:8080/"
    },
    "executionInfo": {
     "elapsed": 151,
     "status": "ok",
     "timestamp": 1673986227983,
     "user": {
      "displayName": "Honglin Yuan",
      "userId": "04648091830488477838"
     },
     "user_tz": 360
    },
    "id": "Ds9abVxgXxyU",
    "outputId": "e7e2e0d2-6582-4a8f-f7c9-296b7f2b9e45"
   },
   "outputs": [
    {
     "data": {
      "text/plain": [
       "(1983, 5)"
      ]
     },
     "execution_count": 57,
     "metadata": {},
     "output_type": "execute_result"
    }
   ],
   "source": [
    "# drop the empty Qualification entries\n",
    "df.drop(empty_mini_q, inplace=True)\n",
    "df.shape"
   ]
  },
  {
   "cell_type": "code",
   "execution_count": null,
   "metadata": {
    "colab": {
     "base_uri": "https://localhost:8080/"
    },
    "executionInfo": {
     "elapsed": 135,
     "status": "ok",
     "timestamp": 1673986230016,
     "user": {
      "displayName": "Honglin Yuan",
      "userId": "04648091830488477838"
     },
     "user_tz": 360
    },
    "id": "nfmHqEPf7jF-",
    "outputId": "3da357b3-f41a-42b0-bcdc-0bac3bd6fb98"
   },
   "outputs": [
    {
     "data": {
      "text/plain": [
       "(1983, 5)"
      ]
     },
     "execution_count": 58,
     "metadata": {},
     "output_type": "execute_result"
    }
   ],
   "source": [
    "#remove the duplicated jobs\n",
    "df_nodup = df.drop_duplicates()\n",
    "df_nodup.shape"
   ]
  },
  {
   "cell_type": "code",
   "execution_count": null,
   "metadata": {
    "id": "oGCWCT9nR7Nm"
   },
   "outputs": [],
   "source": [
    "df_nodup.to_csv('./drive/MyDrive/Swatcloud/cleaned_data/individual_companies/amazon_all_jobs_cleaned.csv')"
   ]
  },
  {
   "cell_type": "code",
   "execution_count": null,
   "metadata": {
    "id": "16SiAY5c-Gmn"
   },
   "outputs": [],
   "source": []
  }
 ],
 "metadata": {
  "colab": {
   "authorship_tag": "ABX9TyP4fkbuo6Ezc1d9iaQYAcm1",
   "provenance": [
    {
     "file_id": "1WGSxBnUmjUs5kH45wDb4kZZtW0C0HcOw",
     "timestamp": 1670888019531
    }
   ]
  },
  "kernelspec": {
   "display_name": "Python 3 (ipykernel)",
   "language": "python",
   "name": "python3"
  },
  "language_info": {
   "codemirror_mode": {
    "name": "ipython",
    "version": 3
   },
   "file_extension": ".py",
   "mimetype": "text/x-python",
   "name": "python",
   "nbconvert_exporter": "python",
   "pygments_lexer": "ipython3",
   "version": "3.10.4"
  }
 },
 "nbformat": 4,
 "nbformat_minor": 1
}

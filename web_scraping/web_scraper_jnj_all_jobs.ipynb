{
 "cells": [
  {
   "cell_type": "code",
   "execution_count": 28,
   "id": "3667fa7f",
   "metadata": {},
   "outputs": [],
   "source": [
    "from selenium import webdriver\n",
    "import requests\n",
    "from bs4 import BeautifulSoup\n",
    "import time\n",
    "import pandas as pd\n",
    "import re"
   ]
  },
  {
   "cell_type": "code",
   "execution_count": 29,
   "id": "c4682543",
   "metadata": {},
   "outputs": [],
   "source": [
    "chrome_options = webdriver.ChromeOptions()\n",
    "chrome_options.add_argument('--headless')\n",
    "chrome_options.add_argument('--no-sandbox')\n",
    "chrome_options.add_argument('--disable-dev-shm-usage')"
   ]
  },
  {
   "cell_type": "code",
   "execution_count": 30,
   "id": "a1e8ae6d",
   "metadata": {},
   "outputs": [],
   "source": [
    "# technology jobs in the USA\n",
    "url1 = 'https://jobs.jnj.com/en/jobs/?page='\n",
    "url2 = '&search=technology&country=United+States&pagesize=20#results'"
   ]
  },
  {
   "cell_type": "code",
   "execution_count": 31,
   "id": "6ce77595",
   "metadata": {},
   "outputs": [],
   "source": [
    "def jnj_get_jobs(url1, url2):\n",
    "    \"\"\"\n",
    "    retrieve job title and job link\n",
    "    \"\"\"\n",
    "    job_title=[]\n",
    "    job_link=[]\n",
    "    page_num = 1\n",
    "\n",
    "    driver=webdriver.Chrome(options = chrome_options)\n",
    "    URL = url1 + str(page_num) + url2\n",
    "    driver.get(URL)\n",
    "    time.sleep(1)\n",
    "    soup = BeautifulSoup(driver.page_source, 'html.parser')\n",
    "    \n",
    "    while soup.find_all(\"a\", {\"class\": \"stretched-link js-view-job\"}) :\n",
    "        job_title.extend([td.text for td in soup.find_all(\"a\", {\"class\": \"stretched-link js-view-job\"})])\n",
    "        job_link.extend(['https://jobs.jnj.com' + td.parent.find('a')['href'] for td in soup.find_all(\"a\", {\"class\": \"stretched-link js-view-job\"})])\n",
    "        driver.quit()\n",
    "\n",
    "        page_num += 1\n",
    "        driver=webdriver.Chrome(options = chrome_options)\n",
    "        URL = url1 + str(page_num) + url2\n",
    "        driver.get(URL)\n",
    "        time.sleep(2)\n",
    "        soup = BeautifulSoup(driver.page_source, 'html.parser')\n",
    "    \n",
    "    driver.quit() \n",
    "    return job_title,job_link"
   ]
  },
  {
   "cell_type": "code",
   "execution_count": 32,
   "id": "5a162e66",
   "metadata": {},
   "outputs": [],
   "source": [
    "job_title, job_link = jnj_get_jobs(url1, url2)"
   ]
  },
  {
   "cell_type": "code",
   "execution_count": 33,
   "id": "39e03c13",
   "metadata": {},
   "outputs": [],
   "source": [
    "def remove_space(s):\n",
    "  s_new = s.replace('\\n', '')\n",
    "  while '  ' in s_new:\n",
    "    s_new = s_new.replace('  ', ' ')\n",
    "  return s_new"
   ]
  },
  {
   "cell_type": "code",
   "execution_count": 34,
   "id": "c4038c42",
   "metadata": {},
   "outputs": [],
   "source": [
    "job_title = [remove_space(job) for job in job_title]"
   ]
  },
  {
   "cell_type": "code",
   "execution_count": 35,
   "id": "4f397bc2",
   "metadata": {},
   "outputs": [],
   "source": [
    "# create a dataframe that contains job titles and links for all job categories\n",
    "df_title_link = pd.DataFrame(zip(job_title, job_link), columns=['JOB_TITLE', 'JOB_LINK'])"
   ]
  },
  {
   "cell_type": "code",
   "execution_count": 36,
   "id": "1bd1c1d2",
   "metadata": {},
   "outputs": [
    {
     "name": "stdout",
     "output_type": "stream",
     "text": [
      "1035\n"
     ]
    }
   ],
   "source": [
    "# drop the duplicates\n",
    "df_title_link = df_title_link.drop_duplicates()"
   ]
  },
  {
   "cell_type": "markdown",
   "id": "03336eff",
   "metadata": {},
   "source": [
    "## Extract job descriptions and qualifications for each job"
   ]
  },
  {
   "cell_type": "code",
   "execution_count": 39,
   "id": "b47f8be0",
   "metadata": {},
   "outputs": [],
   "source": [
    "# retrieve job qualifications and descriptions\n",
    "def job_description(title, link):\n",
    "    qualifications = []\n",
    "    description = []\n",
    "    jobtitle = []\n",
    "    joblink = []\n",
    "    \n",
    "    driver=webdriver.Chrome('chromedriver',options=chrome_options)\n",
    "    for i in range(len(link)):\n",
    "        URL=link[i]\n",
    "        driver.get(URL)\n",
    "        time.sleep(2)\n",
    "        soup = BeautifulSoup(driver.page_source, 'html.parser')\n",
    "        \n",
    "        s = ''\n",
    "        d = ''\n",
    "        \n",
    "        text_pattern = text=re.compile(\"qualifications\", re.IGNORECASE)\n",
    "       \n",
    "        # get job qualifications\n",
    "        try:\n",
    "          tags = soup.find('h3', text=text_pattern).parent.find_all(['ul', 'ol'])\n",
    "          if len(tags) > 0:\n",
    "                for t in tags:\n",
    "                    s = s + \" \" + t.text\n",
    "          else:\n",
    "              try:\n",
    "                tags = soup.find('', text=text_pattern).parent.findNextSiblings(['p'])\n",
    "                for t in tags:\n",
    "                  s = s + \" \" + t.text\n",
    "              except: pass\n",
    "        except: pass\n",
    "            \n",
    "        # get job descriptions\n",
    "        try:\n",
    "          tag = soup.find(\"h2\", text='Description').findNext(['ul', 'ol'])\n",
    "          d = tag.text\n",
    "        except: pass\n",
    "        \n",
    "        qualifications.append(s)\n",
    "        description.append(d)   \n",
    "        jobtitle.append(title[i])\n",
    "        joblink.append(link[i])\n",
    "        \n",
    "    driver.quit()            \n",
    " \n",
    "    return jobtitle, link, qualifications, description"
   ]
  },
  {
   "cell_type": "code",
   "execution_count": 40,
   "id": "a337813d",
   "metadata": {},
   "outputs": [],
   "source": [
    "# retrieve the qualification for each job.\n",
    "title, link, qual, descrp = job_description(df_title_link['JOB_TITLE'].values, df_title_link['JOB_LINK'].values)"
   ]
  },
  {
   "cell_type": "code",
   "execution_count": 41,
   "id": "b680bb86",
   "metadata": {},
   "outputs": [],
   "source": [
    "qual_cleaned = [remove_space(q) for q in qual]\n",
    "descrp_cleaned = [remove_space(d) for d in descrp]"
   ]
  },
  {
   "cell_type": "code",
   "execution_count": 42,
   "id": "68b3da2b",
   "metadata": {},
   "outputs": [],
   "source": [
    "#create a dataframe from basic qualification and preferred qualification\n",
    "df = pd.DataFrame(zip(title, qual_cleaned, link, descrp_cleaned))\n",
    "df.columns = ['TITLE', 'QUALIFICATIONS', 'LINK', 'DESCRIPTION']\n",
    "df['COMPANY'] = 'JnJ'\n",
    "df = df.iloc[:, [4, 0, 1, 2, 3]]"
   ]
  },
  {
   "cell_type": "code",
   "execution_count": 43,
   "id": "c0afe5c2",
   "metadata": {},
   "outputs": [
    {
     "name": "stdout",
     "output_type": "stream",
     "text": [
      "129\n"
     ]
    }
   ],
   "source": [
    "# look for empty QUALIFICATION entries\n",
    "def get_empty(df, colname) :\n",
    "  empty_idx=[]\n",
    "  for i in range(len(df[colname])):\n",
    "    count = len(df[colname][i])\n",
    "    if count<=10 : empty_idx.append(i)\n",
    "    else: pass\n",
    "  return empty_idx\n",
    "\n",
    "empty_mini_q = get_empty(df, 'QUALIFICATIONS')\n",
    "print(len(empty_mini_q))\n",
    "\n",
    "# drop the empty Qualification entries\n",
    "df.drop(empty_mini_q, inplace=True)"
   ]
  },
  {
   "cell_type": "code",
   "execution_count": 44,
   "id": "536adc52",
   "metadata": {},
   "outputs": [
    {
     "name": "stdout",
     "output_type": "stream",
     "text": [
      "There are 906 jobs from JnJ.\n"
     ]
    }
   ],
   "source": [
    "#remove the duplicated jobs\n",
    "df_nodup = df.drop_duplicates()\n",
    "print(\"There are {} jobs from JnJ.\".format(df_nodup.shape[0]))\n",
    "\n",
    "df_nodup.to_csv('jnj_technology_jobs_cleaned.csv')"
   ]
  }
 ],
 "metadata": {
  "kernelspec": {
   "display_name": "Python 3 (ipykernel)",
   "language": "python",
   "name": "python3"
  },
  "language_info": {
   "codemirror_mode": {
    "name": "ipython",
    "version": 3
   },
   "file_extension": ".py",
   "mimetype": "text/x-python",
   "name": "python",
   "nbconvert_exporter": "python",
   "pygments_lexer": "ipython3",
   "version": "3.10.4"
  }
 },
 "nbformat": 4,
 "nbformat_minor": 5
}

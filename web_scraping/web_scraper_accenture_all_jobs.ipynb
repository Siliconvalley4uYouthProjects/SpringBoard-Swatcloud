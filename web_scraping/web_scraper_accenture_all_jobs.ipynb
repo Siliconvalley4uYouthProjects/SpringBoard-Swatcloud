{
 "cells": [
  {
   "cell_type": "code",
   "execution_count": 4,
   "id": "3667fa7f",
   "metadata": {},
   "outputs": [],
   "source": [
    "from selenium import webdriver\n",
    "import requests\n",
    "from bs4 import BeautifulSoup\n",
    "import time\n",
    "import pandas as pd"
   ]
  },
  {
   "cell_type": "code",
   "execution_count": 5,
   "id": "c4682543",
   "metadata": {},
   "outputs": [],
   "source": [
    "chrome_options = webdriver.ChromeOptions()\n",
    "chrome_options.add_argument('--headless')\n",
    "chrome_options.add_argument('--no-sandbox')\n",
    "chrome_options.add_argument('--disable-dev-shm-usage')"
   ]
  },
  {
   "cell_type": "code",
   "execution_count": 6,
   "id": "a1e8ae6d",
   "metadata": {},
   "outputs": [
    {
     "name": "stdout",
     "output_type": "stream",
     "text": [
      "791\n",
      "88\n"
     ]
    }
   ],
   "source": [
    "# specify the url strings for the company's job posting website\n",
    "url1 = 'https://www.accenture.com/us-en/careers/jobsearch?jk=&sb=1&vw=0&is_rj=0&pg='\n",
    "url2 = ''\n",
    "\n",
    "# get the first page\n",
    "driver=webdriver.Chrome(options = chrome_options)\n",
    "URL = url1 + \"1\" + url2\n",
    "driver.get(URL)\n",
    "time.sleep(1)\n",
    "soup = BeautifulSoup(driver.page_source, 'html.parser')\n",
    "s = soup.find('a', {\"class\" : \"cmp-jobs-results__title\"}).text\n",
    "\n",
    "# get total number of jobs and calculate total number of pages\n",
    "total_count = int(s.replace(\")\", \"\").split(\"(\")[1])\n",
    "print(total_count)\n",
    "total_page = int(total_count / 9 + 1)\n",
    "print(total_page)"
   ]
  },
  {
   "cell_type": "code",
   "execution_count": 7,
   "id": "6ce77595",
   "metadata": {},
   "outputs": [],
   "source": [
    "def accenture_get_jobs(url1, url2, totalPage):\n",
    "    \"\"\"\n",
    "    retrieve job titles and job links from each page\n",
    "    \"\"\"\n",
    "    title = []\n",
    "    link = []\n",
    "    page_num = 0\n",
    "\n",
    "    driver=webdriver.Chrome(options = chrome_options)\n",
    "    URL = url1 + str(page_num+1) + url2\n",
    "    driver.get(URL)\n",
    "    time.sleep(1)\n",
    "    soup = BeautifulSoup(driver.page_source, 'html.parser')\n",
    "    soup.find('a', {\"class\" : \"cmp-jobs-results__title\"}).tag\n",
    "    \n",
    "    # loop through all pages\n",
    "    while page_num <= totalPage :\n",
    "        driver.quit()\n",
    "        \n",
    "        for t in soup.find_all(\"a\", {\"class\": \"cmp-teaser__title-link\"}):\n",
    "            if \"www.accenture.com/us-en/careers\" in t['href']:\n",
    "                link.append(t['href'])\n",
    "                title.append(t.find('h3', {\"class\": \"cmp-teaser__title\"}).text)\n",
    "\n",
    "        page_num += 1\n",
    "        driver=webdriver.Chrome(options = chrome_options)\n",
    "        URL = url1 + str(page_num+1) + url2\n",
    "        \n",
    "        driver.get(URL)\n",
    "        time.sleep(1)\n",
    "        soup = BeautifulSoup(driver.page_source, 'html.parser')\n",
    "    \n",
    "    driver.quit() \n",
    "    return title, link"
   ]
  },
  {
   "cell_type": "code",
   "execution_count": 8,
   "id": "5a162e66",
   "metadata": {
    "scrolled": true
   },
   "outputs": [],
   "source": [
    "job_title, job_link = accenture_get_jobs(url1, url2, total_page)"
   ]
  },
  {
   "cell_type": "code",
   "execution_count": 9,
   "id": "39e03c13",
   "metadata": {},
   "outputs": [],
   "source": [
    "def remove_char(s):\n",
    "  s_new = s.replace('\\n', ' ').replace('\\xa0', ' ')\n",
    "  while '  ' in s_new:\n",
    "    s_new = s_new.replace('  ', ' ')\n",
    "  return s_new"
   ]
  },
  {
   "cell_type": "code",
   "execution_count": 10,
   "id": "4f397bc2",
   "metadata": {},
   "outputs": [],
   "source": [
    "# create a dataframe that contains job titles and links for all job categories\n",
    "df_title_link = pd.DataFrame(zip(job_title, job_link), columns=['JOB_TITLE', 'JOB_LINK'])\n",
    "\n",
    "# drop the duplicates\n",
    "df_title_link = df_title_link.drop_duplicates()"
   ]
  },
  {
   "cell_type": "markdown",
   "id": "03336eff",
   "metadata": {},
   "source": [
    "## Extract job descriptions and qualifications for each job"
   ]
  },
  {
   "cell_type": "code",
   "execution_count": 11,
   "id": "b47f8be0",
   "metadata": {},
   "outputs": [],
   "source": [
    "# retrieve job qualifications and descriptions\n",
    "def job_description(title, link):\n",
    "    qualifications = []\n",
    "    description = []\n",
    "    jobtitle = []\n",
    "    joblink = []\n",
    "\n",
    "    driver=webdriver.Chrome('chromedriver',options=chrome_options)\n",
    "    for i in range(len(link)):\n",
    "        URL=link[i]\n",
    "        driver.get(URL)\n",
    "        time.sleep(1)\n",
    "        soup = BeautifulSoup(driver.page_source, 'html.parser')\n",
    "        \n",
    "        s = ''\n",
    "        d = ''\n",
    "        \n",
    "        try:\n",
    "          tag = soup.find('h2', text=\"Qualifications\")\n",
    "          try:\n",
    "              tags = tag.findNext('ul').parent.find_all('ul')\n",
    "              for t in tags:\n",
    "                s = s + \" \" + t.text\n",
    "          except: pass\n",
    "        except: pass\n",
    "\n",
    "        # retrieve job descriptions\n",
    "        try:\n",
    "          tag = soup.find('div', {'class': \"description-content\"})\n",
    "          if tag:\n",
    "            d = tag.text\n",
    "        except: pass\n",
    "        \n",
    "        qualifications.append(s)\n",
    "        description.append(d)   \n",
    "        jobtitle.append(title[i])\n",
    "        joblink.append(link[i])\n",
    "        \n",
    "    driver.quit()            \n",
    " \n",
    "    return jobtitle, link, qualifications, description"
   ]
  },
  {
   "cell_type": "code",
   "execution_count": 12,
   "id": "a337813d",
   "metadata": {},
   "outputs": [],
   "source": [
    "# retrieve the qualification for each job.\n",
    "title, link, qual, descrp = job_description(df_title_link['JOB_TITLE'].values, df_title_link['JOB_LINK'].values)"
   ]
  },
  {
   "cell_type": "code",
   "execution_count": 13,
   "id": "b680bb86",
   "metadata": {},
   "outputs": [],
   "source": [
    "def remove_char(s):\n",
    "  s_new = s.replace('\\n', ' ').replace('\\xa0', ' ')\n",
    "  while '  ' in s_new:\n",
    "    s_new = s_new.replace('  ', ' ')\n",
    "  return s_new\n",
    "\n",
    "qual_cleaned = [remove_char(q) for q in qual]\n",
    "descrp_cleaned = [remove_char(d) for d in descrp]"
   ]
  },
  {
   "cell_type": "code",
   "execution_count": 14,
   "id": "68b3da2b",
   "metadata": {},
   "outputs": [],
   "source": [
    "#create a dataframe from qualifications and descriptions\n",
    "df = pd.DataFrame(zip(title, qual_cleaned, link, descrp_cleaned))\n",
    "df.columns = ['TITLE', 'QUALIFICATIONS', 'LINK', 'DESCRIPTION']\n",
    "df['COMPANY'] = 'Accenture'\n",
    "df = df.iloc[:, [4, 0, 1, 2, 3]]"
   ]
  },
  {
   "cell_type": "code",
   "execution_count": 15,
   "id": "c0afe5c2",
   "metadata": {},
   "outputs": [],
   "source": [
    "# look for empty QUALIFICATION entries\n",
    "def get_empty(df, colname) :\n",
    "  empty_idx=[]\n",
    "  for i in range(len(df[colname])):\n",
    "    count = len(df[colname][i])\n",
    "    if count<=10 : empty_idx.append(i)\n",
    "    else: pass\n",
    "  return empty_idx"
   ]
  },
  {
   "cell_type": "code",
   "execution_count": 16,
   "id": "536adc52",
   "metadata": {},
   "outputs": [],
   "source": [
    "empty_mini_q = get_empty(df, 'QUALIFICATIONS')\n",
    "#print(len(empty_mini_q))\n",
    "\n",
    "# drop the empty Qualification entries\n",
    "df.drop(empty_mini_q, inplace=True)\n",
    "\n",
    "#remove the duplicated jobs\n",
    "df_nodup = df.drop_duplicates()\n",
    "print(\"There are {} jobs from Accenture.\".format(df_nodup.shape[0]))\n",
    "\n",
    "# output to a file\n",
    "df_nodup.to_csv('accenture_all_jobs_cleaned.csv')"
   ]
  }
 ],
 "metadata": {
  "kernelspec": {
   "display_name": "Python 3 (ipykernel)",
   "language": "python",
   "name": "python3"
  },
  "language_info": {
   "codemirror_mode": {
    "name": "ipython",
    "version": 3
   },
   "file_extension": ".py",
   "mimetype": "text/x-python",
   "name": "python",
   "nbconvert_exporter": "python",
   "pygments_lexer": "ipython3",
   "version": "3.10.4"
  }
 },
 "nbformat": 4,
 "nbformat_minor": 5
}

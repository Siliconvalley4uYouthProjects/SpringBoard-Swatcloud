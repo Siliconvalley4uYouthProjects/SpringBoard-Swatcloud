{
 "cells": [
  {
   "cell_type": "markdown",
   "id": "92aca0a3",
   "metadata": {},
   "source": [
    "# Notes\n",
    "\n",
    "Reason for using Selenium\n",
    "\n",
    "The job search results page keeps adding more results at the bottom, but the URL stays the same. Therefore, it is not possible to loop through the pages. It is necessary to click on the next button until all the results are loaded and then scrape.\n",
    "\n",
    "The url for a job search results page (for example for technology), when used later, redirects to the job search home page\n",
    "without the search results. Therefore, it is necessary to type in the search term do a fresh search before scraping.\n",
    "\n",
    "To do for this notebook\n",
    "\n",
    "- see if just the qualifications part can be scraped.\n",
    "\n",
    "Running the script \n",
    "    \n",
    "- It takes about 10-15 minutes to run the part that scrapes the job titles and job description page links.\n",
    "- It may take 3-4 hours to run the part that scrapes the job description text. It may take longer \n",
    "  if the script gets interruped for some reason. It is necessary for a person to check if the script run successfully \n",
    "  and rerun as needed.\n",
    "- It looks like the script tends to get interrupted if the computer goes to sleep mode. \n",
    "  So it helps to keep the computer active for the script to complete running without interruption."
   ]
  },
  {
   "cell_type": "code",
   "execution_count": 1,
   "id": "aa8ed824",
   "metadata": {},
   "outputs": [],
   "source": [
    "from selenium import webdriver\n",
    "import pandas as pd\n",
    "import numpy as np"
   ]
  },
  {
   "cell_type": "markdown",
   "id": "6c6573b1",
   "metadata": {},
   "source": [
    "# Get job titles and job description page links"
   ]
  },
  {
   "cell_type": "code",
   "execution_count": 2,
   "id": "5283816d",
   "metadata": {},
   "outputs": [],
   "source": [
    "# job_title = []\n",
    "# job_link = []\n",
    "\n",
    "#this url redirects to the page 'https://sjobs.brassring.com/TGnewUI/Search/Home/Home?partnerid=25633&siteid=5439&Codes=BeMore#home'\n",
    "#url = 'https://sjobs.brassring.com/TGnewUI/Search/Home/Home?partnerid=25633&siteid=5439&Codes=BeMore#keyWordSearch=technology%20or%20software%20engineering%20or%20developer%20or%20azure%20or%20aws&locationSearch='\n",
    "\n",
    "url = 'https://sjobs.brassring.com/TGnewUI/Search/Home/Home?partnerid=25633&siteid=5439&Codes=BeMore#home'\n",
    "\n",
    "driver = webdriver.Chrome()\n",
    "\n",
    "driver.implicitly_wait(20)\n",
    "\n",
    "driver.get(url)\n",
    "    \n",
    "job_search = driver.find_element_by_xpath('//*[@id=\"initialSearchBox__25\"]')\n",
    "job_search.send_keys('technology')\n",
    "\n",
    "search_button = driver.find_element_by_xpath('//*[@id=\"searchControls_BUTTON_2\"]')\n",
    "search_button.click()\n",
    "\n"
   ]
  },
  {
   "cell_type": "code",
   "execution_count": 3,
   "id": "43b4ac4b",
   "metadata": {},
   "outputs": [],
   "source": [
    "x = 1\n",
    "\n",
    "while x == 1:\n",
    "    try:\n",
    "    \n",
    "        next_button = driver.find_element_by_xpath('//*[@id=\"showMoreJobs\"]')\n",
    "        next_button.click()\n",
    "\n",
    "    except:\n",
    "        x = 0    "
   ]
  },
  {
   "cell_type": "code",
   "execution_count": 6,
   "id": "551512f0",
   "metadata": {},
   "outputs": [],
   "source": [
    "job_num = []\n",
    "job_title = []\n",
    "job_link = []"
   ]
  },
  {
   "cell_type": "code",
   "execution_count": 7,
   "id": "bce45339",
   "metadata": {},
   "outputs": [
    {
     "name": "stdout",
     "output_type": "stream",
     "text": [
      "1155 1155\n"
     ]
    }
   ],
   "source": [
    "\n",
    "y = 2\n",
    "i = 1\n",
    "\n",
    "while y != 0:  \n",
    "    \n",
    "    y = 2\n",
    "    \n",
    "    try:  \n",
    "        job = driver.find_element_by_xpath('//*[@id=\"mainJobListContainer\"]/div/div/ul/li['+str(i)+']/div[2]/div[1]')        \n",
    "        job_title.append(job.text)\n",
    "        \n",
    "    except:\n",
    "        job_title.append('')\n",
    "        y -= 1\n",
    "\n",
    "        \n",
    "    try:\n",
    "        link = driver.find_element_by_xpath('//*[@id=\"Job_'+str(i)+'\"]')        \n",
    "        #job_title2.append(link.text)\n",
    "        job_link.append(link.get_attribute('href'))\n",
    "        \n",
    "    except:\n",
    "        #job_title2.append('')\n",
    "        job_link.append('')\n",
    "        y -= 1        \n",
    "\n",
    "    i = i+1\n",
    "    \n",
    "    \n",
    "print(len(job_title), len(job_link)) \n",
    "    \n"
   ]
  },
  {
   "cell_type": "code",
   "execution_count": 9,
   "id": "727ef009",
   "metadata": {
    "scrolled": true
   },
   "outputs": [
    {
     "data": {
      "text/html": [
       "<div>\n",
       "<style scoped>\n",
       "    .dataframe tbody tr th:only-of-type {\n",
       "        vertical-align: middle;\n",
       "    }\n",
       "\n",
       "    .dataframe tbody tr th {\n",
       "        vertical-align: top;\n",
       "    }\n",
       "\n",
       "    .dataframe thead th {\n",
       "        text-align: right;\n",
       "    }\n",
       "</style>\n",
       "<table border=\"1\" class=\"dataframe\">\n",
       "  <thead>\n",
       "    <tr style=\"text-align: right;\">\n",
       "      <th></th>\n",
       "      <th>job_title</th>\n",
       "      <th>job_link</th>\n",
       "    </tr>\n",
       "  </thead>\n",
       "  <tbody>\n",
       "    <tr>\n",
       "      <th>0</th>\n",
       "      <td>(Senior) SAP Consultant - Bulgaria</td>\n",
       "      <td>https://sjobs.brassring.com/TGnewUI/Search/hom...</td>\n",
       "    </tr>\n",
       "    <tr>\n",
       "      <th>1</th>\n",
       "      <td>Cisco Helpdesk - Senior Process Executive (Jap...</td>\n",
       "      <td>https://sjobs.brassring.com/TGnewUI/Search/hom...</td>\n",
       "    </tr>\n",
       "    <tr>\n",
       "      <th>2</th>\n",
       "      <td>Cisco Helpdesk - Senior Process Executive</td>\n",
       "      <td>https://sjobs.brassring.com/TGnewUI/Search/hom...</td>\n",
       "    </tr>\n",
       "    <tr>\n",
       "      <th>3</th>\n",
       "      <td>Cisco Helpdesk - Process Specialist (Korean Sp...</td>\n",
       "      <td>https://sjobs.brassring.com/TGnewUI/Search/hom...</td>\n",
       "    </tr>\n",
       "    <tr>\n",
       "      <th>4</th>\n",
       "      <td>Cisco Helpdesk - Process Specialist (Japanese ...</td>\n",
       "      <td>https://sjobs.brassring.com/TGnewUI/Search/hom...</td>\n",
       "    </tr>\n",
       "  </tbody>\n",
       "</table>\n",
       "</div>"
      ],
      "text/plain": [
       "                                           job_title  \\\n",
       "0                 (Senior) SAP Consultant - Bulgaria   \n",
       "1  Cisco Helpdesk - Senior Process Executive (Jap...   \n",
       "2          Cisco Helpdesk - Senior Process Executive   \n",
       "3  Cisco Helpdesk - Process Specialist (Korean Sp...   \n",
       "4  Cisco Helpdesk - Process Specialist (Japanese ...   \n",
       "\n",
       "                                            job_link  \n",
       "0  https://sjobs.brassring.com/TGnewUI/Search/hom...  \n",
       "1  https://sjobs.brassring.com/TGnewUI/Search/hom...  \n",
       "2  https://sjobs.brassring.com/TGnewUI/Search/hom...  \n",
       "3  https://sjobs.brassring.com/TGnewUI/Search/hom...  \n",
       "4  https://sjobs.brassring.com/TGnewUI/Search/hom...  "
      ]
     },
     "execution_count": 9,
     "metadata": {},
     "output_type": "execute_result"
    }
   ],
   "source": [
    "# convert to dataframe\n",
    "\n",
    "df = pd.DataFrame(zip(job_title, job_link))\n",
    "df.columns = ['job_title', 'job_link']\n",
    "df.head()"
   ]
  },
  {
   "cell_type": "code",
   "execution_count": 11,
   "id": "582b9165",
   "metadata": {},
   "outputs": [
    {
     "data": {
      "text/html": [
       "<div>\n",
       "<style scoped>\n",
       "    .dataframe tbody tr th:only-of-type {\n",
       "        vertical-align: middle;\n",
       "    }\n",
       "\n",
       "    .dataframe tbody tr th {\n",
       "        vertical-align: top;\n",
       "    }\n",
       "\n",
       "    .dataframe thead th {\n",
       "        text-align: right;\n",
       "    }\n",
       "</style>\n",
       "<table border=\"1\" class=\"dataframe\">\n",
       "  <thead>\n",
       "    <tr style=\"text-align: right;\">\n",
       "      <th></th>\n",
       "      <th>job_title</th>\n",
       "      <th>job_link</th>\n",
       "      <th>job_desc</th>\n",
       "    </tr>\n",
       "  </thead>\n",
       "  <tbody>\n",
       "    <tr>\n",
       "      <th>0</th>\n",
       "      <td>(Senior) SAP Consultant - Bulgaria</td>\n",
       "      <td>https://sjobs.brassring.com/TGnewUI/Search/hom...</td>\n",
       "      <td>NaN</td>\n",
       "    </tr>\n",
       "    <tr>\n",
       "      <th>1</th>\n",
       "      <td>Cisco Helpdesk - Senior Process Executive (Jap...</td>\n",
       "      <td>https://sjobs.brassring.com/TGnewUI/Search/hom...</td>\n",
       "      <td>NaN</td>\n",
       "    </tr>\n",
       "    <tr>\n",
       "      <th>2</th>\n",
       "      <td>Cisco Helpdesk - Senior Process Executive</td>\n",
       "      <td>https://sjobs.brassring.com/TGnewUI/Search/hom...</td>\n",
       "      <td>NaN</td>\n",
       "    </tr>\n",
       "    <tr>\n",
       "      <th>3</th>\n",
       "      <td>Cisco Helpdesk - Process Specialist (Korean Sp...</td>\n",
       "      <td>https://sjobs.brassring.com/TGnewUI/Search/hom...</td>\n",
       "      <td>NaN</td>\n",
       "    </tr>\n",
       "    <tr>\n",
       "      <th>4</th>\n",
       "      <td>Cisco Helpdesk - Process Specialist (Japanese ...</td>\n",
       "      <td>https://sjobs.brassring.com/TGnewUI/Search/hom...</td>\n",
       "      <td>NaN</td>\n",
       "    </tr>\n",
       "  </tbody>\n",
       "</table>\n",
       "</div>"
      ],
      "text/plain": [
       "                                           job_title  \\\n",
       "0                 (Senior) SAP Consultant - Bulgaria   \n",
       "1  Cisco Helpdesk - Senior Process Executive (Jap...   \n",
       "2          Cisco Helpdesk - Senior Process Executive   \n",
       "3  Cisco Helpdesk - Process Specialist (Korean Sp...   \n",
       "4  Cisco Helpdesk - Process Specialist (Japanese ...   \n",
       "\n",
       "                                            job_link  job_desc  \n",
       "0  https://sjobs.brassring.com/TGnewUI/Search/hom...       NaN  \n",
       "1  https://sjobs.brassring.com/TGnewUI/Search/hom...       NaN  \n",
       "2  https://sjobs.brassring.com/TGnewUI/Search/hom...       NaN  \n",
       "3  https://sjobs.brassring.com/TGnewUI/Search/hom...       NaN  \n",
       "4  https://sjobs.brassring.com/TGnewUI/Search/hom...       NaN  "
      ]
     },
     "execution_count": 11,
     "metadata": {},
     "output_type": "execute_result"
    }
   ],
   "source": [
    "df['job_desc'] = np.nan\n",
    "df.head()"
   ]
  },
  {
   "cell_type": "code",
   "execution_count": 12,
   "id": "e9bb040b",
   "metadata": {},
   "outputs": [],
   "source": [
    "df.to_csv('infosys_jobs_tech_title_link_updated.csv')"
   ]
  },
  {
   "cell_type": "code",
   "execution_count": null,
   "id": "52f53b27",
   "metadata": {},
   "outputs": [],
   "source": []
  },
  {
   "cell_type": "code",
   "execution_count": 2,
   "id": "df6bc0cf",
   "metadata": {},
   "outputs": [
    {
     "data": {
      "text/html": [
       "<div>\n",
       "<style scoped>\n",
       "    .dataframe tbody tr th:only-of-type {\n",
       "        vertical-align: middle;\n",
       "    }\n",
       "\n",
       "    .dataframe tbody tr th {\n",
       "        vertical-align: top;\n",
       "    }\n",
       "\n",
       "    .dataframe thead th {\n",
       "        text-align: right;\n",
       "    }\n",
       "</style>\n",
       "<table border=\"1\" class=\"dataframe\">\n",
       "  <thead>\n",
       "    <tr style=\"text-align: right;\">\n",
       "      <th></th>\n",
       "      <th>job_title</th>\n",
       "      <th>job_link</th>\n",
       "      <th>job_desc</th>\n",
       "    </tr>\n",
       "  </thead>\n",
       "  <tbody>\n",
       "    <tr>\n",
       "      <th>0</th>\n",
       "      <td>(Senior) SAP Consultant - Bulgaria</td>\n",
       "      <td>https://sjobs.brassring.com/TGnewUI/Search/hom...</td>\n",
       "      <td>NaN</td>\n",
       "    </tr>\n",
       "    <tr>\n",
       "      <th>1</th>\n",
       "      <td>Cisco Helpdesk - Senior Process Executive (Jap...</td>\n",
       "      <td>https://sjobs.brassring.com/TGnewUI/Search/hom...</td>\n",
       "      <td>NaN</td>\n",
       "    </tr>\n",
       "    <tr>\n",
       "      <th>2</th>\n",
       "      <td>Cisco Helpdesk - Senior Process Executive</td>\n",
       "      <td>https://sjobs.brassring.com/TGnewUI/Search/hom...</td>\n",
       "      <td>NaN</td>\n",
       "    </tr>\n",
       "    <tr>\n",
       "      <th>3</th>\n",
       "      <td>Cisco Helpdesk - Process Specialist (Korean Sp...</td>\n",
       "      <td>https://sjobs.brassring.com/TGnewUI/Search/hom...</td>\n",
       "      <td>NaN</td>\n",
       "    </tr>\n",
       "    <tr>\n",
       "      <th>4</th>\n",
       "      <td>Cisco Helpdesk - Process Specialist (Japanese ...</td>\n",
       "      <td>https://sjobs.brassring.com/TGnewUI/Search/hom...</td>\n",
       "      <td>NaN</td>\n",
       "    </tr>\n",
       "  </tbody>\n",
       "</table>\n",
       "</div>"
      ],
      "text/plain": [
       "                                           job_title  \\\n",
       "0                 (Senior) SAP Consultant - Bulgaria   \n",
       "1  Cisco Helpdesk - Senior Process Executive (Jap...   \n",
       "2          Cisco Helpdesk - Senior Process Executive   \n",
       "3  Cisco Helpdesk - Process Specialist (Korean Sp...   \n",
       "4  Cisco Helpdesk - Process Specialist (Japanese ...   \n",
       "\n",
       "                                            job_link  job_desc  \n",
       "0  https://sjobs.brassring.com/TGnewUI/Search/hom...       NaN  \n",
       "1  https://sjobs.brassring.com/TGnewUI/Search/hom...       NaN  \n",
       "2  https://sjobs.brassring.com/TGnewUI/Search/hom...       NaN  \n",
       "3  https://sjobs.brassring.com/TGnewUI/Search/hom...       NaN  \n",
       "4  https://sjobs.brassring.com/TGnewUI/Search/hom...       NaN  "
      ]
     },
     "execution_count": 2,
     "metadata": {},
     "output_type": "execute_result"
    }
   ],
   "source": [
    "df = pd.read_csv('infosys_jobs_tech_title_link_updated.csv')\n",
    "df = df.drop(columns=['Unnamed: 0'], axis=1)\n",
    "df.head()"
   ]
  },
  {
   "cell_type": "code",
   "execution_count": null,
   "id": "2cc804ae",
   "metadata": {},
   "outputs": [],
   "source": []
  },
  {
   "cell_type": "markdown",
   "id": "79d8a1ba",
   "metadata": {},
   "source": [
    "# Get job description data"
   ]
  },
  {
   "cell_type": "code",
   "execution_count": null,
   "id": "5707f2a9",
   "metadata": {},
   "outputs": [],
   "source": [
    "# job description text - wording and how the text is organized differs among job postings\n",
    "# xpath for the middle text (containing things like job description, minimum qualifications, preferred qualifications ...)\n",
    "# //*[@id=\"content\"]/div[1]/div[7]/div[4]/div[2]/div[2]/div[3]/div[4]/p[2]\n",
    "# //*[@id=\"content\"]/div[1]/div[7]/div[4]/div[2]/div[2]/div[3]/div[4]/p[2]\n",
    "\n"
   ]
  },
  {
   "cell_type": "code",
   "execution_count": null,
   "id": "c24d99cc",
   "metadata": {},
   "outputs": [],
   "source": [
    "# get job description data in batches. It takes too long to get all at once."
   ]
  },
  {
   "cell_type": "code",
   "execution_count": 12,
   "id": "deb748cd",
   "metadata": {},
   "outputs": [],
   "source": [
    "driver = webdriver.Chrome()\n",
    "\n",
    "for i in range(500):\n",
    "    #range(len(df['job_link'])):\n",
    "\n",
    "    try:\n",
    "        \n",
    "        url = (df['job_link'][i])\n",
    "        \n",
    "        driver.get(url)\n",
    "\n",
    "        \n",
    "        \n",
    "        desc = driver.find_element_by_xpath('//*[@id=\"content\"]/div[1]/div[7]/div[4]/div[2]/div/div[3]/div[4]/p[2]')\n",
    "        df['job_desc'][i] = desc.text\n",
    "        \n",
    "        #driver.close()  \n",
    "    except:\n",
    "        df['job_desc'][i] = ''\n",
    "\n",
    "driver.close()\n",
    "        \n",
    "df.to_csv('infosys_jobs_technology_jobs.csv')\n"
   ]
  },
  {
   "cell_type": "code",
   "execution_count": 14,
   "id": "0f83d475",
   "metadata": {},
   "outputs": [],
   "source": [
    "driver = webdriver.Chrome()\n",
    "\n",
    "for i in range(500, len(df['job_link'])):\n",
    "\n",
    "    try:\n",
    "        \n",
    "        url = (df['job_link'][i])\n",
    "        \n",
    "        driver.get(url)\n",
    "\n",
    "        desc = driver.find_element_by_xpath('//*[@id=\"content\"]/div[1]/div[7]/div[4]/div[2]/div/div[3]/div[4]/p[2]')\n",
    "        df['job_desc'][i] = desc.text\n",
    "        \n",
    "        #driver.close()  \n",
    "    except:\n",
    "        df['job_desc'][i] = ''\n",
    "\n",
    "driver.close()\n",
    "        \n",
    "df.to_csv('infosys_jobs_technology_jobs.csv')\n"
   ]
  },
  {
   "cell_type": "markdown",
   "id": "de28a3da",
   "metadata": {},
   "source": [
    "# Basic Cleaning"
   ]
  },
  {
   "cell_type": "code",
   "execution_count": 46,
   "id": "3d42852d",
   "metadata": {},
   "outputs": [
    {
     "data": {
      "text/plain": [
       "1111"
      ]
     },
     "execution_count": 46,
     "metadata": {},
     "output_type": "execute_result"
    }
   ],
   "source": [
    "to_drop = df[df['job_desc'] == ''].index\n",
    "df2 = df.drop(to_drop)\n",
    "len(df2)\n",
    "df2 = df2.dropna()\n",
    "len(df2)\n"
   ]
  },
  {
   "cell_type": "code",
   "execution_count": 47,
   "id": "bbab7f18",
   "metadata": {
    "scrolled": true
   },
   "outputs": [
    {
     "data": {
      "text/plain": [
       "'high-level role description:\\n\\nthe global delivery center (gdc) agent is responsible for providing exceptional customer support to cisco customers, partners, and internal requestors.   this role will deliver high-value experiences through simplified, successful interactions using all contact channels (telephone, portal, email, chat). the individual performing this role is expected to be knowledgeable across cisco’s entire portfolio of hardware, software, and services and will be responsible to make the complex easy and ensure each interaction with cisco is a positive one.\\nthis agent will solve complex interactions, offer proactive and even predictive support where self-service and automation are not feasible or desired.  they will make decisions based on analytical insights, have a bias to move fast, and be structured to implement operational changes quickly and efficiently.\\nusing exceptional customer service skills along with strong execution skills and a depth of knowledge of clo service offerings across hardware, software, and services, the agent will be fully accountable for successful customer resolutions. the agent will engage with requestors on situations requiring high levels of interaction and transaction, cases with high business complexity and escalated cases.  the agent will use inquiry-based questioning skills and create linkages across the service catalog.\\n\\nspecific responsibilities:\\nengage customer, understand their needs and translate this need to cisco work required, and set proper expectations about delivery time\\nidentify issues, carry out (rca) root cause analysis, troubleshoot and translate customer needs and requests into cisco work required (service identification)\\nfocus on resolving customer issues, not closing cases; solve the right problem for the requestor by looking beyond the stated requested to the true needs, distinguishing between relevant & irrelevant information; adhere to cisco business and compliance rules and professionally say no to requests that violate those policies\\nutilize proactive approach as indicated in cisco model, looking beyond the case to wider customer account activity and support needs\\nfocus on business outcomes and customer experience impacting metrics; maintain acceptable level of performance as measured via agent certification standards\\nmaintain ownership and accountability of requests; leverage support from cisco customer service resources as appropriate to drive resolutions while minimizing requestor effort; understand when to seek guidance and team with agents across the globe to solve problems\\ncollaborate with cross-functional partners, cisco and vendor representatives along with other resources in support of successful customer outcomes\\nidentify issues, carry out (rca) root cause analysis on cases that don’t meet expectations and implement process fix (in conjunction with process owners) to prevent future occurrences\\nshare tacit knowledge gained through customer interactions via km contribution approach so that knowledge can be leveraged by entire team\\nfocus on process improvement and automation opportunities via identification, qualification, and development of improvement ideas in conjunction with cisco staff\\ndomains:\\npartner\\ndisti\\ncustomer\\nfield\\n\\nskillset | profile:\\nexceptional communication skills including rapport building, use of customer centric language; demonstrating appropriate urgency; active listening skills, questioning, driving understanding and clarification of customers’ needs\\nadvanced proficiency level in speak, read and writing in japanese and english for business communication\\nadvanced transactional skills\\nexcellent verbal and written business communication skills in any other contracted language, where applicable\\nability to handle difficult situations, diffuse customer conflict by showing empathy; properly enforcing business rules that must be followed and offering alternative solutions where appropriate\\nquick learner who easily applies problem-solving, critical thinking, analysis skills and troubleshooting\\nflexible and adaptable to adjust as the business evolves; able to implement changes quickly and effectively\\ndetail-oriented with ability to process complex transactions\\nself -motivated and drive to succeed with natural curiosity, initiative and tenacity to drive issues to closure\\nability to engage and facilitate activities of others, follow up to understand status and help to course-correct to meet expected delivery date\\nexcellent time management skills, ability to juggle multiple tasks while maintaining composure\\ncomputer literacy including experience with case management systems, email, chat, windows- based applications; ability to effectively navigate multiple systems at once to accomplish a task\\nintermediate ms office skills, intermediate to advanced ms excel skills, including v-lookup, pivot tables, and formulas\\n\\n \\n\\n\\n '"
      ]
     },
     "execution_count": 47,
     "metadata": {},
     "output_type": "execute_result"
    }
   ],
   "source": [
    "df2['job_desc'][0]"
   ]
  },
  {
   "cell_type": "code",
   "execution_count": 48,
   "id": "8f09b19a",
   "metadata": {},
   "outputs": [],
   "source": [
    "df2['job_desc'] = df2['job_desc'].str.lower()"
   ]
  },
  {
   "cell_type": "code",
   "execution_count": 49,
   "id": "4f23027e",
   "metadata": {},
   "outputs": [
    {
     "data": {
      "text/plain": [
       "1061"
      ]
     },
     "execution_count": 49,
     "metadata": {},
     "output_type": "execute_result"
    }
   ],
   "source": [
    "df2 = df2.drop_duplicates(subset=['job_title', 'job_link', 'job_desc'])\n",
    "len(df2)"
   ]
  },
  {
   "cell_type": "code",
   "execution_count": 50,
   "id": "2ac8c8bd",
   "metadata": {},
   "outputs": [],
   "source": [
    "df2 = df2.reset_index(drop=True)"
   ]
  },
  {
   "cell_type": "code",
   "execution_count": 52,
   "id": "cbd24408",
   "metadata": {},
   "outputs": [
    {
     "data": {
      "text/html": [
       "<div>\n",
       "<style scoped>\n",
       "    .dataframe tbody tr th:only-of-type {\n",
       "        vertical-align: middle;\n",
       "    }\n",
       "\n",
       "    .dataframe tbody tr th {\n",
       "        vertical-align: top;\n",
       "    }\n",
       "\n",
       "    .dataframe thead th {\n",
       "        text-align: right;\n",
       "    }\n",
       "</style>\n",
       "<table border=\"1\" class=\"dataframe\">\n",
       "  <thead>\n",
       "    <tr style=\"text-align: right;\">\n",
       "      <th></th>\n",
       "      <th>job_title</th>\n",
       "      <th>job_link</th>\n",
       "      <th>job_desc</th>\n",
       "      <th>Company</th>\n",
       "      <th>Category</th>\n",
       "    </tr>\n",
       "  </thead>\n",
       "  <tbody>\n",
       "    <tr>\n",
       "      <th>0</th>\n",
       "      <td>(Senior) SAP Consultant - Bulgaria</td>\n",
       "      <td>https://sjobs.brassring.com/TGnewUI/Search/hom...</td>\n",
       "      <td>high-level role description:\\n\\nthe global del...</td>\n",
       "      <td>Infosys</td>\n",
       "      <td>Technology</td>\n",
       "    </tr>\n",
       "    <tr>\n",
       "      <th>1</th>\n",
       "      <td>Cisco Helpdesk - Senior Process Executive (Jap...</td>\n",
       "      <td>https://sjobs.brassring.com/TGnewUI/Search/hom...</td>\n",
       "      <td>role description:\\n\\nthe global delivery cente...</td>\n",
       "      <td>Infosys</td>\n",
       "      <td>Technology</td>\n",
       "    </tr>\n",
       "    <tr>\n",
       "      <th>2</th>\n",
       "      <td>Cisco Helpdesk - Senior Process Executive</td>\n",
       "      <td>https://sjobs.brassring.com/TGnewUI/Search/hom...</td>\n",
       "      <td>role description-:\\n\\nthe global delivery cent...</td>\n",
       "      <td>Infosys</td>\n",
       "      <td>Technology</td>\n",
       "    </tr>\n",
       "    <tr>\n",
       "      <th>3</th>\n",
       "      <td>Cisco Helpdesk - Process Specialist (Korean Sp...</td>\n",
       "      <td>https://sjobs.brassring.com/TGnewUI/Search/hom...</td>\n",
       "      <td>role description\\nthe global delivery center (...</td>\n",
       "      <td>Infosys</td>\n",
       "      <td>Technology</td>\n",
       "    </tr>\n",
       "    <tr>\n",
       "      <th>4</th>\n",
       "      <td>Cisco Helpdesk - Process Specialist (Japanese ...</td>\n",
       "      <td>https://sjobs.brassring.com/TGnewUI/Search/hom...</td>\n",
       "      <td>about us :\\n\\ninfosys is a global leader in ne...</td>\n",
       "      <td>Infosys</td>\n",
       "      <td>Technology</td>\n",
       "    </tr>\n",
       "  </tbody>\n",
       "</table>\n",
       "</div>"
      ],
      "text/plain": [
       "                                           job_title  \\\n",
       "0                 (Senior) SAP Consultant - Bulgaria   \n",
       "1  Cisco Helpdesk - Senior Process Executive (Jap...   \n",
       "2          Cisco Helpdesk - Senior Process Executive   \n",
       "3  Cisco Helpdesk - Process Specialist (Korean Sp...   \n",
       "4  Cisco Helpdesk - Process Specialist (Japanese ...   \n",
       "\n",
       "                                            job_link  \\\n",
       "0  https://sjobs.brassring.com/TGnewUI/Search/hom...   \n",
       "1  https://sjobs.brassring.com/TGnewUI/Search/hom...   \n",
       "2  https://sjobs.brassring.com/TGnewUI/Search/hom...   \n",
       "3  https://sjobs.brassring.com/TGnewUI/Search/hom...   \n",
       "4  https://sjobs.brassring.com/TGnewUI/Search/hom...   \n",
       "\n",
       "                                            job_desc  Company    Category  \n",
       "0  high-level role description:\\n\\nthe global del...  Infosys  Technology  \n",
       "1  role description:\\n\\nthe global delivery cente...  Infosys  Technology  \n",
       "2  role description-:\\n\\nthe global delivery cent...  Infosys  Technology  \n",
       "3  role description\\nthe global delivery center (...  Infosys  Technology  \n",
       "4  about us :\\n\\ninfosys is a global leader in ne...  Infosys  Technology  "
      ]
     },
     "execution_count": 52,
     "metadata": {},
     "output_type": "execute_result"
    }
   ],
   "source": [
    "df2['Company'] = 'Infosys'\n",
    "df2['Category'] = 'Technology'\n",
    "df2.head()"
   ]
  },
  {
   "cell_type": "code",
   "execution_count": 53,
   "id": "e7a881cf",
   "metadata": {},
   "outputs": [],
   "source": [
    "df.to_csv('infosys_jobs_technology_jobs.csv')"
   ]
  },
  {
   "cell_type": "code",
   "execution_count": null,
   "id": "63b31b42",
   "metadata": {},
   "outputs": [],
   "source": []
  }
 ],
 "metadata": {
  "kernelspec": {
   "display_name": "Python 3 (ipykernel)",
   "language": "python",
   "name": "python3"
  },
  "language_info": {
   "codemirror_mode": {
    "name": "ipython",
    "version": 3
   },
   "file_extension": ".py",
   "mimetype": "text/x-python",
   "name": "python",
   "nbconvert_exporter": "python",
   "pygments_lexer": "ipython3",
   "version": "3.9.7"
  }
 },
 "nbformat": 4,
 "nbformat_minor": 5
}

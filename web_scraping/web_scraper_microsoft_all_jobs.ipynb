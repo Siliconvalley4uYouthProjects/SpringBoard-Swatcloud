{
 "cells": [
  {
   "cell_type": "code",
   "execution_count": 1,
   "id": "3667fa7f",
   "metadata": {},
   "outputs": [],
   "source": [
    "from selenium import webdriver\n",
    "import requests\n",
    "from bs4 import BeautifulSoup\n",
    "from selenium import webdriver\n",
    "import time"
   ]
  },
  {
   "cell_type": "code",
   "execution_count": 2,
   "id": "925ed802",
   "metadata": {},
   "outputs": [],
   "source": [
    "import pandas as pd"
   ]
  },
  {
   "cell_type": "code",
   "execution_count": 3,
   "id": "ab4a5782",
   "metadata": {},
   "outputs": [],
   "source": [
    "#chromedriver_path = \"C:\\Program Files (x86)\\chromedriver.exe\""
   ]
  },
  {
   "cell_type": "code",
   "execution_count": 4,
   "id": "c4682543",
   "metadata": {},
   "outputs": [],
   "source": [
    "chrome_options = webdriver.ChromeOptions()\n",
    "chrome_options.add_argument('--headless')\n",
    "chrome_options.add_argument('--no-sandbox')\n",
    "chrome_options.add_argument('--disable-dev-shm-usage')"
   ]
  },
  {
   "cell_type": "code",
   "execution_count": 5,
   "id": "a1e8ae6d",
   "metadata": {},
   "outputs": [],
   "source": [
    "# technology jobs\n",
    "url1 = 'https://careers.microsoft.com/us/en/search-results?keywords=technology&from='\n",
    "url2 = '&s=1'"
   ]
  },
  {
   "cell_type": "code",
   "execution_count": 7,
   "id": "6ce77595",
   "metadata": {},
   "outputs": [],
   "source": [
    "def microsoft_get_jobs(url1, url2):\n",
    "    \"\"\"\n",
    "    retrieve job title and job link from every page in the URL\n",
    "    number_page -- Number of pages that one wish to retrive the data from.\n",
    "    Return: A tuple including all the job infromation for each job in each page\n",
    "    \"\"\"\n",
    "    job_title=[]\n",
    "    job_link=[]\n",
    "    page_num = 0\n",
    "\n",
    "    driver=webdriver.Chrome(options = chrome_options)\n",
    "    URL = url1 + str((page_num-1)*20) + url2\n",
    "    driver.get(URL)\n",
    "    time.sleep(1)\n",
    "    soup = BeautifulSoup(driver.page_source, 'html.parser')\n",
    "    \n",
    "    while soup.select(\"span[class=job-title]\") :\n",
    "        job_title.extend([td.text for td in soup.select(\"span[class=job-title]\")])\n",
    "        job_link.extend([td.find('a').get('href') for td in soup.findAll(\"div\", {\"class\": \"information\"})])\n",
    "        driver.quit()\n",
    "\n",
    "        page_num += 1\n",
    "        driver=webdriver.Chrome(options = chrome_options)\n",
    "        URL = url1 + str((page_num-1)*20) + url2\n",
    "        driver.get(URL)\n",
    "        time.sleep(2)\n",
    "        soup = BeautifulSoup(driver.page_source, 'html.parser')\n",
    "    \n",
    "    driver.quit() \n",
    "    return job_title,job_link"
   ]
  },
  {
   "cell_type": "code",
   "execution_count": 9,
   "id": "5a162e66",
   "metadata": {},
   "outputs": [],
   "source": [
    "job_title, job_link = microsoft_get_jobs(url1, url2)"
   ]
  },
  {
   "cell_type": "code",
   "execution_count": 11,
   "id": "0f1f45d7",
   "metadata": {},
   "outputs": [
    {
     "data": {
      "text/plain": [
       "['Lead Technical Animator – Gears of War – The Coalition',\n",
       " 'Software Engineer - CTJ',\n",
       " 'ESO Datacenter Operations Specialist',\n",
       " 'ESO Datacenter Program Manager',\n",
       " 'Senior Software Engineer']"
      ]
     },
     "execution_count": 11,
     "metadata": {},
     "output_type": "execute_result"
    }
   ],
   "source": [
    "job_title[0:5]"
   ]
  },
  {
   "cell_type": "code",
   "execution_count": 33,
   "id": "39e03c13",
   "metadata": {},
   "outputs": [],
   "source": [
    "def remove_space(s):\n",
    "  s_new = s.replace('\\xa0', '').replace('\\n', '')\n",
    "  while '  ' in s_new:\n",
    "    s_new = s_new.replace('  ', ' ')\n",
    "  return s_new"
   ]
  },
  {
   "cell_type": "code",
   "execution_count": null,
   "id": "c4038c42",
   "metadata": {},
   "outputs": [],
   "source": []
  },
  {
   "cell_type": "code",
   "execution_count": 12,
   "id": "4f397bc2",
   "metadata": {},
   "outputs": [],
   "source": [
    "# create a dataframe that contains job titles and links for all job categories\n",
    "df_title_link = pd.DataFrame(zip(job_title, job_link), columns=['JOB_TITLE', 'JOB_LINK'])"
   ]
  },
  {
   "cell_type": "code",
   "execution_count": 13,
   "id": "7925f305",
   "metadata": {},
   "outputs": [
    {
     "data": {
      "text/html": [
       "<div>\n",
       "<style scoped>\n",
       "    .dataframe tbody tr th:only-of-type {\n",
       "        vertical-align: middle;\n",
       "    }\n",
       "\n",
       "    .dataframe tbody tr th {\n",
       "        vertical-align: top;\n",
       "    }\n",
       "\n",
       "    .dataframe thead th {\n",
       "        text-align: right;\n",
       "    }\n",
       "</style>\n",
       "<table border=\"1\" class=\"dataframe\">\n",
       "  <thead>\n",
       "    <tr style=\"text-align: right;\">\n",
       "      <th></th>\n",
       "      <th>JOB_TITLE</th>\n",
       "      <th>JOB_LINK</th>\n",
       "    </tr>\n",
       "  </thead>\n",
       "  <tbody>\n",
       "    <tr>\n",
       "      <th>0</th>\n",
       "      <td>Lead Technical Animator – Gears of War – The C...</td>\n",
       "      <td>https://careers.microsoft.com/us/en/job/150444...</td>\n",
       "    </tr>\n",
       "    <tr>\n",
       "      <th>1</th>\n",
       "      <td>Software Engineer - CTJ</td>\n",
       "      <td>https://careers.microsoft.com/us/en/job/151261...</td>\n",
       "    </tr>\n",
       "    <tr>\n",
       "      <th>2</th>\n",
       "      <td>ESO Datacenter Operations Specialist</td>\n",
       "      <td>https://careers.microsoft.com/us/en/job/151199...</td>\n",
       "    </tr>\n",
       "    <tr>\n",
       "      <th>3</th>\n",
       "      <td>ESO Datacenter Program Manager</td>\n",
       "      <td>https://careers.microsoft.com/us/en/job/151198...</td>\n",
       "    </tr>\n",
       "    <tr>\n",
       "      <th>4</th>\n",
       "      <td>Senior Software Engineer</td>\n",
       "      <td>https://careers.microsoft.com/us/en/job/148279...</td>\n",
       "    </tr>\n",
       "  </tbody>\n",
       "</table>\n",
       "</div>"
      ],
      "text/plain": [
       "                                           JOB_TITLE  \\\n",
       "0  Lead Technical Animator – Gears of War – The C...   \n",
       "1                            Software Engineer - CTJ   \n",
       "2               ESO Datacenter Operations Specialist   \n",
       "3                     ESO Datacenter Program Manager   \n",
       "4                           Senior Software Engineer   \n",
       "\n",
       "                                            JOB_LINK  \n",
       "0  https://careers.microsoft.com/us/en/job/150444...  \n",
       "1  https://careers.microsoft.com/us/en/job/151261...  \n",
       "2  https://careers.microsoft.com/us/en/job/151199...  \n",
       "3  https://careers.microsoft.com/us/en/job/151198...  \n",
       "4  https://careers.microsoft.com/us/en/job/148279...  "
      ]
     },
     "execution_count": 13,
     "metadata": {},
     "output_type": "execute_result"
    }
   ],
   "source": [
    "df_title_link.head()"
   ]
  },
  {
   "cell_type": "code",
   "execution_count": 14,
   "id": "1bd1c1d2",
   "metadata": {},
   "outputs": [
    {
     "name": "stdout",
     "output_type": "stream",
     "text": [
      "1154\n"
     ]
    }
   ],
   "source": [
    "# drop the duplicates\n",
    "df_title_link = df_title_link.drop_duplicates()\n",
    "print(len(df_title_link))"
   ]
  },
  {
   "cell_type": "code",
   "execution_count": 15,
   "id": "cd5cf454",
   "metadata": {},
   "outputs": [],
   "source": [
    "# save the titles and links to csv\n",
    "df_title_link.to_csv('C:\\Online_Courses\\GitHub\\Swatcloud\\data\\web_scraping\\data\\microsoft_jobs_titles_links_all.csv')"
   ]
  },
  {
   "cell_type": "markdown",
   "id": "03336eff",
   "metadata": {},
   "source": [
    "## Extract job descriptions and qualifications for each job"
   ]
  },
  {
   "cell_type": "code",
   "execution_count": 16,
   "id": "a17d172e",
   "metadata": {},
   "outputs": [
    {
     "data": {
      "text/html": [
       "<div>\n",
       "<style scoped>\n",
       "    .dataframe tbody tr th:only-of-type {\n",
       "        vertical-align: middle;\n",
       "    }\n",
       "\n",
       "    .dataframe tbody tr th {\n",
       "        vertical-align: top;\n",
       "    }\n",
       "\n",
       "    .dataframe thead th {\n",
       "        text-align: right;\n",
       "    }\n",
       "</style>\n",
       "<table border=\"1\" class=\"dataframe\">\n",
       "  <thead>\n",
       "    <tr style=\"text-align: right;\">\n",
       "      <th></th>\n",
       "      <th>JOB_TITLE</th>\n",
       "      <th>JOB_LINK</th>\n",
       "    </tr>\n",
       "  </thead>\n",
       "  <tbody>\n",
       "    <tr>\n",
       "      <th>0</th>\n",
       "      <td>Lead Technical Animator – Gears of War – The C...</td>\n",
       "      <td>https://careers.microsoft.com/us/en/job/150444...</td>\n",
       "    </tr>\n",
       "    <tr>\n",
       "      <th>1</th>\n",
       "      <td>Software Engineer - CTJ</td>\n",
       "      <td>https://careers.microsoft.com/us/en/job/151261...</td>\n",
       "    </tr>\n",
       "    <tr>\n",
       "      <th>2</th>\n",
       "      <td>ESO Datacenter Operations Specialist</td>\n",
       "      <td>https://careers.microsoft.com/us/en/job/151199...</td>\n",
       "    </tr>\n",
       "    <tr>\n",
       "      <th>3</th>\n",
       "      <td>ESO Datacenter Program Manager</td>\n",
       "      <td>https://careers.microsoft.com/us/en/job/151198...</td>\n",
       "    </tr>\n",
       "    <tr>\n",
       "      <th>4</th>\n",
       "      <td>Senior Software Engineer</td>\n",
       "      <td>https://careers.microsoft.com/us/en/job/148279...</td>\n",
       "    </tr>\n",
       "  </tbody>\n",
       "</table>\n",
       "</div>"
      ],
      "text/plain": [
       "                                           JOB_TITLE  \\\n",
       "0  Lead Technical Animator – Gears of War – The C...   \n",
       "1                            Software Engineer - CTJ   \n",
       "2               ESO Datacenter Operations Specialist   \n",
       "3                     ESO Datacenter Program Manager   \n",
       "4                           Senior Software Engineer   \n",
       "\n",
       "                                            JOB_LINK  \n",
       "0  https://careers.microsoft.com/us/en/job/150444...  \n",
       "1  https://careers.microsoft.com/us/en/job/151261...  \n",
       "2  https://careers.microsoft.com/us/en/job/151199...  \n",
       "3  https://careers.microsoft.com/us/en/job/151198...  \n",
       "4  https://careers.microsoft.com/us/en/job/148279...  "
      ]
     },
     "execution_count": 16,
     "metadata": {},
     "output_type": "execute_result"
    }
   ],
   "source": [
    "# load in the job titles and links from the csv file\n",
    "df_title_link = pd.read_csv('C:\\Online_Courses\\GitHub\\Swatcloud\\data\\web_scraping\\data\\microsoft_jobs_titles_links_all.csv', index_col=0)\n",
    "df_title_link.head()"
   ]
  },
  {
   "cell_type": "code",
   "execution_count": 27,
   "id": "b47f8be0",
   "metadata": {},
   "outputs": [],
   "source": [
    "# retrieve job qualifications and descriptions\n",
    "def job_description(title, link):\n",
    "    qualifications = []\n",
    "    description = []\n",
    "    jobtitle = []\n",
    "    joblink = []\n",
    "\n",
    "    driver=webdriver.Chrome('chromedriver',options=chrome_options)\n",
    "    for i in range(len(link)):\n",
    "        URL=link[i]\n",
    "        driver.get(URL)\n",
    "        time.sleep(2)\n",
    "        soup = BeautifulSoup(driver.page_source, 'html.parser')\n",
    "        \n",
    "        s = ''\n",
    "        d = ''\n",
    "\n",
    "        try:\n",
    "          tag = soup.find('p', {'data-ph-at-id' : 'job-qualifications-text'}).find_all('li')\n",
    "          for t in tag:\n",
    "            s = s + '. ' + t.text\n",
    "        except:\n",
    "          print(i, 'no qual')\n",
    "        \n",
    "        try:\n",
    "          tag = soup.find('p', {'data-ph-at-id' : 'job-responsibilities-text'})\n",
    "          d =  tag.text\n",
    "        except:\n",
    "          print(i, 'no qual')\n",
    "        \n",
    "        if len(s) > 10:\n",
    "            qualifications.append(s)\n",
    "            description.append(d)   \n",
    "            jobtitle.append(title[i])\n",
    "            joblink.append(link[i])\n",
    "        \n",
    "    driver.quit()            \n",
    " \n",
    "    return jobtitle, link, qualifications, description"
   ]
  },
  {
   "cell_type": "code",
   "execution_count": 31,
   "id": "a337813d",
   "metadata": {},
   "outputs": [
    {
     "name": "stdout",
     "output_type": "stream",
     "text": [
      "1023 no qual\n"
     ]
    }
   ],
   "source": [
    "# retrieve the qualification for each job.\n",
    "title, link, qual, descrp = job_description(df_title_link['JOB_TITLE'].values, df_title_link['JOB_LINK'].values)"
   ]
  },
  {
   "cell_type": "code",
   "execution_count": 38,
   "id": "9764c173",
   "metadata": {},
   "outputs": [],
   "source": [
    "qual_cleaned = [remove_space(q) for q in qual]\n",
    "descrp_cleaned = [remove_space(d) for d in descrp]"
   ]
  },
  {
   "cell_type": "code",
   "execution_count": 44,
   "id": "68b3da2b",
   "metadata": {},
   "outputs": [
    {
     "data": {
      "text/html": [
       "<div>\n",
       "<style scoped>\n",
       "    .dataframe tbody tr th:only-of-type {\n",
       "        vertical-align: middle;\n",
       "    }\n",
       "\n",
       "    .dataframe tbody tr th {\n",
       "        vertical-align: top;\n",
       "    }\n",
       "\n",
       "    .dataframe thead th {\n",
       "        text-align: right;\n",
       "    }\n",
       "</style>\n",
       "<table border=\"1\" class=\"dataframe\">\n",
       "  <thead>\n",
       "    <tr style=\"text-align: right;\">\n",
       "      <th></th>\n",
       "      <th>COMPANY</th>\n",
       "      <th>TITLE</th>\n",
       "      <th>QUALIFICATIONS</th>\n",
       "      <th>LINK</th>\n",
       "      <th>DESCRIPTION</th>\n",
       "    </tr>\n",
       "  </thead>\n",
       "  <tbody>\n",
       "    <tr>\n",
       "      <th>0</th>\n",
       "      <td>Microsoft</td>\n",
       "      <td>Lead Technical Animator – Gears of War – The C...</td>\n",
       "      <td>Must have 5+ years of experience in AAA video...</td>\n",
       "      <td>https://careers.microsoft.com/us/en/job/150444...</td>\n",
       "      <td>Collaborate with animation leads, and engineer...</td>\n",
       "    </tr>\n",
       "    <tr>\n",
       "      <th>1</th>\n",
       "      <td>Microsoft</td>\n",
       "      <td>Software Engineer - CTJ</td>\n",
       "      <td>Bachelor's Degree in Computer Science, or rel...</td>\n",
       "      <td>https://careers.microsoft.com/us/en/job/151261...</td>\n",
       "      <td>Works with appropriate stakeholders to determi...</td>\n",
       "    </tr>\n",
       "    <tr>\n",
       "      <th>2</th>\n",
       "      <td>Microsoft</td>\n",
       "      <td>ESO Datacenter Operations Specialist</td>\n",
       "      <td>High School Diploma or equivalent AND 1+ year...</td>\n",
       "      <td>https://careers.microsoft.com/us/en/job/151199...</td>\n",
       "      <td>As a Datacenter Operations Specialist, your re...</td>\n",
       "    </tr>\n",
       "    <tr>\n",
       "      <th>3</th>\n",
       "      <td>Microsoft</td>\n",
       "      <td>ESO Datacenter Program Manager</td>\n",
       "      <td>High School Diploma or equivalent AND 1+ year...</td>\n",
       "      <td>https://careers.microsoft.com/us/en/job/151198...</td>\n",
       "      <td>As a Edge Site Operations DCPM,your responsibi...</td>\n",
       "    </tr>\n",
       "    <tr>\n",
       "      <th>4</th>\n",
       "      <td>Microsoft</td>\n",
       "      <td>Senior Software Engineer</td>\n",
       "      <td>4+ years of experience in software developmen...</td>\n",
       "      <td>https://careers.microsoft.com/us/en/job/148279...</td>\n",
       "      <td>Our solution is built using a mix of web techn...</td>\n",
       "    </tr>\n",
       "  </tbody>\n",
       "</table>\n",
       "</div>"
      ],
      "text/plain": [
       "     COMPANY                                              TITLE  \\\n",
       "0  Microsoft  Lead Technical Animator – Gears of War – The C...   \n",
       "1  Microsoft                            Software Engineer - CTJ   \n",
       "2  Microsoft               ESO Datacenter Operations Specialist   \n",
       "3  Microsoft                     ESO Datacenter Program Manager   \n",
       "4  Microsoft                           Senior Software Engineer   \n",
       "\n",
       "                                      QUALIFICATIONS  \\\n",
       "0   Must have 5+ years of experience in AAA video...   \n",
       "1   Bachelor's Degree in Computer Science, or rel...   \n",
       "2   High School Diploma or equivalent AND 1+ year...   \n",
       "3   High School Diploma or equivalent AND 1+ year...   \n",
       "4   4+ years of experience in software developmen...   \n",
       "\n",
       "                                                LINK  \\\n",
       "0  https://careers.microsoft.com/us/en/job/150444...   \n",
       "1  https://careers.microsoft.com/us/en/job/151261...   \n",
       "2  https://careers.microsoft.com/us/en/job/151199...   \n",
       "3  https://careers.microsoft.com/us/en/job/151198...   \n",
       "4  https://careers.microsoft.com/us/en/job/148279...   \n",
       "\n",
       "                                         DESCRIPTION  \n",
       "0  Collaborate with animation leads, and engineer...  \n",
       "1  Works with appropriate stakeholders to determi...  \n",
       "2  As a Datacenter Operations Specialist, your re...  \n",
       "3  As a Edge Site Operations DCPM,your responsibi...  \n",
       "4  Our solution is built using a mix of web techn...  "
      ]
     },
     "execution_count": 44,
     "metadata": {},
     "output_type": "execute_result"
    }
   ],
   "source": [
    "#create a dataframe from basic qualification and preferred qualification\n",
    "df = pd.DataFrame(zip(title, qual_cleaned, link, descrp_cleaned))\n",
    "df.columns = ['TITLE', 'QUALIFICATIONS', 'LINK', 'DESCRIPTION']\n",
    "df['COMPANY'] = 'Microsoft'\n",
    "df = df.iloc[:, [4, 0, 1, 2, 3]]\n",
    "df.head()"
   ]
  },
  {
   "cell_type": "code",
   "execution_count": 45,
   "id": "c0afe5c2",
   "metadata": {},
   "outputs": [
    {
     "name": "stdout",
     "output_type": "stream",
     "text": [
      "0\n"
     ]
    },
    {
     "data": {
      "text/plain": [
       "(1056, 5)"
      ]
     },
     "execution_count": 45,
     "metadata": {},
     "output_type": "execute_result"
    }
   ],
   "source": [
    "# look for empty QUALIFICATION entries\n",
    "def get_empty(df, colname) :\n",
    "  empty_idx=[]\n",
    "  for i in range(len(df[colname])):\n",
    "    count = len(df[colname][i])\n",
    "    if count<=10 : empty_idx.append(i)\n",
    "    else: pass\n",
    "  return empty_idx\n",
    "\n",
    "empty_mini_q = get_empty(df, 'QUALIFICATIONS')\n",
    "print(len(empty_mini_q))\n",
    "\n",
    "# drop the empty Qualification entries\n",
    "df.drop(empty_mini_q, inplace=True)\n",
    "df.shape"
   ]
  },
  {
   "cell_type": "code",
   "execution_count": 46,
   "id": "536adc52",
   "metadata": {},
   "outputs": [
    {
     "data": {
      "text/plain": [
       "(1056, 5)"
      ]
     },
     "execution_count": 46,
     "metadata": {},
     "output_type": "execute_result"
    }
   ],
   "source": [
    "\n",
    "df_nodup.shape"
   ]
  },
  {
   "cell_type": "code",
   "execution_count": 47,
   "id": "2f689514",
   "metadata": {},
   "outputs": [],
   "source": [
    "#remove the duplicated jobs\n",
    "df_nodup = df.drop_duplicates()\n",
    "print(\"There are {} jobs from Microsoft.\".format(df_nodup.shape[0]))\n",
    "\n",
    "df_nodup.to_csv('microsoft_technology_jobs_cleaned.csv')"
   ]
  },
  {
   "cell_type": "code",
   "execution_count": null,
   "id": "41aac964",
   "metadata": {},
   "outputs": [],
   "source": []
  }
 ],
 "metadata": {
  "kernelspec": {
   "display_name": "Python 3 (ipykernel)",
   "language": "python",
   "name": "python3"
  },
  "language_info": {
   "codemirror_mode": {
    "name": "ipython",
    "version": 3
   },
   "file_extension": ".py",
   "mimetype": "text/x-python",
   "name": "python",
   "nbconvert_exporter": "python",
   "pygments_lexer": "ipython3",
   "version": "3.10.4"
  }
 },
 "nbformat": 4,
 "nbformat_minor": 5
}

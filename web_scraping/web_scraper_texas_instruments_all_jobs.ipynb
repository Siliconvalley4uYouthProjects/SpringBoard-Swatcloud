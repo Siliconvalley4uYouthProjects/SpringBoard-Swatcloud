{
 "cells": [
  {
   "cell_type": "code",
   "execution_count": 1,
   "id": "3667fa7f",
   "metadata": {},
   "outputs": [],
   "source": [
    "import requests\n",
    "from bs4 import BeautifulSoup\n",
    "from selenium import webdriver\n",
    "import time\n",
    "import re\n",
    "import pandas as pd"
   ]
  },
  {
   "cell_type": "code",
   "execution_count": 4,
   "id": "c4682543",
   "metadata": {},
   "outputs": [],
   "source": [
    "chrome_options = webdriver.ChromeOptions()\n",
    "chrome_options.add_argument('--headless')\n",
    "chrome_options.add_argument('--no-sandbox')\n",
    "chrome_options.add_argument('--disable-dev-shm-usage')"
   ]
  },
  {
   "cell_type": "code",
   "execution_count": 5,
   "id": "a1e8ae6d",
   "metadata": {},
   "outputs": [],
   "source": [
    "# specify the url strings for the company's job posting website\n",
    "# technology jobs\n",
    "url1 = 'https://careers.ti.com/search-jobs/?keyword=technology&pg='\n",
    "url2 = ''"
   ]
  },
  {
   "cell_type": "code",
   "execution_count": 26,
   "id": "6ce77595",
   "metadata": {},
   "outputs": [],
   "source": [
    "def ti_get_jobs(url1, url2):\n",
    "    \"\"\"\n",
    "    retrieve job titles and job links from each page\n",
    "    \"\"\"\n",
    "    job_title=[]\n",
    "    job_link=[]\n",
    "    page_num = 0\n",
    "\n",
    "    driver=webdriver.Chrome(options = chrome_options)\n",
    "    URL = url1 + str(page_num) + url2\n",
    "    driver.get(URL)\n",
    "    time.sleep(1)\n",
    "    soup = BeautifulSoup(driver.page_source, 'html.parser')\n",
    "    \n",
    "    # will exit while loop when soup.find_all returns None\n",
    "    while soup.find_all(\"div\", {\"class\": \"jobTitle\"}) :\n",
    "        for td in soup.findAll(\"div\", {\"class\": \"jobTitle\"}):\n",
    "            job_title.append(td.text)\n",
    "            job_link.append(['https://careers.ti.com' + td.findNext('a')['href']])\n",
    "        driver.quit()\n",
    "\n",
    "        page_num += 1\n",
    "        driver=webdriver.Chrome(options = chrome_options)\n",
    "        URL = url1 + str(page_num) + url2\n",
    "        driver.get(URL)\n",
    "        time.sleep(2)\n",
    "        soup = BeautifulSoup(driver.page_source, 'html.parser')\n",
    "    \n",
    "    driver.quit() \n",
    "    return job_title,job_link"
   ]
  },
  {
   "cell_type": "code",
   "execution_count": 27,
   "id": "5a162e66",
   "metadata": {},
   "outputs": [],
   "source": [
    "job_title, job_link = ti_get_jobs(url1, url2)"
   ]
  },
  {
   "cell_type": "code",
   "execution_count": 75,
   "id": "39e03c13",
   "metadata": {},
   "outputs": [],
   "source": [
    "def remove_char(s):\n",
    "  s_new = s.replace('\\n', ' ').replace('\\xa0', ' ')\n",
    "  while '  ' in s_new:\n",
    "    s_new = s_new.replace('  ', ' ')\n",
    "  return s_new"
   ]
  },
  {
   "cell_type": "code",
   "execution_count": 40,
   "id": "4f397bc2",
   "metadata": {},
   "outputs": [],
   "source": [
    "job_link_cleaned = [s[0] for s in job_link\n",
    "                    \n",
    "# create a dataframe that contains job titles and links for all job categories\n",
    "df_title_link = pd.DataFrame(zip(job_title, job_link_cleaned), columns=['JOB_TITLE', 'JOB_LINK'])\n",
    "\n",
    "# drop the duplicates\n",
    "df_title_link = df_title_link.drop_duplicates()"
   ]
  },
  {
   "cell_type": "markdown",
   "id": "03336eff",
   "metadata": {},
   "source": [
    "## Extract job descriptions and qualifications for each job"
   ]
  },
  {
   "cell_type": "code",
   "execution_count": 144,
   "id": "b47f8be0",
   "metadata": {},
   "outputs": [],
   "source": [
    "# retrieve job qualifications and descriptions\n",
    "def job_description(title, link):\n",
    "    qualifications = []\n",
    "    description = []\n",
    "    jobtitle = []\n",
    "    joblink = []\n",
    "\n",
    "    driver=webdriver.Chrome('chromedriver',options=chrome_options)\n",
    "    for i in range(len(link)):\n",
    "        URL=link[i]\n",
    "        driver.get(URL)\n",
    "        time.sleep(2)\n",
    "        soup = BeautifulSoup(driver.page_source, 'html.parser')\n",
    "        \n",
    "        s = ''\n",
    "        d = ''\n",
    "\n",
    "        try:\n",
    "          tag = soup.find(re.compile(\"(b|strong)\"), text=re.compile(\"(Minimum Reqirements|Minimum reqirements)\")).findNext(\"ul\")\n",
    "          if tag:\n",
    "            s = s + \" \" + tag.text\n",
    "        except: pass\n",
    "        \n",
    "        try:\n",
    "          tag = soup.find(re.compile(\"(b|strong)\"), text=re.compile(\"(Preferred|Required)\")).findNext(\"ul\")\n",
    "          if tag:\n",
    "            s = s + \" \" + tag.text\n",
    "        except: pass\n",
    "\n",
    "        # retrieve job descriptions. This will only work if the descriptions are listed as \n",
    "        # bullet points under tag \"ul\"\n",
    "        try:\n",
    "          tag = soup.find(\"span\", text=\"Apply online\").findNext('ul')\n",
    "          d = tag.text\n",
    "        except: pass\n",
    "        \n",
    "        qualifications.append(s)\n",
    "        description.append(d)   \n",
    "        jobtitle.append(title[i])\n",
    "        joblink.append(link[i])\n",
    "        \n",
    "    driver.quit()            \n",
    " \n",
    "    return jobtitle, link, qualifications, description"
   ]
  },
  {
   "cell_type": "code",
   "execution_count": 148,
   "id": "a337813d",
   "metadata": {},
   "outputs": [],
   "source": [
    "# retrieve the qualification for each job.\n",
    "title, link, qual, descrp = job_description(df_title_link['JOB_TITLE'].values, df_title_link['JOB_LINK'].values)"
   ]
  },
  {
   "cell_type": "code",
   "execution_count": 149,
   "id": "b680bb86",
   "metadata": {},
   "outputs": [],
   "source": [
    "qual_cleaned = [remove_char(q) for q in qual]\n",
    "descrp_cleaned = [remove_char(d) for d in descrp]"
   ]
  },
  {
   "cell_type": "code",
   "execution_count": 150,
   "id": "68b3da2b",
   "metadata": {},
   "outputs": [
    {
     "data": {
      "text/html": [
       "<div>\n",
       "<style scoped>\n",
       "    .dataframe tbody tr th:only-of-type {\n",
       "        vertical-align: middle;\n",
       "    }\n",
       "\n",
       "    .dataframe tbody tr th {\n",
       "        vertical-align: top;\n",
       "    }\n",
       "\n",
       "    .dataframe thead th {\n",
       "        text-align: right;\n",
       "    }\n",
       "</style>\n",
       "<table border=\"1\" class=\"dataframe\">\n",
       "  <thead>\n",
       "    <tr style=\"text-align: right;\">\n",
       "      <th></th>\n",
       "      <th>COMPANY</th>\n",
       "      <th>TITLE</th>\n",
       "      <th>QUALIFICATIONS</th>\n",
       "      <th>LINK</th>\n",
       "      <th>DESCRIPTION</th>\n",
       "    </tr>\n",
       "  </thead>\n",
       "  <tbody>\n",
       "    <tr>\n",
       "      <th>0</th>\n",
       "      <td>TI</td>\n",
       "      <td>Systems Engineering Intern (m/f/d) - Automotive</td>\n",
       "      <td>Understanding of power supply topologies, con...</td>\n",
       "      <td>https://careers.ti.com/job/17665412/systems-en...</td>\n",
       "      <td>Develop power supply solutions for strategic ...</td>\n",
       "    </tr>\n",
       "    <tr>\n",
       "      <th>1</th>\n",
       "      <td>TI</td>\n",
       "      <td>Facilities Professional Mechanical Engineer</td>\n",
       "      <td>Good exposure and knowledge of semiconductor ...</td>\n",
       "      <td>https://careers.ti.com/job/17665009/facilities...</td>\n",
       "      <td>Responsible to lead and manage all Mechanical...</td>\n",
       "    </tr>\n",
       "    <tr>\n",
       "      <th>2</th>\n",
       "      <td>TI</td>\n",
       "      <td>Systems Engineering Intern (m/f/d) - Industrial</td>\n",
       "      <td>Experience with lab equipment such as oscillo...</td>\n",
       "      <td>https://careers.ti.com/job/17665008/systems-en...</td>\n",
       "      <td>Working with product lines, customers, sales ...</td>\n",
       "    </tr>\n",
       "    <tr>\n",
       "      <th>3</th>\n",
       "      <td>TI</td>\n",
       "      <td>MEMS / BEOL Integration Engineer</td>\n",
       "      <td>Expert knowledge of MEMS / BEOL Integration :...</td>\n",
       "      <td>https://careers.ti.com/job/17664067/mems-beol-...</td>\n",
       "      <td>Work in cross-functional teams, with circuit ...</td>\n",
       "    </tr>\n",
       "    <tr>\n",
       "      <th>4</th>\n",
       "      <td>TI</td>\n",
       "      <td>Fire Protection Specialist</td>\n",
       "      <td>Strong verbal and written communication skill...</td>\n",
       "      <td>https://careers.ti.com/job/17658114/fire-prote...</td>\n",
       "      <td>Interpretation of building code, life safety ...</td>\n",
       "    </tr>\n",
       "  </tbody>\n",
       "</table>\n",
       "</div>"
      ],
      "text/plain": [
       "  COMPANY                                            TITLE  \\\n",
       "0      TI  Systems Engineering Intern (m/f/d) - Automotive   \n",
       "1      TI      Facilities Professional Mechanical Engineer   \n",
       "2      TI  Systems Engineering Intern (m/f/d) - Industrial   \n",
       "3      TI                 MEMS / BEOL Integration Engineer   \n",
       "4      TI                       Fire Protection Specialist   \n",
       "\n",
       "                                      QUALIFICATIONS  \\\n",
       "0   Understanding of power supply topologies, con...   \n",
       "1   Good exposure and knowledge of semiconductor ...   \n",
       "2   Experience with lab equipment such as oscillo...   \n",
       "3   Expert knowledge of MEMS / BEOL Integration :...   \n",
       "4   Strong verbal and written communication skill...   \n",
       "\n",
       "                                                LINK  \\\n",
       "0  https://careers.ti.com/job/17665412/systems-en...   \n",
       "1  https://careers.ti.com/job/17665009/facilities...   \n",
       "2  https://careers.ti.com/job/17665008/systems-en...   \n",
       "3  https://careers.ti.com/job/17664067/mems-beol-...   \n",
       "4  https://careers.ti.com/job/17658114/fire-prote...   \n",
       "\n",
       "                                         DESCRIPTION  \n",
       "0   Develop power supply solutions for strategic ...  \n",
       "1   Responsible to lead and manage all Mechanical...  \n",
       "2   Working with product lines, customers, sales ...  \n",
       "3   Work in cross-functional teams, with circuit ...  \n",
       "4   Interpretation of building code, life safety ...  "
      ]
     },
     "execution_count": 150,
     "metadata": {},
     "output_type": "execute_result"
    }
   ],
   "source": [
    "#create a dataframe from basic qualification and preferred qualification\n",
    "df = pd.DataFrame(zip(title, qual_cleaned, link, descrp_cleaned))\n",
    "df.columns = ['TITLE', 'QUALIFICATIONS', 'LINK', 'DESCRIPTION']\n",
    "df['COMPANY'] = 'TI'\n",
    "df = df.iloc[:, [4, 0, 1, 2, 3]]"
   ]
  },
  {
   "cell_type": "code",
   "execution_count": 151,
   "id": "c0afe5c2",
   "metadata": {},
   "outputs": [
    {
     "name": "stdout",
     "output_type": "stream",
     "text": [
      "66\n"
     ]
    },
    {
     "data": {
      "text/plain": [
       "(408, 5)"
      ]
     },
     "execution_count": 151,
     "metadata": {},
     "output_type": "execute_result"
    }
   ],
   "source": [
    "# look for empty QUALIFICATION entries\n",
    "def get_empty(df, colname) :\n",
    "  empty_idx=[]\n",
    "  for i in range(len(df[colname])):\n",
    "    count = len(df[colname][i])\n",
    "    if count<=10 : empty_idx.append(i)\n",
    "    else: pass\n",
    "  return empty_idx\n",
    "\n",
    "empty_mini_q = get_empty(df, 'QUALIFICATIONS')\n",
    "print(len(empty_mini_q))\n",
    "\n",
    "# drop the empty Qualification entries\n",
    "df.drop(empty_mini_q, inplace=True)"
   ]
  },
  {
   "cell_type": "code",
   "execution_count": 155,
   "id": "2f689514",
   "metadata": {},
   "outputs": [],
   "source": [
    "#remove the duplicated jobs\n",
    "df_nodup = df.drop_duplicates()\n",
    "print(\"There are {} jobs from Texas Instruments.\".format(df_nodup.shape[0]))\n",
    "\n",
    "df_nodup.to_csv('ti_technology_jobs_cleaned.csv')"
   ]
  }
 ],
 "metadata": {
  "kernelspec": {
   "display_name": "Python 3 (ipykernel)",
   "language": "python",
   "name": "python3"
  },
  "language_info": {
   "codemirror_mode": {
    "name": "ipython",
    "version": 3
   },
   "file_extension": ".py",
   "mimetype": "text/x-python",
   "name": "python",
   "nbconvert_exporter": "python",
   "pygments_lexer": "ipython3",
   "version": "3.10.4"
  }
 },
 "nbformat": 4,
 "nbformat_minor": 5
}

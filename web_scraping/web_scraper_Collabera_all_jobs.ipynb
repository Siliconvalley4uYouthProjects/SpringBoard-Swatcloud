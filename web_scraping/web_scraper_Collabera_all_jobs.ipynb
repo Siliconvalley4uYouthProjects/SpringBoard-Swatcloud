{
 "cells": [
  {
   "cell_type": "code",
   "execution_count": 3,
   "id": "aa8ed824",
   "metadata": {},
   "outputs": [],
   "source": [
    "from selenium import webdriver\n",
    "import pandas as pd\n",
    "import numpy as np\n",
    "from selenium.webdriver.common.by import By"
   ]
  },
  {
   "cell_type": "code",
   "execution_count": 4,
   "id": "1d66dda9",
   "metadata": {},
   "outputs": [],
   "source": [
    "# loop doesn't break. Once the pages end, it automatically loads the last page.\n",
    "\n",
    "x = 1\n",
    "i = 1\n",
    "\n",
    "job_title = []\n",
    "job_link = []\n",
    "\n",
    "driver = webdriver.Chrome()\n",
    "driver.implicitly_wait(20)\n",
    "\n",
    "while x != 0:\n",
    "\n",
    "    try:\n",
    "    \n",
    "        url = 'https://collabera.com/job-search/?sort_by=&industry=&keyword=&location=&Posteddays=0&q='+str(i)\n",
    "        \n",
    "        driver.get(url)\n",
    "    \n",
    "        for j in range(1,11):\n",
    "            title = driver.find_element(By.XPATH,'/html/body/div[1]/section[3]/div/div/div[2]/div/div[2]/div['+str(j)+']/div/a/h5')\n",
    "            job_title.append(title.text)\n",
    "\n",
    "            link = driver.find_element(By.XPATH,'/html/body/div[1]/section[3]/div/div/div[2]/div/div[2]/div['+str(j)+']/div/a')\n",
    "            job_link.append(link.get_attribute('href'))    \n",
    "\n",
    "    except:\n",
    "        x -= 1\n",
    "    \n",
    "    i +=1\n",
    "\n",
    "driver.close()"
   ]
  },
  {
   "cell_type": "code",
   "execution_count": null,
   "id": "2c6ceeb0",
   "metadata": {},
   "outputs": [],
   "source": []
  },
  {
   "cell_type": "code",
   "execution_count": 5,
   "id": "707d78ed",
   "metadata": {},
   "outputs": [
    {
     "name": "stdout",
     "output_type": "stream",
     "text": [
      "1443 1443\n"
     ]
    }
   ],
   "source": [
    "print(len(job_link), len(job_title))"
   ]
  },
  {
   "cell_type": "code",
   "execution_count": 6,
   "id": "727ef009",
   "metadata": {},
   "outputs": [
    {
     "data": {
      "text/html": [
       "<div>\n",
       "<style scoped>\n",
       "    .dataframe tbody tr th:only-of-type {\n",
       "        vertical-align: middle;\n",
       "    }\n",
       "\n",
       "    .dataframe tbody tr th {\n",
       "        vertical-align: top;\n",
       "    }\n",
       "\n",
       "    .dataframe thead th {\n",
       "        text-align: right;\n",
       "    }\n",
       "</style>\n",
       "<table border=\"1\" class=\"dataframe\">\n",
       "  <thead>\n",
       "    <tr style=\"text-align: right;\">\n",
       "      <th></th>\n",
       "      <th>TITLE</th>\n",
       "      <th>LINK</th>\n",
       "    </tr>\n",
       "  </thead>\n",
       "  <tbody>\n",
       "    <tr>\n",
       "      <th>0</th>\n",
       "      <td>Business Analyst</td>\n",
       "      <td>https://collabera.com/job-description/?post=33...</td>\n",
       "    </tr>\n",
       "    <tr>\n",
       "      <th>1</th>\n",
       "      <td>Tax Accountant</td>\n",
       "      <td>https://collabera.com/job-description/?post=33...</td>\n",
       "    </tr>\n",
       "    <tr>\n",
       "      <th>2</th>\n",
       "      <td>AML/Fraud/Claims Analyst</td>\n",
       "      <td>https://collabera.com/job-description/?post=33...</td>\n",
       "    </tr>\n",
       "    <tr>\n",
       "      <th>3</th>\n",
       "      <td>Network Analyst</td>\n",
       "      <td>https://collabera.com/job-description/?post=33...</td>\n",
       "    </tr>\n",
       "    <tr>\n",
       "      <th>4</th>\n",
       "      <td>Payroll Coordinator</td>\n",
       "      <td>https://collabera.com/job-description/?post=33...</td>\n",
       "    </tr>\n",
       "  </tbody>\n",
       "</table>\n",
       "</div>"
      ],
      "text/plain": [
       "                      TITLE                                               LINK\n",
       "0          Business Analyst  https://collabera.com/job-description/?post=33...\n",
       "1            Tax Accountant  https://collabera.com/job-description/?post=33...\n",
       "2  AML/Fraud/Claims Analyst  https://collabera.com/job-description/?post=33...\n",
       "3           Network Analyst  https://collabera.com/job-description/?post=33...\n",
       "4       Payroll Coordinator  https://collabera.com/job-description/?post=33..."
      ]
     },
     "execution_count": 6,
     "metadata": {},
     "output_type": "execute_result"
    }
   ],
   "source": [
    "df = pd.DataFrame(zip(job_title, job_link))\n",
    "df.columns = ['TITLE', 'LINK']\n",
    "df.head()"
   ]
  },
  {
   "cell_type": "code",
   "execution_count": 7,
   "id": "2cc804ae",
   "metadata": {
    "scrolled": true
   },
   "outputs": [
    {
     "data": {
      "text/html": [
       "<div>\n",
       "<style scoped>\n",
       "    .dataframe tbody tr th:only-of-type {\n",
       "        vertical-align: middle;\n",
       "    }\n",
       "\n",
       "    .dataframe tbody tr th {\n",
       "        vertical-align: top;\n",
       "    }\n",
       "\n",
       "    .dataframe thead th {\n",
       "        text-align: right;\n",
       "    }\n",
       "</style>\n",
       "<table border=\"1\" class=\"dataframe\">\n",
       "  <thead>\n",
       "    <tr style=\"text-align: right;\">\n",
       "      <th></th>\n",
       "      <th>TITLE</th>\n",
       "      <th>LINK</th>\n",
       "      <th>QUALIFICATIONS</th>\n",
       "    </tr>\n",
       "  </thead>\n",
       "  <tbody>\n",
       "    <tr>\n",
       "      <th>0</th>\n",
       "      <td>Business Analyst</td>\n",
       "      <td>https://collabera.com/job-description/?post=33...</td>\n",
       "      <td>NaN</td>\n",
       "    </tr>\n",
       "    <tr>\n",
       "      <th>1</th>\n",
       "      <td>Tax Accountant</td>\n",
       "      <td>https://collabera.com/job-description/?post=33...</td>\n",
       "      <td>NaN</td>\n",
       "    </tr>\n",
       "    <tr>\n",
       "      <th>2</th>\n",
       "      <td>AML/Fraud/Claims Analyst</td>\n",
       "      <td>https://collabera.com/job-description/?post=33...</td>\n",
       "      <td>NaN</td>\n",
       "    </tr>\n",
       "    <tr>\n",
       "      <th>3</th>\n",
       "      <td>Network Analyst</td>\n",
       "      <td>https://collabera.com/job-description/?post=33...</td>\n",
       "      <td>NaN</td>\n",
       "    </tr>\n",
       "    <tr>\n",
       "      <th>4</th>\n",
       "      <td>Payroll Coordinator</td>\n",
       "      <td>https://collabera.com/job-description/?post=33...</td>\n",
       "      <td>NaN</td>\n",
       "    </tr>\n",
       "  </tbody>\n",
       "</table>\n",
       "</div>"
      ],
      "text/plain": [
       "                      TITLE  \\\n",
       "0          Business Analyst   \n",
       "1            Tax Accountant   \n",
       "2  AML/Fraud/Claims Analyst   \n",
       "3           Network Analyst   \n",
       "4       Payroll Coordinator   \n",
       "\n",
       "                                                LINK  QUALIFICATIONS  \n",
       "0  https://collabera.com/job-description/?post=33...             NaN  \n",
       "1  https://collabera.com/job-description/?post=33...             NaN  \n",
       "2  https://collabera.com/job-description/?post=33...             NaN  \n",
       "3  https://collabera.com/job-description/?post=33...             NaN  \n",
       "4  https://collabera.com/job-description/?post=33...             NaN  "
      ]
     },
     "execution_count": 7,
     "metadata": {},
     "output_type": "execute_result"
    }
   ],
   "source": [
    "df['QUALIFICATIONS'] = np.nan\n",
    "df.head()"
   ]
  },
  {
   "cell_type": "code",
   "execution_count": 15,
   "id": "7271b6b1",
   "metadata": {},
   "outputs": [],
   "source": [
    "# Inconsistant formatting/wording on the job description page.\n",
    "# I tested getting just the li tags. However, the amount of text is very similar.\n",
    "# But since some job description pages don't have li tags, those will be missed by the script.\n",
    "# Therefore, I decided to get the whole text on the job description page. Luckily, the text is not very long on the pgaes.\n",
    "\n",
    "driver = webdriver.Chrome()\n",
    "    \n",
    "for i in range(len(df['LINK'])):\n",
    "    \n",
    "    try:\n",
    "        url = (df['LINK'][i]) \n",
    "        driver.get(url)             \n",
    "        txt = driver.find_element(By.XPATH, '/html/body/div[1]/section[2]/div/div/div[1]/div[1]/div')\n",
    "        df['QUALIFICATIONS'][i] = txt.text\n",
    "              \n",
    "    except:\n",
    "        df['QUALIFICATIONS'][i] = np.nan\n",
    "        \n",
    "driver.close()"
   ]
  },
  {
   "cell_type": "code",
   "execution_count": 18,
   "id": "80163298",
   "metadata": {},
   "outputs": [
    {
     "data": {
      "text/plain": [
       "'Roles & Responsibilities:\\n• Developing, maintaining, and managing advanced reporting, analytics, dashboards and other BI solutions.\\n• Hands on with Tableau Desktop (dashboard creation, report authoring and troubleshooting, data source management).\\n• Performing and documenting data analysis, data validation, and data mapping/design.\\n• Fine tuned SQL Queries for maximum efficiency and performance.\\n• Reviewing and improving existing systems and collaborating with teams to integrate new systems.\\n• Conducting unit tests and developing database queries to analyze the effects and troubleshoot any issues.\\n• Creating visualizations for the data extracted with the help of Tableau\\n• Managing Tableau Server and Administration on Linux Server including Tableau server upgrade/installation.\\n• Finding the key areas of automation to make the business processes smooth\\n\\nRequired Skills:\\n• 10+ years of experience in enterprise BI development\\n• 7 years of hand on experience with Tableau\\n• Experience in relational databases Oracle, Sybase, MongoDB experience in managing unstructured data\\n• Experience in managing and implementing successful projects\\n• Working knowledge of consulting/project management techniques/methods\\n• Ability to work under pressure and manage deadlines or unexpected changes in expectations or requirements\\n• Strong Analytical and communication skills\\n\\nDesired Skills:\\n• Analytics using BigData is a plus\\n• Knowledge and hands-on experience with TabPy and Data Management Addon is Plus.\\n• Experience in working within an Agile development methodology is a plus\\n '"
      ]
     },
     "execution_count": 18,
     "metadata": {},
     "output_type": "execute_result"
    }
   ],
   "source": [
    "df['QUALIFICATIONS'][1442]"
   ]
  },
  {
   "cell_type": "code",
   "execution_count": 19,
   "id": "84f24289",
   "metadata": {},
   "outputs": [],
   "source": [
    "df.to_csv('collabera_jobs.csv')"
   ]
  },
  {
   "cell_type": "code",
   "execution_count": 20,
   "id": "fcb28b5d",
   "metadata": {},
   "outputs": [
    {
     "data": {
      "text/plain": [
       "TITLE             0\n",
       "LINK              0\n",
       "QUALIFICATIONS    2\n",
       "dtype: int64"
      ]
     },
     "execution_count": 20,
     "metadata": {},
     "output_type": "execute_result"
    }
   ],
   "source": [
    "df.isna().sum()"
   ]
  },
  {
   "cell_type": "code",
   "execution_count": 21,
   "id": "182edd98",
   "metadata": {},
   "outputs": [
    {
     "data": {
      "text/plain": [
       "1441"
      ]
     },
     "execution_count": 21,
     "metadata": {},
     "output_type": "execute_result"
    }
   ],
   "source": [
    "df = df.dropna()\n",
    "len(df)"
   ]
  },
  {
   "cell_type": "code",
   "execution_count": 22,
   "id": "963c5503",
   "metadata": {
    "scrolled": true
   },
   "outputs": [
    {
     "data": {
      "text/html": [
       "<div>\n",
       "<style scoped>\n",
       "    .dataframe tbody tr th:only-of-type {\n",
       "        vertical-align: middle;\n",
       "    }\n",
       "\n",
       "    .dataframe tbody tr th {\n",
       "        vertical-align: top;\n",
       "    }\n",
       "\n",
       "    .dataframe thead th {\n",
       "        text-align: right;\n",
       "    }\n",
       "</style>\n",
       "<table border=\"1\" class=\"dataframe\">\n",
       "  <thead>\n",
       "    <tr style=\"text-align: right;\">\n",
       "      <th></th>\n",
       "      <th>TITLE</th>\n",
       "      <th>LINK</th>\n",
       "      <th>QUALIFICATIONS</th>\n",
       "    </tr>\n",
       "  </thead>\n",
       "  <tbody>\n",
       "  </tbody>\n",
       "</table>\n",
       "</div>"
      ],
      "text/plain": [
       "Empty DataFrame\n",
       "Columns: [TITLE, LINK, QUALIFICATIONS]\n",
       "Index: []"
      ]
     },
     "execution_count": 22,
     "metadata": {},
     "output_type": "execute_result"
    }
   ],
   "source": [
    "df[df['QUALIFICATIONS'] == '']"
   ]
  },
  {
   "cell_type": "code",
   "execution_count": 7,
   "id": "26858e0d",
   "metadata": {},
   "outputs": [],
   "source": [
    "df.to_csv('collabera_jobs.csv')"
   ]
  },
  {
   "cell_type": "code",
   "execution_count": 25,
   "id": "07bab0a3",
   "metadata": {
    "scrolled": false
   },
   "outputs": [
    {
     "data": {
      "text/html": [
       "<div>\n",
       "<style scoped>\n",
       "    .dataframe tbody tr th:only-of-type {\n",
       "        vertical-align: middle;\n",
       "    }\n",
       "\n",
       "    .dataframe tbody tr th {\n",
       "        vertical-align: top;\n",
       "    }\n",
       "\n",
       "    .dataframe thead th {\n",
       "        text-align: right;\n",
       "    }\n",
       "</style>\n",
       "<table border=\"1\" class=\"dataframe\">\n",
       "  <thead>\n",
       "    <tr style=\"text-align: right;\">\n",
       "      <th></th>\n",
       "      <th>COMPANY</th>\n",
       "      <th>TITLE</th>\n",
       "      <th>QUALIFICATIONS</th>\n",
       "      <th>LINK</th>\n",
       "      <th>DESCRIPTION</th>\n",
       "    </tr>\n",
       "  </thead>\n",
       "  <tbody>\n",
       "    <tr>\n",
       "      <th>0</th>\n",
       "      <td>Collabera</td>\n",
       "      <td>Business Analyst</td>\n",
       "      <td>We are seeking a Financial Markets professiona...</td>\n",
       "      <td>https://collabera.com/job-description/?post=33...</td>\n",
       "      <td>We are seeking a Financial Markets professiona...</td>\n",
       "    </tr>\n",
       "    <tr>\n",
       "      <th>1</th>\n",
       "      <td>Collabera</td>\n",
       "      <td>Tax Accountant</td>\n",
       "      <td>Position Details:\\nClient: Banking\\nRole: Tax ...</td>\n",
       "      <td>https://collabera.com/job-description/?post=33...</td>\n",
       "      <td>Position Details:\\nClient: Banking\\nRole: Tax ...</td>\n",
       "    </tr>\n",
       "    <tr>\n",
       "      <th>2</th>\n",
       "      <td>Collabera</td>\n",
       "      <td>AML/Fraud/Claims Analyst</td>\n",
       "      <td>Position Details: \\nClient - Banking\\nRole – A...</td>\n",
       "      <td>https://collabera.com/job-description/?post=33...</td>\n",
       "      <td>Position Details: \\nClient - Banking\\nRole – A...</td>\n",
       "    </tr>\n",
       "    <tr>\n",
       "      <th>3</th>\n",
       "      <td>Collabera</td>\n",
       "      <td>Network Analyst</td>\n",
       "      <td>Requirement: \\nProvide Tier I Technical Suppor...</td>\n",
       "      <td>https://collabera.com/job-description/?post=33...</td>\n",
       "      <td>Requirement: \\nProvide Tier I Technical Suppor...</td>\n",
       "    </tr>\n",
       "    <tr>\n",
       "      <th>4</th>\n",
       "      <td>Collabera</td>\n",
       "      <td>Payroll Coordinator</td>\n",
       "      <td>Note:\\nThe position is Hybrid (3 Day in office...</td>\n",
       "      <td>https://collabera.com/job-description/?post=33...</td>\n",
       "      <td>Note:\\nThe position is Hybrid (3 Day in office...</td>\n",
       "    </tr>\n",
       "  </tbody>\n",
       "</table>\n",
       "</div>"
      ],
      "text/plain": [
       "     COMPANY                     TITLE  \\\n",
       "0  Collabera          Business Analyst   \n",
       "1  Collabera            Tax Accountant   \n",
       "2  Collabera  AML/Fraud/Claims Analyst   \n",
       "3  Collabera           Network Analyst   \n",
       "4  Collabera       Payroll Coordinator   \n",
       "\n",
       "                                      QUALIFICATIONS  \\\n",
       "0  We are seeking a Financial Markets professiona...   \n",
       "1  Position Details:\\nClient: Banking\\nRole: Tax ...   \n",
       "2  Position Details: \\nClient - Banking\\nRole – A...   \n",
       "3  Requirement: \\nProvide Tier I Technical Suppor...   \n",
       "4  Note:\\nThe position is Hybrid (3 Day in office...   \n",
       "\n",
       "                                                LINK  \\\n",
       "0  https://collabera.com/job-description/?post=33...   \n",
       "1  https://collabera.com/job-description/?post=33...   \n",
       "2  https://collabera.com/job-description/?post=33...   \n",
       "3  https://collabera.com/job-description/?post=33...   \n",
       "4  https://collabera.com/job-description/?post=33...   \n",
       "\n",
       "                                         DESCRIPTION  \n",
       "0  We are seeking a Financial Markets professiona...  \n",
       "1  Position Details:\\nClient: Banking\\nRole: Tax ...  \n",
       "2  Position Details: \\nClient - Banking\\nRole – A...  \n",
       "3  Requirement: \\nProvide Tier I Technical Suppor...  \n",
       "4  Note:\\nThe position is Hybrid (3 Day in office...  "
      ]
     },
     "execution_count": 25,
     "metadata": {},
     "output_type": "execute_result"
    }
   ],
   "source": [
    "df['COMPANY'] = 'Collabera'\n",
    "df['DESCRIPTION'] = df['QUALIFICATIONS']\n",
    "df = df.reindex(columns=['COMPANY', 'TITLE', 'QUALIFICATIONS', 'LINK', 'DESCRIPTION'])\n",
    "df = df.reset_index(drop=True)\n",
    "df.head()"
   ]
  },
  {
   "cell_type": "code",
   "execution_count": 26,
   "id": "ed55daf2",
   "metadata": {},
   "outputs": [],
   "source": [
    "df.to_csv('collabera_jobs.csv')"
   ]
  },
  {
   "cell_type": "code",
   "execution_count": null,
   "id": "3db3eceb",
   "metadata": {},
   "outputs": [],
   "source": []
  }
 ],
 "metadata": {
  "kernelspec": {
   "display_name": "Python 3 (ipykernel)",
   "language": "python",
   "name": "python3"
  },
  "language_info": {
   "codemirror_mode": {
    "name": "ipython",
    "version": 3
   },
   "file_extension": ".py",
   "mimetype": "text/x-python",
   "name": "python",
   "nbconvert_exporter": "python",
   "pygments_lexer": "ipython3",
   "version": "3.9.7"
  }
 },
 "nbformat": 4,
 "nbformat_minor": 5
}

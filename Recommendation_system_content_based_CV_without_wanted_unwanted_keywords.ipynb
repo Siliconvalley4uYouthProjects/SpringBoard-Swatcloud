{
  "cells": [
    {
      "cell_type": "markdown",
      "metadata": {
        "id": "view-in-github",
        "colab_type": "text"
      },
      "source": [
        "<a href=\"https://colab.research.google.com/github/Siliconvalley4uYouthProjects/SpringBoard-Swatcloud/blob/main/Recommendation_system_content_based_CV_without_wanted_unwanted_keywords.ipynb\" target=\"_parent\"><img src=\"https://colab.research.google.com/assets/colab-badge.svg\" alt=\"Open In Colab\"/></a>"
      ]
    },
    {
      "cell_type": "code",
      "execution_count": 77,
      "metadata": {
        "id": "Kecp0flNFkBh"
      },
      "outputs": [],
      "source": [
        "# Importing libraries\n",
        "\n",
        "import pandas as pd\n",
        "import numpy as np\n",
        "import nltk\n",
        "from sklearn.feature_extraction.text import CountVectorizer\n",
        "from sklearn.metrics.pairwise import cosine_similarity"
      ]
    },
    {
      "cell_type": "code",
      "execution_count": 78,
      "metadata": {
        "id": "RTPJeNCBCHe0",
        "outputId": "213eff14-5b19-4750-b2d8-8f0482ec0442",
        "colab": {
          "base_uri": "https://localhost:8080/"
        }
      },
      "outputs": [
        {
          "output_type": "stream",
          "name": "stdout",
          "text": [
            "(2534, 3)\n"
          ]
        }
      ],
      "source": [
        "# Reading new data file - Amazon, Microsoft and other jobs\n",
        "\n",
        "#df = pd.read_csv('./drive/MyDrive/Swatcloud/job_description - Amazon Microsoft others.csv',header=None,names=['Company','Job Title','Job Description'])\n",
        "\n",
        "df = pd.read_csv('software_engineer_job_descriptions_with_indeed.csv',header=None,names=['Company','Job Title','Job Description'],skiprows=1)\n",
        "df.reset_index(inplace=True, drop=True)\n",
        "print(df.shape)\n"
      ]
    },
    {
      "cell_type": "code",
      "source": [
        "df.head()"
      ],
      "metadata": {
        "colab": {
          "base_uri": "https://localhost:8080/",
          "height": 206
        },
        "id": "qareRegvlypV",
        "outputId": "bc63da5a-ae4a-41f3-f6d8-46deb7ee4282"
      },
      "execution_count": 79,
      "outputs": [
        {
          "output_type": "execute_result",
          "data": {
            "text/plain": [
              "  Company                                          Job Title  \\\n",
              "0  Amazon               Senior Software Development Engineer   \n",
              "1  Amazon           Software Development Engineer - Payments   \n",
              "2  Amazon            Software Development Engineer - Fintech   \n",
              "3  Amazon                      Software Development Engineer   \n",
              "4  Amazon  Embedded Software Development Engineer, Satell...   \n",
              "\n",
              "                                     Job Description  \n",
              "0  · 4+ years of professional software developmen...  \n",
              "1  · programming experience with at least one mod...  \n",
              "2  bachelor’s degree in computer science or relat...  \n",
              "3  1+ years of experience contributing to the sys...  \n",
              "4  1+ years of experience contributing to the sys...  "
            ],
            "text/html": [
              "\n",
              "  <div id=\"df-671db70b-7d51-4c32-8a93-b7ed692b46d6\">\n",
              "    <div class=\"colab-df-container\">\n",
              "      <div>\n",
              "<style scoped>\n",
              "    .dataframe tbody tr th:only-of-type {\n",
              "        vertical-align: middle;\n",
              "    }\n",
              "\n",
              "    .dataframe tbody tr th {\n",
              "        vertical-align: top;\n",
              "    }\n",
              "\n",
              "    .dataframe thead th {\n",
              "        text-align: right;\n",
              "    }\n",
              "</style>\n",
              "<table border=\"1\" class=\"dataframe\">\n",
              "  <thead>\n",
              "    <tr style=\"text-align: right;\">\n",
              "      <th></th>\n",
              "      <th>Company</th>\n",
              "      <th>Job Title</th>\n",
              "      <th>Job Description</th>\n",
              "    </tr>\n",
              "  </thead>\n",
              "  <tbody>\n",
              "    <tr>\n",
              "      <th>0</th>\n",
              "      <td>Amazon</td>\n",
              "      <td>Senior Software Development Engineer</td>\n",
              "      <td>· 4+ years of professional software developmen...</td>\n",
              "    </tr>\n",
              "    <tr>\n",
              "      <th>1</th>\n",
              "      <td>Amazon</td>\n",
              "      <td>Software Development Engineer - Payments</td>\n",
              "      <td>· programming experience with at least one mod...</td>\n",
              "    </tr>\n",
              "    <tr>\n",
              "      <th>2</th>\n",
              "      <td>Amazon</td>\n",
              "      <td>Software Development Engineer - Fintech</td>\n",
              "      <td>bachelor’s degree in computer science or relat...</td>\n",
              "    </tr>\n",
              "    <tr>\n",
              "      <th>3</th>\n",
              "      <td>Amazon</td>\n",
              "      <td>Software Development Engineer</td>\n",
              "      <td>1+ years of experience contributing to the sys...</td>\n",
              "    </tr>\n",
              "    <tr>\n",
              "      <th>4</th>\n",
              "      <td>Amazon</td>\n",
              "      <td>Embedded Software Development Engineer, Satell...</td>\n",
              "      <td>1+ years of experience contributing to the sys...</td>\n",
              "    </tr>\n",
              "  </tbody>\n",
              "</table>\n",
              "</div>\n",
              "      <button class=\"colab-df-convert\" onclick=\"convertToInteractive('df-671db70b-7d51-4c32-8a93-b7ed692b46d6')\"\n",
              "              title=\"Convert this dataframe to an interactive table.\"\n",
              "              style=\"display:none;\">\n",
              "        \n",
              "  <svg xmlns=\"http://www.w3.org/2000/svg\" height=\"24px\"viewBox=\"0 0 24 24\"\n",
              "       width=\"24px\">\n",
              "    <path d=\"M0 0h24v24H0V0z\" fill=\"none\"/>\n",
              "    <path d=\"M18.56 5.44l.94 2.06.94-2.06 2.06-.94-2.06-.94-.94-2.06-.94 2.06-2.06.94zm-11 1L8.5 8.5l.94-2.06 2.06-.94-2.06-.94L8.5 2.5l-.94 2.06-2.06.94zm10 10l.94 2.06.94-2.06 2.06-.94-2.06-.94-.94-2.06-.94 2.06-2.06.94z\"/><path d=\"M17.41 7.96l-1.37-1.37c-.4-.4-.92-.59-1.43-.59-.52 0-1.04.2-1.43.59L10.3 9.45l-7.72 7.72c-.78.78-.78 2.05 0 2.83L4 21.41c.39.39.9.59 1.41.59.51 0 1.02-.2 1.41-.59l7.78-7.78 2.81-2.81c.8-.78.8-2.07 0-2.86zM5.41 20L4 18.59l7.72-7.72 1.47 1.35L5.41 20z\"/>\n",
              "  </svg>\n",
              "      </button>\n",
              "      \n",
              "  <style>\n",
              "    .colab-df-container {\n",
              "      display:flex;\n",
              "      flex-wrap:wrap;\n",
              "      gap: 12px;\n",
              "    }\n",
              "\n",
              "    .colab-df-convert {\n",
              "      background-color: #E8F0FE;\n",
              "      border: none;\n",
              "      border-radius: 50%;\n",
              "      cursor: pointer;\n",
              "      display: none;\n",
              "      fill: #1967D2;\n",
              "      height: 32px;\n",
              "      padding: 0 0 0 0;\n",
              "      width: 32px;\n",
              "    }\n",
              "\n",
              "    .colab-df-convert:hover {\n",
              "      background-color: #E2EBFA;\n",
              "      box-shadow: 0px 1px 2px rgba(60, 64, 67, 0.3), 0px 1px 3px 1px rgba(60, 64, 67, 0.15);\n",
              "      fill: #174EA6;\n",
              "    }\n",
              "\n",
              "    [theme=dark] .colab-df-convert {\n",
              "      background-color: #3B4455;\n",
              "      fill: #D2E3FC;\n",
              "    }\n",
              "\n",
              "    [theme=dark] .colab-df-convert:hover {\n",
              "      background-color: #434B5C;\n",
              "      box-shadow: 0px 1px 3px 1px rgba(0, 0, 0, 0.15);\n",
              "      filter: drop-shadow(0px 1px 2px rgba(0, 0, 0, 0.3));\n",
              "      fill: #FFFFFF;\n",
              "    }\n",
              "  </style>\n",
              "\n",
              "      <script>\n",
              "        const buttonEl =\n",
              "          document.querySelector('#df-671db70b-7d51-4c32-8a93-b7ed692b46d6 button.colab-df-convert');\n",
              "        buttonEl.style.display =\n",
              "          google.colab.kernel.accessAllowed ? 'block' : 'none';\n",
              "\n",
              "        async function convertToInteractive(key) {\n",
              "          const element = document.querySelector('#df-671db70b-7d51-4c32-8a93-b7ed692b46d6');\n",
              "          const dataTable =\n",
              "            await google.colab.kernel.invokeFunction('convertToInteractive',\n",
              "                                                     [key], {});\n",
              "          if (!dataTable) return;\n",
              "\n",
              "          const docLinkHtml = 'Like what you see? Visit the ' +\n",
              "            '<a target=\"_blank\" href=https://colab.research.google.com/notebooks/data_table.ipynb>data table notebook</a>'\n",
              "            + ' to learn more about interactive tables.';\n",
              "          element.innerHTML = '';\n",
              "          dataTable['output_type'] = 'display_data';\n",
              "          await google.colab.output.renderOutput(dataTable, element);\n",
              "          const docLink = document.createElement('div');\n",
              "          docLink.innerHTML = docLinkHtml;\n",
              "          element.appendChild(docLink);\n",
              "        }\n",
              "      </script>\n",
              "    </div>\n",
              "  </div>\n",
              "  "
            ]
          },
          "metadata": {},
          "execution_count": 79
        }
      ]
    },
    {
      "cell_type": "code",
      "execution_count": 80,
      "metadata": {
        "id": "wSFoyQ4sCHe1",
        "colab": {
          "base_uri": "https://localhost:8080/",
          "height": 110
        },
        "outputId": "2cca6f9d-784a-4e82-ee24-ad3a7838c838"
      },
      "outputs": [
        {
          "output_type": "execute_result",
          "data": {
            "text/plain": [
              "\"· programming experience with at least one modern language such as java, c++, or c# including object-oriented design· 1+ years of experience contributing to the architecture and design (architecture, design patterns, reliability and scaling) of new and current systems.· 2+ years of non-internship professional software development experience· bachelor's degree in engineering or equivalent· 3+ years of experience in object-oriented and component design· 2+ years delivering software solutions in distributed computing and soa· 2+ years of experience working with javascript/typescript front-end applications· experience in architecting solutions using native aws components and distributed computing· good written and verbal communication skills. · bachelor’s degree in computer science, computer engineering or related technical discipline· experience mentoring junior software engineers to improve their skills, and make them more effective, product software engineers· deal well with ambiguous/undefined problems; ability to think abstractly.· eager to learn and learn fast, enjoy a fast paced environment· self-directed, demonstrate leadership potential and a team player· excellent verbal and written communication skills· ability to work effectively in a cross-functional team· a high degree of pragmatism in building the simplest thing that does the job; we want to use technology to solve real-world problems expediently, not indulge in over-designed, unnecessarily intricate software architecture.· experience influencing software engineers best practices within your team\""
            ],
            "application/vnd.google.colaboratory.intrinsic+json": {
              "type": "string"
            }
          },
          "metadata": {},
          "execution_count": 80
        }
      ],
      "source": [
        "df['Job Description'][1]"
      ]
    },
    {
      "cell_type": "code",
      "execution_count": 81,
      "metadata": {
        "id": "s3HpIPXZzdLp"
      },
      "outputs": [],
      "source": [
        "# Text Cleaning tasks\n",
        "\n",
        "# Removing new line characters\n",
        "df['Job Description'] = df['Job Description'].apply(lambda x: x.replace('\\n', ' '))\n",
        "# Removing empty leading and trailing spaces \n",
        "df['Job Description'] = df['Job Description'].apply(lambda x: x.strip())\n",
        "# Removing special characters\n",
        "df['Job Description'] = df['Job Description'].replace(r'[^\\w\\s]+', '', regex=True)\n",
        "# Converting the text to lowercase\n",
        "df['Job Description'] = df['Job Description'].str.lower()\n",
        "# Splitting each word\n",
        "df['Job Description'] = df['Job Description'].apply(lambda x: x.split(' '))"
      ]
    },
    {
      "cell_type": "code",
      "execution_count": 82,
      "metadata": {
        "scrolled": true,
        "id": "0lp5UAEjCHe2",
        "colab": {
          "base_uri": "https://localhost:8080/"
        },
        "outputId": "eb5cf7c6-e29f-4627-b883-2add1bb1a9a8"
      },
      "outputs": [
        {
          "output_type": "execute_result",
          "data": {
            "text/plain": [
              "['',\n",
              " 'programming',\n",
              " 'experience',\n",
              " 'with',\n",
              " 'at',\n",
              " 'least',\n",
              " 'one',\n",
              " 'modern',\n",
              " 'language',\n",
              " 'such']"
            ]
          },
          "metadata": {},
          "execution_count": 82
        }
      ],
      "source": [
        "df['Job Description'][1][0:10]"
      ]
    },
    {
      "cell_type": "code",
      "source": [
        "nltk.download('stopwords')"
      ],
      "metadata": {
        "id": "Unkhsc63zvg8",
        "colab": {
          "base_uri": "https://localhost:8080/"
        },
        "outputId": "6781dc5f-50f3-4703-9684-9d9b6570bce0"
      },
      "execution_count": 83,
      "outputs": [
        {
          "output_type": "stream",
          "name": "stderr",
          "text": [
            "[nltk_data] Downloading package stopwords to /root/nltk_data...\n",
            "[nltk_data]   Package stopwords is already up-to-date!\n"
          ]
        },
        {
          "output_type": "execute_result",
          "data": {
            "text/plain": [
              "True"
            ]
          },
          "metadata": {},
          "execution_count": 83
        }
      ]
    },
    {
      "cell_type": "code",
      "execution_count": 84,
      "metadata": {
        "id": "1e7qL4q1CHe2",
        "colab": {
          "base_uri": "https://localhost:8080/"
        },
        "outputId": "5ab298cc-066a-4b30-d547-a00bdfbc5390"
      },
      "outputs": [
        {
          "output_type": "execute_result",
          "data": {
            "text/plain": [
              "['i', 'me', 'my', 'myself', 'we']"
            ]
          },
          "metadata": {},
          "execution_count": 84
        }
      ],
      "source": [
        "from nltk.corpus import stopwords\n",
        "stopwords = list(stopwords.words('english'))\n",
        "stopwords[0:5]"
      ]
    },
    {
      "cell_type": "code",
      "source": [
        "from nltk.stem import WordNetLemmatizer\n",
        "nltk.download('wordnet')\n",
        "nltk.download('omw-1.4')"
      ],
      "metadata": {
        "id": "pIxYqVt1zzr8",
        "colab": {
          "base_uri": "https://localhost:8080/"
        },
        "outputId": "7070efb9-9c27-4c8a-b05f-a42adea2bb8f"
      },
      "execution_count": 85,
      "outputs": [
        {
          "output_type": "stream",
          "name": "stderr",
          "text": [
            "[nltk_data] Downloading package wordnet to /root/nltk_data...\n",
            "[nltk_data]   Package wordnet is already up-to-date!\n",
            "[nltk_data] Downloading package omw-1.4 to /root/nltk_data...\n",
            "[nltk_data]   Package omw-1.4 is already up-to-date!\n"
          ]
        },
        {
          "output_type": "execute_result",
          "data": {
            "text/plain": [
              "True"
            ]
          },
          "metadata": {},
          "execution_count": 85
        }
      ]
    },
    {
      "cell_type": "code",
      "execution_count": 86,
      "metadata": {
        "id": "DdcDUdoSCHe2"
      },
      "outputs": [],
      "source": [
        "\n",
        "# Removing stop words and lemmatizing the words\n",
        "lemmatizer = WordNetLemmatizer()\n",
        "from nltk.stem import WordNetLemmatizer\n",
        "\n",
        "for i in range(len(df['Job Description'])):\n",
        "    text = []\n",
        "    for word in df['Job Description'][i]:\n",
        "        if word not in stopwords:\n",
        "            word = lemmatizer.lemmatize(word)\n",
        "            text.append(word)\n",
        "    df['Job Description'][i] = text\n",
        "            "
      ]
    },
    {
      "cell_type": "code",
      "execution_count": 87,
      "metadata": {
        "id": "ZpcaHyK-CHe3",
        "colab": {
          "base_uri": "https://localhost:8080/"
        },
        "outputId": "ff19e5ed-3eeb-445f-cafc-e808304fc9a4"
      },
      "outputs": [
        {
          "output_type": "execute_result",
          "data": {
            "text/plain": [
              "['',\n",
              " 'programming',\n",
              " 'experience',\n",
              " 'least',\n",
              " 'one',\n",
              " 'modern',\n",
              " 'language',\n",
              " 'java',\n",
              " 'c',\n",
              " 'c']"
            ]
          },
          "metadata": {},
          "execution_count": 87
        }
      ],
      "source": [
        "df['Job Description'][1][0:10]"
      ]
    },
    {
      "cell_type": "code",
      "execution_count": 88,
      "metadata": {
        "id": "-4OFZyiPCHe3",
        "colab": {
          "base_uri": "https://localhost:8080/",
          "height": 110
        },
        "outputId": "5a43414f-2b8d-463c-c4b0-11e3897143d3"
      },
      "outputs": [
        {
          "output_type": "execute_result",
          "data": {
            "text/plain": [
              "' programming experience least one modern language java c c including objectoriented design 1 year experience contributing architecture design architecture design pattern reliability scaling new current system 2 year noninternship professional software development experience bachelor degree engineering equivalent 3 year experience objectoriented component design 2 year delivering software solution distributed computing soa 2 year experience working javascripttypescript frontend application experience architecting solution using native aws component distributed computing good written verbal communication skill  bachelor degree computer science computer engineering related technical discipline experience mentoring junior software engineer improve skill make effective product software engineer deal well ambiguousundefined problem ability think abstractly eager learn learn fast enjoy fast paced environment selfdirected demonstrate leadership potential team player excellent verbal written communication skill ability work effectively crossfunctional team high degree pragmatism building simplest thing job want use technology solve realworld problem expediently indulge overdesigned unnecessarily intricate software architecture experience influencing software engineer best practice within team'"
            ],
            "application/vnd.google.colaboratory.intrinsic+json": {
              "type": "string"
            }
          },
          "metadata": {},
          "execution_count": 88
        }
      ],
      "source": [
        "# joining the words back together\n",
        "\n",
        "df['Job Description'] = df['Job Description'].apply(lambda x: ' '.join(x))\n",
        "df['Job Description'][1]"
      ]
    },
    {
      "cell_type": "code",
      "source": [
        "#Importing needed libraries\n",
        "from sklearn.feature_extraction.text import CountVectorizer\n",
        "from sklearn.metrics.pairwise import cosine_similarity"
      ],
      "metadata": {
        "id": "aLZITWTNrxTm"
      },
      "execution_count": 89,
      "outputs": []
    },
    {
      "cell_type": "code",
      "source": [
        "cv = CountVectorizer(stop_words = 'english')\n",
        "count_matrix = cv.fit_transform(df['Job Description'])"
      ],
      "metadata": {
        "id": "A7QK1Cv1va6m"
      },
      "execution_count": 90,
      "outputs": []
    },
    {
      "cell_type": "markdown",
      "source": [
        "### Now we supply a new data point, and let the model output top 5 recommended job titles based on the calculated cosine similarity of this new data point and the existing job descriptions."
      ],
      "metadata": {
        "id": "RP622kzOwTC0"
      }
    },
    {
      "cell_type": "code",
      "source": [
        "def top_x_recommendations(x,DataFrame,description, countVector, countMatrix):\n",
        "  # type in the input data here, for example, 'cad drawings'\n",
        "  new_data_input = [description]\n",
        "\n",
        "  # transform the new data point using the same CountVectorizer\n",
        "  new_data_transformed = countVector.transform(np.array(new_data_input))\n",
        "\n",
        "  # calculate cosine similarities of the new data point with all of the job descriptions\n",
        "  cosine_sim = cosine_similarity(new_data_transformed, countMatrix)\n",
        "\n",
        "  # collect the top x recommendations\n",
        "  top_x = pd.DataFrame(cosine_sim.T, columns=['similarities']).sort_values(by='similarities', ascending=False)[1:x+1]\n",
        "  top_x = top_x.reset_index()\n",
        "  print(top_x)\n",
        "\n",
        "  # print out the top x job descriptions\n",
        "  print(\"\\nApplicant's qualifications: \", new_data_input[0], '\\n' )\n",
        "  print('Recommended jobs:')\n",
        "  for index in top_x['index']:\n",
        "    print('\\nJob Title: ', DataFrame['Job Title'][index])\n",
        "    print('Company:', DataFrame['Company'][index])\n",
        "    print('Job Description:', DataFrame['Job Description'][index])\n",
        "  "
      ],
      "metadata": {
        "id": "ALRpgiV4w2QM"
      },
      "execution_count": 114,
      "outputs": []
    },
    {
      "cell_type": "code",
      "source": [
        "# this is the result from the input data without indeed jobs\n",
        "new_data = 'cad drawings'\n",
        "top_x_recommendations(5,df,new_data, cv, count_matrix)"
      ],
      "metadata": {
        "colab": {
          "base_uri": "https://localhost:8080/"
        },
        "id": "sOmk_hedvHgj",
        "outputId": "aa1687f9-3cd1-4c63-a089-f29cbb7cc842"
      },
      "execution_count": 115,
      "outputs": [
        {
          "output_type": "stream",
          "name": "stdout",
          "text": [
            "   index  similarities\n",
            "0   1468      0.160644\n",
            "1   1910      0.128037\n",
            "2   2022      0.112509\n",
            "3    595      0.099015\n",
            "4    739      0.094072\n",
            "\n",
            "Applicant's qualifications:  cad drawings \n",
            "\n",
            "Recommended jobs:\n",
            "\n",
            "Job Title:  Optical Systems Engineer\n",
            "Company: Meta\n",
            "Job Description: experience reviewing geometric optical system cad tool zemax code v others experience sequential nonsequential ray tracing including stray light analysisbs field engineering physic optic related field 6 year experience developing integrating optical subsystem multidisciplinary teamsexperience specification optical tolerancesexperience optomechanical integration system designexperience optical metrologyexperience radiometry photometryexperience working optic lab environment experience designing modeling geometric optical system cad tool zemax code v othersexperience monte carlo optical tolerancingexperience design manufacturability dfm proven track record highvolume production10 year experience developing optical system multidisciplinary team\n",
            "\n",
            "Job Title:   Virtual Prototyping Artist, Augmented Reality \n",
            "Company: Google\n",
            "Job Description: experience working design content creator package maya houdini max etcexperience bidirectional render engine vray andor rendermanexperience floating point image format scripting python mel batchexperience render pass experience rendering architectural visualsexperience node based software workflow eg nuke cad softwareknowledge physical camera optical parametersability organize effectively communicate artistic method mechanical optical engineersability collaborate resolve task hand relationshipbuilding approach\n",
            "\n",
            "Job Title:  Advanced Processor CAD and Methodology Engineer\n",
            "Company: Google\n",
            "Job Description: bachelor degree electrical engineering computer science engineering related field equivalent practical experience3 year experience developing design methodology cad flow synthesis pnr signoff area experience writing production script implementation signoff tool experience evaluating multiple vendor solution managing tool decisionsexperience delivering metric flow development supportfamiliar highperformance lowpower physical design implementation technique industry standard synthesisknowledge fundamental computer architecture exposure technology node across foundry\n",
            "\n",
            "Job Title:  Reliability Program Manager #0000\n",
            "Company: Amazon\n",
            "Job Description: master degree foreign equivalent engineering operation business administration related least one year progressively responsible experience field alternative employer accept bachelor degree foreign equivalent engineering operation business administration related fieldexperience must include1 one year experience largescale industrial engineering projects2 one year experience complex mhe packaging line process design based lean manufacturing toyota manufacturing system3 one year experience using m excel m project cad software autocad\n",
            "\n",
            "Job Title:  Amazon Robotics - Sensor Electrical Engineer Co-op - January - June 2023, Amazon Robotics Sensor Team\n",
            "Company: Amazon\n",
            "Job Description: currently working towards b m electrical engineering similar field must least one semester school left complete end coopmust eligible available fulltime 40h  week role january  june 2023classroom project experience electrical firmware andor system level designpython coding experiencecommitment rigorous testing practicesexcellent written oral communication skillswillingness research learn new technology prior internship coop experience similar fieldexperience image sensor plus including limited camera stereo camera timeofflight sensor radar lidarexperience creating system pcb block diagram schematic capture pcb layoutfamiliarity electrical interface i2c spi csi2 ethernetfamiliarity mechanical cad toolsfamiliar oscilloscope basic soldering technique electrical debuggingable work independently collaborate others solve problemscomfortable working deadline\n"
          ]
        }
      ]
    },
    {
      "cell_type": "code",
      "source": [
        "# this is the result from the input data with indeed jobs\n",
        "new_data = 'cad drawings'\n",
        "top_x_recommendations(5,df,new_data, cv, count_matrix)"
      ],
      "metadata": {
        "colab": {
          "base_uri": "https://localhost:8080/"
        },
        "id": "ZFPw3pMvmYWO",
        "outputId": "da1cb8df-b08e-4b52-ed42-6a024a383894"
      },
      "execution_count": 116,
      "outputs": [
        {
          "output_type": "stream",
          "name": "stdout",
          "text": [
            "   index  similarities\n",
            "0   1468      0.160644\n",
            "1   1910      0.128037\n",
            "2   2022      0.112509\n",
            "3    595      0.099015\n",
            "4    739      0.094072\n",
            "\n",
            "Applicant's qualifications:  cad drawings \n",
            "\n",
            "Recommended jobs:\n",
            "\n",
            "Job Title:  Optical Systems Engineer\n",
            "Company: Meta\n",
            "Job Description: experience reviewing geometric optical system cad tool zemax code v others experience sequential nonsequential ray tracing including stray light analysisbs field engineering physic optic related field 6 year experience developing integrating optical subsystem multidisciplinary teamsexperience specification optical tolerancesexperience optomechanical integration system designexperience optical metrologyexperience radiometry photometryexperience working optic lab environment experience designing modeling geometric optical system cad tool zemax code v othersexperience monte carlo optical tolerancingexperience design manufacturability dfm proven track record highvolume production10 year experience developing optical system multidisciplinary team\n",
            "\n",
            "Job Title:   Virtual Prototyping Artist, Augmented Reality \n",
            "Company: Google\n",
            "Job Description: experience working design content creator package maya houdini max etcexperience bidirectional render engine vray andor rendermanexperience floating point image format scripting python mel batchexperience render pass experience rendering architectural visualsexperience node based software workflow eg nuke cad softwareknowledge physical camera optical parametersability organize effectively communicate artistic method mechanical optical engineersability collaborate resolve task hand relationshipbuilding approach\n",
            "\n",
            "Job Title:  Advanced Processor CAD and Methodology Engineer\n",
            "Company: Google\n",
            "Job Description: bachelor degree electrical engineering computer science engineering related field equivalent practical experience3 year experience developing design methodology cad flow synthesis pnr signoff area experience writing production script implementation signoff tool experience evaluating multiple vendor solution managing tool decisionsexperience delivering metric flow development supportfamiliar highperformance lowpower physical design implementation technique industry standard synthesisknowledge fundamental computer architecture exposure technology node across foundry\n",
            "\n",
            "Job Title:  Reliability Program Manager #0000\n",
            "Company: Amazon\n",
            "Job Description: master degree foreign equivalent engineering operation business administration related least one year progressively responsible experience field alternative employer accept bachelor degree foreign equivalent engineering operation business administration related fieldexperience must include1 one year experience largescale industrial engineering projects2 one year experience complex mhe packaging line process design based lean manufacturing toyota manufacturing system3 one year experience using m excel m project cad software autocad\n",
            "\n",
            "Job Title:  Amazon Robotics - Sensor Electrical Engineer Co-op - January - June 2023, Amazon Robotics Sensor Team\n",
            "Company: Amazon\n",
            "Job Description: currently working towards b m electrical engineering similar field must least one semester school left complete end coopmust eligible available fulltime 40h  week role january  june 2023classroom project experience electrical firmware andor system level designpython coding experiencecommitment rigorous testing practicesexcellent written oral communication skillswillingness research learn new technology prior internship coop experience similar fieldexperience image sensor plus including limited camera stereo camera timeofflight sensor radar lidarexperience creating system pcb block diagram schematic capture pcb layoutfamiliarity electrical interface i2c spi csi2 ethernetfamiliarity mechanical cad toolsfamiliar oscilloscope basic soldering technique electrical debuggingable work independently collaborate others solve problemscomfortable working deadline\n"
          ]
        }
      ]
    },
    {
      "cell_type": "markdown",
      "source": [
        "Now we want to compare the jobs that this model recommends to our other model which focuses on technical keywords as opposed to the entire job description. As a reminder, in our other model, we used the qualification requirements from job description #10 (Senior Software Development Engineer @ Amazon) as the input for our hypothetical candidate."
      ],
      "metadata": {
        "id": "L82mohs_PQ8s"
      }
    },
    {
      "cell_type": "code",
      "source": [
        "#This is the keywords model\n",
        "# get the index of id\n",
        "def index_from_id(df,id):\n",
        "\n",
        " return df[df.index==id].index.values[0]\n",
        "\n",
        "# id: the one you want to match, it can be student id or company id, if it is student, then retrieve all companys skillset, and create a dataframe,(match company for a given student)\n",
        "# and if it is company id, then retrieve all students skillset, and create a dataframe(match students for a given company)\n",
        "# df: dataframe needed to be make\n",
        "#cosine_similarity_matrix: converted from dataframe[keyword] column\n",
        "#number_of_recommendations: the number you want to match\n",
        "def recommendations( id, df,cosine_similarity_matrix,number_of_recommendations):\n",
        "\n",
        "  index = index_from_id(df,id)\n",
        "\n",
        "  similarity_scores = list(enumerate(cosine_similarity_matrix[index]))\n",
        "\n",
        "  similarity_scores_sorted = sorted(similarity_scores, key=lambda x: x[1], reverse=True)\n",
        "\n",
        "  recommendations_indices = [t[0] for t in similarity_scores_sorted[1:(number_of_recommendations+1)]]\n",
        "  # this could be df['ID'] \n",
        "  return df['Title'].iloc[recommendations_indices]"
      ],
      "metadata": {
        "id": "XtSMSKKOp6b_"
      },
      "execution_count": 94,
      "outputs": []
    },
    {
      "cell_type": "code",
      "source": [
        "df2 = pd.read_csv('jobs_wanted_unwanted_keywords_string.csv')\n",
        "vect = CountVectorizer(stop_words='english')\n",
        "# transform df['Technical Keywords'] into matrix\n",
        "vect_matrix = vect.fit_transform(df2['Technical Keywords'])\n",
        "vect_matrix\n",
        "# get the cosine_similarity_matrix\n",
        "cosine_similarity_matrix_count_based = cosine_similarity(vect_matrix, vect_matrix)\n",
        "recommendations(10,df2,cosine_similarity_matrix_count_based,10)"
      ],
      "metadata": {
        "colab": {
          "base_uri": "https://localhost:8080/"
        },
        "id": "BMQ3c3Xip8gE",
        "outputId": "ea943ae1-b51d-472e-c589-fb062fb9894a"
      },
      "execution_count": 95,
      "outputs": [
        {
          "output_type": "execute_result",
          "data": {
            "text/plain": [
              "42           Sr Software Dev Engineer, Business Payments\n",
              "13                         Software Development Engineer\n",
              "31                  Software Development Engineer , CTPS\n",
              "249    Sr. Software Development Engineer - AWS DNS, A...\n",
              "2                          Software Development Engineer\n",
              "274    Software Development Engineer, AWS Elemental M...\n",
              "294    Software Development Engineer, Kuiper Manufact...\n",
              "164    Software Development Engineer II, AB Supplier ...\n",
              "3      Embedded Software Development Engineer, Satell...\n",
              "16     Sr. Embedded Software Development Engineer, Sa...\n",
              "Name: Title, dtype: object"
            ]
          },
          "metadata": {},
          "execution_count": 95
        }
      ]
    },
    {
      "cell_type": "code",
      "source": [
        "#Now let's try with the non-keyword model.\n",
        "df.iloc[10]\n",
        "df['Job Description'].iloc[10]"
      ],
      "metadata": {
        "colab": {
          "base_uri": "https://localhost:8080/",
          "height": 110
        },
        "id": "qgsXX0pGPOd1",
        "outputId": "753dfe48-eab4-4ae3-f056-22fd554bb452"
      },
      "execution_count": 96,
      "outputs": [
        {
          "output_type": "execute_result",
          "data": {
            "text/plain": [
              "'candidate must bachelor computer science engineering related field equivalent experience8 year professional experience software developmentexperience contributing architecture design architecture design pattern reliability scaling new current system industry experience architecting designing scalable system interact multiple system designed expansion business growspossess extremely sound understanding basic area computer science algorithm data structure object oriented design databasesknowledge professional software engineering practice  best practice full software development life cycle including coding standard code review source control management build process testing operationsexperience building complex large scale software system using aws technology successfully delivered customersexperience communicating user technical team management collect requirement describe software product feature technical design remove bottleneck tech team throughout sdlc'"
            ],
            "application/vnd.google.colaboratory.intrinsic+json": {
              "type": "string"
            }
          },
          "metadata": {},
          "execution_count": 96
        }
      ]
    },
    {
      "cell_type": "code",
      "source": [
        "top_x_recommendations(10,df,df['Job Description'].iloc[10],cv,count_matrix)"
      ],
      "metadata": {
        "colab": {
          "base_uri": "https://localhost:8080/"
        },
        "id": "t4vwjmcbbX1W",
        "outputId": "3eca03f1-7689-4eb2-90eb-a2587850f35c"
      },
      "execution_count": 117,
      "outputs": [
        {
          "output_type": "stream",
          "name": "stdout",
          "text": [
            "   index  similarities\n",
            "0    160      0.751005\n",
            "1     63      0.745466\n",
            "2    207      0.745420\n",
            "3     25      0.739808\n",
            "4    165      0.737304\n",
            "5    220      0.733350\n",
            "6     15      0.730831\n",
            "7    417      0.725731\n",
            "8    175      0.722166\n",
            "9    242      0.722166\n",
            "\n",
            "Applicant's qualifications:  candidate must bachelor computer science engineering related field equivalent experience8 year professional experience software developmentexperience contributing architecture design architecture design pattern reliability scaling new current system industry experience architecting designing scalable system interact multiple system designed expansion business growspossess extremely sound understanding basic area computer science algorithm data structure object oriented design databasesknowledge professional software engineering practice  best practice full software development life cycle including coding standard code review source control management build process testing operationsexperience building complex large scale software system using aws technology successfully delivered customersexperience communicating user technical team management collect requirement describe software product feature technical design remove bottleneck tech team throughout sdlc \n",
            "\n",
            "Recommended jobs:\n",
            "\n",
            "Job Title:  Software Development Engineer II, India Consumer\n",
            "Company: Amazon\n",
            "Job Description: 1 year experience contributing system design architecture architecture design pattern reliability scaling new current systems2 year noninternship professional software development experienceprogramming experience least one software programming language experience building complex software system successfully delivered customersknowledge professional software engineering practice best practice full software development lifecycle including coding standard code review source control management build process testing operationsability take project scoping requirement actual launch projectexperience communicating user technical team management collect requirement describe software product feature technical design\n",
            "\n",
            "Job Title:  Software Development Engineer\n",
            "Company: Amazon\n",
            "Job Description: 2 year noninternship professional software development experience1 year experience contributing architecture design architecture design pattern reliability scaling new current systemsprogramming experience least one software programming language  experience building complex software system successfully delivered customer  knowledge professional software engineering practice  best practice full software development life cycle including coding standard code review source control management build process testing operation  ability take project scoping requirement actual launch project  experience communicating user technical team management collect requirement describe software product feature technical design\n",
            "\n",
            "Job Title:  iOS Software Engineer, Amazon.com Services LLC\n",
            "Company: Amazon\n",
            "Job Description: 1 year experience contributing system design architecture architecture design pattern reliability scaling new current systems2 year noninternship professional software development experienceprogramming experience least one software programming language experience building complex software system successfully delivered customersknowledge professional software engineering practice  best practice full software development life cycle including coding standard code review source control management build process testing operationsability take project scoping requirement actual launch projectexperience communicating user technical team management collect requirement describe software product feature technical designsthe\n",
            "\n",
            "Job Title:  Software Development Engineer\n",
            "Company: Amazon\n",
            "Job Description: 2 year noninternship professional software development experienceprogramming experience least one modern language java c c including objectoriented design1 year experience contributing architecture design architecture design pattern reliability scaling new current system experience building complex software system successfully delivered customersknowledge professional software engineering practice best practice full software development lifecycle including coding standard code review source control management build process testing operationsability take project scoping requirement actual launch projectexperience communicating user technical team management collect requirement describe software product feature technical design\n",
            "\n",
            "Job Title:  Software Development Engineer II, AB Supplier Ops Tech\n",
            "Company: Amazon\n",
            "Job Description: 1 year experience contributing system design architecture architecture design pattern reliability scaling new current systems2 year noninternship professional software development experienceprogramming experience least one software programming language experience taking leading role building complex software system successfully delivered customersexperience distributed computing enterprisewide system including aws cloud technologiesknowledge professional software engineering practice  best practice full software development life cycle including coding standard code review source control management build process testing operationsexperience communicating user technical team senior management collect requirement describe software product feature technical design product strategyms computer science computerelectrical engineering mathematics related fieldexperience mentoring junior software engineer improve skill make effective product software engineersexperience influencing software engineer best practice within teamhandson expertise many disparate technology typically ranging frontend user interface backend system point betweenmaniacal customer obsession\n",
            "\n",
            "Job Title:  Software Development Engineer (Role based in Luxembourg)\n",
            "Company: Amazon\n",
            "Job Description:  2 year noninternship professional software development experience programming experience least one modern language java c c including objectoriented design 1 year experience contributing architecture design architecture design pattern reliability scaling new current system  experience building complex b2b software system successfully delivered customer knowledge professional software engineering practice  best practice full software development life cycle including coding standard code review source control management build process testing operation ability take project scoping requirement actual launch project experience communicating user technical team management collect requirement describe software product feature technical design\n",
            "\n",
            "Job Title:  Software Development Engineer\n",
            "Company: Amazon\n",
            "Job Description: programming experience least one modern language java c c including objectoriented design1 year experience contributing architecture design architecture design pattern reliability scaling new current systems2 year noninternship professional software development experience experience building complex software system successfully delivered customersknowledge professional software engineering practice best practice full software development lifecycle including coding standard code review source control management build process testing operationsability take project scoping requirement actual launch projectexperience communicating user technical team management collect requirement describe software product feature technical design\n",
            "\n",
            "Job Title:  SDE- AFT, Amazon Fulfillment Technology\n",
            "Company: Amazon\n",
            "Job Description: 1 year experience contributing system design architecture architecture design pattern reliability scaling new current systems2 year noninternship professional software development experienceprogramming experience least one software programming language experience building complex software system successfully delivered customersknowledge professional software engineering practice  best practice full software development life cycle including coding standard code review source control management build process testing operationsability take project scoping requirement actual launch projectexperience communicating user technical team management collect requirement describe software product feature technical designsexperience building highly scalable high availability servicesexperience realtime analytical system machine learning\n",
            "\n",
            "Job Title:  Tech Lead / Senior Software Development Engineer\n",
            "Company: Amazon\n",
            "Job Description:  bachelor degree computer science related field equivalent experience 8 year professional experience software development strong computer science fundamental objectoriented design data structure algorithm design complexity analysis scalability availability proficiency least one modern programming language demonstrated technical team leadership architecting developing deploying complex solution  experience building microservices knowledge professional software engineering practice  best practice full software development life cycle including coding standard code review source control management build process testing operation ability take project scoping requirement actual launch project experience communicating user technical team management collect requirement describe software product feature technical design\n",
            "\n",
            "Job Title:   Tech Lead / Senior Software Development Engineer, EMEA Multiple locations/Team\n",
            "Company: Amazon\n",
            "Job Description:  bachelor degree computer science related field equivalent experience 8 year professional experience software development strong computer science fundamental objectoriented design data structure algorithm design complexity analysis scalability availability proficiency least one modern programming language demonstrated technical team leadership architecting developing deploying complex solution  experience building microservices knowledge professional software engineering practice  best practice full software development life cycle including coding standard code review source control management build process testing operation ability take project scoping requirement actual launch project experience communicating user technical team management collect requirement describe software product feature technical design\n"
          ]
        }
      ]
    },
    {
      "cell_type": "markdown",
      "source": [
        "**Testing Using a Non-Amazon Job**"
      ],
      "metadata": {
        "id": "-5yQl8KtsbH7"
      }
    },
    {
      "cell_type": "code",
      "source": [
        "#Now let's try to use an input from a non-Amazon job.\n",
        "df.iloc[2514]"
      ],
      "metadata": {
        "colab": {
          "base_uri": "https://localhost:8080/"
        },
        "id": "N21JdrZ_eCK0",
        "outputId": "f9463ba8-a781-4ea4-d7fe-d88f719c7dd5"
      },
      "execution_count": 98,
      "outputs": [
        {
          "output_type": "execute_result",
          "data": {
            "text/plain": [
              "Company                                               Phasorsoft LLC\n",
              "Job Title                                               Data analyst\n",
              "Job Description    good experience alteryx data analytics 5 year ...\n",
              "Name: 2514, dtype: object"
            ]
          },
          "metadata": {},
          "execution_count": 98
        }
      ]
    },
    {
      "cell_type": "code",
      "source": [
        "df2.iloc[2513]"
      ],
      "metadata": {
        "colab": {
          "base_uri": "https://localhost:8080/"
        },
        "id": "IjABjK7kqqF5",
        "outputId": "aafd2cb5-5bc0-4ff7-8bb6-45c195d7c480"
      },
      "execution_count": 99,
      "outputs": [
        {
          "output_type": "execute_result",
          "data": {
            "text/plain": [
              "Company                                                     Phasorsoft LLC\n",
              "Title                                                         Data analyst\n",
              "Technical Keywords       ['java', 'python', '', 'language', 'data', 'r'...\n",
              "Nontechnical Keywords    ['experience', 'year', 'science', 'language', ...\n",
              "Name: 2513, dtype: object"
            ]
          },
          "metadata": {},
          "execution_count": 99
        }
      ]
    },
    {
      "cell_type": "code",
      "source": [
        "recommendations(2513,df2,cosine_similarity_matrix_count_based,10)"
      ],
      "metadata": {
        "colab": {
          "base_uri": "https://localhost:8080/"
        },
        "id": "0Q1dxwSXruRM",
        "outputId": "161285ef-f541-42d4-f9c6-745c7e92715a"
      },
      "execution_count": 100,
      "outputs": [
        {
          "output_type": "execute_result",
          "data": {
            "text/plain": [
              "2155        Backend Telemetry Software Engineer, Autonomy\n",
              "2510                                         Data Analyst\n",
              "2086                              Sr Software QA Engineer\n",
              "2090                             Sr. Software QA Engineer\n",
              "2212    Senior Software Engineer, Charging Data and Mo...\n",
              "2151     Software Engineer, Data Engineering, Diagnostics\n",
              "2521                                         Data Analyst\n",
              "287     Software Development Engineer I - Supply Chain...\n",
              "288     Software Development Engineer I - Supply Chain...\n",
              "2134     Software Engineer, Core Engineering Technologies\n",
              "Name: Title, dtype: object"
            ]
          },
          "metadata": {},
          "execution_count": 100
        }
      ]
    },
    {
      "cell_type": "code",
      "source": [
        "top_x_recommendations(10,df,df['Job Description'].iloc[2514],cv,count_matrix)"
      ],
      "metadata": {
        "colab": {
          "base_uri": "https://localhost:8080/"
        },
        "id": "k3AMXF38eKJx",
        "outputId": "ba28cf23-1b29-44ac-c438-6fc1173fae04"
      },
      "execution_count": 118,
      "outputs": [
        {
          "output_type": "stream",
          "name": "stdout",
          "text": [
            "   index  similarities\n",
            "0   1112      0.556815\n",
            "1   2494      0.537220\n",
            "2    621      0.513613\n",
            "3    631      0.507119\n",
            "4   1155      0.502148\n",
            "5    688      0.497598\n",
            "6    868      0.496321\n",
            "7   2527      0.494788\n",
            "8    423      0.493977\n",
            "9   2498      0.487110\n",
            "\n",
            "Applicant's qualifications:  good experience alteryx data analytics 5 year experience across data analytics business intelligence developing database model data science graduating college proficiency sql python alteryx  etl tool experience analytics software language sa java r python ideal candidate already hand experience alteryx core certifiedsf developer platform developer 1 certification would preferred \n",
            "\n",
            "Recommended jobs:\n",
            "\n",
            "Job Title:  Principal Product Data Analyst\n",
            "Company: Microsoft\n",
            "Job Description: bachelor degree statistic mathematics analytics data science engineering computer science business economics related field 7 year experience data analysis reporting data science business intelligence business financial analysisor master degree mathematics analytics data science engineering computer science business economics related field 5 year experience data analysis reporting data science business intelligence business financial analysisor equivalent industry work experience master degree mathematics analytics data science engineering computer science business economics related field 5 year experience data analysis reporting data science business intelligence business financial analysis equivalent industry work experience 7 year experience dataintensive role strong focus product advanced analytics advanced knowledge analytical statistical method technical competence apply method strong experience ab testing experimentation causal inference model high proficiency sql experience big data platform aws snowflake spark etc experience behavioral analytics tool like google analytics adobe analytics interana etc ability craft engaging narrative backed concise data visualization broad audience work effectively cross functional team build trusted partnership selfstarter selfmotivated proven ability deliver result fastpaced highenergy environment excellent written verbal communication skill experience product management working product manager experience utilizing data drive product decision change mind master phd 10 year work experience quantitative analysis work experience high tech industry\n",
            "\n",
            "Job Title:  Data Analyst\n",
            "Company: High Technology Foundation\n",
            "Job Description: data analyst help generate insight organizing reviewing variety datasets especially climate weather data related multiple application including solar energy deployment big data management cloudbased analytics  applying analytical problemsolving method project issue conducting documenting analysis applying guideline standard create datadriven model identify analyze data pattern develop report bachelor degree computer science business analytics engineering related field 1 year experience programming language sql plsql r python etc coursework experience accepted 1 year experience data analytics data warehouse oracle sql google cloud aws etc coursework experience accepted 1 year experience cloudbased devops coursework experience accepted general knowledge business analyticsbusiness intelligence tool general understanding data profiling metadata management demonstrated experience working project either coursework professional experience knowledge project management tool technique process understanding basic querying data warehouse data analysis\n",
            "\n",
            "Job Title:  Data Scientist II #0000\n",
            "Company: Amazon\n",
            "Job Description: master degree foreign equivalent mathematics computer science engineering statistic business analytics related discipline 2 year experience data scientist related occupation alternative employer accept bachelor degree foreign equivalent mathematics computer science engineering statistic business analytics related discipline followed 5 year progressively responsible experience data scientist related occupationexperience must include1 2 year experience data scripting language eg sql python r etc statisticalmathematical software eg r sa matlab2 2 year experience quantitative analysis 3 2 year experience analyzing data produce accurate unbiased results4 2 year experience advanced data management data manipulation skill including strong foundation relational database programming0000\n",
            "\n",
            "Job Title:  Data Engineer II #0000\n",
            "Company: Amazon\n",
            "Job Description: master degree foreign equivalent software engineering information technology related quantitative field 3 year experience data engineering technical architecture alternative bachelor degree foreign equivalent software engineering information technology related quantitative field followed 5 progressively responsible year experience data engineering technical architecture experience must include 1 3 year experience data warehouse technical architecture data modeling infrastructure component etl elt reportinganalytic tool environment data structure handson sql coding 2 2 year development experience python similar scripting language automation 3 3 year experience etl data modeling data architecture hundred terabyte data 4 2 year experience working core aws data analytics service understanding applicability limitation trade offs wide set aws database analytics technology 5 1 year experience working distributed computing associated technology spark emr 6 2 year experience redshift large dw environment 7 2 year tangible experience working redshift spectrum aws glue dynamodb s3 8 3 year experience large project delivery bi oriented project \n",
            "\n",
            "Job Title:  Sr Technical Program Manager - Insights and Intelligence\n",
            "Company: Microsoft\n",
            "Job Description: bachelor degree 4 year experience engineering producttechnical program management data analysis product development equivalent experience 2 year experience managing crossfunctional andor crossteam project bachelor degree 8 year experience engineering producttechnical program management data analysis product developmentor equivalent experience equivalent experience 6 year experience managing crossfunctional andor crossteam project data platform data engineering experience proven experience working largescale datasets parallel distributed computing experience using azure analytics stack  data lake data explorerkusto storage data factory synapse data brick plus\n",
            "\n",
            "Job Title:  Professional Services II – Data Architect #0000\n",
            "Company: Amazon\n",
            "Job Description: bachelor degree foreign equivalent computer science engineering mathematics related discipline 5 progressively responsible year postbaccalaureate experience database managementdesign platform implementation related field alternative employer accept master degree foreign equivalent computer science engineering mathematics related discipline 3 year experience database managementdesign platform implementation related fieldexperience must include 1 3 year experience data lakehadoop platform implementation 2 3 year handson experience implementation performance tuning hadoopspark implementation 3 3 year experience apache hadoop hadoop ecosystem 4 3 year experience one relevant tool sqoop flume kafka oozie hue zookeeper hcatalog solr avro elasticsearch nifi redis sentry spark spark streaming influxdb cassandra hbase informatica build data lake implement etl extract transform load workflow data analytics solution 5 3 year experience one sqlonhadoop technology hive impala spark sql presto writing complex sql query data processing transformation analytics various heterogenous data source 6 3 year experience developing software code one programming language java python scala etc 7 3 year experience one analytics visualization tool like tableau power bi oracle bi quicksight kibana apache zeppelin etc build visualization dashboard report\n",
            "\n",
            "Job Title:  Business Intelligence Engineer\n",
            "Company: Amazon\n",
            "Job Description: bachelor degree computer science engineering mathematics related technical disciplineseveral year industry experience data science analytics business intelligence role big data environmentsconfident proven work experience using sql python r analysis language experience data visualization tool like tableau quicksight similar toolsability willingness quickly learn new technologiesexperience directly working business owner understand requirement developing automating end data analysis solutionsexperience designing building data infrastructure automated reporting\n",
            "\n",
            "Job Title:  Business Data Analyst\n",
            "Company: Sanametrix\n",
            "Job Description: hand experience designing developing successful deployment largescale data repository project endtoend good communication skill great attitude work team environment solve complex problem experience performing data requirement gathering activity experience performing data querying activity experience performing data analysis activity experience performing data governance activity experience performing data discovery activity experience performing data manipulation activity ability work minimal supervision accountable assigned task experience working dynamic environment interacting client strong working experience core java apis  experience working agile environment experience using jira similar ticket tracking software experience using following servicestool s3 lambda redshift glue etl dm glue catalogcrawlers experience cloud computing amazon web service experience agile development methodology experience using sql andor python aws certification plus\n",
            "\n",
            "Job Title:  Sr Transportation Systems Analyst\n",
            "Company: Amazon\n",
            "Job Description: bachelor degree business analytics computer science statistic applied mathematics engineering related fields7 year professional experience analytics engineering product managementdemonstrated experience influencing negotiating collaborating across multiple senior leadership team large organizationexcellent problemsolving organizational analytical skill ability evolve product strategy based research data industry trendsexceptional written verbal communication skill ability present complex data information clear concise manner variety audience including executive technicalnontechnical leadersstrong data analysis skill ability run synthesize data order make onpoint business decisionsproficient least one data analytics programming language  sql python java aws master degree business analytics computer science statistic applied mathematics engineering related field experience working software development engineer develop technical solution operational problemsexperience data visualization platform eg tableau qlikview qliksense powerbiaws programming language python implementation etl tool experience framework desired\n",
            "\n",
            "Job Title:  Data Analyst\n",
            "Company: GenSpark\n",
            "Job Description: ideal candidate 13 year experience python working experience python data side nympy panda working experience sql data engineer mindset availability start training 15 day notice asap\n"
          ]
        }
      ]
    },
    {
      "cell_type": "markdown",
      "source": [
        "The non-keyword model gave more data analyst recommendations that seem closer to the input than the keyword model's results (which were a mix of data analyst + software engineering jobs)."
      ],
      "metadata": {
        "id": "Vlfq_xDcsLRn"
      }
    },
    {
      "cell_type": "markdown",
      "source": [
        "**Testing using a combined job pool which includes marketing jobs**"
      ],
      "metadata": {
        "id": "k9U3X75pmAkV"
      }
    },
    {
      "cell_type": "code",
      "source": [
        "df3 = pd.read_csv('meta_jobs_marketing_cleaned.csv',names=['index','Company','Job Title','Job Description'])\n",
        "df4 = pd.read_csv('google_jobs_marketing_cleaned.csv',names=['index','Company','Job Title','Job Description'])\n",
        "df5 = pd.read_csv('amazon_jobs_marketing_cleaned.csv',names=['index','Company','Job Title','Job Description'])\n",
        "df6 = pd.read_csv('JnJ_jobs_marketing_cleaned.csv',names=['index','Company','Job Title','Job Description'])\n",
        "\n",
        "df_agg = pd.concat([df,df3,df4,df5,df6])\n",
        "df_agg.reset_index(inplace=True)\n",
        "df_agg.drop(columns=['level_0','index'],inplace=True)"
      ],
      "metadata": {
        "id": "0qw51vqbmIgU"
      },
      "execution_count": 102,
      "outputs": []
    },
    {
      "cell_type": "code",
      "source": [
        "# Text Cleaning tasks\n",
        "\n",
        "# Removing new line characters\n",
        "df_agg['Job Description'] = df_agg['Job Description'].apply(lambda x: x.replace('\\n', ' '))\n",
        "# Removing empty leading and trailing spaces \n",
        "df_agg['Job Description'] = df_agg['Job Description'].apply(lambda x: x.strip())\n",
        "# Removing special characters\n",
        "df_agg['Job Description'] = df_agg['Job Description'].replace(r'[^\\w\\s]+', '', regex=True)\n",
        "# Converting the text to lowercase\n",
        "df_agg['Job Description'] = df_agg['Job Description'].str.lower()\n",
        "# Splitting each word\n",
        "df_agg['Job Description'] = df_agg['Job Description'].apply(lambda x: x.split(' '))\n",
        "\n",
        "for i in range(len(df_agg['Job Description'])):\n",
        "    text = []\n",
        "    for word in df_agg['Job Description'][i]:\n",
        "        if word not in stopwords:\n",
        "            word = lemmatizer.lemmatize(word)\n",
        "            text.append(word)\n",
        "    df_agg['Job Description'][i] = text\n",
        "\n",
        "# joining the words back together\n",
        "\n",
        "df_agg['Job Description'] = df_agg['Job Description'].apply(lambda x: ' '.join(x))"
      ],
      "metadata": {
        "id": "2XS2h5Spt5Hk"
      },
      "execution_count": 103,
      "outputs": []
    },
    {
      "cell_type": "code",
      "source": [
        "cv2 = CountVectorizer(stop_words = 'english')\n",
        "count_matrix2 = cv2.fit_transform(df_agg['Job Description'])"
      ],
      "metadata": {
        "id": "750H_s1W2D1A"
      },
      "execution_count": 104,
      "outputs": []
    },
    {
      "cell_type": "code",
      "source": [
        "top_x_recommendations(10,df_agg,df_agg['Job Description'].iloc[10],cv2,count_matrix2)"
      ],
      "metadata": {
        "colab": {
          "base_uri": "https://localhost:8080/"
        },
        "id": "Hj8URfHy2uLF",
        "outputId": "ba20bbaa-c498-4b04-a636-6f6d09e6d2c1"
      },
      "execution_count": 121,
      "outputs": [
        {
          "output_type": "stream",
          "name": "stdout",
          "text": [
            "   index  similarities\n",
            "0    160      0.751005\n",
            "1     63      0.745466\n",
            "2    207      0.745420\n",
            "3     25      0.739808\n",
            "4    165      0.737304\n",
            "5    220      0.733350\n",
            "6     15      0.730831\n",
            "7    417      0.725731\n",
            "8    242      0.722166\n",
            "9    175      0.722166\n",
            "\n",
            "Applicant's qualifications:  candidate must bachelor computer science engineering related field equivalent experience8 year professional experience software developmentexperience contributing architecture design architecture design pattern reliability scaling new current system industry experience architecting designing scalable system interact multiple system designed expansion business growspossess extremely sound understanding basic area computer science algorithm data structure object oriented design databasesknowledge professional software engineering practice  best practice full software development life cycle including coding standard code review source control management build process testing operationsexperience building complex large scale software system using aws technology successfully delivered customersexperience communicating user technical team management collect requirement describe software product feature technical design remove bottleneck tech team throughout sdlc \n",
            "\n",
            "Recommended jobs:\n",
            "\n",
            "Job Title:  Software Development Engineer II, India Consumer\n",
            "Company: Amazon\n",
            "Job Description: 1 year experience contributing system design architecture architecture design pattern reliability scaling new current systems2 year noninternship professional software development experienceprogramming experience least one software programming language experience building complex software system successfully delivered customersknowledge professional software engineering practice best practice full software development lifecycle including coding standard code review source control management build process testing operationsability take project scoping requirement actual launch projectexperience communicating user technical team management collect requirement describe software product feature technical design\n",
            "\n",
            "Job Title:  Software Development Engineer\n",
            "Company: Amazon\n",
            "Job Description: 2 year noninternship professional software development experience1 year experience contributing architecture design architecture design pattern reliability scaling new current systemsprogramming experience least one software programming language  experience building complex software system successfully delivered customer  knowledge professional software engineering practice  best practice full software development life cycle including coding standard code review source control management build process testing operation  ability take project scoping requirement actual launch project  experience communicating user technical team management collect requirement describe software product feature technical design\n",
            "\n",
            "Job Title:  iOS Software Engineer, Amazon.com Services LLC\n",
            "Company: Amazon\n",
            "Job Description: 1 year experience contributing system design architecture architecture design pattern reliability scaling new current systems2 year noninternship professional software development experienceprogramming experience least one software programming language experience building complex software system successfully delivered customersknowledge professional software engineering practice  best practice full software development life cycle including coding standard code review source control management build process testing operationsability take project scoping requirement actual launch projectexperience communicating user technical team management collect requirement describe software product feature technical designsthe\n",
            "\n",
            "Job Title:  Software Development Engineer\n",
            "Company: Amazon\n",
            "Job Description: 2 year noninternship professional software development experienceprogramming experience least one modern language java c c including objectoriented design1 year experience contributing architecture design architecture design pattern reliability scaling new current system experience building complex software system successfully delivered customersknowledge professional software engineering practice best practice full software development lifecycle including coding standard code review source control management build process testing operationsability take project scoping requirement actual launch projectexperience communicating user technical team management collect requirement describe software product feature technical design\n",
            "\n",
            "Job Title:  Software Development Engineer II, AB Supplier Ops Tech\n",
            "Company: Amazon\n",
            "Job Description: 1 year experience contributing system design architecture architecture design pattern reliability scaling new current systems2 year noninternship professional software development experienceprogramming experience least one software programming language experience taking leading role building complex software system successfully delivered customersexperience distributed computing enterprisewide system including aws cloud technologiesknowledge professional software engineering practice  best practice full software development life cycle including coding standard code review source control management build process testing operationsexperience communicating user technical team senior management collect requirement describe software product feature technical design product strategyms computer science computerelectrical engineering mathematics related fieldexperience mentoring junior software engineer improve skill make effective product software engineersexperience influencing software engineer best practice within teamhandson expertise many disparate technology typically ranging frontend user interface backend system point betweenmaniacal customer obsession\n",
            "\n",
            "Job Title:  Software Development Engineer (Role based in Luxembourg)\n",
            "Company: Amazon\n",
            "Job Description: 2 year noninternship professional software development experience programming experience least one modern language java c c including objectoriented design 1 year experience contributing architecture design architecture design pattern reliability scaling new current system  experience building complex b2b software system successfully delivered customer knowledge professional software engineering practice  best practice full software development life cycle including coding standard code review source control management build process testing operation ability take project scoping requirement actual launch project experience communicating user technical team management collect requirement describe software product feature technical design\n",
            "\n",
            "Job Title:  Software Development Engineer\n",
            "Company: Amazon\n",
            "Job Description: programming experience least one modern language java c c including objectoriented design1 year experience contributing architecture design architecture design pattern reliability scaling new current systems2 year noninternship professional software development experience experience building complex software system successfully delivered customersknowledge professional software engineering practice best practice full software development lifecycle including coding standard code review source control management build process testing operationsability take project scoping requirement actual launch projectexperience communicating user technical team management collect requirement describe software product feature technical design\n",
            "\n",
            "Job Title:  SDE- AFT, Amazon Fulfillment Technology\n",
            "Company: Amazon\n",
            "Job Description: 1 year experience contributing system design architecture architecture design pattern reliability scaling new current systems2 year noninternship professional software development experienceprogramming experience least one software programming language experience building complex software system successfully delivered customersknowledge professional software engineering practice  best practice full software development life cycle including coding standard code review source control management build process testing operationsability take project scoping requirement actual launch projectexperience communicating user technical team management collect requirement describe software product feature technical designsexperience building highly scalable high availability servicesexperience realtime analytical system machine learning\n",
            "\n",
            "Job Title:   Tech Lead / Senior Software Development Engineer, EMEA Multiple locations/Team\n",
            "Company: Amazon\n",
            "Job Description: bachelor degree computer science related field equivalent experience 8 year professional experience software development strong computer science fundamental objectoriented design data structure algorithm design complexity analysis scalability availability proficiency least one modern programming language demonstrated technical team leadership architecting developing deploying complex solution  experience building microservices knowledge professional software engineering practice  best practice full software development life cycle including coding standard code review source control management build process testing operation ability take project scoping requirement actual launch project experience communicating user technical team management collect requirement describe software product feature technical design\n",
            "\n",
            "Job Title:  Tech Lead / Senior Software Development Engineer\n",
            "Company: Amazon\n",
            "Job Description: bachelor degree computer science related field equivalent experience 8 year professional experience software development strong computer science fundamental objectoriented design data structure algorithm design complexity analysis scalability availability proficiency least one modern programming language demonstrated technical team leadership architecting developing deploying complex solution  experience building microservices knowledge professional software engineering practice  best practice full software development life cycle including coding standard code review source control management build process testing operation ability take project scoping requirement actual launch project experience communicating user technical team management collect requirement describe software product feature technical design\n"
          ]
        }
      ]
    },
    {
      "cell_type": "code",
      "source": [
        "top_x_recommendations(10,df_agg,df_agg['Job Description'].iloc[2755],cv2,count_matrix2)"
      ],
      "metadata": {
        "colab": {
          "base_uri": "https://localhost:8080/"
        },
        "id": "yPzx_GoY3ObS",
        "outputId": "8e5e3766-3551-42ef-b038-5b8ef9ac0b11"
      },
      "execution_count": 122,
      "outputs": [
        {
          "output_type": "stream",
          "name": "stdout",
          "text": [
            "   index  similarities\n",
            "0   2752      0.835219\n",
            "1   2767      0.706416\n",
            "2   2773      0.693978\n",
            "3   2828      0.655992\n",
            "4   2810      0.650723\n",
            "5   2825      0.650259\n",
            "6   2834      0.633356\n",
            "7   3004      0.578937\n",
            "8   2858      0.577650\n",
            "9   2855      0.577650\n",
            "\n",
            "Applicant's qualifications:  2 year successful sale marketing experience preferably ecommerce retail technology software industry  demonstrated success exceeding marketingbusiness developmentsales target using consultative solutionsfocused approach  exceptional communication presentation skill  highly analytical ability manipulate analyze data  ability work fastpaced environment deal ambiguity strong learning agility  relationship management communication skill  strong written verbal communication skill korean english  babs degree  ability work legal product internal business owner reach mutually beneficial agreement  global ecommerce experience  experience using analytical marketing productivity tool including oracle business intelligence salesforce crm tool microsoft onenote microsoft sharepoint  success managing large account portfolio  track record successfully scaling business campaign \n",
            "\n",
            "Recommended jobs:\n",
            "\n",
            "Job Title:  Account Executive\n",
            "Company: Amazon\n",
            "Job Description: 2 year successful sale andor business development experience preferably ecommerce retail technology software industry  demonstrated success exceeding marketingbusiness developmentsales target using consultative solutionsfocused approach exceptional communication presentation skill  experience marketing pitching nascent productsservices new market customer highly analytical ability manipulate analyze data  ability deal ambiguity work fastpaced environment  strong team player proven ability work harmoniously  strong written verbal communication skill korean english  babs degree preferred  experience global ecommerce andor consumerbeauty product industry  proven ability influence others  ability work legal product internal business owner reach mutually beneficial agreement  experience using analytical marketing productivity tool including salesforce microsoft excel  track record successfully scaling business campaign  html andor sql skill desirable\n",
            "\n",
            "Job Title:  Account Executive, Amazon Global Selling Korea\n",
            "Company: Amazon\n",
            "Job Description: babs degree preferred2 year successful sale experience preferably ecommerce retail technology software industriesdemonstrated success exceeding marketing target using consultative solutionsfocused approachexceptional communication presentation skillsexperience marketing nascent productsservices new marketshighly analytical ability manipulate dataability work fastpaced environment deal ambiguityrelationship management communication skillsability thrive ambiguous environmentalways right customer relentlessly customerfocusedstrong written verbal communication skill korean english  global ecommerce experience experience using analytical marketing productivity tool including oracle business intelligence salesforce crm tool microsoft onenote microsoft sharepoint proficient japanese language liaise japanese speaking stakeholder\n",
            "\n",
            "Job Title:  Account Executive, Amazon Global Selling\n",
            "Company: Amazon\n",
            "Job Description: basic qualification  prior experience sale account management role preferably ecommerce retail technology software industry  babs degree preferred  demonstrated success exceeding sale target using consultative solutionsfocused approach  exceptional communication presentation skill  experience marketing nascent productsservices new geography  highly analytical ability manipulate data  ability work fastpaced environment deal ambiguity  strong written verbal communication skill english  experience ecommerce  3 year working experience preferred qualification  35 year sale account management experience ecommerce consumer good industry  superior analytical skill demonstrated ability identify solve ambiguous problem particular identifying customer buying selling need inventing new way meet need  demonstrated ability operate strategically tactically highenergy fastpaced environment  high degree organization ability manage multiple competing priority  excellent communication verbal written collaboration skill enable earn trust level  experience using analytical marketing productivity tool including salesforce crm tool microsoft office suite\n",
            "\n",
            "Job Title:  Account Manager\n",
            "Company: Amazon\n",
            "Job Description: babs degree preferred  3 year successful sale account management experience preferably ecommerce online service retail industry demonstrated success exceeding sale target using consultative solutionsfocused approach resultoriented strong commitment ownership towards goal target assigned exceptional communication presentation skill  highly analytical data driven mindset must comfortable microsoft excel ability work fastpaced environment deal ambiguity strong written verbal communication skill english  fluent vietnamese    experienced working internationalcrosscultural team experienced working small medium business segment large national brand acquainted online business global ecommerce marketplace experience plus experienced using analytical marketing productivity tool online collaboration tool\n",
            "\n",
            "Job Title:  Senior Account Executive\n",
            "Company: Amazon\n",
            "Job Description: babs degree preferred  7 year successful sale account management experience preferably b2b sale understand well local manufacturing korea export  demonstrated success exceeding sale target using consultative solutionsfocused approach  resultoriented strong commitment ownership towards goal target assigned  exceptional communication presentation skill  highly analytical data driven mindset must comfortable microsoft excel  ability work fastpaced environment deal ambiguity  strong written verbal communication skill english korean language  experienced working internationalcrosscultural team  experienced working small medium business segment large national brand  acquainted online business global ecommerce marketplace experience retail industry plus  experienced using analytical marketing productivity tool online collaboration tool\n",
            "\n",
            "Job Title:  Account Manager\n",
            "Company: Amazon\n",
            "Job Description: babs degree preferred  3 year successful sale account management experience preferably ecommerce b2b sale online service retail industry demonstrated success exceeding sale target using consultative solutionsfocused approach resultoriented strong commitment ownership towards goal target assigned exceptional communication presentation skill  highly analytical data driven mindset must comfortable microsoft excel ability work fastpaced environment deal ambiguity strong written verbal communication skill english  fluent vietnamese  experienced working internationalcrosscultural team experienced working small medium business segment large national brand acquainted online business global ecommerce marketplace experience product sourcing plus experienced using analytical marketing productivity tool online collaboration tool\n",
            "\n",
            "Job Title:  Account Manager, DSR\n",
            "Company: Amazon\n",
            "Job Description: babs degree preferred  3 year successful sale account management sourcing experience preferably ecommerce b2b sale online service retaildistributionsupply chain industry demonstrated success exceeding sale target using consultative solutionsfocused approach resultoriented strong commitment ownership towards goal target assigned exceptional communication presentation skill  highly analytical data driven mindset must comfortable microsoft excel ability work fastpaced environment deal ambiguity strong written verbal communication skill english  fluent vietnamese  experienced working internationalcrosscultural team experienced working small medium business segment large national brand acquainted online business global ecommerce marketplace experience product sourcing plus experienced using analytical marketing productivity tool online collaboration tool\n",
            "\n",
            "Job Title:  Senior Account Manager\n",
            "Company: Amazon\n",
            "Job Description: bachelor degree 5 year professional work experience strong organizational skill including prioritizing scheduling time management meeting deadline strong analytic skill expertise excel strong written verbal communication skill proficiency composing concise accurate appropriately targeted response must able work onsite seattle wa relocation assistance provided 5 year experience account management sale marketing buying customer service delivery related industry like retail telecom technology hospitality experience using analytical sale productivity tool including oracle business intelligence salesforce microsoft office suite microsoft onenote microsoft sharepoint ecommerce experience preferred demonstrated ability learning tool process effectively utilizing service delivery effectively manage multiple project priority fastpaced deadlinedriven environment proven track record taking ownership driving result strong attention detail excellent problem solving skill\n",
            "\n",
            "Job Title:  Business Development Manager, Amazon Global Selling\n",
            "Company: Amazon\n",
            "Job Description: prior experience sale business development role preferably ecommerce online service retail industry  babs degree preferred  demonstrated drive set achieve aggressive goal compromising quality work  exceptional communication presentation skill  experience marketing nascent productsservices new geography  highly analytical ability manipulate data  ability work fastpaced environment deal ambiguity  strong written verbal communication skill 5 year working experience  passion customer high attention detail  proven ability think strategically execute plan excellent organization skill ability effectively manage multiple project evolve ambiguous environment enthusiastic passionate  genuine interest product presence ability excite people amazon global selling ability interact management level mediumtolarge company related experience online business export background\n",
            "\n",
            "Job Title:  Senior Business Development Manager, Amazon Global Selling\n",
            "Company: Amazon\n",
            "Job Description: prior experience sale business development role preferably ecommerce online service retail industry  babs degree preferred  demonstrated drive set achieve aggressive goal compromising quality work  exceptional communication presentation skill  experience marketing nascent productsservices new geography  highly analytical ability manipulate data  ability work fastpaced environment deal ambiguity  strong written verbal communication skill 5 year working experience  passion customer high attention detail  proven ability think strategically execute plan excellent organization skill ability effectively manage multiple project evolve ambiguous environment enthusiastic passionate  genuine interest product presence ability excite people amazon global selling ability interact management level mediumtolarge company related experience online business export background\n"
          ]
        }
      ]
    },
    {
      "cell_type": "code",
      "source": [
        "df_agg.iloc[2755]"
      ],
      "metadata": {
        "colab": {
          "base_uri": "https://localhost:8080/"
        },
        "id": "1xQInJNe4DrK",
        "outputId": "2b1b2001-040c-4917-f8ec-67180e717225"
      },
      "execution_count": 109,
      "outputs": [
        {
          "output_type": "execute_result",
          "data": {
            "text/plain": [
              "Company                                                       Amazon\n",
              "Job Title                             Account Exec Global Selling KR\n",
              "Job Description    2 year successful sale marketing experience pr...\n",
              "Name: 2755, dtype: object"
            ]
          },
          "metadata": {},
          "execution_count": 109
        }
      ]
    }
  ],
  "metadata": {
    "colab": {
      "provenance": [],
      "include_colab_link": true
    },
    "kernelspec": {
      "display_name": "Python 3 (ipykernel)",
      "language": "python",
      "name": "python3"
    },
    "language_info": {
      "codemirror_mode": {
        "name": "ipython",
        "version": 3
      },
      "file_extension": ".py",
      "mimetype": "text/x-python",
      "name": "python",
      "nbconvert_exporter": "python",
      "pygments_lexer": "ipython3",
      "version": "3.9.7"
    }
  },
  "nbformat": 4,
  "nbformat_minor": 0
}
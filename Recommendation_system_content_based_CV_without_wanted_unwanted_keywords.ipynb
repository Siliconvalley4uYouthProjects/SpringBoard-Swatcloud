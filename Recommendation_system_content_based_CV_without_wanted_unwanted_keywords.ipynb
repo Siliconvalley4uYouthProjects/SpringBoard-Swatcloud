{
  "cells": [
    {
      "cell_type": "markdown",
      "metadata": {
        "id": "view-in-github",
        "colab_type": "text"
      },
      "source": [
        "<a href=\"https://colab.research.google.com/github/Siliconvalley4uYouthProjects/SpringBoard-Swatcloud/blob/main/Recommendation_system_content_based_CV_without_wanted_unwanted_keywords.ipynb\" target=\"_parent\"><img src=\"https://colab.research.google.com/assets/colab-badge.svg\" alt=\"Open In Colab\"/></a>"
      ]
    },
    {
      "cell_type": "code",
      "execution_count": 13,
      "metadata": {
        "id": "Kecp0flNFkBh",
        "colab": {
          "base_uri": "https://localhost:8080/"
        },
        "outputId": "7344e084-ab1b-4cc3-bb2a-01462ba57c87"
      },
      "outputs": [
        {
          "output_type": "stream",
          "name": "stderr",
          "text": [
            "[nltk_data] Downloading package stopwords to /root/nltk_data...\n",
            "[nltk_data]   Package stopwords is already up-to-date!\n",
            "[nltk_data] Downloading package wordnet to /root/nltk_data...\n",
            "[nltk_data]   Package wordnet is already up-to-date!\n",
            "[nltk_data] Downloading package omw-1.4 to /root/nltk_data...\n"
          ]
        },
        {
          "output_type": "execute_result",
          "data": {
            "text/plain": [
              "True"
            ]
          },
          "metadata": {},
          "execution_count": 13
        }
      ],
      "source": [
        "# Importing libraries\n",
        "\n",
        "import pandas as pd\n",
        "import numpy as np\n",
        "import nltk\n",
        "import regex as re\n",
        "from nltk.corpus import stopwords\n",
        "from sklearn.feature_extraction.text import CountVectorizer\n",
        "from sklearn.metrics.pairwise import cosine_similarity\n",
        "from nltk.stem.wordnet import WordNetLemmatizer\n",
        "nltk.download('stopwords')\n",
        "nltk.download('wordnet')\n",
        "nltk.download('omw-1.4')"
      ]
    },
    {
      "cell_type": "code",
      "execution_count": 7,
      "metadata": {
        "id": "RTPJeNCBCHe0"
      },
      "outputs": [],
      "source": [
        "# Reading in the jobs\n",
        "\n",
        "df = pd.read_csv('swe_marketing_jobs.csv',header=None,names=['Industry','Company','Job Title','Job Description'],skiprows=1)\n",
        "df.dropna(inplace=True)\n",
        "df.reset_index(inplace=True, drop=True)"
      ]
    },
    {
      "cell_type": "code",
      "source": [
        "df.head()"
      ],
      "metadata": {
        "colab": {
          "base_uri": "https://localhost:8080/",
          "height": 206
        },
        "id": "qareRegvlypV",
        "outputId": "541398fc-c131-4297-9ab0-a933d71a6a97"
      },
      "execution_count": 8,
      "outputs": [
        {
          "output_type": "execute_result",
          "data": {
            "text/plain": [
              "               Industry Company  \\\n",
              "0  Software Engineering  Amazon   \n",
              "1  Software Engineering  Amazon   \n",
              "2  Software Engineering  Amazon   \n",
              "3  Software Engineering  Amazon   \n",
              "4  Software Engineering  Amazon   \n",
              "\n",
              "                                           Job Title  \\\n",
              "0               Senior Software Development Engineer   \n",
              "1           Software Development Engineer - Payments   \n",
              "2            Software Development Engineer - Fintech   \n",
              "3                      Software Development Engineer   \n",
              "4  Embedded Software Development Engineer, Satell...   \n",
              "\n",
              "                                     Job Description  \n",
              "0   4 year professional software development expe...  \n",
              "1   programming experience least one modern langu...  \n",
              "2  bachelor degree computer science related field...  \n",
              "3  1 year experience contributing system design a...  \n",
              "4  1 year experience contributing system design a...  "
            ],
            "text/html": [
              "\n",
              "  <div id=\"df-944f036e-e0f7-43e6-b83e-2347819f4ce6\">\n",
              "    <div class=\"colab-df-container\">\n",
              "      <div>\n",
              "<style scoped>\n",
              "    .dataframe tbody tr th:only-of-type {\n",
              "        vertical-align: middle;\n",
              "    }\n",
              "\n",
              "    .dataframe tbody tr th {\n",
              "        vertical-align: top;\n",
              "    }\n",
              "\n",
              "    .dataframe thead th {\n",
              "        text-align: right;\n",
              "    }\n",
              "</style>\n",
              "<table border=\"1\" class=\"dataframe\">\n",
              "  <thead>\n",
              "    <tr style=\"text-align: right;\">\n",
              "      <th></th>\n",
              "      <th>Industry</th>\n",
              "      <th>Company</th>\n",
              "      <th>Job Title</th>\n",
              "      <th>Job Description</th>\n",
              "    </tr>\n",
              "  </thead>\n",
              "  <tbody>\n",
              "    <tr>\n",
              "      <th>0</th>\n",
              "      <td>Software Engineering</td>\n",
              "      <td>Amazon</td>\n",
              "      <td>Senior Software Development Engineer</td>\n",
              "      <td>4 year professional software development expe...</td>\n",
              "    </tr>\n",
              "    <tr>\n",
              "      <th>1</th>\n",
              "      <td>Software Engineering</td>\n",
              "      <td>Amazon</td>\n",
              "      <td>Software Development Engineer - Payments</td>\n",
              "      <td>programming experience least one modern langu...</td>\n",
              "    </tr>\n",
              "    <tr>\n",
              "      <th>2</th>\n",
              "      <td>Software Engineering</td>\n",
              "      <td>Amazon</td>\n",
              "      <td>Software Development Engineer - Fintech</td>\n",
              "      <td>bachelor degree computer science related field...</td>\n",
              "    </tr>\n",
              "    <tr>\n",
              "      <th>3</th>\n",
              "      <td>Software Engineering</td>\n",
              "      <td>Amazon</td>\n",
              "      <td>Software Development Engineer</td>\n",
              "      <td>1 year experience contributing system design a...</td>\n",
              "    </tr>\n",
              "    <tr>\n",
              "      <th>4</th>\n",
              "      <td>Software Engineering</td>\n",
              "      <td>Amazon</td>\n",
              "      <td>Embedded Software Development Engineer, Satell...</td>\n",
              "      <td>1 year experience contributing system design a...</td>\n",
              "    </tr>\n",
              "  </tbody>\n",
              "</table>\n",
              "</div>\n",
              "      <button class=\"colab-df-convert\" onclick=\"convertToInteractive('df-944f036e-e0f7-43e6-b83e-2347819f4ce6')\"\n",
              "              title=\"Convert this dataframe to an interactive table.\"\n",
              "              style=\"display:none;\">\n",
              "        \n",
              "  <svg xmlns=\"http://www.w3.org/2000/svg\" height=\"24px\"viewBox=\"0 0 24 24\"\n",
              "       width=\"24px\">\n",
              "    <path d=\"M0 0h24v24H0V0z\" fill=\"none\"/>\n",
              "    <path d=\"M18.56 5.44l.94 2.06.94-2.06 2.06-.94-2.06-.94-.94-2.06-.94 2.06-2.06.94zm-11 1L8.5 8.5l.94-2.06 2.06-.94-2.06-.94L8.5 2.5l-.94 2.06-2.06.94zm10 10l.94 2.06.94-2.06 2.06-.94-2.06-.94-.94-2.06-.94 2.06-2.06.94z\"/><path d=\"M17.41 7.96l-1.37-1.37c-.4-.4-.92-.59-1.43-.59-.52 0-1.04.2-1.43.59L10.3 9.45l-7.72 7.72c-.78.78-.78 2.05 0 2.83L4 21.41c.39.39.9.59 1.41.59.51 0 1.02-.2 1.41-.59l7.78-7.78 2.81-2.81c.8-.78.8-2.07 0-2.86zM5.41 20L4 18.59l7.72-7.72 1.47 1.35L5.41 20z\"/>\n",
              "  </svg>\n",
              "      </button>\n",
              "      \n",
              "  <style>\n",
              "    .colab-df-container {\n",
              "      display:flex;\n",
              "      flex-wrap:wrap;\n",
              "      gap: 12px;\n",
              "    }\n",
              "\n",
              "    .colab-df-convert {\n",
              "      background-color: #E8F0FE;\n",
              "      border: none;\n",
              "      border-radius: 50%;\n",
              "      cursor: pointer;\n",
              "      display: none;\n",
              "      fill: #1967D2;\n",
              "      height: 32px;\n",
              "      padding: 0 0 0 0;\n",
              "      width: 32px;\n",
              "    }\n",
              "\n",
              "    .colab-df-convert:hover {\n",
              "      background-color: #E2EBFA;\n",
              "      box-shadow: 0px 1px 2px rgba(60, 64, 67, 0.3), 0px 1px 3px 1px rgba(60, 64, 67, 0.15);\n",
              "      fill: #174EA6;\n",
              "    }\n",
              "\n",
              "    [theme=dark] .colab-df-convert {\n",
              "      background-color: #3B4455;\n",
              "      fill: #D2E3FC;\n",
              "    }\n",
              "\n",
              "    [theme=dark] .colab-df-convert:hover {\n",
              "      background-color: #434B5C;\n",
              "      box-shadow: 0px 1px 3px 1px rgba(0, 0, 0, 0.15);\n",
              "      filter: drop-shadow(0px 1px 2px rgba(0, 0, 0, 0.3));\n",
              "      fill: #FFFFFF;\n",
              "    }\n",
              "  </style>\n",
              "\n",
              "      <script>\n",
              "        const buttonEl =\n",
              "          document.querySelector('#df-944f036e-e0f7-43e6-b83e-2347819f4ce6 button.colab-df-convert');\n",
              "        buttonEl.style.display =\n",
              "          google.colab.kernel.accessAllowed ? 'block' : 'none';\n",
              "\n",
              "        async function convertToInteractive(key) {\n",
              "          const element = document.querySelector('#df-944f036e-e0f7-43e6-b83e-2347819f4ce6');\n",
              "          const dataTable =\n",
              "            await google.colab.kernel.invokeFunction('convertToInteractive',\n",
              "                                                     [key], {});\n",
              "          if (!dataTable) return;\n",
              "\n",
              "          const docLinkHtml = 'Like what you see? Visit the ' +\n",
              "            '<a target=\"_blank\" href=https://colab.research.google.com/notebooks/data_table.ipynb>data table notebook</a>'\n",
              "            + ' to learn more about interactive tables.';\n",
              "          element.innerHTML = '';\n",
              "          dataTable['output_type'] = 'display_data';\n",
              "          await google.colab.output.renderOutput(dataTable, element);\n",
              "          const docLink = document.createElement('div');\n",
              "          docLink.innerHTML = docLinkHtml;\n",
              "          element.appendChild(docLink);\n",
              "        }\n",
              "      </script>\n",
              "    </div>\n",
              "  </div>\n",
              "  "
            ]
          },
          "metadata": {},
          "execution_count": 8
        }
      ]
    },
    {
      "cell_type": "markdown",
      "source": [
        "### Now we supply a new data point, and let the model output recommended job titles based on the calculated cosine similarity of this new data point and the existing job descriptions."
      ],
      "metadata": {
        "id": "RP622kzOwTC0"
      }
    },
    {
      "cell_type": "code",
      "source": [
        "def top_x_recommendations(x,DataFrame,description):\n",
        "  # Text Cleaning tasks\n",
        "  # Removing new line characters\n",
        "  description = description.replace('\\n', ' ')\n",
        "  # Removing special characters\n",
        "  description = description.replace(r'[^\\w\\s]+', '')\n",
        "  description = re.sub(r'[^a-zA-Z0-9]', ' ', description)\n",
        "  # Converting the text to lowercase\n",
        "  description = description.lower()\n",
        "  # Removing empty leading and trailing spaces \n",
        "  description = description.strip()\n",
        "  # Splitting each word\n",
        "  description = description.split(' ')\n",
        "\n",
        "  text = []\n",
        "  lemmatizer = WordNetLemmatizer()\n",
        "  for i in range(len(description)):\n",
        "      if description[i] not in list(stopwords.words('english')):\n",
        "        word = lemmatizer.lemmatize(description[i])\n",
        "        word = ''.join(x for x in word if x.isalnum())\n",
        "        text.append(word)\n",
        "  description = text\n",
        "  description = ' '.join(description)\n",
        "  description = re.sub(' +', ' ', description)\n",
        "  new_data_input = [description]\n",
        "\n",
        "  # transform the new data point using CountVectorizer\n",
        "  countVector = CountVectorizer(stop_words = 'english')\n",
        "  countMatrix = countVector.fit_transform(DataFrame['Job Description'])\n",
        "  new_data_transformed = countVector.transform(new_data_input)\n",
        "\n",
        "  # calculate cosine similarities of the new data point with all of the job descriptions\n",
        "  cosine_sim = cosine_similarity(new_data_transformed, countMatrix)\n",
        "\n",
        "  # collect the top x recommendations\n",
        "  top_x = pd.DataFrame(cosine_sim.T, columns=['Similarity Score']).sort_values(by='Similarity Score', ascending=False)[1:x+1]\n",
        "  similarity = []\n",
        "  for score in top_x['Similarity Score']:\n",
        "    if score > 0.4:\n",
        "      similarity.append('Very Strong Match')\n",
        "    elif score > 0.35:\n",
        "      similarity.append('Strong Match')\n",
        "    elif score > 0.25:\n",
        "      similarity.append('Good Match')\n",
        "    else:\n",
        "      similarity.append('Loose Match')\n",
        "  top_x['Match Strength'] = similarity\n",
        "  top_x = top_x.reset_index()\n",
        "  print(top_x)\n",
        "\n",
        "  # print out the top x job descriptions\n",
        "  print(\"\\nApplicant's qualifications: \", new_data_input[0], '\\n' )\n",
        "  print('Recommended jobs:')\n",
        "  for i in range(len(top_x['index'])):\n",
        "    print('\\nJob Title: ', DataFrame['Job Title'][top_x.iloc[i]['index']])\n",
        "    print('Company:', DataFrame['Company'][top_x.iloc[i]['index']])\n",
        "    print('Job Description:', DataFrame['Job Description'][top_x.iloc[i]['index']])\n",
        "    match_strength = top_x['Match Strength'][i]\n",
        "    print('Match Strength:', match_strength)\n",
        "  "
      ],
      "metadata": {
        "id": "ALRpgiV4w2QM"
      },
      "execution_count": 9,
      "outputs": []
    },
    {
      "cell_type": "code",
      "source": [
        "top_x_recommendations(10,df,df['Job Description'].iloc[10])"
      ],
      "metadata": {
        "colab": {
          "base_uri": "https://localhost:8080/"
        },
        "id": "t4vwjmcbbX1W",
        "outputId": "7a658644-42b2-413d-bfeb-9f850081ea25"
      },
      "execution_count": 14,
      "outputs": [
        {
          "output_type": "stream",
          "name": "stdout",
          "text": [
            "   index  Similarity Score     Match Strength\n",
            "0    160          0.751005  Very Strong Match\n",
            "1     63          0.745466  Very Strong Match\n",
            "2    207          0.745420  Very Strong Match\n",
            "3     25          0.739808  Very Strong Match\n",
            "4    165          0.737304  Very Strong Match\n",
            "5   3607          0.737304  Very Strong Match\n",
            "6    220          0.733350  Very Strong Match\n",
            "7     15          0.730831  Very Strong Match\n",
            "8    417          0.725731  Very Strong Match\n",
            "9    242          0.722166  Very Strong Match\n",
            "\n",
            "Applicant's qualifications:  candidate must bachelor computer science engineering related field equivalent experience8 year professional experience software developmentexperience contributing architecture design architecture design pattern reliability scaling new current system industry experience architecting designing scalable system interact multiple system designed expansion business growspossess extremely sound understanding basic area computer science algorithm data structure object oriented design databasesknowledge professional software engineering practice best practice full software development life cycle including coding standard code review source control management build process testing operationsexperience building complex large scale software system using aws technology successfully delivered customersexperience communicating user technical team management collect requirement describe software product feature technical design remove bottleneck tech team throughout sdlc \n",
            "\n",
            "Recommended jobs:\n",
            "\n",
            "Job Title:  Software Development Engineer II, India Consumer\n",
            "Company: Amazon\n",
            "Job Description: 1 year experience contributing system design architecture architecture design pattern reliability scaling new current systems2 year noninternship professional software development experienceprogramming experience least one software programming language experience building complex software system successfully delivered customersknowledge professional software engineering practice best practice full software development lifecycle including coding standard code review source control management build process testing operationsability take project scoping requirement actual launch projectexperience communicating user technical team management collect requirement describe software product feature technical design\n",
            "Match Strength: Very Strong Match\n",
            "\n",
            "Job Title:  Software Development Engineer\n",
            "Company: Amazon\n",
            "Job Description: 2 year noninternship professional software development experience1 year experience contributing architecture design architecture design pattern reliability scaling new current systemsprogramming experience least one software programming language experience building complex software system successfully delivered customer knowledge professional software engineering practice best practice full software development life cycle including coding standard code review source control management build process testing operation ability take project scoping requirement actual launch project experience communicating user technical team management collect requirement describe software product feature technical design\n",
            "Match Strength: Very Strong Match\n",
            "\n",
            "Job Title:  iOS Software Engineer, Amazon.com Services LLC\n",
            "Company: Amazon\n",
            "Job Description: 1 year experience contributing system design architecture architecture design pattern reliability scaling new current systems2 year noninternship professional software development experienceprogramming experience least one software programming language experience building complex software system successfully delivered customersknowledge professional software engineering practice best practice full software development life cycle including coding standard code review source control management build process testing operationsability take project scoping requirement actual launch projectexperience communicating user technical team management collect requirement describe software product feature technical designsthe\n",
            "Match Strength: Very Strong Match\n",
            "\n",
            "Job Title:  Software Development Engineer\n",
            "Company: Amazon\n",
            "Job Description: 2 year noninternship professional software development experienceprogramming experience least one modern language java c c including objectoriented design1 year experience contributing architecture design architecture design pattern reliability scaling new current system experience building complex software system successfully delivered customersknowledge professional software engineering practice best practice full software development lifecycle including coding standard code review source control management build process testing operationsability take project scoping requirement actual launch projectexperience communicating user technical team management collect requirement describe software product feature technical design\n",
            "Match Strength: Very Strong Match\n",
            "\n",
            "Job Title:  Software Development Engineer II, AB Supplier Ops Tech\n",
            "Company: Amazon\n",
            "Job Description: 1 year experience contributing system design architecture architecture design pattern reliability scaling new current systems2 year noninternship professional software development experienceprogramming experience least one software programming language experience taking leading role building complex software system successfully delivered customersexperience distributed computing enterprisewide system including aws cloud technologiesknowledge professional software engineering practice best practice full software development life cycle including coding standard code review source control management build process testing operationsexperience communicating user technical team senior management collect requirement describe software product feature technical design product strategyms computer science computerelectrical engineering mathematics related fieldexperience mentoring junior software engineer improve skill make effective product software engineersexperience influencing software engineer best practice within teamhandson expertise many disparate technology typically ranging frontend user interface backend system point betweenmaniacal customer obsession\n",
            "Match Strength: Very Strong Match\n",
            "\n",
            "Job Title:  Software Development Engineer II, AB Supplier Ops Tech\n",
            "Company: Amazon\n",
            "Job Description: 1 year experience contributing system design architecture architecture design pattern reliability scaling new current systems2 year noninternship professional software development experienceprogramming experience least one software programming language experience taking leading role building complex software system successfully delivered customersexperience distributed computing enterprisewide system including aws cloud technologiesknowledge professional software engineering practice best practice full software development life cycle including coding standard code review source control management build process testing operationsexperience communicating user technical team senior management collect requirement describe software product feature technical design product strategyms computer science computerelectrical engineering mathematics related fieldexperience mentoring junior software engineer improve skill make effective product software engineersexperience influencing software engineer best practice within teamhandson expertise many disparate technology typically ranging frontend user interface backend system point betweenmaniacal customer obsession\n",
            "Match Strength: Very Strong Match\n",
            "\n",
            "Job Title:  Software Development Engineer (Role based in Luxembourg)\n",
            "Company: Amazon\n",
            "Job Description:  2 year noninternship professional software development experience programming experience least one modern language java c c including objectoriented design 1 year experience contributing architecture design architecture design pattern reliability scaling new current system experience building complex b2b software system successfully delivered customer knowledge professional software engineering practice best practice full software development life cycle including coding standard code review source control management build process testing operation ability take project scoping requirement actual launch project experience communicating user technical team management collect requirement describe software product feature technical design\n",
            "Match Strength: Very Strong Match\n",
            "\n",
            "Job Title:  Software Development Engineer\n",
            "Company: Amazon\n",
            "Job Description: programming experience least one modern language java c c including objectoriented design1 year experience contributing architecture design architecture design pattern reliability scaling new current systems2 year noninternship professional software development experience experience building complex software system successfully delivered customersknowledge professional software engineering practice best practice full software development lifecycle including coding standard code review source control management build process testing operationsability take project scoping requirement actual launch projectexperience communicating user technical team management collect requirement describe software product feature technical design\n",
            "Match Strength: Very Strong Match\n",
            "\n",
            "Job Title:  SDE- AFT, Amazon Fulfillment Technology\n",
            "Company: Amazon\n",
            "Job Description: 1 year experience contributing system design architecture architecture design pattern reliability scaling new current systems2 year noninternship professional software development experienceprogramming experience least one software programming language experience building complex software system successfully delivered customersknowledge professional software engineering practice best practice full software development life cycle including coding standard code review source control management build process testing operationsability take project scoping requirement actual launch projectexperience communicating user technical team management collect requirement describe software product feature technical designsexperience building highly scalable high availability servicesexperience realtime analytical system machine learning\n",
            "Match Strength: Very Strong Match\n",
            "\n",
            "Job Title:   Tech Lead / Senior Software Development Engineer, EMEA Multiple locations/Team\n",
            "Company: Amazon\n",
            "Job Description:  bachelor degree computer science related field equivalent experience 8 year professional experience software development strong computer science fundamental objectoriented design data structure algorithm design complexity analysis scalability availability proficiency least one modern programming language demonstrated technical team leadership architecting developing deploying complex solution experience building microservices knowledge professional software engineering practice best practice full software development life cycle including coding standard code review source control management build process testing operation ability take project scoping requirement actual launch project experience communicating user technical team management collect requirement describe software product feature technical design\n",
            "Match Strength: Very Strong Match\n"
          ]
        }
      ]
    },
    {
      "cell_type": "markdown",
      "source": [
        "**Testing Using a Non-Amazon Job**"
      ],
      "metadata": {
        "id": "-5yQl8KtsbH7"
      }
    },
    {
      "cell_type": "code",
      "source": [
        "#Now let's try to use an input from a non-Amazon job.\n",
        "df.iloc[2514]"
      ],
      "metadata": {
        "colab": {
          "base_uri": "https://localhost:8080/"
        },
        "id": "N21JdrZ_eCK0",
        "outputId": "86372070-dded-4da7-fb4a-d35a01e044ca"
      },
      "execution_count": 15,
      "outputs": [
        {
          "output_type": "execute_result",
          "data": {
            "text/plain": [
              "Industry                                               Data Analysis\n",
              "Company                                                 Esolvit Inc.\n",
              "Job Title                                 Data Analyst/Report Writer\n",
              "Job Description    performs complex journeylevel data analysis da...\n",
              "Name: 2514, dtype: object"
            ]
          },
          "metadata": {},
          "execution_count": 15
        }
      ]
    },
    {
      "cell_type": "code",
      "source": [
        "top_x_recommendations(10,df,df['Job Description'].iloc[2514])"
      ],
      "metadata": {
        "colab": {
          "base_uri": "https://localhost:8080/"
        },
        "id": "k3AMXF38eKJx",
        "outputId": "eeb61053-f084-4d93-f1cd-7b03e705a490"
      },
      "execution_count": 16,
      "outputs": [
        {
          "output_type": "stream",
          "name": "stdout",
          "text": [
            "   index  Similarity Score     Match Strength\n",
            "0   2514          1.000000  Very Strong Match\n",
            "1   2530          0.722599  Very Strong Match\n",
            "2   2511          0.630176  Very Strong Match\n",
            "3   2495          0.589091  Very Strong Match\n",
            "4    477          0.556532  Very Strong Match\n",
            "5   3461          0.556532  Very Strong Match\n",
            "6   2503          0.555492  Very Strong Match\n",
            "7   2522          0.553509  Very Strong Match\n",
            "8   2467          0.549713  Very Strong Match\n",
            "9   2519          0.536577  Very Strong Match\n",
            "\n",
            "Applicant's qualifications:  performs complex journeylevel data analysis data research work work involves conducting detailed analysis extensive research data providing result monitoring implementing data quality develop implement customercentric metric reporting support performance quality improvement effort help streamline process data analysis visualization manage analysis data embrace evaluative thinking includes posing thoughtful question data getting feedback key stakeholder using data support staff program operation may provide guidance others work limited supervision moderate latitude use initiative independent judgment \n",
            "\n",
            "Recommended jobs:\n",
            "\n",
            "Job Title:  Data Analyst/Report Writer\n",
            "Company: Esolvit Inc.\n",
            "Job Description: performs complex journeylevel data analysis data research work work involves conducting detailed analysis extensive research data providing result monitoring implementing data quality develop implement customercentric metric reporting support performance quality improvement effort help streamline process data analysis visualization manage analysis data embrace evaluative thinking includes posing thoughtful question data getting feedback key stakeholder using data support staff program operation may provide guidance others work limited supervision moderate latitude use initiative independent judgment\n",
            "Match Strength: Very Strong Match\n",
            "\n",
            "Job Title:  Sr. Data Analyst\n",
            "Company: Internal Data Resources\n",
            "Job Description: work involves conducting detailed analysis extensive research data providing result monitoring implementing data quality develop implement customercentric metric reporting support performance quality improvement effort help streamline process data analysis visualization manage analysis data embrace evaluative thinking includes posing thoughtful question data getting feedback key stakeholder using data support staff program operation work limited supervision moderate latitude use initiative independent judgment 8 year experience senior level business data report development expertise tableau 8 year experience conducting assessment client data reporting dashboard development methodology development operational support capability process 8 year experience working data analyst liaison information technology staff business develop requirement process deliver dashboard 5 year experience working data analyst developing documenting business data requirement leveraging planned requirement gathering session thorough knowledge system architecture design system design system implementation system testing 5 year experience using businessdata analysis expertise facilitating daytoday activity produce reporting deliverable needed stakeholdercustomer team 5 year experience creating providing presenting status report option feedback upper management c level stakeholder\n",
            "Match Strength: Very Strong Match\n",
            "\n",
            "Job Title:  Data Analyst\n",
            "Company: Exeter Hospital\n",
            "Job Description: collect data performs analysis healthcare business data various internal external source electronic medical record analytic claim platform support day day analytical reporting need project well strategic imperative responsible data consolidation presentation support planning strategic based initiative creation redesign process data validation access assist analysis data various database support strategic planning initiative creates standard nonstandard reporting project leader based data consolidate data multiple source using industry based tool manually able process data effectively using various statistical package sql excel pivot vlookups regression advanced formula others determine gap information missing information ability go back rerun data comprehensiveness completeness gap closure turn data meaningful knowledge performing trend analysis variation analysis statistical analysis assist meeting requested perform need assessment better understand data needed success initiative needed assist project team regard data need provide visibility data available data obtainedcollected collaborate data administrator close gap data create monitor kpis key performance indicator project create standard practice process peer structure analytics related internal application external tool appropriate support existing application within organization data entry management export perspective participates active member data team various initiative within organization providing data analytics support creates internal database requested streamlining data process data capture consolidation needed\n",
            "Match Strength: Very Strong Match\n",
            "\n",
            "Job Title:  Data Analyst\n",
            "Company: Pacific Southwest Container, LLC\n",
            "Job Description: develop implement database data collection system data analytics strategy optimize statistical efficiency quality filter clean data reviewing computer report printout performance indicator locate correct code pattern identify analyze interpret trend pattern complex data set acquire data primary secondary data source maintain database data system provide analytical statistical programming identify key market trend focused insight user growth content performing market competitive analysis work management team prioritize business data information need monitor performance quality control plan identify improvement technical expertise regarding data model database design development data mining segmentation technique strong knowledge reporting package business object etc database sql etc programming sml javascript etl framework strong knowledge statistic statistical package analyzing datasets using visualization tool python r excel tableau extensive knowledge programming language strong data analytic skill ability collect organize analyze disseminate significant amount raw data report adept query report writing presenting finding high attention detail accuracy creative critical thinking skill strong problemsolving presentation graphical skill advanced microsoft excel skill required excellent organizational project management skill great interpersonal communication skill oral written bachelor degree mathematics economics statistic information technology related field required master degree analytics data science preferred 35 year proven work experience data analyst business data analyst proven experience data extraction data cleaning data loading statistical data analysis exploratory data analysis predictive modeling experience using spss sa power bi tableau\n",
            "Match Strength: Very Strong Match\n",
            "\n",
            "Job Title:  Business Analyst\n",
            "Company: Amazon\n",
            "Job Description: experience data transformation sql excelexperience data visualization tool power bi tableau quicksight etctangible experience data analysis data extraction form data warehouse generating usable report must specified resumeadvanced working knowledge data mining data transformation using sql etlstrong organizational multitasking skill ability balance competing prioritiesproven track record identifying metric variance delivering solution address changesability display complex quantitative data simple intuitive format present finding clear concise mannerexcellent organizational skill including prioritizing scheduling time management meeting deadline familiarity redshift etcproficiency least one statistical software packageproven capability statistical analysis eg ability conduct analysis using regression modeling forecasting approach related toolsdegree technical business analytical field statistic computer science engineering related fieldexperience user level data analysis techniquesknowledge process modeling mapping associated toolsfamiliar data engineering data pipeliningexperience automating process using scripting language\n",
            "Match Strength: Very Strong Match\n",
            "\n",
            "Job Title:  Business Analyst\n",
            "Company: Amazon\n",
            "Job Description: experience data transformation sql excelexperience data visualization tool power bi tableau quicksight etctangible experience data analysis data extraction form data warehouse generating usable report must specified resumeadvanced working knowledge data mining data transformation using sql etlstrong organizational multitasking skill ability balance competing prioritiesproven track record identifying metric variance delivering solution address changesability display complex quantitative data simple intuitive format present finding clear concise mannerexcellent organizational skill including prioritizing scheduling time management meeting deadline familiarity redshift etcproficiency least one statistical software packageproven capability statistical analysis eg ability conduct analysis using regression modeling forecasting approach related toolsdegree technical business analytical field statistic computer science engineering related fieldexperience user level data analysis techniquesknowledge process modeling mapping associated toolsfamiliar data engineering data pipeliningexperience automating process using scripting language\n",
            "Match Strength: Very Strong Match\n",
            "\n",
            "Job Title:  Youth Apprentice, Data Analytics Associate, Amazon Jump Start\n",
            "Company: Amazon Advertising LLC\n",
            "Job Description: programming use programming language sql access query data data analysis acquire consolidate interpret data various data source creating report create information product various development tool communicate finding data preparation clean prepare data statistical machine learning modeling data modeling work variety analytical algorithm build model explain data relationship predict potential scenario\n",
            "Match Strength: Very Strong Match\n",
            "\n",
            "Job Title:  Research Data Analyst\n",
            "Company: Johns Hopkins University\n",
            "Job Description: conduct quantitative analysis performance measure related data conduct literature review research supporting performance measure health care summarizing finding review research track status current performance measure state national program eg endorsement status use public reporting initiative benchmark solicit organize comment proposal new current performance measure monitoring health care delivery eg public reporting pay performance program provide important data analysis methodology recommendation key external contract internal project primary responsibility analysis interpretation reporting develop data analysis methodology including defining detail data requirement data source proper data analysis procedure design build maintain database record file perform data analysis related external contract internal project interpret result utilize knowledge statistic quantitative analysis generate report chart table create presentation serve resource research operational staff regarding data issue may contribute writing section manuscript publication present interpret data meeting leader key external contract internal project\n",
            "Match Strength: Very Strong Match\n",
            "\n",
            "Job Title:  Data Engineer, Factory Software\n",
            "Company: Tesla\n",
            "Job Description: factory software data engineer responsible processing structured unstructured data validating data quality developing supporting data product looking someone strong handson experience layer data integration analytics technology use mysql postgres redis vertica kafka splunk foundationdb graphana metabase golang react youll build real birdseye view factory develop nextgeneration realtime data integration visualize inform highly critical manufacturing decision use skill ladder data answer question business didnt know consult build new data integration pipeline data repository factory data work highly skilled control automation factory software team inform software system design choice design code test correct document program script using agreed standard tool achieve wellengineered result expect code query least 50 day derive overall strategy data management within established information architecture support development secure operation existing new information digital service gather process raw structured semistructured unstructured data using batch realtime data processing framework ensure data quality implement tool framework automating identification data quality issue provide ongoing support monitoring maintenance deployed product youll bring strong experience relational database nosql database experience plus strong background data modeling data access data storage technique experience design development implementation highly scalable highvolume software system developing maintenance web service experience golang react major plus experience manufacturing supply chain data major plus bachelor degree higher c ce ee equivalent experience evidence exceptional ability\n",
            "Match Strength: Very Strong Match\n",
            "\n",
            "Job Title:  SQL Data Analyst\n",
            "Company: The Ternio Group\n",
            "Job Description: bachelor degree preferred required highly proficient m excel sql high proficiency sql dont bother applying proficiency microsoft power bi interpret data analyze result using statistical technique provide ongoing report develop implement data collection system data analytics strategy optimize statistical efficiency quality acquire data primary secondary data source maintain data integrity identify analyze interpret trend pattern complex data set filter clean data reviewing report printout performance indicator locate correct problem work management prioritize business information need work system project team automate maintain improveupdate existing report process develop standard data extractsreportsanalyses senior leadership interpret research analyze finding explain strategictactical implication business load quality check data file client ensure data processed available downstream function review analyze validate data report ensure quality delivery internal external client ensure adherence compliance requirement regulation policy structure execute endtoend analysis internal client consumption develop model inference prediction based various data source partner colleague across organization develop analytics algorithm demonstrate pattern actionable insight prefconnect create report using sql microsoft power bi technology proactively based customer stakeholder request\n",
            "Match Strength: Very Strong Match\n"
          ]
        }
      ]
    },
    {
      "cell_type": "code",
      "source": [
        "df.iloc[2655]"
      ],
      "metadata": {
        "colab": {
          "base_uri": "https://localhost:8080/"
        },
        "id": "5IDuh9AWgXKo",
        "outputId": "57e890a6-3118-4c41-8083-604a5c60dae8"
      },
      "execution_count": 17,
      "outputs": [
        {
          "output_type": "execute_result",
          "data": {
            "text/plain": [
              "Industry                                        Technology (Non-SWE)\n",
              "Company                                                        Cisco\n",
              "Job Title                                   NOC Incident Coordinator\n",
              "Job Description    experience operating hightransactional 24x7 pr...\n",
              "Name: 2655, dtype: object"
            ]
          },
          "metadata": {},
          "execution_count": 17
        }
      ]
    },
    {
      "cell_type": "code",
      "source": [
        "top_x_recommendations(10,df,df['Job Description'].iloc[2662])"
      ],
      "metadata": {
        "id": "yPzx_GoY3ObS",
        "colab": {
          "base_uri": "https://localhost:8080/"
        },
        "outputId": "8c484937-3112-4914-ccd1-08f15e88dc29"
      },
      "execution_count": 18,
      "outputs": [
        {
          "output_type": "stream",
          "name": "stdout",
          "text": [
            "   index  Similarity Score     Match Strength\n",
            "0   7226          1.000000  Very Strong Match\n",
            "1   2662          1.000000  Very Strong Match\n",
            "2   2795          0.423732  Very Strong Match\n",
            "3   7359          0.423732  Very Strong Match\n",
            "4   5506          0.423732  Very Strong Match\n",
            "5   7279          0.421329  Very Strong Match\n",
            "6   5426          0.421329  Very Strong Match\n",
            "7   2715          0.421329  Very Strong Match\n",
            "8   7204          0.415647  Very Strong Match\n",
            "9   2640          0.415647  Very Strong Match\n",
            "\n",
            "Applicant's qualifications:  u appdynamics application performance monitoring solution provides realtime visibility insight application environment unique solution take right action precisely right time automated anomaly detection rapid rootcause analysis unified view entire application ecosystem including private public cloud using appdynamics youll finally align devops engineering business around information help protect bottom line deliver magnificent customer experience responsibility appdynamics architect passionate continuously improving deliver deliver product customer thrive taking sophisticated problem breaking love think holistically overall architecture fit current project find happiness mentoring inspiring others producing high quality performant software aligns technical strategy need today vision future principal software architect work closely engineering product management full stack observability platform collaborate learn mentor influence team member build highly performant positive work environment responsible shepherding numerous working group context switching least dozen complex focus area including authentication authorization microservices foundation cicd system entity modeling data streaming transformation platform application developer experience developer tool performance monitoring many others key expectation principal software architect articulate complex solution code snippet diagram related design document success gauged ability lead design elegant solution buy support implementation team stakeholder must consensus builder driver result principal architect operates high level autonomy consistently delivers consensus moving numerous project drawing board implementation go person numerous deeply technical design solves unlock value drive feature across platform enjoy delivering technical talk creating presentation convey value technical solution report chief architect requirement extensivebroad software product development experience operating system internals cloud computing distributed system deep knowledge operating system internals database internals transactional consistency model eventual consistency expert level experience designing operating complex data heavy system handson experience kubernetes aws log ingestion search system splunk datadog metricmonitoring system like prometheus great programming skill variety language example typscript go python java handson experience perk know awardwinning culture appdynamics something brag reason make excited get bed come morning like medical dental vision coverage 401k match 45 wellness perk hobby education store discount personal finance four week paid time pto five day volunteer time vto 14 holiday including one birthday pto one floating holiday required company shut christmas new year weekly catered breakfast lunch snack fruit drink state art office downtown san francisco centrally located near bart caltrain muni ferry bikeshare station free shuttle service pretax commuter benefit cisco affirmative action equal opportunity employer qualified applicant receive consideration employment without regard race color religion gender sexual orientation national origin genetic information age disability veteran status legally protected basis cisco consider employment case case basis qualified applicant arrest conviction record \n",
            "\n",
            "Recommended jobs:\n",
            "\n",
            "Job Title:  AppD Principal Software Architect\n",
            "Company: Cisco\n",
            "Job Description: u appdynamics application performance monitoring solution provides realtime visibility insight application environment unique solution take right action precisely right time automated anomaly detection rapid rootcause analysis unified view entire application ecosystem including private public cloud using appdynamics youll finally align devops engineering business around information help protect bottom line deliver magnificent customer experience responsibility appdynamics architect passionate continuously improving deliver deliver product customer thrive taking sophisticated problem breaking love think holistically overall architecture fit current project find happiness mentoring inspiring others producing high quality performant software aligns technical strategy need today vision future principal software architect work closely engineering product management full stack observability platform collaborate learn mentor influence team member build highly performant positive work environment responsible shepherding numerous working group context switching least dozen complex focus area including authentication authorization microservices foundation cicd system entity modeling data streaming transformation platform application developer experience developer tool performance monitoring many others key expectation principal software architect articulate complex solution code snippet diagram related design document success gauged ability lead design elegant solution buy support implementation team stakeholder must consensus builder driver result principal architect operates high level autonomy consistently delivers consensus moving numerous project drawing board implementation go person numerous deeply technical design solves unlock value drive feature across platform enjoy delivering technical talk creating presentation convey value technical solution report chief architect requirement extensivebroad software product development experience operating system internals cloud computing distributed system deep knowledge operating system internals database internals transactional consistency model eventual consistency expert level experience designing operating complex data heavy system handson experience kubernetes aws log ingestion search system splunk datadog metricmonitoring system like prometheus great programming skill variety language example typscript go python java handson experience perk know awardwinning culture appdynamics something brag reason make excited get bed come morning like medical dental vision coverage 401k match 45 wellness perk hobby education store discount personal finance four week paid time pto five day volunteer time vto 14 holiday including one birthday pto one floating holiday required company shut christmas new year weekly catered breakfast lunch snack fruit drink state art office downtown san francisco centrally located near bart caltrain muni ferry bikeshare station free shuttle service pretax commuter benefit cisco affirmative action equal opportunity employer qualified applicant receive consideration employment without regard race color religion gender sexual orientation national origin genetic information age disability veteran status legally protected basis cisco consider employment case case basis qualified applicant arrest conviction record\n",
            "Match Strength: Very Strong Match\n",
            "\n",
            "Job Title:  AppD Principal Software Architect\n",
            "Company: Cisco\n",
            "Job Description: u appdynamics application performance monitoring solution provides realtime visibility insight application environment unique solution take right action precisely right time automated anomaly detection rapid rootcause analysis unified view entire application ecosystem including private public cloud using appdynamics youll finally align devops engineering business around information help protect bottom line deliver magnificent customer experience responsibility appdynamics architect passionate continuously improving deliver deliver product customer thrive taking sophisticated problem breaking love think holistically overall architecture fit current project find happiness mentoring inspiring others producing high quality performant software aligns technical strategy need today vision future principal software architect work closely engineering product management full stack observability platform collaborate learn mentor influence team member build highly performant positive work environment responsible shepherding numerous working group context switching least dozen complex focus area including authentication authorization microservices foundation cicd system entity modeling data streaming transformation platform application developer experience developer tool performance monitoring many others key expectation principal software architect articulate complex solution code snippet diagram related design document success gauged ability lead design elegant solution buy support implementation team stakeholder must consensus builder driver result principal architect operates high level autonomy consistently delivers consensus moving numerous project drawing board implementation go person numerous deeply technical design solves unlock value drive feature across platform enjoy delivering technical talk creating presentation convey value technical solution report chief architect requirement extensivebroad software product development experience operating system internals cloud computing distributed system deep knowledge operating system internals database internals transactional consistency model eventual consistency expert level experience designing operating complex data heavy system handson experience kubernetes aws log ingestion search system splunk datadog metricmonitoring system like prometheus great programming skill variety language example typscript go python java handson experience perk know awardwinning culture appdynamics something brag reason make excited get bed come morning like medical dental vision coverage 401k match 45 wellness perk hobby education store discount personal finance four week paid time pto five day volunteer time vto 14 holiday including one birthday pto one floating holiday required company shut christmas new year weekly catered breakfast lunch snack fruit drink state art office downtown san francisco centrally located near bart caltrain muni ferry bikeshare station free shuttle service pretax commuter benefit cisco affirmative action equal opportunity employer qualified applicant receive consideration employment without regard race color religion gender sexual orientation national origin genetic information age disability veteran status legally protected basis cisco consider employment case case basis qualified applicant arrest conviction record\n",
            "Match Strength: Very Strong Match\n",
            "\n",
            "Job Title:  Software Engineer (Python)\n",
            "Company: Cisco\n",
            "Job Description: experienced software engineer writing code tool create right solution driven need thing close precisely possible like working impactful team able get involved detail needed seeking understand thing work thing dont work continuously improve self team technology work lead example demonstrate excellence collaboration communication interest creative problem solving proven track record leading team deliver high quality outcome elective spokesperson champion engineering team passionate mentoring developing engineer build strong bench individual vision meticulous problem solver equally comfortable capable interacting technologist collaborative engineering professional substantial experience design development bring strong perspective inspires change motivated develop simple solution complex problem engineering group product software quality champion engaging phase software development lifecycle particularly contributing infrastructure help accelerate software release delivery improving product quality successful role promote architecture evolution across cisco enable cloud asaservice capability establish strong architectural alignment product architecture across organization collaborate architecture engineering team scope technical requirement proposed integration drive initial proof concept partnership engineering integrate finding product roadmap passionate crafting market leading product excellent user experience entrepreneurship creative problemsolving skill strong desire make impact ability dig complex thing work gauging make simpler data driven analyticsbased focus handson nature strong interest technology product take strong initiative ability work independently limited direction expertly present front audience size phenomenal written verbal communicator minimum requirement role b degree computer science engineering 4 year related experience strong verbalwritten communication analytical skill must recognized strategic thinker internal external forum extensive technical network automation technology expertise experience agile software development test automation python openstack docker kubernetes cicd highly motivated selfstarting midcareer individual desire initiative expand skill highly critical sophisticated environment still code willing handson also ability go deep technical architecture design needed solve complex problem strong background handling project delivered multiple cloud product past strong technical expertise cloud technology cloud architectural pattern api service containerization microservices application monitoring elastic scaling experience frequent incremental development testing deployment using agile development methodology devops practice experience building improving cicd pipeline jenkins sdlc tool sonarqube linkt security testing tool significant experience order preference python preferably asyncio jsnodejs angular8 golang java c experience virtualization containerization platform like kvm openstack docker experience cloud technology including marathon mesos dcos kubernetes terraform experience lab automation lab orchestration inventory management scheduler logic experience distribute compute distributed microservices architecture design implementation experience scaling operationalizing distributed data store le system service knowledge postgresql mongodb elastic cassandra inuxdb redis sharedfs nfs glusterfs experience oauth security protocol experience monitoring technology prometheus elk tick stack experience using cicd system including github ansible sonarqube bazel experience loadbalancers like nginx haproxy kong ensure individual disability provided reasonable accommodation participate job application interview process perform crucial job function receive benet privilege employment please contact u request accommodation wearecisco person unique bring talent work team make difference powering inclusive future embrace digital help customer implement change digital business may think old 36 year strong hardware also software company security company even invented intuitive network adapts predicts learns protects company cant put u box digital transformation empty buzz phrase without culture allows innovation creativity yes even failure learn day day focus give take give best give ego break give giving back built dna take accountability bold step take difference heart without diversity thought dedication equality moving forward colorful hair dont care tattoo show ink like polka dot thats cool pop culture geek many u passion technology world changing u liav3\n",
            "Match Strength: Very Strong Match\n",
            "\n",
            "Job Title:  Software Engineer (Python)\n",
            "Company: Cisco\n",
            "Job Description: experienced software engineer writing code tool create right solution driven need thing close precisely possible like working impactful team able get involved detail needed seeking understand thing work thing dont work continuously improve self team technology work lead example demonstrate excellence collaboration communication interest creative problem solving proven track record leading team deliver high quality outcome elective spokesperson champion engineering team passionate mentoring developing engineer build strong bench individual vision meticulous problem solver equally comfortable capable interacting technologist collaborative engineering professional substantial experience design development bring strong perspective inspires change motivated develop simple solution complex problem engineering group product software quality champion engaging phase software development lifecycle particularly contributing infrastructure help accelerate software release delivery improving product quality successful role promote architecture evolution across cisco enable cloud asaservice capability establish strong architectural alignment product architecture across organization collaborate architecture engineering team scope technical requirement proposed integration drive initial proof concept partnership engineering integrate finding product roadmap passionate crafting market leading product excellent user experience entrepreneurship creative problemsolving skill strong desire make impact ability dig complex thing work gauging make simpler data driven analyticsbased focus handson nature strong interest technology product take strong initiative ability work independently limited direction expertly present front audience size phenomenal written verbal communicator minimum requirement role b degree computer science engineering 4 year related experience strong verbalwritten communication analytical skill must recognized strategic thinker internal external forum extensive technical network automation technology expertise experience agile software development test automation python openstack docker kubernetes cicd highly motivated selfstarting midcareer individual desire initiative expand skill highly critical sophisticated environment still code willing handson also ability go deep technical architecture design needed solve complex problem strong background handling project delivered multiple cloud product past strong technical expertise cloud technology cloud architectural pattern api service containerization microservices application monitoring elastic scaling experience frequent incremental development testing deployment using agile development methodology devops practice experience building improving cicd pipeline jenkins sdlc tool sonarqube linkt security testing tool significant experience order preference python preferably asyncio jsnodejs angular8 golang java c experience virtualization containerization platform like kvm openstack docker experience cloud technology including marathon mesos dcos kubernetes terraform experience lab automation lab orchestration inventory management scheduler logic experience distribute compute distributed microservices architecture design implementation experience scaling operationalizing distributed data store le system service knowledge postgresql mongodb elastic cassandra inuxdb redis sharedfs nfs glusterfs experience oauth security protocol experience monitoring technology prometheus elk tick stack experience using cicd system including github ansible sonarqube bazel experience loadbalancers like nginx haproxy kong ensure individual disability provided reasonable accommodation participate job application interview process perform crucial job function receive benet privilege employment please contact u request accommodation wearecisco person unique bring talent work team make difference powering inclusive future embrace digital help customer implement change digital business may think old 36 year strong hardware also software company security company even invented intuitive network adapts predicts learns protects company cant put u box digital transformation empty buzz phrase without culture allows innovation creativity yes even failure learn day day focus give take give best give ego break give giving back built dna take accountability bold step take difference heart without diversity thought dedication equality moving forward colorful hair dont care tattoo show ink like polka dot thats cool pop culture geek many u passion technology world changing u liav3\n",
            "Match Strength: Very Strong Match\n",
            "\n",
            "Job Title:  Software Engineer (Python)\n",
            "Company: Cisco\n",
            "Job Description: experienced software engineer writing code tool create right solution driven need thing close precisely possible like working impactful team able get involved detail needed seeking understand thing work thing dont work continuously improve self team technology work lead example demonstrate excellence collaboration communication interest creative problem solving proven track record leading team deliver high quality outcome elective spokesperson champion engineering team passionate mentoring developing engineer build strong bench individual vision meticulous problem solver equally comfortable capable interacting technologist collaborative engineering professional substantial experience design development bring strong perspective inspires change motivated develop simple solution complex problem engineering group product software quality champion engaging phase software development lifecycle particularly contributing infrastructure help accelerate software release delivery improving product quality successful role promote architecture evolution across cisco enable cloud asaservice capability establish strong architectural alignment product architecture across organization collaborate architecture engineering team scope technical requirement proposed integration drive initial proof concept partnership engineering integrate finding product roadmap passionate crafting market leading product excellent user experience entrepreneurship creative problemsolving skill strong desire make impact ability dig complex thing work gauging make simpler data driven analyticsbased focus handson nature strong interest technology product take strong initiative ability work independently limited direction expertly present front audience size phenomenal written verbal communicator minimum requirement role b degree computer science engineering 4 year related experience strong verbalwritten communication analytical skill must recognized strategic thinker internal external forum extensive technical network automation technology expertise experience agile software development test automation python openstack docker kubernetes cicd highly motivated selfstarting midcareer individual desire initiative expand skill highly critical sophisticated environment still code willing handson also ability go deep technical architecture design needed solve complex problem strong background handling project delivered multiple cloud product past strong technical expertise cloud technology cloud architectural pattern api service containerization microservices application monitoring elastic scaling experience frequent incremental development testing deployment using agile development methodology devops practice experience building improving cicd pipeline jenkins sdlc tool sonarqube linkt security testing tool significant experience order preference python preferably asyncio jsnodejs angular8 golang java c experience virtualization containerization platform like kvm openstack docker experience cloud technology including marathon mesos dcos kubernetes terraform experience lab automation lab orchestration inventory management scheduler logic experience distribute compute distributed microservices architecture design implementation experience scaling operationalizing distributed data store le system service knowledge postgresql mongodb elastic cassandra inuxdb redis sharedfs nfs glusterfs experience oauth security protocol experience monitoring technology prometheus elk tick stack experience using cicd system including github ansible sonarqube bazel experience loadbalancers like nginx haproxy kong ensure individual disability provided reasonable accommodation participate job application interview process perform crucial job function receive benet privilege employment please contact u request accommodation wearecisco person unique bring talent work team make difference powering inclusive future embrace digital help customer implement change digital business may think old 36 year strong hardware also software company security company even invented intuitive network adapts predicts learns protects company cant put u box digital transformation empty buzz phrase without culture allows innovation creativity yes even failure learn day day focus give take give best give ego break give giving back built dna take accountability bold step take difference heart without diversity thought dedication equality moving forward colorful hair dont care tattoo show ink like polka dot thats cool pop culture geek many u passion technology world changing u liav3\n",
            "Match Strength: Very Strong Match\n",
            "\n",
            "Job Title:  Leader, Software Engineering Core Product\n",
            "Company: Cisco\n",
            "Job Description: interested please apply httpsgrnhsea4a780ab1us cisco meraki know technology connect empower drive u mission simplify technology customer focus whats meaningful student patient customer business making networking easier faster smarter technology simply work software engineering manager drive technical aspect software delivery dashboard including requirement definition refinement design estimation implementation unit systemlevel testing well deployment core product team responsible crafting implementing feature improve reliability simplicity security performance product project driven technological innovation developer creativity addition market demand giving structure freedom pursue project passionate million people using meraki product around world work significant impact day deployed software engineering manager mentor junior engineer encourage professional growth everyone team partner product management product engineering team responsible growing team retaining talent providing technical direction career development opportunity collaborate engineer across product team architect feature delight customer foster culture quality teamwork inclusiveness ideal candidate bsms computer science computer engineering equivalent experience 7 year software engineering experience 2 year leadership experience project involving meaningful planning coordination experience one frontend framework react angular modern web framework like ruby rail django experience one programming language ruby go ability work collaborate across multiple product line bonus point expertise networking experience working closely product management ux team experience cicd pipeline gitlab jenkins experience managing agile project using agile methodology scrum andor kanban encourage drop u line even dont point thats lot different area responsibility help pick believe great team come diverse set background cisco affirmative action equal opportunity employer qualified applicant receive consideration employment without regard race color religion gender sexual orientation national origin genetic information age disability veteran status legally protected basis cisco consider employment case case basis qualified applicant arrest conviction record cisco meraki challenging status quo power diversity inclusion collaboration connect different perspective imagine new possibility inspire innovation release full potential people building employee experience includes appreciation belonging growth purpose everyone cisco covid19 vaccination policy health safety cisco employee customer partner top priority goal protect mitigate spread covid19 infection strong business resiliency pandemic therefore cisco requires new hire fully vaccinated covid19 u unless otherwise prohibited applicable law country covid19 vaccination legally required company consider legally required accommodationsexceptions medical religious reason per requirement role accordance applicable law additional information provided candidate requirement accommodation process offer time based region interested please apply httpsgrnhsea4a780ab1us\n",
            "Match Strength: Very Strong Match\n",
            "\n",
            "Job Title:  Leader, Software Engineering Core Product\n",
            "Company: Cisco\n",
            "Job Description: interested please apply httpsgrnhsea4a780ab1us cisco meraki know technology connect empower drive u mission simplify technology customer focus whats meaningful student patient customer business making networking easier faster smarter technology simply work software engineering manager drive technical aspect software delivery dashboard including requirement definition refinement design estimation implementation unit systemlevel testing well deployment core product team responsible crafting implementing feature improve reliability simplicity security performance product project driven technological innovation developer creativity addition market demand giving structure freedom pursue project passionate million people using meraki product around world work significant impact day deployed software engineering manager mentor junior engineer encourage professional growth everyone team partner product management product engineering team responsible growing team retaining talent providing technical direction career development opportunity collaborate engineer across product team architect feature delight customer foster culture quality teamwork inclusiveness ideal candidate bsms computer science computer engineering equivalent experience 7 year software engineering experience 2 year leadership experience project involving meaningful planning coordination experience one frontend framework react angular modern web framework like ruby rail django experience one programming language ruby go ability work collaborate across multiple product line bonus point expertise networking experience working closely product management ux team experience cicd pipeline gitlab jenkins experience managing agile project using agile methodology scrum andor kanban encourage drop u line even dont point thats lot different area responsibility help pick believe great team come diverse set background cisco affirmative action equal opportunity employer qualified applicant receive consideration employment without regard race color religion gender sexual orientation national origin genetic information age disability veteran status legally protected basis cisco consider employment case case basis qualified applicant arrest conviction record cisco meraki challenging status quo power diversity inclusion collaboration connect different perspective imagine new possibility inspire innovation release full potential people building employee experience includes appreciation belonging growth purpose everyone cisco covid19 vaccination policy health safety cisco employee customer partner top priority goal protect mitigate spread covid19 infection strong business resiliency pandemic therefore cisco requires new hire fully vaccinated covid19 u unless otherwise prohibited applicable law country covid19 vaccination legally required company consider legally required accommodationsexceptions medical religious reason per requirement role accordance applicable law additional information provided candidate requirement accommodation process offer time based region interested please apply httpsgrnhsea4a780ab1us\n",
            "Match Strength: Very Strong Match\n",
            "\n",
            "Job Title:  Leader, Software Engineering Core Product\n",
            "Company: Cisco\n",
            "Job Description: interested please apply httpsgrnhsea4a780ab1us cisco meraki know technology connect empower drive u mission simplify technology customer focus whats meaningful student patient customer business making networking easier faster smarter technology simply work software engineering manager drive technical aspect software delivery dashboard including requirement definition refinement design estimation implementation unit systemlevel testing well deployment core product team responsible crafting implementing feature improve reliability simplicity security performance product project driven technological innovation developer creativity addition market demand giving structure freedom pursue project passionate million people using meraki product around world work significant impact day deployed software engineering manager mentor junior engineer encourage professional growth everyone team partner product management product engineering team responsible growing team retaining talent providing technical direction career development opportunity collaborate engineer across product team architect feature delight customer foster culture quality teamwork inclusiveness ideal candidate bsms computer science computer engineering equivalent experience 7 year software engineering experience 2 year leadership experience project involving meaningful planning coordination experience one frontend framework react angular modern web framework like ruby rail django experience one programming language ruby go ability work collaborate across multiple product line bonus point expertise networking experience working closely product management ux team experience cicd pipeline gitlab jenkins experience managing agile project using agile methodology scrum andor kanban encourage drop u line even dont point thats lot different area responsibility help pick believe great team come diverse set background cisco affirmative action equal opportunity employer qualified applicant receive consideration employment without regard race color religion gender sexual orientation national origin genetic information age disability veteran status legally protected basis cisco consider employment case case basis qualified applicant arrest conviction record cisco meraki challenging status quo power diversity inclusion collaboration connect different perspective imagine new possibility inspire innovation release full potential people building employee experience includes appreciation belonging growth purpose everyone cisco covid19 vaccination policy health safety cisco employee customer partner top priority goal protect mitigate spread covid19 infection strong business resiliency pandemic therefore cisco requires new hire fully vaccinated covid19 u unless otherwise prohibited applicable law country covid19 vaccination legally required company consider legally required accommodationsexceptions medical religious reason per requirement role accordance applicable law additional information provided candidate requirement accommodation process offer time based region interested please apply httpsgrnhsea4a780ab1us\n",
            "Match Strength: Very Strong Match\n",
            "\n",
            "Job Title:  Support Engineer (.Net, AWS, Kubernetes, Dockers) - Technical support - AppDynamics Customer Operations Controller/SaaS - 5 - 8 Years\n",
            "Company: Cisco\n",
            "Job Description: youll write application using dotnet learn new stack technology apply instrumentation application help customer instrument monitor debug large multitiered complex application replicate customer environment work identify fix root cause provide interim workaround needed provide advanced technical support work customer solve complex issue product environment build internal customerfacing tool extension identify product bug enhancement based customer environment work close team software engineer net engineering team responsible solving complex technical challenge customer environment working customer provide advanced technical support analysing appdynamics customer code bring experience handson software engineer quickly scan write code spot bug resolve someone great customerfacing communication skill position responsible building multitiered application using various net fullcore framework asynchronous programming pattern cloud component youll working customer environment well cloud environment aws azure unique opportunity work rapidlyscaling fastpaced environment exposure advanced technology across stack youre min 5 year software development experience net extensive debugging troubleshooting b computer science equivalent work experience experience configuring ii docker aws azure window network experience objectoriented asynchronous programming pattern understanding mvc design pattern framework realworld experience codingdeployingtroubleshooting net core hosted docker linux container window cloud environment knowledge web protocol format server environment outstanding attention detail specification ability troubleshootfix complex problem customer environment proven customerfacing professionalism great communication skill ie ability tailor communication audience youll working technical well nontechnical customer u appdynamics application performance monitoring solution us machine learning artificial intelligence ai provide realtime visibility insight environment unique aiops solution take right action exactly right time automated anomaly detection rapid rootcause analysis unified view entire application ecosystem including private public cloud using appdynamics youll finally align devops business around information\n",
            "Match Strength: Very Strong Match\n",
            "\n",
            "Job Title:  Support Engineer (.Net, AWS, Kubernetes, Dockers) - Technical support - AppDynamics Customer Operations Controller/SaaS - 5 - 8 Years\n",
            "Company: Cisco\n",
            "Job Description: youll write application using dotnet learn new stack technology apply instrumentation application help customer instrument monitor debug large multitiered complex application replicate customer environment work identify fix root cause provide interim workaround needed provide advanced technical support work customer solve complex issue product environment build internal customerfacing tool extension identify product bug enhancement based customer environment work close team software engineer net engineering team responsible solving complex technical challenge customer environment working customer provide advanced technical support analysing appdynamics customer code bring experience handson software engineer quickly scan write code spot bug resolve someone great customerfacing communication skill position responsible building multitiered application using various net fullcore framework asynchronous programming pattern cloud component youll working customer environment well cloud environment aws azure unique opportunity work rapidlyscaling fastpaced environment exposure advanced technology across stack youre min 5 year software development experience net extensive debugging troubleshooting b computer science equivalent work experience experience configuring ii docker aws azure window network experience objectoriented asynchronous programming pattern understanding mvc design pattern framework realworld experience codingdeployingtroubleshooting net core hosted docker linux container window cloud environment knowledge web protocol format server environment outstanding attention detail specification ability troubleshootfix complex problem customer environment proven customerfacing professionalism great communication skill ie ability tailor communication audience youll working technical well nontechnical customer u appdynamics application performance monitoring solution us machine learning artificial intelligence ai provide realtime visibility insight environment unique aiops solution take right action exactly right time automated anomaly detection rapid rootcause analysis unified view entire application ecosystem including private public cloud using appdynamics youll finally align devops business around information\n",
            "Match Strength: Very Strong Match\n"
          ]
        }
      ]
    },
    {
      "cell_type": "markdown",
      "source": [
        "**Testing using sampled resumes**"
      ],
      "metadata": {
        "id": "EqBGGeEYgg18"
      }
    },
    {
      "cell_type": "markdown",
      "source": [
        "Candidate #1: Software Engineer @ Microsoft with prior experience as a team lead for engineers working in sales analytics"
      ],
      "metadata": {
        "id": "T-Zt3g-0BWxq"
      }
    },
    {
      "cell_type": "code",
      "source": [
        "\n",
        "top_x_recommendations(10,df,'Azure Kubernetes Service (AKS) team - Built a web server in Golang and wrote unit tests. Designed and deployed it with a microservices architecture, leveraging Kubernetes communication patterns. - Containerized the web server using a multistage Docker build process and packaged it into a Helm Chart. Set up a CI/CD pipeline to automatically test and deploy application to an AKS cluster. - Created a logging and metrics infrastructure, using Azure Log Analytics, Prometheus, and Grafana to monitor application behavior and system health. Led a team of engineers and product managers to shape the evolution of Dropbox’s central sales analytics tool. While leading the team, we: - Increased adoption of the platform by 2.4x in 2020. - Built a PowerPoint generation engine to deliver customized, data-driven sales materials at scale, enhancing productivity of the sales organization by ~500 hours per quarter. - Advised global sales teams on strategic customers through bespoke analytics. Designed a scalable model that resulted in a 10% increase in ARR influenced each quarter.')"
      ],
      "metadata": {
        "colab": {
          "base_uri": "https://localhost:8080/"
        },
        "id": "9L1DkcD9gmyM",
        "outputId": "493e4a56-7ed1-47c7-d3d2-1acd2b53bf6a"
      },
      "execution_count": 19,
      "outputs": [
        {
          "output_type": "stream",
          "name": "stdout",
          "text": [
            "   index  Similarity Score Match Strength\n",
            "0   6060          0.287772     Good Match\n",
            "1   6059          0.287772     Good Match\n",
            "2   4207          0.287772     Good Match\n",
            "3   5401          0.273297     Good Match\n",
            "4   2690          0.273297     Good Match\n",
            "5   7254          0.273297     Good Match\n",
            "6   2938          0.270210     Good Match\n",
            "7   7502          0.270210     Good Match\n",
            "8   5649          0.270210     Good Match\n",
            "9   2848          0.263937     Good Match\n",
            "\n",
            "Applicant's qualifications:  azure kubernetes service ak team built web server golang wrote unit test designed deployed microservices architecture leveraging kubernetes communication pattern containerized web server using multistage docker build process packaged helm chart set ci cd pipeline automatically test deploy application ak cluster created logging metric infrastructure using azure log analytics prometheus grafana monitor application behavior system health led team engineer product manager shape evolution dropbox central sale analytics tool leading team increased adoption platform 2 4x 2020 built powerpoint generation engine deliver customized data driven sale material scale enhancing productivity sale organization 500 hour per quarter advised global sale team strategic customer bespoke analytics designed scalable model resulted 10 increase arr influenced quarter \n",
            "\n",
            "Recommended jobs:\n",
            "\n",
            "Job Title:  Account Manager 1, Inside Sales\n",
            "Company: Dell\n",
            "Job Description: 2023 inside sale campus hire dell technology portfolio emerging technology enough get pulse racing customer heartbeat deserve human interaction special unique technological need inside sale account manager team driving force behind highlevel customer interaction team responsible selling groundbreaking product building relationship customer using telephone email communication method inside sale account manager team ensures every customer interaction exceptional tailored meet customer join u account manager inside sale team xiamen best work career make profound social impact key responsibility inside sale account manager responsible selling groundbreaking product building relationship customer telephone email conversation job ensure every customer interaction tailored exceptional work eagerly gain new account andor identify opportunity account territoryoccasionally support outside sale lead manage high number account demonstrate understanding segment productservice offering client set effectively articulate value proposition associated company product service essential requirement mastery full range product service align customer need basic knowledge tool ability use multiple sale tool simultaneously complete sale transaction basic customer relationship skill 2023 masterbachelor graduate major limitation\n",
            "Match Strength: Good Match\n",
            "\n",
            "Job Title:  Account Manager 1, Inside Sales\n",
            "Company: Dell\n",
            "Job Description: 2023 inside sale campus hire dell technology portfolio emerging technology enough get pulse racing customer heartbeat deserve human interaction special unique technological need inside sale account manager team driving force behind highlevel customer interaction team responsible selling groundbreaking product building relationship customer using telephone email communication method inside sale account manager team ensures every customer interaction exceptional tailored meet customer join u account manager inside sale team chengdu best work career make profound social impact key responsibility inside sale account manager responsible selling groundbreaking product building relationship customer telephone email conversation job ensure every customer interaction tailored exceptional work eagerly gain new account andor identify opportunity account territoryoccasionally support outside sale lead manage high number account demonstrate understanding segment productservice offering client set effectively articulate value proposition associated company product service essential requirement mastery full range product service align customer need basic knowledge tool ability use multiple sale tool simultaneously complete sale transaction basic customer relationship skill 2023 masterbachelor graduate major limitation\n",
            "Match Strength: Good Match\n",
            "\n",
            "Job Title:  Account Manager 1, Inside Sales\n",
            "Company: Dell\n",
            "Job Description: 2023 inside sale campus hire dell technology portfolio emerging technology enough get pulse racing customer heartbeat deserve human interaction special unique technological need inside sale account manager team driving force behind highlevel customer interaction team responsible selling groundbreaking product building relationship customer using telephone email communication method inside sale account manager team ensures every customer interaction exceptional tailored meet customer join u account manager inside sale team xiamen best work career make profound social impact key responsibility inside sale account manager responsible selling groundbreaking product building relationship customer telephone email conversation job ensure every customer interaction tailored exceptional work eagerly gain new account andor identify opportunity account territoryoccasionally support outside sale lead manage high number account demonstrate understanding segment productservice offering client set effectively articulate value proposition associated company product service essential requirement mastery full range product service align customer need basic knowledge tool ability use multiple sale tool simultaneously complete sale transaction basic customer relationship skill 2023 masterbachelor graduate major limitation\n",
            "Match Strength: Good Match\n",
            "\n",
            "Job Title:  Leader Software Development\n",
            "Company: Cisco\n",
            "Job Description:  led team 4 8 engineer 4 year software engineering management experience provide strong technical vision team ensure consistent delivery objective experience formulating team technical strategy roadmap youve collaborated partnered effectively several team execute shared goal 5 year hand experience building qualifying enterprise networking product especially use distributed system architecture experience building product successfully taken significant enhancement feature inception testing production worked waterfall agile methodology able navigate hardware software dependency understand balance tactical need strategic growth qualitybased initiative span multiple quarter support people developing talent based area strength interest set clear expectation goal individual team drive team using okr measurable metric firm leader give clear actionable feedback timely basis hold peopleteam accountable success recognize people team outstanding impact consideration experience delivering platform service application hosting etc proven track record using excellent analytical communication skill solve complex problem passionate leadership keen interest networking technology automation excellent team people skill ability propose drive solution crossfunctional team selfmotivated innovative thinker take responsibility ownership\n",
            "Match Strength: Good Match\n",
            "\n",
            "Job Title:  Leader Software Development\n",
            "Company: Cisco\n",
            "Job Description:  led team 4 8 engineer 4 year software engineering management experience provide strong technical vision team ensure consistent delivery objective experience formulating team technical strategy roadmap youve collaborated partnered effectively several team execute shared goal 5 year hand experience building qualifying enterprise networking product especially use distributed system architecture experience building product successfully taken significant enhancement feature inception testing production worked waterfall agile methodology able navigate hardware software dependency understand balance tactical need strategic growth qualitybased initiative span multiple quarter support people developing talent based area strength interest set clear expectation goal individual team drive team using okr measurable metric firm leader give clear actionable feedback timely basis hold peopleteam accountable success recognize people team outstanding impact consideration experience delivering platform service application hosting etc proven track record using excellent analytical communication skill solve complex problem passionate leadership keen interest networking technology automation excellent team people skill ability propose drive solution crossfunctional team selfmotivated innovative thinker take responsibility ownership\n",
            "Match Strength: Good Match\n",
            "\n",
            "Job Title:  Leader Software Development\n",
            "Company: Cisco\n",
            "Job Description:  led team 4 8 engineer 4 year software engineering management experience provide strong technical vision team ensure consistent delivery objective experience formulating team technical strategy roadmap youve collaborated partnered effectively several team execute shared goal 5 year hand experience building qualifying enterprise networking product especially use distributed system architecture experience building product successfully taken significant enhancement feature inception testing production worked waterfall agile methodology able navigate hardware software dependency understand balance tactical need strategic growth qualitybased initiative span multiple quarter support people developing talent based area strength interest set clear expectation goal individual team drive team using okr measurable metric firm leader give clear actionable feedback timely basis hold peopleteam accountable success recognize people team outstanding impact consideration experience delivering platform service application hosting etc proven track record using excellent analytical communication skill solve complex problem passionate leadership keen interest networking technology automation excellent team people skill ability propose drive solution crossfunctional team selfmotivated innovative thinker take responsibility ownership\n",
            "Match Strength: Good Match\n",
            "\n",
            "Job Title:  Software Engineering Manager, Cloud and Enterprise Agents - ThousandEyes\n",
            "Company: Cisco\n",
            "Job Description: name thousandeyes born two big idea power see whats ordinarily possible ability collect intelligence vantage point diverse global internet organization depend cloud service internet become defacto network connecting cloud application user internet cloud intelligence platform like google map internet providing collectively powered view digital experience endtoend enable customer made world largest fastestgrowing brand identify problem impact revenue brand reputation employee productivity august 2020 cisco system completed acquisition thousandeyes form thousandeyes business unit within cisco network service business group foundational component cisco growing observability business role goal cloud enterprise agent team provide realtime network monitoring platform measure correlate visualizes synthetic data global network condition data allows customer gather performance metric network service server depend make informed decision take action something go wrong senior manager cloud enterprise agent team team responsible maintaining critical platform youll helping team face two main challenge keeping everincreasing amount data gathered agent making information actionable customer qualification led team 4 8 engineer 4 year software engineering management experience provide strong technical vision team ensure consistent delivery objective experience formulating team technical strategy roadmap youve collaborated partnered effectively several team execute shared goal 5 year hand experience building enterprise software product especially use distributed system architecture experience building product successfully taken significant enhancement feature inception production strong proponent agile software methodology scrum engineering principle test driven development understand balance tactical need strategic growth qualitybased initiative span multiple quarter previous handson experience working technology similar development environment eg java aws kubernetes kafka cisco wearecisco person unique bring talent work team make difference powering inclusive future embrace digital help customer implement change digi\n",
            "Match Strength: Good Match\n",
            "\n",
            "Job Title:  Software Engineering Manager, Cloud and Enterprise Agents - ThousandEyes\n",
            "Company: Cisco\n",
            "Job Description: name thousandeyes born two big idea power see whats ordinarily possible ability collect intelligence vantage point diverse global internet organization depend cloud service internet become defacto network connecting cloud application user internet cloud intelligence platform like google map internet providing collectively powered view digital experience endtoend enable customer made world largest fastestgrowing brand identify problem impact revenue brand reputation employee productivity august 2020 cisco system completed acquisition thousandeyes form thousandeyes business unit within cisco network service business group foundational component cisco growing observability business role goal cloud enterprise agent team provide realtime network monitoring platform measure correlate visualizes synthetic data global network condition data allows customer gather performance metric network service server depend make informed decision take action something go wrong senior manager cloud enterprise agent team team responsible maintaining critical platform youll helping team face two main challenge keeping everincreasing amount data gathered agent making information actionable customer qualification led team 4 8 engineer 4 year software engineering management experience provide strong technical vision team ensure consistent delivery objective experience formulating team technical strategy roadmap youve collaborated partnered effectively several team execute shared goal 5 year hand experience building enterprise software product especially use distributed system architecture experience building product successfully taken significant enhancement feature inception production strong proponent agile software methodology scrum engineering principle test driven development understand balance tactical need strategic growth qualitybased initiative span multiple quarter previous handson experience working technology similar development environment eg java aws kubernetes kafka cisco wearecisco person unique bring talent work team make difference powering inclusive future embrace digital help customer implement change digi\n",
            "Match Strength: Good Match\n",
            "\n",
            "Job Title:  Software Engineering Manager, Cloud and Enterprise Agents - ThousandEyes\n",
            "Company: Cisco\n",
            "Job Description: name thousandeyes born two big idea power see whats ordinarily possible ability collect intelligence vantage point diverse global internet organization depend cloud service internet become defacto network connecting cloud application user internet cloud intelligence platform like google map internet providing collectively powered view digital experience endtoend enable customer made world largest fastestgrowing brand identify problem impact revenue brand reputation employee productivity august 2020 cisco system completed acquisition thousandeyes form thousandeyes business unit within cisco network service business group foundational component cisco growing observability business role goal cloud enterprise agent team provide realtime network monitoring platform measure correlate visualizes synthetic data global network condition data allows customer gather performance metric network service server depend make informed decision take action something go wrong senior manager cloud enterprise agent team team responsible maintaining critical platform youll helping team face two main challenge keeping everincreasing amount data gathered agent making information actionable customer qualification led team 4 8 engineer 4 year software engineering management experience provide strong technical vision team ensure consistent delivery objective experience formulating team technical strategy roadmap youve collaborated partnered effectively several team execute shared goal 5 year hand experience building enterprise software product especially use distributed system architecture experience building product successfully taken significant enhancement feature inception production strong proponent agile software methodology scrum engineering principle test driven development understand balance tactical need strategic growth qualitybased initiative span multiple quarter previous handson experience working technology similar development environment eg java aws kubernetes kafka cisco wearecisco person unique bring talent work team make difference powering inclusive future embrace digital help customer implement change digi\n",
            "Match Strength: Good Match\n",
            "\n",
            "Job Title:  Senior Software Development Engineer in Test - Duo Security\n",
            "Company: Cisco\n",
            "Job Description: core member duo quality engineering team write code test application functionality performance end goal making security cloud mobile product easy customer end user environment continuous integration place code released production biweekly partner engineering team build automation framework bake quality step software development process define measure publish metric measure product quality drive quality improvement understand business priority risk help focus quality effort matter highly technical role core requirement effective collaboration communication across engineering team member attention detail success role would achieved helping u build test automate deploy duo mobile application service swiftly improving engineering efficiency developer productivity youll work youll joining duo fastest growing saas business security business group within cisco youll part duo quality engineering team whose mission empower engineer quality tool framework process continuously demand anytime ship high quality code customer discover creative flexible inclusive working environment core value engineer business learn together kinder necessary build future skill strength youll work test automation project 1 quarter time horizon thereby improving quality across engineering organization strong coding ability python similar language experience developing test automation using selenium similar framework experience ci tool automated build system eg gitlab jenkins experience working within continuous delivery environment plus experience tool saucelabs broswerstack applitools would also plus familiarity cloud infrastructure aws gc azure great experience working microservice infrastructure using containerization orchestration tool docker dockercompose kubernetes eks rancher openshift would advantageous experience data platformsanalytics tool elasticopensearch kibana snowflake datadog helpful experience writing mobile native application test using swift xctest espresso kotlinjava framework like appium would nice proven track record performing pressure fastpaced environment motivation passion stay top new technology attention detail dependability passion continuous improvement communication collaboration partner collaborator across engineering implement test automation framework improve product quality engineering efficiency initiate facilitate substantial discussion sophisticated issue identify propose strategy around technical problem affecting team communicate standard get consensus solution leadership interpret add complete multifunctional plan work key team member make critical decision lead initiative meeting within team functional area motivate empower teammate achieve higher level performance garner resource whole team complete work\n",
            "Match Strength: Good Match\n"
          ]
        }
      ]
    },
    {
      "cell_type": "markdown",
      "source": [
        "Candidate #2: Software Engineer @ Amazon with academic background in computer science and data science"
      ],
      "metadata": {
        "id": "ecJacOGsBZQ9"
      }
    },
    {
      "cell_type": "code",
      "source": [
        "top_x_recommendations(10,df,'-Worked on the backend team to develop the Edtera web application, a learning engagement platform, using the Java Spring MVC Framework -Implemented data access layer using Spring Data JPA to allow various CRUD services to Edtera’s PostgreSQL database -Developed a performance tracker using Spring RestTemplate to retrieve students’ enrollment and grade data from third party learning management systems and configured RestTemplate Interceptor to reduce redundancy in the code -Built RESTful services to publish data by creating Rest Controllers, such as grades, course, enrollment information, etc. -Developed a high-performance laser health monitoring program with Python, which was highly recognized by the course instructor and project sponsor and selected for exhibition at the Department Senior Design Day -Implemented Random Forest Regression using Scikit-Learn library to predict laser survival rate, achieving MAPE of 12% -Created an interactive data visualization web application with Python Dash framework for explorative analysis -Designed a feature engineering procedure to sum the time series data and convert it to a supervised-learning problem')"
      ],
      "metadata": {
        "colab": {
          "base_uri": "https://localhost:8080/"
        },
        "outputId": "b5890702-45cf-466c-a042-c0df72835a31",
        "id": "DQfqTGeWi2jW"
      },
      "execution_count": 20,
      "outputs": [
        {
          "output_type": "stream",
          "name": "stdout",
          "text": [
            "   index  Similarity Score     Match Strength\n",
            "0   2511          0.430846  Very Strong Match\n",
            "1   2352          0.419233  Very Strong Match\n",
            "2   2467          0.418190  Very Strong Match\n",
            "3   2495          0.412346  Very Strong Match\n",
            "4   2503          0.398647       Strong Match\n",
            "5    477          0.389556       Strong Match\n",
            "6   3461          0.389556       Strong Match\n",
            "7   3687          0.376542       Strong Match\n",
            "8   2514          0.368227       Strong Match\n",
            "9   2532          0.368227       Strong Match\n",
            "\n",
            "Applicant's qualifications:  worked backend team develop edtera web application learning engagement platform using java spring mvc framework implemented data access layer using spring data jpa allow various crud service edtera postgresql database developed performance tracker using spring resttemplate retrieve student enrollment grade data third party learning management system configured resttemplate interceptor reduce redundancy code built restful service publish data creating rest controller grade course enrollment information etc developed high performance laser health monitoring program python highly recognized course instructor project sponsor selected exhibition department senior design day implemented random forest regression using scikit learn library predict laser survival rate achieving mape 12 created interactive data visualization web application python dash framework explorative analysis designed feature engineering procedure sum time series data convert supervised learning problem \n",
            "\n",
            "Recommended jobs:\n",
            "\n",
            "Job Title:  Data Analyst\n",
            "Company: Exeter Hospital\n",
            "Job Description: collect data performs analysis healthcare business data various internal external source electronic medical record analytic claim platform support day day analytical reporting need project well strategic imperative responsible data consolidation presentation support planning strategic based initiative creation redesign process data validation access assist analysis data various database support strategic planning initiative creates standard nonstandard reporting project leader based data consolidate data multiple source using industry based tool manually able process data effectively using various statistical package sql excel pivot vlookups regression advanced formula others determine gap information missing information ability go back rerun data comprehensiveness completeness gap closure turn data meaningful knowledge performing trend analysis variation analysis statistical analysis assist meeting requested perform need assessment better understand data needed success initiative needed assist project team regard data need provide visibility data available data obtainedcollected collaborate data administrator close gap data create monitor kpis key performance indicator project create standard practice process peer structure analytics related internal application external tool appropriate support existing application within organization data entry management export perspective participates active member data team various initiative within organization providing data analytics support creates internal database requested streamlining data process data capture consolidation needed\n",
            "Match Strength: Very Strong Match\n",
            "\n",
            "Job Title:  Machine Learning/Data Engineer\n",
            "Company: Rosen\n",
            "Job Description: remote hybrid position rosen leading privately owned company established 1981 last 4 decade rosen grown rapidly today worldwide technology group operates 120 country 4000 employee offer sophisticated highly innovative product service oil gas engineering industry rosen columbus seek employ machine learning engineer data engineer complement team columbus ohio check u wwwrosengroupcom rosens research technology site columbus primarily function industrial machine learning data analysis group pipeline inspection generate lot sensor date eg ultrasonic sensor analyzed using state art computer vision technique part new team learn industrial machine learning application data analysis pipeline data startup environment work rosen rosen extended team people passion technology innovation ongoing organic growth result career opportunity give employee chance development added experience benefit 401k 401k matching dental insurance employee assistance program employee discount flexible schedule flexible spending account health insurance health saving account life insurance paid time parental leave professional development assistance referral program relocation assistance retirement plan tuition reimbursement vision insurance job summary activity candidate position focused development implementation efficient algorithm focused data fusion multimodality analysis experimenting different ml approach joint data analysis automation ml modal development lifecycle main objective come approach leverage higher confidence fused data multiple measurement technique responsibility collaborate crossfunctional stakeholder data requirement gathering technical stack identification experiment various approach ensure high quality data fusion present report publish related technical topic design build launch new data model leveraging common development toolkits train evaluate record various ml algorithm multimodal datasets design big data infrastructure big data platform storage format interface etc creation etl pipeline validate enrich persist data provision data source consumer form interface apis fusion extremely structured semistructured unstructured data source eg historical data metadata simulation data etc development application suitable tool data access maintenance continuous improvement machine learning model definition data requirement together data scientist automate data alignment analytics implement necessary data monitoring mechanism ensure data quality consistency availability visit national international conference regular basis knowledge skill requirement experience working big data tb scale mastering programming language like python database system good grasp big data infrastructure relevant big data tool passion data development tool master solid knowledge cicd practice experience mlops framework preferred experience one following machine learning deep learning data science data visualization sensor fusion background one field computer vision scientific computing sensor fusion experience autoencoders transformer model experience one framework pytorch tensorflow opencv knowledge software development common practice cicd versioning educationexperience bachelor degree stem computer science related area strong programming background good understanding math probability statistic minimum 2 year experience least one programming language python c minimum 1 year working experience datamachine learningai engineer research proficiency model development validation familiarity deep learning approach model demonstrated ability communicate highly technical topic ability work independently attitude openness collaborative spirit\n",
            "Match Strength: Very Strong Match\n",
            "\n",
            "Job Title:  Data Engineer, Factory Software\n",
            "Company: Tesla\n",
            "Job Description: factory software data engineer responsible processing structured unstructured data validating data quality developing supporting data product looking someone strong handson experience layer data integration analytics technology use mysql postgres redis vertica kafka splunk foundationdb graphana metabase golang react youll build real birdseye view factory develop nextgeneration realtime data integration visualize inform highly critical manufacturing decision use skill ladder data answer question business didnt know consult build new data integration pipeline data repository factory data work highly skilled control automation factory software team inform software system design choice design code test correct document program script using agreed standard tool achieve wellengineered result expect code query least 50 day derive overall strategy data management within established information architecture support development secure operation existing new information digital service gather process raw structured semistructured unstructured data using batch realtime data processing framework ensure data quality implement tool framework automating identification data quality issue provide ongoing support monitoring maintenance deployed product youll bring strong experience relational database nosql database experience plus strong background data modeling data access data storage technique experience design development implementation highly scalable highvolume software system developing maintenance web service experience golang react major plus experience manufacturing supply chain data major plus bachelor degree higher c ce ee equivalent experience evidence exceptional ability\n",
            "Match Strength: Very Strong Match\n",
            "\n",
            "Job Title:  Data Analyst\n",
            "Company: Pacific Southwest Container, LLC\n",
            "Job Description: develop implement database data collection system data analytics strategy optimize statistical efficiency quality filter clean data reviewing computer report printout performance indicator locate correct code pattern identify analyze interpret trend pattern complex data set acquire data primary secondary data source maintain database data system provide analytical statistical programming identify key market trend focused insight user growth content performing market competitive analysis work management team prioritize business data information need monitor performance quality control plan identify improvement technical expertise regarding data model database design development data mining segmentation technique strong knowledge reporting package business object etc database sql etc programming sml javascript etl framework strong knowledge statistic statistical package analyzing datasets using visualization tool python r excel tableau extensive knowledge programming language strong data analytic skill ability collect organize analyze disseminate significant amount raw data report adept query report writing presenting finding high attention detail accuracy creative critical thinking skill strong problemsolving presentation graphical skill advanced microsoft excel skill required excellent organizational project management skill great interpersonal communication skill oral written bachelor degree mathematics economics statistic information technology related field required master degree analytics data science preferred 35 year proven work experience data analyst business data analyst proven experience data extraction data cleaning data loading statistical data analysis exploratory data analysis predictive modeling experience using spss sa power bi tableau\n",
            "Match Strength: Very Strong Match\n",
            "\n",
            "Job Title:  Youth Apprentice, Data Analytics Associate, Amazon Jump Start\n",
            "Company: Amazon Advertising LLC\n",
            "Job Description: programming use programming language sql access query data data analysis acquire consolidate interpret data various data source creating report create information product various development tool communicate finding data preparation clean prepare data statistical machine learning modeling data modeling work variety analytical algorithm build model explain data relationship predict potential scenario\n",
            "Match Strength: Strong Match\n",
            "\n",
            "Job Title:  Business Analyst\n",
            "Company: Amazon\n",
            "Job Description: experience data transformation sql excelexperience data visualization tool power bi tableau quicksight etctangible experience data analysis data extraction form data warehouse generating usable report must specified resumeadvanced working knowledge data mining data transformation using sql etlstrong organizational multitasking skill ability balance competing prioritiesproven track record identifying metric variance delivering solution address changesability display complex quantitative data simple intuitive format present finding clear concise mannerexcellent organizational skill including prioritizing scheduling time management meeting deadline familiarity redshift etcproficiency least one statistical software packageproven capability statistical analysis eg ability conduct analysis using regression modeling forecasting approach related toolsdegree technical business analytical field statistic computer science engineering related fieldexperience user level data analysis techniquesknowledge process modeling mapping associated toolsfamiliar data engineering data pipeliningexperience automating process using scripting language\n",
            "Match Strength: Strong Match\n",
            "\n",
            "Job Title:  Business Analyst\n",
            "Company: Amazon\n",
            "Job Description: experience data transformation sql excelexperience data visualization tool power bi tableau quicksight etctangible experience data analysis data extraction form data warehouse generating usable report must specified resumeadvanced working knowledge data mining data transformation using sql etlstrong organizational multitasking skill ability balance competing prioritiesproven track record identifying metric variance delivering solution address changesability display complex quantitative data simple intuitive format present finding clear concise mannerexcellent organizational skill including prioritizing scheduling time management meeting deadline familiarity redshift etcproficiency least one statistical software packageproven capability statistical analysis eg ability conduct analysis using regression modeling forecasting approach related toolsdegree technical business analytical field statistic computer science engineering related fieldexperience user level data analysis techniquesknowledge process modeling mapping associated toolsfamiliar data engineering data pipeliningexperience automating process using scripting language\n",
            "Match Strength: Strong Match\n",
            "\n",
            "Job Title:  Data Engineer, Quality Data Analytics & Systems \n",
            "Company: Tela\n",
            "Job Description: bsms management information system computer science math physic engineering statistic another technical field equivalent experience also acceptable3 year work experience data analytics engineering related fieldstrong knowledge sql experience multiple data architecture paradigm mysql microsoftsql vertica oracle kafka sparkproficient python text processing python data analysis package eg panda numpystrong knowledge data visualization technique tool using tableau power bi superset matplotlib plotly etcstrong understanding various statistical technique effectively summarize data finding strong knowledge data warehousing concept well data mining tool technique proficiency using opensource ml toolkits eg pytorch tensorflow building nlp application strong ml nlp fundamental strong knowledge manipulating big data apache spark python scale apisknowledge manufacturing service operation preferredable work pressure collaborating crossfunctional team managing competing demand tight deadlinesexcellent communication skill ability work different business stakeholder understand identify translate business challenge data projectsa passion curiosity data datadriven decision making\n",
            "Match Strength: Strong Match\n",
            "\n",
            "Job Title:  Data Analyst/Report Writer\n",
            "Company: Esolvit Inc.\n",
            "Job Description: performs complex journeylevel data analysis data research work work involves conducting detailed analysis extensive research data providing result monitoring implementing data quality develop implement customercentric metric reporting support performance quality improvement effort help streamline process data analysis visualization manage analysis data embrace evaluative thinking includes posing thoughtful question data getting feedback key stakeholder using data support staff program operation may provide guidance others work limited supervision moderate latitude use initiative independent judgment\n",
            "Match Strength: Strong Match\n",
            "\n",
            "Job Title:  Data Analyst/Report Writer\n",
            "Company: Rose International\n",
            "Job Description: performs complex journeylevel data analysis data research work work involves conducting detailed analysis extensive research data providing result monitoring implementing data quality develop implement customercentric metric reporting support performance quality improvement effort help streamline process data analysis visualization manage analysis data embrace evaluative thinking includes posing thoughtful question data getting feedback key stakeholder using data support staff program operation may provide guidance others work limited supervision moderate latitude use initiative independent judgment\n",
            "Match Strength: Strong Match\n"
          ]
        }
      ]
    },
    {
      "cell_type": "markdown",
      "source": [
        "Candidate #3: Senior Marketing Analytics Manager @ Rippling with extensive work history as a marketing data analyst"
      ],
      "metadata": {
        "id": "uHrrUxHUBbn_"
      }
    },
    {
      "cell_type": "code",
      "source": [
        "top_x_recommendations(10,df,'1. Create measurement framework across different funnel stages (TOF, MOF, and BOF) and marketing channels & campaigns: 1) identify KPIs (primary & secondary) and 2) define leading indicators 2. Build reporting foundation and consistently report on 1) actuals against goals by segment, marketing channel, campaign, and product and 2) trend on performance across acquisition and cross-sell motions. Identify gaps on data tracking, data connection, and reporting infrastructure and implement solutions. 3. Develop a framework to measure channel and campaign effectiveness and efficiency through attribution (FT, LT, & MT) and incrementality (MMM & geo-based experiments). Marketing channels include Paid Social (LinkedIn & Facebook & YouTube), Paid & Organic Search, Review Sites, and OOH 4. Hire and grow a Marketing Analytics team, mentor and coach analyst(s) to deliver high-quality work 1. Acquisition Marketing Channel and Campaign Analysis - Measure acquisition marketing campaign performance through Geo experiments, time series models, and platform lift studies; Channels include brand media, such as TV, OTT, Streaming Audio, & Podcast, and OA media, such as Display, OLV, Paid Social, Paid Search, and Affiliates - Design and measure channel incrementality tests (PPC Brand & OTT/CTV) and other tests, such as bid algorithm test and landing page test, across different product segments - Provide on-going channel and campaign performance analysis via prediction models, pre-post analysis, and A/B tests; Create channel performance dashboard (Holistic Search) to inform efficiency - Provide insights and recommendations on channel and campaign performance to marketing stakeholders and the leadership team based on the test and analysis results 2. Product Performance Analysis - Analytics lead on weekly marketing acquisition performance across all channels (Brand and OA) for Quickbooks Online product. - Work with finance, marketing, sales, and other analytics teams to identify performance root causes. - Define full-funnel metrics to measure marketing acquisition performance, such as brand metrics, QBO brand and industry search demand, traffic and conversion rate, sales, and CPA. 1. CRM/Database Marketing Management and Strategies - CRM database and email & direct mail channels owner and work with sales team for outbound call campaigns. Develop, optimize, monitor, and execute database marketing campaigns including re-marketing, cross-sell, acquisition, and win-back. - Analyze CRM customer & campaign data on different segments to improve overall DBM campaign performance. Auto re-marketing campaign sales contribute 13.5% of total company sales in 2016. - Provide on-going analysis on CRM data to define targeting and segmentation strategies for marketing acquisition campaigns. Design A/B and multivariate tests and define KPIs to measure test success. - Oversee design, development, and maintenance of a CRM database. Work with a cross-functional team (product, analytics, development, and BI) to define database and data integration requirements. - Collaborate with data science, sales, BI, and IT teams to build and implement models used for segmentation and targeting strategies to increase customer lifetime value and campaign ROI. - Provide insights and recommendations to the senior management team to influence decision making. 2. Marketing Analytics - Lead all aspects of Marketing Analytics, including campaign analysis, reporting, and predictive modeling. Marketing channels include email, SEM, affiliates, paid social, and sponsorship. - Provide on-going analysis on CRM data to inform targeting and segmentation strategies for marketing acquisition campaigns. Design tests and define KPIs to measure campaign and test success. - Analyze cost, engagement, and sales data to propose U.S. budget re-allocation recommendations across marketing channels to increase conversion, ROI, and improve customer mix. - Set KPIs and lead efforts to provide and consolidate analysis and reporting for website testing. - Provide insights and recommendations to the senior management team to influence decision making.')"
      ],
      "metadata": {
        "colab": {
          "base_uri": "https://localhost:8080/"
        },
        "id": "GvXH4BOQMrt7",
        "outputId": "26bb97cd-0c0a-42a2-babc-9346bced9893"
      },
      "execution_count": 21,
      "outputs": [
        {
          "output_type": "stream",
          "name": "stdout",
          "text": [
            "   index  Similarity Score     Match Strength\n",
            "0   4233          0.542013  Very Strong Match\n",
            "1   2507          0.488839  Very Strong Match\n",
            "2   7402          0.434763  Very Strong Match\n",
            "3   2838          0.434763  Very Strong Match\n",
            "4   5549          0.434763  Very Strong Match\n",
            "5   6250          0.389761       Strong Match\n",
            "6   4397          0.389761       Strong Match\n",
            "7   2836          0.368751       Strong Match\n",
            "8   7400          0.368751       Strong Match\n",
            "9   5547          0.368751       Strong Match\n",
            "\n",
            "Applicant's qualifications:  1 create measurement framework across different funnel stage tof mof bof marketing channel campaign 1 identify kpis primary secondary 2 define leading indicator 2 build reporting foundation consistently report 1 actuals goal segment marketing channel campaign product 2 trend performance across acquisition cross sell motion identify gap data tracking data connection reporting infrastructure implement solution 3 develop framework measure channel campaign effectiveness efficiency attribution ft lt mt incrementality mmm geo based experiment marketing channel include paid social linkedin facebook youtube paid organic search review site ooh 4 hire grow marketing analytics team mentor coach analyst deliver high quality work 1 acquisition marketing channel campaign analysis measure acquisition marketing campaign performance geo experiment time series model platform lift study channel include brand medium tv ott streaming audio podcast oa medium display olv paid social paid search affiliate design measure channel incrementality test ppc brand ott ctv test bid algorithm test landing page test across different product segment provide going channel campaign performance analysis via prediction model pre post analysis b test create channel performance dashboard holistic search inform efficiency provide insight recommendation channel campaign performance marketing stakeholder leadership team based test analysis result 2 product performance analysis analytics lead weekly marketing acquisition performance across channel brand oa quickbooks online product work finance marketing sale analytics team identify performance root cause define full funnel metric measure marketing acquisition performance brand metric qbo brand industry search demand traffic conversion rate sale cpa 1 crm database marketing management strategy crm database email direct mail channel owner work sale team outbound call campaign develop optimize monitor execute database marketing campaign including marketing cross sell acquisition win back analyze crm customer campaign data different segment improve overall dbm campaign performance auto marketing campaign sale contribute 13 5 total company sale 2016 provide going analysis crm data define targeting segmentation strategy marketing acquisition campaign design b multivariate test define kpis measure test success oversee design development maintenance crm database work cross functional team product analytics development bi define database data integration requirement collaborate data science sale bi team build implement model used segmentation targeting strategy increase customer lifetime value campaign roi provide insight recommendation senior management team influence decision making 2 marketing analytics lead aspect marketing analytics including campaign analysis reporting predictive modeling marketing channel include email sem affiliate paid social sponsorship provide going analysis crm data inform targeting segmentation strategy marketing acquisition campaign design test define kpis measure campaign test success analyze cost engagement sale data propose u budget allocation recommendation across marketing channel increase conversion roi improve customer mix set kpis lead effort provide consolidate analysis reporting website testing provide insight recommendation senior management team influence decision making \n",
            "\n",
            "Recommended jobs:\n",
            "\n",
            "Job Title:  Field Marketing Coordinator\n",
            "Company: Dell\n",
            "Job Description: field marketing coordinator secureworks japan tokyootemachi looking ambitious marketing coordinator join team assist gotomarket field activity marketing coordinator support senior team member work developing executing evaluating marketing campaign assist marketing team performing variety task creating content digital program writing ad copy defining target audience different marketing initiative proofreading editing marketing material setting email campaign supporting daytoday lead management marketing campaign work marketing manager track report progress campaign using analytical tool ensure operational element campaign met high standard looking candidate knowledgeable field marketing willing learn understand basic principle marketing digital marketing campaign happy team player provides support across entire marketing process perfect role responsibility support marketing team planning executing marketing campaign help tracking reporting campaign performance ensure uninterrupted stream workflow staying top program goal deadline support proofreadingproductiontranslation marketing material update advertising copy report presentation perform competitor analysis identify industry best practice help u optimize existing campaign ensure success future one execute digital event webinars partner session qa email copy set email campaign track project team activity assist standardizing marketing material daytoday lead management marketing campaign collaboration dgr demand generation representative team optimize performance requirement bachelor degree business marketing related field 12 year experience marketing experience project management plus excellent communication skill basic knowledge various marketing principle working knowledge web analytics tool crm automation tool plus ability work independently part collaborative team open mindset seek feedback refine develop skill desirable requirement bachelor degree\n",
            "Match Strength: Very Strong Match\n",
            "\n",
            "Job Title:  Analyst, Consumer Behavior, Data Strategy\n",
            "Company: NASCAR\n",
            "Job Description: evaluate monitor campaign performance measure success custom analysis develop implement method rank email social outbound direct mail campaign create tool monitor communicate performance different business stakeholder create new kpis business stakeholder evaluate campaign recommend prioritize acquire key data metric primary secondary data source develop indepth understanding preferred channel strategic marketing segment digital email text phone mailer use expertise evaluate fan loyalty retention trend reengagement model profile customer identify needswantsbehaviors key new market segment build initiative drive engagement nascar fan across multiple channel interpret data trend analyze result predict future behavior measure purchase intent likelihood activate product offering strategic marketing segment identify evaluate evolving consumer behavior study look industry best practicesnew approach determine application consumer behavior approach make recommendation ticketing marketing campaign suggesting campaign implemented supply analysis summarizing cost benefit campaign interpret data trend analyze result predict future behavior impacting business track property various sale engagement strategy support sale marketing ticketing department understands bring data life tableau data visualization tool\n",
            "Match Strength: Very Strong Match\n",
            "\n",
            "Job Title:  Principal Growth & Demand Gen Marketing Manager, Product-Led Growth\n",
            "Company: Cisco\n",
            "Job Description: role principal growth demand gen marketing manager responsible design execute b2b digital virtual physical growth campaign developer technical audience part user journey demand generation upsellcrosssell role requires productqualified lead taking mql sql looking someone deep technical experience field organized independent exceptional execution skill data analysis ability looking e minimum 4 year experience marketing developer area kubernetes application api security fullstack observability strong conversionoriented copywriting skill aimed developer devops technical audience minimum 6 year ofb2b lifecycle marketing experience marketing technical product solution experience designing executing digital campaign drive trial signups onboarding engagement upsellcrosssell retention must someone built demand gen engine ground scaled existing demand gen activity developer technical audience someone plan design execute digital campaign little guidance drive metric analyze result present executive advanced analytical skill understand interpret data use drive campaign growth experiment proven success working crossfunctional team product customer success sale create execute shared goal passion transforming every customer touch point unique timely experience increase propensity buy experience running successful lifecycle tactic create virality promotion referral program nurture flow good understanding full customer journey design effective campaign part funnel build digital creative content test measure iterate medium mix roi impact using ltv cac metric ability track user behavior digital impression infer datadriven insight drive appropriate next best action proficient using business intelligence tool mixpanel amplitude looker etc understanding user data stored system snowflake bigquery aws redshift eye detail critical thinking skill execute efficiently proficient crm software marketing automation email marketing hubspot plus social medium campaign software agency ambitious selfstarter understands product content messaging campaign demand gen expect create campaign engage nurture b2b developer devops user learn phase virtual experiencesdemos trial signup trial conversion way becoming paying subscriber cross sellupsell leverage customer data create relevant customer experience drive affinity reduce time first value drive adoption cisco product define key north star secondary metric constantly test measure iterate report campaign performance rigorously ab testing optimizing campaign across channel understand journey product action productqualifiedleads may handed sale follow ups craft iterate messaging convert free trial happy active customer collaborate sale customer success growth marketing team improve conversion rate team business trial account work product team craft launch experience onboard activate user new product feature develop report partnership analytics team well use measure program effectiveness share result regularly use email webinars inproduct prompt notification special live event serve content educate user help discover feature value within trial\n",
            "Match Strength: Very Strong Match\n",
            "\n",
            "Job Title:  Principal Growth & Demand Gen Marketing Manager, Product-Led Growth\n",
            "Company: Cisco\n",
            "Job Description: role principal growth demand gen marketing manager responsible design execute b2b digital virtual physical growth campaign developer technical audience part user journey demand generation upsellcrosssell role requires productqualified lead taking mql sql looking someone deep technical experience field organized independent exceptional execution skill data analysis ability looking e minimum 4 year experience marketing developer area kubernetes application api security fullstack observability strong conversionoriented copywriting skill aimed developer devops technical audience minimum 6 year ofb2b lifecycle marketing experience marketing technical product solution experience designing executing digital campaign drive trial signups onboarding engagement upsellcrosssell retention must someone built demand gen engine ground scaled existing demand gen activity developer technical audience someone plan design execute digital campaign little guidance drive metric analyze result present executive advanced analytical skill understand interpret data use drive campaign growth experiment proven success working crossfunctional team product customer success sale create execute shared goal passion transforming every customer touch point unique timely experience increase propensity buy experience running successful lifecycle tactic create virality promotion referral program nurture flow good understanding full customer journey design effective campaign part funnel build digital creative content test measure iterate medium mix roi impact using ltv cac metric ability track user behavior digital impression infer datadriven insight drive appropriate next best action proficient using business intelligence tool mixpanel amplitude looker etc understanding user data stored system snowflake bigquery aws redshift eye detail critical thinking skill execute efficiently proficient crm software marketing automation email marketing hubspot plus social medium campaign software agency ambitious selfstarter understands product content messaging campaign demand gen expect create campaign engage nurture b2b developer devops user learn phase virtual experiencesdemos trial signup trial conversion way becoming paying subscriber cross sellupsell leverage customer data create relevant customer experience drive affinity reduce time first value drive adoption cisco product define key north star secondary metric constantly test measure iterate report campaign performance rigorously ab testing optimizing campaign across channel understand journey product action productqualifiedleads may handed sale follow ups craft iterate messaging convert free trial happy active customer collaborate sale customer success growth marketing team improve conversion rate team business trial account work product team craft launch experience onboard activate user new product feature develop report partnership analytics team well use measure program effectiveness share result regularly use email webinars inproduct prompt notification special live event serve content educate user help discover feature value within trial\n",
            "Match Strength: Very Strong Match\n",
            "\n",
            "Job Title:  Principal Growth & Demand Gen Marketing Manager, Product-Led Growth\n",
            "Company: Cisco\n",
            "Job Description: role principal growth demand gen marketing manager responsible design execute b2b digital virtual physical growth campaign developer technical audience part user journey demand generation upsellcrosssell role requires productqualified lead taking mql sql looking someone deep technical experience field organized independent exceptional execution skill data analysis ability looking e minimum 4 year experience marketing developer area kubernetes application api security fullstack observability strong conversionoriented copywriting skill aimed developer devops technical audience minimum 6 year ofb2b lifecycle marketing experience marketing technical product solution experience designing executing digital campaign drive trial signups onboarding engagement upsellcrosssell retention must someone built demand gen engine ground scaled existing demand gen activity developer technical audience someone plan design execute digital campaign little guidance drive metric analyze result present executive advanced analytical skill understand interpret data use drive campaign growth experiment proven success working crossfunctional team product customer success sale create execute shared goal passion transforming every customer touch point unique timely experience increase propensity buy experience running successful lifecycle tactic create virality promotion referral program nurture flow good understanding full customer journey design effective campaign part funnel build digital creative content test measure iterate medium mix roi impact using ltv cac metric ability track user behavior digital impression infer datadriven insight drive appropriate next best action proficient using business intelligence tool mixpanel amplitude looker etc understanding user data stored system snowflake bigquery aws redshift eye detail critical thinking skill execute efficiently proficient crm software marketing automation email marketing hubspot plus social medium campaign software agency ambitious selfstarter understands product content messaging campaign demand gen expect create campaign engage nurture b2b developer devops user learn phase virtual experiencesdemos trial signup trial conversion way becoming paying subscriber cross sellupsell leverage customer data create relevant customer experience drive affinity reduce time first value drive adoption cisco product define key north star secondary metric constantly test measure iterate report campaign performance rigorously ab testing optimizing campaign across channel understand journey product action productqualifiedleads may handed sale follow ups craft iterate messaging convert free trial happy active customer collaborate sale customer success growth marketing team improve conversion rate team business trial account work product team craft launch experience onboard activate user new product feature develop report partnership analytics team well use measure program effectiveness share result regularly use email webinars inproduct prompt notification special live event serve content educate user help discover feature value within trial\n",
            "Match Strength: Very Strong Match\n",
            "\n",
            "Job Title:  Functional Marketing II #0000\n",
            "Company: Amazon\n",
            "Job Description: master degree foreign equivalent business administration marketing management information system related discipline 1 year experience market research analysis product management business analysisin alternative employer accept bachelor degree foreign equivalent business administration marketing management information system related discipline followed 3 progressively responsible postbaccalaureate year experience market research analysis product management business analysisexperience must include 1 1 year experience gathering analyzing business intelligence data analytics performing market research competitive analysis support marketing initiative 2 1 year experience developing digital marketing program online environment working marketing channel including sem sed email social medium drive product engagement initiative 3 1 year experience ab testing product 4 1 year experience leveraging online marketing channel drive b2b customer acquisition lead generation andor revenue generation optimizing marketing campaign strategic analysis performance data traffic budget roi goal\n",
            "Match Strength: Strong Match\n",
            "\n",
            "Job Title:  Functional Marketing II #0000\n",
            "Company: Amazon\n",
            "Job Description: master degree foreign equivalent business administration marketing management information system related discipline 1 year experience market research analysis product management business analysisin alternative employer accept bachelor degree foreign equivalent business administration marketing management information system related discipline followed 3 progressively responsible postbaccalaureate year experience market research analysis product management business analysisexperience must include 1 1 year experience gathering analyzing business intelligence data analytics performing market research competitive analysis support marketing initiative 2 1 year experience developing digital marketing program online environment working marketing channel including sem sed email social medium drive product engagement initiative 3 1 year experience ab testing product 4 1 year experience leveraging online marketing channel drive b2b customer acquisition lead generation andor revenue generation optimizing marketing campaign strategic analysis performance data traffic budget roi goal\n",
            "Match Strength: Strong Match\n",
            "\n",
            "Job Title:  Principal Growth & Demand Gen Marketing Manager, Product-Led Growth\n",
            "Company: Cisco\n",
            "Job Description: organization emerging technology incubation eti cisco chartered build next new business cisco take cisco new market especially towards new persona buyer user like building startup ground entrepreneurial mindset taking idea crazy thought product solves critical need experience delight user customer innovation 12 month 5 year future wearing multiple hat failing learning fast challenging assumption finding new way solving problem driving form ambiguity creativity looking entrepreneur thinker designer marketer product led growth expert business development sdrs customer success product manager swes sres data scientist ml engineer yes building next set startup support trusted name like cisco else get cisco eti run bold run agile run ambitious come create u role principal growth demand gen marketing manager responsible design execute b2b digital virtual physical growth campaign developer technical audience part user journey demand generation upsellcrosssell role requires building productqualified lead taking mql sql looking someone deep experience field organized independent exceptional execution skill data analysis ability looking minimum 6 year b2b lifecycle marketing experience design execute digital campaign drive trial signups onboarding engagement upsellcrosssell retention someone build demand gen engine ground scaled existing demand gen activity someone plan design execute digital campaign herhis drive metric analyze result present executive requires analytical skill understand interpret data use drive campaign growth experiment proven success working crossfunctional team product customer success sale create execute shared goal passion transforming every customer touch point unique timely experience increase propensity buy experience running successful lifecycle tactic create virality promotion referral program nurture flow good understanding full customer journey design effective campaign part funnel build digital creative content test measure iterate medium mix roi impact using ltv cac metric ability track user behavior digital impression infer datadriven insight drive appropriate next best action proficient using business intelligence tool mixpanel amplitude looker etc understanding user data stored system snowflake bigquery aws redshift eye detail critical thinking skill execute efficiently proficient crm software marketing automation email marketing hubspot plus social medium campaign software agency ambitious selfstarter understands product content messaging campaign demand gen someone experience interest market developer area kubernetes application api security fullstack observabilitystrong conversionoriented copywriting skill aimed developer devops technical audience expect create campaign engage nurture b2b developer devops user learn phase virtual experiencesdemos trial signup trial conversion way becoming paying subscriber cross sellupsell leverage customer data create relevant customer experience drive affinity reduce time first value drive adoption cisco product define key north star secondary metric constantly test measure iterate report campaign performance rigorously ab testing optimizing campaign across channel understand journey product action productqualifiedleads may handed sale follow ups craft iterate messaging convert free trial happy active customer collaborate sale customer success growth marketing team improve conversion rate team business trial account work product team craft launch experience onboard activate user new product feature develop report partnership analytics team well use measure program effectiveness share result regularly use email webinars inproduct prompt notification special live event serve content educate user help discover feature value within trial cisco wearecisco person unique bring talent work team make difference here embrace digital help customer implement change digital business may think old 30 year strong hardware also software company security company aimachine learning company even invented intuitive network adapts predicts learns protects company cant put u box digital transformation empty buzz phrase without culture allows innovation creativity yes even failure learn day day focus give take give best give ego break give giving back built dna take accountability take bold step take difference heart without diversity thought commitment equality moving forward colorful hair dont care tattoo show ink like polka dot thats cool\n",
            "Match Strength: Strong Match\n",
            "\n",
            "Job Title:  Principal Growth & Demand Gen Marketing Manager, Product-Led Growth\n",
            "Company: Cisco\n",
            "Job Description: organization emerging technology incubation eti cisco chartered build next new business cisco take cisco new market especially towards new persona buyer user like building startup ground entrepreneurial mindset taking idea crazy thought product solves critical need experience delight user customer innovation 12 month 5 year future wearing multiple hat failing learning fast challenging assumption finding new way solving problem driving form ambiguity creativity looking entrepreneur thinker designer marketer product led growth expert business development sdrs customer success product manager swes sres data scientist ml engineer yes building next set startup support trusted name like cisco else get cisco eti run bold run agile run ambitious come create u role principal growth demand gen marketing manager responsible design execute b2b digital virtual physical growth campaign developer technical audience part user journey demand generation upsellcrosssell role requires building productqualified lead taking mql sql looking someone deep experience field organized independent exceptional execution skill data analysis ability looking minimum 6 year b2b lifecycle marketing experience design execute digital campaign drive trial signups onboarding engagement upsellcrosssell retention someone build demand gen engine ground scaled existing demand gen activity someone plan design execute digital campaign herhis drive metric analyze result present executive requires analytical skill understand interpret data use drive campaign growth experiment proven success working crossfunctional team product customer success sale create execute shared goal passion transforming every customer touch point unique timely experience increase propensity buy experience running successful lifecycle tactic create virality promotion referral program nurture flow good understanding full customer journey design effective campaign part funnel build digital creative content test measure iterate medium mix roi impact using ltv cac metric ability track user behavior digital impression infer datadriven insight drive appropriate next best action proficient using business intelligence tool mixpanel amplitude looker etc understanding user data stored system snowflake bigquery aws redshift eye detail critical thinking skill execute efficiently proficient crm software marketing automation email marketing hubspot plus social medium campaign software agency ambitious selfstarter understands product content messaging campaign demand gen someone experience interest market developer area kubernetes application api security fullstack observabilitystrong conversionoriented copywriting skill aimed developer devops technical audience expect create campaign engage nurture b2b developer devops user learn phase virtual experiencesdemos trial signup trial conversion way becoming paying subscriber cross sellupsell leverage customer data create relevant customer experience drive affinity reduce time first value drive adoption cisco product define key north star secondary metric constantly test measure iterate report campaign performance rigorously ab testing optimizing campaign across channel understand journey product action productqualifiedleads may handed sale follow ups craft iterate messaging convert free trial happy active customer collaborate sale customer success growth marketing team improve conversion rate team business trial account work product team craft launch experience onboard activate user new product feature develop report partnership analytics team well use measure program effectiveness share result regularly use email webinars inproduct prompt notification special live event serve content educate user help discover feature value within trial cisco wearecisco person unique bring talent work team make difference here embrace digital help customer implement change digital business may think old 30 year strong hardware also software company security company aimachine learning company even invented intuitive network adapts predicts learns protects company cant put u box digital transformation empty buzz phrase without culture allows innovation creativity yes even failure learn day day focus give take give best give ego break give giving back built dna take accountability take bold step take difference heart without diversity thought commitment equality moving forward colorful hair dont care tattoo show ink like polka dot thats cool\n",
            "Match Strength: Strong Match\n",
            "\n",
            "Job Title:  Principal Growth & Demand Gen Marketing Manager, Product-Led Growth\n",
            "Company: Cisco\n",
            "Job Description: organization emerging technology incubation eti cisco chartered build next new business cisco take cisco new market especially towards new persona buyer user like building startup ground entrepreneurial mindset taking idea crazy thought product solves critical need experience delight user customer innovation 12 month 5 year future wearing multiple hat failing learning fast challenging assumption finding new way solving problem driving form ambiguity creativity looking entrepreneur thinker designer marketer product led growth expert business development sdrs customer success product manager swes sres data scientist ml engineer yes building next set startup support trusted name like cisco else get cisco eti run bold run agile run ambitious come create u role principal growth demand gen marketing manager responsible design execute b2b digital virtual physical growth campaign developer technical audience part user journey demand generation upsellcrosssell role requires building productqualified lead taking mql sql looking someone deep experience field organized independent exceptional execution skill data analysis ability looking minimum 6 year b2b lifecycle marketing experience design execute digital campaign drive trial signups onboarding engagement upsellcrosssell retention someone build demand gen engine ground scaled existing demand gen activity someone plan design execute digital campaign herhis drive metric analyze result present executive requires analytical skill understand interpret data use drive campaign growth experiment proven success working crossfunctional team product customer success sale create execute shared goal passion transforming every customer touch point unique timely experience increase propensity buy experience running successful lifecycle tactic create virality promotion referral program nurture flow good understanding full customer journey design effective campaign part funnel build digital creative content test measure iterate medium mix roi impact using ltv cac metric ability track user behavior digital impression infer datadriven insight drive appropriate next best action proficient using business intelligence tool mixpanel amplitude looker etc understanding user data stored system snowflake bigquery aws redshift eye detail critical thinking skill execute efficiently proficient crm software marketing automation email marketing hubspot plus social medium campaign software agency ambitious selfstarter understands product content messaging campaign demand gen someone experience interest market developer area kubernetes application api security fullstack observabilitystrong conversionoriented copywriting skill aimed developer devops technical audience expect create campaign engage nurture b2b developer devops user learn phase virtual experiencesdemos trial signup trial conversion way becoming paying subscriber cross sellupsell leverage customer data create relevant customer experience drive affinity reduce time first value drive adoption cisco product define key north star secondary metric constantly test measure iterate report campaign performance rigorously ab testing optimizing campaign across channel understand journey product action productqualifiedleads may handed sale follow ups craft iterate messaging convert free trial happy active customer collaborate sale customer success growth marketing team improve conversion rate team business trial account work product team craft launch experience onboard activate user new product feature develop report partnership analytics team well use measure program effectiveness share result regularly use email webinars inproduct prompt notification special live event serve content educate user help discover feature value within trial cisco wearecisco person unique bring talent work team make difference here embrace digital help customer implement change digital business may think old 30 year strong hardware also software company security company aimachine learning company even invented intuitive network adapts predicts learns protects company cant put u box digital transformation empty buzz phrase without culture allows innovation creativity yes even failure learn day day focus give take give best give ego break give giving back built dna take accountability take bold step take difference heart without diversity thought commitment equality moving forward colorful hair dont care tattoo show ink like polka dot thats cool\n",
            "Match Strength: Strong Match\n"
          ]
        }
      ]
    },
    {
      "cell_type": "markdown",
      "source": [
        "Candidate #4: Product Manager @ Meta with prior experience as a consultant at Deloitte Digital"
      ],
      "metadata": {
        "id": "JQfPRThkBd6b"
      }
    },
    {
      "cell_type": "code",
      "source": [
        "top_x_recommendations(10,df,'Product Manager for Strategic Transformation Tool: Led a nine-person product team to design, build, and launch StrategyAccelerator® - a single, customizable digital platform to help companies drive ideation to implementation across their business strategy life cycle, resulting in 17 client wins and $xxM revenue in direct asset fees and services for Deloitte Product and Monetization Strategy for a Pharmaceutical Company: Managed a five-person team to develop and prioritize 42 use cases and monetization opportunities of facial and retinal scans towards disruptive applications of AI and ML for disease detection and treatment targeting direct-to-consumer opportunities Marketing Strategy, Operations, and Annual Planning for $9B Cloud Technology Company: Led a five-person team working directly with the CMO and SVPs to spearhead annual strategic planning, and successfully secured ~$600M, the highest % of investment allocation for the marketing organization thus far from the C-suite eCommerce Partnership Strategy for $600B Global Social Media Company: Led leadership strategy workshops engaging cross-functionally with sales, product development, and privacy compliance to identify target large and mid-size retailers for ecommerce offering expansion, and develop a GTM plan for ~60M potential buyers Customer Experience and Journey Mapping for Fortune 500 Financial Services Company: Designed product roadmap to improve customer satisfaction and retention; directed ethnographic research leading to insights on key customer behaviors via quantitative surveys and interviews to understand customer journeys and shape new service offerings')"
      ],
      "metadata": {
        "colab": {
          "base_uri": "https://localhost:8080/"
        },
        "id": "faRdQN7-KJUm",
        "outputId": "128ae31e-6c4a-4052-c5d0-4300b1db81ee"
      },
      "execution_count": 22,
      "outputs": [
        {
          "output_type": "stream",
          "name": "stdout",
          "text": [
            "   index  Similarity Score Match Strength\n",
            "0   2617          0.396238   Strong Match\n",
            "1   7181          0.396238   Strong Match\n",
            "2   7404          0.384502   Strong Match\n",
            "3   2840          0.384502   Strong Match\n",
            "4   5551          0.384502   Strong Match\n",
            "5   3365          0.364361   Strong Match\n",
            "6   6118          0.359623   Strong Match\n",
            "7   4265          0.359623   Strong Match\n",
            "8   2932          0.352488   Strong Match\n",
            "9   7496          0.352488   Strong Match\n",
            "\n",
            "Applicant's qualifications:  product manager strategic transformation tool led nine person product team design build launch strategyaccelerator single customizable digital platform help company drive ideation implementation across business strategy life cycle resulting 17 client win xxm revenue direct asset fee service deloitte product monetization strategy pharmaceutical company managed five person team develop prioritize 42 use case monetization opportunity facial retinal scan towards disruptive application ai ml disease detection treatment targeting direct consumer opportunity marketing strategy operation annual planning 9b cloud technology company led five person team working directly cmo svps spearhead annual strategic planning successfully secured 600m highest investment allocation marketing organization thus far c suite ecommerce partnership strategy 600b global social medium company led leadership strategy workshop engaging cross functionally sale product development privacy compliance identify target large mid size retailer ecommerce offering expansion develop gtm plan 60m potential buyer customer experience journey mapping fortune 500 financial service company designed product roadmap improve customer satisfaction retention directed ethnographic research leading insight key customer behavior via quantitative survey interview understand customer journey shape new service offering \n",
            "\n",
            "Recommended jobs:\n",
            "\n",
            "Job Title:  Cisco Meraki - Director of Product Management - Developer Platform and Ecosystem\n",
            "Company: Cisco\n",
            "Job Description: cisco meraki know technology connect empower drive u mission simplify technology customer focus whats meaningful student patient customer business making networking easier faster smarter technology simply work director product management developer platform ecosystem shape strategy market leading apis ecosystem partner marketplace collaborate meraki leadership product team across company wireless access point network security appliance intelligent video camera meraki changing way industry think networking lead charge continue evolution team forwardthinking product manager engineer solution architect developer advocate delighted customer help ensure best developer experience integrate solution customer need work closely executive team build successful strategy collaborate distinguished sale business development marketing partner team ensure marketadoption rapid growth significant impact one fastest growing connected hardware company world reach global customer base work groundbreaking cloud managed hardware every day truly unlike one appetite approaching problem creative solution candid passion engineering ambition part lead innovative inspiring team tool youll need meraki product leader responsibility define strategy meraki api framework api feature developer platform partner ecosystem grow app marketplace open source project product integration breadth depth develop playbook strategic partnership key technology partner work business development partner sale team grow relationship discover prioritize customer use case requirement define strategy api first strategy across meraki platform work closely engineer solution architect developer advocate continue simplify outstanding developer customer experience team rapidly growing sale team partner solve customer problem looking 10 year experience product management role 5 year experience developer platform app marketplace api product 5 year people management experience building leading mentoring high performing team technical background working engineering team complex software project experience enterprise saas software expertise product analytics product engagementadoption app marketplace real dedication learning networking cloud emerging groundbreaking technology strong sense customer empathy care deeply top customer problem able easily communicate complicated concept simply multiple audience resultsoriented cando demeanor intuitive understanding product quality love solving technical problem innovative way babs computer science information system engineering related degree cisco affirmative action equal opportunity employer qualified applicant receive consideration employment without regard race color religion gender sexual orientation national origin genetic information age disability veteran status legally protected basis cisco consider employment case case basis qualified applicant arrest conviction record cisco meraki challenging status quo power diversity inclusion collaboration connect different perspective imagine new possibility inspire innovation release full potential people building employee experience includes appreciation belonging growth purpose everyone\n",
            "Match Strength: Strong Match\n",
            "\n",
            "Job Title:  Cisco Meraki - Director of Product Management - Developer Platform and Ecosystem\n",
            "Company: Cisco\n",
            "Job Description: cisco meraki know technology connect empower drive u mission simplify technology customer focus whats meaningful student patient customer business making networking easier faster smarter technology simply work director product management developer platform ecosystem shape strategy market leading apis ecosystem partner marketplace collaborate meraki leadership product team across company wireless access point network security appliance intelligent video camera meraki changing way industry think networking lead charge continue evolution team forwardthinking product manager engineer solution architect developer advocate delighted customer help ensure best developer experience integrate solution customer need work closely executive team build successful strategy collaborate distinguished sale business development marketing partner team ensure marketadoption rapid growth significant impact one fastest growing connected hardware company world reach global customer base work groundbreaking cloud managed hardware every day truly unlike one appetite approaching problem creative solution candid passion engineering ambition part lead innovative inspiring team tool youll need meraki product leader responsibility define strategy meraki api framework api feature developer platform partner ecosystem grow app marketplace open source project product integration breadth depth develop playbook strategic partnership key technology partner work business development partner sale team grow relationship discover prioritize customer use case requirement define strategy api first strategy across meraki platform work closely engineer solution architect developer advocate continue simplify outstanding developer customer experience team rapidly growing sale team partner solve customer problem looking 10 year experience product management role 5 year experience developer platform app marketplace api product 5 year people management experience building leading mentoring high performing team technical background working engineering team complex software project experience enterprise saas software expertise product analytics product engagementadoption app marketplace real dedication learning networking cloud emerging groundbreaking technology strong sense customer empathy care deeply top customer problem able easily communicate complicated concept simply multiple audience resultsoriented cando demeanor intuitive understanding product quality love solving technical problem innovative way babs computer science information system engineering related degree cisco affirmative action equal opportunity employer qualified applicant receive consideration employment without regard race color religion gender sexual orientation national origin genetic information age disability veteran status legally protected basis cisco consider employment case case basis qualified applicant arrest conviction record cisco meraki challenging status quo power diversity inclusion collaboration connect different perspective imagine new possibility inspire innovation release full potential people building employee experience includes appreciation belonging growth purpose everyone\n",
            "Match Strength: Strong Match\n",
            "\n",
            "Job Title:  Sr. Product Manager, UCS Networking\n",
            "Company: Cisco\n",
            "Job Description: responsibility independently lead drive end end strategy operational product roadmap ucs networking including smartnic path breaking vic fabric interconnect technology build deliver value proposition target customer segment business case bring innovative disruptive feature market ucs networking product portfolio ie product configuration mix revenuemargins financials market share synthesize market requirement mrd marketingcustomer detail intimate customer knowledge business financial industry market acumen guide key stakeholder portfolio strategy across phase lifecycle eg planning development launch management exit create drive goal alignment collaborates across one product value chain partner optimize margin enable success product per plan across product lifecycle ie engineering product development supply chain skus inventory marketing marketing pricing strategy go market plan requirement bachelor degree equivalent computer science engineering related field study mba advanced degree computer science engineering preferred 6 year work experience related field networking product deep technical understanding handson expertise data center networking network interface adaptor switch software defined network prior product management experience networking san product strongly preferred extensive team skill ability cross functionally driveinfluence work others ability mentor lead team achieve result complex ambiguous project experience working smartnics strong plus outstanding communication skill written verbal proven track record developing delivering formal informal training material technical presentation aimed educating customer partner sale team ensure individual disability provided reasonable accommodation participate job application interview process perform essential job function receive benefit privilege employment please contact u request accommodation wearecisco person unique bring talent work team make difference powering inclusive future embrace digital help customer implement change digital business may think old 36 year strong hardware also software company security company even invented intuitive network adapts predicts learns protects company cant put u box digital transformation empty buzz phrase without culture allows innovation creativity yes even failure learn day day focus give take give best give ego break give giving back built dna take accountability bold step take difference heart without diversity thought dedication equality moving forward colorful hair dont care tattoo show ink like polka dot thats cool pop culture enthusiast many u passion technology world changing u\n",
            "Match Strength: Strong Match\n",
            "\n",
            "Job Title:  Sr. Product Manager, UCS Networking\n",
            "Company: Cisco\n",
            "Job Description: responsibility independently lead drive end end strategy operational product roadmap ucs networking including smartnic path breaking vic fabric interconnect technology build deliver value proposition target customer segment business case bring innovative disruptive feature market ucs networking product portfolio ie product configuration mix revenuemargins financials market share synthesize market requirement mrd marketingcustomer detail intimate customer knowledge business financial industry market acumen guide key stakeholder portfolio strategy across phase lifecycle eg planning development launch management exit create drive goal alignment collaborates across one product value chain partner optimize margin enable success product per plan across product lifecycle ie engineering product development supply chain skus inventory marketing marketing pricing strategy go market plan requirement bachelor degree equivalent computer science engineering related field study mba advanced degree computer science engineering preferred 6 year work experience related field networking product deep technical understanding handson expertise data center networking network interface adaptor switch software defined network prior product management experience networking san product strongly preferred extensive team skill ability cross functionally driveinfluence work others ability mentor lead team achieve result complex ambiguous project experience working smartnics strong plus outstanding communication skill written verbal proven track record developing delivering formal informal training material technical presentation aimed educating customer partner sale team ensure individual disability provided reasonable accommodation participate job application interview process perform essential job function receive benefit privilege employment please contact u request accommodation wearecisco person unique bring talent work team make difference powering inclusive future embrace digital help customer implement change digital business may think old 36 year strong hardware also software company security company even invented intuitive network adapts predicts learns protects company cant put u box digital transformation empty buzz phrase without culture allows innovation creativity yes even failure learn day day focus give take give best give ego break give giving back built dna take accountability bold step take difference heart without diversity thought dedication equality moving forward colorful hair dont care tattoo show ink like polka dot thats cool pop culture enthusiast many u passion technology world changing u\n",
            "Match Strength: Strong Match\n",
            "\n",
            "Job Title:  Sr. Product Manager, UCS Networking\n",
            "Company: Cisco\n",
            "Job Description: responsibility independently lead drive end end strategy operational product roadmap ucs networking including smartnic path breaking vic fabric interconnect technology build deliver value proposition target customer segment business case bring innovative disruptive feature market ucs networking product portfolio ie product configuration mix revenuemargins financials market share synthesize market requirement mrd marketingcustomer detail intimate customer knowledge business financial industry market acumen guide key stakeholder portfolio strategy across phase lifecycle eg planning development launch management exit create drive goal alignment collaborates across one product value chain partner optimize margin enable success product per plan across product lifecycle ie engineering product development supply chain skus inventory marketing marketing pricing strategy go market plan requirement bachelor degree equivalent computer science engineering related field study mba advanced degree computer science engineering preferred 6 year work experience related field networking product deep technical understanding handson expertise data center networking network interface adaptor switch software defined network prior product management experience networking san product strongly preferred extensive team skill ability cross functionally driveinfluence work others ability mentor lead team achieve result complex ambiguous project experience working smartnics strong plus outstanding communication skill written verbal proven track record developing delivering formal informal training material technical presentation aimed educating customer partner sale team ensure individual disability provided reasonable accommodation participate job application interview process perform essential job function receive benefit privilege employment please contact u request accommodation wearecisco person unique bring talent work team make difference powering inclusive future embrace digital help customer implement change digital business may think old 36 year strong hardware also software company security company even invented intuitive network adapts predicts learns protects company cant put u box digital transformation empty buzz phrase without culture allows innovation creativity yes even failure learn day day focus give take give best give ego break give giving back built dna take accountability bold step take difference heart without diversity thought dedication equality moving forward colorful hair dont care tattoo show ink like polka dot thats cool pop culture enthusiast many u passion technology world changing u\n",
            "Match Strength: Strong Match\n",
            "\n",
            "Job Title:  Sr. Associate, Salesforce\n",
            "Company: KPMG\n",
            "Job Description: minimum three year recent experience providing endtoend customer insight analytics data modeling market research voice customer andor digital marketing strategiesbachelors degree business marketing economics math statistic related field accredited collegeuniversity advanced degree mba preferredexperience customer experience management process improvement marketing sale go market strategy customer profitability analysis customer strategy business transformation customer retention cross sell design program implementation customer engagement roadmap development cross channel campaign management alignmentdemonstrated ability analyzing critical business requirement identifying deficiency potential opportunity developing innovative methodology enhancing competitiveness revenue customer service offeringspreferred experience financial service industry including banking capital market insurance experience solution development salesforcecom platform including financial service cloud sale service cloud experience cloud salesforce admin salesforce platform developer certification\n",
            "Match Strength: Strong Match\n",
            "\n",
            "Job Title:   Database Go-To-Market Practice Lead, Google Cloud (English, Japanese) \n",
            "Company: Google\n",
            "Job Description: 6 year experience database product related field role eg product sale marketing presales engineer etcexperience working presales role eg enterprise architect presales engineer etcability speak write english japanese fluently experience working product team product manager help build business growth product plansexperience working enterprise partner system integratorability develop deploy sale strategy field increase customer adoption business growthability write strategy document including market size business growth plan insight product perspective\n",
            "Match Strength: Strong Match\n",
            "\n",
            "Job Title:   Database Go-To-Market Practice Lead, Google Cloud (English, Japanese) \n",
            "Company: Google\n",
            "Job Description: 6 year experience database product related field role eg product sale marketing presales engineer etcexperience working presales role eg enterprise architect presales engineer etcability speak write english japanese fluently experience working product team product manager help build business growth product plansexperience working enterprise partner system integratorability develop deploy sale strategy field increase customer adoption business growthability write strategy document including market size business growth plan insight product perspective\n",
            "Match Strength: Strong Match\n",
            "\n",
            "Job Title:  Program/Project Manager Webex\n",
            "Company: Cisco\n",
            "Job Description: 10 year programproject management product technical lifecycle management experience collaboration calling product including significant experience working closely service delivery support team previous experience working telecom carriersservice provider andor large var ideally voice unified communication collaboration service functional area bring strong mix product management programproject management partnercustomer relationship competence comfortable engaging senior exec vast set multifunctional stakeholder ability influence without authority articulate complex technology concept deliver message different level inside outside company identify overcome challenge using confidence influence quick thinking ability work independently well demonstrate full team multifunctional resource ensure successful customer experience interaction strategic dedicated problem solver develop implement strategy across stage customer lifecycle skilled driving continuous process improvement good interpersonal skill required influence matrixmanage across various group within cisco customer organization handson step help team get unstuck build strong relationship constantly looking improve team solid grasp cisco market product service organization structure strategy planning decisionmaking process cisco affirmative action equal opportunity employer qualified applicant receive consideration employment without regard race color religion gender sexual orientation national origin genetic information age disability veteran status legally protected basis cisco consider employment casebycase basis qualified applicant arrest conviction record ensure individual disability provided reasonable accommodation participate job application interview process perform essential job function receive benefit privilege employment please contact u request accommodation wearecisco person unique bring talent work team make difference powering inclusive future embrace digital help customer implement change digital business may think old 37 year strong hardware also software company security company even invented intuitive network adapts predicts learns protects company cant put u box digital transformation empty buzz phrase without culture allows innovation creativity yes even failure learn day day focus give take give best give ego break give giving back built dna take accountability bold step take difference heart without diversity thought dedication equality moving forward colorful hair dont care tattoo show ink like polka dot thats cool pop culture geek many u passion technology world changing u\n",
            "Match Strength: Strong Match\n",
            "\n",
            "Job Title:  Program/Project Manager Webex\n",
            "Company: Cisco\n",
            "Job Description: 10 year programproject management product technical lifecycle management experience collaboration calling product including significant experience working closely service delivery support team previous experience working telecom carriersservice provider andor large var ideally voice unified communication collaboration service functional area bring strong mix product management programproject management partnercustomer relationship competence comfortable engaging senior exec vast set multifunctional stakeholder ability influence without authority articulate complex technology concept deliver message different level inside outside company identify overcome challenge using confidence influence quick thinking ability work independently well demonstrate full team multifunctional resource ensure successful customer experience interaction strategic dedicated problem solver develop implement strategy across stage customer lifecycle skilled driving continuous process improvement good interpersonal skill required influence matrixmanage across various group within cisco customer organization handson step help team get unstuck build strong relationship constantly looking improve team solid grasp cisco market product service organization structure strategy planning decisionmaking process cisco affirmative action equal opportunity employer qualified applicant receive consideration employment without regard race color religion gender sexual orientation national origin genetic information age disability veteran status legally protected basis cisco consider employment casebycase basis qualified applicant arrest conviction record ensure individual disability provided reasonable accommodation participate job application interview process perform essential job function receive benefit privilege employment please contact u request accommodation wearecisco person unique bring talent work team make difference powering inclusive future embrace digital help customer implement change digital business may think old 37 year strong hardware also software company security company even invented intuitive network adapts predicts learns protects company cant put u box digital transformation empty buzz phrase without culture allows innovation creativity yes even failure learn day day focus give take give best give ego break give giving back built dna take accountability bold step take difference heart without diversity thought dedication equality moving forward colorful hair dont care tattoo show ink like polka dot thats cool pop culture geek many u passion technology world changing u\n",
            "Match Strength: Strong Match\n"
          ]
        }
      ]
    },
    {
      "cell_type": "markdown",
      "source": [
        "Candidate #5: Investment Banker @ Brookwood Associates. No background in tech - purely a finance person."
      ],
      "metadata": {
        "id": "Eo_gWP4iBgfl"
      }
    },
    {
      "cell_type": "code",
      "source": [
        "top_x_recommendations(10,df,'- Represented CAIRE on its second U.S. acquisition of MGC Diagnostics, a manufacturer of cardiorespiratory diagnostics systems - Represented provider of transactional communications solutions on its sale to Doxim, a portfolio company of GI Partners - Represented CAIRE, a subsidiary of NGK Spark Plugs, on its acquisition of an e-commerce seller of portable oxygen concentrators and other respiratory products - Represented manufacturer of advanced composite materials on its recapitalization - Represented provider of water and wastewater infrastructure services on its sale to Sciens Water - Represented provider of center-based, home-based, and school-based behavioral healthcare services for individuals with autism spectrum disorders on its sale to LEARN Behavioral, a portfolio company of Gryphon Investors - Represented provider of urgent care services on its merger with CRH Healthcare - Represented distributor of industrial air compressors and compressed air automation systems on its recapitalization - Represented manufacturer of domestic and imported hardwood lumber on the divestiture of its distribution business to the Rugby Architectural Building Products division of Hardwoods Distribution Inc. (TSX:HDI) - Represented vertically integrated manufacturer of technical and performance fabrics on its sale to Milliken & Company - Represented manufacturer of wakeboard towers and accessories and custom-patterned boat covers on its sale to a financial sponsor - Represented specialty mattress retailer with 130+ locations in the Midwest and Southeast on its sale to Mattress Firm')"
      ],
      "metadata": {
        "colab": {
          "base_uri": "https://localhost:8080/"
        },
        "id": "48T1nmOtNz3x",
        "outputId": "4a3cae78-d3de-4076-d9f1-76c963d3a566"
      },
      "execution_count": 23,
      "outputs": [
        {
          "output_type": "stream",
          "name": "stdout",
          "text": [
            "   index  Similarity Score Match Strength\n",
            "0   5731          0.210477    Loose Match\n",
            "1   5733          0.210477    Loose Match\n",
            "2   3878          0.210477    Loose Match\n",
            "3   3876          0.210477    Loose Match\n",
            "4   3875          0.210477    Loose Match\n",
            "5   3880          0.210477    Loose Match\n",
            "6   5732          0.210477    Loose Match\n",
            "7   3879          0.210477    Loose Match\n",
            "8   3866          0.210477    Loose Match\n",
            "9   3882          0.210477    Loose Match\n",
            "\n",
            "Applicant's qualifications:  represented caire second u acquisition mgc diagnostics manufacturer cardiorespiratory diagnostics system represented provider transactional communication solution sale doxim portfolio company gi partner represented caire subsidiary ngk spark plug acquisition e commerce seller portable oxygen concentrators respiratory product represented manufacturer advanced composite material recapitalization represented provider water wastewater infrastructure service sale sciens water represented provider center based home based school based behavioral healthcare service individual autism spectrum disorder sale learn behavioral portfolio company gryphon investor represented provider urgent care service merger crh healthcare represented distributor industrial air compressor compressed air automation system recapitalization represented manufacturer domestic imported hardwood lumber divestiture distribution business rugby architectural building product division hardwood distribution inc tsx hdi represented vertically integrated manufacturer technical performance fabric sale milliken company represented manufacturer wakeboard tower accessory custom patterned boat cover sale financial sponsor represented specialty mattress retailer 130 location midwest southeast sale mattress firm \n",
            "\n",
            "Recommended jobs:\n",
            "\n",
            "Job Title:  (USA) Senior Manager I, Advertising Sales -WMC\n",
            "Company: Walmart\n",
            "Job Description: bachelor degree marketing business advertising consumer psychology related field 5 year experience advertising sale advertising sale related field 8 year experience advertising sale advertising sale related field brand advertising example tv video sponsorship medium sale customer acquisition growth search mobile online sale managing client account shopper marketing sale ecommerce sale retail advertising sale search strategic advisor working clevel clientsmasters advertising master business master marketing master psychology\n",
            "Match Strength: Loose Match\n",
            "\n",
            "Job Title:  Partner Manager, Food (Senior Manager I, Advertising Sales)\n",
            "Company: Walmart\n",
            "Job Description: bachelor degree marketing business advertising consumer psychology related field 5 year experience advertising sale advertising sale related field 8 year experience advertising sale advertising sale related field brand advertising example tv video sponsorship medium sale customer acquisition growth search mobile online sale managing client account shopper marketing sale ecommerce sale retail advertising sale search strategic advisor working clevel clientsmasters advertising master business master marketing master psychology\n",
            "Match Strength: Loose Match\n",
            "\n",
            "Job Title:  (USA) Senior Manager I, Advertising Sales -WMC\n",
            "Company: Walmart\n",
            "Job Description: bachelor degree marketing business advertising consumer psychology related field 5 year experience advertising sale advertising sale related field 8 year experience advertising sale advertising sale related field brand advertising example tv video sponsorship medium sale customer acquisition growth search mobile online sale managing client account shopper marketing sale ecommerce sale retail advertising sale search strategic advisor working clevel clientsmasters advertising master business master marketing master psychology\n",
            "Match Strength: Loose Match\n",
            "\n",
            "Job Title:  (USA) Senior Manager I, Advertising Sales - Partner Manager, Consumables\n",
            "Company: Walmart\n",
            "Job Description: bachelor degree marketing business advertising consumer psychology related field 5 year experience advertising sale advertising sale related field 8 year experience advertising sale advertising sale related field brand advertising example tv video sponsorship medium sale customer acquisition growth search mobile online sale managing client account shopper marketing sale ecommerce sale retail advertising sale search strategic advisor working clevel clientsmasters advertising master business master marketing master psychology\n",
            "Match Strength: Loose Match\n",
            "\n",
            "Job Title:  Senior Manager I, Advertising Sales: Partner Manager, WMC (Home & Hardlines)\n",
            "Company: Walmart\n",
            "Job Description: bachelor degree marketing business advertising consumer psychology related field 5 year experience advertising sale advertising sale related field 8 year experience advertising sale advertising sale related field brand advertising example tv video sponsorship medium sale customer acquisition growth search mobile online sale managing client account shopper marketing sale ecommerce sale retail advertising sale search strategic advisor working clevel clientsmasters advertising master business master marketing master psychology\n",
            "Match Strength: Loose Match\n",
            "\n",
            "Job Title:  Partner Manager, Food (Senior Manager I, Advertising Sales)\n",
            "Company: Walmart\n",
            "Job Description: bachelor degree marketing business advertising consumer psychology related field 5 year experience advertising sale advertising sale related field 8 year experience advertising sale advertising sale related field brand advertising example tv video sponsorship medium sale customer acquisition growth search mobile online sale managing client account shopper marketing sale ecommerce sale retail advertising sale search strategic advisor working clevel clientsmasters advertising master business master marketing master psychology\n",
            "Match Strength: Loose Match\n",
            "\n",
            "Job Title:  Senior Manager I, Advertising Sales - Partner Manager, Consumables, Walmart Connect\n",
            "Company: Walmart\n",
            "Job Description: bachelor degree marketing business advertising consumer psychology related field 5 year experience advertising sale advertising sale related field 8 year experience advertising sale advertising sale related field brand advertising example tv video sponsorship medium sale customer acquisition growth search mobile online sale managing client account shopper marketing sale ecommerce sale retail advertising sale search strategic advisor working clevel clientsmasters advertising master business master marketing master psychology\n",
            "Match Strength: Loose Match\n",
            "\n",
            "Job Title:  Senior Manager I, Advertising Sales - Partner Manager, Consumables, Walmart Connect\n",
            "Company: Walmart\n",
            "Job Description: bachelor degree marketing business advertising consumer psychology related field 5 year experience advertising sale advertising sale related field 8 year experience advertising sale advertising sale related field brand advertising example tv video sponsorship medium sale customer acquisition growth search mobile online sale managing client account shopper marketing sale ecommerce sale retail advertising sale search strategic advisor working clevel clientsmasters advertising master business master marketing master psychology\n",
            "Match Strength: Loose Match\n",
            "\n",
            "Job Title:  Partner Manager, Walmart Connect\n",
            "Company: Walmart\n",
            "Job Description: bachelor degree marketing business advertising consumer psychology related field 5 year experience advertising sale advertising sale related field 8 year experience advertising sale advertising sale related field brand advertising example tv video sponsorship medium sale customer acquisition growth search mobile online sale managing client account shopper marketing sale ecommerce sale retail advertising sale search strategic advisor working clevel clientsmasters advertising master business master marketing master psychology\n",
            "Match Strength: Loose Match\n",
            "\n",
            "Job Title:  Senior Manager I, Advertising Sales - Partner Manager, Walmart Connect (Marketplace Team)\n",
            "Company: Walmart\n",
            "Job Description: bachelor degree marketing business advertising consumer psychology related field 5 year experience advertising sale advertising sale related field 8 year experience advertising sale advertising sale related field brand advertising example tv video sponsorship medium sale customer acquisition growth search mobile online sale managing client account shopper marketing sale ecommerce sale retail advertising sale search strategic advisor working clevel clientsmasters advertising master business master marketing master psychology\n",
            "Match Strength: Loose Match\n"
          ]
        }
      ]
    }
  ],
  "metadata": {
    "colab": {
      "provenance": [],
      "include_colab_link": true
    },
    "kernelspec": {
      "display_name": "Python 3 (ipykernel)",
      "language": "python",
      "name": "python3"
    },
    "language_info": {
      "codemirror_mode": {
        "name": "ipython",
        "version": 3
      },
      "file_extension": ".py",
      "mimetype": "text/x-python",
      "name": "python",
      "nbconvert_exporter": "python",
      "pygments_lexer": "ipython3",
      "version": "3.9.7"
    }
  },
  "nbformat": 4,
  "nbformat_minor": 0
}
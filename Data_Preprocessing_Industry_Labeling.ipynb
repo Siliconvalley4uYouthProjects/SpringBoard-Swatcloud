{
  "cells": [
    {
      "cell_type": "markdown",
      "metadata": {
        "id": "view-in-github",
        "colab_type": "text"
      },
      "source": [
        "<a href=\"https://colab.research.google.com/github/Siliconvalley4uYouthProjects/SpringBoard-Swatcloud/blob/main/Data_Preprocessing_Industry_Labeling.ipynb\" target=\"_parent\"><img src=\"https://colab.research.google.com/assets/colab-badge.svg\" alt=\"Open In Colab\"/></a>"
      ]
    },
    {
      "cell_type": "code",
      "execution_count": 1,
      "metadata": {
        "id": "Kecp0flNFkBh"
      },
      "outputs": [],
      "source": [
        "# Importing libraries\n",
        "\n",
        "import pandas as pd\n",
        "import numpy as np\n",
        "from sklearn.feature_extraction.text import CountVectorizer\n",
        "from sklearn.metrics.pairwise import cosine_similarity"
      ]
    },
    {
      "cell_type": "code",
      "source": [
        "df = pd.read_csv('swe_jobs.csv',header=None,names=['ID','Company','Job Title','Job URL'])\n",
        "df = df.iloc[1:]\n",
        "df"
      ],
      "metadata": {
        "colab": {
          "base_uri": "https://localhost:8080/",
          "height": 423
        },
        "id": "3xrIs6MW-Hn5",
        "outputId": "23cc06b9-6dab-4343-fc5d-f38c7b66b180"
      },
      "execution_count": null,
      "outputs": [
        {
          "output_type": "execute_result",
          "data": {
            "text/plain": [
              "          ID                  Company  \\\n",
              "1        0.0                   Amazon   \n",
              "2        1.0                   Amazon   \n",
              "3        2.0                   Amazon   \n",
              "4        3.0                   Amazon   \n",
              "5        4.0                   Amazon   \n",
              "...      ...                      ...   \n",
              "2530  2557.0        Mainz Brady Group   \n",
              "2531  2558.0              Brooksource   \n",
              "2532  2559.0  Internal Data Resources   \n",
              "2533  2560.0       Amware Fulfillment   \n",
              "2534  2561.0       Rose International   \n",
              "\n",
              "                                              Job Title  \\\n",
              "1                  Senior Software Development Engineer   \n",
              "2              Software Development Engineer - Payments   \n",
              "3               Software Development Engineer - Fintech   \n",
              "4                         Software Development Engineer   \n",
              "5     Embedded Software Development Engineer, Satell...   \n",
              "...                                                 ...   \n",
              "2530                            e-Commerce Data Analyst   \n",
              "2531                                       Data Analyst   \n",
              "2532                                   Sr. Data Analyst   \n",
              "2533                                   Business Analyst   \n",
              "2534                         Data Analyst/Report Writer   \n",
              "\n",
              "                                                Job URL  \n",
              "1     · 4+ years of professional software developmen...  \n",
              "2     · programming experience with at least one mod...  \n",
              "3     bachelor’s degree in computer science or relat...  \n",
              "4     1+ years of experience contributing to the sys...  \n",
              "5     1+ years of experience contributing to the sys...  \n",
              "...                                                 ...  \n",
              "2530  Microsoft Excel: 1 year (Required)\\nData Analy...  \n",
              "2531  Bachelor's degree in Computer Science, Informa...  \n",
              "2532  Work involves conducting detailed analysis of ...  \n",
              "2533  MS Excel to include advanced features such as ...  \n",
              "2534  Performs complex (journey-level) data analysis...  \n",
              "\n",
              "[2534 rows x 4 columns]"
            ],
            "text/html": [
              "\n",
              "  <div id=\"df-0d89889b-b06b-48d5-a7a2-2f962201fef0\">\n",
              "    <div class=\"colab-df-container\">\n",
              "      <div>\n",
              "<style scoped>\n",
              "    .dataframe tbody tr th:only-of-type {\n",
              "        vertical-align: middle;\n",
              "    }\n",
              "\n",
              "    .dataframe tbody tr th {\n",
              "        vertical-align: top;\n",
              "    }\n",
              "\n",
              "    .dataframe thead th {\n",
              "        text-align: right;\n",
              "    }\n",
              "</style>\n",
              "<table border=\"1\" class=\"dataframe\">\n",
              "  <thead>\n",
              "    <tr style=\"text-align: right;\">\n",
              "      <th></th>\n",
              "      <th>ID</th>\n",
              "      <th>Company</th>\n",
              "      <th>Job Title</th>\n",
              "      <th>Job URL</th>\n",
              "    </tr>\n",
              "  </thead>\n",
              "  <tbody>\n",
              "    <tr>\n",
              "      <th>1</th>\n",
              "      <td>0.0</td>\n",
              "      <td>Amazon</td>\n",
              "      <td>Senior Software Development Engineer</td>\n",
              "      <td>· 4+ years of professional software developmen...</td>\n",
              "    </tr>\n",
              "    <tr>\n",
              "      <th>2</th>\n",
              "      <td>1.0</td>\n",
              "      <td>Amazon</td>\n",
              "      <td>Software Development Engineer - Payments</td>\n",
              "      <td>· programming experience with at least one mod...</td>\n",
              "    </tr>\n",
              "    <tr>\n",
              "      <th>3</th>\n",
              "      <td>2.0</td>\n",
              "      <td>Amazon</td>\n",
              "      <td>Software Development Engineer - Fintech</td>\n",
              "      <td>bachelor’s degree in computer science or relat...</td>\n",
              "    </tr>\n",
              "    <tr>\n",
              "      <th>4</th>\n",
              "      <td>3.0</td>\n",
              "      <td>Amazon</td>\n",
              "      <td>Software Development Engineer</td>\n",
              "      <td>1+ years of experience contributing to the sys...</td>\n",
              "    </tr>\n",
              "    <tr>\n",
              "      <th>5</th>\n",
              "      <td>4.0</td>\n",
              "      <td>Amazon</td>\n",
              "      <td>Embedded Software Development Engineer, Satell...</td>\n",
              "      <td>1+ years of experience contributing to the sys...</td>\n",
              "    </tr>\n",
              "    <tr>\n",
              "      <th>...</th>\n",
              "      <td>...</td>\n",
              "      <td>...</td>\n",
              "      <td>...</td>\n",
              "      <td>...</td>\n",
              "    </tr>\n",
              "    <tr>\n",
              "      <th>2530</th>\n",
              "      <td>2557.0</td>\n",
              "      <td>Mainz Brady Group</td>\n",
              "      <td>e-Commerce Data Analyst</td>\n",
              "      <td>Microsoft Excel: 1 year (Required)\\nData Analy...</td>\n",
              "    </tr>\n",
              "    <tr>\n",
              "      <th>2531</th>\n",
              "      <td>2558.0</td>\n",
              "      <td>Brooksource</td>\n",
              "      <td>Data Analyst</td>\n",
              "      <td>Bachelor's degree in Computer Science, Informa...</td>\n",
              "    </tr>\n",
              "    <tr>\n",
              "      <th>2532</th>\n",
              "      <td>2559.0</td>\n",
              "      <td>Internal Data Resources</td>\n",
              "      <td>Sr. Data Analyst</td>\n",
              "      <td>Work involves conducting detailed analysis of ...</td>\n",
              "    </tr>\n",
              "    <tr>\n",
              "      <th>2533</th>\n",
              "      <td>2560.0</td>\n",
              "      <td>Amware Fulfillment</td>\n",
              "      <td>Business Analyst</td>\n",
              "      <td>MS Excel to include advanced features such as ...</td>\n",
              "    </tr>\n",
              "    <tr>\n",
              "      <th>2534</th>\n",
              "      <td>2561.0</td>\n",
              "      <td>Rose International</td>\n",
              "      <td>Data Analyst/Report Writer</td>\n",
              "      <td>Performs complex (journey-level) data analysis...</td>\n",
              "    </tr>\n",
              "  </tbody>\n",
              "</table>\n",
              "<p>2534 rows × 4 columns</p>\n",
              "</div>\n",
              "      <button class=\"colab-df-convert\" onclick=\"convertToInteractive('df-0d89889b-b06b-48d5-a7a2-2f962201fef0')\"\n",
              "              title=\"Convert this dataframe to an interactive table.\"\n",
              "              style=\"display:none;\">\n",
              "        \n",
              "  <svg xmlns=\"http://www.w3.org/2000/svg\" height=\"24px\"viewBox=\"0 0 24 24\"\n",
              "       width=\"24px\">\n",
              "    <path d=\"M0 0h24v24H0V0z\" fill=\"none\"/>\n",
              "    <path d=\"M18.56 5.44l.94 2.06.94-2.06 2.06-.94-2.06-.94-.94-2.06-.94 2.06-2.06.94zm-11 1L8.5 8.5l.94-2.06 2.06-.94-2.06-.94L8.5 2.5l-.94 2.06-2.06.94zm10 10l.94 2.06.94-2.06 2.06-.94-2.06-.94-.94-2.06-.94 2.06-2.06.94z\"/><path d=\"M17.41 7.96l-1.37-1.37c-.4-.4-.92-.59-1.43-.59-.52 0-1.04.2-1.43.59L10.3 9.45l-7.72 7.72c-.78.78-.78 2.05 0 2.83L4 21.41c.39.39.9.59 1.41.59.51 0 1.02-.2 1.41-.59l7.78-7.78 2.81-2.81c.8-.78.8-2.07 0-2.86zM5.41 20L4 18.59l7.72-7.72 1.47 1.35L5.41 20z\"/>\n",
              "  </svg>\n",
              "      </button>\n",
              "      \n",
              "  <style>\n",
              "    .colab-df-container {\n",
              "      display:flex;\n",
              "      flex-wrap:wrap;\n",
              "      gap: 12px;\n",
              "    }\n",
              "\n",
              "    .colab-df-convert {\n",
              "      background-color: #E8F0FE;\n",
              "      border: none;\n",
              "      border-radius: 50%;\n",
              "      cursor: pointer;\n",
              "      display: none;\n",
              "      fill: #1967D2;\n",
              "      height: 32px;\n",
              "      padding: 0 0 0 0;\n",
              "      width: 32px;\n",
              "    }\n",
              "\n",
              "    .colab-df-convert:hover {\n",
              "      background-color: #E2EBFA;\n",
              "      box-shadow: 0px 1px 2px rgba(60, 64, 67, 0.3), 0px 1px 3px 1px rgba(60, 64, 67, 0.15);\n",
              "      fill: #174EA6;\n",
              "    }\n",
              "\n",
              "    [theme=dark] .colab-df-convert {\n",
              "      background-color: #3B4455;\n",
              "      fill: #D2E3FC;\n",
              "    }\n",
              "\n",
              "    [theme=dark] .colab-df-convert:hover {\n",
              "      background-color: #434B5C;\n",
              "      box-shadow: 0px 1px 3px 1px rgba(0, 0, 0, 0.15);\n",
              "      filter: drop-shadow(0px 1px 2px rgba(0, 0, 0, 0.3));\n",
              "      fill: #FFFFFF;\n",
              "    }\n",
              "  </style>\n",
              "\n",
              "      <script>\n",
              "        const buttonEl =\n",
              "          document.querySelector('#df-0d89889b-b06b-48d5-a7a2-2f962201fef0 button.colab-df-convert');\n",
              "        buttonEl.style.display =\n",
              "          google.colab.kernel.accessAllowed ? 'block' : 'none';\n",
              "\n",
              "        async function convertToInteractive(key) {\n",
              "          const element = document.querySelector('#df-0d89889b-b06b-48d5-a7a2-2f962201fef0');\n",
              "          const dataTable =\n",
              "            await google.colab.kernel.invokeFunction('convertToInteractive',\n",
              "                                                     [key], {});\n",
              "          if (!dataTable) return;\n",
              "\n",
              "          const docLinkHtml = 'Like what you see? Visit the ' +\n",
              "            '<a target=\"_blank\" href=https://colab.research.google.com/notebooks/data_table.ipynb>data table notebook</a>'\n",
              "            + ' to learn more about interactive tables.';\n",
              "          element.innerHTML = '';\n",
              "          dataTable['output_type'] = 'display_data';\n",
              "          await google.colab.output.renderOutput(dataTable, element);\n",
              "          const docLink = document.createElement('div');\n",
              "          docLink.innerHTML = docLinkHtml;\n",
              "          element.appendChild(docLink);\n",
              "        }\n",
              "      </script>\n",
              "    </div>\n",
              "  </div>\n",
              "  "
            ]
          },
          "metadata": {},
          "execution_count": 4
        }
      ]
    },
    {
      "cell_type": "code",
      "source": [
        "agg = []\n",
        "for title in df.iloc[:,2]:\n",
        "  agg.append(title)"
      ],
      "metadata": {
        "id": "FrLtiOxLMsTN"
      },
      "execution_count": null,
      "outputs": []
    },
    {
      "cell_type": "code",
      "source": [
        "#Counts of different words in the job titles\n",
        "vectorizer = CountVectorizer(ngram_range = (1,4),stop_words = 'english')\n",
        "cv = vectorizer.fit_transform(agg)\n",
        "counts = pd.DataFrame(vectorizer.fit_transform(agg).sum(axis=0),\n",
        "                      columns=vectorizer.get_feature_names())\n",
        "counts = counts.T\n",
        "common_words = counts[0].sort_values(ascending=False)[:50]\n",
        "print(common_words)"
      ],
      "metadata": {
        "id": "5OWr7k-zL_S1",
        "colab": {
          "base_uri": "https://localhost:8080/"
        },
        "outputId": "9c84f4ca-c90a-4570-e045-c70b78b950ac"
      },
      "execution_count": null,
      "outputs": [
        {
          "output_type": "stream",
          "name": "stdout",
          "text": [
            "engineer                            1465\n",
            "software                            1175\n",
            "software engineer                    567\n",
            "manager                              497\n",
            "development                          376\n",
            "senior                               331\n",
            "development engineer                 311\n",
            "software development                 303\n",
            "ii                                   284\n",
            "software development engineer        261\n",
            "engineering                          200\n",
            "data                                 168\n",
            "engineer ii                          166\n",
            "principal                            165\n",
            "program                              150\n",
            "google                               144\n",
            "product                              140\n",
            "iii                                  138\n",
            "cloud                                131\n",
            "program manager                      130\n",
            "senior software                      128\n",
            "technical                            121\n",
            "sr                                   115\n",
            "product manager                      110\n",
            "scientist                            109\n",
            "google cloud                         106\n",
            "systems                              105\n",
            "senior software engineer             104\n",
            "2023                                  98\n",
            "amazon                                88\n",
            "engineer iii                          87\n",
            "infrastructure                        85\n",
            "technical program                     82\n",
            "staff                                 80\n",
            "technical program manager             80\n",
            "development engineer ii               79\n",
            "research                              78\n",
            "support                               76\n",
            "software engineering                  76\n",
            "staff software                        68\n",
            "developer                             66\n",
            "design                                66\n",
            "business                              65\n",
            "software development engineer ii      65\n",
            "staff software engineer               64\n",
            "security                              64\n",
            "engineering manager                   62\n",
            "internship                            61\n",
            "intern                                61\n",
            "embedded                              60\n",
            "Name: 0, dtype: int64\n"
          ]
        }
      ]
    },
    {
      "cell_type": "code",
      "source": [
        "#Labeling the software engineering & tech related jobs\n",
        "\n",
        "import nltk\n",
        "industries = ['Software Engineering','Business','Data Analysis','PM']\n",
        "swe_keywords = ['engineer','software','development','developer']\n",
        "bus_keywords = ['operations','business']\n",
        "data_keywords = ['data']\n",
        "pm_keywords = ['program','product']\n",
        "\n",
        "ind = []\n",
        "for i in range(len(df)):\n",
        "  if len(ind) == len(df):\n",
        "    break\n",
        "  try:\n",
        "    if j == 0:\n",
        "    #This means that there were no keywords found in the entire job title\n",
        "      ind.append('Technology (Non-SWE)')\n",
        "  except:\n",
        "    pass\n",
        "  j = 0\n",
        "  for word in df.iloc[i,2].lower().split(' '):\n",
        "    word = ''.join(x for x in word if x.isalnum())\n",
        "    if word in swe_keywords:\n",
        "      ind.append('Software Engineering')\n",
        "      j += 1\n",
        "    elif word in bus_keywords:\n",
        "      ind.append('Operations')\n",
        "      j += 1\n",
        "    elif word in data_keywords:\n",
        "      ind.append('Data Analysis')\n",
        "      j += 1\n",
        "    elif word in pm_keywords:\n",
        "      ind.append('PM')\n",
        "      j += 1\n",
        "    if j != 0:\n",
        "      break   \n",
        "df['Industry'] = ind\n",
        "df['Industry'].value_counts()"
      ],
      "metadata": {
        "colab": {
          "base_uri": "https://localhost:8080/"
        },
        "id": "sk12J9Bp-uif",
        "outputId": "0c765aeb-a203-4850-ca69-05fc828a0f71"
      },
      "execution_count": null,
      "outputs": [
        {
          "output_type": "execute_result",
          "data": {
            "text/plain": [
              "Software Engineering    1594\n",
              "Technology (Non-SWE)     482\n",
              "PM                       263\n",
              "Data Analysis            133\n",
              "Operations                62\n",
              "Name: Industry, dtype: int64"
            ]
          },
          "metadata": {},
          "execution_count": 26
        }
      ]
    },
    {
      "cell_type": "code",
      "source": [
        "df.to_csv('tech_jobs_labeled.csv')"
      ],
      "metadata": {
        "id": "bIOPcy1Q0Nml"
      },
      "execution_count": null,
      "outputs": []
    },
    {
      "cell_type": "code",
      "source": [
        "#Labeling the marketing & business related jobs\n",
        "df = pd.read_csv('marketing_job_descriptions.csv',header=None,names=['Industry','Company','Job Title','Job Description'],skiprows=1)\n",
        "\n",
        "swe_keywords = ['engineer','software','development','developer']\n",
        "bus_keywords = ['operations','business']\n",
        "data_keywords = ['data','analyst']\n",
        "pm_keywords = ['program','product']\n",
        "marketing_keywords = ['media','ux','marketing']\n",
        "\n",
        "ind = []\n",
        "for i in range(len(df)):\n",
        "  j = 0\n",
        "  k = 0\n",
        "  for word in df.iloc[i,2].lower().split(' '):\n",
        "    if k == len(df.iloc[i,2].lower().split(' ')):\n",
        "      #This means that there were no keywords found in the entire job title\n",
        "      ind.append('Other Business Related')\n",
        "      break\n",
        "    word = ''.join(x for x in word if x.isalnum())\n",
        "    if word in swe_keywords:\n",
        "      ind.append('Software Engineering')\n",
        "      j += 1\n",
        "    elif word in bus_keywords:\n",
        "      ind.append('Business & Operations')\n",
        "      j += 1\n",
        "    elif word in data_keywords:\n",
        "      ind.append('Data Analysis')\n",
        "      j += 1\n",
        "    elif word in marketing_keywords:\n",
        "      ind.append('Marketing')\n",
        "      j += 1\n",
        "    elif word in pm_keywords:\n",
        "      ind.append('Product/Program Management')\n",
        "      j += 1\n",
        "    else:\n",
        "      k += 1\n",
        "    if j != 0:\n",
        "      break\n",
        "    if k == len(df.iloc[i,2].lower().split(' ')):\n",
        "      #This means that there were no keywords found in the entire job title\n",
        "      ind.append('Other Business Related')\n",
        "      break  \n",
        "df['Industry'] = ind\n",
        "df['Industry'].value_counts()"
      ],
      "metadata": {
        "colab": {
          "base_uri": "https://localhost:8080/"
        },
        "id": "X3aoJjHDFQAQ",
        "outputId": "c8e0782f-2721-4e3a-cdd2-7d39816bb8f2"
      },
      "execution_count": 57,
      "outputs": [
        {
          "output_type": "execute_result",
          "data": {
            "text/plain": [
              "Other Business Related        710\n",
              "Product/Program Management    259\n",
              "Business & Operations         186\n",
              "Marketing                     137\n",
              "Software Engineering           82\n",
              "Data Analysis                  50\n",
              "Name: Industry, dtype: int64"
            ]
          },
          "metadata": {},
          "execution_count": 57
        }
      ]
    },
    {
      "cell_type": "code",
      "source": [
        "df[df['Industry']=='Other Business Related']['Job Title'].value_counts()"
      ],
      "metadata": {
        "colab": {
          "base_uri": "https://localhost:8080/"
        },
        "id": "FHV4F25bIamd",
        "outputId": "b90b5d56-eb2b-4129-b554-140ae0f13c8a"
      },
      "execution_count": 60,
      "outputs": [
        {
          "output_type": "execute_result",
          "data": {
            "text/plain": [
              "Account Manager                                                             5\n",
              "Account Manager 1, Inside Sales                                             4\n",
              "Professional Services II #0000                                              4\n",
              "Brand Specialist                                                            3\n",
              "2023 Applied Science Internship - Machine Learning - United States          2\n",
              "                                                                           ..\n",
              "Account Executive                                                           1\n",
              "Vietnam Seller Edu Lead, Asia Seller Education                              1\n",
              "Account Exec Global Selling KR                                              1\n",
              "Live Broadcast Manager, CN , Asia Seller Education                          1\n",
              "2023 J&J Quality & Compliance Organization - Co-Op and Summer Internship    1\n",
              "Name: Job Title, Length: 671, dtype: int64"
            ]
          },
          "metadata": {},
          "execution_count": 60
        }
      ]
    },
    {
      "cell_type": "code",
      "source": [
        "df.to_csv('marketing_jobs_labeled.csv')"
      ],
      "metadata": {
        "id": "rekVUJ8MS0U0"
      },
      "execution_count": 61,
      "outputs": []
    }
  ],
  "metadata": {
    "colab": {
      "provenance": [],
      "include_colab_link": true
    },
    "kernelspec": {
      "display_name": "Python 3 (ipykernel)",
      "language": "python",
      "name": "python3"
    },
    "language_info": {
      "codemirror_mode": {
        "name": "ipython",
        "version": 3
      },
      "file_extension": ".py",
      "mimetype": "text/x-python",
      "name": "python",
      "nbconvert_exporter": "python",
      "pygments_lexer": "ipython3",
      "version": "3.9.7"
    }
  },
  "nbformat": 4,
  "nbformat_minor": 0
}
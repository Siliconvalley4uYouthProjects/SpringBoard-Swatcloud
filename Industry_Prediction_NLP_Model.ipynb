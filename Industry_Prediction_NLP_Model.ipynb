{
  "nbformat": 4,
  "nbformat_minor": 0,
  "metadata": {
    "colab": {
      "provenance": [],
      "include_colab_link": true
    },
    "kernelspec": {
      "name": "python3",
      "display_name": "Python 3"
    },
    "language_info": {
      "name": "python"
    }
  },
  "cells": [
    {
      "cell_type": "markdown",
      "metadata": {
        "id": "view-in-github",
        "colab_type": "text"
      },
      "source": [
        "<a href=\"https://colab.research.google.com/github/Siliconvalley4uYouthProjects/SpringBoard-Swatcloud/blob/main/Industry_Prediction_NLP_Model.ipynb\" target=\"_parent\"><img src=\"https://colab.research.google.com/assets/colab-badge.svg\" alt=\"Open In Colab\"/></a>"
      ]
    },
    {
      "cell_type": "code",
      "execution_count": 1,
      "metadata": {
        "id": "p39foWtcHcJ7",
        "colab": {
          "base_uri": "https://localhost:8080/"
        },
        "outputId": "86f817c4-41ec-4461-a259-701ea162a798"
      },
      "outputs": [
        {
          "output_type": "stream",
          "name": "stderr",
          "text": [
            "[nltk_data] Downloading package wordnet to /root/nltk_data...\n",
            "[nltk_data] Downloading package omw-1.4 to /root/nltk_data...\n",
            "[nltk_data] Downloading package stopwords to /root/nltk_data...\n",
            "[nltk_data]   Unzipping corpora/stopwords.zip.\n"
          ]
        }
      ],
      "source": [
        "import pandas as pd\n",
        "import tensorflow as tf\n",
        "import numpy as np\n",
        "import regex as re\n",
        "import nltk\n",
        "from tensorflow import keras\n",
        "from tensorflow.keras.preprocessing.text import Tokenizer\n",
        "from tensorflow.keras.preprocessing.sequence import pad_sequences\n",
        "from nltk.corpus import stopwords\n",
        "from nltk.stem import WordNetLemmatizer\n",
        "from sklearn.feature_extraction.text import CountVectorizer\n",
        "lemmatizer = WordNetLemmatizer()\n",
        "nltk.download('wordnet')\n",
        "nltk.download('omw-1.4')\n",
        "nltk.download('stopwords')\n",
        "tf.config.run_functions_eagerly(True)\n",
        "tf.data.experimental.enable_debug_mode()"
      ]
    },
    {
      "cell_type": "code",
      "source": [
        "df = pd.read_csv('swe_marketing_jobs.csv',header=None,names=['Industry','Company','Job Title','Job Description'],skiprows=1)\n",
        "\n",
        "# Adding all job descriptions\n",
        "jd = []\n",
        "for jobs in df['Job Description'].astype(str):\n",
        "  jd.append(jobs)"
      ],
      "metadata": {
        "id": "xaLKZ4bdItjE"
      },
      "execution_count": 2,
      "outputs": []
    },
    {
      "cell_type": "code",
      "source": [
        "df.head()"
      ],
      "metadata": {
        "colab": {
          "base_uri": "https://localhost:8080/",
          "height": 206
        },
        "id": "gyF5Aucjn1v4",
        "outputId": "7e60bcfc-9238-4b98-c56b-da74d8b6f45b"
      },
      "execution_count": 3,
      "outputs": [
        {
          "output_type": "execute_result",
          "data": {
            "text/plain": [
              "               Industry Company  \\\n",
              "0  Software Engineering  Amazon   \n",
              "1  Software Engineering  Amazon   \n",
              "2  Software Engineering  Amazon   \n",
              "3  Software Engineering  Amazon   \n",
              "4  Software Engineering  Amazon   \n",
              "\n",
              "                                           Job Title  \\\n",
              "0               Senior Software Development Engineer   \n",
              "1           Software Development Engineer - Payments   \n",
              "2            Software Development Engineer - Fintech   \n",
              "3                      Software Development Engineer   \n",
              "4  Embedded Software Development Engineer, Satell...   \n",
              "\n",
              "                                     Job Description  \n",
              "0   4 year professional software development expe...  \n",
              "1   programming experience least one modern langu...  \n",
              "2  bachelor degree computer science related field...  \n",
              "3  1 year experience contributing system design a...  \n",
              "4  1 year experience contributing system design a...  "
            ],
            "text/html": [
              "\n",
              "  <div id=\"df-e8cb656e-9a21-47ad-b0b8-352321bd3683\">\n",
              "    <div class=\"colab-df-container\">\n",
              "      <div>\n",
              "<style scoped>\n",
              "    .dataframe tbody tr th:only-of-type {\n",
              "        vertical-align: middle;\n",
              "    }\n",
              "\n",
              "    .dataframe tbody tr th {\n",
              "        vertical-align: top;\n",
              "    }\n",
              "\n",
              "    .dataframe thead th {\n",
              "        text-align: right;\n",
              "    }\n",
              "</style>\n",
              "<table border=\"1\" class=\"dataframe\">\n",
              "  <thead>\n",
              "    <tr style=\"text-align: right;\">\n",
              "      <th></th>\n",
              "      <th>Industry</th>\n",
              "      <th>Company</th>\n",
              "      <th>Job Title</th>\n",
              "      <th>Job Description</th>\n",
              "    </tr>\n",
              "  </thead>\n",
              "  <tbody>\n",
              "    <tr>\n",
              "      <th>0</th>\n",
              "      <td>Software Engineering</td>\n",
              "      <td>Amazon</td>\n",
              "      <td>Senior Software Development Engineer</td>\n",
              "      <td>4 year professional software development expe...</td>\n",
              "    </tr>\n",
              "    <tr>\n",
              "      <th>1</th>\n",
              "      <td>Software Engineering</td>\n",
              "      <td>Amazon</td>\n",
              "      <td>Software Development Engineer - Payments</td>\n",
              "      <td>programming experience least one modern langu...</td>\n",
              "    </tr>\n",
              "    <tr>\n",
              "      <th>2</th>\n",
              "      <td>Software Engineering</td>\n",
              "      <td>Amazon</td>\n",
              "      <td>Software Development Engineer - Fintech</td>\n",
              "      <td>bachelor degree computer science related field...</td>\n",
              "    </tr>\n",
              "    <tr>\n",
              "      <th>3</th>\n",
              "      <td>Software Engineering</td>\n",
              "      <td>Amazon</td>\n",
              "      <td>Software Development Engineer</td>\n",
              "      <td>1 year experience contributing system design a...</td>\n",
              "    </tr>\n",
              "    <tr>\n",
              "      <th>4</th>\n",
              "      <td>Software Engineering</td>\n",
              "      <td>Amazon</td>\n",
              "      <td>Embedded Software Development Engineer, Satell...</td>\n",
              "      <td>1 year experience contributing system design a...</td>\n",
              "    </tr>\n",
              "  </tbody>\n",
              "</table>\n",
              "</div>\n",
              "      <button class=\"colab-df-convert\" onclick=\"convertToInteractive('df-e8cb656e-9a21-47ad-b0b8-352321bd3683')\"\n",
              "              title=\"Convert this dataframe to an interactive table.\"\n",
              "              style=\"display:none;\">\n",
              "        \n",
              "  <svg xmlns=\"http://www.w3.org/2000/svg\" height=\"24px\"viewBox=\"0 0 24 24\"\n",
              "       width=\"24px\">\n",
              "    <path d=\"M0 0h24v24H0V0z\" fill=\"none\"/>\n",
              "    <path d=\"M18.56 5.44l.94 2.06.94-2.06 2.06-.94-2.06-.94-.94-2.06-.94 2.06-2.06.94zm-11 1L8.5 8.5l.94-2.06 2.06-.94-2.06-.94L8.5 2.5l-.94 2.06-2.06.94zm10 10l.94 2.06.94-2.06 2.06-.94-2.06-.94-.94-2.06-.94 2.06-2.06.94z\"/><path d=\"M17.41 7.96l-1.37-1.37c-.4-.4-.92-.59-1.43-.59-.52 0-1.04.2-1.43.59L10.3 9.45l-7.72 7.72c-.78.78-.78 2.05 0 2.83L4 21.41c.39.39.9.59 1.41.59.51 0 1.02-.2 1.41-.59l7.78-7.78 2.81-2.81c.8-.78.8-2.07 0-2.86zM5.41 20L4 18.59l7.72-7.72 1.47 1.35L5.41 20z\"/>\n",
              "  </svg>\n",
              "      </button>\n",
              "      \n",
              "  <style>\n",
              "    .colab-df-container {\n",
              "      display:flex;\n",
              "      flex-wrap:wrap;\n",
              "      gap: 12px;\n",
              "    }\n",
              "\n",
              "    .colab-df-convert {\n",
              "      background-color: #E8F0FE;\n",
              "      border: none;\n",
              "      border-radius: 50%;\n",
              "      cursor: pointer;\n",
              "      display: none;\n",
              "      fill: #1967D2;\n",
              "      height: 32px;\n",
              "      padding: 0 0 0 0;\n",
              "      width: 32px;\n",
              "    }\n",
              "\n",
              "    .colab-df-convert:hover {\n",
              "      background-color: #E2EBFA;\n",
              "      box-shadow: 0px 1px 2px rgba(60, 64, 67, 0.3), 0px 1px 3px 1px rgba(60, 64, 67, 0.15);\n",
              "      fill: #174EA6;\n",
              "    }\n",
              "\n",
              "    [theme=dark] .colab-df-convert {\n",
              "      background-color: #3B4455;\n",
              "      fill: #D2E3FC;\n",
              "    }\n",
              "\n",
              "    [theme=dark] .colab-df-convert:hover {\n",
              "      background-color: #434B5C;\n",
              "      box-shadow: 0px 1px 3px 1px rgba(0, 0, 0, 0.15);\n",
              "      filter: drop-shadow(0px 1px 2px rgba(0, 0, 0, 0.3));\n",
              "      fill: #FFFFFF;\n",
              "    }\n",
              "  </style>\n",
              "\n",
              "      <script>\n",
              "        const buttonEl =\n",
              "          document.querySelector('#df-e8cb656e-9a21-47ad-b0b8-352321bd3683 button.colab-df-convert');\n",
              "        buttonEl.style.display =\n",
              "          google.colab.kernel.accessAllowed ? 'block' : 'none';\n",
              "\n",
              "        async function convertToInteractive(key) {\n",
              "          const element = document.querySelector('#df-e8cb656e-9a21-47ad-b0b8-352321bd3683');\n",
              "          const dataTable =\n",
              "            await google.colab.kernel.invokeFunction('convertToInteractive',\n",
              "                                                     [key], {});\n",
              "          if (!dataTable) return;\n",
              "\n",
              "          const docLinkHtml = 'Like what you see? Visit the ' +\n",
              "            '<a target=\"_blank\" href=https://colab.research.google.com/notebooks/data_table.ipynb>data table notebook</a>'\n",
              "            + ' to learn more about interactive tables.';\n",
              "          element.innerHTML = '';\n",
              "          dataTable['output_type'] = 'display_data';\n",
              "          await google.colab.output.renderOutput(dataTable, element);\n",
              "          const docLink = document.createElement('div');\n",
              "          docLink.innerHTML = docLinkHtml;\n",
              "          element.appendChild(docLink);\n",
              "        }\n",
              "      </script>\n",
              "    </div>\n",
              "  </div>\n",
              "  "
            ]
          },
          "metadata": {},
          "execution_count": 3
        }
      ]
    },
    {
      "cell_type": "code",
      "source": [
        "#Our job titles will serve as 'labels'\n",
        "labels = []\n",
        "for titles in df['Industry']:\n",
        "  labels.append(titles)"
      ],
      "metadata": {
        "id": "C1SPwgeMjr-j"
      },
      "execution_count": 4,
      "outputs": []
    },
    {
      "cell_type": "code",
      "source": [
        "#Split our data into training, validation, and testing sets\n",
        "from sklearn.model_selection import train_test_split\n",
        "train_jd,rem_jd,train_labels,rem_labels = train_test_split(jd,labels,train_size=0.8)\n",
        "val_jd,test_jd,val_labels,test_labels = train_test_split(rem_jd,rem_labels,train_size=0.5)"
      ],
      "metadata": {
        "id": "GXgzARbxuzIA"
      },
      "execution_count": 5,
      "outputs": []
    },
    {
      "cell_type": "code",
      "source": [
        "#Hyperparameters\n",
        "vocab_size = 10000\n",
        "embedding_dim = 32\n",
        "max_length = 16\n",
        "trunc_type = 'post'\n",
        "padding_type = 'post'\n",
        "oov_tok = \"<OOV>\"\n",
        "training_size = 20000\n",
        "\n",
        "#Tokenize our job descriptions\n",
        "tokenizer = Tokenizer(num_words = vocab_size, oov_token = oov_tok)\n",
        "tokenizer.fit_on_texts(jd)\n",
        "word_index = tokenizer.word_index\n",
        "train_sequences = tokenizer.texts_to_sequences(train_jd)\n",
        "val_sequences = tokenizer.texts_to_sequences(val_jd)\n",
        "test_sequences = tokenizer.texts_to_sequences(test_jd)\n",
        "train_padded = pad_sequences(train_sequences,padding=padding_type, maxlen=max_length)\n",
        "val_padded = pad_sequences(val_sequences,padding=padding_type, maxlen=max_length)\n",
        "test_padded = pad_sequences(test_sequences,padding=padding_type, maxlen=max_length)"
      ],
      "metadata": {
        "id": "6i_M535sIpjz"
      },
      "execution_count": 6,
      "outputs": []
    },
    {
      "cell_type": "code",
      "source": [
        "classes = set(labels)\n",
        "class_to_index = dict((c,i) for i, c in enumerate(classes))\n",
        "index_to_class = dict((v,k) for k, v in class_to_index.items())\n",
        "names_to_ids = lambda labels: np.array([class_to_index.get(x) for x in labels])\n",
        "train_labels = names_to_ids(train_labels)\n",
        "val_labels = names_to_ids(val_labels)\n",
        "test_labels = names_to_ids(test_labels)"
      ],
      "metadata": {
        "id": "_Tk-B8AC-HKB"
      },
      "execution_count": 7,
      "outputs": []
    },
    {
      "cell_type": "code",
      "source": [
        "model = tf.keras.models.Sequential([\n",
        "tf.keras.layers.Embedding(vocab_size,embedding_dim,input_length=max_length),\n",
        "tf.keras.layers.Bidirectional(tf.keras.layers.LSTM(64, return_sequences=True)),\n",
        "tf.keras.layers.Bidirectional(tf.keras.layers.LSTM(64)),\n",
        "tf.keras.layers.Dense(9, activation='softmax')\n",
        "])\n",
        "\n",
        "model.compile(\n",
        "     loss='sparse_categorical_crossentropy',\n",
        "     optimizer='adam',\n",
        "     metrics=['accuracy']\n",
        ")\n",
        "\n",
        "model.summary()"
      ],
      "metadata": {
        "id": "7woBMHYwLvng",
        "colab": {
          "base_uri": "https://localhost:8080/"
        },
        "outputId": "a617df5b-6d9f-42a3-dc9f-13ba9599c55d"
      },
      "execution_count": 8,
      "outputs": [
        {
          "output_type": "stream",
          "name": "stdout",
          "text": [
            "Model: \"sequential\"\n",
            "_________________________________________________________________\n",
            " Layer (type)                Output Shape              Param #   \n",
            "=================================================================\n",
            " embedding (Embedding)       (None, 16, 32)            320000    \n",
            "                                                                 \n",
            " bidirectional (Bidirectiona  (None, 16, 128)          49664     \n",
            " l)                                                              \n",
            "                                                                 \n",
            " bidirectional_1 (Bidirectio  (None, 128)              98816     \n",
            " nal)                                                            \n",
            "                                                                 \n",
            " dense (Dense)               (None, 9)                 1161      \n",
            "                                                                 \n",
            "=================================================================\n",
            "Total params: 469,641\n",
            "Trainable params: 469,641\n",
            "Non-trainable params: 0\n",
            "_________________________________________________________________\n"
          ]
        }
      ]
    },
    {
      "cell_type": "code",
      "source": [
        "classes"
      ],
      "metadata": {
        "colab": {
          "base_uri": "https://localhost:8080/"
        },
        "id": "cK4VEhXYDIq4",
        "outputId": "b4db4ef0-ff17-4108-90f9-ada2d78f2278"
      },
      "execution_count": 9,
      "outputs": [
        {
          "output_type": "execute_result",
          "data": {
            "text/plain": [
              "{'Cybersecurity & IT',\n",
              " 'Data Analysis',\n",
              " 'Marketing',\n",
              " 'Operations & Finance',\n",
              " 'Other Business Related',\n",
              " 'Product Management',\n",
              " 'Research Scientist',\n",
              " 'Software Engineering',\n",
              " 'Technology (Non-SWE)'}"
            ]
          },
          "metadata": {},
          "execution_count": 9
        }
      ]
    },
    {
      "cell_type": "code",
      "source": [
        "num_epochs=20\n",
        "history = model.fit(train_padded,train_labels,epochs=num_epochs,validation_data=(val_padded,val_labels),verbose=2)"
      ],
      "metadata": {
        "colab": {
          "base_uri": "https://localhost:8080/"
        },
        "id": "coXyCdojeATN",
        "outputId": "72f3575b-6435-4c82-ec1c-396b90d128ef"
      },
      "execution_count": 10,
      "outputs": [
        {
          "output_type": "stream",
          "name": "stdout",
          "text": [
            "Epoch 1/20\n",
            "142/142 - 25s - loss: 1.5987 - accuracy: 0.4855 - val_loss: 1.3422 - val_accuracy: 0.5563 - 25s/epoch - 173ms/step\n",
            "Epoch 2/20\n",
            "142/142 - 26s - loss: 1.2065 - accuracy: 0.5878 - val_loss: 1.2205 - val_accuracy: 0.5951 - 26s/epoch - 181ms/step\n",
            "Epoch 3/20\n",
            "142/142 - 25s - loss: 0.9185 - accuracy: 0.6871 - val_loss: 1.1574 - val_accuracy: 0.6039 - 25s/epoch - 175ms/step\n",
            "Epoch 4/20\n",
            "142/142 - 25s - loss: 0.7063 - accuracy: 0.7687 - val_loss: 1.1838 - val_accuracy: 0.6197 - 25s/epoch - 173ms/step\n",
            "Epoch 5/20\n",
            "142/142 - 25s - loss: 0.5561 - accuracy: 0.8176 - val_loss: 1.2194 - val_accuracy: 0.6215 - 25s/epoch - 175ms/step\n",
            "Epoch 6/20\n",
            "142/142 - 25s - loss: 0.4668 - accuracy: 0.8457 - val_loss: 1.2944 - val_accuracy: 0.6444 - 25s/epoch - 176ms/step\n",
            "Epoch 7/20\n",
            "142/142 - 24s - loss: 0.3751 - accuracy: 0.8757 - val_loss: 1.4134 - val_accuracy: 0.6391 - 24s/epoch - 170ms/step\n",
            "Epoch 8/20\n",
            "142/142 - 24s - loss: 0.3258 - accuracy: 0.8917 - val_loss: 1.4705 - val_accuracy: 0.6356 - 24s/epoch - 171ms/step\n",
            "Epoch 9/20\n",
            "142/142 - 25s - loss: 0.2898 - accuracy: 0.9038 - val_loss: 1.5449 - val_accuracy: 0.6356 - 25s/epoch - 176ms/step\n",
            "Epoch 10/20\n",
            "142/142 - 24s - loss: 0.2690 - accuracy: 0.9034 - val_loss: 1.5855 - val_accuracy: 0.6268 - 24s/epoch - 171ms/step\n",
            "Epoch 11/20\n",
            "142/142 - 24s - loss: 0.2597 - accuracy: 0.9045 - val_loss: 1.6026 - val_accuracy: 0.6391 - 24s/epoch - 171ms/step\n",
            "Epoch 12/20\n",
            "142/142 - 25s - loss: 0.2398 - accuracy: 0.9157 - val_loss: 1.7859 - val_accuracy: 0.6356 - 25s/epoch - 178ms/step\n",
            "Epoch 13/20\n",
            "142/142 - 24s - loss: 0.2250 - accuracy: 0.9186 - val_loss: 1.7177 - val_accuracy: 0.6426 - 24s/epoch - 170ms/step\n",
            "Epoch 14/20\n",
            "142/142 - 24s - loss: 0.2185 - accuracy: 0.9170 - val_loss: 1.9375 - val_accuracy: 0.6232 - 24s/epoch - 173ms/step\n",
            "Epoch 15/20\n",
            "142/142 - 25s - loss: 0.2124 - accuracy: 0.9228 - val_loss: 2.0412 - val_accuracy: 0.6268 - 25s/epoch - 179ms/step\n",
            "Epoch 16/20\n",
            "142/142 - 24s - loss: 0.2050 - accuracy: 0.9234 - val_loss: 1.9440 - val_accuracy: 0.6408 - 24s/epoch - 170ms/step\n",
            "Epoch 17/20\n",
            "142/142 - 24s - loss: 0.2010 - accuracy: 0.9234 - val_loss: 1.9317 - val_accuracy: 0.6479 - 24s/epoch - 170ms/step\n",
            "Epoch 18/20\n",
            "142/142 - 24s - loss: 0.1800 - accuracy: 0.9298 - val_loss: 2.0486 - val_accuracy: 0.6461 - 24s/epoch - 171ms/step\n",
            "Epoch 19/20\n",
            "142/142 - 25s - loss: 0.1898 - accuracy: 0.9252 - val_loss: 2.0332 - val_accuracy: 0.6285 - 25s/epoch - 179ms/step\n",
            "Epoch 20/20\n",
            "142/142 - 24s - loss: 0.2184 - accuracy: 0.9179 - val_loss: 1.9465 - val_accuracy: 0.6250 - 24s/epoch - 172ms/step\n"
          ]
        }
      ]
    },
    {
      "cell_type": "code",
      "source": [
        "model.evaluate(test_padded,test_labels)"
      ],
      "metadata": {
        "colab": {
          "base_uri": "https://localhost:8080/"
        },
        "id": "jGy0HjPtzn3T",
        "outputId": "6e6d04d8-57fb-4341-8200-24a8a3d5b198"
      },
      "execution_count": 11,
      "outputs": [
        {
          "output_type": "stream",
          "name": "stdout",
          "text": [
            "18/18 [==============================] - 2s 86ms/step - loss: 1.8118 - accuracy: 0.6538\n"
          ]
        },
        {
          "output_type": "execute_result",
          "data": {
            "text/plain": [
              "[1.8118482828140259, 0.6537785530090332]"
            ]
          },
          "metadata": {},
          "execution_count": 11
        }
      ]
    },
    {
      "cell_type": "code",
      "source": [
        "import matplotlib.pyplot as plt\n",
        "\n",
        "def plot_graphs(history, string):\n",
        "  plt.plot(history.history[string])\n",
        "  plt.plot(history.history['val_'+string])\n",
        "  plt.xlabel('Epochs')\n",
        "  plt.ylabel(string)\n",
        "  plt.legend([string, 'val_'+string])\n",
        "  plt.show()\n",
        "\n",
        "plot_graphs(history, \"accuracy\")\n",
        "plot_graphs(history, \"loss\")"
      ],
      "metadata": {
        "colab": {
          "base_uri": "https://localhost:8080/",
          "height": 541
        },
        "id": "uluyaNGzN2m2",
        "outputId": "145e143b-61d4-4394-c529-22d28f595732"
      },
      "execution_count": 12,
      "outputs": [
        {
          "output_type": "display_data",
          "data": {
            "text/plain": [
              "<Figure size 432x288 with 1 Axes>"
            ],
            "image/png": "[encoded data removed]"
          },
          "metadata": {
            "needs_background": "light"
          }
        },
        {
          "output_type": "display_data",
          "data": {
            "text/plain": [
              "<Figure size 432x288 with 1 Axes>"
            ],
            "image/png": "[encoded data removed]"
          },
          "metadata": {
            "needs_background": "light"
          }
        }
      ]
    },
    {
      "cell_type": "code",
      "source": [
        "#Let's see if the model performs better when we reduce the industry labels to just two (either \"Technology\" or \"Business\")\n",
        "df2 = pd.read_csv('swe_marketing_jobs.csv',header=None,names=['Industry','Company','Job Title','Job Description'],skiprows=1)\n",
        "for i in range(len(df2['Industry'])):\n",
        "  if df2['Industry'][i] in ['Software Engineering','Technology (Non-SWE)','Product Management','Data Analysis']:\n",
        "    df2['Industry'][i] = 'Technology'\n",
        "  elif df2['Industry'][i] in ['Business & Operations','Marketing','Other Business Related']:\n",
        "    df2['Industry'][i] = 'Business'\n",
        "df2['Industry'].value_counts()\n",
        "df2"
      ],
      "metadata": {
        "colab": {
          "base_uri": "https://localhost:8080/",
          "height": 424
        },
        "id": "uw6FhhB_Tm6B",
        "outputId": "776f8bf6-e19a-422a-b1da-35896de990c3"
      },
      "execution_count": 13,
      "outputs": [
        {
          "output_type": "execute_result",
          "data": {
            "text/plain": [
              "                Industry Company  \\\n",
              "0             Technology  Amazon   \n",
              "1             Technology  Amazon   \n",
              "2             Technology  Amazon   \n",
              "3             Technology  Amazon   \n",
              "4             Technology  Amazon   \n",
              "...                  ...     ...   \n",
              "5676            Business   Cisco   \n",
              "5677  Cybersecurity & IT   Cisco   \n",
              "5678          Technology   Cisco   \n",
              "5679          Technology   Cisco   \n",
              "5680          Technology   Cisco   \n",
              "\n",
              "                                              Job Title  \\\n",
              "0                  Senior Software Development Engineer   \n",
              "1              Software Development Engineer - Payments   \n",
              "2               Software Development Engineer - Fintech   \n",
              "3                         Software Development Engineer   \n",
              "4     Embedded Software Development Engineer, Satell...   \n",
              "...                                                 ...   \n",
              "5676                                 Lab Specialist, MS   \n",
              "5677                                 Security Architect   \n",
              "5678          Software Engineer I (Co-Op) United States   \n",
              "5679        Software Engineer II (Intern) United States   \n",
              "5680         Software Engineer II (Co-Op) United States   \n",
              "\n",
              "                                        Job Description  \n",
              "0      4 year professional software development expe...  \n",
              "1      programming experience least one modern langu...  \n",
              "2     bachelor degree computer science related field...  \n",
              "3     1 year experience contributing system design a...  \n",
              "4     1 year experience contributing system design a...  \n",
              "...                                                 ...  \n",
              "5676  interested please apply httpsgrnhse406548db1us...  \n",
              "5677  cisco security visibility incident command tea...  \n",
              "5678  including limited upcoming graduate technical ...  \n",
              "5679  including limited upcoming graduate technical ...  \n",
              "5680  including limited upcoming graduate technical ...  \n",
              "\n",
              "[5681 rows x 4 columns]"
            ],
            "text/html": [
              "\n",
              "  <div id=\"df-5fadc7be-63f0-4be5-a78d-6d21fa7b9790\">\n",
              "    <div class=\"colab-df-container\">\n",
              "      <div>\n",
              "<style scoped>\n",
              "    .dataframe tbody tr th:only-of-type {\n",
              "        vertical-align: middle;\n",
              "    }\n",
              "\n",
              "    .dataframe tbody tr th {\n",
              "        vertical-align: top;\n",
              "    }\n",
              "\n",
              "    .dataframe thead th {\n",
              "        text-align: right;\n",
              "    }\n",
              "</style>\n",
              "<table border=\"1\" class=\"dataframe\">\n",
              "  <thead>\n",
              "    <tr style=\"text-align: right;\">\n",
              "      <th></th>\n",
              "      <th>Industry</th>\n",
              "      <th>Company</th>\n",
              "      <th>Job Title</th>\n",
              "      <th>Job Description</th>\n",
              "    </tr>\n",
              "  </thead>\n",
              "  <tbody>\n",
              "    <tr>\n",
              "      <th>0</th>\n",
              "      <td>Technology</td>\n",
              "      <td>Amazon</td>\n",
              "      <td>Senior Software Development Engineer</td>\n",
              "      <td>4 year professional software development expe...</td>\n",
              "    </tr>\n",
              "    <tr>\n",
              "      <th>1</th>\n",
              "      <td>Technology</td>\n",
              "      <td>Amazon</td>\n",
              "      <td>Software Development Engineer - Payments</td>\n",
              "      <td>programming experience least one modern langu...</td>\n",
              "    </tr>\n",
              "    <tr>\n",
              "      <th>2</th>\n",
              "      <td>Technology</td>\n",
              "      <td>Amazon</td>\n",
              "      <td>Software Development Engineer - Fintech</td>\n",
              "      <td>bachelor degree computer science related field...</td>\n",
              "    </tr>\n",
              "    <tr>\n",
              "      <th>3</th>\n",
              "      <td>Technology</td>\n",
              "      <td>Amazon</td>\n",
              "      <td>Software Development Engineer</td>\n",
              "      <td>1 year experience contributing system design a...</td>\n",
              "    </tr>\n",
              "    <tr>\n",
              "      <th>4</th>\n",
              "      <td>Technology</td>\n",
              "      <td>Amazon</td>\n",
              "      <td>Embedded Software Development Engineer, Satell...</td>\n",
              "      <td>1 year experience contributing system design a...</td>\n",
              "    </tr>\n",
              "    <tr>\n",
              "      <th>...</th>\n",
              "      <td>...</td>\n",
              "      <td>...</td>\n",
              "      <td>...</td>\n",
              "      <td>...</td>\n",
              "    </tr>\n",
              "    <tr>\n",
              "      <th>5676</th>\n",
              "      <td>Business</td>\n",
              "      <td>Cisco</td>\n",
              "      <td>Lab Specialist, MS</td>\n",
              "      <td>interested please apply httpsgrnhse406548db1us...</td>\n",
              "    </tr>\n",
              "    <tr>\n",
              "      <th>5677</th>\n",
              "      <td>Cybersecurity &amp; IT</td>\n",
              "      <td>Cisco</td>\n",
              "      <td>Security Architect</td>\n",
              "      <td>cisco security visibility incident command tea...</td>\n",
              "    </tr>\n",
              "    <tr>\n",
              "      <th>5678</th>\n",
              "      <td>Technology</td>\n",
              "      <td>Cisco</td>\n",
              "      <td>Software Engineer I (Co-Op) United States</td>\n",
              "      <td>including limited upcoming graduate technical ...</td>\n",
              "    </tr>\n",
              "    <tr>\n",
              "      <th>5679</th>\n",
              "      <td>Technology</td>\n",
              "      <td>Cisco</td>\n",
              "      <td>Software Engineer II (Intern) United States</td>\n",
              "      <td>including limited upcoming graduate technical ...</td>\n",
              "    </tr>\n",
              "    <tr>\n",
              "      <th>5680</th>\n",
              "      <td>Technology</td>\n",
              "      <td>Cisco</td>\n",
              "      <td>Software Engineer II (Co-Op) United States</td>\n",
              "      <td>including limited upcoming graduate technical ...</td>\n",
              "    </tr>\n",
              "  </tbody>\n",
              "</table>\n",
              "<p>5681 rows × 4 columns</p>\n",
              "</div>\n",
              "      <button class=\"colab-df-convert\" onclick=\"convertToInteractive('df-5fadc7be-63f0-4be5-a78d-6d21fa7b9790')\"\n",
              "              title=\"Convert this dataframe to an interactive table.\"\n",
              "              style=\"display:none;\">\n",
              "        \n",
              "  <svg xmlns=\"http://www.w3.org/2000/svg\" height=\"24px\"viewBox=\"0 0 24 24\"\n",
              "       width=\"24px\">\n",
              "    <path d=\"M0 0h24v24H0V0z\" fill=\"none\"/>\n",
              "    <path d=\"M18.56 5.44l.94 2.06.94-2.06 2.06-.94-2.06-.94-.94-2.06-.94 2.06-2.06.94zm-11 1L8.5 8.5l.94-2.06 2.06-.94-2.06-.94L8.5 2.5l-.94 2.06-2.06.94zm10 10l.94 2.06.94-2.06 2.06-.94-2.06-.94-.94-2.06-.94 2.06-2.06.94z\"/><path d=\"M17.41 7.96l-1.37-1.37c-.4-.4-.92-.59-1.43-.59-.52 0-1.04.2-1.43.59L10.3 9.45l-7.72 7.72c-.78.78-.78 2.05 0 2.83L4 21.41c.39.39.9.59 1.41.59.51 0 1.02-.2 1.41-.59l7.78-7.78 2.81-2.81c.8-.78.8-2.07 0-2.86zM5.41 20L4 18.59l7.72-7.72 1.47 1.35L5.41 20z\"/>\n",
              "  </svg>\n",
              "      </button>\n",
              "      \n",
              "  <style>\n",
              "    .colab-df-container {\n",
              "      display:flex;\n",
              "      flex-wrap:wrap;\n",
              "      gap: 12px;\n",
              "    }\n",
              "\n",
              "    .colab-df-convert {\n",
              "      background-color: #E8F0FE;\n",
              "      border: none;\n",
              "      border-radius: 50%;\n",
              "      cursor: pointer;\n",
              "      display: none;\n",
              "      fill: #1967D2;\n",
              "      height: 32px;\n",
              "      padding: 0 0 0 0;\n",
              "      width: 32px;\n",
              "    }\n",
              "\n",
              "    .colab-df-convert:hover {\n",
              "      background-color: #E2EBFA;\n",
              "      box-shadow: 0px 1px 2px rgba(60, 64, 67, 0.3), 0px 1px 3px 1px rgba(60, 64, 67, 0.15);\n",
              "      fill: #174EA6;\n",
              "    }\n",
              "\n",
              "    [theme=dark] .colab-df-convert {\n",
              "      background-color: #3B4455;\n",
              "      fill: #D2E3FC;\n",
              "    }\n",
              "\n",
              "    [theme=dark] .colab-df-convert:hover {\n",
              "      background-color: #434B5C;\n",
              "      box-shadow: 0px 1px 3px 1px rgba(0, 0, 0, 0.15);\n",
              "      filter: drop-shadow(0px 1px 2px rgba(0, 0, 0, 0.3));\n",
              "      fill: #FFFFFF;\n",
              "    }\n",
              "  </style>\n",
              "\n",
              "      <script>\n",
              "        const buttonEl =\n",
              "          document.querySelector('#df-5fadc7be-63f0-4be5-a78d-6d21fa7b9790 button.colab-df-convert');\n",
              "        buttonEl.style.display =\n",
              "          google.colab.kernel.accessAllowed ? 'block' : 'none';\n",
              "\n",
              "        async function convertToInteractive(key) {\n",
              "          const element = document.querySelector('#df-5fadc7be-63f0-4be5-a78d-6d21fa7b9790');\n",
              "          const dataTable =\n",
              "            await google.colab.kernel.invokeFunction('convertToInteractive',\n",
              "                                                     [key], {});\n",
              "          if (!dataTable) return;\n",
              "\n",
              "          const docLinkHtml = 'Like what you see? Visit the ' +\n",
              "            '<a target=\"_blank\" href=https://colab.research.google.com/notebooks/data_table.ipynb>data table notebook</a>'\n",
              "            + ' to learn more about interactive tables.';\n",
              "          element.innerHTML = '';\n",
              "          dataTable['output_type'] = 'display_data';\n",
              "          await google.colab.output.renderOutput(dataTable, element);\n",
              "          const docLink = document.createElement('div');\n",
              "          docLink.innerHTML = docLinkHtml;\n",
              "          element.appendChild(docLink);\n",
              "        }\n",
              "      </script>\n",
              "    </div>\n",
              "  </div>\n",
              "  "
            ]
          },
          "metadata": {},
          "execution_count": 13
        }
      ]
    },
    {
      "cell_type": "code",
      "source": [
        "labels2 = []\n",
        "for titles in df2['Industry']:\n",
        "  labels2.append(titles)"
      ],
      "metadata": {
        "id": "12uC4UbpQBgm"
      },
      "execution_count": 14,
      "outputs": []
    },
    {
      "cell_type": "code",
      "source": [
        "#Split our data into training, validation, and testing sets\n",
        "train_jd2,rem_jd2,train_labels2,rem_labels2 = train_test_split(jd,labels2,train_size=0.8)\n",
        "val_jd2,test_jd2,val_labels2,test_labels2 = train_test_split(rem_jd2,rem_labels2,train_size=0.5)"
      ],
      "metadata": {
        "id": "NUg7Gkn_QBgn"
      },
      "execution_count": 15,
      "outputs": []
    },
    {
      "cell_type": "code",
      "source": [
        "#Tokenize our job descriptions again\n",
        "train_sequences2 = tokenizer.texts_to_sequences(train_jd2)\n",
        "val_sequences2 = tokenizer.texts_to_sequences(val_jd2)\n",
        "test_sequences2 = tokenizer.texts_to_sequences(test_jd2)\n",
        "train_padded2 = pad_sequences(train_sequences2,padding=padding_type, maxlen=max_length)\n",
        "val_padded2 = pad_sequences(val_sequences2,padding=padding_type, maxlen=max_length)\n",
        "test_padded2 = pad_sequences(test_sequences2,padding=padding_type, maxlen=max_length)"
      ],
      "metadata": {
        "id": "-iNGo8SPQBgn"
      },
      "execution_count": 16,
      "outputs": []
    },
    {
      "cell_type": "code",
      "source": [
        "classes2 = set(labels2)\n",
        "class_to_index2 = dict((c,i) for i, c in enumerate(classes2))\n",
        "index_to_class2 = dict((v,k) for k, v in class_to_index2.items())\n",
        "names_to_ids2 = lambda labels2: np.array([class_to_index2.get(x) for x in labels2])\n",
        "train_labels2 = names_to_ids2(train_labels2)\n",
        "val_labels2 = names_to_ids2(val_labels2)\n",
        "test_labels2 = names_to_ids2(test_labels2)"
      ],
      "metadata": {
        "id": "sbW3D-SvmkFi"
      },
      "execution_count": 17,
      "outputs": []
    },
    {
      "cell_type": "code",
      "source": [
        "model2 = tf.keras.models.Sequential([\n",
        "tf.keras.layers.Embedding(vocab_size,embedding_dim,input_length=max_length),\n",
        "tf.keras.layers.Bidirectional(tf.keras.layers.LSTM(64, return_sequences=True)),\n",
        "tf.keras.layers.Bidirectional(tf.keras.layers.LSTM(64)),\n",
        "tf.keras.layers.Dense(7, activation='softmax')\n",
        "])\n",
        "\n",
        "model2.compile(\n",
        "     loss='sparse_categorical_crossentropy',\n",
        "     optimizer='adam',\n",
        "     metrics=['accuracy']\n",
        ")\n",
        "\n",
        "num_epochs=20\n",
        "history2 = model2.fit(train_padded2,train_labels2,epochs=num_epochs,validation_data=(val_padded2,val_labels2),verbose=2)"
      ],
      "metadata": {
        "id": "DfkGD-UyRNBV",
        "colab": {
          "base_uri": "https://localhost:8080/"
        },
        "outputId": "afef8ae2-0bb8-4a9c-e09d-5086c884cfa5"
      },
      "execution_count": 18,
      "outputs": [
        {
          "output_type": "stream",
          "name": "stdout",
          "text": [
            "Epoch 1/20\n",
            "142/142 - 25s - loss: 0.9262 - accuracy: 0.7210 - val_loss: 0.7165 - val_accuracy: 0.7588 - 25s/epoch - 178ms/step\n",
            "Epoch 2/20\n",
            "142/142 - 24s - loss: 0.6072 - accuracy: 0.7949 - val_loss: 0.6756 - val_accuracy: 0.7658 - 24s/epoch - 171ms/step\n",
            "Epoch 3/20\n",
            "142/142 - 24s - loss: 0.4486 - accuracy: 0.8495 - val_loss: 0.6523 - val_accuracy: 0.7940 - 24s/epoch - 171ms/step\n",
            "Epoch 4/20\n",
            "142/142 - 26s - loss: 0.3304 - accuracy: 0.8849 - val_loss: 0.7488 - val_accuracy: 0.8169 - 26s/epoch - 183ms/step\n",
            "Epoch 5/20\n",
            "142/142 - 24s - loss: 0.2695 - accuracy: 0.9148 - val_loss: 0.7309 - val_accuracy: 0.7782 - 24s/epoch - 171ms/step\n",
            "Epoch 6/20\n",
            "142/142 - 24s - loss: 0.2226 - accuracy: 0.9256 - val_loss: 0.8649 - val_accuracy: 0.7799 - 24s/epoch - 171ms/step\n",
            "Epoch 7/20\n",
            "142/142 - 25s - loss: 0.1916 - accuracy: 0.9388 - val_loss: 0.8352 - val_accuracy: 0.7887 - 25s/epoch - 177ms/step\n",
            "Epoch 8/20\n",
            "142/142 - 25s - loss: 0.1717 - accuracy: 0.9410 - val_loss: 0.8745 - val_accuracy: 0.7975 - 25s/epoch - 173ms/step\n",
            "Epoch 9/20\n",
            "142/142 - 24s - loss: 0.1638 - accuracy: 0.9434 - val_loss: 0.9101 - val_accuracy: 0.7923 - 24s/epoch - 172ms/step\n",
            "Epoch 10/20\n",
            "142/142 - 25s - loss: 0.1465 - accuracy: 0.9459 - val_loss: 0.9267 - val_accuracy: 0.7993 - 25s/epoch - 178ms/step\n",
            "Epoch 11/20\n",
            "142/142 - 25s - loss: 0.1355 - accuracy: 0.9511 - val_loss: 0.8648 - val_accuracy: 0.7993 - 25s/epoch - 173ms/step\n",
            "Epoch 12/20\n",
            "142/142 - 24s - loss: 0.1277 - accuracy: 0.9500 - val_loss: 0.9190 - val_accuracy: 0.7993 - 24s/epoch - 172ms/step\n",
            "Epoch 13/20\n",
            "142/142 - 25s - loss: 0.1235 - accuracy: 0.9529 - val_loss: 0.9451 - val_accuracy: 0.8028 - 25s/epoch - 178ms/step\n",
            "Epoch 14/20\n",
            "142/142 - 25s - loss: 0.1260 - accuracy: 0.9527 - val_loss: 0.9497 - val_accuracy: 0.8011 - 25s/epoch - 174ms/step\n",
            "Epoch 15/20\n",
            "142/142 - 25s - loss: 0.1361 - accuracy: 0.9514 - val_loss: 0.8514 - val_accuracy: 0.7905 - 25s/epoch - 173ms/step\n",
            "Epoch 16/20\n",
            "142/142 - 25s - loss: 0.1180 - accuracy: 0.9520 - val_loss: 0.9866 - val_accuracy: 0.8063 - 25s/epoch - 177ms/step\n",
            "Epoch 17/20\n",
            "142/142 - 24s - loss: 0.1102 - accuracy: 0.9553 - val_loss: 0.9974 - val_accuracy: 0.8187 - 24s/epoch - 171ms/step\n",
            "Epoch 18/20\n",
            "142/142 - 24s - loss: 0.1110 - accuracy: 0.9553 - val_loss: 1.0003 - val_accuracy: 0.7975 - 24s/epoch - 170ms/step\n",
            "Epoch 19/20\n",
            "142/142 - 26s - loss: 0.1100 - accuracy: 0.9544 - val_loss: 1.0137 - val_accuracy: 0.8187 - 26s/epoch - 180ms/step\n",
            "Epoch 20/20\n",
            "142/142 - 24s - loss: 0.1053 - accuracy: 0.9575 - val_loss: 0.9630 - val_accuracy: 0.8169 - 24s/epoch - 171ms/step\n"
          ]
        }
      ]
    },
    {
      "cell_type": "code",
      "source": [
        "model2.evaluate(test_padded2,test_labels2)"
      ],
      "metadata": {
        "id": "yjsfOQiIRNBV",
        "colab": {
          "base_uri": "https://localhost:8080/"
        },
        "outputId": "38689427-ede7-4ee5-957f-a2e18d8bf3c1"
      },
      "execution_count": 19,
      "outputs": [
        {
          "output_type": "stream",
          "name": "stdout",
          "text": [
            "18/18 [==============================] - 1s 82ms/step - loss: 0.9410 - accuracy: 0.8120\n"
          ]
        },
        {
          "output_type": "execute_result",
          "data": {
            "text/plain": [
              "[0.9410263299942017, 0.8119508028030396]"
            ]
          },
          "metadata": {},
          "execution_count": 19
        }
      ]
    },
    {
      "cell_type": "code",
      "source": [
        "plot_graphs(history2, \"accuracy\")\n",
        "plot_graphs(history2, \"loss\")"
      ],
      "metadata": {
        "id": "wpSf4hqgpVCa",
        "colab": {
          "base_uri": "https://localhost:8080/",
          "height": 541
        },
        "outputId": "c44c6a87-e68d-4c93-fe51-f2d501f746cd"
      },
      "execution_count": 20,
      "outputs": [
        {
          "output_type": "display_data",
          "data": {
            "text/plain": [
              "<Figure size 432x288 with 1 Axes>"
            ],
            "image/png": "[encoded data removed]"
          },
          "metadata": {
            "needs_background": "light"
          }
        },
        {
          "output_type": "display_data",
          "data": {
            "text/plain": [
              "<Figure size 432x288 with 1 Axes>"
            ],
            "image/png": "[encoded data removed]"
          },
          "metadata": {
            "needs_background": "light"
          }
        }
      ]
    },
    {
      "cell_type": "code",
      "source": [
        "conv_model = tf.keras.models.Sequential([\n",
        "tf.keras.layers.Embedding(vocab_size,embedding_dim,input_length=max_length),\n",
        "tf.keras.layers.Conv1D(128,5,activation='relu'),\n",
        "tf.keras.layers.GlobalMaxPooling1D(),\n",
        "tf.keras.layers.Dense(9, activation='softmax')\n",
        "])\n",
        "\n",
        "conv_model.compile(\n",
        "     loss='sparse_categorical_crossentropy',\n",
        "     optimizer='adam',\n",
        "     metrics=['accuracy']\n",
        ")\n",
        "\n",
        "conv_model.summary()"
      ],
      "metadata": {
        "id": "Q1wAFnOppafD",
        "colab": {
          "base_uri": "https://localhost:8080/"
        },
        "outputId": "8822cb90-fb7e-4589-e607-9734ce1f62ca"
      },
      "execution_count": 21,
      "outputs": [
        {
          "output_type": "stream",
          "name": "stdout",
          "text": [
            "Model: \"sequential_2\"\n",
            "_________________________________________________________________\n",
            " Layer (type)                Output Shape              Param #   \n",
            "=================================================================\n",
            " embedding_2 (Embedding)     (None, 16, 32)            320000    \n",
            "                                                                 \n",
            " conv1d (Conv1D)             (None, 12, 128)           20608     \n",
            "                                                                 \n",
            " global_max_pooling1d (Globa  (None, 128)              0         \n",
            " lMaxPooling1D)                                                  \n",
            "                                                                 \n",
            " dense_2 (Dense)             (None, 9)                 1161      \n",
            "                                                                 \n",
            "=================================================================\n",
            "Total params: 341,769\n",
            "Trainable params: 341,769\n",
            "Non-trainable params: 0\n",
            "_________________________________________________________________\n"
          ]
        }
      ]
    },
    {
      "cell_type": "code",
      "source": [
        "num_epochs = 20\n",
        "conv_history = conv_model.fit(train_padded,train_labels,epochs=num_epochs,validation_data=(val_padded,val_labels),verbose=2)"
      ],
      "metadata": {
        "id": "Xy3q3vEu0Net",
        "colab": {
          "base_uri": "https://localhost:8080/"
        },
        "outputId": "ac705805-1e86-4bc0-daeb-05b1c198ee1b"
      },
      "execution_count": 22,
      "outputs": [
        {
          "output_type": "stream",
          "name": "stdout",
          "text": [
            "Epoch 1/20\n",
            "142/142 - 4s - loss: 1.7315 - accuracy: 0.4595 - val_loss: 1.4752 - val_accuracy: 0.5018 - 4s/epoch - 26ms/step\n",
            "Epoch 2/20\n",
            "142/142 - 4s - loss: 1.3319 - accuracy: 0.5552 - val_loss: 1.2274 - val_accuracy: 0.5722 - 4s/epoch - 25ms/step\n",
            "Epoch 3/20\n",
            "142/142 - 4s - loss: 1.0120 - accuracy: 0.6752 - val_loss: 1.1153 - val_accuracy: 0.6356 - 4s/epoch - 25ms/step\n",
            "Epoch 4/20\n",
            "142/142 - 4s - loss: 0.7590 - accuracy: 0.7652 - val_loss: 1.0757 - val_accuracy: 0.6655 - 4s/epoch - 25ms/step\n",
            "Epoch 5/20\n",
            "142/142 - 4s - loss: 0.5704 - accuracy: 0.8261 - val_loss: 1.0998 - val_accuracy: 0.6655 - 4s/epoch - 25ms/step\n",
            "Epoch 6/20\n",
            "142/142 - 3s - loss: 0.4360 - accuracy: 0.8743 - val_loss: 1.1318 - val_accuracy: 0.6743 - 3s/epoch - 24ms/step\n",
            "Epoch 7/20\n",
            "142/142 - 4s - loss: 0.3470 - accuracy: 0.8972 - val_loss: 1.1468 - val_accuracy: 0.6796 - 4s/epoch - 25ms/step\n",
            "Epoch 8/20\n",
            "142/142 - 4s - loss: 0.2869 - accuracy: 0.9113 - val_loss: 1.1930 - val_accuracy: 0.6778 - 4s/epoch - 25ms/step\n",
            "Epoch 9/20\n",
            "142/142 - 4s - loss: 0.2497 - accuracy: 0.9203 - val_loss: 1.2485 - val_accuracy: 0.6761 - 4s/epoch - 25ms/step\n",
            "Epoch 10/20\n",
            "142/142 - 4s - loss: 0.2253 - accuracy: 0.9228 - val_loss: 1.2811 - val_accuracy: 0.6725 - 4s/epoch - 25ms/step\n",
            "Epoch 11/20\n",
            "142/142 - 3s - loss: 0.2091 - accuracy: 0.9250 - val_loss: 1.2859 - val_accuracy: 0.6778 - 3s/epoch - 25ms/step\n",
            "Epoch 12/20\n",
            "142/142 - 4s - loss: 0.1989 - accuracy: 0.9254 - val_loss: 1.3299 - val_accuracy: 0.6637 - 4s/epoch - 30ms/step\n",
            "Epoch 13/20\n",
            "142/142 - 4s - loss: 0.1937 - accuracy: 0.9291 - val_loss: 1.3520 - val_accuracy: 0.6655 - 4s/epoch - 25ms/step\n",
            "Epoch 14/20\n",
            "142/142 - 4s - loss: 0.1869 - accuracy: 0.9261 - val_loss: 1.3768 - val_accuracy: 0.6655 - 4s/epoch - 26ms/step\n",
            "Epoch 15/20\n",
            "142/142 - 4s - loss: 0.1811 - accuracy: 0.9298 - val_loss: 1.3865 - val_accuracy: 0.6655 - 4s/epoch - 25ms/step\n",
            "Epoch 16/20\n",
            "142/142 - 3s - loss: 0.1791 - accuracy: 0.9254 - val_loss: 1.4124 - val_accuracy: 0.6620 - 3s/epoch - 24ms/step\n",
            "Epoch 17/20\n",
            "142/142 - 4s - loss: 0.1758 - accuracy: 0.9283 - val_loss: 1.4139 - val_accuracy: 0.6620 - 4s/epoch - 25ms/step\n",
            "Epoch 18/20\n",
            "142/142 - 3s - loss: 0.1761 - accuracy: 0.9278 - val_loss: 1.4379 - val_accuracy: 0.6620 - 3s/epoch - 25ms/step\n",
            "Epoch 19/20\n",
            "142/142 - 4s - loss: 0.1718 - accuracy: 0.9289 - val_loss: 1.4324 - val_accuracy: 0.6708 - 4s/epoch - 25ms/step\n",
            "Epoch 20/20\n",
            "142/142 - 4s - loss: 0.1736 - accuracy: 0.9269 - val_loss: 1.4409 - val_accuracy: 0.6620 - 4s/epoch - 26ms/step\n"
          ]
        }
      ]
    },
    {
      "cell_type": "code",
      "source": [
        "conv_model.evaluate(test_padded,test_labels)\n",
        "plot_graphs(conv_history, \"accuracy\")\n",
        "plot_graphs(conv_history, \"loss\")"
      ],
      "metadata": {
        "id": "dxstndpD2avi",
        "colab": {
          "base_uri": "https://localhost:8080/",
          "height": 561
        },
        "outputId": "724aef0b-bba1-4d0b-865b-343d9133bb7d"
      },
      "execution_count": 23,
      "outputs": [
        {
          "output_type": "stream",
          "name": "stdout",
          "text": [
            "18/18 [==============================] - 0s 9ms/step - loss: 1.3954 - accuracy: 0.6819\n"
          ]
        },
        {
          "output_type": "display_data",
          "data": {
            "text/plain": [
              "<Figure size 432x288 with 1 Axes>"
            ],
            "image/png": "[encoded data removed]"
          },
          "metadata": {
            "needs_background": "light"
          }
        },
        {
          "output_type": "display_data",
          "data": {
            "text/plain": [
              "<Figure size 432x288 with 1 Axes>"
            ],
            "image/png": "[encoded data removed]"
          },
          "metadata": {
            "needs_background": "light"
          }
        }
      ]
    },
    {
      "cell_type": "code",
      "source": [
        "train_padded"
      ],
      "metadata": {
        "colab": {
          "base_uri": "https://localhost:8080/"
        },
        "id": "rgJ8HGDJuLNo",
        "outputId": "c811166a-0cfe-4aa9-9bc5-16d551f129db"
      },
      "execution_count": 24,
      "outputs": [
        {
          "output_type": "execute_result",
          "data": {
            "text/plain": [
              "array([[   9,    1,    1, ..., 6473, 2343,  439],\n",
              "       [1369,   27,    8, ...,  516,  123,    1],\n",
              "       [5606, 7220, 2942, ...,  122, 1098,   78],\n",
              "       ...,\n",
              "       [ 260,  194,  128, ...,    8,   86,   60],\n",
              "       [2218,  960,   41, ..., 2139,   15, 2239],\n",
              "       [ 279,  840, 4775, ...,   13,   40,  222]], dtype=int32)"
            ]
          },
          "metadata": {},
          "execution_count": 24
        }
      ]
    },
    {
      "cell_type": "markdown",
      "source": [
        "**Testing Demo: LinkedIn Profiles**"
      ],
      "metadata": {
        "id": "emDpj6vq_r3v"
      }
    },
    {
      "cell_type": "code",
      "source": [
        "def classify(input,model,tokenizer):\n",
        "  qualifications = tokenizer.texts_to_sequences([input])\n",
        "  qualifications = pad_sequences(qualifications,padding=padding_type,maxlen=max_length)\n",
        "  predictions = model.predict(qualifications)\n",
        "  classify_df = pd.DataFrame(columns=['Industry','% Match'])\n",
        "  classify_df['Industry'] = list(classes)\n",
        "  for i in range(len(predictions[0])):\n",
        "    classify_df['% Match'][i] = predictions[0][i]*100\n",
        "  classify_df.set_index('Industry',inplace=True)\n",
        "  print(classify_df.sort_values(by='% Match',ascending=False))"
      ],
      "metadata": {
        "id": "PaUbgl2d367j"
      },
      "execution_count": 25,
      "outputs": []
    },
    {
      "cell_type": "markdown",
      "source": [
        "Candidate #1: Software Engineer @ Microsoft with prior experience as a team lead for engineers working in sales analytics"
      ],
      "metadata": {
        "id": "FEZRTsKZ_yul"
      }
    },
    {
      "cell_type": "code",
      "source": [
        "classify('Azure Kubernetes Service (AKS) team - Built a web server in Golang and wrote unit tests. Designed and deployed it with a microservices architecture, leveraging Kubernetes communication patterns. - Containerized the web server using a multistage Docker build process and packaged it into a Helm Chart. Set up a CI/CD pipeline to automatically test and deploy application to an AKS cluster. - Created a logging and metrics infrastructure, using Azure Log Analytics, Prometheus, and Grafana to monitor application behavior and system health. Led a team of engineers and product managers to shape the evolution of Dropbox’s central sales analytics tool. While leading the team, we: - Increased adoption of the platform by 2.4x in 2020. - Built a PowerPoint generation engine to deliver customized, data-driven sales materials at scale, enhancing productivity of the sales organization by ~500 hours per quarter. - Advised global sales teams on strategic customers through bespoke analytics. Designed a scalable model that resulted in a 10% increase in ARR influenced each quarter.',conv_model,tokenizer)"
      ],
      "metadata": {
        "id": "uIjWatJC5f9Z",
        "colab": {
          "base_uri": "https://localhost:8080/"
        },
        "outputId": "1d7510b7-d419-4349-f679-5479e749858d"
      },
      "execution_count": 26,
      "outputs": [
        {
          "output_type": "stream",
          "name": "stdout",
          "text": [
            "1/1 [==============================] - 0s 25ms/step\n",
            "                          % Match\n",
            "Industry                         \n",
            "Software Engineering    83.132321\n",
            "Technology (Non-SWE)    10.763294\n",
            "Other Business Related   5.413884\n",
            "Data Analysis            0.571945\n",
            "Research Scientist       0.082983\n",
            "Product Management       0.019851\n",
            "Cybersecurity & IT       0.008848\n",
            "Marketing                0.006482\n",
            "Operations & Finance     0.000399\n"
          ]
        }
      ]
    },
    {
      "cell_type": "markdown",
      "source": [
        "Candidate #2: Software Engineer @ Amazon with academic background in computer science and data science"
      ],
      "metadata": {
        "id": "7k2ZG1y4AR_A"
      }
    },
    {
      "cell_type": "code",
      "source": [
        "classify('-Worked on the backend team to develop the Edtera web application, a learning engagement platform, using the Java Spring MVC Framework -Implemented data access layer using Spring Data JPA to allow various CRUD services to Edtera’s PostgreSQL database -Developed a performance tracker using Spring RestTemplate to retrieve students’ enrollment and grade data from third party learning management systems and configured RestTemplate Interceptor to reduce redundancy in the code -Built RESTful services to publish data by creating Rest Controllers, such as grades, course, enrollment information, etc. -Developed a high-performance laser health monitoring program with Python, which was highly recognized by the course instructor and project sponsor and selected for exhibition at the Department Senior Design Day -Implemented Random Forest Regression using Scikit-Learn library to predict laser survival rate, achieving MAPE of 12% -Created an interactive data visualization web application with Python Dash framework for explorative analysis -Designed a feature engineering procedure to sum the time series data and convert it to a supervised-learning problem',conv_model,tokenizer)"
      ],
      "metadata": {
        "id": "60Q2xVeI7B2B",
        "colab": {
          "base_uri": "https://localhost:8080/"
        },
        "outputId": "8f72a1c5-6745-4149-d74a-e725171ddef9"
      },
      "execution_count": 27,
      "outputs": [
        {
          "output_type": "stream",
          "name": "stdout",
          "text": [
            "1/1 [==============================] - 0s 17ms/step\n",
            "                          % Match\n",
            "Industry                         \n",
            "Software Engineering    83.481711\n",
            "Data Analysis           12.172835\n",
            "Technology (Non-SWE)     3.479264\n",
            "Other Business Related   0.605793\n",
            "Research Scientist       0.230352\n",
            "Marketing                0.013022\n",
            "Cybersecurity & IT       0.009837\n",
            "Product Management        0.00408\n",
            "Operations & Finance     0.003092\n"
          ]
        }
      ]
    },
    {
      "cell_type": "markdown",
      "source": [
        "Candidate #3: Senior Marketing Analytics Manager @ Rippling with extensive work history as a marketing data analyst"
      ],
      "metadata": {
        "id": "gh9jKWxoAeLu"
      }
    },
    {
      "cell_type": "code",
      "source": [
        "classify('1. Create measurement framework across different funnel stages (TOF, MOF, and BOF) and marketing channels & campaigns: 1) identify KPIs (primary & secondary) and 2) define leading indicators 2. Build reporting foundation and consistently report on 1) actuals against goals by segment, marketing channel, campaign, and product and 2) trend on performance across acquisition and cross-sell motions. Identify gaps on data tracking, data connection, and reporting infrastructure and implement solutions. 3. Develop a framework to measure channel and campaign effectiveness and efficiency through attribution (FT, LT, & MT) and incrementality (MMM & geo-based experiments). Marketing channels include Paid Social (LinkedIn & Facebook & YouTube), Paid & Organic Search, Review Sites, and OOH 4. Hire and grow a Marketing Analytics team, mentor and coach analyst(s) to deliver high-quality work 1. Acquisition Marketing Channel and Campaign Analysis - Measure acquisition marketing campaign performance through Geo experiments, time series models, and platform lift studies; Channels include brand media, such as TV, OTT, Streaming Audio, & Podcast, and OA media, such as Display, OLV, Paid Social, Paid Search, and Affiliates - Design and measure channel incrementality tests (PPC Brand & OTT/CTV) and other tests, such as bid algorithm test and landing page test, across different product segments - Provide on-going channel and campaign performance analysis via prediction models, pre-post analysis, and A/B tests; Create channel performance dashboard (Holistic Search) to inform efficiency - Provide insights and recommendations on channel and campaign performance to marketing stakeholders and the leadership team based on the test and analysis results 2. Product Performance Analysis - Analytics lead on weekly marketing acquisition performance across all channels (Brand and OA) for Quickbooks Online product. - Work with finance, marketing, sales, and other analytics teams to identify performance root causes. - Define full-funnel metrics to measure marketing acquisition performance, such as brand metrics, QBO brand and industry search demand, traffic and conversion rate, sales, and CPA. 1. CRM/Database Marketing Management and Strategies - CRM database and email & direct mail channels owner and work with sales team for outbound call campaigns. Develop, optimize, monitor, and execute database marketing campaigns including re-marketing, cross-sell, acquisition, and win-back. - Analyze CRM customer & campaign data on different segments to improve overall DBM campaign performance. Auto re-marketing campaign sales contribute 13.5% of total company sales in 2016. - Provide on-going analysis on CRM data to define targeting and segmentation strategies for marketing acquisition campaigns. Design A/B and multivariate tests and define KPIs to measure test success. - Oversee design, development, and maintenance of a CRM database. Work with a cross-functional team (product, analytics, development, and BI) to define database and data integration requirements. - Collaborate with data science, sales, BI, and IT teams to build and implement models used for segmentation and targeting strategies to increase customer lifetime value and campaign ROI. - Provide insights and recommendations to the senior management team to influence decision making. 2. Marketing Analytics - Lead all aspects of Marketing Analytics, including campaign analysis, reporting, and predictive modeling. Marketing channels include email, SEM, affiliates, paid social, and sponsorship. - Provide on-going analysis on CRM data to inform targeting and segmentation strategies for marketing acquisition campaigns. Design tests and define KPIs to measure campaign and test success. - Analyze cost, engagement, and sales data to propose U.S. budget re-allocation recommendations across marketing channels to increase conversion, ROI, and improve customer mix. - Set KPIs and lead efforts to provide and consolidate analysis and reporting for website testing. - Provide insights and recommendations to the senior management team to influence decision making.',conv_model,tokenizer)"
      ],
      "metadata": {
        "id": "jJ7nAYEMImqZ",
        "colab": {
          "base_uri": "https://localhost:8080/"
        },
        "outputId": "515828ec-ca31-43f3-c9d6-5e19162f101e"
      },
      "execution_count": 28,
      "outputs": [
        {
          "output_type": "stream",
          "name": "stdout",
          "text": [
            "1/1 [==============================] - 0s 18ms/step\n",
            "                          % Match\n",
            "Industry                         \n",
            "Other Business Related  76.906914\n",
            "Marketing                9.842843\n",
            "Technology (Non-SWE)     4.982774\n",
            "Data Analysis            4.789523\n",
            "Research Scientist       2.085558\n",
            "Software Engineering     0.955458\n",
            "Product Management       0.285568\n",
            "Operations & Finance     0.129359\n",
            "Cybersecurity & IT       0.022008\n"
          ]
        }
      ]
    },
    {
      "cell_type": "markdown",
      "source": [
        "Candidate #4: Product Manager @ Meta with prior experience as a consultant at Deloitte Digital"
      ],
      "metadata": {
        "id": "0fz2FR2-AqUR"
      }
    },
    {
      "cell_type": "code",
      "source": [
        "classify('Product Manager for Strategic Transformation Tool: Led a nine-person product team to design, build, and launch StrategyAccelerator® - a single, customizable digital platform to help companies drive ideation to implementation across their business strategy life cycle, resulting in 17 client wins and $xxM revenue in direct asset fees and services for Deloitte Product and Monetization Strategy for a Pharmaceutical Company: Managed a five-person team to develop and prioritize 42 use cases and monetization opportunities of facial and retinal scans towards disruptive applications of AI and ML for disease detection and treatment targeting direct-to-consumer opportunities Marketing Strategy, Operations, and Annual Planning for $9B Cloud Technology Company: Led a five-person team working directly with the CMO and SVPs to spearhead annual strategic planning, and successfully secured ~$600M, the highest % of investment allocation for the marketing organization thus far from the C-suite eCommerce Partnership Strategy for $600B Global Social Media Company: Led leadership strategy workshops engaging cross-functionally with sales, product development, and privacy compliance to identify target large and mid-size retailers for ecommerce offering expansion, and develop a GTM plan for ~60M potential buyers Customer Experience and Journey Mapping for Fortune 500 Financial Services Company: Designed product roadmap to improve customer satisfaction and retention; directed ethnographic research leading to insights on key customer behaviors via quantitative surveys and interviews to understand customer journeys and shape new service offerings',conv_model,tokenizer)"
      ],
      "metadata": {
        "id": "XiaHicCKJio8",
        "colab": {
          "base_uri": "https://localhost:8080/"
        },
        "outputId": "b428f992-86da-45d8-c43a-6f7e520373f8"
      },
      "execution_count": 29,
      "outputs": [
        {
          "output_type": "stream",
          "name": "stdout",
          "text": [
            "1/1 [==============================] - 0s 18ms/step\n",
            "                          % Match\n",
            "Industry                         \n",
            "Other Business Related  90.552676\n",
            "Technology (Non-SWE)      8.18649\n",
            "Software Engineering     0.774044\n",
            "Data Analysis            0.278322\n",
            "Research Scientist       0.125252\n",
            "Operations & Finance     0.057347\n",
            "Marketing                0.022499\n",
            "Product Management       0.002288\n",
            "Cybersecurity & IT       0.001093\n"
          ]
        }
      ]
    },
    {
      "cell_type": "markdown",
      "source": [
        "Candidate #5: Investment Banker @ Brookwood Associates. No background in tech - purely a finance person."
      ],
      "metadata": {
        "id": "jq-whKY4A7SG"
      }
    },
    {
      "cell_type": "code",
      "source": [
        "classify('- Represented CAIRE on its second U.S. acquisition of MGC Diagnostics, a manufacturer of cardiorespiratory diagnostics systems - Represented provider of transactional communications solutions on its sale to Doxim, a portfolio company of GI Partners - Represented CAIRE, a subsidiary of NGK Spark Plugs, on its acquisition of an e-commerce seller of portable oxygen concentrators and other respiratory products - Represented manufacturer of advanced composite materials on its recapitalization - Represented provider of water and wastewater infrastructure services on its sale to Sciens Water - Represented provider of center-based, home-based, and school-based behavioral healthcare services for individuals with autism spectrum disorders on its sale to LEARN Behavioral, a portfolio company of Gryphon Investors - Represented provider of urgent care services on its merger with CRH Healthcare - Represented distributor of industrial air compressors and compressed air automation systems on its recapitalization - Represented manufacturer of domestic and imported hardwood lumber on the divestiture of its distribution business to the Rugby Architectural Building Products division of Hardwoods Distribution Inc. (TSX:HDI) - Represented vertically integrated manufacturer of technical and performance fabrics on its sale to Milliken & Company - Represented manufacturer of wakeboard towers and accessories and custom-patterned boat covers on its sale to a financial sponsor - Represented specialty mattress retailer with 130+ locations in the Midwest and Southeast on its sale to Mattress Firm',conv_model,tokenizer)"
      ],
      "metadata": {
        "id": "gWGjZ3JfKIFs",
        "colab": {
          "base_uri": "https://localhost:8080/"
        },
        "outputId": "7bad56a8-6034-4bbc-adaa-cb3f6763516f"
      },
      "execution_count": 30,
      "outputs": [
        {
          "output_type": "stream",
          "name": "stdout",
          "text": [
            "1/1 [==============================] - 0s 21ms/step\n",
            "                          % Match\n",
            "Industry                         \n",
            "Other Business Related  93.710965\n",
            "Technology (Non-SWE)      2.68366\n",
            "Research Scientist       1.596284\n",
            "Data Analysis            0.991162\n",
            "Software Engineering     0.657746\n",
            "Marketing                0.315686\n",
            "Operations & Finance     0.023214\n",
            "Product Management       0.013238\n",
            "Cybersecurity & IT       0.008042\n"
          ]
        }
      ]
    },
    {
      "cell_type": "code",
      "source": [
        "#Now let's apply cross validation to get even better results\n",
        "from sklearn.model_selection import KFold\n",
        "\n",
        "BATCH_SIZE = 32\n",
        "\n",
        "kf = KFold(n_splits=5)\n",
        "kf.get_n_splits(train_padded)\n",
        "# Loop over the dataset to create separate folds\n",
        "for train_index, test_index in kf.split(train_padded):\n",
        "    X_train, X_test = train_padded[train_index], train_padded[test_index]\n",
        "    y_train, y_test = train_labels[train_index], train_labels[test_index]\n",
        "\n",
        "    input_length = X_train[0].shape[0]\n",
        "\n",
        "    train_dataset = tf.data.Dataset.from_tensor_slices((X_train, y_train))\n",
        "    validation_dataset = tf.data.Dataset.from_tensor_slices((X_test, y_test))\n",
        "    train_dataset = train_dataset.batch(BATCH_SIZE, drop_remainder=False)\n",
        "    validation_dataset = validation_dataset.batch(BATCH_SIZE, drop_remainder=False)\n",
        "\n",
        "    # Create a new model instance \n",
        "    model_instance = tf.keras.models.Sequential([\n",
        "    tf.keras.layers.Embedding(vocab_size,embedding_dim,input_length=max_length),\n",
        "    tf.keras.layers.Conv1D(128,5,activation='relu'),\n",
        "    tf.keras.layers.GlobalMaxPooling1D(),\n",
        "    tf.keras.layers.Dense(10, activation='softmax')\n",
        "    ])\n",
        "\n",
        "    model_instance.compile(\n",
        "        loss='sparse_categorical_crossentropy',\n",
        "        optimizer='adam',\n",
        "        metrics=['accuracy']\n",
        "    )\n",
        "\n",
        "    # train the model on the current fold\n",
        "    history=model_instance.fit(train_dataset, epochs=20, validation_data=validation_dataset, verbose=2)\n",
        "    model_instance.test_on_batch(X_test, y_test)"
      ],
      "metadata": {
        "id": "Sy4wRW5W06u2"
      },
      "execution_count": null,
      "outputs": []
    }
  ]
}
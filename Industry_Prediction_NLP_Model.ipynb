{
  "nbformat": 4,
  "nbformat_minor": 0,
  "metadata": {
    "colab": {
      "provenance": [],
      "include_colab_link": true
    },
    "kernelspec": {
      "name": "python3",
      "display_name": "Python 3"
    },
    "language_info": {
      "name": "python"
    }
  },
  "cells": [
    {
      "cell_type": "markdown",
      "metadata": {
        "id": "view-in-github",
        "colab_type": "text"
      },
      "source": [
        "<a href=\"https://colab.research.google.com/github/Siliconvalley4uYouthProjects/SpringBoard-Swatcloud/blob/main/Industry_Prediction_NLP_Model.ipynb\" target=\"_parent\"><img src=\"https://colab.research.google.com/assets/colab-badge.svg\" alt=\"Open In Colab\"/></a>"
      ]
    },
    {
      "cell_type": "code",
      "execution_count": null,
      "metadata": {
        "id": "p39foWtcHcJ7",
        "colab": {
          "base_uri": "https://localhost:8080/"
        },
        "outputId": "f0e9a63c-68ad-4f03-ae6f-24694dbb1b73"
      },
      "outputs": [
        {
          "output_type": "stream",
          "name": "stdout",
          "text": [
            "Looking in indexes: https://pypi.org/simple, https://us-python.pkg.dev/colab-wheels/public/simple/\n",
            "Requirement already satisfied: keras_tuner in /usr/local/lib/python3.8/dist-packages (1.1.3)\n",
            "Requirement already satisfied: ipython in /usr/local/lib/python3.8/dist-packages (from keras_tuner) (7.9.0)\n",
            "Requirement already satisfied: numpy in /usr/local/lib/python3.8/dist-packages (from keras_tuner) (1.21.6)\n",
            "Requirement already satisfied: tensorboard in /usr/local/lib/python3.8/dist-packages (from keras_tuner) (2.9.1)\n",
            "Requirement already satisfied: packaging in /usr/local/lib/python3.8/dist-packages (from keras_tuner) (21.3)\n",
            "Requirement already satisfied: kt-legacy in /usr/local/lib/python3.8/dist-packages (from keras_tuner) (1.0.4)\n",
            "Requirement already satisfied: requests in /usr/local/lib/python3.8/dist-packages (from keras_tuner) (2.25.1)\n",
            "Requirement already satisfied: setuptools>=18.5 in /usr/local/lib/python3.8/dist-packages (from ipython->keras_tuner) (57.4.0)\n",
            "Requirement already satisfied: pickleshare in /usr/local/lib/python3.8/dist-packages (from ipython->keras_tuner) (0.7.5)\n",
            "Requirement already satisfied: jedi>=0.10 in /usr/local/lib/python3.8/dist-packages (from ipython->keras_tuner) (0.18.2)\n",
            "Requirement already satisfied: prompt-toolkit<2.1.0,>=2.0.0 in /usr/local/lib/python3.8/dist-packages (from ipython->keras_tuner) (2.0.10)\n",
            "Requirement already satisfied: pygments in /usr/local/lib/python3.8/dist-packages (from ipython->keras_tuner) (2.6.1)\n",
            "Requirement already satisfied: backcall in /usr/local/lib/python3.8/dist-packages (from ipython->keras_tuner) (0.2.0)\n",
            "Requirement already satisfied: decorator in /usr/local/lib/python3.8/dist-packages (from ipython->keras_tuner) (4.4.2)\n",
            "Requirement already satisfied: pexpect in /usr/local/lib/python3.8/dist-packages (from ipython->keras_tuner) (4.8.0)\n",
            "Requirement already satisfied: traitlets>=4.2 in /usr/local/lib/python3.8/dist-packages (from ipython->keras_tuner) (5.7.1)\n",
            "Requirement already satisfied: pyparsing!=3.0.5,>=2.0.2 in /usr/local/lib/python3.8/dist-packages (from packaging->keras_tuner) (3.0.9)\n",
            "Requirement already satisfied: certifi>=2017.4.17 in /usr/local/lib/python3.8/dist-packages (from requests->keras_tuner) (2022.12.7)\n",
            "Requirement already satisfied: chardet<5,>=3.0.2 in /usr/local/lib/python3.8/dist-packages (from requests->keras_tuner) (4.0.0)\n",
            "Requirement already satisfied: urllib3<1.27,>=1.21.1 in /usr/local/lib/python3.8/dist-packages (from requests->keras_tuner) (1.24.3)\n",
            "Requirement already satisfied: idna<3,>=2.5 in /usr/local/lib/python3.8/dist-packages (from requests->keras_tuner) (2.10)\n",
            "Requirement already satisfied: werkzeug>=1.0.1 in /usr/local/lib/python3.8/dist-packages (from tensorboard->keras_tuner) (1.0.1)\n",
            "Requirement already satisfied: tensorboard-plugin-wit>=1.6.0 in /usr/local/lib/python3.8/dist-packages (from tensorboard->keras_tuner) (1.8.1)\n",
            "Requirement already satisfied: markdown>=2.6.8 in /usr/local/lib/python3.8/dist-packages (from tensorboard->keras_tuner) (3.4.1)\n",
            "Requirement already satisfied: google-auth-oauthlib<0.5,>=0.4.1 in /usr/local/lib/python3.8/dist-packages (from tensorboard->keras_tuner) (0.4.6)\n",
            "Requirement already satisfied: google-auth<3,>=1.6.3 in /usr/local/lib/python3.8/dist-packages (from tensorboard->keras_tuner) (2.16.0)\n",
            "Requirement already satisfied: protobuf<3.20,>=3.9.2 in /usr/local/lib/python3.8/dist-packages (from tensorboard->keras_tuner) (3.19.6)\n",
            "Requirement already satisfied: grpcio>=1.24.3 in /usr/local/lib/python3.8/dist-packages (from tensorboard->keras_tuner) (1.51.1)\n",
            "Requirement already satisfied: tensorboard-data-server<0.7.0,>=0.6.0 in /usr/local/lib/python3.8/dist-packages (from tensorboard->keras_tuner) (0.6.1)\n",
            "Requirement already satisfied: wheel>=0.26 in /usr/local/lib/python3.8/dist-packages (from tensorboard->keras_tuner) (0.38.4)\n",
            "Requirement already satisfied: absl-py>=0.4 in /usr/local/lib/python3.8/dist-packages (from tensorboard->keras_tuner) (1.3.0)\n",
            "Requirement already satisfied: cachetools<6.0,>=2.0.0 in /usr/local/lib/python3.8/dist-packages (from google-auth<3,>=1.6.3->tensorboard->keras_tuner) (5.2.1)\n",
            "Requirement already satisfied: rsa<5,>=3.1.4 in /usr/local/lib/python3.8/dist-packages (from google-auth<3,>=1.6.3->tensorboard->keras_tuner) (4.9)\n",
            "Requirement already satisfied: six>=1.9.0 in /usr/local/lib/python3.8/dist-packages (from google-auth<3,>=1.6.3->tensorboard->keras_tuner) (1.15.0)\n",
            "Requirement already satisfied: pyasn1-modules>=0.2.1 in /usr/local/lib/python3.8/dist-packages (from google-auth<3,>=1.6.3->tensorboard->keras_tuner) (0.2.8)\n",
            "Requirement already satisfied: requests-oauthlib>=0.7.0 in /usr/local/lib/python3.8/dist-packages (from google-auth-oauthlib<0.5,>=0.4.1->tensorboard->keras_tuner) (1.3.1)\n",
            "Requirement already satisfied: parso<0.9.0,>=0.8.0 in /usr/local/lib/python3.8/dist-packages (from jedi>=0.10->ipython->keras_tuner) (0.8.3)\n",
            "Requirement already satisfied: importlib-metadata>=4.4 in /usr/local/lib/python3.8/dist-packages (from markdown>=2.6.8->tensorboard->keras_tuner) (6.0.0)\n",
            "Requirement already satisfied: wcwidth in /usr/local/lib/python3.8/dist-packages (from prompt-toolkit<2.1.0,>=2.0.0->ipython->keras_tuner) (0.2.5)\n",
            "Requirement already satisfied: ptyprocess>=0.5 in /usr/local/lib/python3.8/dist-packages (from pexpect->ipython->keras_tuner) (0.7.0)\n",
            "Requirement already satisfied: zipp>=0.5 in /usr/local/lib/python3.8/dist-packages (from importlib-metadata>=4.4->markdown>=2.6.8->tensorboard->keras_tuner) (3.11.0)\n",
            "Requirement already satisfied: pyasn1<0.5.0,>=0.4.6 in /usr/local/lib/python3.8/dist-packages (from pyasn1-modules>=0.2.1->google-auth<3,>=1.6.3->tensorboard->keras_tuner) (0.4.8)\n",
            "Requirement already satisfied: oauthlib>=3.0.0 in /usr/local/lib/python3.8/dist-packages (from requests-oauthlib>=0.7.0->google-auth-oauthlib<0.5,>=0.4.1->tensorboard->keras_tuner) (3.2.2)\n"
          ]
        },
        {
          "output_type": "stream",
          "name": "stderr",
          "text": [
            "[nltk_data] Downloading package wordnet to /root/nltk_data...\n",
            "[nltk_data]   Package wordnet is already up-to-date!\n",
            "[nltk_data] Downloading package omw-1.4 to /root/nltk_data...\n",
            "[nltk_data]   Package omw-1.4 is already up-to-date!\n",
            "[nltk_data] Downloading package stopwords to /root/nltk_data...\n",
            "[nltk_data]   Package stopwords is already up-to-date!\n"
          ]
        }
      ],
      "source": [
        "!pip install keras_tuner\n",
        "import keras\n",
        "import keras_tuner\n",
        "import pandas as pd\n",
        "import tensorflow as tf\n",
        "import numpy as np\n",
        "import regex as re\n",
        "import nltk\n",
        "from tensorflow import keras\n",
        "from tensorflow.keras.preprocessing.text import Tokenizer\n",
        "from tensorflow.keras.preprocessing.sequence import pad_sequences\n",
        "from nltk.corpus import stopwords\n",
        "from nltk.stem import WordNetLemmatizer\n",
        "from sklearn.feature_extraction.text import CountVectorizer\n",
        "lemmatizer = WordNetLemmatizer()\n",
        "nltk.download('wordnet')\n",
        "nltk.download('omw-1.4')\n",
        "nltk.download('stopwords')\n",
        "tf.config.run_functions_eagerly(True)\n",
        "tf.data.experimental.enable_debug_mode()"
      ]
    },
    {
      "cell_type": "code",
      "source": [
        "df = pd.read_csv('jobs_labeled.csv',header=None,names=['Industry','Company','Job Title','Job Description'],skiprows=1)\n",
        "\n",
        "# Adding all job descriptions\n",
        "jd = []\n",
        "for jobs in df['Job Description'].astype(str):\n",
        "  jd.append(jobs)"
      ],
      "metadata": {
        "id": "xaLKZ4bdItjE"
      },
      "execution_count": null,
      "outputs": []
    },
    {
      "cell_type": "code",
      "source": [
        "df.head()"
      ],
      "metadata": {
        "id": "gyF5Aucjn1v4",
        "colab": {
          "base_uri": "https://localhost:8080/",
          "height": 206
        },
        "outputId": "06992293-dc67-454e-d36e-aff7747288f9"
      },
      "execution_count": null,
      "outputs": [
        {
          "output_type": "execute_result",
          "data": {
            "text/plain": [
              "               Industry Company  \\\n",
              "0  Software Engineering  Amazon   \n",
              "1  Software Engineering  Amazon   \n",
              "2  Software Engineering  Amazon   \n",
              "3  Software Engineering  Amazon   \n",
              "4  Software Engineering  Amazon   \n",
              "\n",
              "                                           Job Title  \\\n",
              "0               Senior Software Development Engineer   \n",
              "1           Software Development Engineer - Payments   \n",
              "2            Software Development Engineer - Fintech   \n",
              "3                      Software Development Engineer   \n",
              "4  Embedded Software Development Engineer, Satell...   \n",
              "\n",
              "                                     Job Description  \n",
              "0  4 year professional software development exper...  \n",
              "1  programming experience least one modern langua...  \n",
              "2  bachelor degree computer science related field...  \n",
              "3  1 year experience contributing system design a...  \n",
              "4  1 year experience contributing system design a...  "
            ],
            "text/html": [
              "\n",
              "  <div id=\"df-af0cc1b8-a212-4ae2-a122-7cf2effdf6cc\">\n",
              "    <div class=\"colab-df-container\">\n",
              "      <div>\n",
              "<style scoped>\n",
              "    .dataframe tbody tr th:only-of-type {\n",
              "        vertical-align: middle;\n",
              "    }\n",
              "\n",
              "    .dataframe tbody tr th {\n",
              "        vertical-align: top;\n",
              "    }\n",
              "\n",
              "    .dataframe thead th {\n",
              "        text-align: right;\n",
              "    }\n",
              "</style>\n",
              "<table border=\"1\" class=\"dataframe\">\n",
              "  <thead>\n",
              "    <tr style=\"text-align: right;\">\n",
              "      <th></th>\n",
              "      <th>Industry</th>\n",
              "      <th>Company</th>\n",
              "      <th>Job Title</th>\n",
              "      <th>Job Description</th>\n",
              "    </tr>\n",
              "  </thead>\n",
              "  <tbody>\n",
              "    <tr>\n",
              "      <th>0</th>\n",
              "      <td>Software Engineering</td>\n",
              "      <td>Amazon</td>\n",
              "      <td>Senior Software Development Engineer</td>\n",
              "      <td>4 year professional software development exper...</td>\n",
              "    </tr>\n",
              "    <tr>\n",
              "      <th>1</th>\n",
              "      <td>Software Engineering</td>\n",
              "      <td>Amazon</td>\n",
              "      <td>Software Development Engineer - Payments</td>\n",
              "      <td>programming experience least one modern langua...</td>\n",
              "    </tr>\n",
              "    <tr>\n",
              "      <th>2</th>\n",
              "      <td>Software Engineering</td>\n",
              "      <td>Amazon</td>\n",
              "      <td>Software Development Engineer - Fintech</td>\n",
              "      <td>bachelor degree computer science related field...</td>\n",
              "    </tr>\n",
              "    <tr>\n",
              "      <th>3</th>\n",
              "      <td>Software Engineering</td>\n",
              "      <td>Amazon</td>\n",
              "      <td>Software Development Engineer</td>\n",
              "      <td>1 year experience contributing system design a...</td>\n",
              "    </tr>\n",
              "    <tr>\n",
              "      <th>4</th>\n",
              "      <td>Software Engineering</td>\n",
              "      <td>Amazon</td>\n",
              "      <td>Embedded Software Development Engineer, Satell...</td>\n",
              "      <td>1 year experience contributing system design a...</td>\n",
              "    </tr>\n",
              "  </tbody>\n",
              "</table>\n",
              "</div>\n",
              "      <button class=\"colab-df-convert\" onclick=\"convertToInteractive('df-af0cc1b8-a212-4ae2-a122-7cf2effdf6cc')\"\n",
              "              title=\"Convert this dataframe to an interactive table.\"\n",
              "              style=\"display:none;\">\n",
              "        \n",
              "  <svg xmlns=\"http://www.w3.org/2000/svg\" height=\"24px\"viewBox=\"0 0 24 24\"\n",
              "       width=\"24px\">\n",
              "    <path d=\"M0 0h24v24H0V0z\" fill=\"none\"/>\n",
              "    <path d=\"M18.56 5.44l.94 2.06.94-2.06 2.06-.94-2.06-.94-.94-2.06-.94 2.06-2.06.94zm-11 1L8.5 8.5l.94-2.06 2.06-.94-2.06-.94L8.5 2.5l-.94 2.06-2.06.94zm10 10l.94 2.06.94-2.06 2.06-.94-2.06-.94-.94-2.06-.94 2.06-2.06.94z\"/><path d=\"M17.41 7.96l-1.37-1.37c-.4-.4-.92-.59-1.43-.59-.52 0-1.04.2-1.43.59L10.3 9.45l-7.72 7.72c-.78.78-.78 2.05 0 2.83L4 21.41c.39.39.9.59 1.41.59.51 0 1.02-.2 1.41-.59l7.78-7.78 2.81-2.81c.8-.78.8-2.07 0-2.86zM5.41 20L4 18.59l7.72-7.72 1.47 1.35L5.41 20z\"/>\n",
              "  </svg>\n",
              "      </button>\n",
              "      \n",
              "  <style>\n",
              "    .colab-df-container {\n",
              "      display:flex;\n",
              "      flex-wrap:wrap;\n",
              "      gap: 12px;\n",
              "    }\n",
              "\n",
              "    .colab-df-convert {\n",
              "      background-color: #E8F0FE;\n",
              "      border: none;\n",
              "      border-radius: 50%;\n",
              "      cursor: pointer;\n",
              "      display: none;\n",
              "      fill: #1967D2;\n",
              "      height: 32px;\n",
              "      padding: 0 0 0 0;\n",
              "      width: 32px;\n",
              "    }\n",
              "\n",
              "    .colab-df-convert:hover {\n",
              "      background-color: #E2EBFA;\n",
              "      box-shadow: 0px 1px 2px rgba(60, 64, 67, 0.3), 0px 1px 3px 1px rgba(60, 64, 67, 0.15);\n",
              "      fill: #174EA6;\n",
              "    }\n",
              "\n",
              "    [theme=dark] .colab-df-convert {\n",
              "      background-color: #3B4455;\n",
              "      fill: #D2E3FC;\n",
              "    }\n",
              "\n",
              "    [theme=dark] .colab-df-convert:hover {\n",
              "      background-color: #434B5C;\n",
              "      box-shadow: 0px 1px 3px 1px rgba(0, 0, 0, 0.15);\n",
              "      filter: drop-shadow(0px 1px 2px rgba(0, 0, 0, 0.3));\n",
              "      fill: #FFFFFF;\n",
              "    }\n",
              "  </style>\n",
              "\n",
              "      <script>\n",
              "        const buttonEl =\n",
              "          document.querySelector('#df-af0cc1b8-a212-4ae2-a122-7cf2effdf6cc button.colab-df-convert');\n",
              "        buttonEl.style.display =\n",
              "          google.colab.kernel.accessAllowed ? 'block' : 'none';\n",
              "\n",
              "        async function convertToInteractive(key) {\n",
              "          const element = document.querySelector('#df-af0cc1b8-a212-4ae2-a122-7cf2effdf6cc');\n",
              "          const dataTable =\n",
              "            await google.colab.kernel.invokeFunction('convertToInteractive',\n",
              "                                                     [key], {});\n",
              "          if (!dataTable) return;\n",
              "\n",
              "          const docLinkHtml = 'Like what you see? Visit the ' +\n",
              "            '<a target=\"_blank\" href=https://colab.research.google.com/notebooks/data_table.ipynb>data table notebook</a>'\n",
              "            + ' to learn more about interactive tables.';\n",
              "          element.innerHTML = '';\n",
              "          dataTable['output_type'] = 'display_data';\n",
              "          await google.colab.output.renderOutput(dataTable, element);\n",
              "          const docLink = document.createElement('div');\n",
              "          docLink.innerHTML = docLinkHtml;\n",
              "          element.appendChild(docLink);\n",
              "        }\n",
              "      </script>\n",
              "    </div>\n",
              "  </div>\n",
              "  "
            ]
          },
          "metadata": {},
          "execution_count": 34
        }
      ]
    },
    {
      "cell_type": "code",
      "source": [
        "#Our job titles will serve as 'labels'\n",
        "labels = []\n",
        "for titles in df['Industry']:\n",
        "  labels.append(titles)"
      ],
      "metadata": {
        "id": "C1SPwgeMjr-j"
      },
      "execution_count": null,
      "outputs": []
    },
    {
      "cell_type": "code",
      "source": [
        "#Split our data into training, validation, and testing sets\n",
        "from sklearn.model_selection import train_test_split\n",
        "train_jd,rem_jd,train_labels,rem_labels = train_test_split(jd,labels,train_size=0.8)\n",
        "val_jd,test_jd,val_labels,test_labels = train_test_split(rem_jd,rem_labels,train_size=0.5)"
      ],
      "metadata": {
        "id": "GXgzARbxuzIA"
      },
      "execution_count": null,
      "outputs": []
    },
    {
      "cell_type": "code",
      "source": [
        "#Hyperparameters\n",
        "vocab_size = 10000\n",
        "embedding_dim = 32\n",
        "max_length = 16\n",
        "trunc_type = 'post'\n",
        "padding_type = 'post'\n",
        "oov_tok = \"<OOV>\"\n",
        "training_size = 20000\n",
        "\n",
        "#Tokenize our job descriptions\n",
        "tokenizer = Tokenizer(num_words = vocab_size, oov_token = oov_tok)\n",
        "tokenizer.fit_on_texts(jd)\n",
        "word_index = tokenizer.word_index\n",
        "train_sequences = tokenizer.texts_to_sequences(train_jd)\n",
        "val_sequences = tokenizer.texts_to_sequences(val_jd)\n",
        "test_sequences = tokenizer.texts_to_sequences(test_jd)\n",
        "train_padded = pad_sequences(train_sequences,padding=padding_type, maxlen=max_length)\n",
        "val_padded = pad_sequences(val_sequences,padding=padding_type, maxlen=max_length)\n",
        "test_padded = pad_sequences(test_sequences,padding=padding_type, maxlen=max_length)"
      ],
      "metadata": {
        "id": "6i_M535sIpjz"
      },
      "execution_count": null,
      "outputs": []
    },
    {
      "cell_type": "code",
      "source": [
        "classes = set(labels)\n",
        "class_to_index = dict((c,i) for i, c in enumerate(classes))\n",
        "index_to_class = dict((v,k) for k, v in class_to_index.items())\n",
        "names_to_ids = lambda labels: np.array([class_to_index.get(x) for x in labels])\n",
        "train_labels = names_to_ids(train_labels)\n",
        "val_labels = names_to_ids(val_labels)\n",
        "test_labels = names_to_ids(test_labels)"
      ],
      "metadata": {
        "id": "_Tk-B8AC-HKB"
      },
      "execution_count": null,
      "outputs": []
    },
    {
      "cell_type": "code",
      "source": [
        "'''\n",
        "#Cross Validation to find best hyperparameters. NOTE: This code takes about 5 hours to run.\n",
        "def build_model(hp):\n",
        "    model = keras.Sequential()\n",
        "    model.add(keras.layers.Embedding(\n",
        "        input_dim = hp.Int(\"input_dim\",min_value = 10000,max_value=100000,step=10000),\n",
        "        output_dim = hp.Int(\"output_dim\",min_value = 32,max_value=512,step=32)\n",
        "    ))\n",
        "    model.add(keras.layers.Conv1D(\n",
        "        filters = hp.Int(\"filters\",min_value = 32,max_value=512,step=32),\n",
        "        kernel_size = hp.Int(\"kernel_size\",min_value=1,max_value=10,step=1),\n",
        "        activation=\"relu\"\n",
        "    ))\n",
        "    model.add(keras.layers.GlobalMaxPooling1D())\n",
        "    for i in range(hp.Int(\"num_layers\", 1, 3)):\n",
        "      model.add(\n",
        "          keras.layers.Dense(\n",
        "              # Tune number of units.\n",
        "              units=hp.Int(f\"units_{i}\", min_value=32, max_value=512, step=32),\n",
        "              # Tune the activation function to use.\n",
        "              activation=hp.Choice(\"activation\", [\"relu\", \"tanh\",\"softmax\"]),\n",
        "          )\n",
        "      )\n",
        "    # Tune whether to use dropout.\n",
        "    if hp.Boolean(\"dropout\"):\n",
        "        model.add(keras.layers.Dropout(rate=0.25))\n",
        "    #model.add(keras.layers.Dense(10, activation=\"softmax\"))\n",
        "    # Define the optimizer learning rate as a hyperparameter.\n",
        "    learning_rate = hp.Float(\"lr\", min_value=1e-4, max_value=1e-2, sampling=\"log\")\n",
        "    model.compile(\n",
        "        optimizer=keras.optimizers.Adam(learning_rate=learning_rate),\n",
        "        loss=\"sparse_categorical_crossentropy\",\n",
        "        metrics=[\"accuracy\"],\n",
        "    )\n",
        "    return model\n",
        "\n",
        "tuner = keras_tuner.RandomSearch(\n",
        "    hypermodel=build_model,\n",
        "    objective=\"val_accuracy\",\n",
        "    max_trials=100,\n",
        "    executions_per_trial=2,\n",
        "    overwrite=True,\n",
        "    directory=\"my_dir\",\n",
        "    project_name=\"testing\",\n",
        ")\n",
        "\n",
        "tuner.search(train_padded,train_labels,epochs=2,validation_data=(val_padded,val_labels))\n",
        "tuner.results_summary()\n",
        "'''"
      ],
      "metadata": {
        "colab": {
          "base_uri": "https://localhost:8080/",
          "height": 127
        },
        "id": "g-j_6LXdSISF",
        "outputId": "6ce63232-3392-4d1b-8c00-da38537d5767"
      },
      "execution_count": null,
      "outputs": [
        {
          "output_type": "execute_result",
          "data": {
            "text/plain": [
              "'\\n#Cross Validation to find best hyperparameters. NOTE: This code takes about 5 hours to run.\\ndef build_model(hp):\\n    model = keras.Sequential()\\n    model.add(keras.layers.Embedding(\\n        input_dim = hp.Int(\"input_dim\",min_value = 10000,max_value=100000,step=10000),\\n        output_dim = hp.Int(\"output_dim\",min_value = 32,max_value=512,step=32)\\n    ))\\n    model.add(keras.layers.Conv1D(\\n        filters = hp.Int(\"filters\",min_value = 32,max_value=512,step=32),\\n        kernel_size = hp.Int(\"kernel_size\",min_value=1,max_value=10,step=1),\\n        activation=\"relu\"\\n    ))\\n    model.add(keras.layers.GlobalMaxPooling1D())\\n    for i in range(hp.Int(\"num_layers\", 1, 3)):\\n      model.add(\\n          keras.layers.Dense(\\n              # Tune number of units.\\n              units=hp.Int(f\"units_{i}\", min_value=32, max_value=512, step=32),\\n              # Tune the activation function to use.\\n              activation=hp.Choice(\"activation\", [\"relu\", \"tanh\",\"softmax\"]),\\n          )\\n      )\\n    # Tune whether to use dropout.\\n    if hp.Boolean(\"dropout\"):\\n        model.add(keras.layers.Dropout(rate=0.25))\\n    #model.add(keras.layers.Dense(10, activation=\"softmax\"))\\n    # Define the optimizer learning rate as a hyperparameter.\\n    learning_rate = hp.Float(\"lr\", min_value=1e-4, max_value=1e-2, sampling=\"log\")\\n    model.compile(\\n        optimizer=keras.optimizers.Adam(learning_rate=learning_rate),\\n        loss=\"sparse_categorical_crossentropy\",\\n        metrics=[\"accuracy\"],\\n    )\\n    return model\\n\\ntuner = keras_tuner.RandomSearch(\\n    hypermodel=build_model,\\n    objective=\"val_accuracy\",\\n    max_trials=100,\\n    executions_per_trial=2,\\n    overwrite=True,\\n    directory=\"my_dir\",\\n    project_name=\"testing\",\\n)\\n\\ntuner.search(train_padded,train_labels,epochs=2,validation_data=(val_padded,val_labels))\\ntuner.results_summary()\\n'"
            ],
            "application/vnd.google.colaboratory.intrinsic+json": {
              "type": "string"
            }
          },
          "metadata": {},
          "execution_count": 39
        }
      ]
    },
    {
      "cell_type": "code",
      "source": [
        "input_dim = 10000\n",
        "output_dim = 448\n",
        "filters = 416\n",
        "kernel_size = 7\n",
        "num_layers = 1\n",
        "units_0 = 96\n",
        "activation = 'softmax'\n",
        "#dropout = False\n",
        "lr = 0.0016963\n",
        "units_1 = 160\n",
        "units_2 = 224\n",
        "\n",
        "model = tf.keras.models.Sequential([\n",
        "tf.keras.layers.Embedding(input_dim,output_dim,input_length=max_length),\n",
        "tf.keras.layers.Conv1D(filters,kernel_size,activation='relu'),\n",
        "tf.keras.layers.GlobalMaxPooling1D(),\n",
        "tf.keras.layers.Dense(96, activation='softmax'),\n",
        "])\n",
        "\n",
        "\n",
        "model.compile(\n",
        "     optimizer=keras.optimizers.Adam(learning_rate=lr),\n",
        "     loss=\"sparse_categorical_crossentropy\",\n",
        "     metrics=['accuracy']\n",
        ")"
      ],
      "metadata": {
        "id": "7woBMHYwLvng"
      },
      "execution_count": null,
      "outputs": []
    },
    {
      "cell_type": "code",
      "source": [
        "classes"
      ],
      "metadata": {
        "id": "cK4VEhXYDIq4",
        "colab": {
          "base_uri": "https://localhost:8080/"
        },
        "outputId": "bb7627d2-8213-46f2-a6d6-bd2f54056f6e"
      },
      "execution_count": null,
      "outputs": [
        {
          "output_type": "execute_result",
          "data": {
            "text/plain": [
              "{'Cybersecurity & IT',\n",
              " 'Data Analysis',\n",
              " 'Marketing',\n",
              " 'Operations & Finance',\n",
              " 'Research Scientist',\n",
              " 'Sales',\n",
              " 'Software Engineering'}"
            ]
          },
          "metadata": {},
          "execution_count": 41
        }
      ]
    },
    {
      "cell_type": "code",
      "source": [
        "num_epochs = 20\n",
        "history = model.fit(train_padded,train_labels,epochs=num_epochs,validation_data=(val_padded,val_labels),verbose=2)"
      ],
      "metadata": {
        "id": "coXyCdojeATN",
        "colab": {
          "base_uri": "https://localhost:8080/"
        },
        "outputId": "9562a1ba-e1ae-467e-810b-66d23299006d"
      },
      "execution_count": null,
      "outputs": [
        {
          "output_type": "stream",
          "name": "stdout",
          "text": [
            "Epoch 1/20\n",
            "177/177 - 55s - loss: 1.1316 - accuracy: 0.6796 - val_loss: 0.8500 - val_accuracy: 0.7129 - 55s/epoch - 310ms/step\n",
            "Epoch 2/20\n",
            "177/177 - 40s - loss: 0.5579 - accuracy: 0.8198 - val_loss: 0.8716 - val_accuracy: 0.7284 - 40s/epoch - 228ms/step\n",
            "Epoch 3/20\n",
            "177/177 - 42s - loss: 0.3717 - accuracy: 0.8873 - val_loss: 0.9368 - val_accuracy: 0.7440 - 42s/epoch - 235ms/step\n",
            "Epoch 4/20\n",
            "177/177 - 42s - loss: 0.2993 - accuracy: 0.9044 - val_loss: 1.0157 - val_accuracy: 0.7440 - 42s/epoch - 236ms/step\n",
            "Epoch 5/20\n",
            "177/177 - 40s - loss: 0.2743 - accuracy: 0.9095 - val_loss: 0.9868 - val_accuracy: 0.7341 - 40s/epoch - 228ms/step\n",
            "Epoch 6/20\n",
            "177/177 - 40s - loss: 0.2498 - accuracy: 0.9145 - val_loss: 1.1216 - val_accuracy: 0.7369 - 40s/epoch - 226ms/step\n",
            "Epoch 7/20\n",
            "177/177 - 40s - loss: 0.2351 - accuracy: 0.9180 - val_loss: 1.1386 - val_accuracy: 0.7496 - 40s/epoch - 227ms/step\n",
            "Epoch 8/20\n",
            "177/177 - 40s - loss: 0.2266 - accuracy: 0.9146 - val_loss: 1.1274 - val_accuracy: 0.7454 - 40s/epoch - 227ms/step\n",
            "Epoch 9/20\n",
            "177/177 - 41s - loss: 0.2268 - accuracy: 0.9148 - val_loss: 1.1750 - val_accuracy: 0.7383 - 41s/epoch - 230ms/step\n",
            "Epoch 10/20\n",
            "177/177 - 40s - loss: 0.2204 - accuracy: 0.9171 - val_loss: 1.2324 - val_accuracy: 0.7482 - 40s/epoch - 225ms/step\n",
            "Epoch 11/20\n",
            "177/177 - 40s - loss: 0.2156 - accuracy: 0.9187 - val_loss: 1.3129 - val_accuracy: 0.7539 - 40s/epoch - 228ms/step\n",
            "Epoch 12/20\n",
            "177/177 - 42s - loss: 0.2161 - accuracy: 0.9180 - val_loss: 1.3240 - val_accuracy: 0.7383 - 42s/epoch - 235ms/step\n",
            "Epoch 13/20\n",
            "177/177 - 41s - loss: 0.2147 - accuracy: 0.9185 - val_loss: 1.3561 - val_accuracy: 0.7426 - 41s/epoch - 233ms/step\n",
            "Epoch 14/20\n",
            "177/177 - 41s - loss: 0.2142 - accuracy: 0.9187 - val_loss: 1.3482 - val_accuracy: 0.7454 - 41s/epoch - 231ms/step\n",
            "Epoch 15/20\n",
            "177/177 - 53s - loss: 0.2100 - accuracy: 0.9207 - val_loss: 1.3902 - val_accuracy: 0.7482 - 53s/epoch - 300ms/step\n",
            "Epoch 16/20\n",
            "177/177 - 42s - loss: 0.2122 - accuracy: 0.9182 - val_loss: 1.3560 - val_accuracy: 0.7369 - 42s/epoch - 235ms/step\n",
            "Epoch 17/20\n",
            "177/177 - 42s - loss: 0.2129 - accuracy: 0.9205 - val_loss: 1.3692 - val_accuracy: 0.7454 - 42s/epoch - 236ms/step\n",
            "Epoch 18/20\n",
            "177/177 - 43s - loss: 0.2115 - accuracy: 0.9208 - val_loss: 1.4393 - val_accuracy: 0.7539 - 43s/epoch - 244ms/step\n",
            "Epoch 19/20\n",
            "177/177 - 41s - loss: 0.2155 - accuracy: 0.9185 - val_loss: 1.4734 - val_accuracy: 0.7355 - 41s/epoch - 234ms/step\n",
            "Epoch 20/20\n",
            "177/177 - 42s - loss: 0.2838 - accuracy: 0.9023 - val_loss: 1.8468 - val_accuracy: 0.7214 - 42s/epoch - 234ms/step\n"
          ]
        }
      ]
    },
    {
      "cell_type": "code",
      "source": [
        "model.evaluate(test_padded,test_labels)"
      ],
      "metadata": {
        "id": "jGy0HjPtzn3T",
        "colab": {
          "base_uri": "https://localhost:8080/"
        },
        "outputId": "73e63802-8fb3-4261-fe3b-8d314cfca7e5"
      },
      "execution_count": null,
      "outputs": [
        {
          "output_type": "stream",
          "name": "stdout",
          "text": [
            "23/23 [==============================] - 1s 32ms/step - loss: 1.9063 - accuracy: 0.7062\n"
          ]
        },
        {
          "output_type": "execute_result",
          "data": {
            "text/plain": [
              "[1.9062681198120117, 0.7062146663665771]"
            ]
          },
          "metadata": {},
          "execution_count": 43
        }
      ]
    },
    {
      "cell_type": "code",
      "source": [
        "import matplotlib.pyplot as plt\n",
        "\n",
        "def plot_graphs(history, string):\n",
        "  plt.plot(history.history[string])\n",
        "  plt.plot(history.history['val_'+string])\n",
        "  plt.xlabel('Epochs')\n",
        "  plt.ylabel(string)\n",
        "  plt.legend([string, 'val_'+string])\n",
        "  plt.show()\n",
        "\n",
        "plot_graphs(history, \"accuracy\")\n",
        "plot_graphs(history, \"loss\")"
      ],
      "metadata": {
        "id": "uluyaNGzN2m2",
        "colab": {
          "base_uri": "https://localhost:8080/",
          "height": 541
        },
        "outputId": "6b464f05-7f24-42f7-cd46-eac429e93ad1"
      },
      "execution_count": null,
      "outputs": [
        {
          "output_type": "display_data",
          "data": {
            "text/plain": [
              "<Figure size 432x288 with 1 Axes>"
            ],
            "image/png": "[encoded data removed]"
          },
          "metadata": {
            "needs_background": "light"
          }
        },
        {
          "output_type": "display_data",
          "data": {
            "text/plain": [
              "<Figure size 432x288 with 1 Axes>"
            ],
            "image/png": "[encoded data removed]"
          },
          "metadata": {
            "needs_background": "light"
          }
        }
      ]
    },
    {
      "cell_type": "code",
      "source": [
        "#Let's see if the model performs better when we reduce the industry labels to just two (either \"Technology\" or \"Business\")\n",
        "df2 = pd.read_csv('swe_marketing_jobs_v2.csv',header=None,names=['Industry','Company','Job Title','Job Description'],skiprows=1)\n",
        "for i in range(len(df2['Industry'])):\n",
        "  if df2['Industry'][i] in ['Software Engineering','Technology (Non-SWE)','Product Management','Data Analysis','Cybersecurity & IT','Research Scientist']:\n",
        "    df2['Industry'][i] = 'Technology'\n",
        "  elif df2['Industry'][i] in ['Business & Operations','Marketing','Other Business Related','Sales']:\n",
        "    df2['Industry'][i] = 'Business'\n",
        "df2['Industry'].value_counts()\n",
        "df2"
      ],
      "metadata": {
        "colab": {
          "base_uri": "https://localhost:8080/",
          "height": 423
        },
        "id": "uw6FhhB_Tm6B",
        "outputId": "7a4712a4-9016-4960-d294-81a8e1a833c2"
      },
      "execution_count": null,
      "outputs": [
        {
          "output_type": "execute_result",
          "data": {
            "text/plain": [
              "        Industry Company                                          Job Title  \\\n",
              "0     Technology  Amazon               Senior Software Development Engineer   \n",
              "1     Technology  Amazon           Software Development Engineer - Payments   \n",
              "2     Technology  Amazon            Software Development Engineer - Fintech   \n",
              "3     Technology  Amazon                      Software Development Engineer   \n",
              "4     Technology  Amazon  Embedded Software Development Engineer, Satell...   \n",
              "...          ...     ...                                                ...   \n",
              "7069    Business   Cisco              PR Manager, Cisco Customer Experience   \n",
              "7070  Technology   Cisco                          Product Marketing Manager   \n",
              "7071  Technology   Cisco                        Leader, Strategy & Planning   \n",
              "7072    Business   Cisco                   Federal Civilian Account Manager   \n",
              "7073    Business   Cisco                                   Client Executive   \n",
              "\n",
              "                                        Job Description  \n",
              "0     4 year professional software development exper...  \n",
              "1     programming experience least one modern langua...  \n",
              "2     bachelor degree computer science related field...  \n",
              "3     1 year experience contributing system design a...  \n",
              "4     1 year experience contributing system design a...  \n",
              "...                                                 ...  \n",
              "7069  looking strong writer work across team drive m...  \n",
              "7070  role excellent written verbal communication sk...  \n",
              "7071  deconstruct business strategy capability data ...  \n",
              "7072  b degree equivalent 10 year selling federal ci...  \n",
              "7073  interested strategic role cisco next generatio...  \n",
              "\n",
              "[7074 rows x 4 columns]"
            ],
            "text/html": [
              "\n",
              "  <div id=\"df-b496948f-153c-4b42-9fcd-bd6fb005cd94\">\n",
              "    <div class=\"colab-df-container\">\n",
              "      <div>\n",
              "<style scoped>\n",
              "    .dataframe tbody tr th:only-of-type {\n",
              "        vertical-align: middle;\n",
              "    }\n",
              "\n",
              "    .dataframe tbody tr th {\n",
              "        vertical-align: top;\n",
              "    }\n",
              "\n",
              "    .dataframe thead th {\n",
              "        text-align: right;\n",
              "    }\n",
              "</style>\n",
              "<table border=\"1\" class=\"dataframe\">\n",
              "  <thead>\n",
              "    <tr style=\"text-align: right;\">\n",
              "      <th></th>\n",
              "      <th>Industry</th>\n",
              "      <th>Company</th>\n",
              "      <th>Job Title</th>\n",
              "      <th>Job Description</th>\n",
              "    </tr>\n",
              "  </thead>\n",
              "  <tbody>\n",
              "    <tr>\n",
              "      <th>0</th>\n",
              "      <td>Technology</td>\n",
              "      <td>Amazon</td>\n",
              "      <td>Senior Software Development Engineer</td>\n",
              "      <td>4 year professional software development exper...</td>\n",
              "    </tr>\n",
              "    <tr>\n",
              "      <th>1</th>\n",
              "      <td>Technology</td>\n",
              "      <td>Amazon</td>\n",
              "      <td>Software Development Engineer - Payments</td>\n",
              "      <td>programming experience least one modern langua...</td>\n",
              "    </tr>\n",
              "    <tr>\n",
              "      <th>2</th>\n",
              "      <td>Technology</td>\n",
              "      <td>Amazon</td>\n",
              "      <td>Software Development Engineer - Fintech</td>\n",
              "      <td>bachelor degree computer science related field...</td>\n",
              "    </tr>\n",
              "    <tr>\n",
              "      <th>3</th>\n",
              "      <td>Technology</td>\n",
              "      <td>Amazon</td>\n",
              "      <td>Software Development Engineer</td>\n",
              "      <td>1 year experience contributing system design a...</td>\n",
              "    </tr>\n",
              "    <tr>\n",
              "      <th>4</th>\n",
              "      <td>Technology</td>\n",
              "      <td>Amazon</td>\n",
              "      <td>Embedded Software Development Engineer, Satell...</td>\n",
              "      <td>1 year experience contributing system design a...</td>\n",
              "    </tr>\n",
              "    <tr>\n",
              "      <th>...</th>\n",
              "      <td>...</td>\n",
              "      <td>...</td>\n",
              "      <td>...</td>\n",
              "      <td>...</td>\n",
              "    </tr>\n",
              "    <tr>\n",
              "      <th>7069</th>\n",
              "      <td>Business</td>\n",
              "      <td>Cisco</td>\n",
              "      <td>PR Manager, Cisco Customer Experience</td>\n",
              "      <td>looking strong writer work across team drive m...</td>\n",
              "    </tr>\n",
              "    <tr>\n",
              "      <th>7070</th>\n",
              "      <td>Technology</td>\n",
              "      <td>Cisco</td>\n",
              "      <td>Product Marketing Manager</td>\n",
              "      <td>role excellent written verbal communication sk...</td>\n",
              "    </tr>\n",
              "    <tr>\n",
              "      <th>7071</th>\n",
              "      <td>Technology</td>\n",
              "      <td>Cisco</td>\n",
              "      <td>Leader, Strategy &amp; Planning</td>\n",
              "      <td>deconstruct business strategy capability data ...</td>\n",
              "    </tr>\n",
              "    <tr>\n",
              "      <th>7072</th>\n",
              "      <td>Business</td>\n",
              "      <td>Cisco</td>\n",
              "      <td>Federal Civilian Account Manager</td>\n",
              "      <td>b degree equivalent 10 year selling federal ci...</td>\n",
              "    </tr>\n",
              "    <tr>\n",
              "      <th>7073</th>\n",
              "      <td>Business</td>\n",
              "      <td>Cisco</td>\n",
              "      <td>Client Executive</td>\n",
              "      <td>interested strategic role cisco next generatio...</td>\n",
              "    </tr>\n",
              "  </tbody>\n",
              "</table>\n",
              "<p>7074 rows × 4 columns</p>\n",
              "</div>\n",
              "      <button class=\"colab-df-convert\" onclick=\"convertToInteractive('df-b496948f-153c-4b42-9fcd-bd6fb005cd94')\"\n",
              "              title=\"Convert this dataframe to an interactive table.\"\n",
              "              style=\"display:none;\">\n",
              "        \n",
              "  <svg xmlns=\"http://www.w3.org/2000/svg\" height=\"24px\"viewBox=\"0 0 24 24\"\n",
              "       width=\"24px\">\n",
              "    <path d=\"M0 0h24v24H0V0z\" fill=\"none\"/>\n",
              "    <path d=\"M18.56 5.44l.94 2.06.94-2.06 2.06-.94-2.06-.94-.94-2.06-.94 2.06-2.06.94zm-11 1L8.5 8.5l.94-2.06 2.06-.94-2.06-.94L8.5 2.5l-.94 2.06-2.06.94zm10 10l.94 2.06.94-2.06 2.06-.94-2.06-.94-.94-2.06-.94 2.06-2.06.94z\"/><path d=\"M17.41 7.96l-1.37-1.37c-.4-.4-.92-.59-1.43-.59-.52 0-1.04.2-1.43.59L10.3 9.45l-7.72 7.72c-.78.78-.78 2.05 0 2.83L4 21.41c.39.39.9.59 1.41.59.51 0 1.02-.2 1.41-.59l7.78-7.78 2.81-2.81c.8-.78.8-2.07 0-2.86zM5.41 20L4 18.59l7.72-7.72 1.47 1.35L5.41 20z\"/>\n",
              "  </svg>\n",
              "      </button>\n",
              "      \n",
              "  <style>\n",
              "    .colab-df-container {\n",
              "      display:flex;\n",
              "      flex-wrap:wrap;\n",
              "      gap: 12px;\n",
              "    }\n",
              "\n",
              "    .colab-df-convert {\n",
              "      background-color: #E8F0FE;\n",
              "      border: none;\n",
              "      border-radius: 50%;\n",
              "      cursor: pointer;\n",
              "      display: none;\n",
              "      fill: #1967D2;\n",
              "      height: 32px;\n",
              "      padding: 0 0 0 0;\n",
              "      width: 32px;\n",
              "    }\n",
              "\n",
              "    .colab-df-convert:hover {\n",
              "      background-color: #E2EBFA;\n",
              "      box-shadow: 0px 1px 2px rgba(60, 64, 67, 0.3), 0px 1px 3px 1px rgba(60, 64, 67, 0.15);\n",
              "      fill: #174EA6;\n",
              "    }\n",
              "\n",
              "    [theme=dark] .colab-df-convert {\n",
              "      background-color: #3B4455;\n",
              "      fill: #D2E3FC;\n",
              "    }\n",
              "\n",
              "    [theme=dark] .colab-df-convert:hover {\n",
              "      background-color: #434B5C;\n",
              "      box-shadow: 0px 1px 3px 1px rgba(0, 0, 0, 0.15);\n",
              "      filter: drop-shadow(0px 1px 2px rgba(0, 0, 0, 0.3));\n",
              "      fill: #FFFFFF;\n",
              "    }\n",
              "  </style>\n",
              "\n",
              "      <script>\n",
              "        const buttonEl =\n",
              "          document.querySelector('#df-b496948f-153c-4b42-9fcd-bd6fb005cd94 button.colab-df-convert');\n",
              "        buttonEl.style.display =\n",
              "          google.colab.kernel.accessAllowed ? 'block' : 'none';\n",
              "\n",
              "        async function convertToInteractive(key) {\n",
              "          const element = document.querySelector('#df-b496948f-153c-4b42-9fcd-bd6fb005cd94');\n",
              "          const dataTable =\n",
              "            await google.colab.kernel.invokeFunction('convertToInteractive',\n",
              "                                                     [key], {});\n",
              "          if (!dataTable) return;\n",
              "\n",
              "          const docLinkHtml = 'Like what you see? Visit the ' +\n",
              "            '<a target=\"_blank\" href=https://colab.research.google.com/notebooks/data_table.ipynb>data table notebook</a>'\n",
              "            + ' to learn more about interactive tables.';\n",
              "          element.innerHTML = '';\n",
              "          dataTable['output_type'] = 'display_data';\n",
              "          await google.colab.output.renderOutput(dataTable, element);\n",
              "          const docLink = document.createElement('div');\n",
              "          docLink.innerHTML = docLinkHtml;\n",
              "          element.appendChild(docLink);\n",
              "        }\n",
              "      </script>\n",
              "    </div>\n",
              "  </div>\n",
              "  "
            ]
          },
          "metadata": {},
          "execution_count": 46
        }
      ]
    },
    {
      "cell_type": "code",
      "source": [
        "labels2 = []\n",
        "for titles in df2['Industry']:\n",
        "  labels2.append(titles)"
      ],
      "metadata": {
        "id": "12uC4UbpQBgm"
      },
      "execution_count": null,
      "outputs": []
    },
    {
      "cell_type": "code",
      "source": [
        "#Split our data into training, validation, and testing sets\n",
        "train_jd2,rem_jd2,train_labels2,rem_labels2 = train_test_split(jd,labels2,train_size=0.8)\n",
        "val_jd2,test_jd2,val_labels2,test_labels2 = train_test_split(rem_jd2,rem_labels2,train_size=0.5)"
      ],
      "metadata": {
        "id": "NUg7Gkn_QBgn"
      },
      "execution_count": null,
      "outputs": []
    },
    {
      "cell_type": "code",
      "source": [
        "#Tokenize our job descriptions again\n",
        "train_sequences2 = tokenizer.texts_to_sequences(train_jd2)\n",
        "val_sequences2 = tokenizer.texts_to_sequences(val_jd2)\n",
        "test_sequences2 = tokenizer.texts_to_sequences(test_jd2)\n",
        "train_padded2 = pad_sequences(train_sequences2,padding=padding_type, maxlen=max_length)\n",
        "val_padded2 = pad_sequences(val_sequences2,padding=padding_type, maxlen=max_length)\n",
        "test_padded2 = pad_sequences(test_sequences2,padding=padding_type, maxlen=max_length)"
      ],
      "metadata": {
        "id": "-iNGo8SPQBgn"
      },
      "execution_count": null,
      "outputs": []
    },
    {
      "cell_type": "code",
      "source": [
        "classes2 = set(labels2)\n",
        "class_to_index2 = dict((c,i) for i, c in enumerate(classes2))\n",
        "index_to_class2 = dict((v,k) for k, v in class_to_index2.items())\n",
        "names_to_ids2 = lambda labels2: np.array([class_to_index2.get(x) for x in labels2])\n",
        "train_labels2 = names_to_ids2(train_labels2)\n",
        "val_labels2 = names_to_ids2(val_labels2)\n",
        "test_labels2 = names_to_ids2(test_labels2)"
      ],
      "metadata": {
        "id": "sbW3D-SvmkFi"
      },
      "execution_count": null,
      "outputs": []
    },
    {
      "cell_type": "code",
      "source": [
        "model2 = tf.keras.models.clone_model(\n",
        "    model, input_tensors=None, clone_function=None\n",
        ")\n",
        "model2.compile(\n",
        "     optimizer=keras.optimizers.Adam(learning_rate=lr),\n",
        "     loss=\"sparse_categorical_crossentropy\",\n",
        "     metrics=['accuracy']\n",
        ")\n",
        "num_epochs = 20\n",
        "history2 = model2.fit(train_padded2,train_labels2,epochs=num_epochs,validation_data=(val_padded2,val_labels2),verbose=2)"
      ],
      "metadata": {
        "id": "DfkGD-UyRNBV",
        "colab": {
          "base_uri": "https://localhost:8080/"
        },
        "outputId": "e6c03e88-b10b-47ca-8ff8-4f524c24fd96"
      },
      "execution_count": null,
      "outputs": [
        {
          "output_type": "stream",
          "name": "stdout",
          "text": [
            "Epoch 1/20\n",
            "177/177 - 41s - loss: 0.7221 - accuracy: 0.8083 - val_loss: 0.4499 - val_accuracy: 0.8317 - 41s/epoch - 234ms/step\n",
            "Epoch 2/20\n",
            "177/177 - 41s - loss: 0.3164 - accuracy: 0.8929 - val_loss: 0.4557 - val_accuracy: 0.8557 - 41s/epoch - 230ms/step\n",
            "Epoch 3/20\n",
            "177/177 - 42s - loss: 0.2148 - accuracy: 0.9293 - val_loss: 0.4492 - val_accuracy: 0.8472 - 42s/epoch - 237ms/step\n",
            "Epoch 4/20\n",
            "177/177 - 42s - loss: 0.1786 - accuracy: 0.9390 - val_loss: 0.5018 - val_accuracy: 0.8543 - 42s/epoch - 237ms/step\n",
            "Epoch 5/20\n",
            "177/177 - 40s - loss: 0.1556 - accuracy: 0.9426 - val_loss: 0.5451 - val_accuracy: 0.8515 - 40s/epoch - 229ms/step\n",
            "Epoch 6/20\n",
            "177/177 - 40s - loss: 0.1469 - accuracy: 0.9427 - val_loss: 0.6129 - val_accuracy: 0.8571 - 40s/epoch - 228ms/step\n",
            "Epoch 7/20\n",
            "177/177 - 40s - loss: 0.1414 - accuracy: 0.9466 - val_loss: 0.5877 - val_accuracy: 0.8529 - 40s/epoch - 228ms/step\n",
            "Epoch 8/20\n",
            "177/177 - 41s - loss: 0.1364 - accuracy: 0.9466 - val_loss: 0.6757 - val_accuracy: 0.8501 - 41s/epoch - 232ms/step\n",
            "Epoch 9/20\n",
            "177/177 - 41s - loss: 0.1354 - accuracy: 0.9472 - val_loss: 0.6275 - val_accuracy: 0.8487 - 41s/epoch - 233ms/step\n",
            "Epoch 10/20\n",
            "177/177 - 41s - loss: 0.1357 - accuracy: 0.9484 - val_loss: 0.6264 - val_accuracy: 0.8472 - 41s/epoch - 231ms/step\n",
            "Epoch 11/20\n",
            "177/177 - 41s - loss: 0.1342 - accuracy: 0.9470 - val_loss: 0.7173 - val_accuracy: 0.8501 - 41s/epoch - 232ms/step\n",
            "Epoch 12/20\n",
            "177/177 - 40s - loss: 0.1339 - accuracy: 0.9473 - val_loss: 0.6693 - val_accuracy: 0.8529 - 40s/epoch - 228ms/step\n",
            "Epoch 13/20\n",
            "177/177 - 40s - loss: 0.1307 - accuracy: 0.9479 - val_loss: 0.7279 - val_accuracy: 0.8472 - 40s/epoch - 225ms/step\n",
            "Epoch 14/20\n",
            "177/177 - 40s - loss: 0.1348 - accuracy: 0.9463 - val_loss: 0.6914 - val_accuracy: 0.8402 - 40s/epoch - 227ms/step\n",
            "Epoch 15/20\n",
            "177/177 - 40s - loss: 0.1326 - accuracy: 0.9466 - val_loss: 0.7303 - val_accuracy: 0.8373 - 40s/epoch - 228ms/step\n",
            "Epoch 16/20\n",
            "177/177 - 40s - loss: 0.1304 - accuracy: 0.9493 - val_loss: 0.7136 - val_accuracy: 0.8430 - 40s/epoch - 226ms/step\n",
            "Epoch 17/20\n",
            "177/177 - 40s - loss: 0.1322 - accuracy: 0.9480 - val_loss: 0.7774 - val_accuracy: 0.8586 - 40s/epoch - 227ms/step\n",
            "Epoch 18/20\n",
            "177/177 - 41s - loss: 0.1329 - accuracy: 0.9466 - val_loss: 0.7735 - val_accuracy: 0.8416 - 41s/epoch - 231ms/step\n",
            "Epoch 19/20\n",
            "177/177 - 41s - loss: 0.1436 - accuracy: 0.9435 - val_loss: 1.0620 - val_accuracy: 0.8303 - 41s/epoch - 230ms/step\n",
            "Epoch 20/20\n",
            "177/177 - 41s - loss: 0.2191 - accuracy: 0.9286 - val_loss: 1.0219 - val_accuracy: 0.8232 - 41s/epoch - 231ms/step\n"
          ]
        }
      ]
    },
    {
      "cell_type": "code",
      "source": [
        "model2.evaluate(test_padded2,test_labels2)"
      ],
      "metadata": {
        "id": "yjsfOQiIRNBV",
        "colab": {
          "base_uri": "https://localhost:8080/"
        },
        "outputId": "547888b6-cef8-4890-a857-1e71169f7482"
      },
      "execution_count": null,
      "outputs": [
        {
          "output_type": "stream",
          "name": "stdout",
          "text": [
            "23/23 [==============================] - 1s 30ms/step - loss: 1.0670 - accuracy: 0.8008\n"
          ]
        },
        {
          "output_type": "execute_result",
          "data": {
            "text/plain": [
              "[1.0670350790023804, 0.8008474707603455]"
            ]
          },
          "metadata": {},
          "execution_count": 52
        }
      ]
    },
    {
      "cell_type": "code",
      "source": [
        "plot_graphs(history2, \"accuracy\")\n",
        "plot_graphs(history2, \"loss\")"
      ],
      "metadata": {
        "id": "wpSf4hqgpVCa",
        "colab": {
          "base_uri": "https://localhost:8080/",
          "height": 541
        },
        "outputId": "ef6ccf37-6120-4bf8-d414-7b3f5afba2cd"
      },
      "execution_count": null,
      "outputs": [
        {
          "output_type": "display_data",
          "data": {
            "text/plain": [
              "<Figure size 432x288 with 1 Axes>"
            ],
            "image/png": "[encoded data removed]"
          },
          "metadata": {
            "needs_background": "light"
          }
        },
        {
          "output_type": "display_data",
          "data": {
            "text/plain": [
              "<Figure size 432x288 with 1 Axes>"
            ],
            "image/png": "[encoded data removed]"
          },
          "metadata": {
            "needs_background": "light"
          }
        }
      ]
    },
    {
      "cell_type": "markdown",
      "source": [
        "**Testing Demo: LinkedIn Profiles**"
      ],
      "metadata": {
        "id": "emDpj6vq_r3v"
      }
    },
    {
      "cell_type": "code",
      "source": [
        "def classify(input,model,tokenizer):\n",
        "  qualifications = tokenizer.texts_to_sequences([input])\n",
        "  qualifications = pad_sequences(qualifications,padding=padding_type,maxlen=max_length)\n",
        "  predictions = model.predict(qualifications)\n",
        "  classify_df = pd.DataFrame(columns=['Industry','% Match'])\n",
        "  classify_df['Industry'] = list(classes)\n",
        "  for i in range(len(predictions[0])):\n",
        "    classify_df['% Match'][i] = predictions[0][i]*100\n",
        "  classify_df.set_index('Industry',inplace=True)\n",
        "  print(classify_df.sort_values(by='% Match',ascending=False))"
      ],
      "metadata": {
        "id": "PaUbgl2d367j"
      },
      "execution_count": null,
      "outputs": []
    },
    {
      "cell_type": "markdown",
      "source": [
        "Candidate #1: Software Engineer @ Microsoft with prior experience as a team lead for engineers working in sales analytics"
      ],
      "metadata": {
        "id": "FEZRTsKZ_yul"
      }
    },
    {
      "cell_type": "code",
      "source": [
        "classify('Azure Kubernetes Service (AKS) team - Built a web server in Golang and wrote unit tests. Designed and deployed it with a microservices architecture, leveraging Kubernetes communication patterns. - Containerized the web server using a multistage Docker build process and packaged it into a Helm Chart. Set up a CI/CD pipeline to automatically test and deploy application to an AKS cluster. - Created a logging and metrics infrastructure, using Azure Log Analytics, Prometheus, and Grafana to monitor application behavior and system health. Led a team of engineers and product managers to shape the evolution of Dropbox’s central sales analytics tool. While leading the team, we: - Increased adoption of the platform by 2.4x in 2020. - Built a PowerPoint generation engine to deliver customized, data-driven sales materials at scale, enhancing productivity of the sales organization by ~500 hours per quarter. - Advised global sales teams on strategic customers through bespoke analytics. Designed a scalable model that resulted in a 10% increase in ARR influenced each quarter.',model,tokenizer)"
      ],
      "metadata": {
        "id": "uIjWatJC5f9Z",
        "colab": {
          "base_uri": "https://localhost:8080/"
        },
        "outputId": "f76cb2e8-f5e2-40b7-e2fe-b6f11f412e97"
      },
      "execution_count": null,
      "outputs": [
        {
          "output_type": "stream",
          "name": "stdout",
          "text": [
            "1/1 [==============================] - 0s 27ms/step\n",
            "                        % Match\n",
            "Industry                       \n",
            "Software Engineering  78.639126\n",
            "Marketing             21.328141\n",
            "Data Analysis          0.019515\n",
            "Cybersecurity & IT     0.012222\n",
            "Operations & Finance   0.000838\n",
            "Sales                  0.000105\n",
            "Research Scientist     0.000042\n"
          ]
        }
      ]
    },
    {
      "cell_type": "markdown",
      "source": [
        "Candidate #2: Software Engineer @ Amazon with academic background in computer science and data science"
      ],
      "metadata": {
        "id": "7k2ZG1y4AR_A"
      }
    },
    {
      "cell_type": "code",
      "source": [
        "classify('-Worked on the backend team to develop the Edtera web application, a learning engagement platform, using the Java Spring MVC Framework -Implemented data access layer using Spring Data JPA to allow various CRUD services to Edtera’s PostgreSQL database -Developed a performance tracker using Spring RestTemplate to retrieve students’ enrollment and grade data from third party learning management systems and configured RestTemplate Interceptor to reduce redundancy in the code -Built RESTful services to publish data by creating Rest Controllers, such as grades, course, enrollment information, etc. -Developed a high-performance laser health monitoring program with Python, which was highly recognized by the course instructor and project sponsor and selected for exhibition at the Department Senior Design Day -Implemented Random Forest Regression using Scikit-Learn library to predict laser survival rate, achieving MAPE of 12% -Created an interactive data visualization web application with Python Dash framework for explorative analysis -Designed a feature engineering procedure to sum the time series data and convert it to a supervised-learning problem',model,tokenizer)"
      ],
      "metadata": {
        "id": "60Q2xVeI7B2B",
        "colab": {
          "base_uri": "https://localhost:8080/"
        },
        "outputId": "e3340337-d3ef-47ec-af12-6a2021f15a99"
      },
      "execution_count": null,
      "outputs": [
        {
          "output_type": "stream",
          "name": "stdout",
          "text": [
            "1/1 [==============================] - 0s 33ms/step\n",
            "                        % Match\n",
            "Industry                       \n",
            "Data Analysis         55.016786\n",
            "Marketing             36.207151\n",
            "Software Engineering   3.333176\n",
            "Sales                  3.207008\n",
            "Operations & Finance   1.994777\n",
            "Cybersecurity & IT     0.232973\n",
            "Research Scientist      0.00813\n"
          ]
        }
      ]
    },
    {
      "cell_type": "markdown",
      "source": [
        "Candidate #3: Senior Marketing Analytics Manager @ Rippling with extensive work history as a marketing data analyst"
      ],
      "metadata": {
        "id": "gh9jKWxoAeLu"
      }
    },
    {
      "cell_type": "code",
      "source": [
        "classify('1. Create measurement framework across different funnel stages (TOF, MOF, and BOF) and marketing channels & campaigns: 1) identify KPIs (primary & secondary) and 2) define leading indicators 2. Build reporting foundation and consistently report on 1) actuals against goals by segment, marketing channel, campaign, and product and 2) trend on performance across acquisition and cross-sell motions. Identify gaps on data tracking, data connection, and reporting infrastructure and implement solutions. 3. Develop a framework to measure channel and campaign effectiveness and efficiency through attribution (FT, LT, & MT) and incrementality (MMM & geo-based experiments). Marketing channels include Paid Social (LinkedIn & Facebook & YouTube), Paid & Organic Search, Review Sites, and OOH 4. Hire and grow a Marketing Analytics team, mentor and coach analyst(s) to deliver high-quality work 1. Acquisition Marketing Channel and Campaign Analysis - Measure acquisition marketing campaign performance through Geo experiments, time series models, and platform lift studies; Channels include brand media, such as TV, OTT, Streaming Audio, & Podcast, and OA media, such as Display, OLV, Paid Social, Paid Search, and Affiliates - Design and measure channel incrementality tests (PPC Brand & OTT/CTV) and other tests, such as bid algorithm test and landing page test, across different product segments - Provide on-going channel and campaign performance analysis via prediction models, pre-post analysis, and A/B tests; Create channel performance dashboard (Holistic Search) to inform efficiency - Provide insights and recommendations on channel and campaign performance to marketing stakeholders and the leadership team based on the test and analysis results 2. Product Performance Analysis - Analytics lead on weekly marketing acquisition performance across all channels (Brand and OA) for Quickbooks Online product. - Work with finance, marketing, sales, and other analytics teams to identify performance root causes. - Define full-funnel metrics to measure marketing acquisition performance, such as brand metrics, QBO brand and industry search demand, traffic and conversion rate, sales, and CPA. 1. CRM/Database Marketing Management and Strategies - CRM database and email & direct mail channels owner and work with sales team for outbound call campaigns. Develop, optimize, monitor, and execute database marketing campaigns including re-marketing, cross-sell, acquisition, and win-back. - Analyze CRM customer & campaign data on different segments to improve overall DBM campaign performance. Auto re-marketing campaign sales contribute 13.5% of total company sales in 2016. - Provide on-going analysis on CRM data to define targeting and segmentation strategies for marketing acquisition campaigns. Design A/B and multivariate tests and define KPIs to measure test success. - Oversee design, development, and maintenance of a CRM database. Work with a cross-functional team (product, analytics, development, and BI) to define database and data integration requirements. - Collaborate with data science, sales, BI, and IT teams to build and implement models used for segmentation and targeting strategies to increase customer lifetime value and campaign ROI. - Provide insights and recommendations to the senior management team to influence decision making. 2. Marketing Analytics - Lead all aspects of Marketing Analytics, including campaign analysis, reporting, and predictive modeling. Marketing channels include email, SEM, affiliates, paid social, and sponsorship. - Provide on-going analysis on CRM data to inform targeting and segmentation strategies for marketing acquisition campaigns. Design tests and define KPIs to measure campaign and test success. - Analyze cost, engagement, and sales data to propose U.S. budget re-allocation recommendations across marketing channels to increase conversion, ROI, and improve customer mix. - Set KPIs and lead efforts to provide and consolidate analysis and reporting for website testing. - Provide insights and recommendations to the senior management team to influence decision making.',model,tokenizer)"
      ],
      "metadata": {
        "id": "jJ7nAYEMImqZ",
        "colab": {
          "base_uri": "https://localhost:8080/"
        },
        "outputId": "c28898fe-558c-4f9c-d09e-aa2980ecf2c0"
      },
      "execution_count": null,
      "outputs": [
        {
          "output_type": "stream",
          "name": "stdout",
          "text": [
            "1/1 [==============================] - 0s 25ms/step\n",
            "                        % Match\n",
            "Industry                       \n",
            "Marketing             84.602392\n",
            "Software Engineering   7.485791\n",
            "Data Analysis          6.054982\n",
            "Cybersecurity & IT     1.055249\n",
            "Sales                  0.408382\n",
            "Operations & Finance   0.239769\n",
            "Research Scientist     0.153403\n"
          ]
        }
      ]
    },
    {
      "cell_type": "markdown",
      "source": [
        "Candidate #4: Product Manager @ Meta with prior experience as a consultant at Deloitte Digital"
      ],
      "metadata": {
        "id": "0fz2FR2-AqUR"
      }
    },
    {
      "cell_type": "code",
      "source": [
        "classify('Product Manager for Strategic Transformation Tool: Led a nine-person product team to design, build, and launch StrategyAccelerator® - a single, customizable digital platform to help companies drive ideation to implementation across their business strategy life cycle, resulting in 17 client wins and $xxM revenue in direct asset fees and services for Deloitte Product and Monetization Strategy for a Pharmaceutical Company: Managed a five-person team to develop and prioritize 42 use cases and monetization opportunities of facial and retinal scans towards disruptive applications of AI and ML for disease detection and treatment targeting direct-to-consumer opportunities Marketing Strategy, Operations, and Annual Planning for $9B Cloud Technology Company: Led a five-person team working directly with the CMO and SVPs to spearhead annual strategic planning, and successfully secured ~$600M, the highest % of investment allocation for the marketing organization thus far from the C-suite eCommerce Partnership Strategy for $600B Global Social Media Company: Led leadership strategy workshops engaging cross-functionally with sales, product development, and privacy compliance to identify target large and mid-size retailers for ecommerce offering expansion, and develop a GTM plan for ~60M potential buyers Customer Experience and Journey Mapping for Fortune 500 Financial Services Company: Designed product roadmap to improve customer satisfaction and retention; directed ethnographic research leading to insights on key customer behaviors via quantitative surveys and interviews to understand customer journeys and shape new service offerings',model,tokenizer)"
      ],
      "metadata": {
        "id": "XiaHicCKJio8",
        "colab": {
          "base_uri": "https://localhost:8080/"
        },
        "outputId": "119b1fed-88fa-4615-d471-fcedbd6715cc"
      },
      "execution_count": null,
      "outputs": [
        {
          "output_type": "stream",
          "name": "stdout",
          "text": [
            "1/1 [==============================] - 0s 28ms/step\n",
            "                        % Match\n",
            "Industry                       \n",
            "Software Engineering  83.460605\n",
            "Marketing             12.500228\n",
            "Sales                  3.500497\n",
            "Cybersecurity & IT     0.251434\n",
            "Operations & Finance   0.204379\n",
            "Data Analysis          0.080102\n",
            "Research Scientist     0.002758\n"
          ]
        }
      ]
    },
    {
      "cell_type": "markdown",
      "source": [
        "Candidate #5: Investment Banker @ Brookwood Associates. No background in tech - purely a finance person."
      ],
      "metadata": {
        "id": "jq-whKY4A7SG"
      }
    },
    {
      "cell_type": "code",
      "source": [
        "classify('- Represented CAIRE on its second U.S. acquisition of MGC Diagnostics, a manufacturer of cardiorespiratory diagnostics systems - Represented provider of transactional communications solutions on its sale to Doxim, a portfolio company of GI Partners - Represented CAIRE, a subsidiary of NGK Spark Plugs, on its acquisition of an e-commerce seller of portable oxygen concentrators and other respiratory products - Represented manufacturer of advanced composite materials on its recapitalization - Represented provider of water and wastewater infrastructure services on its sale to Sciens Water - Represented provider of center-based, home-based, and school-based behavioral healthcare services for individuals with autism spectrum disorders on its sale to LEARN Behavioral, a portfolio company of Gryphon Investors - Represented provider of urgent care services on its merger with CRH Healthcare - Represented distributor of industrial air compressors and compressed air automation systems on its recapitalization - Represented manufacturer of domestic and imported hardwood lumber on the divestiture of its distribution business to the Rugby Architectural Building Products division of Hardwoods Distribution Inc. (TSX:HDI) - Represented vertically integrated manufacturer of technical and performance fabrics on its sale to Milliken & Company - Represented manufacturer of wakeboard towers and accessories and custom-patterned boat covers on its sale to a financial sponsor - Represented specialty mattress retailer with 130+ locations in the Midwest and Southeast on its sale to Mattress Firm',model,tokenizer)"
      ],
      "metadata": {
        "id": "gWGjZ3JfKIFs",
        "colab": {
          "base_uri": "https://localhost:8080/"
        },
        "outputId": "2b8a5ea6-8cd7-4c54-a909-b6ce7d0d8810"
      },
      "execution_count": null,
      "outputs": [
        {
          "output_type": "stream",
          "name": "stdout",
          "text": [
            "1/1 [==============================] - 0s 29ms/step\n",
            "                        % Match\n",
            "Industry                       \n",
            "Marketing             95.031947\n",
            "Data Analysis          2.004196\n",
            "Sales                  1.491909\n",
            "Operations & Finance   1.190252\n",
            "Cybersecurity & IT     0.161502\n",
            "Research Scientist     0.093128\n",
            "Software Engineering   0.026924\n"
          ]
        }
      ]
    }
  ]
}
